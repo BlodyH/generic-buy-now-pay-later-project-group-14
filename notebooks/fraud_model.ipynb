{
 "cells": [
  {
   "cell_type": "code",
   "execution_count": 2,
   "metadata": {},
   "outputs": [],
   "source": [
    "from pyspark.sql import SparkSession\n",
    "from pyspark.sql import functions as F\n",
    "import pandas as pd"
   ]
  },
  {
   "cell_type": "code",
   "execution_count": 3,
   "metadata": {},
   "outputs": [
    {
     "name": "stderr",
     "output_type": "stream",
     "text": [
      "22/09/16 10:56:54 WARN Utils: Your hostname, Xiaotongs-MacBook-Pro.local resolves to a loopback address: 127.0.0.1; using 10.13.8.134 instead (on interface en0)\n",
      "22/09/16 10:56:54 WARN Utils: Set SPARK_LOCAL_IP if you need to bind to another address\n",
      "22/09/16 10:56:55 WARN NativeCodeLoader: Unable to load native-hadoop library for your platform... using builtin-java classes where applicable\n",
      "Using Spark's default log4j profile: org/apache/spark/log4j-defaults.properties\n",
      "Setting default log level to \"WARN\".\n",
      "To adjust logging level use sc.setLogLevel(newLevel). For SparkR, use setLogLevel(newLevel).\n"
     ]
    }
   ],
   "source": [
    "# Create a spark session (which will run spark jobs)\n",
    "spark = (\n",
    "    SparkSession.builder.appName(\"MAST30034 Project 2\")\n",
    "    .config(\"spark.sql.repl.eagerEval.enabled\", True) \n",
    "    .config(\"spark.sql.parquet.cacheMetadata\", \"true\")\n",
    "    .config(\"spark.sql.session.timeZone\", \"Etc/UTC\")\n",
    "    .config(\"spark.driver.memory\", \"2g\")\n",
    "    .config(\"spark.executer.memory\", \"4g\")\n",
    "    .getOrCreate()\n",
    ")"
   ]
  },
  {
   "cell_type": "code",
   "execution_count": 34,
   "metadata": {},
   "outputs": [],
   "source": [
    "transactions = spark.read.parquet('../data/tables/transactions_20210228_20210827_snapshot')\\\n",
    "    .union(spark.read.parquet('../data/tables/transactions_20210828_20220227_snapshot'))"
   ]
  },
  {
   "cell_type": "code",
   "execution_count": 35,
   "metadata": {},
   "outputs": [],
   "source": [
    "probs_merchant = spark.read.option('header', True).csv('../data/tables/merchant_fraud_probability.csv')\n",
    "probs_consumer= spark.read.option('header', True).csv('../data/tables/consumer_fraud_probability.csv')"
   ]
  },
  {
   "cell_type": "code",
   "execution_count": 36,
   "metadata": {},
   "outputs": [
    {
     "name": "stdout",
     "output_type": "stream",
     "text": [
      "root\n",
      " |-- user_id: long (nullable = true)\n",
      " |-- merchant_abn: long (nullable = true)\n",
      " |-- dollar_value: double (nullable = true)\n",
      " |-- order_id: string (nullable = true)\n",
      " |-- order_datetime: date (nullable = true)\n",
      "\n"
     ]
    }
   ],
   "source": [
    "transactions.printSchema()"
   ]
  },
  {
   "cell_type": "code",
   "execution_count": 37,
   "metadata": {},
   "outputs": [
    {
     "name": "stdout",
     "output_type": "stream",
     "text": [
      "root\n",
      " |-- user_id: string (nullable = true)\n",
      " |-- order_datetime: string (nullable = true)\n",
      " |-- fraud_probability: string (nullable = true)\n",
      "\n"
     ]
    }
   ],
   "source": [
    "probs_consumer.printSchema()"
   ]
  },
  {
   "cell_type": "code",
   "execution_count": 38,
   "metadata": {},
   "outputs": [],
   "source": [
    "probs_consumer = probs_consumer.withColumn('user_id', F.col('user_id').cast('long'))\\\n",
    "        .withColumn('order_datetime', F.col('order_datetime').cast('date'))\\\n",
    "        .withColumn('fraud_probability', F.col('fraud_probability').cast('float'))"
   ]
  },
  {
   "cell_type": "code",
   "execution_count": 39,
   "metadata": {},
   "outputs": [
    {
     "name": "stdout",
     "output_type": "stream",
     "text": [
      "root\n",
      " |-- user_id: long (nullable = true)\n",
      " |-- order_datetime: date (nullable = true)\n",
      " |-- fraud_probability: float (nullable = true)\n",
      "\n"
     ]
    }
   ],
   "source": [
    "probs_consumer.printSchema()"
   ]
  },
  {
   "cell_type": "code",
   "execution_count": 40,
   "metadata": {},
   "outputs": [
    {
     "name": "stdout",
     "output_type": "stream",
     "text": [
      "root\n",
      " |-- merchant_abn: string (nullable = true)\n",
      " |-- order_datetime: string (nullable = true)\n",
      " |-- fraud_probability: string (nullable = true)\n",
      "\n"
     ]
    }
   ],
   "source": [
    "probs_merchant.printSchema()"
   ]
  },
  {
   "cell_type": "code",
   "execution_count": 41,
   "metadata": {},
   "outputs": [],
   "source": [
    "probs_merchant = probs_merchant.withColumn('merchant_abn', F.col('merchant_abn').cast('long'))\\\n",
    "        .withColumn('order_datetime', F.col('order_datetime').cast('date'))\\\n",
    "        .withColumn('fraud_probability', F.col('fraud_probability').cast('float'))"
   ]
  },
  {
   "cell_type": "code",
   "execution_count": 42,
   "metadata": {},
   "outputs": [
    {
     "name": "stdout",
     "output_type": "stream",
     "text": [
      "root\n",
      " |-- merchant_abn: long (nullable = true)\n",
      " |-- order_datetime: date (nullable = true)\n",
      " |-- fraud_probability: float (nullable = true)\n",
      "\n"
     ]
    }
   ],
   "source": [
    "probs_merchant.printSchema()"
   ]
  },
  {
   "cell_type": "code",
   "execution_count": 43,
   "metadata": {},
   "outputs": [
    {
     "data": {
      "text/html": [
       "<table border='1'>\n",
       "<tr><th>merchant_abn</th><th>order_datetime</th><th>fraud_probability</th></tr>\n",
       "<tr><td>19492220327</td><td>2021-11-28</td><td>44.40366</td></tr>\n",
       "<tr><td>31334588839</td><td>2021-10-02</td><td>42.755302</td></tr>\n",
       "<tr><td>19492220327</td><td>2021-12-22</td><td>38.86779</td></tr>\n",
       "<tr><td>82999039227</td><td>2021-12-19</td><td>94.1347</td></tr>\n",
       "<tr><td>90918180829</td><td>2021-09-02</td><td>43.325516</td></tr>\n",
       "<tr><td>31334588839</td><td>2021-12-26</td><td>38.36166</td></tr>\n",
       "<tr><td>23686790459</td><td>2021-12-10</td><td>79.454346</td></tr>\n",
       "<tr><td>14827550074</td><td>2021-11-26</td><td>46.457756</td></tr>\n",
       "<tr><td>31334588839</td><td>2021-11-26</td><td>36.209713</td></tr>\n",
       "<tr><td>19492220327</td><td>2021-12-18</td><td>33.81967</td></tr>\n",
       "<tr><td>31334588839</td><td>2021-11-29</td><td>35.38621</td></tr>\n",
       "<tr><td>14827550074</td><td>2021-12-05</td><td>43.855194</td></tr>\n",
       "<tr><td>19492220327</td><td>2021-11-18</td><td>32.19314</td></tr>\n",
       "<tr><td>93260930990</td><td>2021-11-30</td><td>37.87197</td></tr>\n",
       "<tr><td>90918180829</td><td>2021-09-16</td><td>36.620014</td></tr>\n",
       "<tr><td>83199298021</td><td>2022-02-27</td><td>26.025158</td></tr>\n",
       "<tr><td>83199298021</td><td>2022-02-17</td><td>25.779984</td></tr>\n",
       "<tr><td>94311056026</td><td>2021-12-16</td><td>30.851501</td></tr>\n",
       "<tr><td>97217894162</td><td>2022-01-21</td><td>34.945827</td></tr>\n",
       "<tr><td>43083074133</td><td>2021-12-18</td><td>48.668907</td></tr>\n",
       "</table>\n",
       "only showing top 20 rows\n"
      ],
      "text/plain": [
       "+------------+--------------+-----------------+\n",
       "|merchant_abn|order_datetime|fraud_probability|\n",
       "+------------+--------------+-----------------+\n",
       "| 19492220327|    2021-11-28|         44.40366|\n",
       "| 31334588839|    2021-10-02|        42.755302|\n",
       "| 19492220327|    2021-12-22|         38.86779|\n",
       "| 82999039227|    2021-12-19|          94.1347|\n",
       "| 90918180829|    2021-09-02|        43.325516|\n",
       "| 31334588839|    2021-12-26|         38.36166|\n",
       "| 23686790459|    2021-12-10|        79.454346|\n",
       "| 14827550074|    2021-11-26|        46.457756|\n",
       "| 31334588839|    2021-11-26|        36.209713|\n",
       "| 19492220327|    2021-12-18|         33.81967|\n",
       "| 31334588839|    2021-11-29|         35.38621|\n",
       "| 14827550074|    2021-12-05|        43.855194|\n",
       "| 19492220327|    2021-11-18|         32.19314|\n",
       "| 93260930990|    2021-11-30|         37.87197|\n",
       "| 90918180829|    2021-09-16|        36.620014|\n",
       "| 83199298021|    2022-02-27|        26.025158|\n",
       "| 83199298021|    2022-02-17|        25.779984|\n",
       "| 94311056026|    2021-12-16|        30.851501|\n",
       "| 97217894162|    2022-01-21|        34.945827|\n",
       "| 43083074133|    2021-12-18|        48.668907|\n",
       "+------------+--------------+-----------------+\n",
       "only showing top 20 rows"
      ]
     },
     "execution_count": 43,
     "metadata": {},
     "output_type": "execute_result"
    }
   ],
   "source": [
    "probs_merchant"
   ]
  },
  {
   "cell_type": "code",
   "execution_count": 44,
   "metadata": {},
   "outputs": [],
   "source": [
    "result = transactions.join(probs_merchant, on = ['merchant_abn', 'order_datetime'], how = 'left').withColumnRenamed('fraud_probability', 'merchant_prob')\n",
    "result = result.join(probs_consumer, on = ['user_id', 'order_datetime'], how = 'left').withColumnRenamed('fraud_probability', 'consumer_prob')"
   ]
  },
  {
   "cell_type": "code",
   "execution_count": 46,
   "metadata": {},
   "outputs": [],
   "source": [
    "result = result.na.fill(0)"
   ]
  },
  {
   "cell_type": "code",
   "execution_count": 50,
   "metadata": {},
   "outputs": [],
   "source": [
    "result = result.withColumn('is_fraud', (F.col('merchant_prob') > 50) | (F.col('consumer_prob') > 50))"
   ]
  },
  {
   "cell_type": "code",
   "execution_count": 54,
   "metadata": {},
   "outputs": [
    {
     "name": "stderr",
     "output_type": "stream",
     "text": [
      "                                                                                \r"
     ]
    },
    {
     "name": "stdout",
     "output_type": "stream",
     "text": [
      "In 8151584 transactions, 1572 are detected as fraud\n"
     ]
    },
    {
     "name": "stderr",
     "output_type": "stream",
     "text": [
      "                                                                                \r"
     ]
    }
   ],
   "source": [
    "print('In {} transactions, {} are detected as fraud'.format(result.count(), result.filter(F.col('is_fraud') == True).count()))\n"
   ]
  }
 ],
 "metadata": {
  "kernelspec": {
   "display_name": "Python 3.7.13 ('xt')",
   "language": "python",
   "name": "python3"
  },
  "language_info": {
   "codemirror_mode": {
    "name": "ipython",
    "version": 3
   },
   "file_extension": ".py",
   "mimetype": "text/x-python",
   "name": "python",
   "nbconvert_exporter": "python",
   "pygments_lexer": "ipython3",
   "version": "3.7.13"
  },
  "orig_nbformat": 4,
  "vscode": {
   "interpreter": {
    "hash": "464aeb025fe7529aa14c472f74018451d543299a7c7ff36fe116837387c8b1ec"
   }
  }
 },
 "nbformat": 4,
 "nbformat_minor": 2
}
