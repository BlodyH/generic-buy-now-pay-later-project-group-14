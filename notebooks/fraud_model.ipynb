{
 "cells": [
  {
   "cell_type": "markdown",
   "metadata": {},
   "source": [
    "# Fraud Prediction Modelling"
   ]
  },
  {
   "cell_type": "code",
   "execution_count": 1,
   "metadata": {},
   "outputs": [],
   "source": [
    "from pyspark.sql import SparkSession\n",
    "from pyspark.sql import functions as F\n",
    "import pandas as pd"
   ]
  },
  {
   "cell_type": "code",
   "execution_count": 2,
   "metadata": {},
   "outputs": [
    {
     "name": "stdout",
     "output_type": "stream",
     "text": [
      "22/09/17 02:14:34 WARN Utils: Your hostname, DESKTOP-80AOBLL resolves to a loopback address: 127.0.1.1; using 172.24.54.25 instead (on interface eth0)\n",
      "22/09/17 02:14:34 WARN Utils: Set SPARK_LOCAL_IP if you need to bind to another address\n"
     ]
    },
    {
     "name": "stderr",
     "output_type": "stream",
     "text": [
      "Setting default log level to \"WARN\".\n",
      "To adjust logging level use sc.setLogLevel(newLevel). For SparkR, use setLogLevel(newLevel).\n"
     ]
    },
    {
     "name": "stdout",
     "output_type": "stream",
     "text": [
      "22/09/17 02:14:36 WARN NativeCodeLoader: Unable to load native-hadoop library for your platform... using builtin-java classes where applicable\n"
     ]
    }
   ],
   "source": [
    "# Create a spark session (which will run spark jobs)\n",
    "spark = (\n",
    "    SparkSession.builder.appName(\"MAST30034 Project 2\")\n",
    "    .config(\"spark.sql.repl.eagerEval.enabled\", True) \n",
    "    .config(\"spark.sql.parquet.cacheMetadata\", \"true\")\n",
    "    .config(\"spark.sql.session.timeZone\", \"Etc/UTC\")\n",
    "    .config(\"spark.driver.memory\", \"2g\")\n",
    "    .config(\"spark.executer.memory\", \"4g\")\n",
    "    .getOrCreate()\n",
    ")"
   ]
  },
  {
   "cell_type": "markdown",
   "metadata": {},
   "source": [
    "## Training Dataset"
   ]
  },
  {
   "cell_type": "code",
   "execution_count": 4,
   "metadata": {},
   "outputs": [
    {
     "name": "stderr",
     "output_type": "stream",
     "text": [
      "                                                                                \r"
     ]
    }
   ],
   "source": [
    "transactions = spark.read.parquet('../data/tables/transactions_20210228_20210827_snapshot')\\\n",
    "    .union(spark.read.parquet('../data/tables/transactions_20210828_20220227_snapshot'))"
   ]
  },
  {
   "cell_type": "code",
   "execution_count": 5,
   "metadata": {},
   "outputs": [],
   "source": [
    "probs_merchant = spark.read.option('header', True).csv('../data/tables/merchant_fraud_probability.csv')\n",
    "probs_consumer= spark.read.option('header', True).csv('../data/tables/consumer_fraud_probability.csv')"
   ]
  },
  {
   "cell_type": "code",
   "execution_count": 5,
   "metadata": {},
   "outputs": [
    {
     "name": "stdout",
     "output_type": "stream",
     "text": [
      "root\n",
      " |-- user_id: long (nullable = true)\n",
      " |-- merchant_abn: long (nullable = true)\n",
      " |-- dollar_value: double (nullable = true)\n",
      " |-- order_id: string (nullable = true)\n",
      " |-- order_datetime: date (nullable = true)\n",
      "\n"
     ]
    }
   ],
   "source": [
    "transactions.printSchema()"
   ]
  },
  {
   "cell_type": "code",
   "execution_count": 6,
   "metadata": {},
   "outputs": [
    {
     "name": "stdout",
     "output_type": "stream",
     "text": [
      "root\n",
      " |-- user_id: string (nullable = true)\n",
      " |-- order_datetime: string (nullable = true)\n",
      " |-- fraud_probability: string (nullable = true)\n",
      "\n"
     ]
    }
   ],
   "source": [
    "probs_consumer.printSchema()"
   ]
  },
  {
   "cell_type": "code",
   "execution_count": 6,
   "metadata": {},
   "outputs": [],
   "source": [
    "# match the data types from transaction file for merging preparation\n",
    "probs_consumer = probs_consumer.withColumn('user_id', F.col('user_id').cast('long'))\\\n",
    "        .withColumn('order_datetime', F.col('order_datetime').cast('date'))\\\n",
    "        .withColumn('fraud_probability', F.col('fraud_probability').cast('float'))"
   ]
  },
  {
   "cell_type": "code",
   "execution_count": 8,
   "metadata": {},
   "outputs": [
    {
     "name": "stdout",
     "output_type": "stream",
     "text": [
      "root\n",
      " |-- user_id: long (nullable = true)\n",
      " |-- order_datetime: date (nullable = true)\n",
      " |-- fraud_probability: float (nullable = true)\n",
      "\n"
     ]
    }
   ],
   "source": [
    "probs_consumer.printSchema()"
   ]
  },
  {
   "cell_type": "code",
   "execution_count": 9,
   "metadata": {},
   "outputs": [
    {
     "name": "stdout",
     "output_type": "stream",
     "text": [
      "root\n",
      " |-- merchant_abn: string (nullable = true)\n",
      " |-- order_datetime: string (nullable = true)\n",
      " |-- fraud_probability: string (nullable = true)\n",
      "\n"
     ]
    }
   ],
   "source": [
    "probs_merchant.printSchema()"
   ]
  },
  {
   "cell_type": "code",
   "execution_count": 7,
   "metadata": {},
   "outputs": [],
   "source": [
    "# match the data types from transaction file for merging preparation\n",
    "probs_merchant = probs_merchant.withColumn('merchant_abn', F.col('merchant_abn').cast('long'))\\\n",
    "        .withColumn('order_datetime', F.col('order_datetime').cast('date'))\\\n",
    "        .withColumn('fraud_probability', F.col('fraud_probability').cast('float'))"
   ]
  },
  {
   "cell_type": "code",
   "execution_count": 10,
   "metadata": {},
   "outputs": [
    {
     "name": "stdout",
     "output_type": "stream",
     "text": [
      "root\n",
      " |-- merchant_abn: string (nullable = true)\n",
      " |-- order_datetime: string (nullable = true)\n",
      " |-- fraud_probability: string (nullable = true)\n",
      "\n"
     ]
    }
   ],
   "source": [
    "probs_merchant.printSchema()"
   ]
  },
  {
   "cell_type": "code",
   "execution_count": 11,
   "metadata": {},
   "outputs": [
    {
     "data": {
      "text/html": [
       "<table border='1'>\n",
       "<tr><th>merchant_abn</th><th>order_datetime</th><th>fraud_probability</th></tr>\n",
       "<tr><td>19492220327</td><td>2021-11-28</td><td>44.403658647495355</td></tr>\n",
       "<tr><td>31334588839</td><td>2021-10-02</td><td>42.75530083865367</td></tr>\n",
       "<tr><td>19492220327</td><td>2021-12-22</td><td>38.867790051131095</td></tr>\n",
       "<tr><td>82999039227</td><td>2021-12-19</td><td>94.1347004808891</td></tr>\n",
       "<tr><td>90918180829</td><td>2021-09-02</td><td>43.32551731714902</td></tr>\n",
       "<tr><td>31334588839</td><td>2021-12-26</td><td>38.36165958070444</td></tr>\n",
       "<tr><td>23686790459</td><td>2021-12-10</td><td>79.4543441508535</td></tr>\n",
       "<tr><td>14827550074</td><td>2021-11-26</td><td>46.45775596795885</td></tr>\n",
       "<tr><td>31334588839</td><td>2021-11-26</td><td>36.20971272078342</td></tr>\n",
       "<tr><td>19492220327</td><td>2021-12-18</td><td>33.819672154331755</td></tr>\n",
       "<tr><td>31334588839</td><td>2021-11-29</td><td>35.386213297375505</td></tr>\n",
       "<tr><td>14827550074</td><td>2021-12-05</td><td>43.85519494291279</td></tr>\n",
       "<tr><td>19492220327</td><td>2021-11-18</td><td>32.193139919494016</td></tr>\n",
       "<tr><td>93260930990</td><td>2021-11-30</td><td>37.87197154172081</td></tr>\n",
       "<tr><td>90918180829</td><td>2021-09-16</td><td>36.62001350882694</td></tr>\n",
       "<tr><td>83199298021</td><td>2022-02-27</td><td>26.025158824861773</td></tr>\n",
       "<tr><td>83199298021</td><td>2022-02-17</td><td>25.77998392496447</td></tr>\n",
       "<tr><td>94311056026</td><td>2021-12-16</td><td>30.85150199484772</td></tr>\n",
       "<tr><td>97217894162</td><td>2022-01-21</td><td>34.94582650821017</td></tr>\n",
       "<tr><td>43083074133</td><td>2021-12-18</td><td>48.66890735193894</td></tr>\n",
       "</table>\n",
       "only showing top 20 rows\n"
      ],
      "text/plain": [
       "+------------+--------------+------------------+\n",
       "|merchant_abn|order_datetime| fraud_probability|\n",
       "+------------+--------------+------------------+\n",
       "| 19492220327|    2021-11-28|44.403658647495355|\n",
       "| 31334588839|    2021-10-02| 42.75530083865367|\n",
       "| 19492220327|    2021-12-22|38.867790051131095|\n",
       "| 82999039227|    2021-12-19|  94.1347004808891|\n",
       "| 90918180829|    2021-09-02| 43.32551731714902|\n",
       "| 31334588839|    2021-12-26| 38.36165958070444|\n",
       "| 23686790459|    2021-12-10|  79.4543441508535|\n",
       "| 14827550074|    2021-11-26| 46.45775596795885|\n",
       "| 31334588839|    2021-11-26| 36.20971272078342|\n",
       "| 19492220327|    2021-12-18|33.819672154331755|\n",
       "| 31334588839|    2021-11-29|35.386213297375505|\n",
       "| 14827550074|    2021-12-05| 43.85519494291279|\n",
       "| 19492220327|    2021-11-18|32.193139919494016|\n",
       "| 93260930990|    2021-11-30| 37.87197154172081|\n",
       "| 90918180829|    2021-09-16| 36.62001350882694|\n",
       "| 83199298021|    2022-02-27|26.025158824861773|\n",
       "| 83199298021|    2022-02-17| 25.77998392496447|\n",
       "| 94311056026|    2021-12-16| 30.85150199484772|\n",
       "| 97217894162|    2022-01-21| 34.94582650821017|\n",
       "| 43083074133|    2021-12-18| 48.66890735193894|\n",
       "+------------+--------------+------------------+\n",
       "only showing top 20 rows"
      ]
     },
     "execution_count": 11,
     "metadata": {},
     "output_type": "execute_result"
    }
   ],
   "source": [
    "probs_merchant"
   ]
  },
  {
   "cell_type": "code",
   "execution_count": 8,
   "metadata": {},
   "outputs": [],
   "source": [
    "# merge transaction file with merchants'/consumers' fraud probability based on merchant abn or user id respectively by left join\n",
    "result = transactions.join(probs_merchant, on = ['merchant_abn', 'order_datetime'], how = 'left').withColumnRenamed('fraud_probability', 'merchant_prob')\n",
    "result = result.join(probs_consumer, on = ['user_id', 'order_datetime'], how = 'left').withColumnRenamed('fraud_probability', 'consumer_prob')"
   ]
  },
  {
   "cell_type": "code",
   "execution_count": 9,
   "metadata": {},
   "outputs": [
    {
     "data": {
      "text/html": [
       "<table border='1'>\n",
       "<tr><th>user_id</th><th>order_datetime</th><th>merchant_abn</th><th>dollar_value</th><th>order_id</th><th>merchant_prob</th><th>consumer_prob</th></tr>\n",
       "<tr><td>18478</td><td>2021-08-20</td><td>62191208634</td><td>63.255848959735246</td><td>949a63c8-29f7-4ab...</td><td>0.01</td><td>0.01</td></tr>\n",
       "<tr><td>2</td><td>2021-08-20</td><td>15549624934</td><td>130.3505283105634</td><td>6a84c3cf-612a-457...</td><td>0.01</td><td>0.01</td></tr>\n",
       "<tr><td>18479</td><td>2021-08-20</td><td>64403598239</td><td>120.15860593212783</td><td>b10dcc33-e53f-425...</td><td>0.01</td><td>0.01</td></tr>\n",
       "<tr><td>3</td><td>2021-08-20</td><td>60956456424</td><td>136.6785200286976</td><td>0f09c5a5-784e-447...</td><td>0.01</td><td>0.01</td></tr>\n",
       "<tr><td>18479</td><td>2021-08-20</td><td>94493496784</td><td>72.96316578355305</td><td>f6c78c1a-4600-4c5...</td><td>0.01</td><td>0.01</td></tr>\n",
       "<tr><td>3</td><td>2021-08-20</td><td>76819856970</td><td>448.529684285612</td><td>5ace6a24-cdf0-4aa...</td><td>0.01</td><td>0.01</td></tr>\n",
       "<tr><td>18479</td><td>2021-08-20</td><td>67609108741</td><td>86.4040605836911</td><td>d0e180f0-cb06-42a...</td><td>0.01</td><td>0.01</td></tr>\n",
       "<tr><td>3</td><td>2021-08-20</td><td>34096466752</td><td>301.5793450525113</td><td>6fb1ff48-24bb-4f9...</td><td>0.01</td><td>0.01</td></tr>\n",
       "<tr><td>18482</td><td>2021-08-20</td><td>70501974849</td><td>68.75486276223054</td><td>8505fb33-b69a-412...</td><td>0.01</td><td>0.01</td></tr>\n",
       "<tr><td>4</td><td>2021-08-20</td><td>49891706470</td><td>48.89796461900801</td><td>ed11e477-b09f-4ae...</td><td>0.01</td><td>0.01</td></tr>\n",
       "<tr><td>18482</td><td>2021-08-20</td><td>46804135891</td><td>6.6168976971833615</td><td>05b5edb5-b925-414...</td><td>0.01</td><td>0.01</td></tr>\n",
       "<tr><td>7</td><td>2021-08-20</td><td>33064796871</td><td>373.0873675184212</td><td>fe188788-b89f-4dd...</td><td>0.01</td><td>0.01</td></tr>\n",
       "<tr><td>18483</td><td>2021-08-20</td><td>44160392990</td><td>83.98473054761176</td><td>7c44302d-98b3-48b...</td><td>0.01</td><td>0.01</td></tr>\n",
       "<tr><td>7</td><td>2021-08-20</td><td>68435002949</td><td>232.5364986739752</td><td>b4a89891-a113-45e...</td><td>0.01</td><td>0.01</td></tr>\n",
       "<tr><td>18484</td><td>2021-08-20</td><td>70033549200</td><td>871.7678061729196</td><td>4b1d941a-21a1-43e...</td><td>0.01</td><td>0.01</td></tr>\n",
       "<tr><td>7</td><td>2021-08-20</td><td>41944909975</td><td>30.910755230234322</td><td>302ae628-8eba-4a5...</td><td>0.01</td><td>0.01</td></tr>\n",
       "<tr><td>18485</td><td>2021-08-20</td><td>41705715409</td><td>309.5417224575787</td><td>67f4f98e-3149-4e8...</td><td>0.01</td><td>0.01</td></tr>\n",
       "<tr><td>8</td><td>2021-08-20</td><td>29566626791</td><td>74.15732460440282</td><td>71a81652-cc91-4bf...</td><td>0.01</td><td>0.01</td></tr>\n",
       "<tr><td>18487</td><td>2021-08-20</td><td>32361057556</td><td>119.19055863068847</td><td>15577921-1104-470...</td><td>0.01</td><td>0.01</td></tr>\n",
       "<tr><td>9</td><td>2021-08-20</td><td>47663262928</td><td>36.69873283148887</td><td>c4fcb49a-ce87-4e1...</td><td>0.01</td><td>0.01</td></tr>\n",
       "</table>\n",
       "only showing top 20 rows\n"
      ],
      "text/plain": [
       "+-------+--------------+------------+------------------+--------------------+-------------+-------------+\n",
       "|user_id|order_datetime|merchant_abn|      dollar_value|            order_id|merchant_prob|consumer_prob|\n",
       "+-------+--------------+------------+------------------+--------------------+-------------+-------------+\n",
       "|  18478|    2021-08-20| 62191208634|63.255848959735246|949a63c8-29f7-4ab...|         0.01|         0.01|\n",
       "|      2|    2021-08-20| 15549624934| 130.3505283105634|6a84c3cf-612a-457...|         0.01|         0.01|\n",
       "|  18479|    2021-08-20| 64403598239|120.15860593212783|b10dcc33-e53f-425...|         0.01|         0.01|\n",
       "|      3|    2021-08-20| 60956456424| 136.6785200286976|0f09c5a5-784e-447...|         0.01|         0.01|\n",
       "|  18479|    2021-08-20| 94493496784| 72.96316578355305|f6c78c1a-4600-4c5...|         0.01|         0.01|\n",
       "|      3|    2021-08-20| 76819856970|  448.529684285612|5ace6a24-cdf0-4aa...|         0.01|         0.01|\n",
       "|  18479|    2021-08-20| 67609108741|  86.4040605836911|d0e180f0-cb06-42a...|         0.01|         0.01|\n",
       "|      3|    2021-08-20| 34096466752| 301.5793450525113|6fb1ff48-24bb-4f9...|         0.01|         0.01|\n",
       "|  18482|    2021-08-20| 70501974849| 68.75486276223054|8505fb33-b69a-412...|         0.01|         0.01|\n",
       "|      4|    2021-08-20| 49891706470| 48.89796461900801|ed11e477-b09f-4ae...|         0.01|         0.01|\n",
       "|  18482|    2021-08-20| 46804135891|6.6168976971833615|05b5edb5-b925-414...|         0.01|         0.01|\n",
       "|      7|    2021-08-20| 33064796871| 373.0873675184212|fe188788-b89f-4dd...|         0.01|         0.01|\n",
       "|  18483|    2021-08-20| 44160392990| 83.98473054761176|7c44302d-98b3-48b...|         0.01|         0.01|\n",
       "|      7|    2021-08-20| 68435002949| 232.5364986739752|b4a89891-a113-45e...|         0.01|         0.01|\n",
       "|  18484|    2021-08-20| 70033549200| 871.7678061729196|4b1d941a-21a1-43e...|         0.01|         0.01|\n",
       "|      7|    2021-08-20| 41944909975|30.910755230234322|302ae628-8eba-4a5...|         0.01|         0.01|\n",
       "|  18485|    2021-08-20| 41705715409| 309.5417224575787|67f4f98e-3149-4e8...|         0.01|         0.01|\n",
       "|      8|    2021-08-20| 29566626791| 74.15732460440282|71a81652-cc91-4bf...|         0.01|         0.01|\n",
       "|  18487|    2021-08-20| 32361057556|119.19055863068847|15577921-1104-470...|         0.01|         0.01|\n",
       "|      9|    2021-08-20| 47663262928| 36.69873283148887|c4fcb49a-ce87-4e1...|         0.01|         0.01|\n",
       "+-------+--------------+------------+------------------+--------------------+-------------+-------------+\n",
       "only showing top 20 rows"
      ]
     },
     "execution_count": 9,
     "metadata": {},
     "output_type": "execute_result"
    }
   ],
   "source": [
    "# replace all the missing value with 0.01 as default fraud prob\n",
    "result = result.na.fill(value=0.01, subset=['merchant_prob', 'consumer_prob'])\n",
    "result"
   ]
  },
  {
   "cell_type": "code",
   "execution_count": 10,
   "metadata": {},
   "outputs": [
    {
     "data": {
      "text/html": [
       "<table border='1'>\n",
       "<tr><th>user_id</th><th>order_datetime</th><th>merchant_abn</th><th>dollar_value</th><th>order_id</th><th>merchant_prob</th><th>consumer_prob</th><th>is_fraud</th></tr>\n",
       "<tr><td>18478</td><td>2021-08-20</td><td>62191208634</td><td>63.255848959735246</td><td>949a63c8-29f7-4ab...</td><td>0.01</td><td>0.01</td><td>false</td></tr>\n",
       "<tr><td>2</td><td>2021-08-20</td><td>15549624934</td><td>130.3505283105634</td><td>6a84c3cf-612a-457...</td><td>0.01</td><td>0.01</td><td>false</td></tr>\n",
       "<tr><td>18479</td><td>2021-08-20</td><td>64403598239</td><td>120.15860593212783</td><td>b10dcc33-e53f-425...</td><td>0.01</td><td>0.01</td><td>false</td></tr>\n",
       "<tr><td>3</td><td>2021-08-20</td><td>60956456424</td><td>136.6785200286976</td><td>0f09c5a5-784e-447...</td><td>0.01</td><td>0.01</td><td>false</td></tr>\n",
       "<tr><td>18479</td><td>2021-08-20</td><td>94493496784</td><td>72.96316578355305</td><td>f6c78c1a-4600-4c5...</td><td>0.01</td><td>0.01</td><td>false</td></tr>\n",
       "<tr><td>3</td><td>2021-08-20</td><td>76819856970</td><td>448.529684285612</td><td>5ace6a24-cdf0-4aa...</td><td>0.01</td><td>0.01</td><td>false</td></tr>\n",
       "<tr><td>18479</td><td>2021-08-20</td><td>67609108741</td><td>86.4040605836911</td><td>d0e180f0-cb06-42a...</td><td>0.01</td><td>0.01</td><td>false</td></tr>\n",
       "<tr><td>3</td><td>2021-08-20</td><td>34096466752</td><td>301.5793450525113</td><td>6fb1ff48-24bb-4f9...</td><td>0.01</td><td>0.01</td><td>false</td></tr>\n",
       "<tr><td>18482</td><td>2021-08-20</td><td>70501974849</td><td>68.75486276223054</td><td>8505fb33-b69a-412...</td><td>0.01</td><td>0.01</td><td>false</td></tr>\n",
       "<tr><td>4</td><td>2021-08-20</td><td>49891706470</td><td>48.89796461900801</td><td>ed11e477-b09f-4ae...</td><td>0.01</td><td>0.01</td><td>false</td></tr>\n",
       "<tr><td>18482</td><td>2021-08-20</td><td>46804135891</td><td>6.6168976971833615</td><td>05b5edb5-b925-414...</td><td>0.01</td><td>0.01</td><td>false</td></tr>\n",
       "<tr><td>7</td><td>2021-08-20</td><td>33064796871</td><td>373.0873675184212</td><td>fe188788-b89f-4dd...</td><td>0.01</td><td>0.01</td><td>false</td></tr>\n",
       "<tr><td>18483</td><td>2021-08-20</td><td>44160392990</td><td>83.98473054761176</td><td>7c44302d-98b3-48b...</td><td>0.01</td><td>0.01</td><td>false</td></tr>\n",
       "<tr><td>7</td><td>2021-08-20</td><td>68435002949</td><td>232.5364986739752</td><td>b4a89891-a113-45e...</td><td>0.01</td><td>0.01</td><td>false</td></tr>\n",
       "<tr><td>18484</td><td>2021-08-20</td><td>70033549200</td><td>871.7678061729196</td><td>4b1d941a-21a1-43e...</td><td>0.01</td><td>0.01</td><td>false</td></tr>\n",
       "<tr><td>7</td><td>2021-08-20</td><td>41944909975</td><td>30.910755230234322</td><td>302ae628-8eba-4a5...</td><td>0.01</td><td>0.01</td><td>false</td></tr>\n",
       "<tr><td>18485</td><td>2021-08-20</td><td>41705715409</td><td>309.5417224575787</td><td>67f4f98e-3149-4e8...</td><td>0.01</td><td>0.01</td><td>false</td></tr>\n",
       "<tr><td>8</td><td>2021-08-20</td><td>29566626791</td><td>74.15732460440282</td><td>71a81652-cc91-4bf...</td><td>0.01</td><td>0.01</td><td>false</td></tr>\n",
       "<tr><td>18487</td><td>2021-08-20</td><td>32361057556</td><td>119.19055863068847</td><td>15577921-1104-470...</td><td>0.01</td><td>0.01</td><td>false</td></tr>\n",
       "<tr><td>9</td><td>2021-08-20</td><td>47663262928</td><td>36.69873283148887</td><td>c4fcb49a-ce87-4e1...</td><td>0.01</td><td>0.01</td><td>false</td></tr>\n",
       "</table>\n",
       "only showing top 20 rows\n"
      ],
      "text/plain": [
       "+-------+--------------+------------+------------------+--------------------+-------------+-------------+--------+\n",
       "|user_id|order_datetime|merchant_abn|      dollar_value|            order_id|merchant_prob|consumer_prob|is_fraud|\n",
       "+-------+--------------+------------+------------------+--------------------+-------------+-------------+--------+\n",
       "|  18478|    2021-08-20| 62191208634|63.255848959735246|949a63c8-29f7-4ab...|         0.01|         0.01|   false|\n",
       "|      2|    2021-08-20| 15549624934| 130.3505283105634|6a84c3cf-612a-457...|         0.01|         0.01|   false|\n",
       "|  18479|    2021-08-20| 64403598239|120.15860593212783|b10dcc33-e53f-425...|         0.01|         0.01|   false|\n",
       "|      3|    2021-08-20| 60956456424| 136.6785200286976|0f09c5a5-784e-447...|         0.01|         0.01|   false|\n",
       "|  18479|    2021-08-20| 94493496784| 72.96316578355305|f6c78c1a-4600-4c5...|         0.01|         0.01|   false|\n",
       "|      3|    2021-08-20| 76819856970|  448.529684285612|5ace6a24-cdf0-4aa...|         0.01|         0.01|   false|\n",
       "|  18479|    2021-08-20| 67609108741|  86.4040605836911|d0e180f0-cb06-42a...|         0.01|         0.01|   false|\n",
       "|      3|    2021-08-20| 34096466752| 301.5793450525113|6fb1ff48-24bb-4f9...|         0.01|         0.01|   false|\n",
       "|  18482|    2021-08-20| 70501974849| 68.75486276223054|8505fb33-b69a-412...|         0.01|         0.01|   false|\n",
       "|      4|    2021-08-20| 49891706470| 48.89796461900801|ed11e477-b09f-4ae...|         0.01|         0.01|   false|\n",
       "|  18482|    2021-08-20| 46804135891|6.6168976971833615|05b5edb5-b925-414...|         0.01|         0.01|   false|\n",
       "|      7|    2021-08-20| 33064796871| 373.0873675184212|fe188788-b89f-4dd...|         0.01|         0.01|   false|\n",
       "|  18483|    2021-08-20| 44160392990| 83.98473054761176|7c44302d-98b3-48b...|         0.01|         0.01|   false|\n",
       "|      7|    2021-08-20| 68435002949| 232.5364986739752|b4a89891-a113-45e...|         0.01|         0.01|   false|\n",
       "|  18484|    2021-08-20| 70033549200| 871.7678061729196|4b1d941a-21a1-43e...|         0.01|         0.01|   false|\n",
       "|      7|    2021-08-20| 41944909975|30.910755230234322|302ae628-8eba-4a5...|         0.01|         0.01|   false|\n",
       "|  18485|    2021-08-20| 41705715409| 309.5417224575787|67f4f98e-3149-4e8...|         0.01|         0.01|   false|\n",
       "|      8|    2021-08-20| 29566626791| 74.15732460440282|71a81652-cc91-4bf...|         0.01|         0.01|   false|\n",
       "|  18487|    2021-08-20| 32361057556|119.19055863068847|15577921-1104-470...|         0.01|         0.01|   false|\n",
       "|      9|    2021-08-20| 47663262928| 36.69873283148887|c4fcb49a-ce87-4e1...|         0.01|         0.01|   false|\n",
       "+-------+--------------+------------+------------------+--------------------+-------------+-------------+--------+\n",
       "only showing top 20 rows"
      ]
     },
     "execution_count": 10,
     "metadata": {},
     "output_type": "execute_result"
    }
   ],
   "source": [
    "# 50% fraud probility is used as the benchmark for checking fraud transaction\n",
    "# transactions with either consumer/merchant fraud probability strictly higher than 50% will be considered as fraud data\n",
    "result = result.withColumn('is_fraud', F.when((F.col('merchant_prob') > 50) | (F.col('consumer_prob') > 50), True).otherwise(False))\n",
    "result"
   ]
  },
  {
   "cell_type": "code",
   "execution_count": 11,
   "metadata": {},
   "outputs": [
    {
     "name": "stderr",
     "output_type": "stream",
     "text": [
      "[Stage 25:=====================================================>  (23 + 1) / 24]\r"
     ]
    },
    {
     "name": "stdout",
     "output_type": "stream",
     "text": [
      "In 8151584 transactions, 1572 are detected as fraud\n"
     ]
    },
    {
     "name": "stderr",
     "output_type": "stream",
     "text": [
      "                                                                                \r"
     ]
    }
   ],
   "source": [
    "print('In {} transactions, {} are detected as fraud'.format(result.count(), result.filter(F.col('is_fraud') == True).count()))"
   ]
  },
  {
   "cell_type": "code",
   "execution_count": 14,
   "metadata": {},
   "outputs": [
    {
     "name": "stderr",
     "output_type": "stream",
     "text": [
      "                                                                                \r"
     ]
    },
    {
     "data": {
      "text/plain": [
       "0"
      ]
     },
     "execution_count": 14,
     "metadata": {},
     "output_type": "execute_result"
    }
   ],
   "source": [
    "result.filter((F.col('merchant_prob') == 50) | (F.col('consumer_prob') == 50)).count()"
   ]
  },
  {
   "cell_type": "code",
   "execution_count": 13,
   "metadata": {},
   "outputs": [
    {
     "name": "stderr",
     "output_type": "stream",
     "text": [
      "                                                                                \r"
     ]
    }
   ],
   "source": [
    "# save the training dataset as parquet\n",
    "(result.drop('order_id')).write.parquet('../data/curated/transaction_fraud_prob_training.parquet')"
   ]
  },
  {
   "cell_type": "markdown",
   "metadata": {},
   "source": [
    "## Prediction Models\n",
    "\n",
    "Since prediction outputs should be discrete labels (True or False for fraud checking), classification models are selected:\n",
    "1. Naive Bayes Models\n",
    "2. Logistic Regression\n",
    "3. Support Vector Machines (SVMs)\n",
    "4. Clustering Analysis"
   ]
  },
  {
   "cell_type": "markdown",
   "metadata": {},
   "source": [
    "### Split Dataset"
   ]
  },
  {
   "cell_type": "code",
   "execution_count": 1,
   "metadata": {},
   "outputs": [],
   "source": [
    "import numpy as np\n",
    "from sklearn.model_selection import train_test_split, KFold"
   ]
  },
  {
   "cell_type": "code",
   "execution_count": 4,
   "metadata": {},
   "outputs": [
    {
     "name": "stderr",
     "output_type": "stream",
     "text": [
      "                                                                                \r"
     ]
    }
   ],
   "source": [
    "result = spark.read.parquet('../data/curated/transaction_fraud_prob_training.parquet')"
   ]
  },
  {
   "cell_type": "markdown",
   "metadata": {},
   "source": [
    "## Lois电脑爆炸了 不知道16gb的内存够不够 可以晚点你(如果你电脑是16gb)试试\n",
    "先跑y 如果y跑不了就更别提x了"
   ]
  },
  {
   "cell_type": "code",
   "execution_count": 5,
   "metadata": {},
   "outputs": [
    {
     "ename": "AttributeError",
     "evalue": "'DataFrame' object has no attribute 'values'",
     "output_type": "error",
     "traceback": [
      "\u001b[0;31m---------------------------------------------------------------------------\u001b[0m",
      "\u001b[0;31mAttributeError\u001b[0m                            Traceback (most recent call last)",
      "\u001b[1;32m/mnt/d/Unimelb/3.S2/ads/asmt2/github/generic-buy-now-pay-later-project-group-14/notebooks/fraud_model.ipynb Cell 25\u001b[0m in \u001b[0;36m<cell line: 2>\u001b[0;34m()\u001b[0m\n\u001b[1;32m      <a href='vscode-notebook-cell://wsl%2Bubuntu-20.04/mnt/d/Unimelb/3.S2/ads/asmt2/github/generic-buy-now-pay-later-project-group-14/notebooks/fraud_model.ipynb#X33sdnNjb2RlLXJlbW90ZQ%3D%3D?line=0'>1</a>\u001b[0m \u001b[39m# create attributes and labels\u001b[39;00m\n\u001b[0;32m----> <a href='vscode-notebook-cell://wsl%2Bubuntu-20.04/mnt/d/Unimelb/3.S2/ads/asmt2/github/generic-buy-now-pay-later-project-group-14/notebooks/fraud_model.ipynb#X33sdnNjb2RlLXJlbW90ZQ%3D%3D?line=1'>2</a>\u001b[0m X \u001b[39m=\u001b[39m result\u001b[39m.\u001b[39;49mselect(result\u001b[39m.\u001b[39;49mcolumns[:\u001b[39m-\u001b[39;49m\u001b[39m1\u001b[39;49m])\u001b[39m.\u001b[39;49mvalues\n\u001b[1;32m      <a href='vscode-notebook-cell://wsl%2Bubuntu-20.04/mnt/d/Unimelb/3.S2/ads/asmt2/github/generic-buy-now-pay-later-project-group-14/notebooks/fraud_model.ipynb#X33sdnNjb2RlLXJlbW90ZQ%3D%3D?line=2'>3</a>\u001b[0m \u001b[39m#y = result.select(result.columns[-1])\u001b[39;00m\n\u001b[1;32m      <a href='vscode-notebook-cell://wsl%2Bubuntu-20.04/mnt/d/Unimelb/3.S2/ads/asmt2/github/generic-buy-now-pay-later-project-group-14/notebooks/fraud_model.ipynb#X33sdnNjb2RlLXJlbW90ZQ%3D%3D?line=3'>4</a>\u001b[0m X\n",
      "File \u001b[0;32m~/.local/lib/python3.8/site-packages/pyspark/sql/dataframe.py:1988\u001b[0m, in \u001b[0;36mDataFrame.__getattr__\u001b[0;34m(self, name)\u001b[0m\n\u001b[1;32m   1978\u001b[0m \u001b[39m\"\"\"Returns the :class:`Column` denoted by ``name``.\u001b[39;00m\n\u001b[1;32m   1979\u001b[0m \n\u001b[1;32m   1980\u001b[0m \u001b[39m.. versionadded:: 1.3.0\u001b[39;00m\n\u001b[0;32m   (...)\u001b[0m\n\u001b[1;32m   1985\u001b[0m \u001b[39m[Row(age=2), Row(age=5)]\u001b[39;00m\n\u001b[1;32m   1986\u001b[0m \u001b[39m\"\"\"\u001b[39;00m\n\u001b[1;32m   1987\u001b[0m \u001b[39mif\u001b[39;00m name \u001b[39mnot\u001b[39;00m \u001b[39min\u001b[39;00m \u001b[39mself\u001b[39m\u001b[39m.\u001b[39mcolumns:\n\u001b[0;32m-> 1988\u001b[0m     \u001b[39mraise\u001b[39;00m \u001b[39mAttributeError\u001b[39;00m(\n\u001b[1;32m   1989\u001b[0m         \u001b[39m\"\u001b[39m\u001b[39m'\u001b[39m\u001b[39m%s\u001b[39;00m\u001b[39m'\u001b[39m\u001b[39m object has no attribute \u001b[39m\u001b[39m'\u001b[39m\u001b[39m%s\u001b[39;00m\u001b[39m'\u001b[39m\u001b[39m\"\u001b[39m \u001b[39m%\u001b[39m (\u001b[39mself\u001b[39m\u001b[39m.\u001b[39m\u001b[39m__class__\u001b[39m\u001b[39m.\u001b[39m\u001b[39m__name__\u001b[39m, name)\n\u001b[1;32m   1990\u001b[0m     )\n\u001b[1;32m   1991\u001b[0m jc \u001b[39m=\u001b[39m \u001b[39mself\u001b[39m\u001b[39m.\u001b[39m_jdf\u001b[39m.\u001b[39mapply(name)\n\u001b[1;32m   1992\u001b[0m \u001b[39mreturn\u001b[39;00m Column(jc)\n",
      "\u001b[0;31mAttributeError\u001b[0m: 'DataFrame' object has no attribute 'values'"
     ]
    }
   ],
   "source": [
    "# create attributes and labels\n",
    "#X = np.array(result.select(result.columns[:-1]).collect())\n",
    "y = np.array(result.select(result.columns[-1]).collect())\n",
    "y"
   ]
  },
  {
   "cell_type": "code",
   "execution_count": 11,
   "metadata": {},
   "outputs": [
    {
     "ename": "TypeError",
     "evalue": "Singleton array array(+-------+--------------+------------+------------------+-------------+-------------+\n|user_id|order_datetime|merchant_abn|      dollar_value|merchant_prob|consumer_prob|\n+-------+--------------+------------+------------------+-------------+-------------+\n|  14935|    2021-11-26| 79417999332|136.06570809815838|         0.01|         0.01|\n|      1|    2021-11-26| 46451548968| 72.61581642788431|         0.01|         0.01|\n|  14936|    2021-11-26| 89518629617|3.0783487174439297|         0.01|         0.01|\n|      1|    2021-11-26| 49167531725| 51.58228625503599|         0.01|         0.01|\n|  14936|    2021-11-26| 31101120643|25.228114942417797|         0.01|         0.01|\n|      2|    2021-11-26| 67978471888| 691.5028234458998|         0.01|         0.01|\n|  14936|    2021-11-26| 60956456424|102.13952056640888|         0.01|         0.01|\n|      2|    2021-11-26| 47644196714| 644.5220654863093|         0.01|         0.01|\n|  14938|    2021-11-26| 39649557865|209.12780951421405|    28.690205|         0.01|\n|      3|    2021-11-26| 88402174457| 141.0387993699113|         0.01|         0.01|\n|  14938|    2021-11-26| 32234779638|102.04090324888061|         0.01|         0.01|\n|      4|    2021-11-26| 24015173965|             157.0|         0.01|         0.01|\n|  14939|    2021-11-26| 79830510987|246.13590152514766|         0.01|         0.01|\n|      5|    2021-11-26| 76646764782|35.463129852951695|         0.01|         0.01|\n|  14939|    2021-11-26| 17324645993|24.108258533478818|         0.01|         0.01|\n|      5|    2021-11-26| 71041015148| 89.76800577775657|         0.01|         0.01|\n|  14939|    2021-11-26| 75089928159|14.806519329659501|         0.01|         0.01|\n|      5|    2021-11-26| 80324045558| 62.79195913018835|         0.01|         0.01|\n|  14939|    2021-11-26| 50315283629| 575.3321071340728|    29.088158|         0.01|\n|      6|    2021-11-26| 11566786699|15.856637357709419|         0.01|         0.01|\n+-------+--------------+------------+------------------+-------------+-------------+\nonly showing top 20 rows\n, dtype=object) cannot be considered a valid collection.",
     "output_type": "error",
     "traceback": [
      "\u001b[0;31m---------------------------------------------------------------------------\u001b[0m",
      "\u001b[0;31mTypeError\u001b[0m                                 Traceback (most recent call last)",
      "\u001b[1;32m/mnt/d/Unimelb/3.S2/ads/asmt2/github/generic-buy-now-pay-later-project-group-14/notebooks/fraud_model.ipynb Cell 26\u001b[0m in \u001b[0;36m<cell line: 12>\u001b[0;34m()\u001b[0m\n\u001b[1;32m     <a href='vscode-notebook-cell://wsl%2Bubuntu-20.04/mnt/d/Unimelb/3.S2/ads/asmt2/github/generic-buy-now-pay-later-project-group-14/notebooks/fraud_model.ipynb#X34sdnNjb2RlLXJlbW90ZQ%3D%3D?line=9'>10</a>\u001b[0m bnb \u001b[39m=\u001b[39m BernoulliNB()\n\u001b[1;32m     <a href='vscode-notebook-cell://wsl%2Bubuntu-20.04/mnt/d/Unimelb/3.S2/ads/asmt2/github/generic-buy-now-pay-later-project-group-14/notebooks/fraud_model.ipynb#X34sdnNjb2RlLXJlbW90ZQ%3D%3D?line=11'>12</a>\u001b[0m \u001b[39mfor\u001b[39;00m i \u001b[39min\u001b[39;00m \u001b[39mrange\u001b[39m(\u001b[39m3\u001b[39m):\n\u001b[0;32m---> <a href='vscode-notebook-cell://wsl%2Bubuntu-20.04/mnt/d/Unimelb/3.S2/ads/asmt2/github/generic-buy-now-pay-later-project-group-14/notebooks/fraud_model.ipynb#X34sdnNjb2RlLXJlbW90ZQ%3D%3D?line=12'>13</a>\u001b[0m     X_train, X_test, y_train, y_test \u001b[39m=\u001b[39m train_test_split(X, y, test_size\u001b[39m=\u001b[39;49m\u001b[39m0.33\u001b[39;49m, random_state\u001b[39m=\u001b[39;49mi)\n\u001b[1;32m     <a href='vscode-notebook-cell://wsl%2Bubuntu-20.04/mnt/d/Unimelb/3.S2/ads/asmt2/github/generic-buy-now-pay-later-project-group-14/notebooks/fraud_model.ipynb#X34sdnNjb2RlLXJlbW90ZQ%3D%3D?line=13'>14</a>\u001b[0m     gnb\u001b[39m.\u001b[39mfit(X_train, y_train)\n\u001b[1;32m     <a href='vscode-notebook-cell://wsl%2Bubuntu-20.04/mnt/d/Unimelb/3.S2/ads/asmt2/github/generic-buy-now-pay-later-project-group-14/notebooks/fraud_model.ipynb#X34sdnNjb2RlLXJlbW90ZQ%3D%3D?line=14'>15</a>\u001b[0m     acc \u001b[39m=\u001b[39m gnb\u001b[39m.\u001b[39mscore(X_test, y_test)\n",
      "File \u001b[0;32m~/.local/lib/python3.8/site-packages/sklearn/model_selection/_split.py:2445\u001b[0m, in \u001b[0;36mtrain_test_split\u001b[0;34m(test_size, train_size, random_state, shuffle, stratify, *arrays)\u001b[0m\n\u001b[1;32m   2442\u001b[0m \u001b[39mif\u001b[39;00m n_arrays \u001b[39m==\u001b[39m \u001b[39m0\u001b[39m:\n\u001b[1;32m   2443\u001b[0m     \u001b[39mraise\u001b[39;00m \u001b[39mValueError\u001b[39;00m(\u001b[39m\"\u001b[39m\u001b[39mAt least one array required as input\u001b[39m\u001b[39m\"\u001b[39m)\n\u001b[0;32m-> 2445\u001b[0m arrays \u001b[39m=\u001b[39m indexable(\u001b[39m*\u001b[39;49marrays)\n\u001b[1;32m   2447\u001b[0m n_samples \u001b[39m=\u001b[39m _num_samples(arrays[\u001b[39m0\u001b[39m])\n\u001b[1;32m   2448\u001b[0m n_train, n_test \u001b[39m=\u001b[39m _validate_shuffle_split(\n\u001b[1;32m   2449\u001b[0m     n_samples, test_size, train_size, default_test_size\u001b[39m=\u001b[39m\u001b[39m0.25\u001b[39m\n\u001b[1;32m   2450\u001b[0m )\n",
      "File \u001b[0;32m~/.local/lib/python3.8/site-packages/sklearn/utils/validation.py:433\u001b[0m, in \u001b[0;36mindexable\u001b[0;34m(*iterables)\u001b[0m\n\u001b[1;32m    414\u001b[0m \u001b[39m\"\"\"Make arrays indexable for cross-validation.\u001b[39;00m\n\u001b[1;32m    415\u001b[0m \n\u001b[1;32m    416\u001b[0m \u001b[39mChecks consistent length, passes through None, and ensures that everything\u001b[39;00m\n\u001b[0;32m   (...)\u001b[0m\n\u001b[1;32m    429\u001b[0m \u001b[39m    sparse matrix, or dataframe) or `None`.\u001b[39;00m\n\u001b[1;32m    430\u001b[0m \u001b[39m\"\"\"\u001b[39;00m\n\u001b[1;32m    432\u001b[0m result \u001b[39m=\u001b[39m [_make_indexable(X) \u001b[39mfor\u001b[39;00m X \u001b[39min\u001b[39;00m iterables]\n\u001b[0;32m--> 433\u001b[0m check_consistent_length(\u001b[39m*\u001b[39;49mresult)\n\u001b[1;32m    434\u001b[0m \u001b[39mreturn\u001b[39;00m result\n",
      "File \u001b[0;32m~/.local/lib/python3.8/site-packages/sklearn/utils/validation.py:384\u001b[0m, in \u001b[0;36mcheck_consistent_length\u001b[0;34m(*arrays)\u001b[0m\n\u001b[1;32m    373\u001b[0m \u001b[39mdef\u001b[39;00m \u001b[39mcheck_consistent_length\u001b[39m(\u001b[39m*\u001b[39marrays):\n\u001b[1;32m    374\u001b[0m     \u001b[39m\"\"\"Check that all arrays have consistent first dimensions.\u001b[39;00m\n\u001b[1;32m    375\u001b[0m \n\u001b[1;32m    376\u001b[0m \u001b[39m    Checks whether all objects in arrays have the same shape or length.\u001b[39;00m\n\u001b[0;32m   (...)\u001b[0m\n\u001b[1;32m    381\u001b[0m \u001b[39m        Objects that will be checked for consistent length.\u001b[39;00m\n\u001b[1;32m    382\u001b[0m \u001b[39m    \"\"\"\u001b[39;00m\n\u001b[0;32m--> 384\u001b[0m     lengths \u001b[39m=\u001b[39m [_num_samples(X) \u001b[39mfor\u001b[39;00m X \u001b[39min\u001b[39;00m arrays \u001b[39mif\u001b[39;00m X \u001b[39mis\u001b[39;00m \u001b[39mnot\u001b[39;00m \u001b[39mNone\u001b[39;00m]\n\u001b[1;32m    385\u001b[0m     uniques \u001b[39m=\u001b[39m np\u001b[39m.\u001b[39munique(lengths)\n\u001b[1;32m    386\u001b[0m     \u001b[39mif\u001b[39;00m \u001b[39mlen\u001b[39m(uniques) \u001b[39m>\u001b[39m \u001b[39m1\u001b[39m:\n",
      "File \u001b[0;32m~/.local/lib/python3.8/site-packages/sklearn/utils/validation.py:384\u001b[0m, in \u001b[0;36m<listcomp>\u001b[0;34m(.0)\u001b[0m\n\u001b[1;32m    373\u001b[0m \u001b[39mdef\u001b[39;00m \u001b[39mcheck_consistent_length\u001b[39m(\u001b[39m*\u001b[39marrays):\n\u001b[1;32m    374\u001b[0m     \u001b[39m\"\"\"Check that all arrays have consistent first dimensions.\u001b[39;00m\n\u001b[1;32m    375\u001b[0m \n\u001b[1;32m    376\u001b[0m \u001b[39m    Checks whether all objects in arrays have the same shape or length.\u001b[39;00m\n\u001b[0;32m   (...)\u001b[0m\n\u001b[1;32m    381\u001b[0m \u001b[39m        Objects that will be checked for consistent length.\u001b[39;00m\n\u001b[1;32m    382\u001b[0m \u001b[39m    \"\"\"\u001b[39;00m\n\u001b[0;32m--> 384\u001b[0m     lengths \u001b[39m=\u001b[39m [_num_samples(X) \u001b[39mfor\u001b[39;00m X \u001b[39min\u001b[39;00m arrays \u001b[39mif\u001b[39;00m X \u001b[39mis\u001b[39;00m \u001b[39mnot\u001b[39;00m \u001b[39mNone\u001b[39;00m]\n\u001b[1;32m    385\u001b[0m     uniques \u001b[39m=\u001b[39m np\u001b[39m.\u001b[39munique(lengths)\n\u001b[1;32m    386\u001b[0m     \u001b[39mif\u001b[39;00m \u001b[39mlen\u001b[39m(uniques) \u001b[39m>\u001b[39m \u001b[39m1\u001b[39m:\n",
      "File \u001b[0;32m~/.local/lib/python3.8/site-packages/sklearn/utils/validation.py:325\u001b[0m, in \u001b[0;36m_num_samples\u001b[0;34m(x)\u001b[0m\n\u001b[1;32m    323\u001b[0m \u001b[39mif\u001b[39;00m \u001b[39mhasattr\u001b[39m(x, \u001b[39m\"\u001b[39m\u001b[39mshape\u001b[39m\u001b[39m\"\u001b[39m) \u001b[39mand\u001b[39;00m x\u001b[39m.\u001b[39mshape \u001b[39mis\u001b[39;00m \u001b[39mnot\u001b[39;00m \u001b[39mNone\u001b[39;00m:\n\u001b[1;32m    324\u001b[0m     \u001b[39mif\u001b[39;00m \u001b[39mlen\u001b[39m(x\u001b[39m.\u001b[39mshape) \u001b[39m==\u001b[39m \u001b[39m0\u001b[39m:\n\u001b[0;32m--> 325\u001b[0m         \u001b[39mraise\u001b[39;00m \u001b[39mTypeError\u001b[39;00m(\n\u001b[1;32m    326\u001b[0m             \u001b[39m\"\u001b[39m\u001b[39mSingleton array \u001b[39m\u001b[39m%r\u001b[39;00m\u001b[39m cannot be considered a valid collection.\u001b[39m\u001b[39m\"\u001b[39m \u001b[39m%\u001b[39m x\n\u001b[1;32m    327\u001b[0m         )\n\u001b[1;32m    328\u001b[0m     \u001b[39m# Check that shape is returning an integer or default to len\u001b[39;00m\n\u001b[1;32m    329\u001b[0m     \u001b[39m# Dask dataframes may not return numeric shape[0] value\u001b[39;00m\n\u001b[1;32m    330\u001b[0m     \u001b[39mif\u001b[39;00m \u001b[39misinstance\u001b[39m(x\u001b[39m.\u001b[39mshape[\u001b[39m0\u001b[39m], numbers\u001b[39m.\u001b[39mIntegral):\n",
      "\u001b[0;31mTypeError\u001b[0m: Singleton array array(+-------+--------------+------------+------------------+-------------+-------------+\n|user_id|order_datetime|merchant_abn|      dollar_value|merchant_prob|consumer_prob|\n+-------+--------------+------------+------------------+-------------+-------------+\n|  14935|    2021-11-26| 79417999332|136.06570809815838|         0.01|         0.01|\n|      1|    2021-11-26| 46451548968| 72.61581642788431|         0.01|         0.01|\n|  14936|    2021-11-26| 89518629617|3.0783487174439297|         0.01|         0.01|\n|      1|    2021-11-26| 49167531725| 51.58228625503599|         0.01|         0.01|\n|  14936|    2021-11-26| 31101120643|25.228114942417797|         0.01|         0.01|\n|      2|    2021-11-26| 67978471888| 691.5028234458998|         0.01|         0.01|\n|  14936|    2021-11-26| 60956456424|102.13952056640888|         0.01|         0.01|\n|      2|    2021-11-26| 47644196714| 644.5220654863093|         0.01|         0.01|\n|  14938|    2021-11-26| 39649557865|209.12780951421405|    28.690205|         0.01|\n|      3|    2021-11-26| 88402174457| 141.0387993699113|         0.01|         0.01|\n|  14938|    2021-11-26| 32234779638|102.04090324888061|         0.01|         0.01|\n|      4|    2021-11-26| 24015173965|             157.0|         0.01|         0.01|\n|  14939|    2021-11-26| 79830510987|246.13590152514766|         0.01|         0.01|\n|      5|    2021-11-26| 76646764782|35.463129852951695|         0.01|         0.01|\n|  14939|    2021-11-26| 17324645993|24.108258533478818|         0.01|         0.01|\n|      5|    2021-11-26| 71041015148| 89.76800577775657|         0.01|         0.01|\n|  14939|    2021-11-26| 75089928159|14.806519329659501|         0.01|         0.01|\n|      5|    2021-11-26| 80324045558| 62.79195913018835|         0.01|         0.01|\n|  14939|    2021-11-26| 50315283629| 575.3321071340728|    29.088158|         0.01|\n|      6|    2021-11-26| 11566786699|15.856637357709419|         0.01|         0.01|\n+-------+--------------+------------+------------------+-------------+-------------+\nonly showing top 20 rows\n, dtype=object) cannot be considered a valid collection."
     ]
    }
   ],
   "source": [
    "import sklearn.naive_bayes as nb\n",
    "##print(dir(nb))\n",
    "from sklearn.naive_bayes import GaussianNB, MultinomialNB, BernoulliNB\n",
    "\n",
    "gnb = GaussianNB()\n",
    "mnb = MultinomialNB()\n",
    "bnb = BernoulliNB()\n",
    "\n",
    "X_train, X_test, y_train, y_test = train_test_split(X, y, test_size=0.22, random_state=30034)\n",
    "gnb.fit(X_train, y_train)\n",
    "acc = gnb.score(X_test, y_test)\n",
    "print(\"\\nGNB score %f \" %acc)\n",
    "\n",
    "    \n",
    "mnb.fit(X_train, y_train)\n",
    "acc = mnb.score(X_test, y_test)\n",
    "print(\"MNB score %f \" %acc)\n",
    "\n",
    "    \n",
    "bnb.fit(X_train, y_train)\n",
    "acc = bnb.score(X_test, y_test)\n",
    "print(\"BNB score %f \" %acc)\n",
    "\n",
    "\n",
    "    "
   ]
  },
  {
   "cell_type": "code",
   "execution_count": null,
   "metadata": {},
   "outputs": [],
   "source": []
  }
 ],
 "metadata": {
  "kernelspec": {
   "display_name": "Python 3.8.10 64-bit",
   "language": "python",
   "name": "python3"
  },
  "language_info": {
   "codemirror_mode": {
    "name": "ipython",
    "version": 3
   },
   "file_extension": ".py",
   "mimetype": "text/x-python",
   "name": "python",
   "nbconvert_exporter": "python",
   "pygments_lexer": "ipython3",
   "version": "3.8.10"
  },
  "orig_nbformat": 4,
  "vscode": {
   "interpreter": {
    "hash": "916dbcbb3f70747c44a77c7bcd40155683ae19c65e1c03b4aa3499c5328201f1"
   }
  }
 },
 "nbformat": 4,
 "nbformat_minor": 2
}
