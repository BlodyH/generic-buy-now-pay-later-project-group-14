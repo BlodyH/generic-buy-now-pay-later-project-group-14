{
 "cells": [
  {
   "cell_type": "code",
   "execution_count": null,
   "metadata": {},
   "outputs": [],
   "source": [
    "import pandas as pd\n",
    "from functools import reduce"
   ]
  },
  {
   "cell_type": "code",
   "execution_count": null,
   "metadata": {},
   "outputs": [],
   "source": [
    "# read data\n",
    "num_consumer = pd.read_csv('../data/curated/pred_total_num_consumer.csv')\n",
    "num_transaction = pd.read_csv('../data/curated/pred_total_num_transaction.csv')\n",
    "revenue = pd.read_csv('../data/curated/pred_total_revenue.csv')\n",
    "merchant_info = pd.read_csv('../data/curated/merchant.csv')\n",
    "\n",
    "# merge three data frames based on merchant abn\n",
    "data_frames = [merchant_info, num_consumer, num_transaction, revenue]\n",
    "df_merged = reduce(lambda left,right: pd.merge(left,right,on=['merchant_abn'], how='outer'), data_frames)\n",
    "df_merged"
   ]
  },
  {
   "cell_type": "code",
   "execution_count": null,
   "metadata": {},
   "outputs": [],
   "source": [
    "# impute missing values and negative values with zero\n",
    "df_merged = df_merged.fillna(0)\n",
    "num = df_merged._get_numeric_data()\n",
    "num[num < 0] = 0\n",
    "df_merged"
   ]
  },
  {
   "cell_type": "markdown",
   "metadata": {},
   "source": [
    "### Ranking System\n",
    "The ranking system utilises predicted \"total number of consumers\", \"total number of transactions\" and \"total revenue\" next year and give each merchant a score within 0-100. The ranking score is calculated as follows:\n",
    "\n",
    "1. Standardise each attribute using min-max normalization \n",
    "2. Total number of consumers * 30%\n",
    "3. BNPL revenue * 40%\n",
    "4. Total number of transactions * 30%\n",
    "\n",
    "Revenue accounts for a larger proportion because it is considered to be an important thing to the BNPL company.\n"
   ]
  },
  {
   "cell_type": "code",
   "execution_count": null,
   "metadata": {},
   "outputs": [],
   "source": [
    "# min-max normalization\n",
    "features = ['pred_total_num_consumer', 'pred_total_num_transaction', 'pred_total_revenue']\n",
    "for col in features:\n",
    "    df_merged[f'scaled_{col}'] = 100 * (df_merged[col] - df_merged[col].min()) / (df_merged[col].max() - df_merged[col].min())    \n",
    "\n",
    "df_merged.head()"
   ]
  },
  {
   "cell_type": "code",
   "execution_count": null,
   "metadata": {},
   "outputs": [],
   "source": [
    "# calculate ranking score for each merchant\n",
    "df_merged['score'] = 0.3*df_merged['scaled_pred_total_num_consumer'] + 0.3*df_merged['scaled_pred_total_num_transaction'] + 0.4*df_merged['scaled_pred_total_revenue']\n",
    "\n",
    "df_merged['rank'] = df_merged['score'].rank(ascending=False)\n",
    "df_merged = df_merged.set_index('rank').sort_index()\n",
    "df_merged.head()"
   ]
  },
  {
   "cell_type": "markdown",
   "metadata": {},
   "source": [
    "### Split Merchants into 4 Segments\n",
    "Based on [Merchant Cateogry Groups by ANZ](https://www.anz.com/Documents/Business/CommercialCard/Merchant_cateogry_codes_control.pdf), we devide all merchant into 4 categories.\n",
    "\n",
    "1. Health service: health, optician\n",
    "\n",
    "2. Recreational good retailing: bicycle, books, stationary, hobby, tent, digital goods, \n",
    "\n",
    "3. Personal & household good retail: antique, watch, jewellery, music, artist supply, gift, art dealer, florists, furniture, shoe, garden supply, \n",
    "\n",
    "4. Technical & machinery service: cable, telecom, computer, equipment, motor"
   ]
  },
  {
   "cell_type": "code",
   "execution_count": null,
   "metadata": {},
   "outputs": [],
   "source": [
    "# split merchants into 4 segments\n",
    "segment = {\n",
    "    'furniture': 'personal & household good retail',\n",
    "    'cable': 'technical & machinery service',\n",
    "    'watch': 'personal & household good retail',\n",
    "    'music': 'personal & household good retail',\n",
    "    'gift': 'personal & household good retail',\n",
    "    'computer': 'technical & machinery service',\n",
    "    'equipment': 'technical & machinery service',\n",
    "    'artist supply': 'personal & household good retail',\n",
    "    'florists': 'personal & household good retail',\n",
    "    'motor': 'technical & machinery service',\n",
    "    'books': 'recreational good retailing',\n",
    "    'jewelry': 'personal & household good retail',\n",
    "    'stationery': 'recreational good retailing',\n",
    "    'tent': 'recreational good retailing',\n",
    "    'art dealer': 'personal & household good retail',\n",
    "    'bicycle': 'recreational good retailing',\n",
    "    'digital goods': 'recreational good retailing',\n",
    "    'shoe': 'personal & household good retail',\n",
    "    'opticians': 'health service',\n",
    "    'antique': 'personal & household good retail',\n",
    "    'health': 'health service',\n",
    "    'hobby': 'recreational good retailing',\n",
    "    'garden supply': 'personal & household good retail',\n",
    "    'telecom': 'technical & machinery service'\n",
    "}\n",
    "\n",
    "df_merged['segment'] = df_merged['tags'].map(segment)"
   ]
  },
  {
   "cell_type": "code",
   "execution_count": null,
   "metadata": {},
   "outputs": [],
   "source": [
    "# find top 100 merchants overall\n",
    "top100 = df_merged.loc[df_merged.index <= 100]\n",
    "top100.to_csv('../data/curated/top100.csv')"
   ]
  },
  {
   "cell_type": "code",
   "execution_count": null,
   "metadata": {},
   "outputs": [],
   "source": [
    "# find top 10 merchants in each segment\n",
    "personal_top10 = df_merged.loc[df_merged['segment']=='personal & household good retail'].head(10)\n",
    "personal_top10.to_csv('../data/curated/personal_top10.csv')"
   ]
  },
  {
   "cell_type": "code",
   "execution_count": null,
   "metadata": {},
   "outputs": [],
   "source": [
    "technical_top10 = df_merged.loc[df_merged['segment']=='technical & machinery service'].head(10)\n",
    "technical_top10.to_csv('../data/curated/technical_top10.csv')"
   ]
  },
  {
   "cell_type": "code",
   "execution_count": null,
   "metadata": {},
   "outputs": [],
   "source": [
    "recreational_top10 = df_merged.loc[df_merged['segment']=='recreational good retailing'].head(10)\n",
    "recreational_top10.to_csv('../data/curated/recreational_top10.csv')"
   ]
  },
  {
   "cell_type": "code",
   "execution_count": null,
   "metadata": {},
   "outputs": [],
   "source": [
    "health_top10 = df_merged.loc[df_merged['segment']=='health service'].head(10)\n",
    "health_top10.to_csv('../data/curated/health_top10.csv')"
   ]
  }
 ],
 "metadata": {
  "kernelspec": {
   "display_name": "Python 3.8.8",
   "language": "python",
   "name": "python3"
  },
  "language_info": {
   "codemirror_mode": {
    "name": "ipython",
    "version": 3
   },
   "file_extension": ".py",
   "mimetype": "text/x-python",
   "name": "python",
   "nbconvert_exporter": "python",
   "pygments_lexer": "ipython3",
   "version": "3.8.8"
  },
  "orig_nbformat": 4,
  "vscode": {
   "interpreter": {
    "hash": "703e593df40508a60fa363339ca2bbb5bae045b0a530fb0e89bc3e7c255f1da9"
   }
  }
 },
 "nbformat": 4,
 "nbformat_minor": 2
}
