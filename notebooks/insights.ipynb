{
 "cells": [
  {
   "cell_type": "code",
   "execution_count": 13,
   "metadata": {},
   "outputs": [],
   "source": [
    "from pyspark.sql import SparkSession\n",
    "from pyspark.sql import functions as F\n",
    "from pyspark.sql.functions import *\n",
    "import numpy as np\n",
    "import pandas as pd\n",
    "import seaborn as sbs\n",
    "import matplotlib.pyplot as plt\n",
    "import seaborn as sns"
   ]
  },
  {
   "cell_type": "code",
   "execution_count": 2,
   "metadata": {},
   "outputs": [
    {
     "name": "stdout",
     "output_type": "stream",
     "text": [
      "22/10/08 20:45:22 WARN Utils: Your hostname, DESKTOP-80AOBLL resolves to a loopback address: 127.0.1.1; using 172.23.151.154 instead (on interface eth0)\n",
      "22/10/08 20:45:22 WARN Utils: Set SPARK_LOCAL_IP if you need to bind to another address\n"
     ]
    },
    {
     "name": "stderr",
     "output_type": "stream",
     "text": [
      "Setting default log level to \"WARN\".\n",
      "To adjust logging level use sc.setLogLevel(newLevel). For SparkR, use setLogLevel(newLevel).\n"
     ]
    },
    {
     "name": "stdout",
     "output_type": "stream",
     "text": [
      "22/10/08 20:45:24 WARN NativeCodeLoader: Unable to load native-hadoop library for your platform... using builtin-java classes where applicable\n"
     ]
    }
   ],
   "source": [
    "spark = (\n",
    "    SparkSession.builder.appName(\"MAST30034 Project 2\")\n",
    "    .config(\"spark.sql.repl.eagerEval.enabled\", True)\n",
    "    .config(\"spark.sql.parquet.cacheMetadata\", \"true\")\n",
    "    .config(\"spark.sql.session.timeZone\", \"Etc/UTC\")\n",
    "    .config(\"spark.driver.memory\", \"4g\")\n",
    "    .config(\"spark.executer.memory\", \"8g\")\n",
    "    .getOrCreate()\n",
    ")"
   ]
  },
  {
   "cell_type": "code",
   "execution_count": 3,
   "metadata": {},
   "outputs": [
    {
     "name": "stderr",
     "output_type": "stream",
     "text": [
      "                                                                                \r"
     ]
    },
    {
     "data": {
      "text/html": [
       "<table border='1'>\n",
       "<tr><th>user_id</th><th>order_datetime</th><th>merchant_abn</th><th>SA2_code</th><th>postcode</th><th>consumer_id</th><th>state</th><th>gender</th><th>mean_total_income</th><th>dollar_value</th><th>order_id</th><th>name</th><th>tags</th><th>revenue_level</th><th>take_rate</th><th>is_fraud</th></tr>\n",
       "<tr><td>44</td><td>2021-04-09</td><td>10648956813</td><td>401041015</td><td>5074</td><td>564558</td><td>SA</td><td>Undisclosed</td><td>53613</td><td>68.17405810943993</td><td>4d42fd2c-0823-4af...</td><td>Proin Nisl Institute</td><td>computer</td><td>a</td><td>6.66</td><td>0</td></tr>\n",
       "<tr><td>44</td><td>2021-03-26</td><td>16256895427</td><td>401041015</td><td>5074</td><td>564558</td><td>SA</td><td>Undisclosed</td><td>53613</td><td>109.29115227377834</td><td>20849f6c-9286-4e5...</td><td>Tempus Non Founda...</td><td>garden supply</td><td>a</td><td>6.6</td><td>0</td></tr>\n",
       "<tr><td>44</td><td>2021-09-03</td><td>21702179125</td><td>401041015</td><td>5074</td><td>564558</td><td>SA</td><td>Undisclosed</td><td>53613</td><td>128.94839096472307</td><td>e2eb1a75-836d-43b...</td><td>At Auctor Ullamco...</td><td>gift</td><td>c</td><td>2.65</td><td>0</td></tr>\n",
       "<tr><td>44</td><td>2021-09-28</td><td>36125151647</td><td>401041015</td><td>5074</td><td>564558</td><td>SA</td><td>Undisclosed</td><td>53613</td><td>50.97888666647738</td><td>be7da9a9-b31a-4d8...</td><td>Sed Nec Corp.</td><td>hobby</td><td>c</td><td>1.83</td><td>0</td></tr>\n",
       "<tr><td>44</td><td>2021-10-20</td><td>41974958954</td><td>401041015</td><td>5074</td><td>564558</td><td>SA</td><td>Undisclosed</td><td>53613</td><td>60.02299315612368</td><td>cf13f2cc-5d81-413...</td><td>Sed Libero Proin ...</td><td>cable</td><td>a</td><td>5.51</td><td>0</td></tr>\n",
       "<tr><td>44</td><td>2021-09-22</td><td>41315101616</td><td>401041015</td><td>5074</td><td>564558</td><td>SA</td><td>Undisclosed</td><td>53613</td><td>22.01099830027075</td><td>784eb5b8-7032-42d...</td><td>Malesuada Fames F...</td><td>antique</td><td>b</td><td>5.05</td><td>0</td></tr>\n",
       "<tr><td>44</td><td>2021-12-01</td><td>49891706470</td><td>401041015</td><td>5074</td><td>564558</td><td>SA</td><td>Undisclosed</td><td>53613</td><td>6.1436338479183785</td><td>43a40900-af31-421...</td><td>Non Vestibulum In...</td><td>tent</td><td>a</td><td>5.8</td><td>0</td></tr>\n",
       "<tr><td>44</td><td>2021-11-24</td><td>47459279421</td><td>401041015</td><td>5074</td><td>564558</td><td>SA</td><td>Undisclosed</td><td>53613</td><td>37.40432919826938</td><td>fcba3312-3c72-4e5...</td><td>Aliquam Gravida PC</td><td>shoe</td><td>a</td><td>6.86</td><td>0</td></tr>\n",
       "<tr><td>44</td><td>2021-07-20</td><td>49891706470</td><td>401041015</td><td>5074</td><td>564558</td><td>SA</td><td>Undisclosed</td><td>53613</td><td>25.611929292222403</td><td>9d3f75e2-f164-42c...</td><td>Non Vestibulum In...</td><td>tent</td><td>a</td><td>5.8</td><td>0</td></tr>\n",
       "<tr><td>44</td><td>2021-06-29</td><td>49891706470</td><td>401041015</td><td>5074</td><td>564558</td><td>SA</td><td>Undisclosed</td><td>53613</td><td>9.534770249908876</td><td>59ec83dc-bc56-4f0...</td><td>Non Vestibulum In...</td><td>tent</td><td>a</td><td>5.8</td><td>0</td></tr>\n",
       "<tr><td>44</td><td>2021-04-08</td><td>61991570212</td><td>401041015</td><td>5074</td><td>564558</td><td>SA</td><td>Undisclosed</td><td>53613</td><td>29.465230171491875</td><td>bec490c6-0a29-4d2...</td><td>A Ltd</td><td>tent</td><td>a</td><td>6.18</td><td>0</td></tr>\n",
       "<tr><td>44</td><td>2021-10-28</td><td>67283489810</td><td>401041015</td><td>5074</td><td>564558</td><td>SA</td><td>Undisclosed</td><td>53613</td><td>465.7038154380591</td><td>b0621138-9c71-49e...</td><td>Hendrerit Consect...</td><td>music</td><td>d</td><td>1.07</td><td>0</td></tr>\n",
       "<tr><td>44</td><td>2021-05-23</td><td>67690172512</td><td>401041015</td><td>5074</td><td>564558</td><td>SA</td><td>Undisclosed</td><td>53613</td><td>58.06866183439192</td><td>77befec7-9ab1-40b...</td><td>Purus Accumsan As...</td><td>cable</td><td>a</td><td>6.35</td><td>0</td></tr>\n",
       "<tr><td>44</td><td>2021-04-13</td><td>49891706470</td><td>401041015</td><td>5074</td><td>564558</td><td>SA</td><td>Undisclosed</td><td>53613</td><td>15.272576482741101</td><td>e2a272ce-bb6b-43f...</td><td>Non Vestibulum In...</td><td>tent</td><td>a</td><td>5.8</td><td>0</td></tr>\n",
       "<tr><td>44</td><td>2021-10-15</td><td>69069584766</td><td>401041015</td><td>5074</td><td>564558</td><td>SA</td><td>Undisclosed</td><td>53613</td><td>241.91063460995838</td><td>7d55cb1b-6e79-4af...</td><td>Cras Eget Foundation</td><td>computer</td><td>a</td><td>5.95</td><td>0</td></tr>\n",
       "<tr><td>44</td><td>2022-01-19</td><td>49891706470</td><td>401041015</td><td>5074</td><td>564558</td><td>SA</td><td>Undisclosed</td><td>53613</td><td>32.38049155067601</td><td>fe3929b0-d4c6-408...</td><td>Non Vestibulum In...</td><td>tent</td><td>a</td><td>5.8</td><td>0</td></tr>\n",
       "<tr><td>44</td><td>2021-07-18</td><td>69069584766</td><td>401041015</td><td>5074</td><td>564558</td><td>SA</td><td>Undisclosed</td><td>53613</td><td>47.56484129098741</td><td>eb7ff236-9fdf-423...</td><td>Cras Eget Foundation</td><td>computer</td><td>a</td><td>5.95</td><td>0</td></tr>\n",
       "<tr><td>44</td><td>2021-05-14</td><td>52959528548</td><td>401041015</td><td>5074</td><td>564558</td><td>SA</td><td>Undisclosed</td><td>53613</td><td>755.3478883912777</td><td>9ddd3f7c-eed2-451...</td><td>Libero Et Limited</td><td>furniture</td><td>c</td><td>1.94</td><td>0</td></tr>\n",
       "<tr><td>44</td><td>2021-03-14</td><td>52959528548</td><td>401041015</td><td>5074</td><td>564558</td><td>SA</td><td>Undisclosed</td><td>53613</td><td>17.628887647459486</td><td>cff3bb05-ab37-41f...</td><td>Libero Et Limited</td><td>furniture</td><td>c</td><td>1.94</td><td>0</td></tr>\n",
       "<tr><td>44</td><td>2021-09-12</td><td>84703983173</td><td>401041015</td><td>5074</td><td>564558</td><td>SA</td><td>Undisclosed</td><td>53613</td><td>52.915184378992464</td><td>5a081ce5-a167-403...</td><td>Amet Consulting</td><td>computer</td><td>c</td><td>2.31</td><td>0</td></tr>\n",
       "</table>\n",
       "only showing top 20 rows\n"
      ],
      "text/plain": [
       "+-------+--------------+------------+---------+--------+-----------+-----+-----------+-----------------+------------------+--------------------+--------------------+-------------+-------------+---------+--------+\n",
       "|user_id|order_datetime|merchant_abn| SA2_code|postcode|consumer_id|state|     gender|mean_total_income|      dollar_value|            order_id|                name|         tags|revenue_level|take_rate|is_fraud|\n",
       "+-------+--------------+------------+---------+--------+-----------+-----+-----------+-----------------+------------------+--------------------+--------------------+-------------+-------------+---------+--------+\n",
       "|     44|    2021-04-09| 10648956813|401041015|    5074|     564558|   SA|Undisclosed|            53613| 68.17405810943993|4d42fd2c-0823-4af...|Proin Nisl Institute|     computer|            a|     6.66|       0|\n",
       "|     44|    2021-03-26| 16256895427|401041015|    5074|     564558|   SA|Undisclosed|            53613|109.29115227377834|20849f6c-9286-4e5...|Tempus Non Founda...|garden supply|            a|      6.6|       0|\n",
       "|     44|    2021-09-03| 21702179125|401041015|    5074|     564558|   SA|Undisclosed|            53613|128.94839096472307|e2eb1a75-836d-43b...|At Auctor Ullamco...|         gift|            c|     2.65|       0|\n",
       "|     44|    2021-09-28| 36125151647|401041015|    5074|     564558|   SA|Undisclosed|            53613| 50.97888666647738|be7da9a9-b31a-4d8...|       Sed Nec Corp.|        hobby|            c|     1.83|       0|\n",
       "|     44|    2021-10-20| 41974958954|401041015|    5074|     564558|   SA|Undisclosed|            53613| 60.02299315612368|cf13f2cc-5d81-413...|Sed Libero Proin ...|        cable|            a|     5.51|       0|\n",
       "|     44|    2021-09-22| 41315101616|401041015|    5074|     564558|   SA|Undisclosed|            53613| 22.01099830027075|784eb5b8-7032-42d...|Malesuada Fames F...|      antique|            b|     5.05|       0|\n",
       "|     44|    2021-12-01| 49891706470|401041015|    5074|     564558|   SA|Undisclosed|            53613|6.1436338479183785|43a40900-af31-421...|Non Vestibulum In...|         tent|            a|      5.8|       0|\n",
       "|     44|    2021-11-24| 47459279421|401041015|    5074|     564558|   SA|Undisclosed|            53613| 37.40432919826938|fcba3312-3c72-4e5...|  Aliquam Gravida PC|         shoe|            a|     6.86|       0|\n",
       "|     44|    2021-07-20| 49891706470|401041015|    5074|     564558|   SA|Undisclosed|            53613|25.611929292222403|9d3f75e2-f164-42c...|Non Vestibulum In...|         tent|            a|      5.8|       0|\n",
       "|     44|    2021-06-29| 49891706470|401041015|    5074|     564558|   SA|Undisclosed|            53613| 9.534770249908876|59ec83dc-bc56-4f0...|Non Vestibulum In...|         tent|            a|      5.8|       0|\n",
       "|     44|    2021-04-08| 61991570212|401041015|    5074|     564558|   SA|Undisclosed|            53613|29.465230171491875|bec490c6-0a29-4d2...|               A Ltd|         tent|            a|     6.18|       0|\n",
       "|     44|    2021-10-28| 67283489810|401041015|    5074|     564558|   SA|Undisclosed|            53613| 465.7038154380591|b0621138-9c71-49e...|Hendrerit Consect...|        music|            d|     1.07|       0|\n",
       "|     44|    2021-05-23| 67690172512|401041015|    5074|     564558|   SA|Undisclosed|            53613| 58.06866183439192|77befec7-9ab1-40b...|Purus Accumsan As...|        cable|            a|     6.35|       0|\n",
       "|     44|    2021-04-13| 49891706470|401041015|    5074|     564558|   SA|Undisclosed|            53613|15.272576482741101|e2a272ce-bb6b-43f...|Non Vestibulum In...|         tent|            a|      5.8|       0|\n",
       "|     44|    2021-10-15| 69069584766|401041015|    5074|     564558|   SA|Undisclosed|            53613|241.91063460995838|7d55cb1b-6e79-4af...|Cras Eget Foundation|     computer|            a|     5.95|       0|\n",
       "|     44|    2022-01-19| 49891706470|401041015|    5074|     564558|   SA|Undisclosed|            53613| 32.38049155067601|fe3929b0-d4c6-408...|Non Vestibulum In...|         tent|            a|      5.8|       0|\n",
       "|     44|    2021-07-18| 69069584766|401041015|    5074|     564558|   SA|Undisclosed|            53613| 47.56484129098741|eb7ff236-9fdf-423...|Cras Eget Foundation|     computer|            a|     5.95|       0|\n",
       "|     44|    2021-05-14| 52959528548|401041015|    5074|     564558|   SA|Undisclosed|            53613| 755.3478883912777|9ddd3f7c-eed2-451...|   Libero Et Limited|    furniture|            c|     1.94|       0|\n",
       "|     44|    2021-03-14| 52959528548|401041015|    5074|     564558|   SA|Undisclosed|            53613|17.628887647459486|cff3bb05-ab37-41f...|   Libero Et Limited|    furniture|            c|     1.94|       0|\n",
       "|     44|    2021-09-12| 84703983173|401041015|    5074|     564558|   SA|Undisclosed|            53613|52.915184378992464|5a081ce5-a167-403...|     Amet Consulting|     computer|            c|     2.31|       0|\n",
       "+-------+--------------+------------+---------+--------+-----------+-----+-----------+-----------------+------------------+--------------------+--------------------+-------------+-------------+---------+--------+\n",
       "only showing top 20 rows"
      ]
     },
     "execution_count": 3,
     "metadata": {},
     "output_type": "execute_result"
    }
   ],
   "source": [
    "full = spark.read.parquet('../data/curated/full_data_without_fraud/')\n",
    "full"
   ]
  },
  {
   "cell_type": "code",
   "execution_count": 6,
   "metadata": {},
   "outputs": [],
   "source": [
    "# aggregate the full dataset based on merchant abn and state\n",
    "full = full.dropDuplicates(['user_id', 'merchant_abn'])\n",
    "merchant_state = full.groupBy('merchant_abn', 'state').count()"
   ]
  },
  {
   "cell_type": "code",
   "execution_count": 7,
   "metadata": {},
   "outputs": [
    {
     "name": "stderr",
     "output_type": "stream",
     "text": [
      "                                                                                \r"
     ]
    },
    {
     "data": {
      "text/plain": [
       "merchant_abn     int64\n",
       "state           object\n",
       "count            int64\n",
       "dtype: object"
      ]
     },
     "execution_count": 7,
     "metadata": {},
     "output_type": "execute_result"
    }
   ],
   "source": [
    "merchant_state = merchant_state.toPandas()\n",
    "merchant_state.dtypes"
   ]
  },
  {
   "cell_type": "code",
   "execution_count": 8,
   "metadata": {},
   "outputs": [
    {
     "data": {
      "text/plain": [
       "rank                                 object\n",
       "merchant_abn                          int64\n",
       "name                                 object\n",
       "tags                                 object\n",
       "revenue_level                        object\n",
       "take_rate                            object\n",
       "pred_total_num_consumer              object\n",
       "pred_total_num_transaction           object\n",
       "pred_total_revenue                   object\n",
       "scaled_pred_total_num_consumer       object\n",
       "scaled_pred_total_num_transaction    object\n",
       "scaled_pred_total_revenue            object\n",
       "score                                object\n",
       "segment                              object\n",
       "dtype: object"
      ]
     },
     "execution_count": 8,
     "metadata": {},
     "output_type": "execute_result"
    }
   ],
   "source": [
    "top100 = spark.read.option('header', True).csv('../data/curated/top100.csv')\n",
    "top100 = top100.toPandas()\n",
    "top100['merchant_abn'] = top100['merchant_abn'].astype('int')\n",
    "top100.dtypes"
   ]
  },
  {
   "cell_type": "code",
   "execution_count": 9,
   "metadata": {},
   "outputs": [
    {
     "data": {
      "text/html": [
       "<div>\n",
       "<style scoped>\n",
       "    .dataframe tbody tr th:only-of-type {\n",
       "        vertical-align: middle;\n",
       "    }\n",
       "\n",
       "    .dataframe tbody tr th {\n",
       "        vertical-align: top;\n",
       "    }\n",
       "\n",
       "    .dataframe thead th {\n",
       "        text-align: right;\n",
       "    }\n",
       "</style>\n",
       "<table border=\"1\" class=\"dataframe\">\n",
       "  <thead>\n",
       "    <tr style=\"text-align: right;\">\n",
       "      <th></th>\n",
       "      <th>merchant_abn</th>\n",
       "      <th>state</th>\n",
       "      <th>count</th>\n",
       "    </tr>\n",
       "  </thead>\n",
       "  <tbody>\n",
       "    <tr>\n",
       "      <th>0</th>\n",
       "      <td>94493496784</td>\n",
       "      <td>WA</td>\n",
       "      <td>3744</td>\n",
       "    </tr>\n",
       "    <tr>\n",
       "      <th>1</th>\n",
       "      <td>80324045558</td>\n",
       "      <td>WA</td>\n",
       "      <td>3812</td>\n",
       "    </tr>\n",
       "    <tr>\n",
       "      <th>2</th>\n",
       "      <td>81219314324</td>\n",
       "      <td>VIC</td>\n",
       "      <td>4914</td>\n",
       "    </tr>\n",
       "    <tr>\n",
       "      <th>3</th>\n",
       "      <td>49212265466</td>\n",
       "      <td>QLD</td>\n",
       "      <td>2756</td>\n",
       "    </tr>\n",
       "    <tr>\n",
       "      <th>4</th>\n",
       "      <td>11439466003</td>\n",
       "      <td>NT</td>\n",
       "      <td>242</td>\n",
       "    </tr>\n",
       "    <tr>\n",
       "      <th>...</th>\n",
       "      <td>...</td>\n",
       "      <td>...</td>\n",
       "      <td>...</td>\n",
       "    </tr>\n",
       "    <tr>\n",
       "      <th>795</th>\n",
       "      <td>60956456424</td>\n",
       "      <td>VIC</td>\n",
       "      <td>5428</td>\n",
       "    </tr>\n",
       "    <tr>\n",
       "      <th>796</th>\n",
       "      <td>62694031334</td>\n",
       "      <td>NT</td>\n",
       "      <td>298</td>\n",
       "    </tr>\n",
       "    <tr>\n",
       "      <th>797</th>\n",
       "      <td>34179569263</td>\n",
       "      <td>TAS</td>\n",
       "      <td>534</td>\n",
       "    </tr>\n",
       "    <tr>\n",
       "      <th>798</th>\n",
       "      <td>20985347699</td>\n",
       "      <td>QLD</td>\n",
       "      <td>3237</td>\n",
       "    </tr>\n",
       "    <tr>\n",
       "      <th>799</th>\n",
       "      <td>27326652377</td>\n",
       "      <td>ACT</td>\n",
       "      <td>55</td>\n",
       "    </tr>\n",
       "  </tbody>\n",
       "</table>\n",
       "<p>800 rows × 3 columns</p>\n",
       "</div>"
      ],
      "text/plain": [
       "     merchant_abn state  count\n",
       "0     94493496784    WA   3744\n",
       "1     80324045558    WA   3812\n",
       "2     81219314324   VIC   4914\n",
       "3     49212265466   QLD   2756\n",
       "4     11439466003    NT    242\n",
       "..            ...   ...    ...\n",
       "795   60956456424   VIC   5428\n",
       "796   62694031334    NT    298\n",
       "797   34179569263   TAS    534\n",
       "798   20985347699   QLD   3237\n",
       "799   27326652377   ACT     55\n",
       "\n",
       "[800 rows x 3 columns]"
      ]
     },
     "execution_count": 9,
     "metadata": {},
     "output_type": "execute_result"
    }
   ],
   "source": [
    "# only obtain the consumer state info from top100 merchants\n",
    "top100_merchant_state = merchant_state[merchant_state['merchant_abn'].isin(top100['merchant_abn'])].reset_index(drop=True)\n",
    "top100_merchant_state"
   ]
  },
  {
   "cell_type": "code",
   "execution_count": 18,
   "metadata": {},
   "outputs": [
    {
     "data": {
      "text/html": [
       "<div>\n",
       "<style scoped>\n",
       "    .dataframe tbody tr th:only-of-type {\n",
       "        vertical-align: middle;\n",
       "    }\n",
       "\n",
       "    .dataframe tbody tr th {\n",
       "        vertical-align: top;\n",
       "    }\n",
       "\n",
       "    .dataframe thead th {\n",
       "        text-align: right;\n",
       "    }\n",
       "</style>\n",
       "<table border=\"1\" class=\"dataframe\">\n",
       "  <thead>\n",
       "    <tr style=\"text-align: right;\">\n",
       "      <th></th>\n",
       "      <th>count</th>\n",
       "    </tr>\n",
       "    <tr>\n",
       "      <th>state</th>\n",
       "      <th></th>\n",
       "    </tr>\n",
       "  </thead>\n",
       "  <tbody>\n",
       "    <tr>\n",
       "      <th>ACT</th>\n",
       "      <td>16725</td>\n",
       "    </tr>\n",
       "    <tr>\n",
       "      <th>NSW</th>\n",
       "      <td>525905</td>\n",
       "    </tr>\n",
       "    <tr>\n",
       "      <th>NT</th>\n",
       "      <td>25977</td>\n",
       "    </tr>\n",
       "    <tr>\n",
       "      <th>QLD</th>\n",
       "      <td>269547</td>\n",
       "    </tr>\n",
       "    <tr>\n",
       "      <th>SA</th>\n",
       "      <td>207297</td>\n",
       "    </tr>\n",
       "    <tr>\n",
       "      <th>TAS</th>\n",
       "      <td>67471</td>\n",
       "    </tr>\n",
       "    <tr>\n",
       "      <th>VIC</th>\n",
       "      <td>420783</td>\n",
       "    </tr>\n",
       "    <tr>\n",
       "      <th>WA</th>\n",
       "      <td>288453</td>\n",
       "    </tr>\n",
       "  </tbody>\n",
       "</table>\n",
       "</div>"
      ],
      "text/plain": [
       "        count\n",
       "state        \n",
       "ACT     16725\n",
       "NSW    525905\n",
       "NT      25977\n",
       "QLD    269547\n",
       "SA     207297\n",
       "TAS     67471\n",
       "VIC    420783\n",
       "WA     288453"
      ]
     },
     "execution_count": 18,
     "metadata": {},
     "output_type": "execute_result"
    }
   ],
   "source": [
    "# get the number of consumers from state based on top100 merchants\n",
    "top100_state = top100_merchant_state.groupby('state')['count'].sum()\n",
    "top100_state = top100_state.to_frame()\n",
    "top100_state"
   ]
  },
  {
   "cell_type": "code",
   "execution_count": 21,
   "metadata": {},
   "outputs": [
    {
     "data": {
      "image/png": "[encoded data removed]",
      "text/plain": [
       "<Figure size 432x288 with 1 Axes>"
      ]
     },
     "metadata": {
      "needs_background": "light"
     },
     "output_type": "display_data"
    }
   ],
   "source": [
    "sns.barplot(data=top100_state, x=top100_state.index, y='count')\n",
    "plt.xlabel('State', fontsize=14)\n",
    "plt.ylabel('Frequency', fontsize=14)\n",
    "plt.title('Number of Consumers in Each State for top100', fontsize=16)\n",
    "plt.savefig('../plots/Consumer distribution for top100.png')\n",
    "plt.show()"
   ]
  }
 ],
 "metadata": {
  "kernelspec": {
   "display_name": "Python 3.8.10 64-bit",
   "language": "python",
   "name": "python3"
  },
  "language_info": {
   "codemirror_mode": {
    "name": "ipython",
    "version": 3
   },
   "file_extension": ".py",
   "mimetype": "text/x-python",
   "name": "python",
   "nbconvert_exporter": "python",
   "pygments_lexer": "ipython3",
   "version": "3.8.10"
  },
  "orig_nbformat": 4,
  "vscode": {
   "interpreter": {
    "hash": "916dbcbb3f70747c44a77c7bcd40155683ae19c65e1c03b4aa3499c5328201f1"
   }
  }
 },
 "nbformat": 4,
 "nbformat_minor": 2
}
