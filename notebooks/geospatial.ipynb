{
 "cells": [
  {
   "cell_type": "code",
   "execution_count": null,
   "metadata": {},
   "outputs": [],
   "source": [
    "import geopandas as gpd\n",
    "import folium\n",
    "import pandas as pd\n",
    "from pyspark.sql import SparkSession\n",
    "from pyspark.sql import functions as F"
   ]
  },
  {
   "cell_type": "code",
   "execution_count": null,
   "metadata": {},
   "outputs": [],
   "source": [
    "# Create a spark session (which will run spark jobs)\n",
    "spark = (\n",
    "    SparkSession.builder.appName(\"MAST30034 Project 2\")\n",
    "    .config(\"spark.sql.repl.eagerEval.enabled\", True) \n",
    "    .config(\"spark.sql.parquet.cacheMetadata\", \"true\")\n",
    "    .config(\"spark.sql.session.timeZone\", \"Etc/UTC\")\n",
    "    .config(\"spark.driver.memory\", \"2g\")\n",
    "    .config(\"spark.executer.memory\", \"4g\")\n",
    "    .getOrCreate()\n",
    ")"
   ]
  },
  {
   "cell_type": "code",
   "execution_count": null,
   "metadata": {},
   "outputs": [],
   "source": [
    "sf = gpd.read_file(\"../data/external/SA2_2021/SA2_2021_AUST_GDA2020.shp\")\n",
    "sf = sf[[\"SA2_CODE21\", \"SA2_NAME21\", \"geometry\"]]\n",
    "sf.rename(columns={\"SA2_CODE21\":\"SA2_code\", \"SA2_NAME21\": \"SA2_name\"}, inplace=True)\n",
    "sf = sf.loc[sf.geometry != None]\n",
    "sf[\"SA2_code\"] = sf[\"SA2_code\"].astype(int)\n",
    "gdf = gpd.GeoDataFrame(sf)\n",
    "\n",
    "# create a JSON \n",
    "geoJSON = gdf.drop_duplicates(\"SA2_code\").to_json()\n",
    "\n",
    "# derive zone centroids \n",
    "gdf['centroid'] = gdf['geometry'].apply(lambda x: (x.centroid.y, x.centroid.x))\n",
    "gdf.head()"
   ]
  },
  {
   "cell_type": "code",
   "execution_count": null,
   "metadata": {},
   "outputs": [],
   "source": [
    "sdf_all = spark.read.parquet(\"../data/curated/full_data_without_fraud/\")\n",
    "sdf_all.count()"
   ]
  },
  {
   "cell_type": "code",
   "execution_count": null,
   "metadata": {},
   "outputs": [],
   "source": [
    "def draw_map(df, columns, legend_name):\n",
    "    \"\"\"\n",
    "    This function plots a choropleth map for a given dataframe and legend name.\n",
    "    \"\"\"\n",
    "    map = folium.Map(location=[-30, 144], width=800, height=500, tiles=\"cartodbpositron\", zoom_start=4)\n",
    "\n",
    "    c = folium.Choropleth(\n",
    "        geo_data=geoJSON, # geoJSON \n",
    "        name='choropleth', \n",
    "        data=df.reset_index(), # data source\n",
    "        columns=columns, # the columns required\n",
    "        key_on='properties.SA2_code', # this is from the geoJSON's properties\n",
    "        fill_color='YlOrRd', # color scheme\n",
    "        line_opacity=0.1,\n",
    "        fill_opacity=0.7,\n",
    "        legend_name=legend_name\n",
    "    )\n",
    "    c.add_to(map)\n",
    "    return map"
   ]
  },
  {
   "cell_type": "markdown",
   "metadata": {},
   "source": [
    "## Mean Total Income v.s. SA2 "
   ]
  },
  {
   "cell_type": "code",
   "execution_count": 22,
   "metadata": {},
   "outputs": [
    {
     "data": {
      "text/html": [
       "<div>\n",
       "<style scoped>\n",
       "    .dataframe tbody tr th:only-of-type {\n",
       "        vertical-align: middle;\n",
       "    }\n",
       "\n",
       "    .dataframe tbody tr th {\n",
       "        vertical-align: top;\n",
       "    }\n",
       "\n",
       "    .dataframe thead th {\n",
       "        text-align: right;\n",
       "    }\n",
       "</style>\n",
       "<table border=\"1\" class=\"dataframe\">\n",
       "  <thead>\n",
       "    <tr style=\"text-align: right;\">\n",
       "      <th></th>\n",
       "      <th>SA2_code</th>\n",
       "      <th>mean_total_income</th>\n",
       "      <th>SA2_name</th>\n",
       "      <th>geometry</th>\n",
       "    </tr>\n",
       "  </thead>\n",
       "  <tbody>\n",
       "    <tr>\n",
       "      <th>0</th>\n",
       "      <td>101021007</td>\n",
       "      <td>51149</td>\n",
       "      <td>Braidwood</td>\n",
       "      <td>POLYGON ((149.58424 -35.44426, 149.58444 -35.4...</td>\n",
       "    </tr>\n",
       "    <tr>\n",
       "      <th>1</th>\n",
       "      <td>101021008</td>\n",
       "      <td>66335</td>\n",
       "      <td>Karabar</td>\n",
       "      <td>POLYGON ((149.21899 -35.36738, 149.21800 -35.3...</td>\n",
       "    </tr>\n",
       "    <tr>\n",
       "      <th>2</th>\n",
       "      <td>101021009</td>\n",
       "      <td>65874</td>\n",
       "      <td>Queanbeyan</td>\n",
       "      <td>POLYGON ((149.21326 -35.34325, 149.21619 -35.3...</td>\n",
       "    </tr>\n",
       "    <tr>\n",
       "      <th>3</th>\n",
       "      <td>101021010</td>\n",
       "      <td>69860</td>\n",
       "      <td>Queanbeyan - East</td>\n",
       "      <td>POLYGON ((149.24034 -35.34781, 149.24024 -35.3...</td>\n",
       "    </tr>\n",
       "    <tr>\n",
       "      <th>4</th>\n",
       "      <td>101021012</td>\n",
       "      <td>85607</td>\n",
       "      <td>Queanbeyan West - Jerrabomberra</td>\n",
       "      <td>POLYGON ((149.19572 -35.36126, 149.19970 -35.3...</td>\n",
       "    </tr>\n",
       "    <tr>\n",
       "      <th>...</th>\n",
       "      <td>...</td>\n",
       "      <td>...</td>\n",
       "      <td>...</td>\n",
       "      <td>...</td>\n",
       "    </tr>\n",
       "    <tr>\n",
       "      <th>2142</th>\n",
       "      <td>801101136</td>\n",
       "      <td>98692</td>\n",
       "      <td>Denman Prospect</td>\n",
       "      <td>POLYGON ((149.01710 -35.30726, 149.01680 -35.3...</td>\n",
       "    </tr>\n",
       "    <tr>\n",
       "      <th>2143</th>\n",
       "      <td>801101137</td>\n",
       "      <td>0</td>\n",
       "      <td>Molonglo</td>\n",
       "      <td>POLYGON ((149.03732 -35.30891, 149.03704 -35.3...</td>\n",
       "    </tr>\n",
       "    <tr>\n",
       "      <th>2144</th>\n",
       "      <td>801101139</td>\n",
       "      <td>86007</td>\n",
       "      <td>Wright</td>\n",
       "      <td>POLYGON ((149.03122 -35.32194, 149.03139 -35.3...</td>\n",
       "    </tr>\n",
       "    <tr>\n",
       "      <th>2145</th>\n",
       "      <td>801111140</td>\n",
       "      <td>73435</td>\n",
       "      <td>ACT - South West</td>\n",
       "      <td>POLYGON ((148.88381 -35.26411, 148.94988 -35.2...</td>\n",
       "    </tr>\n",
       "    <tr>\n",
       "      <th>2146</th>\n",
       "      <td>801111141</td>\n",
       "      <td>39278</td>\n",
       "      <td>Namadgi</td>\n",
       "      <td>POLYGON ((148.80407 -35.37619, 148.80417 -35.3...</td>\n",
       "    </tr>\n",
       "  </tbody>\n",
       "</table>\n",
       "<p>2147 rows × 4 columns</p>\n",
       "</div>"
      ],
      "text/plain": [
       "       SA2_code  mean_total_income                         SA2_name  \\\n",
       "0     101021007              51149                        Braidwood   \n",
       "1     101021008              66335                          Karabar   \n",
       "2     101021009              65874                       Queanbeyan   \n",
       "3     101021010              69860                Queanbeyan - East   \n",
       "4     101021012              85607  Queanbeyan West - Jerrabomberra   \n",
       "...         ...                ...                              ...   \n",
       "2142  801101136              98692                  Denman Prospect   \n",
       "2143  801101137                  0                         Molonglo   \n",
       "2144  801101139              86007                           Wright   \n",
       "2145  801111140              73435                 ACT - South West   \n",
       "2146  801111141              39278                          Namadgi   \n",
       "\n",
       "                                               geometry  \n",
       "0     POLYGON ((149.58424 -35.44426, 149.58444 -35.4...  \n",
       "1     POLYGON ((149.21899 -35.36738, 149.21800 -35.3...  \n",
       "2     POLYGON ((149.21326 -35.34325, 149.21619 -35.3...  \n",
       "3     POLYGON ((149.24034 -35.34781, 149.24024 -35.3...  \n",
       "4     POLYGON ((149.19572 -35.36126, 149.19970 -35.3...  \n",
       "...                                                 ...  \n",
       "2142  POLYGON ((149.01710 -35.30726, 149.01680 -35.3...  \n",
       "2143  POLYGON ((149.03732 -35.30891, 149.03704 -35.3...  \n",
       "2144  POLYGON ((149.03122 -35.32194, 149.03139 -35.3...  \n",
       "2145  POLYGON ((148.88381 -35.26411, 148.94988 -35.2...  \n",
       "2146  POLYGON ((148.80407 -35.37619, 148.80417 -35.3...  \n",
       "\n",
       "[2147 rows x 4 columns]"
      ]
     },
     "execution_count": 22,
     "metadata": {},
     "output_type": "execute_result"
    }
   ],
   "source": [
    "income_df = pd.read_csv(\"../data/curated/processed_income.csv\")\n",
    "income_df = income_df.loc[income_df['SA2_code'].str.isnumeric()]\n",
    "income_df['SA2_code'] = income_df['SA2_code'].astype(int)\n",
    "\n",
    "# join the computed dataframe with geo dataframe\n",
    "income_df = income_df.merge(gdf[['SA2_code', 'SA2_name', 'geometry']], on='SA2_code')\n",
    "income_df"
   ]
  },
  {
   "cell_type": "code",
   "execution_count": 23,
   "metadata": {},
   "outputs": [
    {
     "data": {
      "text/html": [
       "<div>\n",
       "<style scoped>\n",
       "    .dataframe tbody tr th:only-of-type {\n",
       "        vertical-align: middle;\n",
       "    }\n",
       "\n",
       "    .dataframe tbody tr th {\n",
       "        vertical-align: top;\n",
       "    }\n",
       "\n",
       "    .dataframe thead th {\n",
       "        text-align: right;\n",
       "    }\n",
       "</style>\n",
       "<table border=\"1\" class=\"dataframe\">\n",
       "  <thead>\n",
       "    <tr style=\"text-align: right;\">\n",
       "      <th></th>\n",
       "      <th>SA2_code</th>\n",
       "      <th>mean_total_income</th>\n",
       "      <th>SA2_name</th>\n",
       "      <th>geometry</th>\n",
       "    </tr>\n",
       "  </thead>\n",
       "  <tbody>\n",
       "    <tr>\n",
       "      <th>1640</th>\n",
       "      <td>503011032</td>\n",
       "      <td>281099</td>\n",
       "      <td>Cottesloe</td>\n",
       "      <td>POLYGON ((115.75101 -31.99292, 115.75101 -31.9...</td>\n",
       "    </tr>\n",
       "    <tr>\n",
       "      <th>1645</th>\n",
       "      <td>503021037</td>\n",
       "      <td>276862</td>\n",
       "      <td>Kings Park (WA)</td>\n",
       "      <td>POLYGON ((115.83968 -31.96616, 115.83964 -31.9...</td>\n",
       "    </tr>\n",
       "    <tr>\n",
       "      <th>1769</th>\n",
       "      <td>507021167</td>\n",
       "      <td>211893</td>\n",
       "      <td>O'Connor (WA)</td>\n",
       "      <td>POLYGON ((115.77964 -32.05654, 115.77959 -32.0...</td>\n",
       "    </tr>\n",
       "  </tbody>\n",
       "</table>\n",
       "</div>"
      ],
      "text/plain": [
       "       SA2_code  mean_total_income         SA2_name  \\\n",
       "1640  503011032             281099        Cottesloe   \n",
       "1645  503021037             276862  Kings Park (WA)   \n",
       "1769  507021167             211893    O'Connor (WA)   \n",
       "\n",
       "                                               geometry  \n",
       "1640  POLYGON ((115.75101 -31.99292, 115.75101 -31.9...  \n",
       "1645  POLYGON ((115.83968 -31.96616, 115.83964 -31.9...  \n",
       "1769  POLYGON ((115.77964 -32.05654, 115.77959 -32.0...  "
      ]
     },
     "execution_count": 23,
     "metadata": {},
     "output_type": "execute_result"
    }
   ],
   "source": [
    "# find the distrits that has very high mean income\n",
    "income_df.loc[income_df[\"mean_total_income\"]>200000]"
   ]
  },
  {
   "cell_type": "code",
   "execution_count": null,
   "metadata": {},
   "outputs": [],
   "source": [
    "# plot the map of mean total income for each SA2 district\n",
    "income_map = draw_map(income_df, ['SA2_code','mean_total_income'], \"Mean Total Income ($)\")\n",
    "income_map.save('../plots/mean_income_vs_SA2_map.html')"
   ]
  },
  {
   "cell_type": "markdown",
   "metadata": {},
   "source": [
    "### Number of Consumers v.s. SA2"
   ]
  },
  {
   "cell_type": "code",
   "execution_count": null,
   "metadata": {},
   "outputs": [],
   "source": [
    "num_consumer = sdf_all.select(\"SA2_code\", \"consumer_id\").distinct().dropna().groupBy(\"SA2_code\").count().toPandas()\n",
    "num_consumer[\"SA2_code\"] = num_consumer[\"SA2_code\"].astype(int)"
   ]
  },
  {
   "cell_type": "code",
   "execution_count": null,
   "metadata": {},
   "outputs": [],
   "source": [
    "# join the computed dataframe with geo dataframe\n",
    "consumer_df = num_consumer.merge(gdf[['SA2_code', 'SA2_name', 'geometry']], on='SA2_code')\n",
    "consumer_df.head()"
   ]
  },
  {
   "cell_type": "code",
   "execution_count": null,
   "metadata": {},
   "outputs": [],
   "source": [
    "# plot the map of mean total income for each SA2 district\n",
    "num_consumer_map = draw_map(consumer_df, ['SA2_code','count'], \"Number of Consumers\")\n",
    "num_consumer_map.save('../plots/number_of_consumer_vs_SA2_map.html')"
   ]
  },
  {
   "cell_type": "markdown",
   "metadata": {},
   "source": [
    "### Number of Transactions v.s. SA2"
   ]
  },
  {
   "cell_type": "code",
   "execution_count": null,
   "metadata": {},
   "outputs": [],
   "source": [
    "num_transaction = sdf_all.select(\"SA2_code\", \"order_id\").distinct().dropna().groupBy(\"SA2_code\").count().toPandas()\n",
    "num_transaction[\"SA2_code\"] = num_transaction[\"SA2_code\"].astype(int)\n",
    "\n",
    "# join the computed dataframe with geo dataframe\n",
    "transaction_df = num_transaction.merge(gdf[['SA2_code', 'SA2_name', 'geometry']], on='SA2_code')\n",
    "transaction_df.head()"
   ]
  },
  {
   "cell_type": "code",
   "execution_count": null,
   "metadata": {},
   "outputs": [],
   "source": [
    "# plot the map of mean total income for each SA2 district\n",
    "num_transaction_map = draw_map(transaction_df, ['SA2_code','count'], \"Number of Transactions\")\n",
    "num_transaction_map.save('../plots/number_of_transactions_vs_SA2_map.html')"
   ]
  }
 ],
 "metadata": {
  "kernelspec": {
   "display_name": "Python 3.8.8",
   "language": "python",
   "name": "python3"
  },
  "language_info": {
   "codemirror_mode": {
    "name": "ipython",
    "version": 3
   },
   "file_extension": ".py",
   "mimetype": "text/x-python",
   "name": "python",
   "nbconvert_exporter": "python",
   "pygments_lexer": "ipython3",
   "version": "3.8.8"
  },
  "orig_nbformat": 4,
  "vscode": {
   "interpreter": {
    "hash": "703e593df40508a60fa363339ca2bbb5bae045b0a530fb0e89bc3e7c255f1da9"
   }
  }
 },
 "nbformat": 4,
 "nbformat_minor": 2
}
