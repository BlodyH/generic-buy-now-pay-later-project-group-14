{
 "cells": [
  {
   "cell_type": "code",
   "execution_count": null,
   "metadata": {},
   "outputs": [],
   "source": [
    "import geopandas as gpd\n",
    "import folium\n",
    "import pandas as pd\n",
    "from pyspark.sql import SparkSession\n",
    "from pyspark.sql import functions as F"
   ]
  },
  {
   "cell_type": "code",
   "execution_count": null,
   "metadata": {},
   "outputs": [],
   "source": [
    "# Create a spark session (which will run spark jobs)\n",
    "spark = (\n",
    "    SparkSession.builder.appName(\"MAST30034 Project 2\")\n",
    "    .config(\"spark.sql.repl.eagerEval.enabled\", True) \n",
    "    .config(\"spark.sql.parquet.cacheMetadata\", \"true\")\n",
    "    .config(\"spark.sql.session.timeZone\", \"Etc/UTC\")\n",
    "    .config(\"spark.driver.memory\", \"2g\")\n",
    "    .config(\"spark.executer.memory\", \"4g\")\n",
    "    .getOrCreate()\n",
    ")"
   ]
  },
  {
   "cell_type": "code",
   "execution_count": null,
   "metadata": {},
   "outputs": [],
   "source": [
    "sf = gpd.read_file(\"../data/external/SA2_2021/SA2_2021_AUST_GDA2020.shp\")\n",
    "sf = sf[[\"SA2_CODE21\", \"SA2_NAME21\", \"geometry\"]]\n",
    "sf.rename(columns={\"SA2_CODE21\":\"SA2_code\", \"SA2_NAME21\": \"SA2_name\"}, inplace=True)\n",
    "sf = sf.loc[sf.geometry != None]\n",
    "sf[\"SA2_code\"] = sf[\"SA2_code\"].astype(int)\n",
    "gdf = gpd.GeoDataFrame(sf)\n",
    "\n",
    "# create a JSON \n",
    "geoJSON = gdf.drop_duplicates(\"SA2_code\").to_json()\n",
    "\n",
    "# derive zone centroids \n",
    "gdf['centroid'] = gdf['geometry'].apply(lambda x: (x.centroid.y, x.centroid.x))\n",
    "gdf.head()"
   ]
  },
  {
   "cell_type": "code",
   "execution_count": null,
   "metadata": {},
   "outputs": [],
   "source": [
    "sdf_all = spark.read.parquet(\"../data/curated/full_data_without_fraud/\")\n",
    "sdf_all.count()"
   ]
  },
  {
   "cell_type": "code",
   "execution_count": null,
   "metadata": {},
   "outputs": [],
   "source": [
    "def draw_map(df, columns, legend_name):\n",
    "    \"\"\"\n",
    "    This function plots a choropleth map for a given dataframe and legend name.\n",
    "    \"\"\"\n",
    "    map = folium.Map(location=[-30, 144], width=800, height=500, tiles=\"cartodbpositron\", zoom_start=4)\n",
    "\n",
    "    c = folium.Choropleth(\n",
    "        geo_data=geoJSON, # geoJSON \n",
    "        name='choropleth', \n",
    "        data=df.reset_index(), # data source\n",
    "        columns=columns, # the columns required\n",
    "        key_on='properties.SA2_code', # this is from the geoJSON's properties\n",
    "        fill_color='YlOrRd', # color scheme\n",
    "        line_opacity=0.1,\n",
    "        fill_opacity=0.7,\n",
    "        legend_name=legend_name\n",
    "    )\n",
    "    c.add_to(map)\n",
    "    return map"
   ]
  },
  {
   "cell_type": "markdown",
   "metadata": {},
   "source": [
    "## Mean Total Income v.s. SA2 "
   ]
  },
  {
   "cell_type": "code",
   "execution_count": null,
   "metadata": {},
   "outputs": [],
   "source": [
    "income_df = pd.read_csv(\"../data/curated/processed_income.csv\")\n",
    "income_df = income_df.loc[income_df['SA2_code'].str.isnumeric()]\n",
    "income_df['SA2_code'] = income_df['SA2_code'].astype(int)\n",
    "\n",
    "# join the computed dataframe with geo dataframe\n",
    "income_df = income_df.merge(gdf[['SA2_code', 'SA2_name', 'geometry']], on='SA2_code')\n",
    "income_df"
   ]
  },
  {
   "cell_type": "code",
   "execution_count": null,
   "metadata": {},
   "outputs": [],
   "source": [
    "# find the distrits that has very high mean income\n",
    "income_df.loc[income_df[\"mean_total_income\"]>200000]"
   ]
  },
  {
   "cell_type": "code",
   "execution_count": null,
   "metadata": {},
   "outputs": [],
   "source": [
    "# plot the map of mean total income for each SA2 district\n",
    "income_map = draw_map(income_df, ['SA2_code','mean_total_income'], \"Mean Total Income ($)\")\n",
    "income_map.save('../plots/mean_income_vs_SA2_map.html')"
   ]
  },
  {
   "cell_type": "markdown",
   "metadata": {},
   "source": [
    "### Number of Consumers v.s. SA2"
   ]
  },
  {
   "cell_type": "code",
   "execution_count": null,
   "metadata": {},
   "outputs": [],
   "source": [
    "num_consumer = sdf_all.select(\"SA2_code\", \"consumer_id\").distinct().dropna().groupBy(\"SA2_code\").count().toPandas()\n",
    "num_consumer[\"SA2_code\"] = num_consumer[\"SA2_code\"].astype(int)"
   ]
  },
  {
   "cell_type": "code",
   "execution_count": null,
   "metadata": {},
   "outputs": [],
   "source": [
    "# join the computed dataframe with geo dataframe\n",
    "consumer_df = num_consumer.merge(gdf[['SA2_code', 'SA2_name', 'geometry']], on='SA2_code')\n",
    "consumer_df.head()"
   ]
  },
  {
   "cell_type": "code",
   "execution_count": null,
   "metadata": {},
   "outputs": [],
   "source": [
    "# plot the map of mean total income for each SA2 district\n",
    "num_consumer_map = draw_map(consumer_df, ['SA2_code','count'], \"Number of Consumers\")\n",
    "num_consumer_map.save('../plots/number_of_consumer_vs_SA2_map.html')"
   ]
  },
  {
   "cell_type": "markdown",
   "metadata": {},
   "source": [
    "### Number of Transactions v.s. SA2"
   ]
  },
  {
   "cell_type": "code",
   "execution_count": null,
   "metadata": {},
   "outputs": [],
   "source": [
    "num_transaction = sdf_all.select(\"SA2_code\", \"order_id\").distinct().dropna().groupBy(\"SA2_code\").count().toPandas()\n",
    "num_transaction[\"SA2_code\"] = num_transaction[\"SA2_code\"].astype(int)\n",
    "\n",
    "# join the computed dataframe with geo dataframe\n",
    "transaction_df = num_transaction.merge(gdf[['SA2_code', 'SA2_name', 'geometry']], on='SA2_code')\n",
    "transaction_df.head()"
   ]
  },
  {
   "cell_type": "code",
   "execution_count": null,
   "metadata": {},
   "outputs": [],
   "source": [
    "# plot the map of mean total income for each SA2 district\n",
    "num_transaction_map = draw_map(transaction_df, ['SA2_code','count'], \"Number of Transactions\")\n",
    "num_transaction_map.save('../plots/number_of_transactions_vs_SA2_map.html')"
   ]
  }
 ],
 "metadata": {
  "kernelspec": {
   "display_name": "Python 3.8.8",
   "language": "python",
   "name": "python3"
  },
  "language_info": {
   "codemirror_mode": {
    "name": "ipython",
    "version": 3
   },
   "file_extension": ".py",
   "mimetype": "text/x-python",
   "name": "python",
   "nbconvert_exporter": "python",
   "pygments_lexer": "ipython3",
   "version": "3.8.8"
  },
  "orig_nbformat": 4,
  "vscode": {
   "interpreter": {
    "hash": "703e593df40508a60fa363339ca2bbb5bae045b0a530fb0e89bc3e7c255f1da9"
   }
  }
 },
 "nbformat": 4,
 "nbformat_minor": 2
}
