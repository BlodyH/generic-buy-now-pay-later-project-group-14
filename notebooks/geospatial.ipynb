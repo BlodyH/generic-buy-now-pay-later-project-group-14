{
 "cells": [
  {
   "cell_type": "code",
   "execution_count": 1,
   "metadata": {},
   "outputs": [],
   "source": [
    "import geopandas as gpd\n",
    "import folium\n",
    "import pandas as pd\n",
    "from pyspark.sql import SparkSession\n",
    "from pyspark.sql import functions as F\n"
   ]
  },
  {
   "cell_type": "code",
   "execution_count": 2,
   "metadata": {},
   "outputs": [
    {
     "name": "stderr",
     "output_type": "stream",
     "text": [
      "22/09/15 11:28:14 WARN Utils: Your hostname, Xiaotongs-MacBook-Pro.local resolves to a loopback address: 127.0.0.1; using 10.13.8.134 instead (on interface en0)\n",
      "22/09/15 11:28:14 WARN Utils: Set SPARK_LOCAL_IP if you need to bind to another address\n",
      "22/09/15 11:28:14 WARN NativeCodeLoader: Unable to load native-hadoop library for your platform... using builtin-java classes where applicable\n",
      "Using Spark's default log4j profile: org/apache/spark/log4j-defaults.properties\n",
      "Setting default log level to \"WARN\".\n",
      "To adjust logging level use sc.setLogLevel(newLevel). For SparkR, use setLogLevel(newLevel).\n",
      "22/09/15 11:28:15 WARN Utils: Service 'SparkUI' could not bind on port 4040. Attempting port 4041.\n"
     ]
    }
   ],
   "source": [
    "# Create a spark session (which will run spark jobs)\n",
    "spark = (\n",
    "    SparkSession.builder.appName(\"MAST30034 Project 2\")\n",
    "    .config(\"spark.sql.repl.eagerEval.enabled\", True) \n",
    "    .config(\"spark.sql.parquet.cacheMetadata\", \"true\")\n",
    "    .config(\"spark.sql.session.timeZone\", \"Etc/UTC\")\n",
    "    .config(\"spark.driver.memory\", \"2g\")\n",
    "    .config(\"spark.executer.memory\", \"4g\")\n",
    "    .getOrCreate()\n",
    ")"
   ]
  },
  {
   "cell_type": "code",
   "execution_count": 3,
   "metadata": {},
   "outputs": [
    {
     "data": {
      "text/html": [
       "<div>\n",
       "<style scoped>\n",
       "    .dataframe tbody tr th:only-of-type {\n",
       "        vertical-align: middle;\n",
       "    }\n",
       "\n",
       "    .dataframe tbody tr th {\n",
       "        vertical-align: top;\n",
       "    }\n",
       "\n",
       "    .dataframe thead th {\n",
       "        text-align: right;\n",
       "    }\n",
       "</style>\n",
       "<table border=\"1\" class=\"dataframe\">\n",
       "  <thead>\n",
       "    <tr style=\"text-align: right;\">\n",
       "      <th></th>\n",
       "      <th>SA2_code</th>\n",
       "      <th>SA2_name</th>\n",
       "      <th>geometry</th>\n",
       "      <th>centroid</th>\n",
       "    </tr>\n",
       "  </thead>\n",
       "  <tbody>\n",
       "    <tr>\n",
       "      <th>0</th>\n",
       "      <td>101021007</td>\n",
       "      <td>Braidwood</td>\n",
       "      <td>POLYGON ((149.58424 -35.44426, 149.58444 -35.4...</td>\n",
       "      <td>(-35.45506362754262, 149.79323458580757)</td>\n",
       "    </tr>\n",
       "    <tr>\n",
       "      <th>1</th>\n",
       "      <td>101021008</td>\n",
       "      <td>Karabar</td>\n",
       "      <td>POLYGON ((149.21899 -35.36738, 149.21800 -35.3...</td>\n",
       "      <td>(-35.37594104823316, 149.23280174411747)</td>\n",
       "    </tr>\n",
       "    <tr>\n",
       "      <th>2</th>\n",
       "      <td>101021009</td>\n",
       "      <td>Queanbeyan</td>\n",
       "      <td>POLYGON ((149.21326 -35.34325, 149.21619 -35.3...</td>\n",
       "      <td>(-35.35102995469765, 149.22546319520652)</td>\n",
       "    </tr>\n",
       "    <tr>\n",
       "      <th>3</th>\n",
       "      <td>101021010</td>\n",
       "      <td>Queanbeyan - East</td>\n",
       "      <td>POLYGON ((149.24034 -35.34781, 149.24024 -35.3...</td>\n",
       "      <td>(-35.35516024135807, 149.25241255258334)</td>\n",
       "    </tr>\n",
       "    <tr>\n",
       "      <th>4</th>\n",
       "      <td>101021012</td>\n",
       "      <td>Queanbeyan West - Jerrabomberra</td>\n",
       "      <td>POLYGON ((149.19572 -35.36126, 149.19970 -35.3...</td>\n",
       "      <td>(-35.377580426117056, 149.20284846752082)</td>\n",
       "    </tr>\n",
       "  </tbody>\n",
       "</table>\n",
       "</div>"
      ],
      "text/plain": [
       "    SA2_code                         SA2_name  \\\n",
       "0  101021007                        Braidwood   \n",
       "1  101021008                          Karabar   \n",
       "2  101021009                       Queanbeyan   \n",
       "3  101021010                Queanbeyan - East   \n",
       "4  101021012  Queanbeyan West - Jerrabomberra   \n",
       "\n",
       "                                            geometry  \\\n",
       "0  POLYGON ((149.58424 -35.44426, 149.58444 -35.4...   \n",
       "1  POLYGON ((149.21899 -35.36738, 149.21800 -35.3...   \n",
       "2  POLYGON ((149.21326 -35.34325, 149.21619 -35.3...   \n",
       "3  POLYGON ((149.24034 -35.34781, 149.24024 -35.3...   \n",
       "4  POLYGON ((149.19572 -35.36126, 149.19970 -35.3...   \n",
       "\n",
       "                                    centroid  \n",
       "0   (-35.45506362754262, 149.79323458580757)  \n",
       "1   (-35.37594104823316, 149.23280174411747)  \n",
       "2   (-35.35102995469765, 149.22546319520652)  \n",
       "3   (-35.35516024135807, 149.25241255258334)  \n",
       "4  (-35.377580426117056, 149.20284846752082)  "
      ]
     },
     "execution_count": 3,
     "metadata": {},
     "output_type": "execute_result"
    }
   ],
   "source": [
    "sf = gpd.read_file(\"../data/external/SA2_2021/SA2_2021_AUST_GDA2020.shp\")\n",
    "sf = sf[[\"SA2_CODE21\", \"SA2_NAME21\", \"geometry\"]]\n",
    "sf.rename(columns={\"SA2_CODE21\":\"SA2_code\", \"SA2_NAME21\": \"SA2_name\"}, inplace=True)\n",
    "sf = sf.loc[sf.geometry != None]\n",
    "sf[\"SA2_code\"] = sf[\"SA2_code\"].astype(int)\n",
    "gdf = gpd.GeoDataFrame(sf)\n",
    "\n",
    "# create a JSON \n",
    "geoJSON = gdf.drop_duplicates(\"SA2_code\").to_json()\n",
    "\n",
    "# derive zone centroids \n",
    "gdf['centroid'] = gdf['geometry'].apply(lambda x: (x.centroid.y, x.centroid.x))\n",
    "gdf.head()"
   ]
  },
  {
   "cell_type": "code",
   "execution_count": 4,
   "metadata": {},
   "outputs": [
    {
     "name": "stderr",
     "output_type": "stream",
     "text": [
      "                                                                                \r"
     ]
    },
    {
     "data": {
      "text/plain": [
       "7817737"
      ]
     },
     "execution_count": 4,
     "metadata": {},
     "output_type": "execute_result"
    }
   ],
   "source": [
    "sdf_all = spark.read.parquet(\"../data/curated/full_data/\")\n",
    "sdf_all.count()"
   ]
  },
  {
   "cell_type": "code",
   "execution_count": 5,
   "metadata": {},
   "outputs": [
    {
     "name": "stdout",
     "output_type": "stream",
     "text": [
      "root\n",
      " |-- user_id: long (nullable = true)\n",
      " |-- SA2_code: integer (nullable = true)\n",
      " |-- postcode: integer (nullable = true)\n",
      " |-- consumer_id: integer (nullable = true)\n",
      " |-- state: string (nullable = true)\n",
      " |-- gender: string (nullable = true)\n",
      " |-- mean_total_income: integer (nullable = true)\n",
      " |-- merchant_abn: long (nullable = true)\n",
      " |-- dollar_value: double (nullable = true)\n",
      " |-- order_id: string (nullable = true)\n",
      " |-- name: string (nullable = true)\n",
      " |-- tags: string (nullable = true)\n",
      " |-- revenue_level: string (nullable = true)\n",
      " |-- take_rate: double (nullable = true)\n",
      "\n"
     ]
    }
   ],
   "source": [
    "sdf_all.printSchema()"
   ]
  },
  {
   "cell_type": "code",
   "execution_count": 6,
   "metadata": {},
   "outputs": [],
   "source": [
    "# this function plots a choropleth map for a given dataframe and legend name\n",
    "def draw_map(df, columns, legend_name):\n",
    "    map = folium.Map(location=[-30, 144], width=800, height=500, tiles=\"cartodbpositron\", zoom_start=4)\n",
    "\n",
    "    c = folium.Choropleth(\n",
    "        geo_data=geoJSON, # geoJSON \n",
    "        name='choropleth', \n",
    "        data=df.reset_index(), # data source\n",
    "        columns=columns, # the columns required\n",
    "        key_on='properties.SA2_code', # this is from the geoJSON's properties\n",
    "        fill_color='YlOrRd', # color scheme\n",
    "        line_opacity=0.1,\n",
    "        fill_opacity=0.7,\n",
    "        legend_name=legend_name\n",
    "    )\n",
    "    c.add_to(map)\n",
    "    return map"
   ]
  },
  {
   "cell_type": "markdown",
   "metadata": {},
   "source": [
    "### Mean Total Income v.s. SA2 "
   ]
  },
  {
   "cell_type": "code",
   "execution_count": 7,
   "metadata": {},
   "outputs": [
    {
     "name": "stderr",
     "output_type": "stream",
     "text": [
      "                                                                                \r"
     ]
    },
    {
     "data": {
      "text/html": [
       "<div>\n",
       "<style scoped>\n",
       "    .dataframe tbody tr th:only-of-type {\n",
       "        vertical-align: middle;\n",
       "    }\n",
       "\n",
       "    .dataframe tbody tr th {\n",
       "        vertical-align: top;\n",
       "    }\n",
       "\n",
       "    .dataframe thead th {\n",
       "        text-align: right;\n",
       "    }\n",
       "</style>\n",
       "<table border=\"1\" class=\"dataframe\">\n",
       "  <thead>\n",
       "    <tr style=\"text-align: right;\">\n",
       "      <th></th>\n",
       "      <th>SA2_code</th>\n",
       "      <th>mean_total_income</th>\n",
       "    </tr>\n",
       "  </thead>\n",
       "  <tbody>\n",
       "    <tr>\n",
       "      <th>0</th>\n",
       "      <td>310021282</td>\n",
       "      <td>55940</td>\n",
       "    </tr>\n",
       "    <tr>\n",
       "      <th>1</th>\n",
       "      <td>405011113</td>\n",
       "      <td>50782</td>\n",
       "    </tr>\n",
       "    <tr>\n",
       "      <th>2</th>\n",
       "      <td>215011387</td>\n",
       "      <td>60456</td>\n",
       "    </tr>\n",
       "    <tr>\n",
       "      <th>3</th>\n",
       "      <td>124041468</td>\n",
       "      <td>62728</td>\n",
       "    </tr>\n",
       "    <tr>\n",
       "      <th>4</th>\n",
       "      <td>204011058</td>\n",
       "      <td>56206</td>\n",
       "    </tr>\n",
       "  </tbody>\n",
       "</table>\n",
       "</div>"
      ],
      "text/plain": [
       "    SA2_code  mean_total_income\n",
       "0  310021282              55940\n",
       "1  405011113              50782\n",
       "2  215011387              60456\n",
       "3  124041468              62728\n",
       "4  204011058              56206"
      ]
     },
     "execution_count": 7,
     "metadata": {},
     "output_type": "execute_result"
    }
   ],
   "source": [
    "# extract mean total income of each SA2 district\n",
    "mean_income = sdf_all.select(\"SA2_code\", \"mean_total_income\").distinct().dropna().toPandas()\n",
    "mean_income[\"SA2_code\"] = mean_income[\"SA2_code\"].astype(int)\n",
    "mean_income.head()"
   ]
  },
  {
   "cell_type": "code",
   "execution_count": 8,
   "metadata": {},
   "outputs": [
    {
     "data": {
      "text/html": [
       "<div>\n",
       "<style scoped>\n",
       "    .dataframe tbody tr th:only-of-type {\n",
       "        vertical-align: middle;\n",
       "    }\n",
       "\n",
       "    .dataframe tbody tr th {\n",
       "        vertical-align: top;\n",
       "    }\n",
       "\n",
       "    .dataframe thead th {\n",
       "        text-align: right;\n",
       "    }\n",
       "</style>\n",
       "<table border=\"1\" class=\"dataframe\">\n",
       "  <thead>\n",
       "    <tr style=\"text-align: right;\">\n",
       "      <th></th>\n",
       "      <th>SA2_code</th>\n",
       "      <th>mean_total_income</th>\n",
       "      <th>SA2_name</th>\n",
       "      <th>geometry</th>\n",
       "    </tr>\n",
       "  </thead>\n",
       "  <tbody>\n",
       "    <tr>\n",
       "      <th>0</th>\n",
       "      <td>310021282</td>\n",
       "      <td>55940</td>\n",
       "      <td>Rosewood</td>\n",
       "      <td>POLYGON ((152.47997 -27.61784, 152.48045 -27.6...</td>\n",
       "    </tr>\n",
       "    <tr>\n",
       "      <th>1</th>\n",
       "      <td>405011113</td>\n",
       "      <td>50782</td>\n",
       "      <td>Mallala</td>\n",
       "      <td>POLYGON ((138.25959 -34.44326, 138.25959 -34.4...</td>\n",
       "    </tr>\n",
       "    <tr>\n",
       "      <th>2</th>\n",
       "      <td>215011387</td>\n",
       "      <td>60456</td>\n",
       "      <td>Ararat Surrounds</td>\n",
       "      <td>POLYGON ((142.42681 -37.45834, 142.42710 -37.4...</td>\n",
       "    </tr>\n",
       "    <tr>\n",
       "      <th>3</th>\n",
       "      <td>124041468</td>\n",
       "      <td>62728</td>\n",
       "      <td>Yarramundi - Londonderry</td>\n",
       "      <td>POLYGON ((150.67085 -33.64447, 150.66969 -33.6...</td>\n",
       "    </tr>\n",
       "    <tr>\n",
       "      <th>4</th>\n",
       "      <td>204011058</td>\n",
       "      <td>56206</td>\n",
       "      <td>Nagambie</td>\n",
       "      <td>POLYGON ((144.93194 -36.74791, 144.93206 -36.7...</td>\n",
       "    </tr>\n",
       "    <tr>\n",
       "      <th>...</th>\n",
       "      <td>...</td>\n",
       "      <td>...</td>\n",
       "      <td>...</td>\n",
       "      <td>...</td>\n",
       "    </tr>\n",
       "    <tr>\n",
       "      <th>1256</th>\n",
       "      <td>801031113</td>\n",
       "      <td>52454</td>\n",
       "      <td>Canberra East</td>\n",
       "      <td>POLYGON ((149.20739 -35.34524, 149.20717 -35.3...</td>\n",
       "    </tr>\n",
       "    <tr>\n",
       "      <th>1257</th>\n",
       "      <td>128011531</td>\n",
       "      <td>76206</td>\n",
       "      <td>Sylvania - Taren Point</td>\n",
       "      <td>POLYGON ((151.09069 -34.01082, 151.09068 -34.0...</td>\n",
       "    </tr>\n",
       "    <tr>\n",
       "      <th>1258</th>\n",
       "      <td>123031447</td>\n",
       "      <td>63644</td>\n",
       "      <td>Picton - Tahmoor - Buxton</td>\n",
       "      <td>POLYGON ((150.50758 -34.25908, 150.50120 -34.2...</td>\n",
       "    </tr>\n",
       "    <tr>\n",
       "      <th>1259</th>\n",
       "      <td>316051437</td>\n",
       "      <td>64322</td>\n",
       "      <td>Sunshine Beach</td>\n",
       "      <td>POLYGON ((153.10270 -26.40147, 153.10275 -26.4...</td>\n",
       "    </tr>\n",
       "    <tr>\n",
       "      <th>1260</th>\n",
       "      <td>111031223</td>\n",
       "      <td>52504</td>\n",
       "      <td>Beresfield - Hexham</td>\n",
       "      <td>POLYGON ((151.62506 -32.80832, 151.62559 -32.8...</td>\n",
       "    </tr>\n",
       "  </tbody>\n",
       "</table>\n",
       "<p>1261 rows × 4 columns</p>\n",
       "</div>"
      ],
      "text/plain": [
       "       SA2_code  mean_total_income                   SA2_name  \\\n",
       "0     310021282              55940                   Rosewood   \n",
       "1     405011113              50782                    Mallala   \n",
       "2     215011387              60456           Ararat Surrounds   \n",
       "3     124041468              62728   Yarramundi - Londonderry   \n",
       "4     204011058              56206                   Nagambie   \n",
       "...         ...                ...                        ...   \n",
       "1256  801031113              52454              Canberra East   \n",
       "1257  128011531              76206     Sylvania - Taren Point   \n",
       "1258  123031447              63644  Picton - Tahmoor - Buxton   \n",
       "1259  316051437              64322             Sunshine Beach   \n",
       "1260  111031223              52504        Beresfield - Hexham   \n",
       "\n",
       "                                               geometry  \n",
       "0     POLYGON ((152.47997 -27.61784, 152.48045 -27.6...  \n",
       "1     POLYGON ((138.25959 -34.44326, 138.25959 -34.4...  \n",
       "2     POLYGON ((142.42681 -37.45834, 142.42710 -37.4...  \n",
       "3     POLYGON ((150.67085 -33.64447, 150.66969 -33.6...  \n",
       "4     POLYGON ((144.93194 -36.74791, 144.93206 -36.7...  \n",
       "...                                                 ...  \n",
       "1256  POLYGON ((149.20739 -35.34524, 149.20717 -35.3...  \n",
       "1257  POLYGON ((151.09069 -34.01082, 151.09068 -34.0...  \n",
       "1258  POLYGON ((150.50758 -34.25908, 150.50120 -34.2...  \n",
       "1259  POLYGON ((153.10270 -26.40147, 153.10275 -26.4...  \n",
       "1260  POLYGON ((151.62506 -32.80832, 151.62559 -32.8...  \n",
       "\n",
       "[1261 rows x 4 columns]"
      ]
     },
     "execution_count": 8,
     "metadata": {},
     "output_type": "execute_result"
    }
   ],
   "source": [
    "# join the computed dataframe with geo dataframe\n",
    "income_df = mean_income.merge(gdf[['SA2_code', 'SA2_name', 'geometry']], on='SA2_code')\n",
    "income_df"
   ]
  },
  {
   "cell_type": "code",
   "execution_count": 9,
   "metadata": {},
   "outputs": [
    {
     "data": {
      "text/html": [
       "<div>\n",
       "<style scoped>\n",
       "    .dataframe tbody tr th:only-of-type {\n",
       "        vertical-align: middle;\n",
       "    }\n",
       "\n",
       "    .dataframe tbody tr th {\n",
       "        vertical-align: top;\n",
       "    }\n",
       "\n",
       "    .dataframe thead th {\n",
       "        text-align: right;\n",
       "    }\n",
       "</style>\n",
       "<table border=\"1\" class=\"dataframe\">\n",
       "  <thead>\n",
       "    <tr style=\"text-align: right;\">\n",
       "      <th></th>\n",
       "      <th>SA2_code</th>\n",
       "      <th>mean_total_income</th>\n",
       "      <th>SA2_name</th>\n",
       "      <th>geometry</th>\n",
       "    </tr>\n",
       "  </thead>\n",
       "  <tbody>\n",
       "    <tr>\n",
       "      <th>398</th>\n",
       "      <td>503021037</td>\n",
       "      <td>276862</td>\n",
       "      <td>Kings Park (WA)</td>\n",
       "      <td>POLYGON ((115.83968 -31.96616, 115.83964 -31.9...</td>\n",
       "    </tr>\n",
       "    <tr>\n",
       "      <th>1128</th>\n",
       "      <td>503011032</td>\n",
       "      <td>281099</td>\n",
       "      <td>Cottesloe</td>\n",
       "      <td>POLYGON ((115.75101 -31.99292, 115.75101 -31.9...</td>\n",
       "    </tr>\n",
       "  </tbody>\n",
       "</table>\n",
       "</div>"
      ],
      "text/plain": [
       "       SA2_code  mean_total_income         SA2_name  \\\n",
       "398   503021037             276862  Kings Park (WA)   \n",
       "1128  503011032             281099        Cottesloe   \n",
       "\n",
       "                                               geometry  \n",
       "398   POLYGON ((115.83968 -31.96616, 115.83964 -31.9...  \n",
       "1128  POLYGON ((115.75101 -31.99292, 115.75101 -31.9...  "
      ]
     },
     "execution_count": 9,
     "metadata": {},
     "output_type": "execute_result"
    }
   ],
   "source": [
    "income_df.loc[income_df[\"mean_total_income\"]>200000]"
   ]
  },
  {
   "cell_type": "code",
   "execution_count": 10,
   "metadata": {},
   "outputs": [],
   "source": [
    "# plot the map of mean total income for each SA2 district\n",
    "income_map = draw_map(income_df, ['SA2_code','mean_total_income'], \"Mean Total Income ($)\")\n",
    "income_map.save('../plots/mean_income_vs_SA2_map.html')\n"
   ]
  },
  {
   "cell_type": "markdown",
   "metadata": {},
   "source": [
    "### Number of Consumers v.s. SA2"
   ]
  },
  {
   "cell_type": "code",
   "execution_count": 11,
   "metadata": {},
   "outputs": [
    {
     "name": "stderr",
     "output_type": "stream",
     "text": [
      "                                                                                \r"
     ]
    }
   ],
   "source": [
    "num_consumer = sdf_all.select(\"SA2_code\", \"consumer_id\").distinct().dropna().groupBy(\"SA2_code\").count().toPandas()\n",
    "num_consumer[\"SA2_code\"] = num_consumer[\"SA2_code\"].astype(int)"
   ]
  },
  {
   "cell_type": "code",
   "execution_count": 12,
   "metadata": {},
   "outputs": [
    {
     "data": {
      "text/html": [
       "<div>\n",
       "<style scoped>\n",
       "    .dataframe tbody tr th:only-of-type {\n",
       "        vertical-align: middle;\n",
       "    }\n",
       "\n",
       "    .dataframe tbody tr th {\n",
       "        vertical-align: top;\n",
       "    }\n",
       "\n",
       "    .dataframe thead th {\n",
       "        text-align: right;\n",
       "    }\n",
       "</style>\n",
       "<table border=\"1\" class=\"dataframe\">\n",
       "  <thead>\n",
       "    <tr style=\"text-align: right;\">\n",
       "      <th></th>\n",
       "      <th>SA2_code</th>\n",
       "      <th>count</th>\n",
       "      <th>SA2_name</th>\n",
       "      <th>geometry</th>\n",
       "    </tr>\n",
       "  </thead>\n",
       "  <tbody>\n",
       "    <tr>\n",
       "      <th>0</th>\n",
       "      <td>121031410</td>\n",
       "      <td>8</td>\n",
       "      <td>St Ives</td>\n",
       "      <td>POLYGON ((151.15101 -33.72502, 151.14961 -33.7...</td>\n",
       "    </tr>\n",
       "    <tr>\n",
       "      <th>1</th>\n",
       "      <td>510031273</td>\n",
       "      <td>32</td>\n",
       "      <td>Roebourne</td>\n",
       "      <td>MULTIPOLYGON (((115.43450 -21.32744, 115.43378...</td>\n",
       "    </tr>\n",
       "    <tr>\n",
       "      <th>2</th>\n",
       "      <td>307011177</td>\n",
       "      <td>82</td>\n",
       "      <td>Roma Surrounds</td>\n",
       "      <td>POLYGON ((147.44676 -26.11513, 147.45136 -26.0...</td>\n",
       "    </tr>\n",
       "    <tr>\n",
       "      <th>3</th>\n",
       "      <td>211021261</td>\n",
       "      <td>18</td>\n",
       "      <td>Donvale - Park Orchards</td>\n",
       "      <td>POLYGON ((145.17468 -37.78406, 145.17432 -37.7...</td>\n",
       "    </tr>\n",
       "    <tr>\n",
       "      <th>4</th>\n",
       "      <td>115021298</td>\n",
       "      <td>18</td>\n",
       "      <td>Galston - Laughtondale</td>\n",
       "      <td>MULTIPOLYGON (((151.15205 -33.52766, 151.15205...</td>\n",
       "    </tr>\n",
       "  </tbody>\n",
       "</table>\n",
       "</div>"
      ],
      "text/plain": [
       "    SA2_code  count                 SA2_name  \\\n",
       "0  121031410      8                  St Ives   \n",
       "1  510031273     32                Roebourne   \n",
       "2  307011177     82           Roma Surrounds   \n",
       "3  211021261     18  Donvale - Park Orchards   \n",
       "4  115021298     18   Galston - Laughtondale   \n",
       "\n",
       "                                            geometry  \n",
       "0  POLYGON ((151.15101 -33.72502, 151.14961 -33.7...  \n",
       "1  MULTIPOLYGON (((115.43450 -21.32744, 115.43378...  \n",
       "2  POLYGON ((147.44676 -26.11513, 147.45136 -26.0...  \n",
       "3  POLYGON ((145.17468 -37.78406, 145.17432 -37.7...  \n",
       "4  MULTIPOLYGON (((151.15205 -33.52766, 151.15205...  "
      ]
     },
     "execution_count": 12,
     "metadata": {},
     "output_type": "execute_result"
    }
   ],
   "source": [
    "# join the computed dataframe with geo dataframe\n",
    "consumer_df = num_consumer.merge(gdf[['SA2_code', 'SA2_name', 'geometry']], on='SA2_code')\n",
    "consumer_df.head()"
   ]
  },
  {
   "cell_type": "code",
   "execution_count": 13,
   "metadata": {},
   "outputs": [],
   "source": [
    "# plot the map of mean total income for each SA2 district\n",
    "num_consumer_map = draw_map(consumer_df, ['SA2_code','count'], \"Number of Consumers\")\n",
    "num_consumer_map.save('../plots/number_of_consumer_vs_SA2_map.html')"
   ]
  },
  {
   "cell_type": "markdown",
   "metadata": {},
   "source": [
    "### Number of Transactions v.s. SA2"
   ]
  },
  {
   "cell_type": "code",
   "execution_count": 14,
   "metadata": {},
   "outputs": [
    {
     "name": "stderr",
     "output_type": "stream",
     "text": [
      "                                                                                \r"
     ]
    },
    {
     "data": {
      "text/html": [
       "<div>\n",
       "<style scoped>\n",
       "    .dataframe tbody tr th:only-of-type {\n",
       "        vertical-align: middle;\n",
       "    }\n",
       "\n",
       "    .dataframe tbody tr th {\n",
       "        vertical-align: top;\n",
       "    }\n",
       "\n",
       "    .dataframe thead th {\n",
       "        text-align: right;\n",
       "    }\n",
       "</style>\n",
       "<table border=\"1\" class=\"dataframe\">\n",
       "  <thead>\n",
       "    <tr style=\"text-align: right;\">\n",
       "      <th></th>\n",
       "      <th>SA2_code</th>\n",
       "      <th>count</th>\n",
       "      <th>SA2_name</th>\n",
       "      <th>geometry</th>\n",
       "    </tr>\n",
       "  </thead>\n",
       "  <tbody>\n",
       "    <tr>\n",
       "      <th>0</th>\n",
       "      <td>211021261</td>\n",
       "      <td>5639</td>\n",
       "      <td>Donvale - Park Orchards</td>\n",
       "      <td>POLYGON ((145.17468 -37.78406, 145.17432 -37.7...</td>\n",
       "    </tr>\n",
       "    <tr>\n",
       "      <th>1</th>\n",
       "      <td>307011177</td>\n",
       "      <td>26810</td>\n",
       "      <td>Roma Surrounds</td>\n",
       "      <td>POLYGON ((147.44676 -26.11513, 147.45136 -26.0...</td>\n",
       "    </tr>\n",
       "    <tr>\n",
       "      <th>2</th>\n",
       "      <td>510031273</td>\n",
       "      <td>10392</td>\n",
       "      <td>Roebourne</td>\n",
       "      <td>MULTIPOLYGON (((115.43450 -21.32744, 115.43378...</td>\n",
       "    </tr>\n",
       "    <tr>\n",
       "      <th>3</th>\n",
       "      <td>115021298</td>\n",
       "      <td>5716</td>\n",
       "      <td>Galston - Laughtondale</td>\n",
       "      <td>MULTIPOLYGON (((151.15205 -33.52766, 151.15205...</td>\n",
       "    </tr>\n",
       "    <tr>\n",
       "      <th>4</th>\n",
       "      <td>121031410</td>\n",
       "      <td>2560</td>\n",
       "      <td>St Ives</td>\n",
       "      <td>POLYGON ((151.15101 -33.72502, 151.14961 -33.7...</td>\n",
       "    </tr>\n",
       "  </tbody>\n",
       "</table>\n",
       "</div>"
      ],
      "text/plain": [
       "    SA2_code  count                 SA2_name  \\\n",
       "0  211021261   5639  Donvale - Park Orchards   \n",
       "1  307011177  26810           Roma Surrounds   \n",
       "2  510031273  10392                Roebourne   \n",
       "3  115021298   5716   Galston - Laughtondale   \n",
       "4  121031410   2560                  St Ives   \n",
       "\n",
       "                                            geometry  \n",
       "0  POLYGON ((145.17468 -37.78406, 145.17432 -37.7...  \n",
       "1  POLYGON ((147.44676 -26.11513, 147.45136 -26.0...  \n",
       "2  MULTIPOLYGON (((115.43450 -21.32744, 115.43378...  \n",
       "3  MULTIPOLYGON (((151.15205 -33.52766, 151.15205...  \n",
       "4  POLYGON ((151.15101 -33.72502, 151.14961 -33.7...  "
      ]
     },
     "execution_count": 14,
     "metadata": {},
     "output_type": "execute_result"
    }
   ],
   "source": [
    "num_transaction = sdf_all.select(\"SA2_code\", \"order_id\").distinct().dropna().groupBy(\"SA2_code\").count().toPandas()\n",
    "num_transaction[\"SA2_code\"] = num_transaction[\"SA2_code\"].astype(int)\n",
    "\n",
    "# join the computed dataframe with geo dataframe\n",
    "transaction_df = num_transaction.merge(gdf[['SA2_code', 'SA2_name', 'geometry']], on='SA2_code')\n",
    "transaction_df.head()"
   ]
  },
  {
   "cell_type": "code",
   "execution_count": 15,
   "metadata": {},
   "outputs": [],
   "source": [
    "# plot the map of mean total income for each SA2 district\n",
    "num_transaction_map = draw_map(transaction_df, ['SA2_code','count'], \"Number of Transactions\")\n",
    "num_transaction_map.save('../plots/number_of_transactions_vs_SA2_map.html')"
   ]
  },
  {
   "cell_type": "markdown",
   "metadata": {},
   "source": [
    "### Median Order Value v.s. SA2"
   ]
  },
  {
   "cell_type": "code",
   "execution_count": 16,
   "metadata": {},
   "outputs": [
    {
     "name": "stderr",
     "output_type": "stream",
     "text": [
      "                                                                                \r"
     ]
    },
    {
     "data": {
      "text/html": [
       "<div>\n",
       "<style scoped>\n",
       "    .dataframe tbody tr th:only-of-type {\n",
       "        vertical-align: middle;\n",
       "    }\n",
       "\n",
       "    .dataframe tbody tr th {\n",
       "        vertical-align: top;\n",
       "    }\n",
       "\n",
       "    .dataframe thead th {\n",
       "        text-align: right;\n",
       "    }\n",
       "</style>\n",
       "<table border=\"1\" class=\"dataframe\">\n",
       "  <thead>\n",
       "    <tr style=\"text-align: right;\">\n",
       "      <th></th>\n",
       "      <th>SA2_code</th>\n",
       "      <th>median_dollar_value</th>\n",
       "      <th>SA2_name</th>\n",
       "      <th>geometry</th>\n",
       "    </tr>\n",
       "  </thead>\n",
       "  <tbody>\n",
       "    <tr>\n",
       "      <th>0</th>\n",
       "      <td>115021298</td>\n",
       "      <td>59.721401</td>\n",
       "      <td>Galston - Laughtondale</td>\n",
       "      <td>MULTIPOLYGON (((151.15205 -33.52766, 151.15205...</td>\n",
       "    </tr>\n",
       "    <tr>\n",
       "      <th>1</th>\n",
       "      <td>211021261</td>\n",
       "      <td>59.662805</td>\n",
       "      <td>Donvale - Park Orchards</td>\n",
       "      <td>POLYGON ((145.17468 -37.78406, 145.17432 -37.7...</td>\n",
       "    </tr>\n",
       "    <tr>\n",
       "      <th>2</th>\n",
       "      <td>307011177</td>\n",
       "      <td>61.053364</td>\n",
       "      <td>Roma Surrounds</td>\n",
       "      <td>POLYGON ((147.44676 -26.11513, 147.45136 -26.0...</td>\n",
       "    </tr>\n",
       "    <tr>\n",
       "      <th>3</th>\n",
       "      <td>510031273</td>\n",
       "      <td>61.243852</td>\n",
       "      <td>Roebourne</td>\n",
       "      <td>MULTIPOLYGON (((115.43450 -21.32744, 115.43378...</td>\n",
       "    </tr>\n",
       "    <tr>\n",
       "      <th>4</th>\n",
       "      <td>121031410</td>\n",
       "      <td>64.812563</td>\n",
       "      <td>St Ives</td>\n",
       "      <td>POLYGON ((151.15101 -33.72502, 151.14961 -33.7...</td>\n",
       "    </tr>\n",
       "  </tbody>\n",
       "</table>\n",
       "</div>"
      ],
      "text/plain": [
       "    SA2_code  median_dollar_value                 SA2_name  \\\n",
       "0  115021298            59.721401   Galston - Laughtondale   \n",
       "1  211021261            59.662805  Donvale - Park Orchards   \n",
       "2  307011177            61.053364           Roma Surrounds   \n",
       "3  510031273            61.243852                Roebourne   \n",
       "4  121031410            64.812563                  St Ives   \n",
       "\n",
       "                                            geometry  \n",
       "0  MULTIPOLYGON (((151.15205 -33.52766, 151.15205...  \n",
       "1  POLYGON ((145.17468 -37.78406, 145.17432 -37.7...  \n",
       "2  POLYGON ((147.44676 -26.11513, 147.45136 -26.0...  \n",
       "3  MULTIPOLYGON (((115.43450 -21.32744, 115.43378...  \n",
       "4  POLYGON ((151.15101 -33.72502, 151.14961 -33.7...  "
      ]
     },
     "execution_count": 16,
     "metadata": {},
     "output_type": "execute_result"
    }
   ],
   "source": [
    "median_dollar_value = sdf_all.select(\"SA2_code\", \"dollar_value\").dropna().groupBy(\"SA2_code\")\\\n",
    "            .agg(F.percentile_approx(\"dollar_value\", 0.5)\\\n",
    "            .alias(\"median_dollar_value\"))\\\n",
    "            .toPandas()\n",
    "median_dollar_value[\"SA2_code\"] = median_dollar_value[\"SA2_code\"].astype(int)\n",
    "\n",
    "# join the computed dataframe with geo dataframe\n",
    "dollar_value_df = median_dollar_value.merge(gdf[['SA2_code', 'SA2_name', 'geometry']], on='SA2_code')\n",
    "dollar_value_df.head()"
   ]
  },
  {
   "cell_type": "code",
   "execution_count": 17,
   "metadata": {},
   "outputs": [],
   "source": [
    "# plot the map of mean total income for each SA2 district\n",
    "median_dollar_value_map = draw_map(dollar_value_df, ['SA2_code','median_dollar_value'], \"Median Dollar Value ($)\")\n",
    "median_dollar_value_map.save('../plots/median_dollar_value_vs_SA2_map.html')"
   ]
  }
 ],
 "metadata": {
  "kernelspec": {
   "display_name": "Python 3.7.13 ('xt')",
   "language": "python",
   "name": "python3"
  },
  "language_info": {
   "codemirror_mode": {
    "name": "ipython",
    "version": 3
   },
   "file_extension": ".py",
   "mimetype": "text/x-python",
   "name": "python",
   "nbconvert_exporter": "python",
   "pygments_lexer": "ipython3",
   "version": "3.7.13"
  },
  "orig_nbformat": 4,
  "vscode": {
   "interpreter": {
    "hash": "464aeb025fe7529aa14c472f74018451d543299a7c7ff36fe116837387c8b1ec"
   }
  }
 },
 "nbformat": 4,
 "nbformat_minor": 2
}
