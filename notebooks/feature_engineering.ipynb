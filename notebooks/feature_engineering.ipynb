{
 "cells": [
  {
   "cell_type": "code",
   "execution_count": 1,
   "metadata": {},
   "outputs": [],
   "source": [
    "from pyspark.sql import SparkSession\n",
    "from pyspark.sql import functions as F\n",
    "import pandas as pd"
   ]
  },
  {
   "cell_type": "code",
   "execution_count": 2,
   "metadata": {},
   "outputs": [
    {
     "name": "stderr",
     "output_type": "stream",
     "text": [
      "22/10/05 13:43:27 WARN Utils: Your hostname, Xiaotongs-MacBook-Pro.local resolves to a loopback address: 127.0.0.1; using 10.13.0.57 instead (on interface en0)\n",
      "22/10/05 13:43:27 WARN Utils: Set SPARK_LOCAL_IP if you need to bind to another address\n",
      "22/10/05 13:43:27 WARN NativeCodeLoader: Unable to load native-hadoop library for your platform... using builtin-java classes where applicable\n",
      "Using Spark's default log4j profile: org/apache/spark/log4j-defaults.properties\n",
      "Setting default log level to \"WARN\".\n",
      "To adjust logging level use sc.setLogLevel(newLevel). For SparkR, use setLogLevel(newLevel).\n"
     ]
    }
   ],
   "source": [
    "# Create a spark session (which will run spark jobs)\n",
    "spark = (\n",
    "    SparkSession.builder.appName(\"MAST30034 Project 2\")\n",
    "    .config(\"spark.sql.repl.eagerEval.enabled\", True) \n",
    "    .config(\"spark.sql.parquet.cacheMetadata\", \"true\")\n",
    "    .config(\"spark.sql.session.timeZone\", \"Etc/UTC\")\n",
    "    .config(\"spark.driver.memory\", \"2g\")\n",
    "    .config(\"spark.executer.memory\", \"4g\")\n",
    "    .getOrCreate()\n",
    ")"
   ]
  },
  {
   "cell_type": "code",
   "execution_count": 3,
   "metadata": {},
   "outputs": [
    {
     "ename": "AnalysisException",
     "evalue": "Path does not exist: file:/Users/xiaotongwang/Desktop/generic-buy-now-pay-later-project-group-14/data/curated/full_data_with_fraud",
     "output_type": "error",
     "traceback": [
      "\u001b[0;31m---------------------------------------------------------------------------\u001b[0m",
      "\u001b[0;31mAnalysisException\u001b[0m                         Traceback (most recent call last)",
      "\u001b[0;32m/var/folders/nk/swzxpfvs7ps6h7qwdy1x7wjw0000gn/T/ipykernel_28222/4119615732.py\u001b[0m in \u001b[0;36m<module>\u001b[0;34m\u001b[0m\n\u001b[0;32m----> 1\u001b[0;31m \u001b[0msdf\u001b[0m \u001b[0;34m=\u001b[0m \u001b[0mspark\u001b[0m\u001b[0;34m.\u001b[0m\u001b[0mread\u001b[0m\u001b[0;34m.\u001b[0m\u001b[0mparquet\u001b[0m\u001b[0;34m(\u001b[0m\u001b[0;34m\"../data/curated/full_data_with_fraud/\"\u001b[0m\u001b[0;34m)\u001b[0m\u001b[0;34m\u001b[0m\u001b[0;34m\u001b[0m\u001b[0m\n\u001b[0m\u001b[1;32m      2\u001b[0m \u001b[0msdf\u001b[0m\u001b[0;34m.\u001b[0m\u001b[0mprintSchema\u001b[0m\u001b[0;34m(\u001b[0m\u001b[0;34m)\u001b[0m\u001b[0;34m\u001b[0m\u001b[0;34m\u001b[0m\u001b[0m\n\u001b[1;32m      3\u001b[0m \u001b[0msdf\u001b[0m\u001b[0;34m.\u001b[0m\u001b[0mcount\u001b[0m\u001b[0;34m(\u001b[0m\u001b[0;34m)\u001b[0m\u001b[0;34m\u001b[0m\u001b[0;34m\u001b[0m\u001b[0m\n",
      "\u001b[0;32m~/opt/anaconda3/envs/xt/lib/python3.7/site-packages/pyspark/sql/readwriter.py\u001b[0m in \u001b[0;36mparquet\u001b[0;34m(self, *paths, **options)\u001b[0m\n\u001b[1;32m    456\u001b[0m                        modifiedAfter=modifiedAfter)\n\u001b[1;32m    457\u001b[0m \u001b[0;34m\u001b[0m\u001b[0m\n\u001b[0;32m--> 458\u001b[0;31m         \u001b[0;32mreturn\u001b[0m \u001b[0mself\u001b[0m\u001b[0;34m.\u001b[0m\u001b[0m_df\u001b[0m\u001b[0;34m(\u001b[0m\u001b[0mself\u001b[0m\u001b[0;34m.\u001b[0m\u001b[0m_jreader\u001b[0m\u001b[0;34m.\u001b[0m\u001b[0mparquet\u001b[0m\u001b[0;34m(\u001b[0m\u001b[0m_to_seq\u001b[0m\u001b[0;34m(\u001b[0m\u001b[0mself\u001b[0m\u001b[0;34m.\u001b[0m\u001b[0m_spark\u001b[0m\u001b[0;34m.\u001b[0m\u001b[0m_sc\u001b[0m\u001b[0;34m,\u001b[0m \u001b[0mpaths\u001b[0m\u001b[0;34m)\u001b[0m\u001b[0;34m)\u001b[0m\u001b[0;34m)\u001b[0m\u001b[0;34m\u001b[0m\u001b[0;34m\u001b[0m\u001b[0m\n\u001b[0m\u001b[1;32m    459\u001b[0m \u001b[0;34m\u001b[0m\u001b[0m\n\u001b[1;32m    460\u001b[0m     def text(self, paths, wholetext=False, lineSep=None, pathGlobFilter=None,\n",
      "\u001b[0;32m~/opt/anaconda3/envs/xt/lib/python3.7/site-packages/py4j/java_gateway.py\u001b[0m in \u001b[0;36m__call__\u001b[0;34m(self, *args)\u001b[0m\n\u001b[1;32m   1308\u001b[0m         \u001b[0manswer\u001b[0m \u001b[0;34m=\u001b[0m \u001b[0mself\u001b[0m\u001b[0;34m.\u001b[0m\u001b[0mgateway_client\u001b[0m\u001b[0;34m.\u001b[0m\u001b[0msend_command\u001b[0m\u001b[0;34m(\u001b[0m\u001b[0mcommand\u001b[0m\u001b[0;34m)\u001b[0m\u001b[0;34m\u001b[0m\u001b[0;34m\u001b[0m\u001b[0m\n\u001b[1;32m   1309\u001b[0m         return_value = get_return_value(\n\u001b[0;32m-> 1310\u001b[0;31m             answer, self.gateway_client, self.target_id, self.name)\n\u001b[0m\u001b[1;32m   1311\u001b[0m \u001b[0;34m\u001b[0m\u001b[0m\n\u001b[1;32m   1312\u001b[0m         \u001b[0;32mfor\u001b[0m \u001b[0mtemp_arg\u001b[0m \u001b[0;32min\u001b[0m \u001b[0mtemp_args\u001b[0m\u001b[0;34m:\u001b[0m\u001b[0;34m\u001b[0m\u001b[0;34m\u001b[0m\u001b[0m\n",
      "\u001b[0;32m~/opt/anaconda3/envs/xt/lib/python3.7/site-packages/pyspark/sql/utils.py\u001b[0m in \u001b[0;36mdeco\u001b[0;34m(*a, **kw)\u001b[0m\n\u001b[1;32m    115\u001b[0m                 \u001b[0;31m# Hide where the exception came from that shows a non-Pythonic\u001b[0m\u001b[0;34m\u001b[0m\u001b[0;34m\u001b[0m\u001b[0;34m\u001b[0m\u001b[0m\n\u001b[1;32m    116\u001b[0m                 \u001b[0;31m# JVM exception message.\u001b[0m\u001b[0;34m\u001b[0m\u001b[0;34m\u001b[0m\u001b[0;34m\u001b[0m\u001b[0m\n\u001b[0;32m--> 117\u001b[0;31m                 \u001b[0;32mraise\u001b[0m \u001b[0mconverted\u001b[0m \u001b[0;32mfrom\u001b[0m \u001b[0;32mNone\u001b[0m\u001b[0;34m\u001b[0m\u001b[0;34m\u001b[0m\u001b[0m\n\u001b[0m\u001b[1;32m    118\u001b[0m             \u001b[0;32melse\u001b[0m\u001b[0;34m:\u001b[0m\u001b[0;34m\u001b[0m\u001b[0;34m\u001b[0m\u001b[0m\n\u001b[1;32m    119\u001b[0m                 \u001b[0;32mraise\u001b[0m\u001b[0;34m\u001b[0m\u001b[0;34m\u001b[0m\u001b[0m\n",
      "\u001b[0;31mAnalysisException\u001b[0m: Path does not exist: file:/Users/xiaotongwang/Desktop/generic-buy-now-pay-later-project-group-14/data/curated/full_data_with_fraud"
     ]
    }
   ],
   "source": [
    "sdf = spark.read.parquet(\"../data/curated/full_data_without_fraud/\")\n",
    "sdf.printSchema()\n",
    "sdf.count()"
   ]
  },
  {
   "cell_type": "code",
   "execution_count": null,
   "metadata": {},
   "outputs": [
    {
     "data": {
      "text/plain": [
       "13221647"
      ]
     },
     "execution_count": 20,
     "metadata": {},
     "output_type": "execute_result"
    }
   ],
   "source": [
    "# discard fraud transactions\n",
    "sdf = sdf.filter(F.col('is_fraud')==0)\n",
    "sdf.count()"
   ]
  },
  {
   "cell_type": "code",
   "execution_count": null,
   "metadata": {},
   "outputs": [],
   "source": [
    "# split the dataset \n",
    "train_sdf = sdf.filter((F.col('order_datetime') >= '2021-02-28') & (F.col('order_datetime') < '2021-08-28'))\n",
    "label_sdf = sdf.filter((F.col('order_datetime') >= '2022-02-28') & (F.col('order_datetime') < '2022-08-28'))"
   ]
  },
  {
   "cell_type": "code",
   "execution_count": null,
   "metadata": {},
   "outputs": [
    {
     "data": {
      "text/plain": [
       "(3457142, 4119273)"
      ]
     },
     "execution_count": 22,
     "metadata": {},
     "output_type": "execute_result"
    }
   ],
   "source": [
    "train_sdf.count(), label_sdf.count()"
   ]
  },
  {
   "cell_type": "markdown",
   "metadata": {},
   "source": [
    "### Created Features\n",
    "The following features are created by aggregating records from 2021-2 to 2021-8 for each merchant. They are used as features in the model.\n",
    "1. Total number of consumers\n",
    "2. Average transaction dollar value\n",
    "3. Total number of transactions\n",
    "4. Mean income of consumers\n",
    "5. revenue level\n",
    "6. BNPL revenue = take rate * total transaction\n",
    "7. Number of distinct postcode\n",
    "8. Tag (one hot encoding)\n",
    "\n",
    "The following features are created by aggregating records from 2022-2 to 2022-8 for each merchant. These features are to be predicted by the model and are used as features in the final ranking system.\n",
    "1. Total number of consumers\n",
    "2. BNPL revenue\n",
    "3. Total number of transactions"
   ]
  },
  {
   "cell_type": "code",
   "execution_count": null,
   "metadata": {},
   "outputs": [
    {
     "data": {
      "text/html": [
       "<table border='1'>\n",
       "<tr><th>merchant_abn</th><th>total_num_consumer</th><th>avg_dollar_value</th><th>total_num_transaction</th><th>mean_income</th><th>revenue_level</th><th>total_revenue</th><th>total_num_postcode</th><th>tag</th></tr>\n",
       "<tr><td>10023283211</td><td>808</td><td>209.02516040076958</td><td>823</td><td>62506.642770352366</td><td>e</td><td>30964.988492208053</td><td>719</td><td>furniture</td></tr>\n",
       "<tr><td>10142254217</td><td>731</td><td>41.119659381592804</td><td>750</td><td>62693.954666666665</td><td>b</td><td>130143.71547230528</td><td>642</td><td>cable</td></tr>\n",
       "<tr><td>10187291046</td><td>87</td><td>111.08408713922161</td><td>87</td><td>61060.0459770115</td><td>b</td><td>31795.59789319502</td><td>87</td><td>watch</td></tr>\n",
       "<tr><td>10192359162</td><td>107</td><td>451.1432080236007</td><td>107</td><td>65637.3831775701</td><td>a</td><td>305563.80254357896</td><td>107</td><td>music</td></tr>\n",
       "<tr><td>10206519221</td><td>2244</td><td>39.20921658203574</td><td>2370</td><td>62122.52278481013</td><td>a</td><td>589149.8606977111</td><td>1619</td><td>gift</td></tr>\n",
       "<tr><td>10255988167</td><td>218</td><td>389.5552654520502</td><td>218</td><td>63146.619266055044</td><td>b</td><td>366867.58137013006</td><td>211</td><td>computer</td></tr>\n",
       "<tr><td>10264435225</td><td>1238</td><td>114.10783402533238</td><td>1272</td><td>62006.311320754714</td><td>c</td><td>346896.95929006604</td><td>1018</td><td>watch</td></tr>\n",
       "<tr><td>10279061213</td><td>130</td><td>308.35150039873355</td><td>130</td><td>63676.28461538462</td><td>a</td><td>228889.32027512783</td><td>127</td><td>computer</td></tr>\n",
       "<tr><td>10323485998</td><td>2475</td><td>128.98933167858434</td><td>2621</td><td>62792.286913391836</td><td>a</td><td>2234715.708497144</td><td>1730</td><td>furniture</td></tr>\n",
       "<tr><td>10342410215</td><td>238</td><td>378.0169713940928</td><td>238</td><td>61579.6512605042</td><td>a</td><td>570397.3822040077</td><td>227</td><td>computer</td></tr>\n",
       "<tr><td>10346855916</td><td>5</td><td>1331.0255719326199</td><td>5</td><td>61863.6</td><td>b</td><td>23758.806014719547</td><td>5</td><td>equipment</td></tr>\n",
       "<tr><td>10364012396</td><td>4</td><td>276.0868936989199</td><td>4</td><td>81123.75</td><td>b</td><td>4008.7818228908677</td><td>4</td><td>music</td></tr>\n",
       "<tr><td>10385011947</td><td>6</td><td>526.8134669489664</td><td>6</td><td>55291.166666666664</td><td>b</td><td>10019.992382525408</td><td>6</td><td>artist supply</td></tr>\n",
       "<tr><td>10385163239</td><td>17</td><td>350.0866763834393</td><td>17</td><td>58553.117647058825</td><td>a</td><td>39339.24061981452</td><td>16</td><td>florists</td></tr>\n",
       "<tr><td>10385250025</td><td>185</td><td>474.16754096763185</td><td>185</td><td>63441.41081081081</td><td>a</td><td>485974.3093914356</td><td>182</td><td>computer</td></tr>\n",
       "<tr><td>10430380319</td><td>38</td><td>359.11088473400827</td><td>38</td><td>60029.76315789474</td><td>b</td><td>67821.67882777526</td><td>38</td><td>motor</td></tr>\n",
       "<tr><td>10441711491</td><td>1</td><td>9734.857620793187</td><td>1</td><td>57015.0</td><td>a</td><td>56170.12828629902</td><td>1</td><td>motor</td></tr>\n",
       "<tr><td>10462560289</td><td>405</td><td>37.94568323793219</td><td>413</td><td>64556.179176755446</td><td>c</td><td>46231.12392021321</td><td>366</td><td>gift</td></tr>\n",
       "<tr><td>10463252268</td><td>22</td><td>464.09649768506534</td><td>22</td><td>60070.77272727273</td><td>a</td><td>67488.91405656066</td><td>22</td><td>artist supply</td></tr>\n",
       "<tr><td>10487253336</td><td>629</td><td>449.0344083022495</td><td>635</td><td>63669.83464566929</td><td>b</td><td>1117736.4709001745</td><td>587</td><td>artist supply</td></tr>\n",
       "</table>\n",
       "only showing top 20 rows\n"
      ],
      "text/plain": [
       "+------------+------------------+------------------+---------------------+------------------+-------------+------------------+------------------+-------------+\n",
       "|merchant_abn|total_num_consumer|  avg_dollar_value|total_num_transaction|       mean_income|revenue_level|     total_revenue|total_num_postcode|          tag|\n",
       "+------------+------------------+------------------+---------------------+------------------+-------------+------------------+------------------+-------------+\n",
       "| 10023283211|               808|209.02516040076958|                  823|62506.642770352366|            e|30964.988492208053|               719|    furniture|\n",
       "| 10142254217|               731|41.119659381592804|                  750|62693.954666666665|            b|130143.71547230528|               642|        cable|\n",
       "| 10187291046|                87|111.08408713922161|                   87|  61060.0459770115|            b| 31795.59789319502|                87|        watch|\n",
       "| 10192359162|               107| 451.1432080236007|                  107|  65637.3831775701|            a|305563.80254357896|               107|        music|\n",
       "| 10206519221|              2244| 39.20921658203574|                 2370| 62122.52278481013|            a| 589149.8606977111|              1619|         gift|\n",
       "| 10255988167|               218| 389.5552654520502|                  218|63146.619266055044|            b|366867.58137013006|               211|     computer|\n",
       "| 10264435225|              1238|114.10783402533238|                 1272|62006.311320754714|            c|346896.95929006604|              1018|        watch|\n",
       "| 10279061213|               130|308.35150039873355|                  130| 63676.28461538462|            a|228889.32027512783|               127|     computer|\n",
       "| 10323485998|              2475|128.98933167858434|                 2621|62792.286913391836|            a| 2234715.708497144|              1730|    furniture|\n",
       "| 10342410215|               238| 378.0169713940928|                  238|  61579.6512605042|            a| 570397.3822040077|               227|     computer|\n",
       "| 10346855916|                 5|1331.0255719326199|                    5|           61863.6|            b|23758.806014719547|                 5|    equipment|\n",
       "| 10364012396|                 4| 276.0868936989199|                    4|          81123.75|            b|4008.7818228908677|                 4|        music|\n",
       "| 10385011947|                 6| 526.8134669489664|                    6|55291.166666666664|            b|10019.992382525408|                 6|artist supply|\n",
       "| 10385163239|                17| 350.0866763834393|                   17|58553.117647058825|            a| 39339.24061981452|                16|     florists|\n",
       "| 10385250025|               185|474.16754096763185|                  185| 63441.41081081081|            a| 485974.3093914356|               182|     computer|\n",
       "| 10430380319|                38|359.11088473400827|                   38| 60029.76315789474|            b| 67821.67882777526|                38|        motor|\n",
       "| 10441711491|                 1| 9734.857620793187|                    1|           57015.0|            a| 56170.12828629902|                 1|        motor|\n",
       "| 10462560289|               405| 37.94568323793219|                  413|64556.179176755446|            c| 46231.12392021321|               366|         gift|\n",
       "| 10463252268|                22|464.09649768506534|                   22| 60070.77272727273|            a| 67488.91405656066|                22|artist supply|\n",
       "| 10487253336|               629| 449.0344083022495|                  635| 63669.83464566929|            b|1117736.4709001745|               587|artist supply|\n",
       "+------------+------------------+------------------+---------------------+------------------+-------------+------------------+------------------+-------------+\n",
       "only showing top 20 rows"
      ]
     },
     "execution_count": 23,
     "metadata": {},
     "output_type": "execute_result"
    }
   ],
   "source": [
    "train_data = train_sdf.groupBy('merchant_abn')\\\n",
    "      .agg(\n",
    "         F.countDistinct('consumer_id').alias('total_num_consumer'),\n",
    "         F.mean('dollar_value').alias('avg_dollar_value'),\n",
    "         F.countDistinct('order_id').alias('total_num_transaction'),\n",
    "         F.mean('mean_total_income').alias('mean_income'),\n",
    "         F.first('revenue_level').alias('revenue_level'),\n",
    "         F.sum(F.col('dollar_value') * F.col('take_rate')).alias('total_revenue'),\n",
    "         F.countDistinct('postcode').alias('total_num_postcode'),\n",
    "         F.first('tags').alias('tag'),\n",
    "      )\n",
    "train_data"
   ]
  },
  {
   "cell_type": "code",
   "execution_count": null,
   "metadata": {},
   "outputs": [],
   "source": [
    "label = label_sdf.groupBy('merchant_abn')\\\n",
    "      .agg(\n",
    "         F.countDistinct('consumer_id').alias('y_total_num_consumer'),\n",
    "         F.sum(F.col('dollar_value') * F.col('take_rate')).alias('y_total_revenue'),\n",
    "         F.countDistinct('order_id').alias('y_total_num_transaction')\n",
    "      )"
   ]
  },
  {
   "cell_type": "code",
   "execution_count": null,
   "metadata": {},
   "outputs": [
    {
     "data": {
      "text/plain": [
       "(3953, 3789)"
      ]
     },
     "execution_count": 25,
     "metadata": {},
     "output_type": "execute_result"
    }
   ],
   "source": [
    "train_data.count(), label.count() "
   ]
  },
  {
   "cell_type": "code",
   "execution_count": null,
   "metadata": {},
   "outputs": [
    {
     "data": {
      "text/html": [
       "<table border='1'>\n",
       "<tr><th>merchant_abn</th><th>total_num_consumer</th><th>avg_dollar_value</th><th>total_num_transaction</th><th>mean_income</th><th>revenue_level</th><th>total_revenue</th><th>total_num_postcode</th><th>tag</th><th>y_total_num_consumer</th><th>y_total_revenue</th><th>y_total_num_transaction</th></tr>\n",
       "<tr><td>10023283211</td><td>808</td><td>209.0251604007696</td><td>823</td><td>62506.642770352366</td><td>e</td><td>30964.988492208053</td><td>719</td><td>furniture</td><td>980</td><td>38940.2914088986</td><td>1002</td></tr>\n",
       "<tr><td>10142254217</td><td>731</td><td>41.119659381592804</td><td>750</td><td>62693.954666666665</td><td>b</td><td>130143.71547230528</td><td>642</td><td>cable</td><td>918</td><td>154467.92091896123</td><td>925</td></tr>\n",
       "<tr><td>10187291046</td><td>87</td><td>111.08408713922161</td><td>87</td><td>61060.0459770115</td><td>b</td><td>31795.59789319502</td><td>87</td><td>watch</td><td>99</td><td>41683.211213258364</td><td>100</td></tr>\n",
       "<tr><td>10192359162</td><td>107</td><td>451.1432080236007</td><td>107</td><td>65637.3831775701</td><td>a</td><td>305563.80254357896</td><td>107</td><td>music</td><td>107</td><td>290071.0062352741</td><td>107</td></tr>\n",
       "<tr><td>10206519221</td><td>2244</td><td>39.209216582035744</td><td>2370</td><td>62122.52278481013</td><td>a</td><td>589149.8606977111</td><td>1619</td><td>gift</td><td>2662</td><td>666766.4067054288</td><td>2811</td></tr>\n",
       "<tr><td>10255988167</td><td>218</td><td>389.55526545205026</td><td>218</td><td>63146.619266055044</td><td>b</td><td>366867.5813701301</td><td>211</td><td>computer</td><td>235</td><td>378005.14673149673</td><td>236</td></tr>\n",
       "<tr><td>10264435225</td><td>1238</td><td>114.10783402533238</td><td>1272</td><td>62006.311320754714</td><td>c</td><td>346896.9592900661</td><td>1018</td><td>watch</td><td>1519</td><td>435003.6795629894</td><td>1566</td></tr>\n",
       "<tr><td>10279061213</td><td>130</td><td>308.35150039873355</td><td>130</td><td>63676.28461538462</td><td>a</td><td>228889.32027512783</td><td>127</td><td>computer</td><td>161</td><td>273146.77071188006</td><td>161</td></tr>\n",
       "<tr><td>10323485998</td><td>2475</td><td>128.98933167858425</td><td>2621</td><td>62792.286913391836</td><td>a</td><td>2234715.7084971434</td><td>1730</td><td>furniture</td><td>2974</td><td>2765582.918877613</td><td>3191</td></tr>\n",
       "<tr><td>10342410215</td><td>238</td><td>378.01697139409276</td><td>238</td><td>61579.6512605042</td><td>a</td><td>570397.3822040078</td><td>227</td><td>computer</td><td>273</td><td>661666.9517852827</td><td>275</td></tr>\n",
       "<tr><td>10346855916</td><td>5</td><td>1331.0255719326199</td><td>5</td><td>61863.6</td><td>b</td><td>23758.806014719547</td><td>5</td><td>equipment</td><td>null</td><td>null</td><td>null</td></tr>\n",
       "<tr><td>10364012396</td><td>4</td><td>276.0868936989199</td><td>4</td><td>81123.75</td><td>b</td><td>4008.7818228908677</td><td>4</td><td>music</td><td>16</td><td>19636.79081402693</td><td>16</td></tr>\n",
       "<tr><td>10385011947</td><td>6</td><td>526.8134669489664</td><td>6</td><td>55291.166666666664</td><td>b</td><td>10019.992382525408</td><td>6</td><td>artist supply</td><td>9</td><td>18926.917288619916</td><td>9</td></tr>\n",
       "<tr><td>10385163239</td><td>17</td><td>350.0866763834393</td><td>17</td><td>58553.117647058825</td><td>a</td><td>39339.24061981452</td><td>16</td><td>florists</td><td>22</td><td>52838.18504617854</td><td>22</td></tr>\n",
       "<tr><td>10385250025</td><td>185</td><td>474.16754096763196</td><td>185</td><td>63441.41081081081</td><td>a</td><td>485974.3093914355</td><td>182</td><td>computer</td><td>190</td><td>494288.8601243658</td><td>191</td></tr>\n",
       "<tr><td>10430380319</td><td>38</td><td>359.1108847340083</td><td>38</td><td>60029.76315789474</td><td>b</td><td>67821.67882777526</td><td>38</td><td>motor</td><td>53</td><td>88318.04454751335</td><td>53</td></tr>\n",
       "<tr><td>10441711491</td><td>1</td><td>9734.857620793187</td><td>1</td><td>57015.0</td><td>a</td><td>56170.12828629902</td><td>1</td><td>motor</td><td>null</td><td>null</td><td>null</td></tr>\n",
       "<tr><td>10462560289</td><td>405</td><td>37.94568323793217</td><td>413</td><td>64556.179176755446</td><td>c</td><td>46231.12392021321</td><td>366</td><td>gift</td><td>513</td><td>56043.00173089229</td><td>519</td></tr>\n",
       "<tr><td>10463252268</td><td>22</td><td>464.09649768506534</td><td>22</td><td>60070.77272727273</td><td>a</td><td>67488.91405656066</td><td>22</td><td>artist supply</td><td>26</td><td>78474.65405470505</td><td>26</td></tr>\n",
       "<tr><td>10487253336</td><td>629</td><td>449.0344083022497</td><td>635</td><td>63669.83464566929</td><td>b</td><td>1117736.4709001747</td><td>587</td><td>artist supply</td><td>717</td><td>1216643.8197940667</td><td>735</td></tr>\n",
       "</table>\n",
       "only showing top 20 rows\n"
      ],
      "text/plain": [
       "+------------+------------------+------------------+---------------------+------------------+-------------+------------------+------------------+-------------+--------------------+------------------+-----------------------+\n",
       "|merchant_abn|total_num_consumer|  avg_dollar_value|total_num_transaction|       mean_income|revenue_level|     total_revenue|total_num_postcode|          tag|y_total_num_consumer|   y_total_revenue|y_total_num_transaction|\n",
       "+------------+------------------+------------------+---------------------+------------------+-------------+------------------+------------------+-------------+--------------------+------------------+-----------------------+\n",
       "| 10023283211|               808| 209.0251604007696|                  823|62506.642770352366|            e|30964.988492208053|               719|    furniture|                 980|  38940.2914088986|                   1002|\n",
       "| 10142254217|               731|  41.1196593815928|                  750|62693.954666666665|            b|130143.71547230528|               642|        cable|                 918|154467.92091896123|                    925|\n",
       "| 10187291046|                87|111.08408713922161|                   87|  61060.0459770115|            b| 31795.59789319502|                87|        watch|                  99|41683.211213258364|                    100|\n",
       "| 10192359162|               107|451.14320802360066|                  107|  65637.3831775701|            a|305563.80254357896|               107|        music|                 107| 290071.0062352741|                    107|\n",
       "| 10206519221|              2244| 39.20921658203574|                 2370| 62122.52278481013|            a| 589149.8606977111|              1619|         gift|                2662| 666766.4067054287|                   2811|\n",
       "| 10255988167|               218|389.55526545205026|                  218|63146.619266055044|            b| 366867.5813701301|               211|     computer|                 235|378005.14673149673|                    236|\n",
       "| 10264435225|              1238|114.10783402533238|                 1272|62006.311320754714|            c|  346896.959290066|              1018|        watch|                1519|435003.67956298945|                   1566|\n",
       "| 10279061213|               130|308.35150039873355|                  130| 63676.28461538462|            a|228889.32027512783|               127|     computer|                 161|273146.77071188006|                    161|\n",
       "| 10323485998|              2475|128.98933167858428|                 2621|62792.286913391836|            a|2234715.7084971434|              1730|    furniture|                2974| 2765582.918877613|                   3191|\n",
       "| 10342410215|               238|378.01697139409276|                  238|  61579.6512605042|            a| 570397.3822040078|               227|     computer|                 273| 661666.9517852827|                    275|\n",
       "| 10346855916|                 5|1331.0255719326199|                    5|           61863.6|            b|23758.806014719547|                 5|    equipment|                null|              null|                   null|\n",
       "| 10364012396|                 4| 276.0868936989199|                    4|          81123.75|            b|4008.7818228908677|                 4|        music|                  16| 19636.79081402693|                     16|\n",
       "| 10385011947|                 6| 526.8134669489664|                    6|55291.166666666664|            b|10019.992382525408|                 6|artist supply|                   9|18926.917288619916|                      9|\n",
       "| 10385163239|                17| 350.0866763834393|                   17|58553.117647058825|            a| 39339.24061981452|                16|     florists|                  22| 52838.18504617854|                     22|\n",
       "| 10385250025|               185|474.16754096763196|                  185| 63441.41081081081|            a| 485974.3093914355|               182|     computer|                 190| 494288.8601243658|                    191|\n",
       "| 10430380319|                38| 359.1108847340083|                   38| 60029.76315789474|            b| 67821.67882777526|                38|        motor|                  53| 88318.04454751335|                     53|\n",
       "| 10441711491|                 1| 9734.857620793187|                    1|           57015.0|            a| 56170.12828629902|                 1|        motor|                null|              null|                   null|\n",
       "| 10462560289|               405| 37.94568323793218|                  413|64556.179176755446|            c| 46231.12392021321|               366|         gift|                 513| 56043.00173089229|                    519|\n",
       "| 10463252268|                22|464.09649768506534|                   22| 60070.77272727273|            a| 67488.91405656066|                22|artist supply|                  26| 78474.65405470505|                     26|\n",
       "| 10487253336|               629| 449.0344083022497|                  635| 63669.83464566929|            b|1117736.4709001747|               587|artist supply|                 717|1216643.8197940667|                    735|\n",
       "+------------+------------------+------------------+---------------------+------------------+-------------+------------------+------------------+-------------+--------------------+------------------+-----------------------+\n",
       "only showing top 20 rows"
      ]
     },
     "execution_count": 26,
     "metadata": {},
     "output_type": "execute_result"
    }
   ],
   "source": [
    "train_data = train_data.join(label, [\"merchant_abn\"], how=\"left\") \n",
    "# use left join here since if no historical data is provided, we cannot predict the future value of a merchant\n",
    "train_data"
   ]
  },
  {
   "cell_type": "code",
   "execution_count": null,
   "metadata": {},
   "outputs": [],
   "source": [
    "train_data.write.format('parquet').mode('overwrite').save(\"../data/curated/train_data\")"
   ]
  }
 ],
 "metadata": {
  "kernelspec": {
   "display_name": "Python 3.8.8",
   "language": "python",
   "name": "python3"
  },
  "language_info": {
   "codemirror_mode": {
    "name": "ipython",
    "version": 3
   },
   "file_extension": ".py",
   "mimetype": "text/x-python",
   "name": "python",
   "nbconvert_exporter": "python",
   "pygments_lexer": "ipython3",
   "version": "3.8.8"
  },
  "orig_nbformat": 4,
  "vscode": {
   "interpreter": {
    "hash": "703e593df40508a60fa363339ca2bbb5bae045b0a530fb0e89bc3e7c255f1da9"
   }
  }
 },
 "nbformat": 4,
 "nbformat_minor": 2
}
