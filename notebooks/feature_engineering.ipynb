{
 "cells": [
  {
   "cell_type": "code",
   "execution_count": 1,
   "metadata": {},
   "outputs": [],
   "source": [
    "from pyspark.sql import SparkSession\n",
    "from pyspark.sql import functions as F\n",
    "import pandas as pd"
   ]
  },
  {
   "cell_type": "code",
   "execution_count": 2,
   "metadata": {},
   "outputs": [],
   "source": [
    "# Create a spark session (which will run spark jobs)\n",
    "spark = (\n",
    "    SparkSession.builder.appName(\"MAST30034 Project 2\")\n",
    "    .config(\"spark.sql.repl.eagerEval.enabled\", True) \n",
    "    .config(\"spark.sql.parquet.cacheMetadata\", \"true\")\n",
    "    .config(\"spark.sql.session.timeZone\", \"Etc/UTC\")\n",
    "    .config(\"spark.driver.memory\", \"2g\")\n",
    "    .config(\"spark.executer.memory\", \"4g\")\n",
    "    .getOrCreate()\n",
    ")"
   ]
  },
  {
   "cell_type": "code",
   "execution_count": 3,
   "metadata": {},
   "outputs": [
    {
     "name": "stdout",
     "output_type": "stream",
     "text": [
      "root\n",
      " |-- user_id: long (nullable = true)\n",
      " |-- order_datetime: date (nullable = true)\n",
      " |-- merchant_abn: long (nullable = true)\n",
      " |-- SA2_code: integer (nullable = true)\n",
      " |-- postcode: integer (nullable = true)\n",
      " |-- consumer_id: integer (nullable = true)\n",
      " |-- state: string (nullable = true)\n",
      " |-- gender: string (nullable = true)\n",
      " |-- mean_total_income: integer (nullable = true)\n",
      " |-- dollar_value: double (nullable = true)\n",
      " |-- order_id: string (nullable = true)\n",
      " |-- name: string (nullable = true)\n",
      " |-- tags: string (nullable = true)\n",
      " |-- revenue_level: string (nullable = true)\n",
      " |-- take_rate: float (nullable = true)\n",
      " |-- is_fraud: integer (nullable = true)\n",
      "\n"
     ]
    }
   ],
   "source": [
    "sdf = spark.read.parquet(\"../data/curated/full_data_with_fraud/\")\n",
    "sdf.printSchema()"
   ]
  },
  {
   "cell_type": "code",
   "execution_count": 4,
   "metadata": {},
   "outputs": [],
   "source": [
    "# split the dataset \n",
    "train_sdf = sdf.filter((F.col('order_datetime') >= '2021-02-28') & (F.col('order_datetime') < '2021-08-28'))\n",
    "label_sdf = sdf.filter((F.col('order_datetime') >= '2022-02-28') & (F.col('order_datetime') < '2022-08-28'))"
   ]
  },
  {
   "cell_type": "code",
   "execution_count": 5,
   "metadata": {},
   "outputs": [
    {
     "data": {
      "text/plain": [
       "(3465784, 4169494)"
      ]
     },
     "execution_count": 5,
     "metadata": {},
     "output_type": "execute_result"
    }
   ],
   "source": [
    "train_sdf.count(), label_sdf.count()"
   ]
  },
  {
   "cell_type": "markdown",
   "metadata": {},
   "source": [
    "### Created Features\n",
    "The following features are created by aggregating records from 2021-2 to 2021-8 for each merchant. They are used as features in the model.\n",
    "1. Total number of consumers\n",
    "2. Average transaction dollar value\n",
    "3. Total number of transactions\n",
    "4. Mean income of consumers\n",
    "5. revenue level\n",
    "6. BNPL revenue = take rate * total transaction\n",
    "7. Number of distinct postcode\n",
    "8. Tag (one hot encoding)\n",
    "\n",
    "The following features are created by aggregating records from 2022-2 to 2022-8 for each merchant. These features are to be predicted by the model and are used as features in the final ranking system.\n",
    "1. Total number of consumers\n",
    "2. BNPL revenue\n",
    "3. Total number of transactions"
   ]
  },
  {
   "cell_type": "code",
   "execution_count": 6,
   "metadata": {},
   "outputs": [
    {
     "data": {
      "text/html": [
       "<table border='1'>\n",
       "<tr><th>merchant_abn</th><th>total_num_consumer</th><th>avg_dollar_value</th><th>total_num_transaction</th><th>mean_income</th><th>revenue_level</th><th>total_revenue</th><th>total_num_postcode</th><th>tag</th></tr>\n",
       "<tr><td>10023283211</td><td>810</td><td>208.75059444042955</td><td>825</td><td>62478.72363636363</td><td>e</td><td>30999.46450621179</td><td>720</td><td>furniture</td></tr>\n",
       "<tr><td>10142254217</td><td>734</td><td>40.9846955092763</td><td>753</td><td>62668.40903054449</td><td>b</td><td>130235.42105701164</td><td>645</td><td>cable</td></tr>\n",
       "<tr><td>10187291046</td><td>88</td><td>110.32619101999413</td><td>88</td><td>60917.59090909091</td><td>b</td><td>31941.638453751006</td><td>88</td><td>watch</td></tr>\n",
       "<tr><td>10192359162</td><td>107</td><td>451.1432080236007</td><td>107</td><td>65637.3831775701</td><td>a</td><td>305563.80254357896</td><td>107</td><td>music</td></tr>\n",
       "<tr><td>10206519221</td><td>2246</td><td>39.189699161401556</td><td>2372</td><td>62113.16231028668</td><td>a</td><td>589353.5212290141</td><td>1620</td><td>gift</td></tr>\n",
       "<tr><td>10255988167</td><td>218</td><td>389.5552654520502</td><td>218</td><td>63146.619266055044</td><td>b</td><td>366867.58137013006</td><td>211</td><td>computer</td></tr>\n",
       "<tr><td>10264435225</td><td>1241</td><td>114.09004324213888</td><td>1275</td><td>61996.07843137255</td><td>c</td><td>347660.89952947287</td><td>1019</td><td>watch</td></tr>\n",
       "<tr><td>10279061213</td><td>131</td><td>312.3494031465132</td><td>131</td><td>63731.02290076336</td><td>a</td><td>233640.47860851247</td><td>128</td><td>computer</td></tr>\n",
       "<tr><td>10323485998</td><td>2481</td><td>129.06002950289465</td><td>2627</td><td>62801.365816520745</td><td>a</td><td>2241059.0557689457</td><td>1731</td><td>furniture</td></tr>\n",
       "<tr><td>10342410215</td><td>238</td><td>378.0169713940928</td><td>238</td><td>61579.6512605042</td><td>a</td><td>570397.3822040077</td><td>227</td><td>computer</td></tr>\n",
       "<tr><td>10346855916</td><td>5</td><td>1331.0255719326199</td><td>5</td><td>61863.6</td><td>b</td><td>23758.806014719547</td><td>5</td><td>equipment</td></tr>\n",
       "<tr><td>10364012396</td><td>4</td><td>276.0868936989199</td><td>4</td><td>81123.75</td><td>b</td><td>4008.7818228908677</td><td>4</td><td>music</td></tr>\n",
       "<tr><td>10385011947</td><td>6</td><td>526.8134669489664</td><td>6</td><td>55291.166666666664</td><td>b</td><td>10019.992382525408</td><td>6</td><td>artist supply</td></tr>\n",
       "<tr><td>10385163239</td><td>17</td><td>350.0866763834393</td><td>17</td><td>58553.117647058825</td><td>a</td><td>39339.24061981452</td><td>16</td><td>florists</td></tr>\n",
       "<tr><td>10385250025</td><td>186</td><td>473.0931821676329</td><td>186</td><td>63327.39247311828</td><td>a</td><td>487494.13527606026</td><td>183</td><td>computer</td></tr>\n",
       "<tr><td>10430380319</td><td>38</td><td>359.11088473400827</td><td>38</td><td>60029.76315789474</td><td>b</td><td>67821.67882777526</td><td>38</td><td>motor</td></tr>\n",
       "<tr><td>10441711491</td><td>1</td><td>9734.857620793187</td><td>1</td><td>57015.0</td><td>a</td><td>56170.12828629902</td><td>1</td><td>motor</td></tr>\n",
       "<tr><td>10462560289</td><td>406</td><td>37.902471684743944</td><td>414</td><td>64525.69565217391</td><td>c</td><td>46290.28941681267</td><td>366</td><td>gift</td></tr>\n",
       "<tr><td>10463252268</td><td>22</td><td>464.09649768506534</td><td>22</td><td>60070.77272727273</td><td>a</td><td>67488.91405656066</td><td>22</td><td>artist supply</td></tr>\n",
       "<tr><td>10487253336</td><td>630</td><td>448.7285462884058</td><td>636</td><td>63650.2248427673</td><td>b</td><td>1118734.1350961823</td><td>588</td><td>artist supply</td></tr>\n",
       "</table>\n",
       "only showing top 20 rows\n"
      ],
      "text/plain": [
       "+------------+------------------+------------------+---------------------+------------------+-------------+------------------+------------------+-------------+\n",
       "|merchant_abn|total_num_consumer|  avg_dollar_value|total_num_transaction|       mean_income|revenue_level|     total_revenue|total_num_postcode|          tag|\n",
       "+------------+------------------+------------------+---------------------+------------------+-------------+------------------+------------------+-------------+\n",
       "| 10023283211|               810|208.75059444042955|                  825| 62478.72363636363|            e| 30999.46450621179|               720|    furniture|\n",
       "| 10142254217|               734|  40.9846955092763|                  753| 62668.40903054449|            b|130235.42105701164|               645|        cable|\n",
       "| 10187291046|                88|110.32619101999413|                   88| 60917.59090909091|            b|31941.638453751006|                88|        watch|\n",
       "| 10192359162|               107| 451.1432080236007|                  107|  65637.3831775701|            a|305563.80254357896|               107|        music|\n",
       "| 10206519221|              2246|39.189699161401556|                 2372| 62113.16231028668|            a| 589353.5212290141|              1620|         gift|\n",
       "| 10255988167|               218| 389.5552654520502|                  218|63146.619266055044|            b|366867.58137013006|               211|     computer|\n",
       "| 10264435225|              1241|114.09004324213888|                 1275| 61996.07843137255|            c|347660.89952947287|              1019|        watch|\n",
       "| 10279061213|               131| 312.3494031465132|                  131| 63731.02290076336|            a|233640.47860851247|               128|     computer|\n",
       "| 10323485998|              2481|129.06002950289465|                 2627|62801.365816520745|            a|2241059.0557689457|              1731|    furniture|\n",
       "| 10342410215|               238| 378.0169713940928|                  238|  61579.6512605042|            a| 570397.3822040077|               227|     computer|\n",
       "| 10346855916|                 5|1331.0255719326199|                    5|           61863.6|            b|23758.806014719547|                 5|    equipment|\n",
       "| 10364012396|                 4| 276.0868936989199|                    4|          81123.75|            b|4008.7818228908677|                 4|        music|\n",
       "| 10385011947|                 6| 526.8134669489664|                    6|55291.166666666664|            b|10019.992382525408|                 6|artist supply|\n",
       "| 10385163239|                17| 350.0866763834393|                   17|58553.117647058825|            a| 39339.24061981452|                16|     florists|\n",
       "| 10385250025|               186| 473.0931821676329|                  186| 63327.39247311828|            a|487494.13527606026|               183|     computer|\n",
       "| 10430380319|                38|359.11088473400827|                   38| 60029.76315789474|            b| 67821.67882777526|                38|        motor|\n",
       "| 10441711491|                 1| 9734.857620793187|                    1|           57015.0|            a| 56170.12828629902|                 1|        motor|\n",
       "| 10462560289|               406|37.902471684743944|                  414| 64525.69565217391|            c| 46290.28941681267|               366|         gift|\n",
       "| 10463252268|                22|464.09649768506534|                   22| 60070.77272727273|            a| 67488.91405656066|                22|artist supply|\n",
       "| 10487253336|               630| 448.7285462884058|                  636|  63650.2248427673|            b|1118734.1350961823|               588|artist supply|\n",
       "+------------+------------------+------------------+---------------------+------------------+-------------+------------------+------------------+-------------+\n",
       "only showing top 20 rows"
      ]
     },
     "execution_count": 6,
     "metadata": {},
     "output_type": "execute_result"
    }
   ],
   "source": [
    "train_data = train_sdf.groupBy('merchant_abn')\\\n",
    "      .agg(\n",
    "         F.countDistinct('consumer_id').alias('total_num_consumer'),\n",
    "         F.mean('dollar_value').alias('avg_dollar_value'),\n",
    "         F.countDistinct('order_id').alias('total_num_transaction'),\n",
    "         F.mean('mean_total_income').alias('mean_income'),\n",
    "         F.first('revenue_level').alias('revenue_level'),\n",
    "         F.sum(F.col('dollar_value') * F.col('take_rate')).alias('total_revenue'),\n",
    "         F.countDistinct('postcode').alias('total_num_postcode'),\n",
    "         F.first('tags').alias('tag'),\n",
    "      )\n",
    "train_data"
   ]
  },
  {
   "cell_type": "code",
   "execution_count": 7,
   "metadata": {},
   "outputs": [],
   "source": [
    "label = label_sdf.groupBy('merchant_abn')\\\n",
    "      .agg(\n",
    "         F.countDistinct('consumer_id').alias('y_total_num_consumer'),\n",
    "         F.sum(F.col('dollar_value') * F.col('take_rate')).alias('y_total_revenue'),\n",
    "         F.countDistinct('order_id').alias('y_total_num_transaction')\n",
    "      )"
   ]
  },
  {
   "cell_type": "code",
   "execution_count": 8,
   "metadata": {},
   "outputs": [
    {
     "data": {
      "text/plain": [
       "(3981, 3997)"
      ]
     },
     "execution_count": 8,
     "metadata": {},
     "output_type": "execute_result"
    }
   ],
   "source": [
    "train_data.count(), label.count() "
   ]
  },
  {
   "cell_type": "code",
   "execution_count": 9,
   "metadata": {},
   "outputs": [
    {
     "data": {
      "text/html": [
       "<table border='1'>\n",
       "<tr><th>merchant_abn</th><th>total_num_consumer</th><th>avg_dollar_value</th><th>total_num_transaction</th><th>mean_income</th><th>revenue_level</th><th>total_revenue</th><th>total_num_postcode</th><th>tag</th><th>y_total_num_consumer</th><th>y_total_revenue</th><th>y_total_num_transaction</th></tr>\n",
       "<tr><td>10023283211</td><td>810</td><td>208.75059444042955</td><td>825</td><td>62478.72363636363</td><td>e</td><td>30999.46450621179</td><td>720</td><td>furniture</td><td>981</td><td>39036.25170314089</td><td>1003</td></tr>\n",
       "<tr><td>10142254217</td><td>734</td><td>40.98469550927631</td><td>753</td><td>62668.40903054449</td><td>b</td><td>130235.42105701163</td><td>645</td><td>cable</td><td>918</td><td>154467.92091896123</td><td>925</td></tr>\n",
       "<tr><td>10187291046</td><td>88</td><td>110.32619101999413</td><td>88</td><td>60917.59090909091</td><td>b</td><td>31941.638453751006</td><td>88</td><td>watch</td><td>99</td><td>41683.211213258364</td><td>100</td></tr>\n",
       "<tr><td>10192359162</td><td>107</td><td>451.1432080236007</td><td>107</td><td>65637.3831775701</td><td>a</td><td>305563.80254357896</td><td>107</td><td>music</td><td>111</td><td>330982.8195157424</td><td>111</td></tr>\n",
       "<tr><td>10206519221</td><td>2246</td><td>39.189699161401556</td><td>2372</td><td>62113.16231028668</td><td>a</td><td>589353.5212290141</td><td>1620</td><td>gift</td><td>2662</td><td>666766.4067054288</td><td>2811</td></tr>\n",
       "<tr><td>10255988167</td><td>218</td><td>389.5552654520502</td><td>218</td><td>63146.619266055044</td><td>b</td><td>366867.5813701301</td><td>211</td><td>computer</td><td>237</td><td>390460.7068389275</td><td>238</td></tr>\n",
       "<tr><td>10264435225</td><td>1241</td><td>114.09004324213888</td><td>1275</td><td>61996.07843137255</td><td>c</td><td>347660.8995294729</td><td>1019</td><td>watch</td><td>1519</td><td>435003.67956298945</td><td>1566</td></tr>\n",
       "<tr><td>10279061213</td><td>131</td><td>312.34940314651317</td><td>131</td><td>63731.02290076336</td><td>a</td><td>233640.47860851244</td><td>128</td><td>computer</td><td>161</td><td>273146.77071188006</td><td>161</td></tr>\n",
       "<tr><td>10323485998</td><td>2481</td><td>129.06002950289457</td><td>2627</td><td>62801.365816520745</td><td>a</td><td>2241059.0557689453</td><td>1731</td><td>furniture</td><td>2974</td><td>2765582.918877613</td><td>3191</td></tr>\n",
       "<tr><td>10342410215</td><td>238</td><td>378.01697139409276</td><td>238</td><td>61579.6512605042</td><td>a</td><td>570397.3822040077</td><td>227</td><td>computer</td><td>275</td><td>682110.1735125553</td><td>277</td></tr>\n",
       "<tr><td>10346855916</td><td>5</td><td>1331.0255719326199</td><td>5</td><td>61863.6</td><td>b</td><td>23758.806014719547</td><td>5</td><td>equipment</td><td>2</td><td>27879.90562356841</td><td>2</td></tr>\n",
       "<tr><td>10364012396</td><td>4</td><td>276.0868936989199</td><td>4</td><td>81123.75</td><td>b</td><td>4008.7818228908677</td><td>4</td><td>music</td><td>17</td><td>28520.82207103318</td><td>17</td></tr>\n",
       "<tr><td>10385011947</td><td>6</td><td>526.8134669489664</td><td>6</td><td>55291.166666666664</td><td>b</td><td>10019.992382525408</td><td>6</td><td>artist supply</td><td>9</td><td>18926.917288619916</td><td>9</td></tr>\n",
       "<tr><td>10385163239</td><td>17</td><td>350.0866763834393</td><td>17</td><td>58553.117647058825</td><td>a</td><td>39339.24061981452</td><td>16</td><td>florists</td><td>22</td><td>52838.18504617854</td><td>22</td></tr>\n",
       "<tr><td>10385250025</td><td>186</td><td>473.0931821676331</td><td>186</td><td>63327.39247311828</td><td>a</td><td>487494.1352760602</td><td>183</td><td>computer</td><td>197</td><td>545370.0250697191</td><td>198</td></tr>\n",
       "<tr><td>10430380319</td><td>38</td><td>359.1108847340083</td><td>38</td><td>60029.76315789474</td><td>b</td><td>67821.67882777526</td><td>38</td><td>motor</td><td>53</td><td>88318.04454751335</td><td>53</td></tr>\n",
       "<tr><td>10441711491</td><td>1</td><td>9734.857620793187</td><td>1</td><td>57015.0</td><td>a</td><td>56170.12828629902</td><td>1</td><td>motor</td><td>3</td><td>81368.69681697263</td><td>3</td></tr>\n",
       "<tr><td>10462560289</td><td>406</td><td>37.902471684743944</td><td>414</td><td>64525.69565217391</td><td>c</td><td>46290.289416812666</td><td>366</td><td>gift</td><td>513</td><td>56043.00173089229</td><td>519</td></tr>\n",
       "<tr><td>10463252268</td><td>22</td><td>464.09649768506534</td><td>22</td><td>60070.77272727273</td><td>a</td><td>67488.91405656066</td><td>22</td><td>artist supply</td><td>26</td><td>78474.65405470505</td><td>26</td></tr>\n",
       "<tr><td>10487253336</td><td>630</td><td>448.7285462884058</td><td>636</td><td>63650.2248427673</td><td>b</td><td>1118734.1350961823</td><td>588</td><td>artist supply</td><td>732</td><td>1313979.00394346</td><td>751</td></tr>\n",
       "</table>\n",
       "only showing top 20 rows\n"
      ],
      "text/plain": [
       "+------------+------------------+------------------+---------------------+------------------+-------------+------------------+------------------+-------------+--------------------+------------------+-----------------------+\n",
       "|merchant_abn|total_num_consumer|  avg_dollar_value|total_num_transaction|       mean_income|revenue_level|     total_revenue|total_num_postcode|          tag|y_total_num_consumer|   y_total_revenue|y_total_num_transaction|\n",
       "+------------+------------------+------------------+---------------------+------------------+-------------+------------------+------------------+-------------+--------------------+------------------+-----------------------+\n",
       "| 10023283211|               810| 208.7505944404296|                  825| 62478.72363636363|            e|30999.464506211792|               720|    furniture|                 981| 39036.25170314089|                   1003|\n",
       "| 10142254217|               734| 40.98469550927631|                  753| 62668.40903054449|            b|130235.42105701163|               645|        cable|                 918|154467.92091896123|                    925|\n",
       "| 10187291046|                88|110.32619101999413|                   88| 60917.59090909091|            b|31941.638453751006|                88|        watch|                  99|41683.211213258364|                    100|\n",
       "| 10192359162|               107| 451.1432080236007|                  107|  65637.3831775701|            a|305563.80254357896|               107|        music|                 111| 330982.8195157424|                    111|\n",
       "| 10206519221|              2246|39.189699161401556|                 2372| 62113.16231028668|            a| 589353.5212290141|              1620|         gift|                2662| 666766.4067054287|                   2811|\n",
       "| 10255988167|               218|389.55526545205026|                  218|63146.619266055044|            b| 366867.5813701301|               211|     computer|                 237| 390460.7068389276|                    238|\n",
       "| 10264435225|              1241|114.09004324213888|                 1275| 61996.07843137255|            c| 347660.8995294729|              1019|        watch|                1519| 435003.6795629895|                   1566|\n",
       "| 10279061213|               131|312.34940314651317|                  131| 63731.02290076336|            a|233640.47860851244|               128|     computer|                 161|273146.77071188006|                    161|\n",
       "| 10323485998|              2481|129.06002950289457|                 2627|62801.365816520745|            a|2241059.0557689453|              1731|    furniture|                2974| 2765582.918877613|                   3191|\n",
       "| 10342410215|               238|378.01697139409276|                  238|  61579.6512605042|            a| 570397.3822040077|               227|     computer|                 275| 682110.1735125553|                    277|\n",
       "| 10346855916|                 5|1331.0255719326199|                    5|           61863.6|            b|23758.806014719547|                 5|    equipment|                   2| 27879.90562356841|                      2|\n",
       "| 10364012396|                 4| 276.0868936989199|                    4|          81123.75|            b|4008.7818228908677|                 4|        music|                  17| 28520.82207103318|                     17|\n",
       "| 10385011947|                 6| 526.8134669489664|                    6|55291.166666666664|            b|10019.992382525408|                 6|artist supply|                   9|18926.917288619916|                      9|\n",
       "| 10385163239|                17| 350.0866763834393|                   17|58553.117647058825|            a| 39339.24061981452|                16|     florists|                  22| 52838.18504617854|                     22|\n",
       "| 10385250025|               186| 473.0931821676331|                  186| 63327.39247311828|            a| 487494.1352760602|               183|     computer|                 197| 545370.0250697191|                    198|\n",
       "| 10430380319|                38| 359.1108847340083|                   38| 60029.76315789474|            b| 67821.67882777526|                38|        motor|                  53| 88318.04454751335|                     53|\n",
       "| 10441711491|                 1| 9734.857620793187|                    1|           57015.0|            a| 56170.12828629902|                 1|        motor|                   3| 81368.69681697263|                      3|\n",
       "| 10462560289|               406|37.902471684743944|                  414| 64525.69565217391|            c|46290.289416812666|               366|         gift|                 513| 56043.00173089229|                    519|\n",
       "| 10463252268|                22|464.09649768506534|                   22| 60070.77272727273|            a| 67488.91405656066|                22|artist supply|                  26| 78474.65405470505|                     26|\n",
       "| 10487253336|               630| 448.7285462884059|                  636|  63650.2248427673|            b|1118734.1350961826|               588|artist supply|                 732|  1313979.00394346|                    751|\n",
       "+------------+------------------+------------------+---------------------+------------------+-------------+------------------+------------------+-------------+--------------------+------------------+-----------------------+\n",
       "only showing top 20 rows"
      ]
     },
     "execution_count": 9,
     "metadata": {},
     "output_type": "execute_result"
    }
   ],
   "source": [
    "train_data = train_data.join(label, [\"merchant_abn\"], how=\"left\") \n",
    "# use left join here since if no historical data is provided, we cannot predict the future value of a merchant\n",
    "train_data"
   ]
  },
  {
   "cell_type": "code",
   "execution_count": 10,
   "metadata": {},
   "outputs": [],
   "source": [
    "train_data.write.format('parquet').mode('overwrite').save(\"../data/curated/train_data\")"
   ]
  }
 ],
 "metadata": {
  "kernelspec": {
   "display_name": "Python 3.8.8",
   "language": "python",
   "name": "python3"
  },
  "language_info": {
   "codemirror_mode": {
    "name": "ipython",
    "version": 3
   },
   "file_extension": ".py",
   "mimetype": "text/x-python",
   "name": "python",
   "nbconvert_exporter": "python",
   "pygments_lexer": "ipython3",
   "version": "3.8.8"
  },
  "orig_nbformat": 4,
  "vscode": {
   "interpreter": {
    "hash": "703e593df40508a60fa363339ca2bbb5bae045b0a530fb0e89bc3e7c255f1da9"
   }
  }
 },
 "nbformat": 4,
 "nbformat_minor": 2
}
