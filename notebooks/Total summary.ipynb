{
 "cells": [
  {
   "cell_type": "markdown",
   "metadata": {},
   "source": [
    "## Buy Now, Pay Later Project\n",
    "\n",
    "The Buy Now, Pay Later (BNPL) Firm has begun offering a new “Pay in 5 Installments” feature and is going to onboard 100 merchants every year. This project focuses on these tasks:\n",
    "\n",
    "\n",
    "- Overview of consumer and transaction data\n",
    "- Analysis to find the 100 best merchants\n",
    "- Recommendations for BNPL\n"
   ]
  },
  {
   "cell_type": "markdown",
   "metadata": {},
   "source": [
    "The dataset provided for this project includes:\n",
    "- Transaction Dataset\n",
    "- Consumer Dataset\n",
    "- Merchant Dataset\n",
    "\n",
    "External Dataset employed to provide more insights into the consumer analysis:\n",
    "- [Australian postcode] (https://www.matthewproctor.com/australian_postcodes)\n",
    "- Income by SA2 Districts（ABS）\n",
    "- SA2 shapefile (ABS)"
   ]
  },
  {
   "cell_type": "markdown",
   "metadata": {},
   "source": [
    "Transaction Dataset includes "
   ]
  },
  {
   "cell_type": "markdown",
   "metadata": {},
   "source": []
  }
 ],
 "metadata": {
  "kernelspec": {
   "display_name": "Python 3.8.10 64-bit",
   "language": "python",
   "name": "python3"
  },
  "language_info": {
   "name": "python",
   "version": "3.8.10"
  },
  "orig_nbformat": 4,
  "vscode": {
   "interpreter": {
    "hash": "916dbcbb3f70747c44a77c7bcd40155683ae19c65e1c03b4aa3499c5328201f1"
   }
  }
 },
 "nbformat": 4,
 "nbformat_minor": 2
}
