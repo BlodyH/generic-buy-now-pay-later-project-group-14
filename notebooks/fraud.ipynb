{
 "cells": [
  {
   "cell_type": "code",
   "execution_count": 2,
   "metadata": {},
   "outputs": [],
   "source": [
    "from pyspark.sql import SparkSession\n",
    "from pyspark.sql import functions as F\n",
    "import pandas as pd\n",
    "import matplotlib as plt\n",
    "import seaborn as sns\n",
    "sns.set_style('darkgrid')"
   ]
  },
  {
   "cell_type": "code",
   "execution_count": 3,
   "metadata": {},
   "outputs": [
    {
     "name": "stderr",
     "output_type": "stream",
     "text": [
      "22/09/14 15:35:13 WARN Utils: Your hostname, Xiaotongs-MacBook-Pro.local resolves to a loopback address: 127.0.0.1; using 10.13.3.32 instead (on interface en0)\n",
      "22/09/14 15:35:13 WARN Utils: Set SPARK_LOCAL_IP if you need to bind to another address\n",
      "22/09/14 15:35:14 WARN NativeCodeLoader: Unable to load native-hadoop library for your platform... using builtin-java classes where applicable\n",
      "Using Spark's default log4j profile: org/apache/spark/log4j-defaults.properties\n",
      "Setting default log level to \"WARN\".\n",
      "To adjust logging level use sc.setLogLevel(newLevel). For SparkR, use setLogLevel(newLevel).\n",
      "22/09/14 15:35:15 WARN Utils: Service 'SparkUI' could not bind on port 4040. Attempting port 4041.\n"
     ]
    }
   ],
   "source": [
    "# Create a spark session (which will run spark jobs)\n",
    "spark = (\n",
    "    SparkSession.builder.appName(\"MAST30034 Project 2\")\n",
    "    .config(\"spark.sql.repl.eagerEval.enabled\", True) \n",
    "    .config(\"spark.sql.parquet.cacheMetadata\", \"true\")\n",
    "    .config(\"spark.sql.session.timeZone\", \"Etc/UTC\")\n",
    "    .config(\"spark.driver.memory\", \"2g\")\n",
    "    .config(\"spark.executer.memory\", \"4g\")\n",
    "    .getOrCreate()\n",
    ")"
   ]
  },
  {
   "cell_type": "code",
   "execution_count": 4,
   "metadata": {},
   "outputs": [
    {
     "name": "stderr",
     "output_type": "stream",
     "text": [
      "                                                                                \r"
     ]
    }
   ],
   "source": [
    "sdf = spark.read.parquet(\"../data/curated/full_data/\")\n",
    "merchant_df = pd.read_csv(\"../data/tables/merchant_fraud_probability.csv\")\n",
    "consumer_df = pd.read_csv(\"../data/tables/consumer_fraud_probability.csv\")"
   ]
  },
  {
   "cell_type": "code",
   "execution_count": 5,
   "metadata": {},
   "outputs": [
    {
     "data": {
      "text/plain": [
       "<AxesSubplot:xlabel='fraud_probability', ylabel='Count'>"
      ]
     },
     "execution_count": 5,
     "metadata": {},
     "output_type": "execute_result"
    },
    {
     "data": {
      "image/png": "[encoded data removed]",
      "text/plain": [
       "<Figure size 432x288 with 1 Axes>"
      ]
     },
     "metadata": {},
     "output_type": "display_data"
    }
   ],
   "source": [
    "sns.histplot(consumer_df[\"fraud_probability\"], bins=50)"
   ]
  },
  {
   "cell_type": "code",
   "execution_count": 6,
   "metadata": {},
   "outputs": [
    {
     "data": {
      "text/plain": [
       "<AxesSubplot:xlabel='fraud_probability', ylabel='Count'>"
      ]
     },
     "execution_count": 6,
     "metadata": {},
     "output_type": "execute_result"
    },
    {
     "data": {
      "image/png": "[encoded data removed]",
      "text/plain": [
       "<Figure size 432x288 with 1 Axes>"
      ]
     },
     "metadata": {},
     "output_type": "display_data"
    }
   ],
   "source": [
    "sns.histplot(merchant_df[\"fraud_probability\"], bins=30)"
   ]
  },
  {
   "cell_type": "code",
   "execution_count": 34,
   "metadata": {},
   "outputs": [],
   "source": [
    "# sorted(consumer_df[\"order_datetime\"].unique())\n",
    "# data from 2021-02-28 to 2022-02-27"
   ]
  },
  {
   "cell_type": "code",
   "execution_count": 16,
   "metadata": {},
   "outputs": [],
   "source": [
    "transactions = spark.read.parquet('../data/tables/transactions_20210228_20210827_snapshot')\\\n",
    "    .union(spark.read.parquet('../data/tables/transactions_20210828_20220227_snapshot'))"
   ]
  },
  {
   "cell_type": "code",
   "execution_count": 17,
   "metadata": {},
   "outputs": [],
   "source": [
    "transactions_by_merch_date = transactions.groupBy('merchant_abn', 'order_datetime').sum('dollar_value')"
   ]
  },
  {
   "cell_type": "code",
   "execution_count": 18,
   "metadata": {},
   "outputs": [],
   "source": [
    "probs = spark.read.option('header', True).csv('../data/tables/merchant_fraud_probability.csv')"
   ]
  },
  {
   "cell_type": "code",
   "execution_count": 19,
   "metadata": {},
   "outputs": [],
   "source": [
    "probs = probs.withColumn('merchant_abn', F.col('merchant_abn').cast('long'))\\\n",
    "        .withColumn('order_datetime', F.col('order_datetime').cast('date'))\\\n",
    "        .withColumn('fraud_probability', F.col('fraud_probability').cast('float'))"
   ]
  },
  {
   "cell_type": "code",
   "execution_count": 20,
   "metadata": {},
   "outputs": [
    {
     "name": "stdout",
     "output_type": "stream",
     "text": [
      "root\n",
      " |-- merchant_abn: long (nullable = true)\n",
      " |-- order_datetime: date (nullable = true)\n",
      " |-- fraud_probability: float (nullable = true)\n",
      "\n"
     ]
    }
   ],
   "source": [
    "probs.printSchema()"
   ]
  },
  {
   "cell_type": "code",
   "execution_count": 21,
   "metadata": {},
   "outputs": [],
   "source": [
    "merchant_with_probs = transactions_by_merch_date.join(probs, on=['merchant_abn','order_datetime'], how='left')"
   ]
  },
  {
   "cell_type": "code",
   "execution_count": 22,
   "metadata": {},
   "outputs": [],
   "source": [
    "merchant_with_probs = merchant_with_probs.na.fill(0)"
   ]
  },
  {
   "cell_type": "code",
   "execution_count": 23,
   "metadata": {},
   "outputs": [],
   "source": [
    "merchant_with_probs = merchant_with_probs.withColumn('expected_dollar_value', (F.col('sum(dollar_value)')*(1-F.col('fraud_probability')/100)))"
   ]
  },
  {
   "cell_type": "code",
   "execution_count": 24,
   "metadata": {},
   "outputs": [
    {
     "name": "stderr",
     "output_type": "stream",
     "text": [
      "                                                                                \r"
     ]
    },
    {
     "data": {
      "text/html": [
       "<table border='1'>\n",
       "<tr><th>merchant_abn</th><th>order_datetime</th><th>sum(dollar_value)</th><th>fraud_probability</th><th>expected_dollar_value</th></tr>\n",
       "<tr><td>90173050473</td><td>2021-08-20</td><td>10065.92598002776</td><td>0.0</td><td>10065.92598002776</td></tr>\n",
       "<tr><td>91455531890</td><td>2021-08-20</td><td>1486.8427457787936</td><td>0.0</td><td>1486.8427457787936</td></tr>\n",
       "<tr><td>14480530534</td><td>2021-08-20</td><td>3273.1834477999028</td><td>0.0</td><td>3273.1834477999028</td></tr>\n",
       "<tr><td>54062916822</td><td>2021-08-20</td><td>33.80538233308192</td><td>0.0</td><td>33.80538233308192</td></tr>\n",
       "<tr><td>73225085327</td><td>2021-08-20</td><td>342.0587279527964</td><td>0.0</td><td>342.0587279527964</td></tr>\n",
       "<tr><td>34558201737</td><td>2021-08-20</td><td>623.7741963160896</td><td>0.0</td><td>623.7741963160896</td></tr>\n",
       "<tr><td>63523606379</td><td>2021-08-20</td><td>748.1316659657341</td><td>0.0</td><td>748.1316659657341</td></tr>\n",
       "<tr><td>15130143460</td><td>2021-08-20</td><td>3389.0731959179543</td><td>0.0</td><td>3389.0731959179543</td></tr>\n",
       "<tr><td>49167531725</td><td>2021-08-20</td><td>404.49218244684687</td><td>0.0</td><td>404.49218244684687</td></tr>\n",
       "<tr><td>10023283211</td><td>2021-08-20</td><td>957.3137092766215</td><td>0.0</td><td>957.3137092766215</td></tr>\n",
       "<tr><td>46622394552</td><td>2021-08-20</td><td>1073.3666428950974</td><td>0.0</td><td>1073.3666428950974</td></tr>\n",
       "<tr><td>87639550697</td><td>2021-08-21</td><td>1934.478533315841</td><td>0.0</td><td>1934.478533315841</td></tr>\n",
       "<tr><td>89260537373</td><td>2021-08-21</td><td>5480.46445786499</td><td>0.0</td><td>5480.46445786499</td></tr>\n",
       "<tr><td>71523080801</td><td>2021-08-21</td><td>863.3654660941532</td><td>0.0</td><td>863.3654660941532</td></tr>\n",
       "<tr><td>48390524826</td><td>2021-08-21</td><td>1332.544828068976</td><td>0.0</td><td>1332.544828068976</td></tr>\n",
       "<tr><td>97903083009</td><td>2021-08-21</td><td>1133.6689623660864</td><td>0.0</td><td>1133.6689623660864</td></tr>\n",
       "<tr><td>61376261291</td><td>2021-08-21</td><td>570.9557533950517</td><td>0.0</td><td>570.9557533950517</td></tr>\n",
       "<tr><td>29613837166</td><td>2021-08-21</td><td>1.055506256053634</td><td>0.0</td><td>1.055506256053634</td></tr>\n",
       "<tr><td>59128133246</td><td>2021-08-19</td><td>323.60194002406206</td><td>0.0</td><td>323.60194002406206</td></tr>\n",
       "<tr><td>23754348523</td><td>2021-08-19</td><td>1551.119853964816</td><td>0.0</td><td>1551.119853964816</td></tr>\n",
       "</table>\n",
       "only showing top 20 rows\n"
      ],
      "text/plain": [
       "+------------+--------------+------------------+-----------------+---------------------+\n",
       "|merchant_abn|order_datetime| sum(dollar_value)|fraud_probability|expected_dollar_value|\n",
       "+------------+--------------+------------------+-----------------+---------------------+\n",
       "| 90173050473|    2021-08-20| 10065.92598002776|              0.0|    10065.92598002776|\n",
       "| 91455531890|    2021-08-20|1486.8427457787936|              0.0|   1486.8427457787936|\n",
       "| 14480530534|    2021-08-20|3273.1834477999028|              0.0|   3273.1834477999028|\n",
       "| 54062916822|    2021-08-20| 33.80538233308192|              0.0|    33.80538233308192|\n",
       "| 73225085327|    2021-08-20| 342.0587279527964|              0.0|    342.0587279527964|\n",
       "| 34558201737|    2021-08-20| 623.7741963160896|              0.0|    623.7741963160896|\n",
       "| 63523606379|    2021-08-20| 748.1316659657341|              0.0|    748.1316659657341|\n",
       "| 15130143460|    2021-08-20|3389.0731959179543|              0.0|   3389.0731959179543|\n",
       "| 49167531725|    2021-08-20|404.49218244684687|              0.0|   404.49218244684687|\n",
       "| 10023283211|    2021-08-20| 957.3137092766215|              0.0|    957.3137092766215|\n",
       "| 46622394552|    2021-08-20|1073.3666428950974|              0.0|   1073.3666428950974|\n",
       "| 87639550697|    2021-08-21| 1934.478533315841|              0.0|    1934.478533315841|\n",
       "| 89260537373|    2021-08-21|  5480.46445786499|              0.0|     5480.46445786499|\n",
       "| 71523080801|    2021-08-21| 863.3654660941532|              0.0|    863.3654660941532|\n",
       "| 48390524826|    2021-08-21| 1332.544828068976|              0.0|    1332.544828068976|\n",
       "| 97903083009|    2021-08-21|1133.6689623660864|              0.0|   1133.6689623660864|\n",
       "| 61376261291|    2021-08-21| 570.9557533950517|              0.0|    570.9557533950517|\n",
       "| 29613837166|    2021-08-21| 1.055506256053634|              0.0|    1.055506256053634|\n",
       "| 59128133246|    2021-08-19|323.60194002406206|              0.0|   323.60194002406206|\n",
       "| 23754348523|    2021-08-19| 1551.119853964816|              0.0|    1551.119853964816|\n",
       "+------------+--------------+------------------+-----------------+---------------------+\n",
       "only showing top 20 rows"
      ]
     },
     "execution_count": 24,
     "metadata": {},
     "output_type": "execute_result"
    }
   ],
   "source": [
    "merchant_with_probs"
   ]
  },
  {
   "cell_type": "code",
   "execution_count": null,
   "metadata": {},
   "outputs": [],
   "source": []
  }
 ],
 "metadata": {
  "kernelspec": {
   "display_name": "Python 3.7.13 ('xt': conda)",
   "language": "python",
   "name": "python3"
  },
  "language_info": {
   "codemirror_mode": {
    "name": "ipython",
    "version": 3
   },
   "file_extension": ".py",
   "mimetype": "text/x-python",
   "name": "python",
   "nbconvert_exporter": "python",
   "pygments_lexer": "ipython3",
   "version": "3.7.13"
  },
  "orig_nbformat": 4,
  "vscode": {
   "interpreter": {
    "hash": "464aeb025fe7529aa14c472f74018451d543299a7c7ff36fe116837387c8b1ec"
   }
  }
 },
 "nbformat": 4,
 "nbformat_minor": 2
}
