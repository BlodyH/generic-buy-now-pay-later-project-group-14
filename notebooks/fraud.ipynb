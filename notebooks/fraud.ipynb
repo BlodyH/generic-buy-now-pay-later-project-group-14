{
 "cells": [
  {
   "cell_type": "code",
   "execution_count": 37,
   "metadata": {},
   "outputs": [],
   "source": [
    "from pyspark.sql import SparkSession\n",
    "from pyspark.sql import functions as F\n",
    "import pandas as pd\n",
    "import matplotlib as plt\n",
    "import seaborn as sns\n",
    "sns.set_style('darkgrid')"
   ]
  },
  {
   "cell_type": "code",
   "execution_count": 38,
   "metadata": {},
   "outputs": [],
   "source": [
    "# Create a spark session (which will run spark jobs)\n",
    "spark = (\n",
    "    SparkSession.builder.appName(\"MAST30034 Project 2\")\n",
    "    .config(\"spark.sql.repl.eagerEval.enabled\", True) \n",
    "    .config(\"spark.sql.parquet.cacheMetadata\", \"true\")\n",
    "    .config(\"spark.sql.session.timeZone\", \"Etc/UTC\")\n",
    "    .config(\"spark.driver.memory\", \"2g\")\n",
    "    .config(\"spark.executer.memory\", \"4g\")\n",
    "    .getOrCreate()\n",
    ")"
   ]
  },
  {
   "cell_type": "code",
   "execution_count": 50,
   "metadata": {},
   "outputs": [],
   "source": [
    "sdf = spark.read.parquet(\"../data/curated/full_data/\")\n",
    "merchant_df = pd.read_csv(\"../data/tables/merchant_fraud_probability.csv\")\n",
    "consumer_df = pd.read_csv(\"../data/tables/consumer_fraud_probability.csv\")"
   ]
  },
  {
   "cell_type": "code",
   "execution_count": 40,
   "metadata": {},
   "outputs": [
    {
     "data": {
      "text/plain": [
       "<AxesSubplot:xlabel='fraud_probability', ylabel='Count'>"
      ]
     },
     "execution_count": 40,
     "metadata": {},
     "output_type": "execute_result"
    },
    {
     "data": {
      "image/png": "[encoded data removed]",
      "text/plain": [
       "<Figure size 432x288 with 1 Axes>"
      ]
     },
     "metadata": {},
     "output_type": "display_data"
    }
   ],
   "source": [
    "sns.histplot(consumer_df[\"fraud_probability\"], bins=50)"
   ]
  },
  {
   "cell_type": "code",
   "execution_count": 41,
   "metadata": {},
   "outputs": [
    {
     "data": {
      "text/plain": [
       "<AxesSubplot:xlabel='fraud_probability', ylabel='Count'>"
      ]
     },
     "execution_count": 41,
     "metadata": {},
     "output_type": "execute_result"
    },
    {
     "data": {
      "image/png": "[encoded data removed]",
      "text/plain": [
       "<Figure size 432x288 with 1 Axes>"
      ]
     },
     "metadata": {},
     "output_type": "display_data"
    }
   ],
   "source": [
    "sns.histplot(merchant_df[\"fraud_probability\"], bins=30)"
   ]
  },
  {
   "cell_type": "code",
   "execution_count": 34,
   "metadata": {},
   "outputs": [],
   "source": [
    "# sorted(consumer_df[\"order_datetime\"].unique())\n",
    "# data from 2021-02-28 to 2022-02-27"
   ]
  },
  {
   "cell_type": "code",
   "execution_count": 42,
   "metadata": {},
   "outputs": [
    {
     "data": {
      "text/html": [
       "<div>\n",
       "<style scoped>\n",
       "    .dataframe tbody tr th:only-of-type {\n",
       "        vertical-align: middle;\n",
       "    }\n",
       "\n",
       "    .dataframe tbody tr th {\n",
       "        vertical-align: top;\n",
       "    }\n",
       "\n",
       "    .dataframe thead th {\n",
       "        text-align: right;\n",
       "    }\n",
       "</style>\n",
       "<table border=\"1\" class=\"dataframe\">\n",
       "  <thead>\n",
       "    <tr style=\"text-align: right;\">\n",
       "      <th></th>\n",
       "      <th>user_id</th>\n",
       "      <th>order_datetime</th>\n",
       "      <th>fraud_probability</th>\n",
       "    </tr>\n",
       "  </thead>\n",
       "  <tbody>\n",
       "    <tr>\n",
       "      <th>0</th>\n",
       "      <td>6228</td>\n",
       "      <td>2021-12-19</td>\n",
       "      <td>97.629808</td>\n",
       "    </tr>\n",
       "    <tr>\n",
       "      <th>1</th>\n",
       "      <td>21419</td>\n",
       "      <td>2021-12-10</td>\n",
       "      <td>99.247380</td>\n",
       "    </tr>\n",
       "    <tr>\n",
       "      <th>2</th>\n",
       "      <td>5606</td>\n",
       "      <td>2021-10-17</td>\n",
       "      <td>84.058250</td>\n",
       "    </tr>\n",
       "    <tr>\n",
       "      <th>3</th>\n",
       "      <td>3101</td>\n",
       "      <td>2021-04-17</td>\n",
       "      <td>91.421921</td>\n",
       "    </tr>\n",
       "    <tr>\n",
       "      <th>4</th>\n",
       "      <td>22239</td>\n",
       "      <td>2021-10-19</td>\n",
       "      <td>94.703425</td>\n",
       "    </tr>\n",
       "  </tbody>\n",
       "</table>\n",
       "</div>"
      ],
      "text/plain": [
       "   user_id order_datetime  fraud_probability\n",
       "0     6228     2021-12-19          97.629808\n",
       "1    21419     2021-12-10          99.247380\n",
       "2     5606     2021-10-17          84.058250\n",
       "3     3101     2021-04-17          91.421921\n",
       "4    22239     2021-10-19          94.703425"
      ]
     },
     "execution_count": 42,
     "metadata": {},
     "output_type": "execute_result"
    }
   ],
   "source": [
    "consumer_df.head()"
   ]
  },
  {
   "cell_type": "code",
   "execution_count": 64,
   "metadata": {},
   "outputs": [
    {
     "data": {
      "text/plain": [
       "34864"
      ]
     },
     "execution_count": 64,
     "metadata": {},
     "output_type": "execute_result"
    }
   ],
   "source": [
    "consumer_fraud_sdf = spark.read.csv(\"../data/tables/consumer_fraud_probability.csv\", inferSchema =True, header=True)\n",
    "consumer_fraud_sdf = consumer_fraud_sdf.withColumn(\"order_datetime\",consumer_fraud_sdf.order_datetime.cast('date'))\n",
    "consumer_fraud_sdf.count()"
   ]
  },
  {
   "cell_type": "code",
   "execution_count": 65,
   "metadata": {},
   "outputs": [
    {
     "data": {
      "text/plain": [
       "34765"
      ]
     },
     "execution_count": 65,
     "metadata": {},
     "output_type": "execute_result"
    }
   ],
   "source": [
    "consumer_fraud_sdf.distinct().count() # repeated rows exist in dataset"
   ]
  },
  {
   "cell_type": "code",
   "execution_count": 66,
   "metadata": {},
   "outputs": [
    {
     "data": {
      "text/plain": [
       "34765"
      ]
     },
     "execution_count": 66,
     "metadata": {},
     "output_type": "execute_result"
    }
   ],
   "source": [
    "# delete duplicate records\n",
    "consumer_fraud_sdf = consumer_fraud_sdf.dropDuplicates()\n",
    "consumer_fraud_sdf.count()"
   ]
  },
  {
   "cell_type": "code",
   "execution_count": 67,
   "metadata": {},
   "outputs": [
    {
     "data": {
      "text/plain": [
       "71637"
      ]
     },
     "execution_count": 67,
     "metadata": {},
     "output_type": "execute_result"
    }
   ],
   "source": [
    "sample = sdf.join(consumer_fraud_sdf, [\"order_datetime\", \"user_id\"], how=\"inner\")\n",
    "sample.count()"
   ]
  },
  {
   "cell_type": "code",
   "execution_count": 68,
   "metadata": {},
   "outputs": [
    {
     "data": {
      "text/html": [
       "<table border='1'>\n",
       "<tr><th>order_datetime</th><th>user_id</th><th>SA2_code</th><th>postcode</th><th>consumer_id</th><th>state</th><th>gender</th><th>mean_total_income</th><th>merchant_abn</th><th>dollar_value</th><th>order_id</th><th>name</th><th>tags</th><th>revenue_level</th><th>take_rate</th><th>fraud_probability</th></tr>\n",
       "<tr><td>2021-12-19</td><td>6228</td><td>208011169</td><td>3186</td><td>1242133</td><td>VIC</td><td>Male</td><td>137864</td><td>49549583265</td><td>1682.693398737649</td><td>aea2185e-5c06-42e...</td><td>Luctus Et Incorpo...</td><td>tent</td><td>a</td><td>5.69</td><td>97.6298077657765</td></tr>\n",
       "<tr><td>2021-12-19</td><td>6228</td><td>208011169</td><td>3186</td><td>1242133</td><td>VIC</td><td>Male</td><td>137864</td><td>21025433654</td><td>2.7444223963251986</td><td>f127f49d-f703-4a4...</td><td>Lorem Foundation</td><td>digital goods</td><td>a</td><td>6.55</td><td>97.6298077657765</td></tr>\n",
       "<tr><td>2021-10-19</td><td>22239</td><td>212011288</td><td>3813</td><td>184299</td><td>VIC</td><td>Male</td><td>58390</td><td>67264251405</td><td>51876.637563877644</td><td>09206be9-492c-414...</td><td>Elit Dictum Eu Fo...</td><td>art dealer</td><td>a</td><td>6.4</td><td>94.70342477508035</td></tr>\n",
       "<tr><td>2021-10-06</td><td>8347</td><td>207011151</td><td>3123</td><td>1691</td><td>VIC</td><td>Male</td><td>104364</td><td>73972053940</td><td>13.807156691382522</td><td>c2d13756-1ebe-44f...</td><td>Quis Tristique Ac...</td><td>tent</td><td>b</td><td>3.88</td><td>92.99138306039121</td></tr>\n",
       "<tr><td>2022-02-25</td><td>17900</td><td>103021064</td><td>2805</td><td>476053</td><td>NSW</td><td>Female</td><td>46863</td><td>11149063370</td><td>42797.34835914282</td><td>b0bdd444-223a-4b4...</td><td>Et Arcu Limited</td><td>art dealer</td><td>b</td><td>4.84</td><td>92.73262811161372</td></tr>\n",
       "<tr><td>2021-04-17</td><td>3101</td><td>509021242</td><td>6484</td><td>27622</td><td>WA</td><td>Male</td><td>80842</td><td>91880575299</td><td>105193.88578925544</td><td>2ab65c8f-11b2-41c...</td><td>At Foundation</td><td>antique</td><td>b</td><td>3.4</td><td>91.42192091901347</td></tr>\n",
       "<tr><td>2022-02-20</td><td>16556</td><td>312011338</td><td>4743</td><td>1243659</td><td>QLD</td><td>Male</td><td>82565</td><td>49322182190</td><td>170.51251362734206</td><td>b609fa57-bfb8-4f2...</td><td>Gravida Mauris In...</td><td>watch</td><td>a</td><td>6.35</td><td>89.65663294494827</td></tr>\n",
       "<tr><td>2022-02-20</td><td>16556</td><td>312011338</td><td>4743</td><td>1243659</td><td>QLD</td><td>Male</td><td>82565</td><td>92065881715</td><td>192.82296700148154</td><td>dbe30431-0c1b-469...</td><td>Quam Elementum Corp.</td><td>opticians</td><td>b</td><td>4.2</td><td>89.65663294494827</td></tr>\n",
       "<tr><td>2022-02-20</td><td>16556</td><td>312011338</td><td>4743</td><td>1243659</td><td>QLD</td><td>Male</td><td>82565</td><td>35575706403</td><td>50209.505438673325</td><td>d444e831-764d-4ca...</td><td>Tempus Mauris Ltd</td><td>antique</td><td>b</td><td>3.46</td><td>89.65663294494827</td></tr>\n",
       "<tr><td>2022-01-02</td><td>2310</td><td>204021066</td><td>3677</td><td>526977</td><td>VIC</td><td>Undisclosed</td><td>54321</td><td>79100970961</td><td>41689.73039921748</td><td>a40ffe64-0e3a-489...</td><td>Nunc Quisque Orna...</td><td>antique</td><td>b</td><td>4.8</td><td>87.96418126148595</td></tr>\n",
       "<tr><td>2022-01-02</td><td>2310</td><td>204021066</td><td>3677</td><td>526977</td><td>VIC</td><td>Undisclosed</td><td>54321</td><td>61412665910</td><td>263.2459528668431</td><td>afca64ab-12ed-470...</td><td>Tempor Inc.</td><td>furniture</td><td>c</td><td>1.75</td><td>87.96418126148595</td></tr>\n",
       "<tr><td>2021-08-28</td><td>230</td><td>103041076</td><td>2791</td><td>187071</td><td>NSW</td><td>Male</td><td>56039</td><td>11149063370</td><td>47346.113374357374</td><td>6c3eb0dc-1235-4e1...</td><td>Et Arcu Limited</td><td>art dealer</td><td>b</td><td>4.84</td><td>86.28328808934151</td></tr>\n",
       "<tr><td>2021-08-29</td><td>5233</td><td>215031405</td><td>3597</td><td>596242</td><td>VIC</td><td>Male</td><td>52912</td><td>15043504837</td><td>47381.93709086238</td><td>d4afd2e7-0362-48b...</td><td>Odio Incorporated</td><td>jewelry</td><td>b</td><td>4.62</td><td>85.87123303878818</td></tr>\n",
       "<tr><td>2021-08-29</td><td>5233</td><td>215031405</td><td>3597</td><td>596242</td><td>VIC</td><td>Male</td><td>52912</td><td>34695415993</td><td>87.75287320319775</td><td>6afebded-56a5-406...</td><td>Ultrices Vivamus ...</td><td>cable</td><td>a</td><td>6.02</td><td>85.87123303878818</td></tr>\n",
       "<tr><td>2021-08-29</td><td>5233</td><td>215031405</td><td>3597</td><td>596242</td><td>VIC</td><td>Male</td><td>52912</td><td>91720867026</td><td>17.636911995810458</td><td>f3f49c0b-8385-443...</td><td>Eget Mollis LLC</td><td>watch</td><td>a</td><td>6.31</td><td>85.87123303878818</td></tr>\n",
       "<tr><td>2021-08-29</td><td>5233</td><td>215031405</td><td>3597</td><td>596242</td><td>VIC</td><td>Male</td><td>52912</td><td>45629217853</td><td>16.18223615123166</td><td>5297521a-093f-420...</td><td>Lacus Consulting</td><td>gift</td><td>a</td><td>6.98</td><td>85.87123303878818</td></tr>\n",
       "<tr><td>2021-10-08</td><td>5664</td><td>126021497</td><td>2114</td><td>1465400</td><td>NSW</td><td>Male</td><td>65005</td><td>15043504837</td><td>31747.90565761848</td><td>05f26aff-7de8-4ec...</td><td>Odio Incorporated</td><td>jewelry</td><td>b</td><td>4.62</td><td>84.55736483386326</td></tr>\n",
       "<tr><td>2021-10-08</td><td>5664</td><td>126021497</td><td>2114</td><td>1465400</td><td>NSW</td><td>Male</td><td>65005</td><td>76251945060</td><td>793.1850218248011</td><td>329e58ac-f37e-473...</td><td>Tempor Arcu Corp.</td><td>health</td><td>b</td><td>4.24</td><td>84.55736483386326</td></tr>\n",
       "<tr><td>2021-10-29</td><td>21749</td><td>316031427</td><td>4558</td><td>1261708</td><td>QLD</td><td>Female</td><td>53746</td><td>49212265466</td><td>616.5568193948603</td><td>a6f2a147-324b-42e...</td><td>Auctor Company</td><td>florists</td><td>b</td><td>4.5</td><td>84.12234662592398</td></tr>\n",
       "<tr><td>2021-10-29</td><td>21749</td><td>316031427</td><td>4558</td><td>1261708</td><td>QLD</td><td>Female</td><td>53746</td><td>90918180829</td><td>31542.729985961818</td><td>6c2fca7c-2542-4b8...</td><td>Pharetra Quisque ...</td><td>jewelry</td><td>c</td><td>2.62</td><td>84.12234662592398</td></tr>\n",
       "</table>\n",
       "only showing top 20 rows\n"
      ],
      "text/plain": [
       "+--------------+-------+---------+--------+-----------+-----+-----------+-----------------+------------+------------------+--------------------+--------------------+-------------+-------------+---------+-----------------+\n",
       "|order_datetime|user_id| SA2_code|postcode|consumer_id|state|     gender|mean_total_income|merchant_abn|      dollar_value|            order_id|                name|         tags|revenue_level|take_rate|fraud_probability|\n",
       "+--------------+-------+---------+--------+-----------+-----+-----------+-----------------+------------+------------------+--------------------+--------------------+-------------+-------------+---------+-----------------+\n",
       "|    2021-12-19|   6228|208011169|    3186|    1242133|  VIC|       Male|           137864| 49549583265| 1682.693398737649|aea2185e-5c06-42e...|Luctus Et Incorpo...|         tent|            a|     5.69| 97.6298077657765|\n",
       "|    2021-12-19|   6228|208011169|    3186|    1242133|  VIC|       Male|           137864| 21025433654|2.7444223963251986|f127f49d-f703-4a4...|    Lorem Foundation|digital goods|            a|     6.55| 97.6298077657765|\n",
       "|    2021-10-19|  22239|212011288|    3813|     184299|  VIC|       Male|            58390| 67264251405|51876.637563877644|09206be9-492c-414...|Elit Dictum Eu Fo...|   art dealer|            a|      6.4|94.70342477508035|\n",
       "|    2021-10-06|   8347|207011151|    3123|       1691|  VIC|       Male|           104364| 73972053940|13.807156691382522|c2d13756-1ebe-44f...|Quis Tristique Ac...|         tent|            b|     3.88|92.99138306039121|\n",
       "|    2022-02-25|  17900|103021064|    2805|     476053|  NSW|     Female|            46863| 11149063370| 42797.34835914282|b0bdd444-223a-4b4...|     Et Arcu Limited|   art dealer|            b|     4.84|92.73262811161372|\n",
       "|    2021-04-17|   3101|509021242|    6484|      27622|   WA|       Male|            80842| 91880575299|105193.88578925544|2ab65c8f-11b2-41c...|       At Foundation|      antique|            b|      3.4|91.42192091901347|\n",
       "|    2022-02-20|  16556|312011338|    4743|    1243659|  QLD|       Male|            82565| 49322182190|170.51251362734206|b609fa57-bfb8-4f2...|Gravida Mauris In...|        watch|            a|     6.35|89.65663294494827|\n",
       "|    2022-02-20|  16556|312011338|    4743|    1243659|  QLD|       Male|            82565| 92065881715|192.82296700148154|dbe30431-0c1b-469...|Quam Elementum Corp.|    opticians|            b|      4.2|89.65663294494827|\n",
       "|    2022-02-20|  16556|312011338|    4743|    1243659|  QLD|       Male|            82565| 35575706403|50209.505438673325|d444e831-764d-4ca...|   Tempus Mauris Ltd|      antique|            b|     3.46|89.65663294494827|\n",
       "|    2022-01-02|   2310|204021066|    3677|     526977|  VIC|Undisclosed|            54321| 61412665910| 263.2459528668431|afca64ab-12ed-470...|         Tempor Inc.|    furniture|            c|     1.75|87.96418126148595|\n",
       "|    2022-01-02|   2310|204021066|    3677|     526977|  VIC|Undisclosed|            54321| 79100970961| 41689.73039921748|a40ffe64-0e3a-489...|Nunc Quisque Orna...|      antique|            b|      4.8|87.96418126148595|\n",
       "|    2021-08-28|    230|103041076|    2791|     187071|  NSW|       Male|            56039| 11149063370|47346.113374357374|6c3eb0dc-1235-4e1...|     Et Arcu Limited|   art dealer|            b|     4.84|86.28328808934151|\n",
       "|    2021-08-29|   5233|215031405|    3597|     596242|  VIC|       Male|            52912| 34695415993| 87.75287320319775|6afebded-56a5-406...|Ultrices Vivamus ...|        cable|            a|     6.02|85.87123303878818|\n",
       "|    2021-08-29|   5233|215031405|    3597|     596242|  VIC|       Male|            52912| 91720867026|17.636911995810458|f3f49c0b-8385-443...|     Eget Mollis LLC|        watch|            a|     6.31|85.87123303878818|\n",
       "|    2021-08-29|   5233|215031405|    3597|     596242|  VIC|       Male|            52912| 15043504837| 47381.93709086238|d4afd2e7-0362-48b...|   Odio Incorporated|      jewelry|            b|     4.62|85.87123303878818|\n",
       "|    2021-08-29|   5233|215031405|    3597|     596242|  VIC|       Male|            52912| 45629217853| 16.18223615123166|5297521a-093f-420...|    Lacus Consulting|         gift|            a|     6.98|85.87123303878818|\n",
       "|    2021-10-08|   5664|126021497|    2114|    1465400|  NSW|       Male|            65005| 15043504837| 31747.90565761848|05f26aff-7de8-4ec...|   Odio Incorporated|      jewelry|            b|     4.62|84.55736483386326|\n",
       "|    2021-10-08|   5664|126021497|    2114|    1465400|  NSW|       Male|            65005| 76251945060| 793.1850218248011|329e58ac-f37e-473...|   Tempor Arcu Corp.|       health|            b|     4.24|84.55736483386326|\n",
       "|    2021-10-29|  21749|316031427|    4558|    1261708|  QLD|     Female|            53746| 49212265466| 616.5568193948603|a6f2a147-324b-42e...|      Auctor Company|     florists|            b|      4.5|84.12234662592398|\n",
       "|    2021-10-29|  21749|316031427|    4558|    1261708|  QLD|     Female|            53746| 90918180829|31542.729985961818|6c2fca7c-2542-4b8...|Pharetra Quisque ...|      jewelry|            c|     2.62|84.12234662592398|\n",
       "+--------------+-------+---------+--------+-----------+-----+-----------+-----------------+------------+------------------+--------------------+--------------------+-------------+-------------+---------+-----------------+\n",
       "only showing top 20 rows"
      ]
     },
     "execution_count": 68,
     "metadata": {},
     "output_type": "execute_result"
    }
   ],
   "source": [
    "sample.sort(sample.fraud_probability.desc())"
   ]
  },
  {
   "cell_type": "code",
   "execution_count": 69,
   "metadata": {},
   "outputs": [
    {
     "data": {
      "text/plain": [
       "114"
      ]
     },
     "execution_count": 69,
     "metadata": {},
     "output_type": "execute_result"
    }
   ],
   "source": [
    "merchant_fraud_sdf = spark.read.csv(\"../data/tables/merchant_fraud_probability.csv\", inferSchema =True, header=True)\n",
    "merchant_fraud_sdf = merchant_fraud_sdf.withColumn(\"order_datetime\",merchant_fraud_sdf.order_datetime.cast('date'))\n",
    "merchant_fraud_sdf.count()"
   ]
  },
  {
   "cell_type": "code",
   "execution_count": 71,
   "metadata": {},
   "outputs": [
    {
     "data": {
      "text/plain": [
       "114"
      ]
     },
     "execution_count": 71,
     "metadata": {},
     "output_type": "execute_result"
    }
   ],
   "source": [
    "merchant_fraud_sdf.distinct().count() # no repeated records"
   ]
  },
  {
   "cell_type": "code",
   "execution_count": 78,
   "metadata": {},
   "outputs": [
    {
     "data": {
      "text/html": [
       "<table border='1'>\n",
       "<tr><th>merchant_abn</th><th>order_datetime</th><th>user_id</th><th>SA2_code</th><th>postcode</th><th>consumer_id</th><th>state</th><th>gender</th><th>mean_total_income</th><th>dollar_value</th><th>order_id</th><th>name</th><th>tags</th><th>revenue_level</th><th>take_rate</th><th>fraud_probability</th></tr>\n",
       "<tr><td>35575706403</td><td>2022-02-20</td><td>16556</td><td>312011338</td><td>4743</td><td>1243659</td><td>QLD</td><td>Male</td><td>82565</td><td>50209.505438673325</td><td>d444e831-764d-4ca...</td><td>Tempus Mauris Ltd</td><td>antique</td><td>b</td><td>3.46</td><td>91.09606847149965</td></tr>\n",
       "<tr><td>97884414539</td><td>2021-10-19</td><td>18658</td><td>203021037</td><td>3216</td><td>288499</td><td>VIC</td><td>Male</td><td>56271</td><td>44615.02252113347</td><td>b89f04f6-13fb-4ec...</td><td>Ut Corporation</td><td>antique</td><td>a</td><td>6.82</td><td>89.79919971536573</td></tr>\n",
       "<tr><td>14530561097</td><td>2021-09-15</td><td>6383</td><td>309081261</td><td>4230</td><td>25238</td><td>QLD</td><td>Undisclosed</td><td>56011</td><td>46001.13901942742</td><td>00f150fa-dc82-43d...</td><td>Duis At Inc.</td><td>jewelry</td><td>c</td><td>1.69</td><td>80.80054474543395</td></tr>\n",
       "<tr><td>18737319630</td><td>2021-09-25</td><td>14289</td><td>117031337</td><td>1138</td><td>372362</td><td>NSW</td><td>Male</td><td>70738</td><td>31.87802890860355</td><td>760b62e7-456a-47c...</td><td>Ut Industries</td><td>computer</td><td>a</td><td>5.7</td><td>72.73069736562613</td></tr>\n",
       "<tr><td>18737319630</td><td>2021-09-25</td><td>4095</td><td>310011271</td><td>4076</td><td>73469</td><td>QLD</td><td>Male</td><td>52311</td><td>2043.5096770196096</td><td>a69922eb-11f4-45d...</td><td>Ut Industries</td><td>computer</td><td>a</td><td>5.7</td><td>72.73069736562613</td></tr>\n",
       "<tr><td>18737319630</td><td>2021-09-25</td><td>21903</td><td>116031318</td><td>2766</td><td>191946</td><td>NSW</td><td>Female</td><td>168493</td><td>185.21294554901942</td><td>e53d6628-ead8-461...</td><td>Ut Industries</td><td>computer</td><td>a</td><td>5.7</td><td>72.73069736562613</td></tr>\n",
       "<tr><td>85482742429</td><td>2021-11-27</td><td>13027</td><td>106011108</td><td>2325</td><td>1493014</td><td>NSW</td><td>Female</td><td>56848</td><td>91.15263125315963</td><td>37cbc3ce-149c-4b5...</td><td>Mi Eleifend Egest...</td><td>gift</td><td>b</td><td>3.91</td><td>70.88131110541714</td></tr>\n",
       "<tr><td>85482742429</td><td>2021-11-27</td><td>20253</td><td>509021241</td><td>6512</td><td>597170</td><td>WA</td><td>Female</td><td>82363</td><td>24.141374159653708</td><td>caff42dc-f5b0-4cf...</td><td>Mi Eleifend Egest...</td><td>gift</td><td>b</td><td>3.91</td><td>70.88131110541714</td></tr>\n",
       "<tr><td>85482742429</td><td>2021-11-27</td><td>13353</td><td>216011408</td><td>3565</td><td>1327404</td><td>VIC</td><td>Male</td><td>47199</td><td>118.07626713731234</td><td>c1387980-f617-479...</td><td>Mi Eleifend Egest...</td><td>gift</td><td>b</td><td>3.91</td><td>70.88131110541714</td></tr>\n",
       "<tr><td>85482742429</td><td>2021-11-27</td><td>23895</td><td>315031410</td><td>4733</td><td>1395891</td><td>QLD</td><td>Male</td><td>55439</td><td>72.88038090808719</td><td>1af7fa01-a55a-497...</td><td>Mi Eleifend Egest...</td><td>gift</td><td>b</td><td>3.91</td><td>70.88131110541714</td></tr>\n",
       "<tr><td>85482742429</td><td>2021-11-27</td><td>5776</td><td>316061444</td><td>4555</td><td>495085</td><td>QLD</td><td>Female</td><td>57305</td><td>429.16650591313027</td><td>10ad1b55-2faa-49a...</td><td>Mi Eleifend Egest...</td><td>gift</td><td>b</td><td>3.91</td><td>70.88131110541714</td></tr>\n",
       "<tr><td>85482742429</td><td>2021-11-27</td><td>5169</td><td>201031013</td><td>3381</td><td>905367</td><td>VIC</td><td>Female</td><td>46335</td><td>32.501151298097334</td><td>ed8d960e-b166-48f...</td><td>Mi Eleifend Egest...</td><td>gift</td><td>b</td><td>3.91</td><td>70.88131110541714</td></tr>\n",
       "<tr><td>85482742429</td><td>2021-11-27</td><td>5323</td><td>505021085</td><td>6941</td><td>1004759</td><td>WA</td><td>Male</td><td>48307</td><td>71.24010534006233</td><td>6841d2e7-1a1b-4f0...</td><td>Mi Eleifend Egest...</td><td>gift</td><td>b</td><td>3.91</td><td>70.88131110541714</td></tr>\n",
       "<tr><td>85482742429</td><td>2021-11-27</td><td>16929</td><td>511011275</td><td>6452</td><td>437261</td><td>WA</td><td>Female</td><td>78679</td><td>86.86612970455367</td><td>e06b7859-c538-40e...</td><td>Mi Eleifend Egest...</td><td>gift</td><td>b</td><td>3.91</td><td>70.88131110541714</td></tr>\n",
       "<tr><td>78080443264</td><td>2021-11-26</td><td>5155</td><td>213041359</td><td>3336</td><td>1479461</td><td>VIC</td><td>Undisclosed</td><td>57008</td><td>8.97632124389667</td><td>83f02011-d1c3-4aa...</td><td>Nullam Enim Sed I...</td><td>tent</td><td>e</td><td>0.27</td><td>69.0953172336121</td></tr>\n",
       "<tr><td>78080443264</td><td>2021-11-26</td><td>2382</td><td>117011322</td><td>1445</td><td>905474</td><td>NSW</td><td>Female</td><td>59699</td><td>41.69633093215468</td><td>c8c5882c-6645-4c2...</td><td>Nullam Enim Sed I...</td><td>tent</td><td>e</td><td>0.27</td><td>69.0953172336121</td></tr>\n",
       "<tr><td>78080443264</td><td>2021-11-26</td><td>1588</td><td>406011134</td><td>5655</td><td>22206</td><td>SA</td><td>Female</td><td>53194</td><td>47.16668938212064</td><td>570fabbb-31b7-493...</td><td>Nullam Enim Sed I...</td><td>tent</td><td>e</td><td>0.27</td><td>69.0953172336121</td></tr>\n",
       "<tr><td>78080443264</td><td>2021-11-26</td><td>17864</td><td>203011035</td><td>3330</td><td>236151</td><td>VIC</td><td>Female</td><td>58864</td><td>8.572041166890191</td><td>ede88040-d5c1-4c3...</td><td>Nullam Enim Sed I...</td><td>tent</td><td>e</td><td>0.27</td><td>69.0953172336121</td></tr>\n",
       "<tr><td>78080443264</td><td>2021-11-26</td><td>2710</td><td>505031107</td><td>6065</td><td>757764</td><td>WA</td><td>Female</td><td>66504</td><td>32.654567973386385</td><td>bfc7d678-af02-4a3...</td><td>Nullam Enim Sed I...</td><td>tent</td><td>e</td><td>0.27</td><td>69.0953172336121</td></tr>\n",
       "<tr><td>78080443264</td><td>2021-11-26</td><td>13025</td><td>509021238</td><td>6470</td><td>810026</td><td>WA</td><td>Male</td><td>78930</td><td>19.26780099891689</td><td>2c9e2797-6cf8-4be...</td><td>Nullam Enim Sed I...</td><td>tent</td><td>e</td><td>0.27</td><td>69.0953172336121</td></tr>\n",
       "</table>\n",
       "only showing top 20 rows\n"
      ],
      "text/plain": [
       "+------------+--------------+-------+---------+--------+-----------+-----+-----------+-----------------+------------------+--------------------+--------------------+--------+-------------+---------+-----------------+\n",
       "|merchant_abn|order_datetime|user_id| SA2_code|postcode|consumer_id|state|     gender|mean_total_income|      dollar_value|            order_id|                name|    tags|revenue_level|take_rate|fraud_probability|\n",
       "+------------+--------------+-------+---------+--------+-----------+-----+-----------+-----------------+------------------+--------------------+--------------------+--------+-------------+---------+-----------------+\n",
       "| 35575706403|    2022-02-20|  16556|312011338|    4743|    1243659|  QLD|       Male|            82565|50209.505438673325|d444e831-764d-4ca...|   Tempus Mauris Ltd| antique|            b|     3.46|91.09606847149965|\n",
       "| 97884414539|    2021-10-19|  18658|203021037|    3216|     288499|  VIC|       Male|            56271| 44615.02252113347|b89f04f6-13fb-4ec...|      Ut Corporation| antique|            a|     6.82|89.79919971536573|\n",
       "| 14530561097|    2021-09-15|   6383|309081261|    4230|      25238|  QLD|Undisclosed|            56011| 46001.13901942742|00f150fa-dc82-43d...|        Duis At Inc.| jewelry|            c|     1.69|80.80054474543395|\n",
       "| 18737319630|    2021-09-25|  21903|116031318|    2766|     191946|  NSW|     Female|           168493|185.21294554901942|e53d6628-ead8-461...|       Ut Industries|computer|            a|      5.7|72.73069736562613|\n",
       "| 18737319630|    2021-09-25|  14289|117031337|    1138|     372362|  NSW|       Male|            70738| 31.87802890860355|760b62e7-456a-47c...|       Ut Industries|computer|            a|      5.7|72.73069736562613|\n",
       "| 18737319630|    2021-09-25|   4095|310011271|    4076|      73469|  QLD|       Male|            52311|2043.5096770196096|a69922eb-11f4-45d...|       Ut Industries|computer|            a|      5.7|72.73069736562613|\n",
       "| 85482742429|    2021-11-27|  20253|509021241|    6512|     597170|   WA|     Female|            82363|24.141374159653708|caff42dc-f5b0-4cf...|Mi Eleifend Egest...|    gift|            b|     3.91|70.88131110541714|\n",
       "| 85482742429|    2021-11-27|   5323|505021085|    6941|    1004759|   WA|       Male|            48307| 71.24010534006233|6841d2e7-1a1b-4f0...|Mi Eleifend Egest...|    gift|            b|     3.91|70.88131110541714|\n",
       "| 85482742429|    2021-11-27|  13353|216011408|    3565|    1327404|  VIC|       Male|            47199|118.07626713731234|c1387980-f617-479...|Mi Eleifend Egest...|    gift|            b|     3.91|70.88131110541714|\n",
       "| 85482742429|    2021-11-27|  16929|511011275|    6452|     437261|   WA|     Female|            78679| 86.86612970455367|e06b7859-c538-40e...|Mi Eleifend Egest...|    gift|            b|     3.91|70.88131110541714|\n",
       "| 85482742429|    2021-11-27|   5776|316061444|    4555|     495085|  QLD|     Female|            57305|429.16650591313027|10ad1b55-2faa-49a...|Mi Eleifend Egest...|    gift|            b|     3.91|70.88131110541714|\n",
       "| 85482742429|    2021-11-27|  23895|315031410|    4733|    1395891|  QLD|       Male|            55439| 72.88038090808719|1af7fa01-a55a-497...|Mi Eleifend Egest...|    gift|            b|     3.91|70.88131110541714|\n",
       "| 85482742429|    2021-11-27|  13027|106011108|    2325|    1493014|  NSW|     Female|            56848| 91.15263125315963|37cbc3ce-149c-4b5...|Mi Eleifend Egest...|    gift|            b|     3.91|70.88131110541714|\n",
       "| 85482742429|    2021-11-27|   5169|201031013|    3381|     905367|  VIC|     Female|            46335|32.501151298097334|ed8d960e-b166-48f...|Mi Eleifend Egest...|    gift|            b|     3.91|70.88131110541714|\n",
       "| 78080443264|    2021-11-26|   5155|213041359|    3336|    1479461|  VIC|Undisclosed|            57008|  8.97632124389667|83f02011-d1c3-4aa...|Nullam Enim Sed I...|    tent|            e|     0.27| 69.0953172336121|\n",
       "| 78080443264|    2021-11-26|   2710|505031107|    6065|     757764|   WA|     Female|            66504|32.654567973386385|bfc7d678-af02-4a3...|Nullam Enim Sed I...|    tent|            e|     0.27| 69.0953172336121|\n",
       "| 78080443264|    2021-11-26|  12555|507011152|    6166|     928541|   WA|Undisclosed|            73873| 6.959607460049178|15cb50e3-b061-427...|Nullam Enim Sed I...|    tent|            e|     0.27| 69.0953172336121|\n",
       "| 78080443264|    2021-11-26|  11999|308011190|    4713|     741585|  QLD|Undisclosed|            79631| 6.587260994141873|6f87318d-4118-44e...|Nullam Enim Sed I...|    tent|            e|     0.27| 69.0953172336121|\n",
       "| 78080443264|    2021-11-26|   3989|701021010|     810|     741216|   NT|     Female|            61532| 62.86275284352216|535536c6-734f-451...|Nullam Enim Sed I...|    tent|            e|     0.27| 69.0953172336121|\n",
       "| 78080443264|    2021-11-26|   1588|406011134|    5655|      22206|   SA|     Female|            53194| 47.16668938212064|570fabbb-31b7-493...|Nullam Enim Sed I...|    tent|            e|     0.27| 69.0953172336121|\n",
       "+------------+--------------+-------+---------+--------+-----------+-----+-----------+-----------------+------------------+--------------------+--------------------+--------+-------------+---------+-----------------+\n",
       "only showing top 20 rows"
      ]
     },
     "execution_count": 78,
     "metadata": {},
     "output_type": "execute_result"
    }
   ],
   "source": [
    "merchant_sample = sdf.join(merchant_fraud_sdf, [\"merchant_abn\", \"order_datetime\"], how=\"inner\")\n",
    "merchant_sample.sort(merchant_sample.fraud_probability.desc())"
   ]
  }
 ],
 "metadata": {
  "kernelspec": {
   "display_name": "Python 3.8.8",
   "language": "python",
   "name": "python3"
  },
  "language_info": {
   "codemirror_mode": {
    "name": "ipython",
    "version": 3
   },
   "file_extension": ".py",
   "mimetype": "text/x-python",
   "name": "python",
   "nbconvert_exporter": "python",
   "pygments_lexer": "ipython3",
   "version": "3.8.8"
  },
  "orig_nbformat": 4,
  "vscode": {
   "interpreter": {
    "hash": "703e593df40508a60fa363339ca2bbb5bae045b0a530fb0e89bc3e7c255f1da9"
   }
  }
 },
 "nbformat": 4,
 "nbformat_minor": 2
}
