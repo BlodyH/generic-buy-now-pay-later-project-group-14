{
 "cells": [
  {
   "cell_type": "code",
   "execution_count": 1,
   "metadata": {},
   "outputs": [
    {
     "name": "stdout",
     "output_type": "stream",
     "text": [
      "22/09/08 11:43:33 WARN Utils: Your hostname, Luo resolves to a loopback address: 127.0.1.1; using 172.30.203.116 instead (on interface eth0)\n",
      "22/09/08 11:43:33 WARN Utils: Set SPARK_LOCAL_IP if you need to bind to another address\n"
     ]
    },
    {
     "name": "stderr",
     "output_type": "stream",
     "text": [
      "Setting default log level to \"WARN\".\n",
      "To adjust logging level use sc.setLogLevel(newLevel). For SparkR, use setLogLevel(newLevel).\n"
     ]
    },
    {
     "name": "stdout",
     "output_type": "stream",
     "text": [
      "22/09/08 11:43:34 WARN NativeCodeLoader: Unable to load native-hadoop library for your platform... using builtin-java classes where applicable\n",
      "22/09/08 11:43:35 WARN Utils: Service 'SparkUI' could not bind on port 4040. Attempting port 4041.\n",
      "22/09/08 11:43:35 WARN Utils: Service 'SparkUI' could not bind on port 4041. Attempting port 4042.\n"
     ]
    }
   ],
   "source": [
    "from pyspark.sql import SparkSession\n",
    "from pyspark.sql import functions as F\n",
    "from pyspark.sql.functions import *\n",
    "import pandas as pd\n",
    "import geopandas as gpd\n",
    "from shapely.geometry import Point\n",
    "import seaborn as sbs\n",
    "import numpy as np\n",
    "\n",
    "spark = (\n",
    "    SparkSession.builder.appName(\"MAST30034 Project 2\")\n",
    "    .config(\"spark.sql.repl.eagerEval.enabled\", True) \n",
    "    .config(\"spark.sql.parquet.cacheMetadata\", \"true\")\n",
    "    .config(\"spark.driver.memory\", \"4g\")\n",
    "    .config(\"spark.executer.memory\", \"8g\")\n",
    "    .getOrCreate()\n",
    ")"
   ]
  },
  {
   "cell_type": "code",
   "execution_count": 2,
   "metadata": {},
   "outputs": [],
   "source": [
    "trans = '../data/curated/transaction cleaned.parquet'\n",
    "trans_full = '../data/curated/transaction cleaned without remove outlier.parquet/'\n",
    "merchant = '../data/curated/merchant.csv'"
   ]
  },
  {
   "cell_type": "code",
   "execution_count": 3,
   "metadata": {},
   "outputs": [
    {
     "name": "stderr",
     "output_type": "stream",
     "text": [
      "                                                                                \r"
     ]
    }
   ],
   "source": [
    "trans_sdf = spark.read.parquet(trans)\n",
    "trans_full_sdf = spark.read.parquet(trans_full)\n",
    "merchant_sdf = spark.read.csv(merchant, header = True)"
   ]
  },
  {
   "cell_type": "code",
   "execution_count": 4,
   "metadata": {},
   "outputs": [
    {
     "data": {
      "text/plain": [
       "4026"
      ]
     },
     "execution_count": 4,
     "metadata": {},
     "output_type": "execute_result"
    }
   ],
   "source": [
    "merchant_sdf.count()"
   ]
  },
  {
   "cell_type": "code",
   "execution_count": 5,
   "metadata": {},
   "outputs": [
    {
     "data": {
      "text/plain": [
       "7813531"
      ]
     },
     "execution_count": 5,
     "metadata": {},
     "output_type": "execute_result"
    }
   ],
   "source": [
    "trans_sdf.count()"
   ]
  },
  {
   "cell_type": "code",
   "execution_count": 6,
   "metadata": {},
   "outputs": [],
   "source": [
    "merged_full_sdf = trans_full_sdf.join(merchant_sdf,trans_full_sdf.merchant_abn ==  merchant_sdf.merchant_abn,\"rightouter\").drop(merchant_sdf.merchant_abn)"
   ]
  },
  {
   "cell_type": "code",
   "execution_count": 7,
   "metadata": {},
   "outputs": [],
   "source": [
    "merged_sdf = trans_sdf.join(merchant_sdf,trans_sdf.merchant_abn ==  merchant_sdf.merchant_abn,\"rightouter\").drop(merchant_sdf.merchant_abn)"
   ]
  },
  {
   "cell_type": "code",
   "execution_count": 8,
   "metadata": {},
   "outputs": [],
   "source": [
    "merged_sdf = merged_sdf.withColumn('revenue', F.col('dollar_value') * F.col('take_rate') /100)"
   ]
  },
  {
   "cell_type": "code",
   "execution_count": 9,
   "metadata": {},
   "outputs": [
    {
     "name": "stderr",
     "output_type": "stream",
     "text": [
      "                                                                                \r"
     ]
    },
    {
     "data": {
      "text/html": [
       "<table border='1'>\n",
       "<tr><th>user_id</th><th>merchant_abn</th><th>dollar_value</th><th>order_id</th><th>order_datetime</th><th>is_weekend</th><th>DoW</th><th>log(dollar)</th><th>name</th><th>tags</th><th>revenue_level</th><th>take_rate</th><th>revenue</th></tr>\n",
       "<tr><td>16219</td><td>10023283211</td><td>224.25</td><td>a4b4af18-b067-4ac...</td><td>2021-11-26</td><td>0</td><td>6</td><td>5.412761500938905</td><td>Felis Limited</td><td>furniture</td><td>e</td><td>0.18</td><td>0.40365</td></tr>\n",
       "<tr><td>16516</td><td>10023283211</td><td>485.9</td><td>3bd80282-b6f6-4db...</td><td>2021-11-26</td><td>0</td><td>6</td><td>6.186002841411857</td><td>Felis Limited</td><td>furniture</td><td>e</td><td>0.18</td><td>0.8746199999999998</td></tr>\n",
       "<tr><td>3047</td><td>10023283211</td><td>127.1</td><td>56fe2a16-85d8-407...</td><td>2021-11-26</td><td>0</td><td>6</td><td>4.844974178195408</td><td>Felis Limited</td><td>furniture</td><td>e</td><td>0.18</td><td>0.22877999999999996</td></tr>\n",
       "<tr><td>3584</td><td>10023283211</td><td>890.7</td><td>6a8d2f0c-142d-43d...</td><td>2021-11-26</td><td>0</td><td>6</td><td>6.792007670437824</td><td>Felis Limited</td><td>furniture</td><td>e</td><td>0.18</td><td>1.60326</td></tr>\n",
       "<tr><td>19326</td><td>10023283211</td><td>245.94</td><td>5cc7048f-bfea-4db...</td><td>2021-11-26</td><td>0</td><td>6</td><td>5.505087603744301</td><td>Felis Limited</td><td>furniture</td><td>e</td><td>0.18</td><td>0.442692</td></tr>\n",
       "<tr><td>4380</td><td>10023283211</td><td>32.91</td><td>4b6ba050-bb75-446...</td><td>2021-11-26</td><td>0</td><td>6</td><td>3.4937765629552486</td><td>Felis Limited</td><td>furniture</td><td>e</td><td>0.18</td><td>0.05923799999999999</td></tr>\n",
       "<tr><td>4572</td><td>10023283211</td><td>205.37</td><td>4f548c53-d5e4-4ab...</td><td>2021-11-26</td><td>0</td><td>6</td><td>5.324813230352002</td><td>Felis Limited</td><td>furniture</td><td>e</td><td>0.18</td><td>0.369666</td></tr>\n",
       "<tr><td>20963</td><td>10023283211</td><td>81.29</td><td>2478b44b-2f2a-472...</td><td>2021-11-26</td><td>0</td><td>6</td><td>4.398023007758481</td><td>Felis Limited</td><td>furniture</td><td>e</td><td>0.18</td><td>0.146322</td></tr>\n",
       "<tr><td>6523</td><td>10023283211</td><td>90.18</td><td>3f5b82d5-ff5f-467...</td><td>2021-11-26</td><td>0</td><td>6</td><td>4.501807672992938</td><td>Felis Limited</td><td>furniture</td><td>e</td><td>0.18</td><td>0.16232400000000002</td></tr>\n",
       "<tr><td>22450</td><td>10023283211</td><td>186.24</td><td>f1727faa-de41-4c1...</td><td>2021-11-26</td><td>0</td><td>6</td><td>5.227036164543073</td><td>Felis Limited</td><td>furniture</td><td>e</td><td>0.18</td><td>0.33523200000000003</td></tr>\n",
       "<tr><td>7779</td><td>10023283211</td><td>83.09</td><td>e8f892fd-8e79-41a...</td><td>2021-11-26</td><td>0</td><td>6</td><td>4.41992435767689</td><td>Felis Limited</td><td>furniture</td><td>e</td><td>0.18</td><td>0.149562</td></tr>\n",
       "<tr><td>23137</td><td>10023283211</td><td>732.51</td><td>bdf7b0ea-ea51-487...</td><td>2021-11-26</td><td>0</td><td>6</td><td>6.59647699267517</td><td>Felis Limited</td><td>furniture</td><td>e</td><td>0.18</td><td>1.318518</td></tr>\n",
       "<tr><td>8739</td><td>10023283211</td><td>67.63</td><td>d92263fb-acd1-46a...</td><td>2021-11-26</td><td>0</td><td>6</td><td>4.214051671586849</td><td>Felis Limited</td><td>furniture</td><td>e</td><td>0.18</td><td>0.121734</td></tr>\n",
       "<tr><td>24015</td><td>10023283211</td><td>267.72</td><td>f8ffd16e-1d63-45f...</td><td>2021-11-26</td><td>0</td><td>6</td><td>5.5899416582324415</td><td>Felis Limited</td><td>furniture</td><td>e</td><td>0.18</td><td>0.48189600000000005</td></tr>\n",
       "<tr><td>9521</td><td>10023283211</td><td>86.96</td><td>c6c473f9-e796-4c1...</td><td>2021-11-26</td><td>0</td><td>6</td><td>4.465448242812954</td><td>Felis Limited</td><td>furniture</td><td>e</td><td>0.18</td><td>0.156528</td></tr>\n",
       "<tr><td>11256</td><td>10023283211</td><td>85.67</td><td>59359ad1-8747-4c5...</td><td>2021-11-26</td><td>0</td><td>6</td><td>4.4505027059759525</td><td>Felis Limited</td><td>furniture</td><td>e</td><td>0.18</td><td>0.154206</td></tr>\n",
       "<tr><td>15094</td><td>10023283211</td><td>209.19</td><td>bd4556fd-ff79-449...</td><td>2021-11-29</td><td>0</td><td>2</td><td>5.343242929901029</td><td>Felis Limited</td><td>furniture</td><td>e</td><td>0.18</td><td>0.37654199999999993</td></tr>\n",
       "<tr><td>15591</td><td>10023283211</td><td>15.39</td><td>9fbc691f-90fa-4d0...</td><td>2021-11-29</td><td>0</td><td>2</td><td>2.733717947850788</td><td>Felis Limited</td><td>furniture</td><td>e</td><td>0.18</td><td>0.027702</td></tr>\n",
       "<tr><td>16539</td><td>10023283211</td><td>88.03</td><td>f16b4b04-fadf-41a...</td><td>2021-11-29</td><td>0</td><td>2</td><td>4.4776776654728145</td><td>Felis Limited</td><td>furniture</td><td>e</td><td>0.18</td><td>0.15845399999999998</td></tr>\n",
       "<tr><td>16953</td><td>10023283211</td><td>114.88</td><td>2dd00447-c2f1-4a1...</td><td>2021-11-29</td><td>0</td><td>2</td><td>4.743888105299914</td><td>Felis Limited</td><td>furniture</td><td>e</td><td>0.18</td><td>0.206784</td></tr>\n",
       "</table>\n",
       "only showing top 20 rows\n"
      ],
      "text/plain": [
       "+-------+------------+------------+--------------------+--------------+----------+---+------------------+-------------+---------+-------------+---------+-------------------+\n",
       "|user_id|merchant_abn|dollar_value|            order_id|order_datetime|is_weekend|DoW|       log(dollar)|         name|     tags|revenue_level|take_rate|            revenue|\n",
       "+-------+------------+------------+--------------------+--------------+----------+---+------------------+-------------+---------+-------------+---------+-------------------+\n",
       "|  16219| 10023283211|      224.25|a4b4af18-b067-4ac...|    2021-11-26|         0|  6| 5.412761500938905|Felis Limited|furniture|            e|     0.18|            0.40365|\n",
       "|  16516| 10023283211|       485.9|3bd80282-b6f6-4db...|    2021-11-26|         0|  6| 6.186002841411857|Felis Limited|furniture|            e|     0.18| 0.8746199999999998|\n",
       "|   3047| 10023283211|       127.1|56fe2a16-85d8-407...|    2021-11-26|         0|  6| 4.844974178195408|Felis Limited|furniture|            e|     0.18|0.22877999999999996|\n",
       "|   3584| 10023283211|       890.7|6a8d2f0c-142d-43d...|    2021-11-26|         0|  6| 6.792007670437824|Felis Limited|furniture|            e|     0.18|            1.60326|\n",
       "|  19326| 10023283211|      245.94|5cc7048f-bfea-4db...|    2021-11-26|         0|  6| 5.505087603744301|Felis Limited|furniture|            e|     0.18|           0.442692|\n",
       "|   4380| 10023283211|       32.91|4b6ba050-bb75-446...|    2021-11-26|         0|  6|3.4937765629552486|Felis Limited|furniture|            e|     0.18|0.05923799999999999|\n",
       "|   4572| 10023283211|      205.37|4f548c53-d5e4-4ab...|    2021-11-26|         0|  6| 5.324813230352002|Felis Limited|furniture|            e|     0.18|           0.369666|\n",
       "|  20963| 10023283211|       81.29|2478b44b-2f2a-472...|    2021-11-26|         0|  6| 4.398023007758481|Felis Limited|furniture|            e|     0.18|           0.146322|\n",
       "|   6523| 10023283211|       90.18|3f5b82d5-ff5f-467...|    2021-11-26|         0|  6| 4.501807672992938|Felis Limited|furniture|            e|     0.18|0.16232400000000002|\n",
       "|  22450| 10023283211|      186.24|f1727faa-de41-4c1...|    2021-11-26|         0|  6| 5.227036164543073|Felis Limited|furniture|            e|     0.18|0.33523200000000003|\n",
       "|   7779| 10023283211|       83.09|e8f892fd-8e79-41a...|    2021-11-26|         0|  6|  4.41992435767689|Felis Limited|furniture|            e|     0.18|           0.149562|\n",
       "|  23137| 10023283211|      732.51|bdf7b0ea-ea51-487...|    2021-11-26|         0|  6|  6.59647699267517|Felis Limited|furniture|            e|     0.18|           1.318518|\n",
       "|   8739| 10023283211|       67.63|d92263fb-acd1-46a...|    2021-11-26|         0|  6| 4.214051671586849|Felis Limited|furniture|            e|     0.18|           0.121734|\n",
       "|  24015| 10023283211|      267.72|f8ffd16e-1d63-45f...|    2021-11-26|         0|  6|5.5899416582324415|Felis Limited|furniture|            e|     0.18|0.48189600000000005|\n",
       "|   9521| 10023283211|       86.96|c6c473f9-e796-4c1...|    2021-11-26|         0|  6| 4.465448242812954|Felis Limited|furniture|            e|     0.18|           0.156528|\n",
       "|  11256| 10023283211|       85.67|59359ad1-8747-4c5...|    2021-11-26|         0|  6|4.4505027059759525|Felis Limited|furniture|            e|     0.18|           0.154206|\n",
       "|  15094| 10023283211|      209.19|bd4556fd-ff79-449...|    2021-11-29|         0|  2| 5.343242929901029|Felis Limited|furniture|            e|     0.18|0.37654199999999993|\n",
       "|  15591| 10023283211|       15.39|9fbc691f-90fa-4d0...|    2021-11-29|         0|  2| 2.733717947850788|Felis Limited|furniture|            e|     0.18|           0.027702|\n",
       "|  16539| 10023283211|       88.03|f16b4b04-fadf-41a...|    2021-11-29|         0|  2|4.4776776654728145|Felis Limited|furniture|            e|     0.18|0.15845399999999998|\n",
       "|  16953| 10023283211|      114.88|2dd00447-c2f1-4a1...|    2021-11-29|         0|  2| 4.743888105299914|Felis Limited|furniture|            e|     0.18|           0.206784|\n",
       "+-------+------------+------------+--------------------+--------------+----------+---+------------------+-------------+---------+-------------+---------+-------------------+\n",
       "only showing top 20 rows"
      ]
     },
     "execution_count": 9,
     "metadata": {},
     "output_type": "execute_result"
    }
   ],
   "source": [
    "merged_sdf"
   ]
  },
  {
   "cell_type": "code",
   "execution_count": 10,
   "metadata": {},
   "outputs": [
    {
     "name": "stderr",
     "output_type": "stream",
     "text": [
      "                                                                                \r"
     ]
    }
   ],
   "source": [
    "merged_sdf.write.mode('overwrite').parquet(\"../data/curated/transaction merge merchant.parquet\")"
   ]
  },
  {
   "cell_type": "code",
   "execution_count": 11,
   "metadata": {},
   "outputs": [],
   "source": [
    "missing_full = merged_full_sdf.where(F.col('dollar_value').isNull())"
   ]
  },
  {
   "cell_type": "code",
   "execution_count": 12,
   "metadata": {},
   "outputs": [
    {
     "name": "stderr",
     "output_type": "stream",
     "text": [
      "                                                                                \r"
     ]
    },
    {
     "data": {
      "text/plain": [
       "7"
      ]
     },
     "execution_count": 12,
     "metadata": {},
     "output_type": "execute_result"
    }
   ],
   "source": [
    "missing_full.count()"
   ]
  },
  {
   "cell_type": "code",
   "execution_count": 13,
   "metadata": {},
   "outputs": [],
   "source": [
    "missing = merged_sdf.where(F.col('dollar_value').isNull())"
   ]
  },
  {
   "cell_type": "code",
   "execution_count": 14,
   "metadata": {},
   "outputs": [
    {
     "name": "stderr",
     "output_type": "stream",
     "text": [
      "                                                                                \r"
     ]
    },
    {
     "data": {
      "text/plain": [
       "197"
      ]
     },
     "execution_count": 14,
     "metadata": {},
     "output_type": "execute_result"
    }
   ],
   "source": [
    "missing.count()"
   ]
  },
  {
   "cell_type": "code",
   "execution_count": 15,
   "metadata": {},
   "outputs": [
    {
     "data": {
      "text/html": [
       "<table border='1'>\n",
       "<tr><th>user_id</th><th>merchant_abn</th><th>dollar_value</th><th>order_id</th><th>order_datetime</th><th>is_weekend</th><th>DoW</th><th>log(dollar)</th><th>name</th><th>tags</th><th>revenue_level</th><th>take_rate</th></tr>\n",
       "</table>\n"
      ],
      "text/plain": [
       "+-------+------------+------------+--------+--------------+----------+---+-----------+----+----+-------------+---------+\n",
       "|user_id|merchant_abn|dollar_value|order_id|order_datetime|is_weekend|DoW|log(dollar)|name|tags|revenue_level|take_rate|\n",
       "+-------+------------+------------+--------+--------------+----------+---+-----------+----+----+-------------+---------+\n",
       "+-------+------------+------------+--------+--------------+----------+---+-----------+----+----+-------------+---------+"
      ]
     },
     "execution_count": 15,
     "metadata": {},
     "output_type": "execute_result"
    }
   ],
   "source": [
    "merged_full_sdf.where(F.col('merchant_abn') == 56395390867)"
   ]
  }
 ],
 "metadata": {
  "kernelspec": {
   "display_name": "Python 3.7.13 ('xt': conda)",
   "language": "python",
   "name": "python3"
  },
  "language_info": {
   "codemirror_mode": {
    "name": "ipython",
    "version": 3
   },
   "file_extension": ".py",
   "mimetype": "text/x-python",
   "name": "python",
   "nbconvert_exporter": "python",
   "pygments_lexer": "ipython3",
   "version": "3.7.13"
  },
  "orig_nbformat": 4,
  "vscode": {
   "interpreter": {
    "hash": "464aeb025fe7529aa14c472f74018451d543299a7c7ff36fe116837387c8b1ec"
   }
  }
 },
 "nbformat": 4,
 "nbformat_minor": 2
}
