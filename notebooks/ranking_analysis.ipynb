{
 "cells": [
  {
   "cell_type": "code",
   "execution_count": null,
   "metadata": {},
   "outputs": [],
   "source": [
    "import pandas as pd\n",
    "import seaborn as sns\n",
    "import matplotlib.pyplot as plt\n",
    "import matplotlib.patches as mpatches\n",
    "import numpy as np\n",
    "sns.set_style('darkgrid')"
   ]
  },
  {
   "cell_type": "code",
   "execution_count": null,
   "metadata": {},
   "outputs": [],
   "source": [
    "top100 = pd.read_csv(\"../data/curated/top100.csv\")\n",
    "full = pd.read_csv(\"../data/curated/ranking.csv\")\n",
    "\n",
    "value_count = top100['segment'].value_counts()\n",
    "value_count"
   ]
  },
  {
   "cell_type": "code",
   "execution_count": null,
   "metadata": {},
   "outputs": [],
   "source": [
    "top100['tags'].value_counts()"
   ]
  },
  {
   "cell_type": "code",
   "execution_count": null,
   "metadata": {},
   "outputs": [],
   "source": [
    "tag_lst = []\n",
    "for segments in top100['segment'].unique():\n",
    "    sub_lst = []\n",
    "    for tags in top100.loc[top100['segment'] == segments]['tags'].unique():\n",
    "        tag_lst.append(len(top100.loc[top100['tags'] == tags]))\n",
    "        sub_lst.append(tags)\n",
    "    print(segments, \": \", sub_lst)\n",
    "tag_lst"
   ]
  },
  {
   "cell_type": "code",
   "execution_count": null,
   "metadata": {},
   "outputs": [],
   "source": [
    "cmap1 = plt.colormaps['Blues']\n",
    "inner_colors1 = cmap1(np.arange(9)*30 + 100)\n",
    "cmap2 = plt.colormaps['Oranges']\n",
    "inner_colors2 = cmap2(np.arange(5)*30 + 100)\n",
    "cmap3 = plt.colormaps['Greens']\n",
    "inner_colors3 = cmap3(np.arange(3)*30 + 100)\n",
    "cmap4 = plt.colormaps['Purples']\n",
    "inner_colors4 = cmap4(np.arange(2)*30 + 100)\n",
    "\n",
    "inner_colors = np.vstack((inner_colors1, inner_colors2, inner_colors3, inner_colors4))"
   ]
  },
  {
   "cell_type": "code",
   "execution_count": null,
   "metadata": {},
   "outputs": [],
   "source": [
    "fig, ax = plt.subplots(figsize = (20, 20))\n",
    "size = 0.3\n",
    "\n",
    "[9, 8, 2, 5, 5, 5, 2, 4, 3, 14, 7, 1, 5, 3, 3, 12, 5, 5, 2]\n",
    "cmap = plt.colormaps[\"tab20c\"]\n",
    "outer_colors = cmap(np.arange(4)*4)\n",
    "\n",
    "labels1 = [r'Personal & Household (43%)', r'Recreational (30%)', r'Technical & Machinery (20%)', r'Health Service (7%)']\n",
    "size1 = [43, 30, 20, 7]\n",
    "patches1, texts1= ax.pie(size1, radius=1, colors=outer_colors,\n",
    "       wedgeprops=dict(width=size, edgecolor='w'))\n",
    "legend1 = plt.legend(patches1, labels1, loc = 'upper left', prop={'size': 20})\n",
    "\n",
    "labels2 = [r'watch (9)', r'gift (8)', r'music (2)', r'florists (5)', r'artist supply (5)', r'furniture (5)', \n",
    "        r'antique (2)', r'garden supply(4)', r'shoe (3)', r'tent (14)', r'digital goods (7)', r'hobby (1)',\\\n",
    "        r'books (5)', r'stationery (3)', r'cable (3)', r'computer (12)', r'motor (5)', r'opticians (5)', r'health (2)']\n",
    "size2 = tag_lst\n",
    "patches2, texts2= ax.pie(size2, radius=1-size, colors=inner_colors,\n",
    "       wedgeprops=dict(width=size, edgecolor='w'))\n",
    "plt.legend(patches2, labels2, loc='center left', bbox_to_anchor=(1, 0.5), prop={'size': 20})\n",
    "plt.gca().add_artist(legend1)\n",
    "\n",
    "ax.set(aspect=\"equal\")\n",
    "fig.suptitle('Distribution of Tags and Segments in Top 100 Merchants', fontsize=30)\n",
    "plt.savefig(\"../plots/Tag and Segments Distribution in TOP100.png\", bbox_inches = 'tight')\n",
    "plt.show()"
   ]
  },
  {
   "cell_type": "code",
   "execution_count": null,
   "metadata": {},
   "outputs": [],
   "source": [
    "# tent and computer merchants take up the most weight in top 100 ranking\n",
    "# compare the 3 predicted attributes of tent and computer merchants \n",
    "top_two = top100.loc[(top100['tags'] == 'tent') | (top100['tags'] == 'computer')]\n",
    "\n",
    "sns.scatterplot(y=top_two['pred_total_revenue'], x=top_two['rank'], hue=top_two['tags'])\n",
    "plt.xlabel(\"Rank\", fontsize=12)\n",
    "plt.ylabel(\"Predicted total revenue\", fontsize=12)\n",
    "plt.title(\"Predicted Total Revenue of Tent and Computer Merchants\", fontsize=13)\n",
    "plt.show()"
   ]
  },
  {
   "cell_type": "code",
   "execution_count": null,
   "metadata": {},
   "outputs": [],
   "source": [
    "sns.scatterplot(x = 'rank', y = 'pred_total_num_consumer', data = top_two, hue = 'tags')\n",
    "plt.xlabel(\"Rank\", fontsize=12)\n",
    "plt.ylabel(\"Predicted number of consumers\", fontsize=12)\n",
    "plt.title(\"Predicted Number of Consumer of Tent and Computer Merchants\", fontsize=13)\n",
    "plt.show()"
   ]
  },
  {
   "cell_type": "code",
   "execution_count": null,
   "metadata": {},
   "outputs": [],
   "source": [
    "sns.scatterplot(x = 'rank', y = 'pred_total_num_transaction', data = top_two, hue = 'tags')\n",
    "plt.xlabel(\"Rank\", fontsize=12)\n",
    "plt.ylabel(\"Predicted number of transactions\", fontsize=12)\n",
    "plt.title(\"Predicted Transaction Volume of Tent and Computer Merchants\", fontsize=13)\n",
    "plt.show()"
   ]
  },
  {
   "cell_type": "markdown",
   "metadata": {},
   "source": [
    "**Observation:**  \n",
    "It can be seen that tent merchants often have high customer volume and flow while computer merchants are related to greater transaction values."
   ]
  },
  {
   "cell_type": "code",
   "execution_count": null,
   "metadata": {},
   "outputs": [],
   "source": [
    "# compute average value of each of 3 predictions amont top 100 merchants\n",
    "average_top = top100[['segment', 'pred_total_num_consumer', 'pred_total_num_transaction', 'pred_total_revenue']]\\\n",
    "                        .groupby('segment').mean()\n",
    "average_top.rename({'pred_total_num_consumer': 'pred_total_num_consumer_top', \n",
    "                            'pred_total_num_transaction': 'pred_total_num_transaction_top', \n",
    "                            'pred_total_revenue': 'pred_total_revenue_top'}, axis=1, inplace=True)\n",
    "\n",
    "# compute average value of each of 3 predictions amont all merchants\n",
    "average_full = full[['segment', 'pred_total_num_consumer', 'pred_total_num_transaction', 'pred_total_revenue']]\\\n",
    "                        .groupby('segment').mean()\n",
    "\n",
    "average_compare = average_full.merge(average_top, on='segment', how='left').dropna()"
   ]
  },
  {
   "cell_type": "code",
   "execution_count": null,
   "metadata": {},
   "outputs": [],
   "source": [
    "# set the figure size\n",
    "plt.figure(figsize=(8, 5))\n",
    "\n",
    "x_axis = np.arange(len(average_compare.index))\n",
    "bar1 = plt.bar(x_axis -0.2, average_compare['pred_total_revenue'], width=0.4, label = 'All merchants', color=(0.2, 0.4, 0.6, 0.6))\n",
    "bar2 = plt.bar(x_axis +0.2, average_compare['pred_total_revenue_top'], width=0.4, label = 'TOP 100', color = (0.5, 0.1, 0.4, 0.4))\n",
    "plt.xticks(x_axis, ['Health', 'Personal & Household', 'Recreational', 'Technical & Machinery'], size = 12)\n",
    "plt.ylabel(\"Total Revenue\", size = 12)\n",
    "\n",
    "# add legend\n",
    "top_bar = mpatches.Patch(color=(0.2, 0.4, 0.6, 0.6), label='All Merchants')\n",
    "bottom_bar = mpatches.Patch(color=(0.5, 0.1, 0.4, 0.4), label='TOP 100')\n",
    "plt.legend(handles=[top_bar, bottom_bar])\n",
    "plt.tight_layout()\n",
    "plt.title('Average Total Revenue of Merchants for Each Segment', size = 14)\n",
    "plt.savefig('../plots/Average Total Revenue of Merchants for Each Segment.png')\n",
    "plt.show()"
   ]
  },
  {
   "cell_type": "markdown",
   "metadata": {},
   "source": [
    "**Observation:**  \n",
    "By comparing the average total revenue of the TOP 100 merchants with that of all other merchants, we see that the BNPL company’s profits can be more than ten times higher if they focus their resources on cooperating with the top merchants. Consequently, our final result is reliable in detecting what merchants are more likely to bring high return in each segment. "
   ]
  }
 ],
 "metadata": {
  "kernelspec": {
   "display_name": "Python 3.8.8",
   "language": "python",
   "name": "python3"
  },
  "language_info": {
   "codemirror_mode": {
    "name": "ipython",
    "version": 3
   },
   "file_extension": ".py",
   "mimetype": "text/x-python",
   "name": "python",
   "nbconvert_exporter": "python",
   "pygments_lexer": "ipython3",
   "version": "3.8.8"
  },
  "orig_nbformat": 4,
  "vscode": {
   "interpreter": {
    "hash": "703e593df40508a60fa363339ca2bbb5bae045b0a530fb0e89bc3e7c255f1da9"
   }
  }
 },
 "nbformat": 4,
 "nbformat_minor": 2
}
