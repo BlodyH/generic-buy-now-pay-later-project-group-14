{
 "cells": [
  {
   "cell_type": "code",
   "execution_count": null,
   "metadata": {},
   "outputs": [],
   "source": [
    "import matplotlib\n",
    "import matplotlib.pyplot as plt\n",
    "import pandas as pd\n",
    "merchant_df=pd.read_csv('../data/curated/merchant.csv')\n",
    "import collections\n",
    "from collections import defaultdict\n",
    "revenue_level=merchant_df['revenue_level']\n",
    "dict_revenue=defaultdict(int)\n",
    "for each in revenue_level:\n",
    "    dict_revenue[each]+=1\n",
    "dict_revenue=dict(sorted(dict_revenue.items()))\n",
    "dict_revenue\n",
    "import seaborn as sns\n",
    "\n",
    "#define data\n",
    "data = dict_revenue.values()\n",
    "labels =dict_revenue.keys()\n",
    "\n",
    "#define Seaborn color palette to use\n",
    "colors = sns.color_palette('pastel')[0:5]\n",
    "plt.title(\"Distribution of each revenue level\", fontsize=14);\n",
    "#create pie chart\n",
    "plt.pie(data, labels = labels, colors = colors, autopct='%.0f%%')\n",
    "plt.show()\n",
    "group = merchant_df[[\"tags\",\"revenue_level\"]].groupby(\"revenue_level\")\n",
    "list(group)\n",
    "tags_revenue_analysis_a=merchant_df.loc[merchant_df.revenue_level =='a',\"tags\"]\n",
    "tags_revenue_analysis_a\n",
    "#tags_revenue_analysis=merchant_df.loc[merchant_df.revenue_level =='a',\"tags\"]\n",
    "revenue_level_a=tags_revenue_analysis_a\n",
    "dict_tags_a=defaultdict(int)\n",
    "for each in revenue_level_a:\n",
    "    dict_tags_a[each]+=1\n",
    "dict_tags_a\n",
    "#define data\n",
    "data = dict_tags_a.values()\n",
    "labels =dict_tags_a.keys()\n",
    "\n",
    "#define Seaborn color palette to use\n",
    "colors = sns.color_palette('pastel')[0:23]\n",
    "plt.title(\"Tags for revenue level a\", fontsize=14);\n",
    "#create pie chart\n",
    "plt.pie(data, labels = labels, colors = colors, autopct='%.0f%%')\n",
    "plt.show()\n",
    "tags_revenue_analysis_a=merchant_df.loc[merchant_df.revenue_level =='e']\n",
    "tags_revenue_analysis_a "
   ]
  }
 ],
 "metadata": {
  "kernelspec": {
   "display_name": "Python 3.9.12 ('celia': venv)",
   "language": "python",
   "name": "python3"
  },
  "language_info": {
   "name": "python",
   "version": "3.9.12"
  },
  "orig_nbformat": 4,
  "vscode": {
   "interpreter": {
    "hash": "cae0673c1899273c55c67da75cb2277e08f6319fccfffeac10a1c033ba3659fd"
   }
  }
 },
 "nbformat": 4,
 "nbformat_minor": 2
}
