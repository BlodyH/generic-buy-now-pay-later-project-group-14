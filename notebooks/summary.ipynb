{
 "cells": [
  {
   "cell_type": "code",
   "execution_count": 1,
   "metadata": {},
   "outputs": [],
   "source": [
    "from pyspark.sql import SparkSession\n",
    "from pyspark.sql import functions as F\n",
    "import pandas as pd"
   ]
  },
  {
   "cell_type": "code",
   "execution_count": 2,
   "metadata": {},
   "outputs": [],
   "source": [
    "# Create a spark session (which will run spark jobs)\n",
    "spark = (\n",
    "    SparkSession.builder.appName(\"MAST30034 Project 2\")\n",
    "    .config(\"spark.sql.repl.eagerEval.enabled\", True) \n",
    "    .config(\"spark.sql.parquet.cacheMetadata\", \"true\")\n",
    "    .config(\"spark.sql.session.timeZone\", \"Etc/UTC\")\n",
    "    .config(\"spark.driver.memory\", \"2g\")\n",
    "    .config(\"spark.executer.memory\", \"4g\")\n",
    "    .getOrCreate()\n",
    ")"
   ]
  },
  {
   "cell_type": "code",
   "execution_count": 3,
   "metadata": {},
   "outputs": [
    {
     "data": {
      "text/plain": [
       "13614675"
      ]
     },
     "execution_count": 3,
     "metadata": {},
     "output_type": "execute_result"
    }
   ],
   "source": [
    "sdf = spark.read.parquet(\"../data/curated/full_data/\")\n",
    "sdf.count()"
   ]
  },
  {
   "cell_type": "code",
   "execution_count": 4,
   "metadata": {},
   "outputs": [
    {
     "name": "stdout",
     "output_type": "stream",
     "text": [
      "root\n",
      " |-- user_id: long (nullable = true)\n",
      " |-- SA2_code: integer (nullable = true)\n",
      " |-- postcode: integer (nullable = true)\n",
      " |-- consumer_id: integer (nullable = true)\n",
      " |-- state: string (nullable = true)\n",
      " |-- gender: string (nullable = true)\n",
      " |-- mean_total_income: integer (nullable = true)\n",
      " |-- merchant_abn: long (nullable = true)\n",
      " |-- dollar_value: double (nullable = true)\n",
      " |-- order_id: string (nullable = true)\n",
      " |-- order_datetime: date (nullable = true)\n",
      " |-- name: string (nullable = true)\n",
      " |-- tags: string (nullable = true)\n",
      " |-- revenue_level: string (nullable = true)\n",
      " |-- take_rate: double (nullable = true)\n",
      "\n"
     ]
    }
   ],
   "source": [
    "sdf.printSchema()"
   ]
  },
  {
   "cell_type": "code",
   "execution_count": 5,
   "metadata": {},
   "outputs": [
    {
     "name": "stdout",
     "output_type": "stream",
     "text": [
      "-RECORD 0-------------------------------------------------\n",
      " user_id           | 44                                   \n",
      " SA2_code          | 401041015                            \n",
      " postcode          | 5074                                 \n",
      " consumer_id       | 564558                               \n",
      " state             | SA                                   \n",
      " gender            | Undisclosed                          \n",
      " mean_total_income | 53613                                \n",
      " merchant_abn      | 10648956813                          \n",
      " dollar_value      | 68.17405810943993                    \n",
      " order_id          | 4d42fd2c-0823-4af6-be6a-244fe712c50c \n",
      " order_datetime    | 2021-04-09                           \n",
      " name              | Proin Nisl Institute                 \n",
      " tags              | computer                             \n",
      " revenue_level     | a                                    \n",
      " take_rate         | 6.66                                 \n",
      "only showing top 1 row\n",
      "\n"
     ]
    }
   ],
   "source": [
    "sdf.show(1, truncate=False, vertical=True)"
   ]
  },
  {
   "cell_type": "code",
   "execution_count": 6,
   "metadata": {},
   "outputs": [
    {
     "name": "stdout",
     "output_type": "stream",
     "text": [
      "Number of missiong values in user_id: 0\n",
      "Number of missiong values in SA2_code: 9020\n",
      "Number of missiong values in postcode: 0\n",
      "Number of missiong values in consumer_id: 0\n",
      "Number of missiong values in state: 0\n",
      "Number of missiong values in gender: 0\n",
      "Number of missiong values in mean_total_income: 0\n",
      "Number of missiong values in merchant_abn: 0\n",
      "Number of missiong values in dollar_value: 0\n",
      "Number of missiong values in order_id: 0\n",
      "Number of missiong values in order_datetime: 0\n",
      "Number of missiong values in name: 0\n",
      "Number of missiong values in tags: 0\n",
      "Number of missiong values in revenue_level: 0\n",
      "Number of missiong values in take_rate: 0\n"
     ]
    }
   ],
   "source": [
    "for col in sdf.columns:\n",
    "    print(f\"Number of missiong values in {col}:\", sdf.filter(F.col(col).isNull()).count())"
   ]
  },
  {
   "cell_type": "code",
   "execution_count": 7,
   "metadata": {},
   "outputs": [
    {
     "data": {
      "text/html": [
       "<table border='1'>\n",
       "<tr><th>postcode</th><th>count</th></tr>\n",
       "<tr><td>6958</td><td>5644</td></tr>\n",
       "<tr><td>3989</td><td>3376</td></tr>\n",
       "</table>\n"
      ],
      "text/plain": [
       "+--------+-----+\n",
       "|postcode|count|\n",
       "+--------+-----+\n",
       "|    6958| 5644|\n",
       "|    3989| 3376|\n",
       "+--------+-----+"
      ]
     },
     "execution_count": 7,
     "metadata": {},
     "output_type": "execute_result"
    }
   ],
   "source": [
    "missing = sdf.filter(F.col(\"SA2_code\").isNull()).groupBy(\"postcode\").count()\n",
    "missing.count() # 2 postcodes does not have a corresponding SA2 code\n",
    "missing"
   ]
  }
 ],
 "metadata": {
  "kernelspec": {
   "display_name": "Python 3.7.13 ('xt')",
   "language": "python",
   "name": "python3"
  },
  "language_info": {
   "codemirror_mode": {
    "name": "ipython",
    "version": 3
   },
   "file_extension": ".py",
   "mimetype": "text/x-python",
   "name": "python",
   "nbconvert_exporter": "python",
   "pygments_lexer": "ipython3",
   "version": "3.7.13"
  },
  "orig_nbformat": 4,
  "vscode": {
   "interpreter": {
    "hash": "464aeb025fe7529aa14c472f74018451d543299a7c7ff36fe116837387c8b1ec"
   }
  }
 },
 "nbformat": 4,
 "nbformat_minor": 2
}
