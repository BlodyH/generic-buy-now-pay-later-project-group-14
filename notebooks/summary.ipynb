{
 "cells": [
  {
   "cell_type": "markdown",
   "metadata": {},
   "source": [
    "# Buy Now, Pay Later Project\n",
    "\n",
    "The Buy Now, Pay Later (BNPL) Firm has begun offering a new “Pay in 5 Installments” feature and is going to onboard 100 merchants every year. This project focuses on these tasks:\n",
    "\n",
    "\n",
    "- Overview of consumer and transaction data\n",
    "- Analysis to find the 100 best merchants\n",
    "- Recommendations for BNPL\n",
    "\n",
    "_________________"
   ]
  },
  {
   "cell_type": "markdown",
   "metadata": {},
   "source": [
    "## Dataset Overview\n",
    "The dataset provided for this project includes:\n",
    "- Transaction Dataset\n",
    "- Consumer Dataset\n",
    "- Merchant Dataset\n",
    "\n",
    "External Dataset employed to provide more insights into the consumer analysis:\n",
    "- [Australian postcode](https://www.matthewproctor.com/australian_postcodes)\n",
    "- Income by SA2 Districts（ABS）\n",
    "- SA2 shapefile (ABS)\n",
    "\n",
    "### Provided Dataset"
   ]
  },
  {
   "cell_type": "code",
   "execution_count": 1,
   "metadata": {},
   "outputs": [],
   "source": [
    "from pyspark.sql import SparkSession\n",
    "from pyspark.sql import functions as F\n",
    "import pandas as pd\n",
    "import statsmodels.api as sm\n",
    "from statsmodels.formula.api import ols\n",
    "\n",
    "# Create a spark session (which will run spark jobs)\n",
    "spark = (\n",
    "    SparkSession.builder.appName(\"ADS project 2\")\n",
    "    .config(\"spark.sql.repl.eagerEval.enabled\", True) \n",
    "    .config(\"spark.sql.parquet.cacheMetadata\", \"true\")\n",
    "    .config(\"spark.sql.session.timeZone\", \"Etc/UTC\")\n",
    "    .getOrCreate()\n",
    ")"
   ]
  },
  {
   "cell_type": "code",
   "execution_count": null,
   "metadata": {},
   "outputs": [],
   "source": [
    "transaction_sdf = spark.read.parquet('../data/tables/transactions_*/*')\n",
    "print(f\"Transaction dataset includes {transaction_sdf.count()} transaction records.\")\n",
    "print(\"Features included are: \")\n",
    "transaction_sdf.printSchema()"
   ]
  },
  {
   "cell_type": "code",
   "execution_count": null,
   "metadata": {},
   "outputs": [],
   "source": [
    "consumer_sdf = spark.read.option(\"delimiter\", \"|\").csv('../data/tables/tbl_consumer.csv', inferSchema =True, header=True)\n",
    "print(f\"Consumer dataset includes {consumer_sdf.count()} consumer records.\")\n",
    "print(\"Features included are: \")\n",
    "consumer_sdf.printSchema()"
   ]
  },
  {
   "cell_type": "code",
   "execution_count": null,
   "metadata": {},
   "outputs": [],
   "source": [
    "merchant_sdf = spark.read.csv(\"../data/curated/merchant.csv\", inferSchema =True, header=True)\n",
    "print(f\"Merchant dataset includes {merchant_sdf.count()} merchant records.\")\n",
    "print(\"Features included are: \")\n",
    "merchant_sdf.printSchema()"
   ]
  },
  {
   "cell_type": "markdown",
   "metadata": {},
   "source": [
    "### External Datasets Overview\n",
    "\n",
    "1. **Australian Postcode**  \n",
    "Used to convert postcode of each region to their SA2 code for furture geospatial plotting\n",
    "\n",
    "2. **Income by SA2 Districts**  \n",
    "Used to analyse the purchase power of consumers from different regions which may correlate with final assessment of the merchants"
   ]
  },
  {
   "cell_type": "code",
   "execution_count": null,
   "metadata": {},
   "outputs": [],
   "source": [
    "postcode_SA2_sdf = spark.read.csv(\"../data/curated/processed_postcode.csv\", inferSchema =True, header=True)\n",
    "print(\"Features included are: \")\n",
    "postcode_SA2_sdf.printSchema()"
   ]
  },
  {
   "cell_type": "code",
   "execution_count": null,
   "metadata": {},
   "outputs": [],
   "source": [
    "income_sdf = spark.read.csv(\"../data/curated/processed_income.csv\", inferSchema =True, header=True)\n",
    "print(\"Features included are: \")\n",
    "income_sdf.printSchema()"
   ]
  },
  {
   "cell_type": "markdown",
   "metadata": {},
   "source": [
    "## Visualisation\n",
    "We inspect the relationship between each of the three features with respect to the location:\n",
    "- Mean total income\n",
    "- Number of Consumers\n",
    "- Number of Transactions\n",
    "\n",
    "**Mean Total Income Map**:  \n",
    "The only three areas colored red in all of Australia are near Perth meaning that consumers here have relatively higher mean total income compared to the rest of Australia. Therefore, these areas may be more profitable for the BNPL company to target."
   ]
  },
  {
   "cell_type": "markdown",
   "metadata": {},
   "source": [
    "<img src=\"../plots/mean_total_income.png\" width=\"400\"/> \n",
    "<img src=\"../plots/mean_income_perth.png\" width=\"400\"/>\n"
   ]
  },
  {
   "cell_type": "markdown",
   "metadata": {},
   "source": [
    "**Number of Consumer vs SA2 Map:**  \n",
    "WA and SA have relatively more consumers than other state.\n",
    "\n",
    "**Number of Transaction Map:**  \n",
    "similar as number of consumer map which can be explained by the correlative between number of consumer and number of transaction (more consumers refer to more possible purchasing -> more transactions)."
   ]
  },
  {
   "cell_type": "markdown",
   "metadata": {},
   "source": [
    "<img src=\"../plots/num%20consumers.png\" width=\"400\"/>\n",
    "<img src=\"../plots/num%20transactions.png\" width=\"400\"/>"
   ]
  },
  {
   "cell_type": "markdown",
   "metadata": {},
   "source": [
    "**Number of Transaction Per Day:**  \n",
    "The volume of transactions during Christmas and the Summer Holidays is higher compared to the rest of the year. Also, the yearly volume of transactions follows a similar trend. For example, the trends from March to November in each year are similar. Our model will make an assumption based on these trends, which will be explained later."
   ]
  },
  {
   "cell_type": "markdown",
   "metadata": {},
   "source": [
    "<img src=\"../plots/Number of Transactions Each Day.png\" width=\"800\"/> \n"
   ]
  },
  {
   "cell_type": "markdown",
   "metadata": {},
   "source": [
    "**Number of Consumers in Each State:**  \n",
    "NSW and Victoria have the most consumers. Hence, the company may earn more profits in these two states."
   ]
  },
  {
   "cell_type": "markdown",
   "metadata": {},
   "source": [
    "<img src=\"../plots/consumer distribution.png\" width=\"600\"/> "
   ]
  },
  {
   "cell_type": "markdown",
   "metadata": {},
   "source": [
    "## Assumptions\n",
    "1. Transactions follow similar pattern each year\n",
    "\n",
    "2. Transactions other than the days listed in the delta files for both customer and merchant have 1% fraud rate\n",
    "\n",
    "## Limitations\n",
    "1. Limited transaction data (from 2021-02-28 to 2022-10-26)\n",
    "\n",
    "2. Missing values: 2 postcodes out of 3167 postcodes do not have a corresponding SA2 code\n"
   ]
  },
  {
   "cell_type": "markdown",
   "metadata": {},
   "source": [
    "## Fraud Detection Model\n",
    "A 5% fraud probability benchmark was set to label a transaction as fraud or not. The two given delta files (covers transactions from 2021-02 to 2022-02) were used to train a logistic model to classify whether other transactions are fraud. Then all fraud transactions were removed from the full dataset before proceeding to build the ranking system."
   ]
  },
  {
   "cell_type": "markdown",
   "metadata": {},
   "source": [
    "## Ranking System\n",
    "To select the best merchants to cooperate, we first summarise each merchant’s data into several features, including \n",
    "1. Total number of consumers\n",
    "2. Average transaction dollar value\n",
    "3. Total number of transactions\n",
    "4. Mean income of consumers\n",
    "5. Revenue level\n",
    "6. BNPL revenue = take rate * total transaction\n",
    "7. Number of distinct postcode\n",
    "8. Tag\n",
    "\n",
    "We then use merchants’ historical data to predict their future business prospects,\n",
    "1. Predicted total number of consumers\n",
    "2. Next year BNPL revenue\n",
    "3. Predicted total number of transactions"
   ]
  },
  {
   "cell_type": "markdown",
   "metadata": {},
   "source": [
    "### Feature Selection\n",
    "- Categorical variables: tag, revenue level  \n",
    "use anova test to examine the significance of these variables in predicting each target variable\n",
    "\n",
    "- Continuous variables  \n",
    "calculate the pearson correlation of each pair of continuous variables"
   ]
  },
  {
   "cell_type": "code",
   "execution_count": null,
   "metadata": {},
   "outputs": [],
   "source": [
    "train_df = pd.read_parquet('../data/curated/train_data/')\n",
    "model = ols('y_total_num_consumer ~ C(tag) + C(revenue_level)', data=train_df).fit()\n",
    "anova_table = sm.stats.anova_lm(model, typ=2)\n",
    "anova_table"
   ]
  },
  {
   "cell_type": "code",
   "execution_count": null,
   "metadata": {},
   "outputs": [],
   "source": [
    "model = ols('y_total_revenue ~ C(tag) + C(revenue_level)', data=train_df).fit()\n",
    "anova_table = sm.stats.anova_lm(model, typ=2)\n",
    "anova_table"
   ]
  },
  {
   "cell_type": "code",
   "execution_count": null,
   "metadata": {},
   "outputs": [],
   "source": [
    "model = ols('y_total_num_transaction ~ C(tag) + C(revenue_level)', data=train_df).fit()\n",
    "anova_table = sm.stats.anova_lm(model, typ=2)\n",
    "anova_table"
   ]
  },
  {
   "cell_type": "markdown",
   "metadata": {},
   "source": [
    "**Observation**:  \n",
    "\"tag\" is significant in all models, whereas \"revenue level\" is not a significant feature in predicting total number of consumers and transactions."
   ]
  },
  {
   "cell_type": "markdown",
   "metadata": {},
   "source": [
    "<img src=\"../plots/Pearson Correlation Metric.png\" width=\"600\"/>"
   ]
  },
  {
   "cell_type": "markdown",
   "metadata": {},
   "source": [
    "**Observation**:  \n",
    "\"Mean income\" and \"avergate dollar value\" have little correlation with target variables. Therefore, they can be excluded in models."
   ]
  },
  {
   "cell_type": "markdown",
   "metadata": {},
   "source": [
    "### Ranking Criteria\n",
    "**Modelling:**  \n",
    "After summarizing each merchant's data, we fit a machine learning model on each of the target variable below:\n",
    "- BNPL revenue: Multi-layer Perceptron\n",
    "\n",
    "- Number of consumers: Linear Regression\n",
    "\n",
    "- Number of transactions: Linear Regression\n",
    "\n",
    "<br>\n",
    "For predicting **number of consumers and transactions** next year, Linear Regression and Neural Network produce similar results. **Linear regression** is chosen as the final model since it has better interpretability and requires less time to run the model. \n",
    "\n",
    "However, when predicting **total revenue**, we choose **Neural Network** as it shows a better performance with increased r2 score and decreased mean absolute error.\n",
    "\n",
    "\n",
    "<br>\n",
    "\n",
    "**Ranking Equation:**  \n",
    "The ranking system utilises predicted number of consumers and transactions as well as revenue that the company could gain from the merchant next year. We also give each merchant a score within 0-100. The ranking score is calculated as follows:\n",
    "\n",
    "1. Standardise each attribute using min-max normalization \n",
    "\n",
    "2. Predicted total number of consumers * 30%\n",
    "\n",
    "3. Next year BNPL revenue * 40%\n",
    "\n",
    "4. Predicted total number of transactions * 30%\n",
    "\n",
    "As we take the revenue that BNPL firm could earn as the highest priority, this feature is assigned the largest weight.\n",
    "Number of consumers and transaction volume are included since they are considered to be positively related with a merchant’s stability and long-term revenue.\n"
   ]
  },
  {
   "cell_type": "markdown",
   "metadata": {},
   "source": [
    "### Split Merchants into 4 Segments\n",
    "Based on [Merchant Cateogry Groups by ANZ](https://www.anz.com/Documents/Business/CommercialCard/Merchant_cateogry_codes_control.pdf), we devide all merchant into 4 categories.\n",
    "\n",
    "1. Health service: health, optician\n",
    "\n",
    "2. Recreational good retailing: bicycle, books, stationary, hobby, tent, digital goods, \n",
    "\n",
    "3. Personal & household good retail: antique, watch, jewellery, music, artist supply, gift, art dealer, florists, furniture, shoe, garden supply, \n",
    "\n",
    "4. Technical & machinery service: cable, telecom, computer, equipment, motor"
   ]
  },
  {
   "cell_type": "markdown",
   "metadata": {},
   "source": [
    "### Result \n",
    "The top 100 merchants overall and top 10 merchants in each segment are displayed on the [website](https://rank-merchant.herokuapp.com/v1/top100). \n",
    "\n",
    "For each merchant on the website, we display their predicted business features in the future. For top 10 merchants in each segment, if you click into a certain merchant, you can see the trend of revenue, number of consumers and transactions data we took from them over the past. "
   ]
  },
  {
   "cell_type": "code",
   "execution_count": 2,
   "metadata": {},
   "outputs": [
    {
     "data": {
      "text/html": [
       "<div>\n",
       "<style scoped>\n",
       "    .dataframe tbody tr th:only-of-type {\n",
       "        vertical-align: middle;\n",
       "    }\n",
       "\n",
       "    .dataframe tbody tr th {\n",
       "        vertical-align: top;\n",
       "    }\n",
       "\n",
       "    .dataframe thead th {\n",
       "        text-align: right;\n",
       "    }\n",
       "</style>\n",
       "<table border=\"1\" class=\"dataframe\">\n",
       "  <thead>\n",
       "    <tr style=\"text-align: right;\">\n",
       "      <th></th>\n",
       "      <th>rank</th>\n",
       "      <th>merchant_abn</th>\n",
       "      <th>name</th>\n",
       "      <th>tags</th>\n",
       "      <th>revenue_level</th>\n",
       "      <th>take_rate</th>\n",
       "      <th>pred_total_num_consumer</th>\n",
       "      <th>pred_total_num_transaction</th>\n",
       "      <th>pred_total_revenue</th>\n",
       "      <th>scaled_pred_total_num_consumer</th>\n",
       "      <th>scaled_pred_total_num_transaction</th>\n",
       "      <th>scaled_pred_total_revenue</th>\n",
       "      <th>score</th>\n",
       "      <th>segment</th>\n",
       "    </tr>\n",
       "  </thead>\n",
       "  <tbody>\n",
       "    <tr>\n",
       "      <th>0</th>\n",
       "      <td>1.0</td>\n",
       "      <td>86578477987</td>\n",
       "      <td>Leo In Consulting</td>\n",
       "      <td>watch</td>\n",
       "      <td>a</td>\n",
       "      <td>6.43</td>\n",
       "      <td>18356.113566</td>\n",
       "      <td>186946.749066</td>\n",
       "      <td>3.992515e+07</td>\n",
       "      <td>81.846275</td>\n",
       "      <td>93.847990</td>\n",
       "      <td>97.593499</td>\n",
       "      <td>91.745679</td>\n",
       "      <td>personal &amp; household good retail</td>\n",
       "    </tr>\n",
       "    <tr>\n",
       "      <th>1</th>\n",
       "      <td>2.0</td>\n",
       "      <td>45629217853</td>\n",
       "      <td>Lacus Consulting</td>\n",
       "      <td>gift</td>\n",
       "      <td>a</td>\n",
       "      <td>6.98</td>\n",
       "      <td>20191.435558</td>\n",
       "      <td>152028.388588</td>\n",
       "      <td>3.819332e+07</td>\n",
       "      <td>90.029612</td>\n",
       "      <td>76.318838</td>\n",
       "      <td>93.360191</td>\n",
       "      <td>87.248612</td>\n",
       "      <td>personal &amp; household good retail</td>\n",
       "    </tr>\n",
       "    <tr>\n",
       "      <th>2</th>\n",
       "      <td>3.0</td>\n",
       "      <td>89726005175</td>\n",
       "      <td>Est Nunc Consulting</td>\n",
       "      <td>tent</td>\n",
       "      <td>a</td>\n",
       "      <td>6.01</td>\n",
       "      <td>20434.182107</td>\n",
       "      <td>148236.132238</td>\n",
       "      <td>3.587346e+07</td>\n",
       "      <td>91.111971</td>\n",
       "      <td>74.415111</td>\n",
       "      <td>87.689512</td>\n",
       "      <td>84.733930</td>\n",
       "      <td>recreational good retailing</td>\n",
       "    </tr>\n",
       "    <tr>\n",
       "      <th>3</th>\n",
       "      <td>4.0</td>\n",
       "      <td>49891706470</td>\n",
       "      <td>Non Vestibulum Industries</td>\n",
       "      <td>tent</td>\n",
       "      <td>a</td>\n",
       "      <td>5.80</td>\n",
       "      <td>19570.482775</td>\n",
       "      <td>169802.295225</td>\n",
       "      <td>3.046344e+07</td>\n",
       "      <td>87.260907</td>\n",
       "      <td>85.241408</td>\n",
       "      <td>74.465184</td>\n",
       "      <td>81.536768</td>\n",
       "      <td>recreational good retailing</td>\n",
       "    </tr>\n",
       "    <tr>\n",
       "      <th>4</th>\n",
       "      <td>5.0</td>\n",
       "      <td>21439773999</td>\n",
       "      <td>Mauris Non Institute</td>\n",
       "      <td>cable</td>\n",
       "      <td>a</td>\n",
       "      <td>6.10</td>\n",
       "      <td>22388.332445</td>\n",
       "      <td>81951.886245</td>\n",
       "      <td>3.705975e+07</td>\n",
       "      <td>99.825141</td>\n",
       "      <td>41.140163</td>\n",
       "      <td>90.589293</td>\n",
       "      <td>78.525308</td>\n",
       "      <td>technical &amp; machinery service</td>\n",
       "    </tr>\n",
       "    <tr>\n",
       "      <th>5</th>\n",
       "      <td>6.0</td>\n",
       "      <td>32361057556</td>\n",
       "      <td>Orci In Consequat Corporation</td>\n",
       "      <td>gift</td>\n",
       "      <td>a</td>\n",
       "      <td>6.61</td>\n",
       "      <td>21544.352688</td>\n",
       "      <td>58447.433467</td>\n",
       "      <td>3.986728e+07</td>\n",
       "      <td>96.062002</td>\n",
       "      <td>29.340837</td>\n",
       "      <td>97.452059</td>\n",
       "      <td>76.601675</td>\n",
       "      <td>personal &amp; household good retail</td>\n",
       "    </tr>\n",
       "    <tr>\n",
       "      <th>6</th>\n",
       "      <td>7.0</td>\n",
       "      <td>64403598239</td>\n",
       "      <td>Lobortis Ultrices Company</td>\n",
       "      <td>music</td>\n",
       "      <td>a</td>\n",
       "      <td>6.31</td>\n",
       "      <td>22427.549126</td>\n",
       "      <td>77913.665936</td>\n",
       "      <td>3.527895e+07</td>\n",
       "      <td>100.000000</td>\n",
       "      <td>39.112961</td>\n",
       "      <td>86.236284</td>\n",
       "      <td>76.228402</td>\n",
       "      <td>personal &amp; household good retail</td>\n",
       "    </tr>\n",
       "    <tr>\n",
       "      <th>7</th>\n",
       "      <td>8.0</td>\n",
       "      <td>43186523025</td>\n",
       "      <td>Lorem Ipsum Sodales Industries</td>\n",
       "      <td>florists</td>\n",
       "      <td>b</td>\n",
       "      <td>4.47</td>\n",
       "      <td>21166.878850</td>\n",
       "      <td>138185.373344</td>\n",
       "      <td>2.754323e+07</td>\n",
       "      <td>94.378921</td>\n",
       "      <td>69.369591</td>\n",
       "      <td>67.326996</td>\n",
       "      <td>76.055352</td>\n",
       "      <td>personal &amp; household good retail</td>\n",
       "    </tr>\n",
       "    <tr>\n",
       "      <th>8</th>\n",
       "      <td>9.0</td>\n",
       "      <td>24852446429</td>\n",
       "      <td>Erat Vitae LLP</td>\n",
       "      <td>florists</td>\n",
       "      <td>c</td>\n",
       "      <td>2.94</td>\n",
       "      <td>18360.089252</td>\n",
       "      <td>199201.654640</td>\n",
       "      <td>1.945103e+07</td>\n",
       "      <td>81.864002</td>\n",
       "      <td>100.000000</td>\n",
       "      <td>47.546338</td>\n",
       "      <td>73.577736</td>\n",
       "      <td>personal &amp; household good retail</td>\n",
       "    </tr>\n",
       "    <tr>\n",
       "      <th>9</th>\n",
       "      <td>10.0</td>\n",
       "      <td>94493496784</td>\n",
       "      <td>Dictum Phasellus In Institute</td>\n",
       "      <td>gift</td>\n",
       "      <td>a</td>\n",
       "      <td>5.65</td>\n",
       "      <td>22215.379057</td>\n",
       "      <td>67344.125535</td>\n",
       "      <td>3.361370e+07</td>\n",
       "      <td>99.053976</td>\n",
       "      <td>33.807011</td>\n",
       "      <td>82.165735</td>\n",
       "      <td>72.724590</td>\n",
       "      <td>personal &amp; household good retail</td>\n",
       "    </tr>\n",
       "  </tbody>\n",
       "</table>\n",
       "</div>"
      ],
      "text/plain": [
       "   rank  merchant_abn                            name      tags revenue_level  \\\n",
       "0   1.0   86578477987               Leo In Consulting     watch             a   \n",
       "1   2.0   45629217853                Lacus Consulting      gift             a   \n",
       "2   3.0   89726005175             Est Nunc Consulting      tent             a   \n",
       "3   4.0   49891706470       Non Vestibulum Industries      tent             a   \n",
       "4   5.0   21439773999            Mauris Non Institute     cable             a   \n",
       "5   6.0   32361057556   Orci In Consequat Corporation      gift             a   \n",
       "6   7.0   64403598239       Lobortis Ultrices Company     music             a   \n",
       "7   8.0   43186523025  Lorem Ipsum Sodales Industries  florists             b   \n",
       "8   9.0   24852446429                  Erat Vitae LLP  florists             c   \n",
       "9  10.0   94493496784   Dictum Phasellus In Institute      gift             a   \n",
       "\n",
       "   take_rate  pred_total_num_consumer  pred_total_num_transaction  \\\n",
       "0       6.43             18356.113566               186946.749066   \n",
       "1       6.98             20191.435558               152028.388588   \n",
       "2       6.01             20434.182107               148236.132238   \n",
       "3       5.80             19570.482775               169802.295225   \n",
       "4       6.10             22388.332445                81951.886245   \n",
       "5       6.61             21544.352688                58447.433467   \n",
       "6       6.31             22427.549126                77913.665936   \n",
       "7       4.47             21166.878850               138185.373344   \n",
       "8       2.94             18360.089252               199201.654640   \n",
       "9       5.65             22215.379057                67344.125535   \n",
       "\n",
       "   pred_total_revenue  scaled_pred_total_num_consumer  \\\n",
       "0        3.992515e+07                       81.846275   \n",
       "1        3.819332e+07                       90.029612   \n",
       "2        3.587346e+07                       91.111971   \n",
       "3        3.046344e+07                       87.260907   \n",
       "4        3.705975e+07                       99.825141   \n",
       "5        3.986728e+07                       96.062002   \n",
       "6        3.527895e+07                      100.000000   \n",
       "7        2.754323e+07                       94.378921   \n",
       "8        1.945103e+07                       81.864002   \n",
       "9        3.361370e+07                       99.053976   \n",
       "\n",
       "   scaled_pred_total_num_transaction  scaled_pred_total_revenue      score  \\\n",
       "0                          93.847990                  97.593499  91.745679   \n",
       "1                          76.318838                  93.360191  87.248612   \n",
       "2                          74.415111                  87.689512  84.733930   \n",
       "3                          85.241408                  74.465184  81.536768   \n",
       "4                          41.140163                  90.589293  78.525308   \n",
       "5                          29.340837                  97.452059  76.601675   \n",
       "6                          39.112961                  86.236284  76.228402   \n",
       "7                          69.369591                  67.326996  76.055352   \n",
       "8                         100.000000                  47.546338  73.577736   \n",
       "9                          33.807011                  82.165735  72.724590   \n",
       "\n",
       "                            segment  \n",
       "0  personal & household good retail  \n",
       "1  personal & household good retail  \n",
       "2       recreational good retailing  \n",
       "3       recreational good retailing  \n",
       "4     technical & machinery service  \n",
       "5  personal & household good retail  \n",
       "6  personal & household good retail  \n",
       "7  personal & household good retail  \n",
       "8  personal & household good retail  \n",
       "9  personal & household good retail  "
      ]
     },
     "execution_count": 2,
     "metadata": {},
     "output_type": "execute_result"
    }
   ],
   "source": [
    "top100 = pd.read_csv(\"../data/curated/top100.csv\")\n",
    "top100.head(10)"
   ]
  },
  {
   "cell_type": "markdown",
   "metadata": {},
   "source": [
    "## Insights & Recommendation"
   ]
  },
  {
   "cell_type": "markdown",
   "metadata": {},
   "source": [
    "<img src=\"../plots/Tag and Segments Distribution in TOP100.png\" width=\"800\"/>"
   ]
  },
  {
   "cell_type": "markdown",
   "metadata": {},
   "source": [
    "**Insight (1):**  \n",
    "Within the Top 100 merchants, the segment of **Personal and Household retail** is the largest at 43%. Possible reasons of this observation could be:\n",
    "- It covers the most individual tags and merchants. \n",
    "- For individual consumers, the purchase of personal and household goods are always more frequent and sustainable in the long-term.\n",
    "\n",
    "Therefore these merchants are more likely to run a risk-less business as the demand is always large. \n",
    "\n",
    "For the individual tags, the top two that take up the most weights are **‘tent’** and **‘computer’**, 14 and 12 out of 100 respectively. This may be because tent merchants often have high customer volume and flow while computer merchants are related to greater transaction values.\n",
    "\n",
    "<br>\n",
    "\n",
    "**Recommendation (1):**  \n",
    "We recommend the BNPL company to investment in the Personal & Household retailers to receive risk-less benefits. Also, this final ranking could be considered as an insight into and assessment of whether a particular business behaviour is likely to lead to large revenues and benefits and in turn, future business opportunities. "
   ]
  },
  {
   "cell_type": "markdown",
   "metadata": {},
   "source": [
    "<img src=\"../plots/Average Total Revenue of Merchants for Each Segment.png\" width=\"500\"/>"
   ]
  },
  {
   "cell_type": "markdown",
   "metadata": {},
   "source": [
    "**Insight (2):**  \n",
    "By comparing the average total revenue of Top 100 merchants with that of all other merchants, BNPL company’s profits can be more than **10 times higher** if they focus their resources on cooperating with the top merchants. Consequently, it shows that our final result is reliable in detecting what merchants are more likely to bring high return in each segment. \n",
    "\n",
    "**Recommendation (2):**  \n",
    "We strongly recommend the company to construct a similar system which consists of both predictions of merchants’ future business prospects and a ranking system based on that. This allows the company to pool all resources to maximize benefits. "
   ]
  },
  {
   "cell_type": "markdown",
   "metadata": {},
   "source": [
    "**Recommendation (3):**  \n",
    "Based on our previous geospatial analysis, we recommend the company to focus on merchants and businesses in Perth, NSW, VIC as these regions relate to the highest income and number of consumers."
   ]
  },
  {
   "cell_type": "markdown",
   "metadata": {},
   "source": [
    "## Reflection\n",
    "Some difficulties we ran into: \n",
    "- **Limited computing resources and time constraint:** Due to millions of transaction data, we spent more time building and running our code\n",
    "\n",
    "- **Limited data:** We only managed to get less than two years of data, which may present a year's pattern, but we cannot see it in the long term.\n",
    "\n",
    "If we could address these issues, we could have build better models and receive more accurate results."
   ]
  }
 ],
 "metadata": {
  "kernelspec": {
   "display_name": "Python 3.8.8",
   "language": "python",
   "name": "python3"
  },
  "language_info": {
   "codemirror_mode": {
    "name": "ipython",
    "version": 3
   },
   "file_extension": ".py",
   "mimetype": "text/x-python",
   "name": "python",
   "nbconvert_exporter": "python",
   "pygments_lexer": "ipython3",
   "version": "3.8.8"
  },
  "orig_nbformat": 4,
  "vscode": {
   "interpreter": {
    "hash": "703e593df40508a60fa363339ca2bbb5bae045b0a530fb0e89bc3e7c255f1da9"
   }
  }
 },
 "nbformat": 4,
 "nbformat_minor": 2
}
