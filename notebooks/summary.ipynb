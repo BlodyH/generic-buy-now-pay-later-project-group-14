{
 "cells": [
  {
   "cell_type": "markdown",
   "metadata": {},
   "source": [
    "# Buy Now, Pay Later Project\n",
    "\n",
    "The Buy Now, Pay Later (BNPL) Firm has begun offering a new “Pay in 5 Installments” feature and is going to onboard 100 merchants every year. This project focuses on these tasks:\n",
    "\n",
    "\n",
    "- Overview of consumer and transaction data\n",
    "- Analysis to find the 100 best merchants\n",
    "- Recommendations for BNPL\n",
    "\n",
    "_________________"
   ]
  },
  {
   "cell_type": "markdown",
   "metadata": {},
   "source": [
    "## Dataset Overview\n",
    "The dataset provided for this project includes:\n",
    "- Transaction Dataset\n",
    "- Consumer Dataset\n",
    "- Merchant Dataset\n",
    "\n",
    "External Dataset employed to provide more insights into the consumer analysis:\n",
    "- [Australian postcode](https://www.matthewproctor.com/australian_postcodes)\n",
    "- Income by SA2 Districts（ABS）\n",
    "- SA2 shapefile (ABS)\n",
    "\n",
    "### Provided Dataset"
   ]
  },
  {
   "cell_type": "code",
   "execution_count": 1,
   "metadata": {},
   "outputs": [],
   "source": [
    "from pyspark.sql import SparkSession\n",
    "from pyspark.sql import functions as F\n",
    "import pandas as pd\n",
    "import statsmodels.api as sm\n",
    "from statsmodels.formula.api import ols\n",
    "\n",
    "# Create a spark session (which will run spark jobs)\n",
    "spark = (\n",
    "    SparkSession.builder.appName(\"ADS project 2\")\n",
    "    .config(\"spark.sql.repl.eagerEval.enabled\", True) \n",
    "    .config(\"spark.sql.parquet.cacheMetadata\", \"true\")\n",
    "    .config(\"spark.sql.session.timeZone\", \"Etc/UTC\")\n",
    "    .getOrCreate()\n",
    ")"
   ]
  },
  {
   "cell_type": "code",
   "execution_count": 2,
   "metadata": {},
   "outputs": [
    {
     "name": "stdout",
     "output_type": "stream",
     "text": [
      "Transaction dataset includes 14195505 transaction records.\n",
      "Features included are: \n",
      "root\n",
      " |-- user_id: long (nullable = true)\n",
      " |-- merchant_abn: long (nullable = true)\n",
      " |-- dollar_value: double (nullable = true)\n",
      " |-- order_id: string (nullable = true)\n",
      "\n"
     ]
    }
   ],
   "source": [
    "transaction_sdf = spark.read.parquet('../data/tables/transactions_*/*')\n",
    "print(f\"Transaction dataset includes {transaction_sdf.count()} transaction records.\")\n",
    "print(\"Features included are: \")\n",
    "transaction_sdf.printSchema()"
   ]
  },
  {
   "cell_type": "code",
   "execution_count": 3,
   "metadata": {},
   "outputs": [
    {
     "name": "stdout",
     "output_type": "stream",
     "text": [
      "Consumer dataset includes 499999 consumer records.\n",
      "Features included are: \n",
      "root\n",
      " |-- name: string (nullable = true)\n",
      " |-- address: string (nullable = true)\n",
      " |-- state: string (nullable = true)\n",
      " |-- postcode: integer (nullable = true)\n",
      " |-- gender: string (nullable = true)\n",
      " |-- consumer_id: integer (nullable = true)\n",
      "\n"
     ]
    }
   ],
   "source": [
    "consumer_sdf = spark.read.option(\"delimiter\", \"|\").csv('../data/tables/tbl_consumer.csv', inferSchema =True, header=True)\n",
    "print(f\"Consumer dataset includes {consumer_sdf.count()} consumer records.\")\n",
    "print(\"Features included are: \")\n",
    "consumer_sdf.printSchema()"
   ]
  },
  {
   "cell_type": "code",
   "execution_count": 4,
   "metadata": {},
   "outputs": [
    {
     "name": "stdout",
     "output_type": "stream",
     "text": [
      "Merchant dataset includes 4026 merchant records.\n",
      "Features included are: \n",
      "root\n",
      " |-- merchant_abn: long (nullable = true)\n",
      " |-- name: string (nullable = true)\n",
      " |-- tags: string (nullable = true)\n",
      " |-- revenue_level: string (nullable = true)\n",
      " |-- take_rate: double (nullable = true)\n",
      "\n"
     ]
    }
   ],
   "source": [
    "merchant_sdf = spark.read.csv(\"../data/curated/merchant.csv\", inferSchema =True, header=True)\n",
    "print(f\"Merchant dataset includes {merchant_sdf.count()} merchant records.\")\n",
    "print(\"Features included are: \")\n",
    "merchant_sdf.printSchema()"
   ]
  },
  {
   "cell_type": "markdown",
   "metadata": {},
   "source": [
    "### External Datasets Overview\n",
    "\n",
    "1. **Australian Postcode**  \n",
    "Used to convert postcode of each region to their SA2 code for furture geospatial plotting\n",
    "\n",
    "2. **Income by SA2 Districts**  \n",
    "Used to analyse the purchase power of consumers from different regions which may correlate with final assessment of the merchants"
   ]
  },
  {
   "cell_type": "code",
   "execution_count": 5,
   "metadata": {},
   "outputs": [
    {
     "name": "stdout",
     "output_type": "stream",
     "text": [
      "Features included are: \n",
      "root\n",
      " |-- postcode: integer (nullable = true)\n",
      " |-- SA2_code: integer (nullable = true)\n",
      "\n"
     ]
    }
   ],
   "source": [
    "postcode_SA2_sdf = spark.read.csv(\"../data/curated/processed_postcode.csv\", inferSchema =True, header=True)\n",
    "print(\"Features included are: \")\n",
    "postcode_SA2_sdf.printSchema()"
   ]
  },
  {
   "cell_type": "code",
   "execution_count": 6,
   "metadata": {},
   "outputs": [
    {
     "name": "stdout",
     "output_type": "stream",
     "text": [
      "Features included are: \n",
      "root\n",
      " |-- SA2_code: string (nullable = true)\n",
      " |-- mean_total_income: integer (nullable = true)\n",
      "\n"
     ]
    }
   ],
   "source": [
    "income_sdf = spark.read.csv(\"../data/curated/processed_income.csv\", inferSchema =True, header=True)\n",
    "print(\"Features included are: \")\n",
    "income_sdf.printSchema()\n"
   ]
  },
  {
   "cell_type": "markdown",
   "metadata": {},
   "source": [
    "## Visualisation\n",
    "We inspect the relationship between each of the three features with respect to the location:\n",
    "- Mean total income\n",
    "- Number of Consumers\n",
    "- Number of Transactions\n",
    "\n",
    "**Mean Total Income Map**:  \n",
    "The only three areas colored red in all of Australia are near Perth meaning that consumers here have relatively higher mean total income compared to the rest of Australia. Therefore, these areas may be more profitable for the BNPL company to target."
   ]
  },
  {
   "cell_type": "markdown",
   "metadata": {},
   "source": [
    "<img src=\"../plots/mean_total_income.png\" width=\"400\"/> \n",
    "<img src=\"../plots/mean_income_perth.png\" width=\"400\"/>\n"
   ]
  },
  {
   "cell_type": "markdown",
   "metadata": {},
   "source": [
    "**Number of Consumer vs SA2 Map:**  \n",
    "WA and SA have relatively more consumers than other state.\n",
    "\n",
    "**Number of Transaction Map:**  \n",
    "similar as number of consumer map which can be explained by the correlative between number of consumer and number of transaction (more consumers refer to more possible purchasing -> more transactions)."
   ]
  },
  {
   "cell_type": "markdown",
   "metadata": {},
   "source": [
    "<img src=\"../plots/num%20consumers.png\" width=\"400\"/>\n",
    "<img src=\"../plots/num%20transactions.png\" width=\"400\"/>"
   ]
  },
  {
   "cell_type": "markdown",
   "metadata": {},
   "source": [
    "**Number of Transaction Per Day:**  \n",
    "The volume of transactions during Christmas and the Summer Holidays is higher compared to the rest of the year. Also, the yearly volume of transactions follows a similar trend. For example, the trends from March to November in each year are similar. Our model will make an assumption based on these trends, which will be explained later."
   ]
  },
  {
   "cell_type": "markdown",
   "metadata": {},
   "source": [
    "<img src=\"../plots/Number of Transactions Each Day.png\" width=\"800\"/> \n"
   ]
  },
  {
   "cell_type": "markdown",
   "metadata": {},
   "source": [
    "**Number of Consumers in Each State:**  \n",
    "NSW and Victoria have the most consumers. Hence, the company may earn more profits in these two states."
   ]
  },
  {
   "cell_type": "markdown",
   "metadata": {},
   "source": [
    "<img src=\"../plots/consumer distribution.png\" width=\"600\"/> "
   ]
  },
  {
   "cell_type": "markdown",
   "metadata": {},
   "source": [
    "## Assumptions\n",
    "1. Transactions follow similar pattern each year\n",
    "\n",
    "2. Transactions other than the days listed in the delta files for both customer and merchant have 1% fraud rate\n",
    "\n",
    "## Limitations\n",
    "1. Limited transaction data (from 2021-02-28 to 2022-10-26)\n",
    "\n",
    "2. Missing values: 2 postcodes out of 3167 postcodes do not have a corresponding SA2 code\n"
   ]
  },
  {
   "cell_type": "markdown",
   "metadata": {},
   "source": [
    "## Fraud Detection Model\n",
    "A 5% fraud probability benchmark was set to label a transaction as fraud or not. The two given delta files (covers transactions from 2021-02 to 2022-02) were used to train a logistic model to classify whether other transactions are fraud. Then all fraud transactions were removed from the full dataset before proceeding to build the ranking system."
   ]
  },
  {
   "cell_type": "markdown",
   "metadata": {},
   "source": [
    "## Ranking System\n",
    "To select the best merchants to cooperate, we first summarise each merchant’s data into several features, including \n",
    "1. Total number of consumers\n",
    "2. Average transaction dollar value\n",
    "3. Total number of transactions\n",
    "4. Mean income of consumers\n",
    "5. Revenue level\n",
    "6. BNPL revenue = take rate * total transaction\n",
    "7. Number of distinct postcode\n",
    "8. Tag\n",
    "\n",
    "We then use merchants’ historical data to predict their future business prospects,\n",
    "1. Total number of consumers\n",
    "2. BNPL revenue\n",
    "3. Total number of transactions"
   ]
  },
  {
   "cell_type": "markdown",
   "metadata": {},
   "source": [
    "### Feature Selection\n",
    "- Categorical variables: tag, revenue level  \n",
    "use anova test to examine the significance of these variables in predicting each target variable\n",
    "\n",
    "- Continuous variables  \n",
    "calculate the pearson correlation of each pair of continuous variables"
   ]
  },
  {
   "cell_type": "code",
   "execution_count": 7,
   "metadata": {},
   "outputs": [
    {
     "data": {
      "text/html": [
       "<div>\n",
       "<style scoped>\n",
       "    .dataframe tbody tr th:only-of-type {\n",
       "        vertical-align: middle;\n",
       "    }\n",
       "\n",
       "    .dataframe tbody tr th {\n",
       "        vertical-align: top;\n",
       "    }\n",
       "\n",
       "    .dataframe thead th {\n",
       "        text-align: right;\n",
       "    }\n",
       "</style>\n",
       "<table border=\"1\" class=\"dataframe\">\n",
       "  <thead>\n",
       "    <tr style=\"text-align: right;\">\n",
       "      <th></th>\n",
       "      <th>sum_sq</th>\n",
       "      <th>df</th>\n",
       "      <th>F</th>\n",
       "      <th>PR(&gt;F)</th>\n",
       "    </tr>\n",
       "  </thead>\n",
       "  <tbody>\n",
       "    <tr>\n",
       "      <th>C(tag)</th>\n",
       "      <td>1.053317e+09</td>\n",
       "      <td>23.0</td>\n",
       "      <td>10.807923</td>\n",
       "      <td>2.577792e-38</td>\n",
       "    </tr>\n",
       "    <tr>\n",
       "      <th>C(revenue_level)</th>\n",
       "      <td>1.469519e+07</td>\n",
       "      <td>4.0</td>\n",
       "      <td>0.867015</td>\n",
       "      <td>4.828556e-01</td>\n",
       "    </tr>\n",
       "    <tr>\n",
       "      <th>Residual</th>\n",
       "      <td>1.587715e+10</td>\n",
       "      <td>3747.0</td>\n",
       "      <td>NaN</td>\n",
       "      <td>NaN</td>\n",
       "    </tr>\n",
       "  </tbody>\n",
       "</table>\n",
       "</div>"
      ],
      "text/plain": [
       "                        sum_sq      df          F        PR(>F)\n",
       "C(tag)            1.053317e+09    23.0  10.807923  2.577792e-38\n",
       "C(revenue_level)  1.469519e+07     4.0   0.867015  4.828556e-01\n",
       "Residual          1.587715e+10  3747.0        NaN           NaN"
      ]
     },
     "execution_count": 7,
     "metadata": {},
     "output_type": "execute_result"
    }
   ],
   "source": [
    "train_df = pd.read_parquet('../data/curated/train_data/')\n",
    "model = ols('y_total_num_consumer ~ C(tag) + C(revenue_level)', data=train_df).fit()\n",
    "anova_table = sm.stats.anova_lm(model, typ=2)\n",
    "anova_table"
   ]
  },
  {
   "cell_type": "code",
   "execution_count": 8,
   "metadata": {},
   "outputs": [
    {
     "data": {
      "text/html": [
       "<div>\n",
       "<style scoped>\n",
       "    .dataframe tbody tr th:only-of-type {\n",
       "        vertical-align: middle;\n",
       "    }\n",
       "\n",
       "    .dataframe tbody tr th {\n",
       "        vertical-align: top;\n",
       "    }\n",
       "\n",
       "    .dataframe thead th {\n",
       "        text-align: right;\n",
       "    }\n",
       "</style>\n",
       "<table border=\"1\" class=\"dataframe\">\n",
       "  <thead>\n",
       "    <tr style=\"text-align: right;\">\n",
       "      <th></th>\n",
       "      <th>sum_sq</th>\n",
       "      <th>df</th>\n",
       "      <th>F</th>\n",
       "      <th>PR(&gt;F)</th>\n",
       "    </tr>\n",
       "  </thead>\n",
       "  <tbody>\n",
       "    <tr>\n",
       "      <th>C(tag)</th>\n",
       "      <td>1.346792e+14</td>\n",
       "      <td>23.0</td>\n",
       "      <td>2.352075</td>\n",
       "      <td>2.797096e-04</td>\n",
       "    </tr>\n",
       "    <tr>\n",
       "      <th>C(revenue_level)</th>\n",
       "      <td>2.175894e+14</td>\n",
       "      <td>4.0</td>\n",
       "      <td>21.850229</td>\n",
       "      <td>7.579153e-18</td>\n",
       "    </tr>\n",
       "    <tr>\n",
       "      <th>Residual</th>\n",
       "      <td>9.328363e+15</td>\n",
       "      <td>3747.0</td>\n",
       "      <td>NaN</td>\n",
       "      <td>NaN</td>\n",
       "    </tr>\n",
       "  </tbody>\n",
       "</table>\n",
       "</div>"
      ],
      "text/plain": [
       "                        sum_sq      df          F        PR(>F)\n",
       "C(tag)            1.346792e+14    23.0   2.352075  2.797096e-04\n",
       "C(revenue_level)  2.175894e+14     4.0  21.850229  7.579153e-18\n",
       "Residual          9.328363e+15  3747.0        NaN           NaN"
      ]
     },
     "execution_count": 8,
     "metadata": {},
     "output_type": "execute_result"
    }
   ],
   "source": [
    "model = ols('y_total_revenue ~ C(tag) + C(revenue_level)', data=train_df).fit()\n",
    "anova_table = sm.stats.anova_lm(model, typ=2)\n",
    "anova_table"
   ]
  },
  {
   "cell_type": "code",
   "execution_count": 9,
   "metadata": {},
   "outputs": [
    {
     "data": {
      "text/html": [
       "<div>\n",
       "<style scoped>\n",
       "    .dataframe tbody tr th:only-of-type {\n",
       "        vertical-align: middle;\n",
       "    }\n",
       "\n",
       "    .dataframe tbody tr th {\n",
       "        vertical-align: top;\n",
       "    }\n",
       "\n",
       "    .dataframe thead th {\n",
       "        text-align: right;\n",
       "    }\n",
       "</style>\n",
       "<table border=\"1\" class=\"dataframe\">\n",
       "  <thead>\n",
       "    <tr style=\"text-align: right;\">\n",
       "      <th></th>\n",
       "      <th>sum_sq</th>\n",
       "      <th>df</th>\n",
       "      <th>F</th>\n",
       "      <th>PR(&gt;F)</th>\n",
       "    </tr>\n",
       "  </thead>\n",
       "  <tbody>\n",
       "    <tr>\n",
       "      <th>C(tag)</th>\n",
       "      <td>2.395748e+09</td>\n",
       "      <td>23.0</td>\n",
       "      <td>5.381250</td>\n",
       "      <td>1.734586e-15</td>\n",
       "    </tr>\n",
       "    <tr>\n",
       "      <th>C(revenue_level)</th>\n",
       "      <td>7.439283e+07</td>\n",
       "      <td>4.0</td>\n",
       "      <td>0.960818</td>\n",
       "      <td>4.277650e-01</td>\n",
       "    </tr>\n",
       "    <tr>\n",
       "      <th>Residual</th>\n",
       "      <td>7.252935e+10</td>\n",
       "      <td>3747.0</td>\n",
       "      <td>NaN</td>\n",
       "      <td>NaN</td>\n",
       "    </tr>\n",
       "  </tbody>\n",
       "</table>\n",
       "</div>"
      ],
      "text/plain": [
       "                        sum_sq      df         F        PR(>F)\n",
       "C(tag)            2.395748e+09    23.0  5.381250  1.734586e-15\n",
       "C(revenue_level)  7.439283e+07     4.0  0.960818  4.277650e-01\n",
       "Residual          7.252935e+10  3747.0       NaN           NaN"
      ]
     },
     "execution_count": 9,
     "metadata": {},
     "output_type": "execute_result"
    }
   ],
   "source": [
    "model = ols('y_total_num_transaction ~ C(tag) + C(revenue_level)', data=train_df).fit()\n",
    "anova_table = sm.stats.anova_lm(model, typ=2)\n",
    "anova_table"
   ]
  },
  {
   "cell_type": "markdown",
   "metadata": {},
   "source": [
    "**Observation**:  \n",
    "\"tag\" is significant in all models, whereas \"revenue level\" is not a significant feature in predicting total number of consumers and transactions."
   ]
  },
  {
   "cell_type": "markdown",
   "metadata": {},
   "source": [
    "<img src=\"../plots/Pearson Correlation Metric.png\" width=\"600\"/>"
   ]
  },
  {
   "cell_type": "markdown",
   "metadata": {},
   "source": [
    "**Observation**:  \n",
    "\"Mean income\" and \"avergate dollar value\" have little correlation with target variables. Therefore, they can be excluded in models."
   ]
  },
  {
   "cell_type": "markdown",
   "metadata": {},
   "source": [
    "### Ranking Criteria\n",
    "After summarizing each merchant's data, we fit a machine learning model on each of the target variable:\n",
    "- BNPL revenue: Multi-layer Perceptron\n",
    "\n",
    "- Number of consumers: Linear Regression\n",
    "\n",
    "- Number of transactions: Linear Regression\n",
    "\n",
    "<br>\n",
    "The ranking system utilises predicted number of consumers and transactions as well as revenue that the company could gain from the merchant next year. We also give each merchant a score within 0-100. The ranking score is calculated as follows:\n",
    "\n",
    "1. Standardise each attribute using min-max normalization \n",
    "\n",
    "2. Total number of consumers * 30%\n",
    "\n",
    "3. BNPL revenue * 40%\n",
    "\n",
    "4. Total number of transactions * 30%\n",
    "\n",
    "As we take the revenue that BNPL firm could earn as the highest priority, this feature is assigned the largest weight.\n",
    "Number of consumers and transaction volume are included since they are considered to be positively related with a merchant’s stability and long-term revenue.\n"
   ]
  },
  {
   "cell_type": "markdown",
   "metadata": {},
   "source": [
    "### Split Merchants into 4 Segments\n",
    "Based on [Merchant Cateogry Groups by ANZ](https://www.anz.com/Documents/Business/CommercialCard/Merchant_cateogry_codes_control.pdf), we devide all merchant into 4 categories.\n",
    "\n",
    "1. Health service: health, optician\n",
    "\n",
    "2. Recreational good retailing: bicycle, books, stationary, hobby, tent, digital goods, \n",
    "\n",
    "3. Personal & household good retail: antique, watch, jewellery, music, artist supply, gift, art dealer, florists, furniture, shoe, garden supply, \n",
    "\n",
    "4. Technical & machinery service: cable, telecom, computer, equipment, motor"
   ]
  },
  {
   "cell_type": "markdown",
   "metadata": {},
   "source": [
    "### Result \n",
    "The top 100 merchants overall and top 10 merchants in each segment are displayed on the [website](https://rank-merchant.herokuapp.com/v1/top100). \n",
    "\n",
    "For each merchant on the website, we display their predicted business features in the future. For top 10 merchants in each segment, if you click into a certain merchant, you can see the trend of revenue, number of consumers and transactions data we took from them over the past. "
   ]
  },
  {
   "cell_type": "markdown",
   "metadata": {},
   "source": [
    "## Insights & Recommendation"
   ]
  },
  {
   "cell_type": "markdown",
   "metadata": {},
   "source": [
    "<img src=\"../plots/Tag and Segments Distribution in TOP100.png\" width=\"800\"/>"
   ]
  },
  {
   "cell_type": "markdown",
   "metadata": {},
   "source": [
    "**Insight (1):**  \n",
    "Within the Top 100 merchants, the segment of **Personal and Household retail** is the largest at 43%. Possible reasons of this observation could be:\n",
    "- It covers the most individual tags and merchants. \n",
    "- For individual consumers, the purchase of personal and household goods are always more frequent and sustainable in the long-term.\n",
    "\n",
    "Therefore these merchants are more likely to run a risk-less business as the demand is always large. \n",
    "\n",
    "For the individual tags, the top two that take up the most weights are **‘tent’** and **‘computer’**, 14 and 12 out of 100 respectively. This may be because tent merchants often have high customer volume and flow while computer merchants are related to greater transaction values.\n",
    "\n",
    "<br>\n",
    "\n",
    "**Recommendation (1):**  \n",
    "We recommend the BNPL company to investment in the Personal & Household retailers to receive risk-less benefits. Also, this final ranking could be considered as an insight into and assessment of whether a particular business behaviour is likely to lead to large revenues and benefits and in turn, future business opportunities. "
   ]
  },
  {
   "cell_type": "markdown",
   "metadata": {},
   "source": [
    "<img src=\"../plots/Average Total Revenue of Merchants for Each Segment.png\" width=\"500\"/>"
   ]
  },
  {
   "cell_type": "markdown",
   "metadata": {},
   "source": [
    "**Insight (2):**  \n",
    "By comparing the average total revenue of Top 100 merchants with that of all other merchants, BNPL company’s profits can be more than **10 times higher** if they focus their resources on cooperating with the top merchants. Consequently, it shows that our final result is reliable in detecting what merchants are more likely to bring high return in each segment. \n",
    "\n",
    "**Recommendation (2):**  \n",
    "We strongly recommend the company to construct a similar system which consists of both predictions of merchants’ future business prospects and a ranking system based on that. This allows the company to pool all resources to maximize benefits. "
   ]
  },
  {
   "cell_type": "markdown",
   "metadata": {},
   "source": [
    "**Recommendation (3):**  \n",
    "Based on our previous geospatial analysis, we recommend the company to focus on merchants and businesses in Perth, NSW, VIC as these regions relate to the highest income and number of consumers."
   ]
  },
  {
   "cell_type": "markdown",
   "metadata": {},
   "source": [
    "## Reflection\n",
    "Some difficulties we ran into: \n",
    "- **Limited computing resources and time constraint:** Due to millions of transaction data, we spent more time building and running our code\n",
    "\n",
    "- **Limited data:** We only managed to get less than two years of data, which may present a year's pattern, but we cannot see it in the long term.\n",
    "\n",
    "If we could address these issues, we could have build better models and receive more accurate results."
   ]
  }
 ],
 "metadata": {
  "kernelspec": {
   "display_name": "Python 3.8.8",
   "language": "python",
   "name": "python3"
  },
  "language_info": {
   "codemirror_mode": {
    "name": "ipython",
    "version": 3
   },
   "file_extension": ".py",
   "mimetype": "text/x-python",
   "name": "python",
   "nbconvert_exporter": "python",
   "pygments_lexer": "ipython3",
   "version": "3.8.8"
  },
  "orig_nbformat": 4,
  "vscode": {
   "interpreter": {
    "hash": "703e593df40508a60fa363339ca2bbb5bae045b0a530fb0e89bc3e7c255f1da9"
   }
  }
 },
 "nbformat": 4,
 "nbformat_minor": 2
}
