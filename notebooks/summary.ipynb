{
 "cells": [
  {
   "cell_type": "code",
   "execution_count": 1,
   "metadata": {},
   "outputs": [],
   "source": [
    "from pyspark.sql import SparkSession\n",
    "from pyspark.sql import functions as F\n",
    "import pandas as pd"
   ]
  },
  {
   "cell_type": "code",
   "execution_count": 2,
   "metadata": {},
   "outputs": [
    {
     "name": "stderr",
     "output_type": "stream",
     "text": [
      "22/09/18 16:43:38 WARN NativeCodeLoader: Unable to load native-hadoop library for your platform... using builtin-java classes where applicable\n",
      "Using Spark's default log4j profile: org/apache/spark/log4j-defaults.properties\n",
      "Setting default log level to \"WARN\".\n",
      "To adjust logging level use sc.setLogLevel(newLevel). For SparkR, use setLogLevel(newLevel).\n",
      "22/09/18 16:43:39 WARN Utils: Service 'SparkUI' could not bind on port 4040. Attempting port 4041.\n"
     ]
    }
   ],
   "source": [
    "# Create a spark session (which will run spark jobs)\n",
    "spark = (\n",
    "    SparkSession.builder.appName(\"MAST30034 Project 2\")\n",
    "    .config(\"spark.sql.repl.eagerEval.enabled\", True) \n",
    "    .config(\"spark.sql.parquet.cacheMetadata\", \"true\")\n",
    "    .config(\"spark.sql.session.timeZone\", \"Etc/UTC\")\n",
    "    .config(\"spark.driver.memory\", \"2g\")\n",
    "    .config(\"spark.executer.memory\", \"4g\")\n",
    "    .getOrCreate()\n",
    ")"
   ]
  },
  {
   "cell_type": "code",
   "execution_count": 3,
   "metadata": {},
   "outputs": [
    {
     "name": "stderr",
     "output_type": "stream",
     "text": [
      "                                                                                \r"
     ]
    },
    {
     "data": {
      "text/plain": [
       "7817737"
      ]
     },
     "execution_count": 3,
     "metadata": {},
     "output_type": "execute_result"
    }
   ],
   "source": [
    "sdf = spark.read.parquet(\"../data/curated/full_data/\")\n",
    "sdf.count()"
   ]
  },
  {
   "cell_type": "code",
   "execution_count": 4,
   "metadata": {},
   "outputs": [
    {
     "name": "stdout",
     "output_type": "stream",
     "text": [
      "root\n",
      " |-- user_id: long (nullable = true)\n",
      " |-- SA2_code: integer (nullable = true)\n",
      " |-- postcode: integer (nullable = true)\n",
      " |-- consumer_id: integer (nullable = true)\n",
      " |-- state: string (nullable = true)\n",
      " |-- gender: string (nullable = true)\n",
      " |-- mean_total_income: integer (nullable = true)\n",
      " |-- merchant_abn: long (nullable = true)\n",
      " |-- dollar_value: double (nullable = true)\n",
      " |-- order_id: string (nullable = true)\n",
      " |-- name: string (nullable = true)\n",
      " |-- tags: string (nullable = true)\n",
      " |-- revenue_level: string (nullable = true)\n",
      " |-- take_rate: double (nullable = true)\n",
      "\n"
     ]
    }
   ],
   "source": [
    "sdf.printSchema()"
   ]
  },
  {
   "cell_type": "code",
   "execution_count": 5,
   "metadata": {},
   "outputs": [
    {
     "name": "stdout",
     "output_type": "stream",
     "text": [
      "-RECORD 0-------------------------------------------------\n",
      " user_id           | 183                                  \n",
      " SA2_code          | 210051245                            \n",
      " postcode          | 3043                                 \n",
      " consumer_id       | 133032                               \n",
      " state             | VIC                                  \n",
      " gender            | Female                               \n",
      " mean_total_income | 58060                                \n",
      " merchant_abn      | 38700038932                          \n",
      " dollar_value      | 1115.1879869740476                   \n",
      " order_id          | d4432c96-0627-4034-8934-1f745277f6bc \n",
      " name              | Etiam Bibendum Industries            \n",
      " tags              | tent                                 \n",
      " revenue_level     | a                                    \n",
      " take_rate         | 6.31                                 \n",
      "only showing top 1 row\n",
      "\n"
     ]
    },
    {
     "name": "stderr",
     "output_type": "stream",
     "text": [
      "                                                                                \r"
     ]
    }
   ],
   "source": [
    "sdf.show(1, truncate=False, vertical=True)"
   ]
  },
  {
   "cell_type": "code",
   "execution_count": 6,
   "metadata": {},
   "outputs": [
    {
     "name": "stdout",
     "output_type": "stream",
     "text": [
      "Number of missiong values in user_id: 7\n",
      "Number of missiong values in SA2_code: 5208\n",
      "Number of missiong values in postcode: 7\n",
      "Number of missiong values in consumer_id: 7\n",
      "Number of missiong values in state: 7\n",
      "Number of missiong values in gender: 7\n",
      "Number of missiong values in mean_total_income: 7\n",
      "Number of missiong values in merchant_abn: 0\n",
      "Number of missiong values in dollar_value: 7\n",
      "Number of missiong values in order_id: 7\n",
      "Number of missiong values in name: 0\n",
      "Number of missiong values in tags: 0\n",
      "Number of missiong values in revenue_level: 0\n",
      "Number of missiong values in take_rate: 0\n"
     ]
    }
   ],
   "source": [
    "for col in sdf.columns:\n",
    "    print(f\"Number of missiong values in {col}:\", sdf.filter(F.col(col).isNull()).count())"
   ]
  },
  {
   "cell_type": "code",
   "execution_count": 7,
   "metadata": {},
   "outputs": [
    {
     "data": {
      "text/html": [
       "<table border='1'>\n",
       "<tr><th>postcode</th><th>count</th></tr>\n",
       "<tr><td>null</td><td>7</td></tr>\n",
       "<tr><td>6958</td><td>3242</td></tr>\n",
       "<tr><td>3989</td><td>1959</td></tr>\n",
       "</table>\n"
      ],
      "text/plain": [
       "+--------+-----+\n",
       "|postcode|count|\n",
       "+--------+-----+\n",
       "|    null|    7|\n",
       "|    6958| 3242|\n",
       "|    3989| 1959|\n",
       "+--------+-----+"
      ]
     },
     "execution_count": 7,
     "metadata": {},
     "output_type": "execute_result"
    }
   ],
   "source": [
    "missing = sdf.filter(F.col(\"SA2_code\").isNull()).groupBy(\"postcode\").count()\n",
    "missing.count() # 2 postcodes does not have a corresponding SA2 code\n",
    "missing"
   ]
  },
  {
   "cell_type": "code",
   "execution_count": null,
   "metadata": {},
   "outputs": [],
   "source": [
    "#null and missing values\n",
    "'''\n",
    "consumer merge with total_income:\n",
    "  missing value: mean_total_income for some regions (44 rows with missing values)\n",
    "  => use mean_total_income of state to replace null (ETL.py line51)\n",
    "\n",
    "continue to merge with merchant and transaction:\n",
    "  postcode = 6958 and 3989 have missing SA2\n",
    "  number of rows affected: 5644, 3376\n",
    "  we checked this two place and they are very secluded, therefore we left their SA2s as missing\n",
    "\n",
    "\n",
    "'''\n"
   ]
  },
  {
   "cell_type": "code",
   "execution_count": null,
   "metadata": {},
   "outputs": [],
   "source": [
    "#outlier\n",
    "'''after joining everything as one dataframe, \n",
    "   we filtered rows with amount of transaction that are outside the quartile range(0.025---0.975) per tag'''\n",
    "\n",
    "\n"
   ]
  }
 ],
 "metadata": {
  "kernelspec": {
   "display_name": "Python 3.8.10 64-bit",
   "language": "python",
   "name": "python3"
  },
  "language_info": {
   "codemirror_mode": {
    "name": "ipython",
    "version": 3
   },
   "file_extension": ".py",
   "mimetype": "text/x-python",
   "name": "python",
   "nbconvert_exporter": "python",
   "pygments_lexer": "ipython3",
   "version": "3.8.10"
  },
  "orig_nbformat": 4,
  "vscode": {
   "interpreter": {
    "hash": "916dbcbb3f70747c44a77c7bcd40155683ae19c65e1c03b4aa3499c5328201f1"
   }
  }
 },
 "nbformat": 4,
 "nbformat_minor": 2
}
