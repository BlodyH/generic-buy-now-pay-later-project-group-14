{
 "cells": [
  {
   "cell_type": "code",
   "execution_count": 1,
   "metadata": {},
   "outputs": [],
   "source": [
    "from pyspark.sql import SparkSession\n",
    "from pyspark.sql import functions as F\n",
    "import pandas as pd"
   ]
  },
  {
   "cell_type": "code",
   "execution_count": 2,
   "metadata": {},
   "outputs": [
    {
     "name": "stderr",
     "output_type": "stream",
     "text": [
      "22/09/08 16:10:36 WARN Utils: Your hostname, Xiaotongs-MacBook-Pro.local resolves to a loopback address: 127.0.0.1; using 10.13.9.5 instead (on interface en0)\n",
      "22/09/08 16:10:36 WARN Utils: Set SPARK_LOCAL_IP if you need to bind to another address\n",
      "22/09/08 16:10:37 WARN NativeCodeLoader: Unable to load native-hadoop library for your platform... using builtin-java classes where applicable\n",
      "Using Spark's default log4j profile: org/apache/spark/log4j-defaults.properties\n",
      "Setting default log level to \"WARN\".\n",
      "To adjust logging level use sc.setLogLevel(newLevel). For SparkR, use setLogLevel(newLevel).\n"
     ]
    }
   ],
   "source": [
    "# Create a spark session (which will run spark jobs)\n",
    "spark = (\n",
    "    SparkSession.builder.appName(\"MAST30034 Project 2\")\n",
    "    .config(\"spark.sql.repl.eagerEval.enabled\", True) \n",
    "    .config(\"spark.sql.parquet.cacheMetadata\", \"true\")\n",
    "    .config(\"spark.sql.session.timeZone\", \"Etc/UTC\")\n",
    "    .config(\"spark.driver.memory\", \"2g\")\n",
    "    .config(\"spark.executer.memory\", \"4g\")\n",
    "    .getOrCreate()\n",
    ")"
   ]
  },
  {
   "cell_type": "code",
   "execution_count": 3,
   "metadata": {},
   "outputs": [
    {
     "name": "stderr",
     "output_type": "stream",
     "text": [
      "                                                                                \r"
     ]
    },
    {
     "data": {
      "text/plain": [
       "7817737"
      ]
     },
     "execution_count": 3,
     "metadata": {},
     "output_type": "execute_result"
    }
   ],
   "source": [
    "sdf = spark.read.parquet(\"../data/curated/full_data/\")\n",
    "sdf.count()"
   ]
  },
  {
   "cell_type": "code",
   "execution_count": 4,
   "metadata": {},
   "outputs": [
    {
     "name": "stdout",
     "output_type": "stream",
     "text": [
      "root\n",
      " |-- user_id: long (nullable = true)\n",
      " |-- SA2_code: integer (nullable = true)\n",
      " |-- postcode: integer (nullable = true)\n",
      " |-- consumer_id: integer (nullable = true)\n",
      " |-- state: string (nullable = true)\n",
      " |-- gender: string (nullable = true)\n",
      " |-- mean_total_income: integer (nullable = true)\n",
      " |-- merchant_abn: long (nullable = true)\n",
      " |-- dollar_value: double (nullable = true)\n",
      " |-- order_id: string (nullable = true)\n",
      " |-- name: string (nullable = true)\n",
      " |-- tags: string (nullable = true)\n",
      " |-- revenue_level: string (nullable = true)\n",
      " |-- take_rate: double (nullable = true)\n",
      "\n"
     ]
    }
   ],
   "source": [
    "sdf.printSchema()"
   ]
  },
  {
   "cell_type": "code",
   "execution_count": 5,
   "metadata": {},
   "outputs": [
    {
     "name": "stdout",
     "output_type": "stream",
     "text": [
      "-RECORD 0-------------------------------------------------\n",
      " user_id           | 183                                  \n",
      " SA2_code          | 210051245                            \n",
      " postcode          | 3043                                 \n",
      " consumer_id       | 133032                               \n",
      " state             | VIC                                  \n",
      " gender            | Female                               \n",
      " mean_total_income | 58060                                \n",
      " merchant_abn      | 38700038932                          \n",
      " dollar_value      | 1115.1879869740476                   \n",
      " order_id          | d4432c96-0627-4034-8934-1f745277f6bc \n",
      " name              | Etiam Bibendum Industries            \n",
      " tags              | tent                                 \n",
      " revenue_level     | a                                    \n",
      " take_rate         | 6.31                                 \n",
      "only showing top 1 row\n",
      "\n"
     ]
    }
   ],
   "source": [
    "sdf.show(1, truncate=False, vertical=True)"
   ]
  },
  {
   "cell_type": "code",
   "execution_count": 6,
   "metadata": {},
   "outputs": [
    {
     "name": "stdout",
     "output_type": "stream",
     "text": [
      "Number of missiong values in user_id: 7\n",
      "Number of missiong values in SA2_code: 5208\n",
      "Number of missiong values in postcode: 7\n",
      "Number of missiong values in consumer_id: 7\n",
      "Number of missiong values in state: 7\n",
      "Number of missiong values in gender: 7\n",
      "Number of missiong values in mean_total_income: 7\n",
      "Number of missiong values in merchant_abn: 0\n",
      "Number of missiong values in dollar_value: 7\n",
      "Number of missiong values in order_id: 7\n",
      "Number of missiong values in name: 0\n",
      "Number of missiong values in tags: 0\n",
      "Number of missiong values in revenue_level: 0\n",
      "Number of missiong values in take_rate: 0\n"
     ]
    }
   ],
   "source": [
    "for col in sdf.columns:\n",
    "    print(f\"Number of missiong values in {col}:\", sdf.filter(F.col(col).isNull()).count())"
   ]
  },
  {
   "cell_type": "code",
   "execution_count": 7,
   "metadata": {},
   "outputs": [
    {
     "data": {
      "text/html": [
       "<table border='1'>\n",
       "<tr><th>user_id</th><th>SA2_code</th><th>postcode</th><th>consumer_id</th><th>state</th><th>gender</th><th>mean_total_income</th><th>merchant_abn</th><th>dollar_value</th><th>order_id</th><th>name</th><th>tags</th><th>revenue_level</th><th>take_rate</th></tr>\n",
       "<tr><td>null</td><td>null</td><td>null</td><td>null</td><td>null</td><td>null</td><td>null</td><td>76866488151</td><td>null</td><td>null</td><td>Euismod Urna Company</td><td>antique</td><td>b</td><td>4.08</td></tr>\n",
       "<tr><td>null</td><td>null</td><td>null</td><td>null</td><td>null</td><td>null</td><td>null</td><td>46537010521</td><td>null</td><td>null</td><td>Tempor Augue Ac C...</td><td>jewelry</td><td>c</td><td>2.18</td></tr>\n",
       "<tr><td>null</td><td>null</td><td>null</td><td>null</td><td>null</td><td>null</td><td>null</td><td>55555661470</td><td>null</td><td>null</td><td>Nullam Scelerisqu...</td><td>jewelry</td><td>c</td><td>1.83</td></tr>\n",
       "<tr><td>null</td><td>null</td><td>null</td><td>null</td><td>null</td><td>null</td><td>null</td><td>28311306642</td><td>null</td><td>null</td><td>Egestas Nunc Sed LLC</td><td>antique</td><td>b</td><td>4.93</td></tr>\n",
       "<tr><td>null</td><td>null</td><td>null</td><td>null</td><td>null</td><td>null</td><td>null</td><td>47047735645</td><td>null</td><td>null</td><td>Aenean Gravida In...</td><td>antique</td><td>c</td><td>1.54</td></tr>\n",
       "<tr><td>null</td><td>null</td><td>null</td><td>null</td><td>null</td><td>null</td><td>null</td><td>55403018592</td><td>null</td><td>null</td><td>Elit Limited</td><td>antique</td><td>b</td><td>4.84</td></tr>\n",
       "<tr><td>null</td><td>null</td><td>null</td><td>null</td><td>null</td><td>null</td><td>null</td><td>93267734067</td><td>null</td><td>null</td><td>Curae Foundation</td><td>jewelry</td><td>c</td><td>2.57</td></tr>\n",
       "</table>\n"
      ],
      "text/plain": [
       "+-------+--------+--------+-----------+-----+------+-----------------+------------+------------+--------+--------------------+-------+-------------+---------+\n",
       "|user_id|SA2_code|postcode|consumer_id|state|gender|mean_total_income|merchant_abn|dollar_value|order_id|                name|   tags|revenue_level|take_rate|\n",
       "+-------+--------+--------+-----------+-----+------+-----------------+------------+------------+--------+--------------------+-------+-------------+---------+\n",
       "|   null|    null|    null|       null| null|  null|             null| 76866488151|        null|    null|Euismod Urna Company|antique|            b|     4.08|\n",
       "|   null|    null|    null|       null| null|  null|             null| 46537010521|        null|    null|Tempor Augue Ac C...|jewelry|            c|     2.18|\n",
       "|   null|    null|    null|       null| null|  null|             null| 55555661470|        null|    null|Nullam Scelerisqu...|jewelry|            c|     1.83|\n",
       "|   null|    null|    null|       null| null|  null|             null| 28311306642|        null|    null|Egestas Nunc Sed LLC|antique|            b|     4.93|\n",
       "|   null|    null|    null|       null| null|  null|             null| 47047735645|        null|    null|Aenean Gravida In...|antique|            c|     1.54|\n",
       "|   null|    null|    null|       null| null|  null|             null| 55403018592|        null|    null|        Elit Limited|antique|            b|     4.84|\n",
       "|   null|    null|    null|       null| null|  null|             null| 93267734067|        null|    null|    Curae Foundation|jewelry|            c|     2.57|\n",
       "+-------+--------+--------+-----------+-----+------+-----------------+------------+------------+--------+--------------------+-------+-------------+---------+"
      ]
     },
     "execution_count": 7,
     "metadata": {},
     "output_type": "execute_result"
    }
   ],
   "source": [
    "sdf.filter(F.col(\"consumer_id\").isNull())\n",
    "# 7 merchants does not have any transactions (antique or jewelry shops)\n",
    "# can be removed ?"
   ]
  },
  {
   "cell_type": "code",
   "execution_count": 8,
   "metadata": {},
   "outputs": [
    {
     "name": "stdout",
     "output_type": "stream",
     "text": [
      "+-------------+\n",
      "|         tags|\n",
      "+-------------+\n",
      "|         tent|\n",
      "|      telecom|\n",
      "|         tent|\n",
      "|         tent|\n",
      "|         gift|\n",
      "|       health|\n",
      "|        cable|\n",
      "|         gift|\n",
      "|         tent|\n",
      "|         tent|\n",
      "|         tent|\n",
      "|         tent|\n",
      "|         tent|\n",
      "|         tent|\n",
      "|         tent|\n",
      "|    furniture|\n",
      "|digital goods|\n",
      "|        watch|\n",
      "|     florists|\n",
      "|        motor|\n",
      "+-------------+\n",
      "only showing top 20 rows\n",
      "\n"
     ]
    }
   ],
   "source": [
    "sdf.select('tags').show()"
   ]
  },
  {
   "cell_type": "code",
   "execution_count": 9,
   "metadata": {},
   "outputs": [
    {
     "data": {
      "text/html": [
       "<table border='1'>\n",
       "<tr><th>postcode</th><th>count</th></tr>\n",
       "<tr><td>null</td><td>7</td></tr>\n",
       "<tr><td>6958</td><td>3242</td></tr>\n",
       "<tr><td>3989</td><td>1959</td></tr>\n",
       "</table>\n"
      ],
      "text/plain": [
       "+--------+-----+\n",
       "|postcode|count|\n",
       "+--------+-----+\n",
       "|    null|    7|\n",
       "|    6958| 3242|\n",
       "|    3989| 1959|\n",
       "+--------+-----+"
      ]
     },
     "execution_count": 9,
     "metadata": {},
     "output_type": "execute_result"
    }
   ],
   "source": [
    "missing = sdf.filter(F.col(\"SA2_code\").isNull()).groupBy(\"postcode\").count()\n",
    "missing.count() # 2 postcodes does not have a corresponding SA2 code\n",
    "missing"
   ]
  },
  {
   "cell_type": "code",
   "execution_count": 10,
   "metadata": {},
   "outputs": [
    {
     "data": {
      "text/html": [
       "<table border='1'>\n",
       "<tr><th>postcode</th><th>count</th></tr>\n",
       "<tr><td>null</td><td>7</td></tr>\n",
       "</table>\n"
      ],
      "text/plain": [
       "+--------+-----+\n",
       "|postcode|count|\n",
       "+--------+-----+\n",
       "|    null|    7|\n",
       "+--------+-----+"
      ]
     },
     "execution_count": 10,
     "metadata": {},
     "output_type": "execute_result"
    }
   ],
   "source": [
    "sdf.filter(F.col(\"mean_total_income\").isNull()).groupBy(\"postcode\").count()"
   ]
  },
  {
   "cell_type": "code",
   "execution_count": 11,
   "metadata": {},
   "outputs": [
    {
     "data": {
      "text/html": [
       "<table border='1'>\n",
       "<tr><th>postcode</th><th>count</th></tr>\n",
       "</table>\n"
      ],
      "text/plain": [
       "+--------+-----+\n",
       "|postcode|count|\n",
       "+--------+-----+\n",
       "+--------+-----+"
      ]
     },
     "execution_count": 11,
     "metadata": {},
     "output_type": "execute_result"
    }
   ],
   "source": [
    "sdf.filter(F.col(\"mean_total_income\")==0).groupBy(\"postcode\").count()"
   ]
  }
 ],
 "metadata": {
  "kernelspec": {
   "display_name": "Python 3.7.13 ('xt')",
   "language": "python",
   "name": "python3"
  },
  "language_info": {
   "codemirror_mode": {
    "name": "ipython",
    "version": 3
   },
   "file_extension": ".py",
   "mimetype": "text/x-python",
   "name": "python",
   "nbconvert_exporter": "python",
   "pygments_lexer": "ipython3",
   "version": "3.7.13"
  },
  "orig_nbformat": 4,
  "vscode": {
   "interpreter": {
    "hash": "464aeb025fe7529aa14c472f74018451d543299a7c7ff36fe116837387c8b1ec"
   }
  }
 },
 "nbformat": 4,
 "nbformat_minor": 2
}
