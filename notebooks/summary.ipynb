{
 "cells": [
  {
   "cell_type": "code",
   "execution_count": 21,
   "metadata": {},
   "outputs": [],
   "source": [
    "from pyspark.sql import SparkSession\n",
    "from pyspark.sql import functions as F\n",
    "import pandas as pd"
   ]
  },
  {
   "cell_type": "code",
   "execution_count": 22,
   "metadata": {},
   "outputs": [],
   "source": [
    "# Create a spark session (which will run spark jobs)\n",
    "spark = (\n",
    "    SparkSession.builder.appName(\"MAST30034 Project 2\")\n",
    "    .config(\"spark.sql.repl.eagerEval.enabled\", True) \n",
    "    .config(\"spark.sql.parquet.cacheMetadata\", \"true\")\n",
    "    .config(\"spark.sql.session.timeZone\", \"Etc/UTC\")\n",
    "    .config(\"spark.driver.memory\", \"2g\")\n",
    "    .config(\"spark.executer.memory\", \"4g\")\n",
    "    .getOrCreate()\n",
    ")"
   ]
  },
  {
   "cell_type": "code",
   "execution_count": 23,
   "metadata": {},
   "outputs": [
    {
     "data": {
      "text/plain": [
       "7817737"
      ]
     },
     "execution_count": 23,
     "metadata": {},
     "output_type": "execute_result"
    }
   ],
   "source": [
    "sdf = spark.read.parquet(\"../data/curated/full_data/\")\n",
    "sdf.count()"
   ]
  },
  {
   "cell_type": "code",
   "execution_count": 24,
   "metadata": {},
   "outputs": [
    {
     "name": "stdout",
     "output_type": "stream",
     "text": [
      "root\n",
      " |-- user_id: long (nullable = true)\n",
      " |-- SA2_code: integer (nullable = true)\n",
      " |-- postcode: integer (nullable = true)\n",
      " |-- consumer_id: integer (nullable = true)\n",
      " |-- state: string (nullable = true)\n",
      " |-- gender: string (nullable = true)\n",
      " |-- mean_total_income: integer (nullable = true)\n",
      " |-- merchant_abn: long (nullable = true)\n",
      " |-- dollar_value: double (nullable = true)\n",
      " |-- order_id: string (nullable = true)\n",
      " |-- name: string (nullable = true)\n",
      " |-- tags: string (nullable = true)\n",
      " |-- revenue_level: string (nullable = true)\n",
      " |-- take_rate: double (nullable = true)\n",
      "\n"
     ]
    }
   ],
   "source": [
    "sdf.printSchema()"
   ]
  },
  {
   "cell_type": "code",
   "execution_count": 25,
   "metadata": {},
   "outputs": [
    {
     "name": "stdout",
     "output_type": "stream",
     "text": [
      "-RECORD 0-------------------------------------------------\n",
      " user_id           | 1                                    \n",
      " SA2_code          | 504031066                            \n",
      " postcode          | 6935                                 \n",
      " consumer_id       | 1195503                              \n",
      " state             | WA                                   \n",
      " gender            | Female                               \n",
      " mean_total_income | 62144                                \n",
      " merchant_abn      | 12771097467                          \n",
      " dollar_value      | 1536.539158652427                    \n",
      " order_id          | 94bea086-73d4-43a3-bf19-8657ee652896 \n",
      " name              | At Pretium Corp.                     \n",
      " tags              | motor                                \n",
      " revenue_level     | a                                    \n",
      " take_rate         | 6.95                                 \n",
      "only showing top 1 row\n",
      "\n"
     ]
    }
   ],
   "source": [
    "sdf.show(1, truncate=False, vertical=True)"
   ]
  },
  {
   "cell_type": "code",
   "execution_count": 26,
   "metadata": {},
   "outputs": [
    {
     "name": "stdout",
     "output_type": "stream",
     "text": [
      "Number of missiong values in user_id: 7\n",
      "Number of missiong values in SA2_code: 5208\n",
      "Number of missiong values in postcode: 7\n",
      "Number of missiong values in consumer_id: 7\n",
      "Number of missiong values in state: 7\n",
      "Number of missiong values in gender: 7\n",
      "Number of missiong values in mean_total_income: 7\n",
      "Number of missiong values in merchant_abn: 0\n",
      "Number of missiong values in dollar_value: 7\n",
      "Number of missiong values in order_id: 7\n",
      "Number of missiong values in name: 0\n",
      "Number of missiong values in tags: 0\n",
      "Number of missiong values in revenue_level: 0\n",
      "Number of missiong values in take_rate: 0\n"
     ]
    }
   ],
   "source": [
    "for col in sdf.columns:\n",
    "    print(f\"Number of missiong values in {col}:\", sdf.filter(F.col(col).isNull()).count())"
   ]
  },
  {
   "cell_type": "code",
   "execution_count": 7,
   "metadata": {},
   "outputs": [
    {
     "data": {
      "text/html": [
       "<table border='1'>\n",
       "<tr><th>user_id</th><th>SA2_code</th><th>postcode</th><th>consumer_id</th><th>state</th><th>gender</th><th>mean_total_income</th><th>merchant_abn</th><th>dollar_value</th><th>order_id</th><th>name</th><th>tags</th><th>revenue_level</th><th>take_rate</th></tr>\n",
       "<tr><td>null</td><td>null</td><td>null</td><td>null</td><td>null</td><td>null</td><td>null</td><td>76866488151</td><td>null</td><td>null</td><td>Euismod Urna Company</td><td>antique shops - s...</td><td>b</td><td>4.08</td></tr>\n",
       "<tr><td>null</td><td>null</td><td>null</td><td>null</td><td>null</td><td>null</td><td>null</td><td>55403018592</td><td>null</td><td>null</td><td>Elit Limited</td><td>antique shops - s...</td><td>b</td><td>4.84</td></tr>\n",
       "<tr><td>null</td><td>null</td><td>null</td><td>null</td><td>null</td><td>null</td><td>null</td><td>46537010521</td><td>null</td><td>null</td><td>Tempor Augue Ac C...</td><td>jewelry</td><td>c</td><td>2.18</td></tr>\n",
       "<tr><td>null</td><td>null</td><td>null</td><td>null</td><td>null</td><td>null</td><td>null</td><td>93267734067</td><td>null</td><td>null</td><td>Curae Foundation</td><td>jewelry</td><td>c</td><td>2.57</td></tr>\n",
       "<tr><td>null</td><td>null</td><td>null</td><td>null</td><td>null</td><td>null</td><td>null</td><td>55555661470</td><td>null</td><td>null</td><td>Nullam Scelerisqu...</td><td>jewelry</td><td>c</td><td>1.83</td></tr>\n",
       "<tr><td>null</td><td>null</td><td>null</td><td>null</td><td>null</td><td>null</td><td>null</td><td>28311306642</td><td>null</td><td>null</td><td>Egestas Nunc Sed LLC</td><td>antique shops - s...</td><td>b</td><td>4.93</td></tr>\n",
       "<tr><td>null</td><td>null</td><td>null</td><td>null</td><td>null</td><td>null</td><td>null</td><td>47047735645</td><td>null</td><td>null</td><td>Aenean Gravida In...</td><td>antique shops - s...</td><td>c</td><td>1.54</td></tr>\n",
       "</table>\n"
      ],
      "text/plain": [
       "+-------+--------+--------+-----------+-----+------+-----------------+------------+------------+--------+--------------------+--------------------+-------------+---------+\n",
       "|user_id|SA2_code|postcode|consumer_id|state|gender|mean_total_income|merchant_abn|dollar_value|order_id|                name|                tags|revenue_level|take_rate|\n",
       "+-------+--------+--------+-----------+-----+------+-----------------+------------+------------+--------+--------------------+--------------------+-------------+---------+\n",
       "|   null|    null|    null|       null| null|  null|             null| 76866488151|        null|    null|Euismod Urna Company|antique shops - s...|            b|     4.08|\n",
       "|   null|    null|    null|       null| null|  null|             null| 55403018592|        null|    null|        Elit Limited|antique shops - s...|            b|     4.84|\n",
       "|   null|    null|    null|       null| null|  null|             null| 46537010521|        null|    null|Tempor Augue Ac C...|             jewelry|            c|     2.18|\n",
       "|   null|    null|    null|       null| null|  null|             null| 93267734067|        null|    null|    Curae Foundation|             jewelry|            c|     2.57|\n",
       "|   null|    null|    null|       null| null|  null|             null| 55555661470|        null|    null|Nullam Scelerisqu...|             jewelry|            c|     1.83|\n",
       "|   null|    null|    null|       null| null|  null|             null| 28311306642|        null|    null|Egestas Nunc Sed LLC|antique shops - s...|            b|     4.93|\n",
       "|   null|    null|    null|       null| null|  null|             null| 47047735645|        null|    null|Aenean Gravida In...|antique shops - s...|            c|     1.54|\n",
       "+-------+--------+--------+-----------+-----+------+-----------------+------------+------------+--------+--------------------+--------------------+-------------+---------+"
      ]
     },
     "execution_count": 7,
     "metadata": {},
     "output_type": "execute_result"
    }
   ],
   "source": [
    "sdf.filter(F.col(\"consumer_id\").isNull())\n",
    "# 7 merchants does not have any transactions (antique or jewelry shops)\n",
    "# can be removed ?"
   ]
  },
  {
   "cell_type": "code",
   "execution_count": 8,
   "metadata": {},
   "outputs": [
    {
     "name": "stdout",
     "output_type": "stream",
     "text": [
      "+--------------------+\n",
      "|                tags|\n",
      "+--------------------+\n",
      "|motor vehicle sup...|\n",
      "|           opticians|\n",
      "|digital goods: books|\n",
      "|           opticians|\n",
      "|          stationery|\n",
      "|   florists supplies|\n",
      "|               books|\n",
      "|computer programm...|\n",
      "|bicycle shops - s...|\n",
      "|                gift|\n",
      "|          shoe shops|\n",
      "|            computer|\n",
      "|                gift|\n",
      "|           opticians|\n",
      "|tent and awning s...|\n",
      "|           opticians|\n",
      "|tent and awning s...|\n",
      "|           opticians|\n",
      "|tent and awning s...|\n",
      "|digital goods: books|\n",
      "+--------------------+\n",
      "only showing top 20 rows\n",
      "\n"
     ]
    }
   ],
   "source": [
    "sdf.select('tags').show()"
   ]
  },
  {
   "cell_type": "code",
   "execution_count": 9,
   "metadata": {},
   "outputs": [
    {
     "data": {
      "text/html": [
       "<table border='1'>\n",
       "<tr><th>postcode</th><th>count</th></tr>\n",
       "<tr><td>6958</td><td>3242</td></tr>\n",
       "<tr><td>3989</td><td>1959</td></tr>\n",
       "<tr><td>null</td><td>7</td></tr>\n",
       "</table>\n"
      ],
      "text/plain": [
       "+--------+-----+\n",
       "|postcode|count|\n",
       "+--------+-----+\n",
       "|    6958| 3242|\n",
       "|    3989| 1959|\n",
       "|    null|    7|\n",
       "+--------+-----+"
      ]
     },
     "execution_count": 9,
     "metadata": {},
     "output_type": "execute_result"
    }
   ],
   "source": [
    "missing = sdf.filter(F.col(\"SA2_code\").isNull()).groupBy(\"postcode\").count()\n",
    "missing.count() # 2 postcodes does not have a corresponding SA2 code\n",
    "missing"
   ]
  },
  {
   "cell_type": "code",
   "execution_count": 14,
   "metadata": {},
   "outputs": [
    {
     "data": {
      "text/html": [
       "<table border='1'>\n",
       "<tr><th>postcode</th><th>count</th></tr>\n",
       "<tr><td>6958</td><td>3242</td></tr>\n",
       "<tr><td>2899</td><td>3210</td></tr>\n",
       "<tr><td>6799</td><td>2918</td></tr>\n",
       "<tr><td>3989</td><td>1959</td></tr>\n",
       "<tr><td>6798</td><td>1971</td></tr>\n",
       "<tr><td>null</td><td>7</td></tr>\n",
       "</table>\n"
      ],
      "text/plain": [
       "+--------+-----+\n",
       "|postcode|count|\n",
       "+--------+-----+\n",
       "|    6958| 3242|\n",
       "|    2899| 3210|\n",
       "|    6799| 2918|\n",
       "|    3989| 1959|\n",
       "|    6798| 1971|\n",
       "|    null|    7|\n",
       "+--------+-----+"
      ]
     },
     "execution_count": 14,
     "metadata": {},
     "output_type": "execute_result"
    }
   ],
   "source": [
    "sdf.filter(F.col(\"mean_total_income\").isNull()).groupBy(\"postcode\").count()"
   ]
  },
  {
   "cell_type": "code",
   "execution_count": 15,
   "metadata": {},
   "outputs": [
    {
     "data": {
      "text/html": [
       "<table border='1'>\n",
       "<tr><th>postcode</th><th>count</th></tr>\n",
       "</table>\n"
      ],
      "text/plain": [
       "+--------+-----+\n",
       "|postcode|count|\n",
       "+--------+-----+\n",
       "+--------+-----+"
      ]
     },
     "execution_count": 15,
     "metadata": {},
     "output_type": "execute_result"
    }
   ],
   "source": [
    "sdf.filter(F.col(\"mean_total_income\")==0).groupBy(\"postcode\").count()"
   ]
  },
  {
   "cell_type": "code",
   "execution_count": 18,
   "metadata": {},
   "outputs": [
    {
     "data": {
      "text/html": [
       "<table border='1'>\n",
       "<tr><th>postcode</th><th>count</th></tr>\n",
       "<tr><td>5110</td><td>165</td></tr>\n",
       "<tr><td>7468</td><td>149</td></tr>\n",
       "<tr><td>6017</td><td>155</td></tr>\n",
       "<tr><td>2845</td><td>164</td></tr>\n",
       "<tr><td>6084</td><td>157</td></tr>\n",
       "<tr><td>6079</td><td>140</td></tr>\n",
       "<tr><td>3880</td><td>155</td></tr>\n",
       "<tr><td>2021</td><td>141</td></tr>\n",
       "</table>\n"
      ],
      "text/plain": [
       "+--------+-----+\n",
       "|postcode|count|\n",
       "+--------+-----+\n",
       "|    5110|  165|\n",
       "|    7468|  149|\n",
       "|    6017|  155|\n",
       "|    2845|  164|\n",
       "|    6084|  157|\n",
       "|    6079|  140|\n",
       "|    3880|  155|\n",
       "|    2021|  141|\n",
       "+--------+-----+"
      ]
     },
     "execution_count": 18,
     "metadata": {},
     "output_type": "execute_result"
    }
   ],
   "source": [
    "output_path = \"../data/curated/\"\n",
    "external_output_path = '../data/external/'\n",
    "transaction_path = \"../data/tables/transactions_*/*\"\n",
    "\n",
    "consumer_sdf = spark.read.parquet(output_path + \"consumer\")\n",
    "transaction_sdf = spark.read.parquet(transaction_path)\n",
    "postcode_SA2_sdf = spark.read.csv(output_path + \"processed_postcode.csv\", inferSchema =True, header=True)\n",
    "income_sdf = spark.read.csv(output_path + \"processed_income.csv\", inferSchema =True, header=True)\n",
    "merchant_sdf = spark.read.csv(output_path + \"merchant.csv\", inferSchema =True, header=True)\n",
    "state_income = pd.read_csv(output_path + \"state_mean_income.csv\").set_index(\"state\").to_dict()[\"mean_total_income\"]\n",
    "\n",
    "# combine consumer with mean total income based on SA2 code\n",
    "sdf = consumer_sdf.join(postcode_SA2_sdf,[\"postcode\"],how=\"left\")\n",
    "sdf = sdf.join(income_sdf, [\"SA2_code\"], how=\"left\")\n",
    "\n",
    "sdf.filter(F.col(\"mean_total_income\")==0).groupBy(\"postcode\").count()"
   ]
  },
  {
   "cell_type": "code",
   "execution_count": 19,
   "metadata": {},
   "outputs": [
    {
     "data": {
      "text/html": [
       "<table border='1'>\n",
       "<tr><th>postcode</th><th>count</th></tr>\n",
       "<tr><td>6798</td><td>177</td></tr>\n",
       "<tr><td>6958</td><td>166</td></tr>\n",
       "<tr><td>2899</td><td>175</td></tr>\n",
       "<tr><td>3989</td><td>151</td></tr>\n",
       "<tr><td>6799</td><td>132</td></tr>\n",
       "</table>\n"
      ],
      "text/plain": [
       "+--------+-----+\n",
       "|postcode|count|\n",
       "+--------+-----+\n",
       "|    6798|  177|\n",
       "|    6958|  166|\n",
       "|    2899|  175|\n",
       "|    3989|  151|\n",
       "|    6799|  132|\n",
       "+--------+-----+"
      ]
     },
     "execution_count": 19,
     "metadata": {},
     "output_type": "execute_result"
    }
   ],
   "source": [
    "sdf.filter(F.col(\"mean_total_income\").isNull()).groupBy(\"postcode\").count()"
   ]
  },
  {
   "cell_type": "code",
   "execution_count": 20,
   "metadata": {},
   "outputs": [],
   "source": [
    "\n",
    "# fill missing total income value with state mean\n",
    "abbrv = ['NSW', 'VIC','QLD', 'SA', 'WA', 'TAS', 'NT', 'ACT']\n",
    "for state in abbrv:\n",
    "    sdf = sdf.withColumn(\"mean_total_income\", \n",
    "    F.when(((sdf.mean_total_income == 0) | (sdf.mean_total_income.isNull())) & (sdf.state == state), state_income[state]) \\\n",
    "     .otherwise(sdf.mean_total_income))"
   ]
  }
 ],
 "metadata": {
  "kernelspec": {
   "display_name": "Python 3.8.8",
   "language": "python",
   "name": "python3"
  },
  "language_info": {
   "codemirror_mode": {
    "name": "ipython",
    "version": 3
   },
   "file_extension": ".py",
   "mimetype": "text/x-python",
   "name": "python",
   "nbconvert_exporter": "python",
   "pygments_lexer": "ipython3",
   "version": "3.8.8"
  },
  "orig_nbformat": 4,
  "vscode": {
   "interpreter": {
    "hash": "703e593df40508a60fa363339ca2bbb5bae045b0a530fb0e89bc3e7c255f1da9"
   }
  }
 },
 "nbformat": 4,
 "nbformat_minor": 2
}
