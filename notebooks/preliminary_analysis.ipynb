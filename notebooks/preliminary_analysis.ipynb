{
 "cells": [
  {
   "cell_type": "code",
   "execution_count": null,
   "metadata": {},
   "outputs": [],
   "source": [
    "from pyspark.sql import SparkSession\n",
    "from pyspark.sql import functions as F\n",
    "import pandas as pd\n",
    "from matplotlib import pyplot as plt   \n",
    "import seaborn as sns\n",
    "sns.set_style('darkgrid')\n",
    "\n",
    "spark = (\n",
    "    SparkSession.builder.appName(\"MAST30034 Project 2\")\n",
    "    .config(\"spark.sql.repl.eagerEval.enabled\", True) \n",
    "    .config(\"spark.sql.parquet.cacheMetadata\", \"true\")\n",
    "    .config(\"spark.driver.memory\", \"2g\")\n",
    "    .config(\"spark.executer.memory\", \"4g\")\n",
    "    .getOrCreate()\n",
    ")\n",
    "\n",
    "sns.set(rc={'figure.figsize':(11.7,8.27)})\n"
   ]
  },
  {
   "cell_type": "markdown",
   "metadata": {},
   "source": [
    "## Merchant Dataset"
   ]
  },
  {
   "cell_type": "code",
   "execution_count": null,
   "metadata": {},
   "outputs": [],
   "source": [
    "merchant_df = pd.read_csv('../data/curated/merchant.csv')\n",
    "print(f'Number of merchants in the dataset:', merchant_df['merchant_abn'].count())"
   ]
  },
  {
   "cell_type": "code",
   "execution_count": null,
   "metadata": {},
   "outputs": [],
   "source": [
    "# tag distribution over all merchants\n",
    "labels = merchant_df['tags'].unique()\n",
    "sizes = []\n",
    "for tag in labels:\n",
    "    sizes.append(len(merchant_df.loc[merchant_df['tags'] == tag]))\n",
    "\n",
    "plt.figure(figsize=(8, 6))\n",
    "colors = sns.color_palette('pastel')\n",
    "plt.pie(x=sizes, labels=labels, colors=colors, autopct='%1.1f%%')\n",
    "plt.axis('equal')\n",
    "plt.show()"
   ]
  },
  {
   "cell_type": "code",
   "execution_count": null,
   "metadata": {},
   "outputs": [],
   "source": [
    "# revenue level distribution over all merchants\n",
    "labels = merchant_df['revenue_level'].unique()\n",
    "sizes = []\n",
    "for tag in labels:\n",
    "    sizes.append(len(merchant_df.loc[merchant_df['revenue_level'] == tag]))\n",
    "\n",
    "plt.figure(figsize=(8, 6))\n",
    "colors = sns.color_palette('pastel')\n",
    "plt.pie(x=sizes, labels=labels, colors=colors, autopct='%1.1f%%')\n",
    "plt.axis('equal')\n",
    "plt.show()"
   ]
  },
  {
   "cell_type": "markdown",
   "metadata": {},
   "source": [
    "## Transaction Dataset"
   ]
  },
  {
   "cell_type": "code",
   "execution_count": null,
   "metadata": {},
   "outputs": [],
   "source": [
    "transaction_sdf = spark.read.parquet('../data/tables/transactions_*/*')\\\n",
    "        .withColumn(\n",
    "            \"order_datetime\", \n",
    "            F.to_date(F.regexp_extract(F.split(F.input_file_name(), \"=\")[1], \"(.*)/\",1), \"yyyy-MM-dd\")\n",
    "        )"
   ]
  },
  {
   "cell_type": "code",
   "execution_count": null,
   "metadata": {},
   "outputs": [],
   "source": [
    "# line plot of number of transactions each day\n",
    "transaction_count_by_date = transaction_sdf.groupBy('order_datetime').count().toPandas()\n",
    "\n",
    "sns.lineplot(x='order_datetime', y='count', data=transaction_count_by_date)\n",
    "sns.scatterplot(x='order_datetime', y='count', data=transaction_count_by_date, color='purple')\n",
    "plt.xlabel('Date', fontsize=14)\n",
    "plt.ylabel('Number of Transactions', fontsize=14)\n",
    "plt.title('Number of Transactions Per Day', fontsize=16)\n",
    "plt.savefig('../plots/Number of Transactions Each Day.png')\n",
    "plt.show()"
   ]
  },
  {
   "cell_type": "code",
   "execution_count": null,
   "metadata": {},
   "outputs": [],
   "source": [
    "log_sdf = transaction_sdf.withColumn('log(dollar)', F.log(F.col('dollar_value')))\n",
    "log_cost = log_sdf.select('log(dollar)').toPandas()"
   ]
  },
  {
   "cell_type": "code",
   "execution_count": null,
   "metadata": {},
   "outputs": [],
   "source": [
    "# histogram showing the distribution of dollar value of all transactions\n",
    "sns.set(rc={'figure.figsize':(8,6)})\n",
    "fig = sns.histplot(log_cost)\n",
    "fig.set_title(\"Distribution of Log Transformed Dollar Value of All Transactions\", fontsize=16)\n",
    "fig.set_xlabel('Log transformed dollar value', fontsize=14)\n",
    "fig.set_ylabel('Count', fontsize=14)\n",
    "fig = fig.get_figure()\n",
    "fig.savefig('../plots/Distribution of Log Transformed Dollar Value of All Transactions.png')"
   ]
  },
  {
   "cell_type": "markdown",
   "metadata": {},
   "source": [
    "## Consumer Dataset"
   ]
  },
  {
   "cell_type": "code",
   "execution_count": null,
   "metadata": {},
   "outputs": [],
   "source": [
    "consumer_df = pd.read_parquet(\"../data/curated/consumer/\")"
   ]
  },
  {
   "cell_type": "code",
   "execution_count": null,
   "metadata": {},
   "outputs": [],
   "source": [
    "# observe the distribution of gender among consumers\n",
    "gender_df = consumer_df[['user_id', 'gender']].groupby(['gender']).count()\n",
    "\n",
    "sns.barplot(data=gender_df, x=gender_df.index, y=\"user_id\")\n",
    "plt.xlabel('Gender', fontsize=14)\n",
    "plt.ylabel('Frequency', fontsize=14)\n",
    "plt.title('Gender Distribution', fontsize=16)\n",
    "plt.savefig('../plots/gender distribution.png')\n",
    "plt.show()"
   ]
  },
  {
   "cell_type": "code",
   "execution_count": null,
   "metadata": {},
   "outputs": [],
   "source": [
    "# find number of consumers in each state\n",
    "state_df = consumer_df[['state', 'user_id']].groupby(['state']).count()\n",
    "state_df"
   ]
  },
  {
   "cell_type": "code",
   "execution_count": null,
   "metadata": {},
   "outputs": [],
   "source": [
    "sns.barplot(data=state_df, x=state_df.index, y=\"user_id\")\n",
    "plt.xlabel('State', fontsize=14)\n",
    "plt.ylabel('Frequency', fontsize=14)\n",
    "plt.title('Number of Consumers in Each State', fontsize=16)\n",
    "plt.savefig('../plots/consumer distribution.png')\n",
    "plt.show()"
   ]
  }
 ],
 "metadata": {
  "kernelspec": {
   "display_name": "Python 3.8.8",
   "language": "python",
   "name": "python3"
  },
  "language_info": {
   "codemirror_mode": {
    "name": "ipython",
    "version": 3
   },
   "file_extension": ".py",
   "mimetype": "text/x-python",
   "name": "python",
   "nbconvert_exporter": "python",
   "pygments_lexer": "ipython3",
   "version": "3.8.8"
  },
  "orig_nbformat": 4,
  "vscode": {
   "interpreter": {
    "hash": "703e593df40508a60fa363339ca2bbb5bae045b0a530fb0e89bc3e7c255f1da9"
   }
  }
 },
 "nbformat": 4,
 "nbformat_minor": 2
}
