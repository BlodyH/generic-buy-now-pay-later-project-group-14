{
 "cells": [
  {
   "cell_type": "code",
   "execution_count": null,
   "metadata": {},
   "outputs": [],
   "source": [
    "import pandas as pd\n",
    "import numpy as np\n",
    "from sklearn.metrics import *\n",
    "from sklearn.model_selection import train_test_split, GridSearchCV, cross_validate\n",
    "from sklearn.linear_model import LinearRegression\n",
    "from sklearn.preprocessing import OneHotEncoder, StandardScaler\n",
    "from sklearn.neural_network import MLPRegressor\n",
    "import seaborn as sns\n",
    "import matplotlib.pyplot as plt\n",
    "import statsmodels.api as sm\n",
    "from statsmodels.formula.api import ols"
   ]
  },
  {
   "cell_type": "markdown",
   "metadata": {},
   "source": [
    "### Read in Data"
   ]
  },
  {
   "cell_type": "code",
   "execution_count": null,
   "metadata": {},
   "outputs": [],
   "source": [
    "train_df = pd.read_parquet('../data/curated/train_data/')\n",
    "test_df = pd.read_parquet('../data/curated/test_data/')\n",
    "train_df.dtypes"
   ]
  },
  {
   "cell_type": "markdown",
   "metadata": {},
   "source": [
    "### Inspect Correlation\n",
    "- categorical variables: tag, revenue level  \n",
    "use anova test to examine the significance of these variables in predicting each target variable\n",
    "\n",
    "- continuous variables  \n",
    "calculate the pearson correlation of each pair of continuous variables"
   ]
  },
  {
   "cell_type": "code",
   "execution_count": null,
   "metadata": {},
   "outputs": [],
   "source": [
    "model = ols('y_total_num_consumer ~ C(tag) + C(revenue_level)', data=train_df).fit()\n",
    "anova_table = sm.stats.anova_lm(model, typ=2)\n",
    "anova_table"
   ]
  },
  {
   "cell_type": "code",
   "execution_count": null,
   "metadata": {},
   "outputs": [],
   "source": [
    "model = ols('y_total_revenue ~ C(tag) + C(revenue_level)', data=train_df).fit()\n",
    "anova_table = sm.stats.anova_lm(model, typ=2)\n",
    "anova_table"
   ]
  },
  {
   "cell_type": "code",
   "execution_count": null,
   "metadata": {},
   "outputs": [],
   "source": [
    "model = ols('y_total_num_transaction ~ C(tag) + C(revenue_level)', data=train_df).fit()\n",
    "anova_table = sm.stats.anova_lm(model, typ=2)\n",
    "anova_table"
   ]
  },
  {
   "cell_type": "markdown",
   "metadata": {},
   "source": [
    "#### Observation\n",
    "\"tag\" is significant in all models, whereas \"revenue level\" is not a significant feature in predicting total number of consumers and transactions"
   ]
  },
  {
   "cell_type": "code",
   "execution_count": null,
   "metadata": {},
   "outputs": [],
   "source": [
    "# pearson correlation heatmap for continuous variables\n",
    "x_axis = [\"Total num Consumer\", \"Average Dollar Value\", \"Total num Transaction\", \"Mean Income\", \"Total Revenue\", \"Total num Postcode\", \"Next Total num Consumer\", \"Next Total Revenue\", \"Next Total num Transaction\"]\n",
    "plt.figure(figsize = (10, 10))\n",
    "sns.heatmap(train_df.drop('merchant_abn', axis=1).corr(), annot = True, annot_kws={\"size\": 12}, xticklabels=x_axis, yticklabels=x_axis)\n",
    "plt.title('Pearson Correlation Metric', size = 20)\n",
    "plt.savefig(\"../plots/Pearson Correlation Metric.png\", bbox_inches = \"tight\")"
   ]
  },
  {
   "cell_type": "markdown",
   "metadata": {},
   "source": [
    "#### Observation\n",
    "\"Mean income\" and \"avergate dollar value\" have little correlation with target variables. Therefore, they can be excluded in models."
   ]
  },
  {
   "cell_type": "markdown",
   "metadata": {},
   "source": [
    "### Data Preprocessing"
   ]
  },
  {
   "cell_type": "code",
   "execution_count": null,
   "metadata": {},
   "outputs": [],
   "source": [
    "# drop the columns not needed\n",
    "train_df = train_df[['merchant_abn', 'total_num_consumer', 'tag', 'total_revenue', 'revenue_level', 'total_num_postcode', \n",
    "                     'total_num_transaction', 'y_total_num_consumer', 'y_total_revenue', 'y_total_num_transaction']].dropna()\n",
    "train_df = train_df.set_index('merchant_abn')\n",
    "\n",
    "test_df = test_df[['merchant_abn', 'total_num_consumer', 'tag', 'total_num_postcode', 'total_revenue',\n",
    "                   'revenue_level', 'total_num_transaction']].dropna()\n",
    "test_df = test_df.set_index('merchant_abn')"
   ]
  },
  {
   "cell_type": "code",
   "execution_count": null,
   "metadata": {},
   "outputs": [],
   "source": [
    "# change tags and revenue level into numeric features using one hot encoding\n",
    "cat_features = [\"tag\", \"revenue_level\"]\n",
    "train_df = pd.get_dummies(train_df, columns = cat_features)\n",
    "test_df = pd.get_dummies(test_df, columns = cat_features)\n",
    "\n",
    "train_df.head()"
   ]
  },
  {
   "cell_type": "markdown",
   "metadata": {},
   "source": [
    "## Models for Total Number of Consumers"
   ]
  },
  {
   "cell_type": "markdown",
   "metadata": {},
   "source": [
    "### Linear Regression"
   ]
  },
  {
   "cell_type": "code",
   "execution_count": null,
   "metadata": {},
   "outputs": [],
   "source": [
    "labels = ['y_total_num_consumer', 'y_total_revenue', 'y_total_num_transaction']\n",
    "# select useful features (exclude revenue_level)\n",
    "features = [i for i in train_df.columns if i not in labels and not i.startswith('revenue')]\n",
    "X = train_df[features]\n",
    "y = train_df['y_total_num_consumer']"
   ]
  },
  {
   "cell_type": "code",
   "execution_count": null,
   "metadata": {},
   "outputs": [],
   "source": [
    "X_train, X_test, y_train, y_test = train_test_split(X, y, test_size=0.3, random_state=0)\n",
    "\n",
    "lr = LinearRegression()\n",
    "fitted_model = lr.fit(X_train, y_train)\n",
    "print(\"Intercept: %s\" % str(fitted_model.intercept_))\n",
    "coef = pd.DataFrame({\"feature\":features,\"coefficient\":lr.coef_})\n",
    "coef.head(10)"
   ]
  },
  {
   "cell_type": "code",
   "execution_count": null,
   "metadata": {},
   "outputs": [],
   "source": [
    "y_pred = fitted_model.predict(X_test)\n",
    "result = pd.DataFrame({'predicted_total_num_consumer': y_pred, 'true_total_num_consumer': y_test})\n",
    "result"
   ]
  },
  {
   "cell_type": "code",
   "execution_count": null,
   "metadata": {},
   "outputs": [],
   "source": [
    "result.loc[result['predicted_total_num_consumer']<=0]"
   ]
  },
  {
   "cell_type": "code",
   "execution_count": null,
   "metadata": {},
   "outputs": [],
   "source": [
    "print(\"r2 score:\", r2_score(y_pred, y_test))\n",
    "print(\"Mean Absolute Error:\", mean_absolute_error(y_pred, y_test))"
   ]
  },
  {
   "cell_type": "code",
   "execution_count": null,
   "metadata": {},
   "outputs": [],
   "source": [
    "# mean evaluation metrics of 10 fold CV\n",
    "scores = cross_validate(lr, X, y, cv=10, scoring=('r2', 'neg_mean_absolute_error'), return_train_score=True)\n",
    "print(\"train r2 score: %0.4f\" % scores['train_r2'].mean())\n",
    "print(\"test r2 score: %0.4f\" % scores['test_r2'].mean())\n",
    "print(\"train mean absolute error:: %0.4f\" % -scores['train_neg_mean_absolute_error'].mean())\n",
    "print(\"test mean absolute error:: %0.4f\" % -scores['test_neg_mean_absolute_error'].mean())"
   ]
  },
  {
   "cell_type": "markdown",
   "metadata": {},
   "source": [
    "### Neural Network"
   ]
  },
  {
   "cell_type": "code",
   "execution_count": null,
   "metadata": {},
   "outputs": [],
   "source": [
    "# scale train and test dataset in order to be standard normally distributed with zero mean\n",
    "sc_X = StandardScaler()\n",
    "X_trainscaled=sc_X.fit_transform(X_train)\n",
    "X_testscaled=sc_X.transform(X_test)\n",
    "X_trainscaled.shape, X_testscaled.shape"
   ]
  },
  {
   "cell_type": "code",
   "execution_count": null,
   "metadata": {},
   "outputs": [],
   "source": [
    "mlp_reg = MLPRegressor(hidden_layer_sizes=(128,128,128,128),activation=\"relu\" ,solver = 'adam', random_state=30034, max_iter=20000)\\\n",
    "    .fit(X_trainscaled, y_train)\n",
    "y_pred = mlp_reg.predict(X_testscaled)"
   ]
  },
  {
   "cell_type": "code",
   "execution_count": null,
   "metadata": {},
   "outputs": [],
   "source": [
    "df_result = pd.DataFrame({'y_pred': y_pred, 'y_true': y_test})\n",
    "df_result"
   ]
  },
  {
   "cell_type": "code",
   "execution_count": null,
   "metadata": {},
   "outputs": [],
   "source": [
    "print('r2 score:', r2_score(y_pred, y_test))\n",
    "print('mean absolute error:', mean_absolute_error(y_pred, y_test))"
   ]
  },
  {
   "cell_type": "markdown",
   "metadata": {},
   "source": [
    "## Models for Total Number of Transactions\n"
   ]
  },
  {
   "cell_type": "markdown",
   "metadata": {},
   "source": [
    "### Linear Regression"
   ]
  },
  {
   "cell_type": "code",
   "execution_count": null,
   "metadata": {},
   "outputs": [],
   "source": [
    "labels = ['y_total_num_consumer', 'y_total_revenue', 'y_total_num_transaction']\n",
    "# select useful features (exclude revenue_level)\n",
    "features = [i for i in train_df.columns if i not in labels and not i.startswith('revenue')]\n",
    "X = train_df[features]\n",
    "y = train_df['y_total_num_transaction']"
   ]
  },
  {
   "cell_type": "code",
   "execution_count": null,
   "metadata": {},
   "outputs": [],
   "source": [
    "X_train, X_test, y_train, y_test = train_test_split(X, y, test_size=0.3, random_state=0)\n",
    "\n",
    "lr = LinearRegression()\n",
    "fitted_model = lr.fit(X_train, y_train)\n",
    "print(\"Intercept: %s\" % str(fitted_model.intercept_))\n",
    "coef = pd.DataFrame({\"feature\":features,\"coefficient\":lr.coef_})\n",
    "coef"
   ]
  },
  {
   "cell_type": "code",
   "execution_count": null,
   "metadata": {},
   "outputs": [],
   "source": [
    "y_pred = fitted_model.predict(X_test)\n",
    "result = pd.DataFrame({'predicted_total_num_transaction': y_pred, 'true_total_num_transaction': y_test})\n",
    "result"
   ]
  },
  {
   "cell_type": "code",
   "execution_count": null,
   "metadata": {},
   "outputs": [],
   "source": [
    "result.loc[result['predicted_total_num_transaction']<=0]"
   ]
  },
  {
   "cell_type": "code",
   "execution_count": null,
   "metadata": {},
   "outputs": [],
   "source": [
    "print(\"r2 score:\", r2_score(y_pred, y_test))\n",
    "print(\"Mean Absolute Error:\", mean_absolute_error(y_pred, y_test))"
   ]
  },
  {
   "cell_type": "code",
   "execution_count": null,
   "metadata": {},
   "outputs": [],
   "source": [
    "# mean evaluation metrics of 10 fold CV\n",
    "scores = cross_validate(lr, X, y, cv=10, scoring=('r2', 'neg_mean_absolute_error'), return_train_score=True)\n",
    "print(\"train r2 score: %0.4f\" % scores['train_r2'].mean())\n",
    "print(\"test r2 score: %0.4f\" % scores['test_r2'].mean())\n",
    "print(\"train mean absolute error:: %0.4f\" % -scores['train_neg_mean_absolute_error'].mean())\n",
    "print(\"test mean absolute error:: %0.4f\" % -scores['test_neg_mean_absolute_error'].mean())"
   ]
  },
  {
   "cell_type": "markdown",
   "metadata": {},
   "source": [
    "### Neural Network"
   ]
  },
  {
   "cell_type": "code",
   "execution_count": null,
   "metadata": {},
   "outputs": [],
   "source": [
    "# scale train and test dataset in order to be standard normally distributed with zero mean\n",
    "sc_X = StandardScaler()\n",
    "X_trainscaled=sc_X.fit_transform(X_train)\n",
    "X_testscaled=sc_X.transform(X_test)\n",
    "\n",
    "mlp_reg = MLPRegressor(hidden_layer_sizes=(128,128,128,128),activation=\"relu\" ,solver = 'adam', random_state=30034, max_iter=20000)\\\n",
    "    .fit(X_trainscaled, y_train)\n",
    "y_pred = mlp_reg.predict(X_testscaled)\n",
    "print('r2 score:', r2_score(y_pred, y_test))\n",
    "print('mean absolute error:', mean_absolute_error(y_pred, y_test))\n",
    "\n",
    "df_result = pd.DataFrame({'predicted_total_num_transaction': y_pred, 'true_total_num_transaction': y_test})\n",
    "df_result\n"
   ]
  },
  {
   "cell_type": "markdown",
   "metadata": {},
   "source": [
    "## Model for BNPL Revenue"
   ]
  },
  {
   "cell_type": "markdown",
   "metadata": {},
   "source": [
    "### Linear Regression"
   ]
  },
  {
   "cell_type": "code",
   "execution_count": null,
   "metadata": {},
   "outputs": [],
   "source": [
    "# select useful features \n",
    "features = [i for i in train_df.columns if i not in labels]\n",
    "X = train_df[features]\n",
    "y = train_df['y_total_revenue']\n",
    "\n",
    "X_train, X_test, y_train, y_test = train_test_split(X, y, test_size=0.3, random_state=0)\n",
    "\n",
    "lr = LinearRegression()\n",
    "fitted_model = lr.fit(X_train, y_train)\n",
    "print(\"Intercept: %s\" % str(fitted_model.intercept_))\n",
    "coef = pd.DataFrame({\"feature\":features,\"coefficient\":lr.coef_})\n",
    "coef.head(10)\n"
   ]
  },
  {
   "cell_type": "code",
   "execution_count": null,
   "metadata": {},
   "outputs": [],
   "source": [
    "y_pred = fitted_model.predict(X_test)\n",
    "result = pd.DataFrame({'predicted_total_revenue': y_pred, 'true_total_revenue': y_test})\n",
    "result"
   ]
  },
  {
   "cell_type": "code",
   "execution_count": null,
   "metadata": {},
   "outputs": [],
   "source": [
    "print(\"r2 score:\", r2_score(y_pred, y_test))\n",
    "print(\"Mean Absolute Error:\", mean_absolute_error(y_pred, y_test))"
   ]
  },
  {
   "cell_type": "code",
   "execution_count": null,
   "metadata": {},
   "outputs": [],
   "source": [
    "# mean evaluation metrics of 10 fold CV\n",
    "scores = cross_validate(lr, X, y, cv=10, scoring=('r2', 'neg_mean_absolute_error'), return_train_score=True)\n",
    "print(\"train r2 score: %0.4f\" % scores['train_r2'].mean())\n",
    "print(\"test r2 score: %0.4f\" % scores['test_r2'].mean())\n",
    "print(\"train mean absolute error:: %0.4f\" % -scores['train_neg_mean_absolute_error'].mean())\n",
    "print(\"test mean absolute error:: %0.4f\" % -scores['test_neg_mean_absolute_error'].mean())"
   ]
  },
  {
   "cell_type": "markdown",
   "metadata": {},
   "source": [
    "### Neural Network"
   ]
  },
  {
   "cell_type": "code",
   "execution_count": null,
   "metadata": {},
   "outputs": [],
   "source": [
    "# select useful features \n",
    "features = [i for i in train_df.columns if i not in labels]\n",
    "X = train_df[features]\n",
    "y = train_df['y_total_revenue']\n",
    "X_train, X_test, y_train, y_test = train_test_split(X, y, test_size=0.3, random_state=0)"
   ]
  },
  {
   "cell_type": "code",
   "execution_count": null,
   "metadata": {},
   "outputs": [],
   "source": [
    "# scale train and test dataset in order to be standard normally distributed with zero mean\n",
    "sc_X = StandardScaler()\n",
    "X_trainscaled=sc_X.fit_transform(X_train)\n",
    "X_testscaled=sc_X.transform(X_test)\n",
    "X_trainscaled.shape, X_testscaled.shape"
   ]
  },
  {
   "cell_type": "code",
   "execution_count": null,
   "metadata": {},
   "outputs": [],
   "source": [
    "mlp_reg = MLPRegressor(hidden_layer_sizes=(128,128,128,128),activation=\"relu\" ,solver = 'adam', random_state=0, max_iter=20000)\\\n",
    "    .fit(X_trainscaled, y_train)\n",
    "y_pred = mlp_reg.predict(X_testscaled)"
   ]
  },
  {
   "cell_type": "code",
   "execution_count": null,
   "metadata": {},
   "outputs": [],
   "source": [
    "df_result = pd.DataFrame({'predicted_total_revenue': y_pred, 'true_total_revenue': y_test})\n",
    "df_result"
   ]
  },
  {
   "cell_type": "code",
   "execution_count": null,
   "metadata": {},
   "outputs": [],
   "source": [
    "print('r2 score:', r2_score(y_pred, y_test))\n",
    "print('mean absolute error:', mean_absolute_error(y_pred, y_test))"
   ]
  },
  {
   "cell_type": "markdown",
   "metadata": {},
   "source": [
    "## Final Model\n",
    "For predicting **number of consumers and transactions** next year, Linear Regression and Neural Network produce similar results. **Linear regression** is chosen as the final model since it has better interpretability and requires less time to run the model. \n",
    "\n",
    "However, when predicting **total revenue**, we choose **Neural Network** as it shows a better performance with increased r2 score and decreased mean absolute error.\n"
   ]
  }
 ],
 "metadata": {
  "kernelspec": {
   "display_name": "Python 3.8.8",
   "language": "python",
   "name": "python3"
  },
  "language_info": {
   "codemirror_mode": {
    "name": "ipython",
    "version": 3
   },
   "file_extension": ".py",
   "mimetype": "text/x-python",
   "name": "python",
   "nbconvert_exporter": "python",
   "pygments_lexer": "ipython3",
   "version": "3.8.8"
  },
  "orig_nbformat": 4,
  "vscode": {
   "interpreter": {
    "hash": "703e593df40508a60fa363339ca2bbb5bae045b0a530fb0e89bc3e7c255f1da9"
   }
  }
 },
 "nbformat": 4,
 "nbformat_minor": 2
}
