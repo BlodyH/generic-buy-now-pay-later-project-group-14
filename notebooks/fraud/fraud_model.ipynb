{
 "cells": [
  {
   "cell_type": "markdown",
   "metadata": {},
   "source": [
    "## import library"
   ]
  },
  {
   "cell_type": "code",
   "execution_count": 1,
   "metadata": {},
   "outputs": [],
   "source": [
    "from pyspark.sql import SparkSession\n",
    "from pyspark.sql import functions as F\n",
    "import pandas as pd\n",
    "\n",
    "from pyspark.ml.feature import StringIndexer\n",
    "from pyspark.ml import Pipeline \n",
    "from pyspark.ml.feature import VectorAssembler \n",
    "from pyspark.ml.feature import OneHotEncoder\n",
    "from pyspark.sql.functions import rand\n",
    "from pyspark.ml.classification import LogisticRegression\n",
    "from pyspark.ml.evaluation import MulticlassClassificationEvaluator"
   ]
  },
  {
   "cell_type": "code",
   "execution_count": 2,
   "metadata": {},
   "outputs": [],
   "source": [
    "# Create a spark session (which will run spark jobs)\n",
    "spark = (\n",
    "    SparkSession.builder.appName(\"MAST30034 Project 2\")\n",
    "    .config(\"spark.sql.repl.eagerEval.enabled\", True) \n",
    "    .config(\"spark.sql.parquet.cacheMetadata\", \"true\")\n",
    "    .config(\"spark.sql.session.timeZone\", \"Etc/UTC\")\n",
    "    .config(\"spark.driver.memory\", \"2g\")\n",
    "    .config(\"spark.executer.memory\", \"4g\")\n",
    "    .getOrCreate()\n",
    ")"
   ]
  },
  {
   "cell_type": "markdown",
   "metadata": {},
   "source": [
    "## preprocessing"
   ]
  },
  {
   "cell_type": "markdown",
   "metadata": {},
   "source": [
    "### load data"
   ]
  },
  {
   "cell_type": "code",
   "execution_count": 3,
   "metadata": {},
   "outputs": [],
   "source": [
    "full = spark.read.parquet(\"../../data/curated/full_data/\")"
   ]
  },
  {
   "cell_type": "code",
   "execution_count": 4,
   "metadata": {},
   "outputs": [],
   "source": [
    "probs_merchant = spark.read.option('header', True).csv('../../data/tables/merchant_fraud_probability.csv')\n",
    "probs_consumer= spark.read.option('header', True).csv('../../data/tables/consumer_fraud_probability.csv')"
   ]
  },
  {
   "cell_type": "markdown",
   "metadata": {},
   "source": [
    "### Merge tables"
   ]
  },
  {
   "cell_type": "code",
   "execution_count": 5,
   "metadata": {},
   "outputs": [
    {
     "name": "stdout",
     "output_type": "stream",
     "text": [
      "root\n",
      " |-- user_id: long (nullable = true)\n",
      " |-- SA2_code: integer (nullable = true)\n",
      " |-- postcode: integer (nullable = true)\n",
      " |-- consumer_id: integer (nullable = true)\n",
      " |-- state: string (nullable = true)\n",
      " |-- gender: string (nullable = true)\n",
      " |-- mean_total_income: integer (nullable = true)\n",
      " |-- merchant_abn: long (nullable = true)\n",
      " |-- dollar_value: double (nullable = true)\n",
      " |-- order_id: string (nullable = true)\n",
      " |-- order_datetime: date (nullable = true)\n",
      " |-- name: string (nullable = true)\n",
      " |-- tags: string (nullable = true)\n",
      " |-- revenue_level: string (nullable = true)\n",
      " |-- take_rate: double (nullable = true)\n",
      "\n"
     ]
    }
   ],
   "source": [
    "full.printSchema()"
   ]
  },
  {
   "cell_type": "code",
   "execution_count": 6,
   "metadata": {},
   "outputs": [
    {
     "name": "stdout",
     "output_type": "stream",
     "text": [
      "root\n",
      " |-- user_id: string (nullable = true)\n",
      " |-- order_datetime: string (nullable = true)\n",
      " |-- fraud_probability: string (nullable = true)\n",
      "\n"
     ]
    }
   ],
   "source": [
    "probs_consumer.printSchema()"
   ]
  },
  {
   "cell_type": "code",
   "execution_count": 7,
   "metadata": {},
   "outputs": [],
   "source": [
    "probs_consumer =  probs_consumer.withColumn('user_id', F.col('user_id').cast('long'))\\\n",
    "                                .withColumn('fraud_probability', F.col('fraud_probability').cast('float'))"
   ]
  },
  {
   "cell_type": "code",
   "execution_count": 8,
   "metadata": {},
   "outputs": [
    {
     "name": "stdout",
     "output_type": "stream",
     "text": [
      "root\n",
      " |-- merchant_abn: string (nullable = true)\n",
      " |-- order_datetime: string (nullable = true)\n",
      " |-- fraud_probability: string (nullable = true)\n",
      "\n"
     ]
    }
   ],
   "source": [
    "probs_merchant.printSchema()"
   ]
  },
  {
   "cell_type": "code",
   "execution_count": 9,
   "metadata": {},
   "outputs": [],
   "source": [
    "probs_merchant =  probs_merchant.withColumn('merchant_abn', F.col('merchant_abn').cast('long'))\\\n",
    "                                .withColumn('fraud_probability', F.col('fraud_probability').cast('float'))"
   ]
  },
  {
   "cell_type": "code",
   "execution_count": 10,
   "metadata": {},
   "outputs": [],
   "source": [
    "# merge transaction file with merchants'/consumers' fraud probability based on merchant abn or user id respectively by left join\n",
    "full = full.join(probs_merchant, on = ['merchant_abn', 'order_datetime'], how = 'left').withColumnRenamed('fraud_probability', 'merchant_prob')\n",
    "full = full.join(probs_consumer, on = ['user_id', 'order_datetime'], how = 'left').withColumnRenamed('fraud_probability', 'consumer_prob')"
   ]
  },
  {
   "cell_type": "code",
   "execution_count": 11,
   "metadata": {},
   "outputs": [],
   "source": [
    "# replace all the missing value with 0.01 as default fraud prob\n",
    "full = full.na.fill(value=0.01, subset=['merchant_prob', 'consumer_prob'])"
   ]
  },
  {
   "cell_type": "code",
   "execution_count": 12,
   "metadata": {},
   "outputs": [
    {
     "data": {
      "text/html": [
       "<table border='1'>\n",
       "<tr><th>user_id</th><th>order_datetime</th><th>merchant_abn</th><th>SA2_code</th><th>postcode</th><th>consumer_id</th><th>state</th><th>gender</th><th>mean_total_income</th><th>dollar_value</th><th>order_id</th><th>name</th><th>tags</th><th>revenue_level</th><th>take_rate</th><th>merchant_prob</th><th>consumer_prob</th><th>is_fraud</th></tr>\n",
       "<tr><td>44</td><td>2021-04-09</td><td>10648956813</td><td>401041015</td><td>5074</td><td>564558</td><td>SA</td><td>Undisclosed</td><td>53613</td><td>68.17405810943993</td><td>4d42fd2c-0823-4af...</td><td>Proin Nisl Institute</td><td>computer</td><td>a</td><td>6.66</td><td>0.01</td><td>0.01</td><td>0</td></tr>\n",
       "<tr><td>44</td><td>2022-06-21</td><td>16492082804</td><td>401041015</td><td>5074</td><td>564558</td><td>SA</td><td>Undisclosed</td><td>53613</td><td>26.901038254990674</td><td>ed201616-286b-461...</td><td>Et Malesuada Inst...</td><td>shoe</td><td>b</td><td>3.6</td><td>0.01</td><td>0.01</td><td>0</td></tr>\n",
       "<tr><td>44</td><td>2022-03-27</td><td>15115332331</td><td>401041015</td><td>5074</td><td>564558</td><td>SA</td><td>Undisclosed</td><td>53613</td><td>79.98167044943824</td><td>19ae7e83-e673-459...</td><td>In Consectetuer Ltd</td><td>florists</td><td>a</td><td>5.64</td><td>0.01</td><td>0.01</td><td>0</td></tr>\n",
       "<tr><td>44</td><td>2021-11-11</td><td>17739089622</td><td>401041015</td><td>5074</td><td>564558</td><td>SA</td><td>Undisclosed</td><td>53613</td><td>12.556313709152784</td><td>77bba8e7-8124-43e...</td><td>Auctor Quis Corp.</td><td>cable</td><td>b</td><td>5.01</td><td>0.01</td><td>0.01</td><td>0</td></tr>\n",
       "<tr><td>44</td><td>2022-05-23</td><td>21807339153</td><td>401041015</td><td>5074</td><td>564558</td><td>SA</td><td>Undisclosed</td><td>53613</td><td>31.204575778013815</td><td>10be6623-5f1b-456...</td><td>Praesent Eu LLP</td><td>digital goods</td><td>c</td><td>2.73</td><td>0.01</td><td>0.01</td><td>0</td></tr>\n",
       "<tr><td>44</td><td>2022-06-11</td><td>27504885147</td><td>401041015</td><td>5074</td><td>564558</td><td>SA</td><td>Undisclosed</td><td>53613</td><td>5.247280898834883</td><td>ccea177d-4368-41e...</td><td>Enim Ltd</td><td>gift</td><td>b</td><td>4.81</td><td>0.01</td><td>0.01</td><td>0</td></tr>\n",
       "<tr><td>44</td><td>2022-04-29</td><td>22961647681</td><td>401041015</td><td>5074</td><td>564558</td><td>SA</td><td>Undisclosed</td><td>53613</td><td>22.482302441089782</td><td>a262a794-8aab-463...</td><td>Vestibulum Ante C...</td><td>opticians</td><td>c</td><td>1.96</td><td>0.01</td><td>0.01</td><td>0</td></tr>\n",
       "<tr><td>44</td><td>2021-03-26</td><td>30122382323</td><td>401041015</td><td>5074</td><td>564558</td><td>SA</td><td>Undisclosed</td><td>53613</td><td>57.97616021380351</td><td>894752b5-f32c-4b5...</td><td>Ipsum Company</td><td>watch</td><td>b</td><td>3.36</td><td>0.01</td><td>0.01</td><td>0</td></tr>\n",
       "<tr><td>44</td><td>2022-08-28</td><td>35014882568</td><td>401041015</td><td>5074</td><td>564558</td><td>SA</td><td>Undisclosed</td><td>53613</td><td>43.67388081483236</td><td>f3126198-dd72-422...</td><td>Faucibus Corporation</td><td>digital goods</td><td>a</td><td>6.91</td><td>0.01</td><td>0.01</td><td>0</td></tr>\n",
       "<tr><td>44</td><td>2021-07-06</td><td>34096466752</td><td>401041015</td><td>5074</td><td>564558</td><td>SA</td><td>Undisclosed</td><td>53613</td><td>127.91174243430336</td><td>b33fb8e8-faf4-424...</td><td>Nullam Enim Ltd</td><td>computer</td><td>b</td><td>3.22</td><td>0.01</td><td>0.01</td><td>0</td></tr>\n",
       "<tr><td>44</td><td>2022-05-20</td><td>35014882568</td><td>401041015</td><td>5074</td><td>564558</td><td>SA</td><td>Undisclosed</td><td>53613</td><td>36.07183538190819</td><td>be7e7ec9-3ca9-4b9...</td><td>Faucibus Corporation</td><td>digital goods</td><td>a</td><td>6.91</td><td>0.01</td><td>0.01</td><td>0</td></tr>\n",
       "<tr><td>44</td><td>2021-04-08</td><td>38435278995</td><td>401041015</td><td>5074</td><td>564558</td><td>SA</td><td>Undisclosed</td><td>53613</td><td>56.22196422567881</td><td>f10f5c9e-0844-4e1...</td><td>Sed Consequat Corp.</td><td>hobby</td><td>a</td><td>6.17</td><td>0.01</td><td>0.01</td><td>0</td></tr>\n",
       "<tr><td>44</td><td>2022-08-25</td><td>35014882568</td><td>401041015</td><td>5074</td><td>564558</td><td>SA</td><td>Undisclosed</td><td>53613</td><td>88.7941767197474</td><td>4018595a-42d2-439...</td><td>Faucibus Corporation</td><td>digital goods</td><td>a</td><td>6.91</td><td>0.01</td><td>0.01</td><td>0</td></tr>\n",
       "<tr><td>44</td><td>2022-05-01</td><td>38435278995</td><td>401041015</td><td>5074</td><td>564558</td><td>SA</td><td>Undisclosed</td><td>53613</td><td>122.31050260931637</td><td>6dad3c44-60a9-49d...</td><td>Sed Consequat Corp.</td><td>hobby</td><td>a</td><td>6.17</td><td>0.01</td><td>0.01</td><td>0</td></tr>\n",
       "<tr><td>44</td><td>2022-08-11</td><td>41974958954</td><td>401041015</td><td>5074</td><td>564558</td><td>SA</td><td>Undisclosed</td><td>53613</td><td>94.55828051940587</td><td>ca74f11e-fad7-407...</td><td>Sed Libero Proin ...</td><td>cable</td><td>a</td><td>5.51</td><td>0.01</td><td>0.01</td><td>0</td></tr>\n",
       "<tr><td>44</td><td>2022-08-01</td><td>38736067045</td><td>401041015</td><td>5074</td><td>564558</td><td>SA</td><td>Undisclosed</td><td>53613</td><td>151.92901623654492</td><td>66f2f546-ddac-423...</td><td>Cras Lorem Institute</td><td>gift</td><td>a</td><td>6.32</td><td>0.01</td><td>0.01</td><td>0</td></tr>\n",
       "<tr><td>44</td><td>2021-10-20</td><td>41974958954</td><td>401041015</td><td>5074</td><td>564558</td><td>SA</td><td>Undisclosed</td><td>53613</td><td>60.02299315612368</td><td>cf13f2cc-5d81-413...</td><td>Sed Libero Proin ...</td><td>cable</td><td>a</td><td>5.51</td><td>0.01</td><td>0.01</td><td>0</td></tr>\n",
       "<tr><td>44</td><td>2022-03-30</td><td>46804135891</td><td>401041015</td><td>5074</td><td>564558</td><td>SA</td><td>Undisclosed</td><td>53613</td><td>61.20488192123454</td><td>095e6ea3-705e-44e...</td><td>Suspendisse Dui C...</td><td>opticians</td><td>c</td><td>2.93</td><td>0.01</td><td>0.01</td><td>0</td></tr>\n",
       "<tr><td>44</td><td>2021-04-13</td><td>49891706470</td><td>401041015</td><td>5074</td><td>564558</td><td>SA</td><td>Undisclosed</td><td>53613</td><td>15.272576482741101</td><td>e2a272ce-bb6b-43f...</td><td>Non Vestibulum In...</td><td>tent</td><td>a</td><td>5.8</td><td>0.01</td><td>0.01</td><td>0</td></tr>\n",
       "<tr><td>44</td><td>2022-10-01</td><td>46804135891</td><td>401041015</td><td>5074</td><td>564558</td><td>SA</td><td>Undisclosed</td><td>53613</td><td>0.4217195727312822</td><td>eba69ce9-e3f1-43f...</td><td>Suspendisse Dui C...</td><td>opticians</td><td>c</td><td>2.93</td><td>0.01</td><td>0.01</td><td>0</td></tr>\n",
       "</table>\n",
       "only showing top 20 rows\n"
      ],
      "text/plain": [
       "+-------+--------------+------------+---------+--------+-----------+-----+-----------+-----------------+------------------+--------------------+--------------------+-------------+-------------+---------+-------------+-------------+--------+\n",
       "|user_id|order_datetime|merchant_abn| SA2_code|postcode|consumer_id|state|     gender|mean_total_income|      dollar_value|            order_id|                name|         tags|revenue_level|take_rate|merchant_prob|consumer_prob|is_fraud|\n",
       "+-------+--------------+------------+---------+--------+-----------+-----+-----------+-----------------+------------------+--------------------+--------------------+-------------+-------------+---------+-------------+-------------+--------+\n",
       "|     44|    2021-04-09| 10648956813|401041015|    5074|     564558|   SA|Undisclosed|            53613| 68.17405810943993|4d42fd2c-0823-4af...|Proin Nisl Institute|     computer|            a|     6.66|         0.01|         0.01|       0|\n",
       "|     44|    2022-06-21| 16492082804|401041015|    5074|     564558|   SA|Undisclosed|            53613|26.901038254990674|ed201616-286b-461...|Et Malesuada Inst...|         shoe|            b|      3.6|         0.01|         0.01|       0|\n",
       "|     44|    2022-03-27| 15115332331|401041015|    5074|     564558|   SA|Undisclosed|            53613| 79.98167044943824|19ae7e83-e673-459...| In Consectetuer Ltd|     florists|            a|     5.64|         0.01|         0.01|       0|\n",
       "|     44|    2021-11-11| 17739089622|401041015|    5074|     564558|   SA|Undisclosed|            53613|12.556313709152784|77bba8e7-8124-43e...|   Auctor Quis Corp.|        cable|            b|     5.01|         0.01|         0.01|       0|\n",
       "|     44|    2022-05-23| 21807339153|401041015|    5074|     564558|   SA|Undisclosed|            53613|31.204575778013815|10be6623-5f1b-456...|     Praesent Eu LLP|digital goods|            c|     2.73|         0.01|         0.01|       0|\n",
       "|     44|    2022-06-11| 27504885147|401041015|    5074|     564558|   SA|Undisclosed|            53613| 5.247280898834883|ccea177d-4368-41e...|            Enim Ltd|         gift|            b|     4.81|         0.01|         0.01|       0|\n",
       "|     44|    2022-04-29| 22961647681|401041015|    5074|     564558|   SA|Undisclosed|            53613|22.482302441089782|a262a794-8aab-463...|Vestibulum Ante C...|    opticians|            c|     1.96|         0.01|         0.01|       0|\n",
       "|     44|    2021-03-26| 30122382323|401041015|    5074|     564558|   SA|Undisclosed|            53613| 57.97616021380351|894752b5-f32c-4b5...|       Ipsum Company|        watch|            b|     3.36|         0.01|         0.01|       0|\n",
       "|     44|    2022-08-28| 35014882568|401041015|    5074|     564558|   SA|Undisclosed|            53613| 43.67388081483236|f3126198-dd72-422...|Faucibus Corporation|digital goods|            a|     6.91|         0.01|         0.01|       0|\n",
       "|     44|    2021-07-06| 34096466752|401041015|    5074|     564558|   SA|Undisclosed|            53613|127.91174243430336|b33fb8e8-faf4-424...|     Nullam Enim Ltd|     computer|            b|     3.22|         0.01|         0.01|       0|\n",
       "|     44|    2022-05-20| 35014882568|401041015|    5074|     564558|   SA|Undisclosed|            53613| 36.07183538190819|be7e7ec9-3ca9-4b9...|Faucibus Corporation|digital goods|            a|     6.91|         0.01|         0.01|       0|\n",
       "|     44|    2021-04-08| 38435278995|401041015|    5074|     564558|   SA|Undisclosed|            53613| 56.22196422567881|f10f5c9e-0844-4e1...| Sed Consequat Corp.|        hobby|            a|     6.17|         0.01|         0.01|       0|\n",
       "|     44|    2022-08-25| 35014882568|401041015|    5074|     564558|   SA|Undisclosed|            53613|  88.7941767197474|4018595a-42d2-439...|Faucibus Corporation|digital goods|            a|     6.91|         0.01|         0.01|       0|\n",
       "|     44|    2022-05-01| 38435278995|401041015|    5074|     564558|   SA|Undisclosed|            53613|122.31050260931637|6dad3c44-60a9-49d...| Sed Consequat Corp.|        hobby|            a|     6.17|         0.01|         0.01|       0|\n",
       "|     44|    2022-08-11| 41974958954|401041015|    5074|     564558|   SA|Undisclosed|            53613| 94.55828051940587|ca74f11e-fad7-407...|Sed Libero Proin ...|        cable|            a|     5.51|         0.01|         0.01|       0|\n",
       "|     44|    2022-08-01| 38736067045|401041015|    5074|     564558|   SA|Undisclosed|            53613|151.92901623654492|66f2f546-ddac-423...|Cras Lorem Institute|         gift|            a|     6.32|         0.01|         0.01|       0|\n",
       "|     44|    2021-10-20| 41974958954|401041015|    5074|     564558|   SA|Undisclosed|            53613| 60.02299315612368|cf13f2cc-5d81-413...|Sed Libero Proin ...|        cable|            a|     5.51|         0.01|         0.01|       0|\n",
       "|     44|    2022-03-30| 46804135891|401041015|    5074|     564558|   SA|Undisclosed|            53613| 61.20488192123454|095e6ea3-705e-44e...|Suspendisse Dui C...|    opticians|            c|     2.93|         0.01|         0.01|       0|\n",
       "|     44|    2021-04-13| 49891706470|401041015|    5074|     564558|   SA|Undisclosed|            53613|15.272576482741101|e2a272ce-bb6b-43f...|Non Vestibulum In...|         tent|            a|      5.8|         0.01|         0.01|       0|\n",
       "|     44|    2022-10-01| 46804135891|401041015|    5074|     564558|   SA|Undisclosed|            53613|0.4217195727312822|eba69ce9-e3f1-43f...|Suspendisse Dui C...|    opticians|            c|     2.93|         0.01|         0.01|       0|\n",
       "+-------+--------------+------------+---------+--------+-----------+-----+-----------+-----------------+------------------+--------------------+--------------------+-------------+-------------+---------+-------------+-------------+--------+\n",
       "only showing top 20 rows"
      ]
     },
     "execution_count": 12,
     "metadata": {},
     "output_type": "execute_result"
    }
   ],
   "source": [
    "# We set benchmark as 5%, because we focus on False Positive instead of False Negative\n",
    "full = full.withColumn('is_fraud', F.when((F.col('merchant_prob') > 5) | (F.col('consumer_prob') > 5), 1).otherwise(0))\n",
    "full"
   ]
  },
  {
   "cell_type": "code",
   "execution_count": 13,
   "metadata": {},
   "outputs": [
    {
     "name": "stdout",
     "output_type": "stream",
     "text": [
      "In 13614854 transactions, 75455 are detected as fraud\n"
     ]
    }
   ],
   "source": [
    "print('In {} transactions, {} are detected as fraud'.format(full.count(), full.filter(F.col('is_fraud') == 1).count()))"
   ]
  },
  {
   "cell_type": "code",
   "execution_count": 14,
   "metadata": {},
   "outputs": [],
   "source": [
    "full = full.filter(F.col('dollar_value') >= 1).na.drop(subset = 'name')"
   ]
  },
  {
   "cell_type": "code",
   "execution_count": 15,
   "metadata": {},
   "outputs": [
    {
     "name": "stdout",
     "output_type": "stream",
     "text": [
      "root\n",
      " |-- user_id: long (nullable = true)\n",
      " |-- order_datetime: date (nullable = true)\n",
      " |-- merchant_abn: long (nullable = true)\n",
      " |-- SA2_code: integer (nullable = true)\n",
      " |-- postcode: integer (nullable = true)\n",
      " |-- consumer_id: integer (nullable = true)\n",
      " |-- state: string (nullable = true)\n",
      " |-- gender: string (nullable = true)\n",
      " |-- mean_total_income: integer (nullable = true)\n",
      " |-- dollar_value: double (nullable = true)\n",
      " |-- order_id: string (nullable = true)\n",
      " |-- name: string (nullable = true)\n",
      " |-- tags: string (nullable = true)\n",
      " |-- revenue_level: string (nullable = true)\n",
      " |-- take_rate: double (nullable = true)\n",
      " |-- merchant_prob: float (nullable = false)\n",
      " |-- consumer_prob: float (nullable = false)\n",
      " |-- is_fraud: integer (nullable = false)\n",
      "\n"
     ]
    }
   ],
   "source": [
    "full.printSchema()"
   ]
  },
  {
   "cell_type": "code",
   "execution_count": 16,
   "metadata": {},
   "outputs": [],
   "source": [
    "full = full.withColumn('take_rate', F.col('take_rate').cast('float'))"
   ]
  },
  {
   "cell_type": "markdown",
   "metadata": {},
   "source": [
    "## Feature Engineering"
   ]
  },
  {
   "cell_type": "markdown",
   "metadata": {},
   "source": [
    "### bin numeric features"
   ]
  },
  {
   "cell_type": "code",
   "execution_count": 17,
   "metadata": {},
   "outputs": [],
   "source": [
    "#value_max = result.select('dollar_value').orderBy(F.col('dollar_value'),  ascending= False).collect()[0][0]"
   ]
  },
  {
   "cell_type": "code",
   "execution_count": 18,
   "metadata": {},
   "outputs": [],
   "source": [
    "#value_min = result.select('dollar_value').orderBy(F.col('dollar_value')).collect()[0][0]"
   ]
  },
  {
   "cell_type": "code",
   "execution_count": 19,
   "metadata": {},
   "outputs": [],
   "source": [
    "#print('dollar_value range:[{}, {}]'.format(value_min, value_max))"
   ]
  },
  {
   "cell_type": "code",
   "execution_count": 20,
   "metadata": {},
   "outputs": [],
   "source": [
    "# bins = []\n",
    "# i  = 0\n",
    "# while i <= 70000:\n",
    "#   bins.append(i)\n",
    "#   i += 200"
   ]
  },
  {
   "cell_type": "code",
   "execution_count": 21,
   "metadata": {},
   "outputs": [],
   "source": [
    "#bins.append(float('Inf'))"
   ]
  },
  {
   "cell_type": "code",
   "execution_count": 22,
   "metadata": {},
   "outputs": [],
   "source": [
    "#bucketizer = Bucketizer(splits=bins, inputCol=\"dollar_value\", outputCol=\"dollar_value_buckets\")\n",
    "#result = bucketizer.setHandleInvalid(\"keep\").transform(result)"
   ]
  },
  {
   "cell_type": "code",
   "execution_count": 23,
   "metadata": {},
   "outputs": [],
   "source": [
    "#result = result.withColumn('take_rate', F.col('take_rate').cast('double'))"
   ]
  },
  {
   "cell_type": "code",
   "execution_count": 24,
   "metadata": {},
   "outputs": [],
   "source": [
    "# take_rate_max = result.select('take_rate').orderBy(F.col('take_rate'),  ascending= False).collect()[0][0]\n",
    "# take_rate_min = result.select('take_rate').orderBy(F.col('take_rate')).collect()[0][0]"
   ]
  },
  {
   "cell_type": "code",
   "execution_count": 25,
   "metadata": {},
   "outputs": [],
   "source": [
    "# print('take_rate range:[{}, {}]'.format(take_rate_min, take_rate_max))"
   ]
  },
  {
   "cell_type": "code",
   "execution_count": 26,
   "metadata": {},
   "outputs": [],
   "source": [
    "# bucketizer = Bucketizer(splits=[0,1,2,3,4,5,6,7,8], inputCol=\"take_rate\", outputCol=\"take_rate_buckets\")\n",
    "# result = bucketizer.setHandleInvalid(\"keep\").transform(result)"
   ]
  },
  {
   "cell_type": "code",
   "execution_count": 27,
   "metadata": {},
   "outputs": [],
   "source": [
    "# result.printSchema()"
   ]
  },
  {
   "cell_type": "markdown",
   "metadata": {},
   "source": [
    "### Index ordinal features"
   ]
  },
  {
   "cell_type": "code",
   "execution_count": 28,
   "metadata": {},
   "outputs": [],
   "source": [
    "full =  full.withColumn('month', F.month('order_datetime'))"
   ]
  },
  {
   "cell_type": "code",
   "execution_count": 29,
   "metadata": {},
   "outputs": [],
   "source": [
    "indexed_features = ['revenue_level', 'tags', 'gender']"
   ]
  },
  {
   "cell_type": "code",
   "execution_count": 30,
   "metadata": {},
   "outputs": [
    {
     "data": {
      "text/plain": [
       "[StringIndexer_cbe3b1955ab1,\n",
       " StringIndexer_8131eea67ff7,\n",
       " StringIndexer_70674c697405]"
      ]
     },
     "execution_count": 30,
     "metadata": {},
     "output_type": "execute_result"
    }
   ],
   "source": [
    "# We give all values in non-numeric features an index in order to make it ordinal or one-hot encoded\n",
    "indexers =[]\n",
    "for col in indexed_features:\n",
    "  indexers.append(StringIndexer(inputCol=col, outputCol = col+\"_index\"))\n",
    "\n",
    "indexers"
   ]
  },
  {
   "cell_type": "code",
   "execution_count": 31,
   "metadata": {},
   "outputs": [],
   "source": [
    "pipeline = Pipeline(stages=indexers)"
   ]
  },
  {
   "cell_type": "code",
   "execution_count": 32,
   "metadata": {},
   "outputs": [],
   "source": [
    "indexed_result = pipeline.fit(full).transform(full)"
   ]
  },
  {
   "cell_type": "markdown",
   "metadata": {},
   "source": [
    "### One hot encoding"
   ]
  },
  {
   "cell_type": "code",
   "execution_count": 33,
   "metadata": {},
   "outputs": [],
   "source": [
    "categorical_features =  [\"tags_index\", \"gender_index\",\"month\"]"
   ]
  },
  {
   "cell_type": "code",
   "execution_count": 34,
   "metadata": {},
   "outputs": [
    {
     "data": {
      "text/plain": [
       "[OneHotEncoder_e692a7cd0b3d,\n",
       " OneHotEncoder_92d11c2b5d99,\n",
       " OneHotEncoder_60deea47bbba]"
      ]
     },
     "execution_count": 34,
     "metadata": {},
     "output_type": "execute_result"
    }
   ],
   "source": [
    "# one-hot-encoding the numeric indices\n",
    "ohe = []\n",
    "for f in categorical_features:\n",
    "  ohe.append(OneHotEncoder(inputCol=f, outputCol=f+\"OHE\"))\n",
    "\n",
    "ohe"
   ]
  },
  {
   "cell_type": "code",
   "execution_count": 35,
   "metadata": {},
   "outputs": [],
   "source": [
    "pipeline = Pipeline(stages=ohe)"
   ]
  },
  {
   "cell_type": "code",
   "execution_count": 36,
   "metadata": {},
   "outputs": [],
   "source": [
    "indexed_result = pipeline.fit(indexed_result).transform(indexed_result)"
   ]
  },
  {
   "cell_type": "code",
   "execution_count": 37,
   "metadata": {},
   "outputs": [
    {
     "name": "stdout",
     "output_type": "stream",
     "text": [
      "root\n",
      " |-- user_id: long (nullable = true)\n",
      " |-- order_datetime: date (nullable = true)\n",
      " |-- merchant_abn: long (nullable = true)\n",
      " |-- SA2_code: integer (nullable = true)\n",
      " |-- postcode: integer (nullable = true)\n",
      " |-- consumer_id: integer (nullable = true)\n",
      " |-- state: string (nullable = true)\n",
      " |-- gender: string (nullable = true)\n",
      " |-- mean_total_income: integer (nullable = true)\n",
      " |-- dollar_value: double (nullable = true)\n",
      " |-- order_id: string (nullable = true)\n",
      " |-- name: string (nullable = true)\n",
      " |-- tags: string (nullable = true)\n",
      " |-- revenue_level: string (nullable = true)\n",
      " |-- take_rate: float (nullable = true)\n",
      " |-- merchant_prob: float (nullable = false)\n",
      " |-- consumer_prob: float (nullable = false)\n",
      " |-- is_fraud: integer (nullable = false)\n",
      " |-- month: integer (nullable = true)\n",
      " |-- revenue_level_index: double (nullable = false)\n",
      " |-- tags_index: double (nullable = false)\n",
      " |-- gender_index: double (nullable = false)\n",
      " |-- tags_indexOHE: vector (nullable = true)\n",
      " |-- gender_indexOHE: vector (nullable = true)\n",
      " |-- monthOHE: vector (nullable = true)\n",
      "\n"
     ]
    }
   ],
   "source": [
    "indexed_result.printSchema()"
   ]
  },
  {
   "cell_type": "markdown",
   "metadata": {},
   "source": [
    "### Feature Selection and Vectorization"
   ]
  },
  {
   "cell_type": "code",
   "execution_count": 38,
   "metadata": {},
   "outputs": [],
   "source": [
    "feature_selected = ['dollar_value','take_rate','mean_total_income','monthOHE','revenue_level_index','tags_indexOHE','gender_indexOHE']"
   ]
  },
  {
   "cell_type": "code",
   "execution_count": 39,
   "metadata": {},
   "outputs": [],
   "source": [
    "assembler = VectorAssembler(inputCols=feature_selected ,outputCol='features')"
   ]
  },
  {
   "cell_type": "code",
   "execution_count": 40,
   "metadata": {},
   "outputs": [],
   "source": [
    "output = assembler.transform(indexed_result)"
   ]
  },
  {
   "cell_type": "code",
   "execution_count": 41,
   "metadata": {},
   "outputs": [],
   "source": [
    "final_data = output.filter(F.col('order_datetime') < '2022-02-28').select('features','is_fraud')"
   ]
  },
  {
   "cell_type": "code",
   "execution_count": 42,
   "metadata": {},
   "outputs": [
    {
     "data": {
      "text/plain": [
       "0.009780748354606692"
      ]
     },
     "execution_count": 42,
     "metadata": {},
     "output_type": "execute_result"
    }
   ],
   "source": [
    "(final_data.filter(F.col('is_fraud') == 1).count())/(final_data.filter(F.col('is_fraud') == 0).count())"
   ]
  },
  {
   "cell_type": "code",
   "execution_count": 43,
   "metadata": {},
   "outputs": [
    {
     "data": {
      "text/plain": [
       "(75108, 7679167)"
      ]
     },
     "execution_count": 43,
     "metadata": {},
     "output_type": "execute_result"
    }
   ],
   "source": [
    "final_data.filter(F.col('is_fraud') == 1).count(), final_data.filter(F.col('is_fraud') == 0).count()"
   ]
  },
  {
   "cell_type": "code",
   "execution_count": 44,
   "metadata": {},
   "outputs": [],
   "source": [
    "# imbalanced distribution of two classes. We decide to split the data according to their class and make the distribution balanced\n",
    "fraud_data = final_data.filter(F.col('is_fraud') == 1)\n",
    "normal_data = final_data.filter(F.col('is_fraud') == 0).randomSplit([0.01,0.99])[0]"
   ]
  },
  {
   "cell_type": "markdown",
   "metadata": {},
   "source": [
    "### set random seed?"
   ]
  },
  {
   "cell_type": "markdown",
   "metadata": {},
   "source": [
    "## Split data"
   ]
  },
  {
   "cell_type": "code",
   "execution_count": 45,
   "metadata": {},
   "outputs": [],
   "source": [
    "train_fraud,test_fraud = fraud_data.randomSplit([0.7,0.3])\n",
    "train_normal,test_normal = normal_data.randomSplit([0.7,0.3])"
   ]
  },
  {
   "cell_type": "code",
   "execution_count": 46,
   "metadata": {},
   "outputs": [],
   "source": [
    "train_data = train_fraud.union(train_normal).orderBy(rand())\n",
    "test_data = test_fraud.union(test_normal).orderBy(rand())"
   ]
  },
  {
   "cell_type": "code",
   "execution_count": 47,
   "metadata": {},
   "outputs": [
    {
     "data": {
      "text/plain": [
       "7754275"
      ]
     },
     "execution_count": 47,
     "metadata": {},
     "output_type": "execute_result"
    }
   ],
   "source": [
    "final_data.count()"
   ]
  },
  {
   "cell_type": "code",
   "execution_count": 48,
   "metadata": {},
   "outputs": [
    {
     "data": {
      "text/plain": [
       "(106503, 45581)"
      ]
     },
     "execution_count": 48,
     "metadata": {},
     "output_type": "execute_result"
    }
   ],
   "source": [
    "train_data.count(),test_data.count()"
   ]
  },
  {
   "cell_type": "markdown",
   "metadata": {},
   "source": [
    "## Logistic Regression"
   ]
  },
  {
   "cell_type": "code",
   "execution_count": 49,
   "metadata": {},
   "outputs": [],
   "source": [
    "lr = LogisticRegression(labelCol='is_fraud')"
   ]
  },
  {
   "cell_type": "code",
   "execution_count": 50,
   "metadata": {},
   "outputs": [
    {
     "data": {
      "text/plain": [
       "LogisticRegressionModel: uid=LogisticRegression_63864f74f7db, numClasses=2, numFeatures=41"
      ]
     },
     "execution_count": 50,
     "metadata": {},
     "output_type": "execute_result"
    }
   ],
   "source": [
    "fitted_model = lr.fit(train_data)\n",
    "fitted_model.setFeaturesCol(\"features\")\n",
    "fitted_model.setPredictionCol(\"prediction\")"
   ]
  },
  {
   "cell_type": "markdown",
   "metadata": {},
   "source": [
    "### Evaluation"
   ]
  },
  {
   "cell_type": "code",
   "execution_count": 51,
   "metadata": {},
   "outputs": [],
   "source": [
    "pred_and_labels = fitted_model.evaluate(test_data)"
   ]
  },
  {
   "cell_type": "code",
   "execution_count": 52,
   "metadata": {},
   "outputs": [],
   "source": [
    "score_and_label = pred_and_labels.predictions.select('prediction', 'is_fraud').withColumnRenamed('is_fraud', 'label')"
   ]
  },
  {
   "cell_type": "code",
   "execution_count": 53,
   "metadata": {},
   "outputs": [],
   "source": [
    "evaluator = MulticlassClassificationEvaluator()"
   ]
  },
  {
   "cell_type": "code",
   "execution_count": 54,
   "metadata": {},
   "outputs": [
    {
     "data": {
      "text/plain": [
       "MulticlassClassificationEvaluator_cd462c6eb4d0"
      ]
     },
     "execution_count": 54,
     "metadata": {},
     "output_type": "execute_result"
    }
   ],
   "source": [
    "evaluator.setPredictionCol(\"prediction\")"
   ]
  },
  {
   "cell_type": "code",
   "execution_count": 55,
   "metadata": {},
   "outputs": [
    {
     "name": "stdout",
     "output_type": "stream",
     "text": [
      "Accuracy: 0.732965062529167\n"
     ]
    }
   ],
   "source": [
    "print(\"Accuracy: \" + str(evaluator.evaluate(score_and_label)))"
   ]
  },
  {
   "cell_type": "code",
   "execution_count": 56,
   "metadata": {},
   "outputs": [],
   "source": [
    "tp = score_and_label.filter((F.col('prediction') == 1) & (F.col('label') == 1)).count()"
   ]
  },
  {
   "cell_type": "code",
   "execution_count": 57,
   "metadata": {},
   "outputs": [],
   "source": [
    "fn = score_and_label.filter((F.col('prediction') == 0) & (F.col('label') == 1)).count()"
   ]
  },
  {
   "cell_type": "code",
   "execution_count": 58,
   "metadata": {},
   "outputs": [
    {
     "name": "stdout",
     "output_type": "stream",
     "text": [
      "recall: 0.6806498868025037\n"
     ]
    }
   ],
   "source": [
    "recall = tp/(tp+fn)\n",
    "print('recall: ' + str(recall))"
   ]
  },
  {
   "cell_type": "markdown",
   "metadata": {},
   "source": [
    "## "
   ]
  },
  {
   "cell_type": "markdown",
   "metadata": {},
   "source": [
    "## Prediction"
   ]
  },
  {
   "cell_type": "code",
   "execution_count": 59,
   "metadata": {},
   "outputs": [],
   "source": [
    "train_data = output.filter(F.col('order_datetime') < '2022-02-28')\n",
    "predict_data = output.filter(F.col('order_datetime') >= '2022-02-28')"
   ]
  },
  {
   "cell_type": "code",
   "execution_count": 60,
   "metadata": {},
   "outputs": [],
   "source": [
    "fraud_data = train_data.filter(F.col('is_fraud') == 1)\n",
    "normal_data = train_data.filter(F.col('is_fraud') == 0).randomSplit([0.01,0.99])[0]"
   ]
  },
  {
   "cell_type": "code",
   "execution_count": 61,
   "metadata": {},
   "outputs": [],
   "source": [
    "train_data = fraud_data.union(normal_data).orderBy(rand())"
   ]
  },
  {
   "cell_type": "code",
   "execution_count": 62,
   "metadata": {},
   "outputs": [],
   "source": [
    "lr_final = LogisticRegression(labelCol='is_fraud')"
   ]
  },
  {
   "cell_type": "code",
   "execution_count": 64,
   "metadata": {},
   "outputs": [],
   "source": [
    "fitted_model = lr_final.fit(train_data)"
   ]
  },
  {
   "cell_type": "code",
   "execution_count": 65,
   "metadata": {},
   "outputs": [
    {
     "data": {
      "text/plain": [
       "LogisticRegressionModel: uid=LogisticRegression_2c1ff4df5e3c, numClasses=2, numFeatures=41"
      ]
     },
     "execution_count": 65,
     "metadata": {},
     "output_type": "execute_result"
    }
   ],
   "source": [
    "fitted_model.setFeaturesCol('features')\n",
    "fitted_model.setPredictionCol('is_fraud')"
   ]
  },
  {
   "cell_type": "code",
   "execution_count": 66,
   "metadata": {},
   "outputs": [],
   "source": [
    "predict_data = predict_data.drop(\"is_fraud\")\n",
    "predicted = fitted_model.transform(predict_data)"
   ]
  },
  {
   "cell_type": "code",
   "execution_count": 67,
   "metadata": {},
   "outputs": [],
   "source": [
    "cols = ['user_id','order_datetime','merchant_abn','SA2_code','postcode','consumer_id','state','gender','mean_total_income','dollar_value','order_id','name','tags','revenue_level','take_rate','is_fraud'\t]\n",
    "predicted =  predicted.select(cols)"
   ]
  },
  {
   "cell_type": "code",
   "execution_count": 68,
   "metadata": {},
   "outputs": [],
   "source": [
    "full = full.drop('merchant_prob', 'consumer_prob', 'month')"
   ]
  },
  {
   "cell_type": "code",
   "execution_count": 69,
   "metadata": {},
   "outputs": [
    {
     "data": {
      "text/plain": [
       "5749867"
      ]
     },
     "execution_count": 69,
     "metadata": {},
     "output_type": "execute_result"
    }
   ],
   "source": [
    "predicted.count()"
   ]
  },
  {
   "cell_type": "code",
   "execution_count": 70,
   "metadata": {},
   "outputs": [],
   "source": [
    "full = full.filter(F.col('order_datetime') < '2022-02-28')"
   ]
  },
  {
   "cell_type": "code",
   "execution_count": 71,
   "metadata": {},
   "outputs": [],
   "source": [
    "full = full.union(predicted)"
   ]
  },
  {
   "cell_type": "code",
   "execution_count": 72,
   "metadata": {},
   "outputs": [
    {
     "name": "stdout",
     "output_type": "stream",
     "text": [
      "root\n",
      " |-- user_id: long (nullable = true)\n",
      " |-- order_datetime: date (nullable = true)\n",
      " |-- merchant_abn: long (nullable = true)\n",
      " |-- SA2_code: integer (nullable = true)\n",
      " |-- postcode: integer (nullable = true)\n",
      " |-- consumer_id: integer (nullable = true)\n",
      " |-- state: string (nullable = true)\n",
      " |-- gender: string (nullable = true)\n",
      " |-- mean_total_income: integer (nullable = true)\n",
      " |-- dollar_value: double (nullable = true)\n",
      " |-- order_id: string (nullable = true)\n",
      " |-- name: string (nullable = true)\n",
      " |-- tags: string (nullable = true)\n",
      " |-- revenue_level: string (nullable = true)\n",
      " |-- take_rate: float (nullable = true)\n",
      " |-- is_fraud: double (nullable = false)\n",
      "\n"
     ]
    }
   ],
   "source": [
    "full.printSchema()"
   ]
  },
  {
   "cell_type": "code",
   "execution_count": 74,
   "metadata": {},
   "outputs": [],
   "source": [
    "full = full.withColumn(\"is_fraud\", F.col(\"is_fraud\").cast(\"INT\"))"
   ]
  },
  {
   "cell_type": "code",
   "execution_count": 75,
   "metadata": {},
   "outputs": [
    {
     "data": {
      "text/html": [
       "<table border='1'>\n",
       "<tr><th>user_id</th><th>order_datetime</th><th>merchant_abn</th><th>SA2_code</th><th>postcode</th><th>consumer_id</th><th>state</th><th>gender</th><th>mean_total_income</th><th>dollar_value</th><th>order_id</th><th>name</th><th>tags</th><th>revenue_level</th><th>take_rate</th><th>is_fraud</th></tr>\n",
       "<tr><td>44</td><td>2021-04-09</td><td>10648956813</td><td>401041015</td><td>5074</td><td>564558</td><td>SA</td><td>Undisclosed</td><td>53613</td><td>68.17405810943993</td><td>4d42fd2c-0823-4af...</td><td>Proin Nisl Institute</td><td>computer</td><td>a</td><td>6.66</td><td>0</td></tr>\n",
       "<tr><td>44</td><td>2021-11-11</td><td>17739089622</td><td>401041015</td><td>5074</td><td>564558</td><td>SA</td><td>Undisclosed</td><td>53613</td><td>12.556313709152784</td><td>77bba8e7-8124-43e...</td><td>Auctor Quis Corp.</td><td>cable</td><td>b</td><td>5.01</td><td>0</td></tr>\n",
       "<tr><td>44</td><td>2021-03-26</td><td>30122382323</td><td>401041015</td><td>5074</td><td>564558</td><td>SA</td><td>Undisclosed</td><td>53613</td><td>57.97616021380351</td><td>894752b5-f32c-4b5...</td><td>Ipsum Company</td><td>watch</td><td>b</td><td>3.36</td><td>0</td></tr>\n",
       "<tr><td>44</td><td>2021-07-06</td><td>34096466752</td><td>401041015</td><td>5074</td><td>564558</td><td>SA</td><td>Undisclosed</td><td>53613</td><td>127.91174243430336</td><td>b33fb8e8-faf4-424...</td><td>Nullam Enim Ltd</td><td>computer</td><td>b</td><td>3.22</td><td>0</td></tr>\n",
       "<tr><td>44</td><td>2021-04-08</td><td>38435278995</td><td>401041015</td><td>5074</td><td>564558</td><td>SA</td><td>Undisclosed</td><td>53613</td><td>56.22196422567881</td><td>f10f5c9e-0844-4e1...</td><td>Sed Consequat Corp.</td><td>hobby</td><td>a</td><td>6.17</td><td>0</td></tr>\n",
       "<tr><td>44</td><td>2021-10-20</td><td>41974958954</td><td>401041015</td><td>5074</td><td>564558</td><td>SA</td><td>Undisclosed</td><td>53613</td><td>60.02299315612368</td><td>cf13f2cc-5d81-413...</td><td>Sed Libero Proin ...</td><td>cable</td><td>a</td><td>5.51</td><td>0</td></tr>\n",
       "<tr><td>44</td><td>2021-04-13</td><td>49891706470</td><td>401041015</td><td>5074</td><td>564558</td><td>SA</td><td>Undisclosed</td><td>53613</td><td>15.272576482741101</td><td>e2a272ce-bb6b-43f...</td><td>Non Vestibulum In...</td><td>tent</td><td>a</td><td>5.8</td><td>0</td></tr>\n",
       "<tr><td>44</td><td>2021-12-01</td><td>49891706470</td><td>401041015</td><td>5074</td><td>564558</td><td>SA</td><td>Undisclosed</td><td>53613</td><td>6.1436338479183785</td><td>43a40900-af31-421...</td><td>Non Vestibulum In...</td><td>tent</td><td>a</td><td>5.8</td><td>0</td></tr>\n",
       "<tr><td>44</td><td>2022-01-19</td><td>49891706470</td><td>401041015</td><td>5074</td><td>564558</td><td>SA</td><td>Undisclosed</td><td>53613</td><td>32.38049155067601</td><td>fe3929b0-d4c6-408...</td><td>Non Vestibulum In...</td><td>tent</td><td>a</td><td>5.8</td><td>0</td></tr>\n",
       "<tr><td>44</td><td>2021-04-02</td><td>46804135891</td><td>401041015</td><td>5074</td><td>564558</td><td>SA</td><td>Undisclosed</td><td>53613</td><td>33.11945261885712</td><td>c0e6fffc-3f10-403...</td><td>Suspendisse Dui C...</td><td>opticians</td><td>c</td><td>2.93</td><td>0</td></tr>\n",
       "<tr><td>44</td><td>2021-11-02</td><td>46804135891</td><td>401041015</td><td>5074</td><td>564558</td><td>SA</td><td>Undisclosed</td><td>53613</td><td>1.2258967160843761</td><td>0b23c035-a6f1-495...</td><td>Suspendisse Dui C...</td><td>opticians</td><td>c</td><td>2.93</td><td>0</td></tr>\n",
       "<tr><td>44</td><td>2021-08-13</td><td>46804135891</td><td>401041015</td><td>5074</td><td>564558</td><td>SA</td><td>Undisclosed</td><td>53613</td><td>4.296693601901352</td><td>92764bd2-3f87-4eb...</td><td>Suspendisse Dui C...</td><td>opticians</td><td>c</td><td>2.93</td><td>0</td></tr>\n",
       "<tr><td>44</td><td>2021-05-21</td><td>46804135891</td><td>401041015</td><td>5074</td><td>564558</td><td>SA</td><td>Undisclosed</td><td>53613</td><td>6.040591935924149</td><td>4b9dadc2-7b11-469...</td><td>Suspendisse Dui C...</td><td>opticians</td><td>c</td><td>2.93</td><td>0</td></tr>\n",
       "<tr><td>44</td><td>2021-06-04</td><td>46804135891</td><td>401041015</td><td>5074</td><td>564558</td><td>SA</td><td>Undisclosed</td><td>53613</td><td>36.116862054708626</td><td>60a17d20-0b14-47b...</td><td>Suspendisse Dui C...</td><td>opticians</td><td>c</td><td>2.93</td><td>0</td></tr>\n",
       "<tr><td>44</td><td>2021-07-20</td><td>49891706470</td><td>401041015</td><td>5074</td><td>564558</td><td>SA</td><td>Undisclosed</td><td>53613</td><td>25.611929292222403</td><td>9d3f75e2-f164-42c...</td><td>Non Vestibulum In...</td><td>tent</td><td>a</td><td>5.8</td><td>0</td></tr>\n",
       "<tr><td>44</td><td>2021-06-29</td><td>49891706470</td><td>401041015</td><td>5074</td><td>564558</td><td>SA</td><td>Undisclosed</td><td>53613</td><td>9.534770249908876</td><td>59ec83dc-bc56-4f0...</td><td>Non Vestibulum In...</td><td>tent</td><td>a</td><td>5.8</td><td>0</td></tr>\n",
       "<tr><td>44</td><td>2021-03-14</td><td>52959528548</td><td>401041015</td><td>5074</td><td>564558</td><td>SA</td><td>Undisclosed</td><td>53613</td><td>17.628887647459486</td><td>cff3bb05-ab37-41f...</td><td>Libero Et Limited</td><td>furniture</td><td>c</td><td>1.94</td><td>0</td></tr>\n",
       "<tr><td>44</td><td>2022-02-07</td><td>55069630872</td><td>401041015</td><td>5074</td><td>564558</td><td>SA</td><td>Undisclosed</td><td>53613</td><td>197.22544036955924</td><td>4a320daf-9d96-4f0...</td><td>A Nunc Corp.</td><td>florists</td><td>b</td><td>4.27</td><td>0</td></tr>\n",
       "<tr><td>44</td><td>2021-09-17</td><td>52959528548</td><td>401041015</td><td>5074</td><td>564558</td><td>SA</td><td>Undisclosed</td><td>53613</td><td>75.64833191695038</td><td>34a62326-fa27-4f8...</td><td>Libero Et Limited</td><td>furniture</td><td>c</td><td>1.94</td><td>0</td></tr>\n",
       "<tr><td>44</td><td>2021-09-02</td><td>60706491699</td><td>401041015</td><td>5074</td><td>564558</td><td>SA</td><td>Undisclosed</td><td>53613</td><td>436.896849018642</td><td>46382f19-0cd6-400...</td><td>Gravida Praesent ...</td><td>health</td><td>b</td><td>4.24</td><td>0</td></tr>\n",
       "</table>\n",
       "only showing top 20 rows\n"
      ],
      "text/plain": [
       "+-------+--------------+------------+---------+--------+-----------+-----+-----------+-----------------+------------------+--------------------+--------------------+---------+-------------+---------+--------+\n",
       "|user_id|order_datetime|merchant_abn| SA2_code|postcode|consumer_id|state|     gender|mean_total_income|      dollar_value|            order_id|                name|     tags|revenue_level|take_rate|is_fraud|\n",
       "+-------+--------------+------------+---------+--------+-----------+-----+-----------+-----------------+------------------+--------------------+--------------------+---------+-------------+---------+--------+\n",
       "|     44|    2021-04-09| 10648956813|401041015|    5074|     564558|   SA|Undisclosed|            53613| 68.17405810943993|4d42fd2c-0823-4af...|Proin Nisl Institute| computer|            a|     6.66|       0|\n",
       "|     44|    2021-11-11| 17739089622|401041015|    5074|     564558|   SA|Undisclosed|            53613|12.556313709152784|77bba8e7-8124-43e...|   Auctor Quis Corp.|    cable|            b|     5.01|       0|\n",
       "|     44|    2021-03-26| 30122382323|401041015|    5074|     564558|   SA|Undisclosed|            53613| 57.97616021380351|894752b5-f32c-4b5...|       Ipsum Company|    watch|            b|     3.36|       0|\n",
       "|     44|    2021-07-06| 34096466752|401041015|    5074|     564558|   SA|Undisclosed|            53613|127.91174243430336|b33fb8e8-faf4-424...|     Nullam Enim Ltd| computer|            b|     3.22|       0|\n",
       "|     44|    2021-04-08| 38435278995|401041015|    5074|     564558|   SA|Undisclosed|            53613| 56.22196422567881|f10f5c9e-0844-4e1...| Sed Consequat Corp.|    hobby|            a|     6.17|       0|\n",
       "|     44|    2021-10-20| 41974958954|401041015|    5074|     564558|   SA|Undisclosed|            53613| 60.02299315612368|cf13f2cc-5d81-413...|Sed Libero Proin ...|    cable|            a|     5.51|       0|\n",
       "|     44|    2021-04-13| 49891706470|401041015|    5074|     564558|   SA|Undisclosed|            53613|15.272576482741101|e2a272ce-bb6b-43f...|Non Vestibulum In...|     tent|            a|      5.8|       0|\n",
       "|     44|    2021-12-01| 49891706470|401041015|    5074|     564558|   SA|Undisclosed|            53613|6.1436338479183785|43a40900-af31-421...|Non Vestibulum In...|     tent|            a|      5.8|       0|\n",
       "|     44|    2022-01-19| 49891706470|401041015|    5074|     564558|   SA|Undisclosed|            53613| 32.38049155067601|fe3929b0-d4c6-408...|Non Vestibulum In...|     tent|            a|      5.8|       0|\n",
       "|     44|    2021-04-02| 46804135891|401041015|    5074|     564558|   SA|Undisclosed|            53613| 33.11945261885712|c0e6fffc-3f10-403...|Suspendisse Dui C...|opticians|            c|     2.93|       0|\n",
       "|     44|    2021-11-02| 46804135891|401041015|    5074|     564558|   SA|Undisclosed|            53613|1.2258967160843761|0b23c035-a6f1-495...|Suspendisse Dui C...|opticians|            c|     2.93|       0|\n",
       "|     44|    2021-08-13| 46804135891|401041015|    5074|     564558|   SA|Undisclosed|            53613| 4.296693601901352|92764bd2-3f87-4eb...|Suspendisse Dui C...|opticians|            c|     2.93|       0|\n",
       "|     44|    2021-05-21| 46804135891|401041015|    5074|     564558|   SA|Undisclosed|            53613| 6.040591935924149|4b9dadc2-7b11-469...|Suspendisse Dui C...|opticians|            c|     2.93|       0|\n",
       "|     44|    2021-06-04| 46804135891|401041015|    5074|     564558|   SA|Undisclosed|            53613|36.116862054708626|60a17d20-0b14-47b...|Suspendisse Dui C...|opticians|            c|     2.93|       0|\n",
       "|     44|    2021-07-20| 49891706470|401041015|    5074|     564558|   SA|Undisclosed|            53613|25.611929292222403|9d3f75e2-f164-42c...|Non Vestibulum In...|     tent|            a|      5.8|       0|\n",
       "|     44|    2021-06-29| 49891706470|401041015|    5074|     564558|   SA|Undisclosed|            53613| 9.534770249908876|59ec83dc-bc56-4f0...|Non Vestibulum In...|     tent|            a|      5.8|       0|\n",
       "|     44|    2021-03-14| 52959528548|401041015|    5074|     564558|   SA|Undisclosed|            53613|17.628887647459486|cff3bb05-ab37-41f...|   Libero Et Limited|furniture|            c|     1.94|       0|\n",
       "|     44|    2022-02-07| 55069630872|401041015|    5074|     564558|   SA|Undisclosed|            53613|197.22544036955924|4a320daf-9d96-4f0...|        A Nunc Corp.| florists|            b|     4.27|       0|\n",
       "|     44|    2021-09-17| 52959528548|401041015|    5074|     564558|   SA|Undisclosed|            53613| 75.64833191695038|34a62326-fa27-4f8...|   Libero Et Limited|furniture|            c|     1.94|       0|\n",
       "|     44|    2021-09-02| 60706491699|401041015|    5074|     564558|   SA|Undisclosed|            53613|  436.896849018642|46382f19-0cd6-400...|Gravida Praesent ...|   health|            b|     4.24|       0|\n",
       "+-------+--------------+------------+---------+--------+-----------+-----+-----------+-----------------+------------------+--------------------+--------------------+---------+-------------+---------+--------+\n",
       "only showing top 20 rows"
      ]
     },
     "execution_count": 75,
     "metadata": {},
     "output_type": "execute_result"
    }
   ],
   "source": [
    "full.cache()"
   ]
  },
  {
   "cell_type": "code",
   "execution_count": 76,
   "metadata": {},
   "outputs": [],
   "source": [
    "## underlying files have been updated. explicitly invalidate the cache\n",
    "full.createOrReplaceTempView(\"full_data_with_lable\")"
   ]
  },
  {
   "cell_type": "code",
   "execution_count": 77,
   "metadata": {},
   "outputs": [],
   "source": [
    "query = \"REFRESH TABLE full_data_with_lable\" "
   ]
  },
  {
   "cell_type": "code",
   "execution_count": 78,
   "metadata": {},
   "outputs": [
    {
     "data": {
      "text/html": [
       "<table border='1'>\n",
       "<tr><th></th></tr>\n",
       "</table>\n"
      ],
      "text/plain": [
       "++\n",
       "||\n",
       "++\n",
       "++"
      ]
     },
     "execution_count": 78,
     "metadata": {},
     "output_type": "execute_result"
    }
   ],
   "source": [
    "spark.sql(query)"
   ]
  },
  {
   "cell_type": "code",
   "execution_count": 79,
   "metadata": {},
   "outputs": [],
   "source": [
    "full.write.format('parquet').mode('overwrite').save(\"../../data/curated/full_data_with_fraud\")"
   ]
  },
  {
   "cell_type": "code",
   "execution_count": 80,
   "metadata": {},
   "outputs": [
    {
     "data": {
      "text/html": [
       "<table border='1'>\n",
       "<tr><th>user_id</th><th>order_datetime</th><th>merchant_abn</th><th>SA2_code</th><th>postcode</th><th>consumer_id</th><th>state</th><th>gender</th><th>mean_total_income</th><th>dollar_value</th><th>order_id</th><th>name</th><th>tags</th><th>revenue_level</th><th>take_rate</th><th>is_fraud</th></tr>\n",
       "<tr><td>44</td><td>2021-04-09</td><td>10648956813</td><td>401041015</td><td>5074</td><td>564558</td><td>SA</td><td>Undisclosed</td><td>53613</td><td>68.17405810943993</td><td>4d42fd2c-0823-4af...</td><td>Proin Nisl Institute</td><td>computer</td><td>a</td><td>6.66</td><td>0</td></tr>\n",
       "<tr><td>44</td><td>2021-11-11</td><td>17739089622</td><td>401041015</td><td>5074</td><td>564558</td><td>SA</td><td>Undisclosed</td><td>53613</td><td>12.556313709152784</td><td>77bba8e7-8124-43e...</td><td>Auctor Quis Corp.</td><td>cable</td><td>b</td><td>5.01</td><td>0</td></tr>\n",
       "<tr><td>44</td><td>2021-03-26</td><td>30122382323</td><td>401041015</td><td>5074</td><td>564558</td><td>SA</td><td>Undisclosed</td><td>53613</td><td>57.97616021380351</td><td>894752b5-f32c-4b5...</td><td>Ipsum Company</td><td>watch</td><td>b</td><td>3.36</td><td>0</td></tr>\n",
       "<tr><td>44</td><td>2021-07-06</td><td>34096466752</td><td>401041015</td><td>5074</td><td>564558</td><td>SA</td><td>Undisclosed</td><td>53613</td><td>127.91174243430336</td><td>b33fb8e8-faf4-424...</td><td>Nullam Enim Ltd</td><td>computer</td><td>b</td><td>3.22</td><td>0</td></tr>\n",
       "<tr><td>44</td><td>2021-04-08</td><td>38435278995</td><td>401041015</td><td>5074</td><td>564558</td><td>SA</td><td>Undisclosed</td><td>53613</td><td>56.22196422567881</td><td>f10f5c9e-0844-4e1...</td><td>Sed Consequat Corp.</td><td>hobby</td><td>a</td><td>6.17</td><td>0</td></tr>\n",
       "<tr><td>44</td><td>2021-10-20</td><td>41974958954</td><td>401041015</td><td>5074</td><td>564558</td><td>SA</td><td>Undisclosed</td><td>53613</td><td>60.02299315612368</td><td>cf13f2cc-5d81-413...</td><td>Sed Libero Proin ...</td><td>cable</td><td>a</td><td>5.51</td><td>0</td></tr>\n",
       "<tr><td>44</td><td>2021-04-13</td><td>49891706470</td><td>401041015</td><td>5074</td><td>564558</td><td>SA</td><td>Undisclosed</td><td>53613</td><td>15.272576482741101</td><td>e2a272ce-bb6b-43f...</td><td>Non Vestibulum In...</td><td>tent</td><td>a</td><td>5.8</td><td>0</td></tr>\n",
       "<tr><td>44</td><td>2021-12-01</td><td>49891706470</td><td>401041015</td><td>5074</td><td>564558</td><td>SA</td><td>Undisclosed</td><td>53613</td><td>6.1436338479183785</td><td>43a40900-af31-421...</td><td>Non Vestibulum In...</td><td>tent</td><td>a</td><td>5.8</td><td>0</td></tr>\n",
       "<tr><td>44</td><td>2022-01-19</td><td>49891706470</td><td>401041015</td><td>5074</td><td>564558</td><td>SA</td><td>Undisclosed</td><td>53613</td><td>32.38049155067601</td><td>fe3929b0-d4c6-408...</td><td>Non Vestibulum In...</td><td>tent</td><td>a</td><td>5.8</td><td>0</td></tr>\n",
       "<tr><td>44</td><td>2021-04-02</td><td>46804135891</td><td>401041015</td><td>5074</td><td>564558</td><td>SA</td><td>Undisclosed</td><td>53613</td><td>33.11945261885712</td><td>c0e6fffc-3f10-403...</td><td>Suspendisse Dui C...</td><td>opticians</td><td>c</td><td>2.93</td><td>0</td></tr>\n",
       "<tr><td>44</td><td>2021-11-02</td><td>46804135891</td><td>401041015</td><td>5074</td><td>564558</td><td>SA</td><td>Undisclosed</td><td>53613</td><td>1.2258967160843761</td><td>0b23c035-a6f1-495...</td><td>Suspendisse Dui C...</td><td>opticians</td><td>c</td><td>2.93</td><td>0</td></tr>\n",
       "<tr><td>44</td><td>2021-08-13</td><td>46804135891</td><td>401041015</td><td>5074</td><td>564558</td><td>SA</td><td>Undisclosed</td><td>53613</td><td>4.296693601901352</td><td>92764bd2-3f87-4eb...</td><td>Suspendisse Dui C...</td><td>opticians</td><td>c</td><td>2.93</td><td>0</td></tr>\n",
       "<tr><td>44</td><td>2021-05-21</td><td>46804135891</td><td>401041015</td><td>5074</td><td>564558</td><td>SA</td><td>Undisclosed</td><td>53613</td><td>6.040591935924149</td><td>4b9dadc2-7b11-469...</td><td>Suspendisse Dui C...</td><td>opticians</td><td>c</td><td>2.93</td><td>0</td></tr>\n",
       "<tr><td>44</td><td>2021-06-04</td><td>46804135891</td><td>401041015</td><td>5074</td><td>564558</td><td>SA</td><td>Undisclosed</td><td>53613</td><td>36.116862054708626</td><td>60a17d20-0b14-47b...</td><td>Suspendisse Dui C...</td><td>opticians</td><td>c</td><td>2.93</td><td>0</td></tr>\n",
       "<tr><td>44</td><td>2021-07-20</td><td>49891706470</td><td>401041015</td><td>5074</td><td>564558</td><td>SA</td><td>Undisclosed</td><td>53613</td><td>25.611929292222403</td><td>9d3f75e2-f164-42c...</td><td>Non Vestibulum In...</td><td>tent</td><td>a</td><td>5.8</td><td>0</td></tr>\n",
       "<tr><td>44</td><td>2021-06-29</td><td>49891706470</td><td>401041015</td><td>5074</td><td>564558</td><td>SA</td><td>Undisclosed</td><td>53613</td><td>9.534770249908876</td><td>59ec83dc-bc56-4f0...</td><td>Non Vestibulum In...</td><td>tent</td><td>a</td><td>5.8</td><td>0</td></tr>\n",
       "<tr><td>44</td><td>2021-03-14</td><td>52959528548</td><td>401041015</td><td>5074</td><td>564558</td><td>SA</td><td>Undisclosed</td><td>53613</td><td>17.628887647459486</td><td>cff3bb05-ab37-41f...</td><td>Libero Et Limited</td><td>furniture</td><td>c</td><td>1.94</td><td>0</td></tr>\n",
       "<tr><td>44</td><td>2022-02-07</td><td>55069630872</td><td>401041015</td><td>5074</td><td>564558</td><td>SA</td><td>Undisclosed</td><td>53613</td><td>197.22544036955924</td><td>4a320daf-9d96-4f0...</td><td>A Nunc Corp.</td><td>florists</td><td>b</td><td>4.27</td><td>0</td></tr>\n",
       "<tr><td>44</td><td>2021-09-17</td><td>52959528548</td><td>401041015</td><td>5074</td><td>564558</td><td>SA</td><td>Undisclosed</td><td>53613</td><td>75.64833191695038</td><td>34a62326-fa27-4f8...</td><td>Libero Et Limited</td><td>furniture</td><td>c</td><td>1.94</td><td>0</td></tr>\n",
       "<tr><td>44</td><td>2021-09-02</td><td>60706491699</td><td>401041015</td><td>5074</td><td>564558</td><td>SA</td><td>Undisclosed</td><td>53613</td><td>436.896849018642</td><td>46382f19-0cd6-400...</td><td>Gravida Praesent ...</td><td>health</td><td>b</td><td>4.24</td><td>0</td></tr>\n",
       "</table>\n",
       "only showing top 20 rows\n"
      ],
      "text/plain": [
       "DataFrame[user_id: bigint, order_datetime: date, merchant_abn: bigint, SA2_code: int, postcode: int, consumer_id: int, state: string, gender: string, mean_total_income: int, dollar_value: double, order_id: string, name: string, tags: string, revenue_level: string, take_rate: float, is_fraud: int]"
      ]
     },
     "execution_count": 80,
     "metadata": {},
     "output_type": "execute_result"
    }
   ],
   "source": [
    "full.unpersist()"
   ]
  }
 ],
 "metadata": {
  "kernelspec": {
   "display_name": "Python 3.8.8",
   "language": "python",
   "name": "python3"
  },
  "language_info": {
   "codemirror_mode": {
    "name": "ipython",
    "version": 3
   },
   "file_extension": ".py",
   "mimetype": "text/x-python",
   "name": "python",
   "nbconvert_exporter": "python",
   "pygments_lexer": "ipython3",
   "version": "3.8.8"
  },
  "orig_nbformat": 4,
  "vscode": {
   "interpreter": {
    "hash": "703e593df40508a60fa363339ca2bbb5bae045b0a530fb0e89bc3e7c255f1da9"
   }
  }
 },
 "nbformat": 4,
 "nbformat_minor": 2
}
