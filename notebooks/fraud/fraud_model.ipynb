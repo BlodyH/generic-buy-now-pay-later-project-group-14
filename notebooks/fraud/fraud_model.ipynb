{
 "cells": [
  {
   "cell_type": "markdown",
   "metadata": {},
   "source": [
    "# Fraud Prediction Modelling"
   ]
  },
  {
   "cell_type": "code",
   "execution_count": 1,
   "metadata": {},
   "outputs": [],
   "source": [
    "from pyspark.sql import SparkSession\n",
    "from pyspark.sql import functions as F\n",
    "import pandas as pd\n",
    "\n",
    "from pyspark.mllib.classification import LogisticRegressionModel\n",
    "from pyspark.ml.feature import StringIndexer\n",
    "from pyspark.ml.feature import Bucketizer\n",
    "from pyspark.ml import Pipeline \n",
    "from pyspark.ml.feature import VectorAssembler "
   ]
  },
  {
   "cell_type": "code",
   "execution_count": 2,
   "metadata": {},
   "outputs": [
    {
     "name": "stderr",
     "output_type": "stream",
     "text": [
      "22/09/17 18:13:35 WARN NativeCodeLoader: Unable to load native-hadoop library for your platform... using builtin-java classes where applicable\n",
      "Using Spark's default log4j profile: org/apache/spark/log4j-defaults.properties\n",
      "Setting default log level to \"WARN\".\n",
      "To adjust logging level use sc.setLogLevel(newLevel). For SparkR, use setLogLevel(newLevel).\n",
      "22/09/17 18:13:36 WARN Utils: Service 'SparkUI' could not bind on port 4040. Attempting port 4041.\n",
      "22/09/17 18:13:36 WARN Utils: Service 'SparkUI' could not bind on port 4041. Attempting port 4042.\n"
     ]
    }
   ],
   "source": [
    "# Create a spark session (which will run spark jobs)\n",
    "spark = (\n",
    "    SparkSession.builder.appName(\"MAST30034 Project 2\")\n",
    "    .config(\"spark.sql.repl.eagerEval.enabled\", True) \n",
    "    .config(\"spark.sql.parquet.cacheMetadata\", \"true\")\n",
    "    .config(\"spark.sql.session.timeZone\", \"Etc/UTC\")\n",
    "    .config(\"spark.driver.memory\", \"2g\")\n",
    "    .config(\"spark.executer.memory\", \"4g\")\n",
    "    .getOrCreate()\n",
    ")"
   ]
  },
  {
   "cell_type": "markdown",
   "metadata": {},
   "source": [
    "## preprocessing"
   ]
  },
  {
   "cell_type": "markdown",
   "metadata": {},
   "source": [
    "### load data"
   ]
  },
  {
   "cell_type": "code",
   "execution_count": 4,
   "metadata": {},
   "outputs": [
    {
     "name": "stderr",
     "output_type": "stream",
     "text": [
      "                                                                                \r"
     ]
    }
   ],
   "source": [
    "transactions = spark.read.parquet('../../data/tables/transactions_20210228_20210827_snapshot')\\\n",
    "    .union(spark.read.parquet('../../data/tables/transactions_20210828_20220227_snapshot'))"
   ]
  },
  {
   "cell_type": "code",
   "execution_count": 6,
   "metadata": {},
   "outputs": [],
   "source": [
    "probs_merchant = spark.read.option('header', True).csv('../../data/tables/merchant_fraud_probability.csv')\n",
    "probs_consumer= spark.read.option('header', True).csv('../../data/tables/consumer_fraud_probability.csv')"
   ]
  },
  {
   "cell_type": "code",
   "execution_count": 26,
   "metadata": {},
   "outputs": [],
   "source": [
    "consumers = spark.read.parquet(\"../../data/curated/consumer/\")\n",
    "merchants = spark.read.option('header',True).csv(\"../../data/curated/merchant.csv\")"
   ]
  },
  {
   "cell_type": "code",
   "execution_count": 13,
   "metadata": {},
   "outputs": [
    {
     "name": "stdout",
     "output_type": "stream",
     "text": [
      "root\n",
      " |-- user_id: string (nullable = true)\n",
      " |-- merchant_abn: long (nullable = true)\n",
      " |-- dollar_value: double (nullable = true)\n",
      " |-- order_id: string (nullable = true)\n",
      " |-- order_datetime: string (nullable = true)\n",
      "\n"
     ]
    }
   ],
   "source": [
    "transactions.printSchema()"
   ]
  },
  {
   "cell_type": "code",
   "execution_count": 14,
   "metadata": {},
   "outputs": [
    {
     "name": "stdout",
     "output_type": "stream",
     "text": [
      "root\n",
      " |-- user_id: string (nullable = true)\n",
      " |-- order_datetime: string (nullable = true)\n",
      " |-- fraud_probability: float (nullable = true)\n",
      "\n"
     ]
    }
   ],
   "source": [
    "probs_consumer.printSchema()"
   ]
  },
  {
   "cell_type": "code",
   "execution_count": 15,
   "metadata": {},
   "outputs": [
    {
     "name": "stdout",
     "output_type": "stream",
     "text": [
      "root\n",
      " |-- merchant_abn: string (nullable = true)\n",
      " |-- order_datetime: string (nullable = true)\n",
      " |-- fraud_probability: string (nullable = true)\n",
      "\n"
     ]
    }
   ],
   "source": [
    "probs_merchant.printSchema()"
   ]
  },
  {
   "cell_type": "code",
   "execution_count": 17,
   "metadata": {},
   "outputs": [],
   "source": [
    "# match the data types from transaction file for merging preparation\n",
    "transactions = transactions.withColumn('user_id', F.col('user_id').cast('string'))\\\n",
    "                .withColumn('order_datetime', F.col('order_datetime').cast('string'))\\\n",
    "                .withColumn('merchant_abn', F.col('merchant_abn').cast('string'))\n",
    "probs_consumer =  probs_consumer.withColumn('fraud_probability', F.col('fraud_probability').cast('float'))"
   ]
  },
  {
   "cell_type": "code",
   "execution_count": 37,
   "metadata": {},
   "outputs": [],
   "source": [
    "# match the data types from transaction file for merging preparation\n",
    "probs_merchant = probs_merchant.withColumn('merchant_abn', F.col('merchant_abn').cast('long'))\\\n",
    "        .withColumn('order_datetime', F.col('order_datetime').cast('date'))\\\n",
    "        .withColumn('fraud_probability', F.col('fraud_probability').cast('float'))"
   ]
  },
  {
   "cell_type": "code",
   "execution_count": 49,
   "metadata": {},
   "outputs": [],
   "source": [
    "# merge transaction file with merchants'/consumers' fraud probability based on merchant abn or user id respectively by left join\n",
    "result = transactions.join(probs_merchant, on = ['merchant_abn', 'order_datetime'], how = 'left').withColumnRenamed('fraud_probability', 'merchant_prob')\n",
    "result = result.join(probs_consumer, on = ['user_id', 'order_datetime'], how = 'left').withColumnRenamed('fraud_probability', 'consumer_prob')"
   ]
  },
  {
   "cell_type": "code",
   "execution_count": 50,
   "metadata": {},
   "outputs": [],
   "source": [
    "# replace all the missing value with 0.01 as default fraud prob\n",
    "result = result.na.fill(value=0.01, subset=['merchant_prob', 'consumer_prob'])"
   ]
  },
  {
   "cell_type": "code",
   "execution_count": 51,
   "metadata": {},
   "outputs": [
    {
     "data": {
      "text/html": [
       "<table border='1'>\n",
       "<tr><th>user_id</th><th>order_datetime</th><th>merchant_abn</th><th>dollar_value</th><th>order_id</th><th>merchant_prob</th><th>consumer_prob</th><th>is_fraud</th></tr>\n",
       "<tr><td>18478</td><td>2021-08-20</td><td>62191208634</td><td>63.255848959735246</td><td>949a63c8-29f7-4ab...</td><td>0.01</td><td>0.01</td><td>0</td></tr>\n",
       "<tr><td>2</td><td>2021-08-20</td><td>15549624934</td><td>130.3505283105634</td><td>6a84c3cf-612a-457...</td><td>0.01</td><td>0.01</td><td>0</td></tr>\n",
       "<tr><td>18479</td><td>2021-08-20</td><td>64403598239</td><td>120.15860593212783</td><td>b10dcc33-e53f-425...</td><td>0.01</td><td>0.01</td><td>0</td></tr>\n",
       "<tr><td>3</td><td>2021-08-20</td><td>60956456424</td><td>136.6785200286976</td><td>0f09c5a5-784e-447...</td><td>0.01</td><td>0.01</td><td>0</td></tr>\n",
       "<tr><td>18479</td><td>2021-08-20</td><td>94493496784</td><td>72.96316578355305</td><td>f6c78c1a-4600-4c5...</td><td>0.01</td><td>0.01</td><td>0</td></tr>\n",
       "<tr><td>3</td><td>2021-08-20</td><td>76819856970</td><td>448.529684285612</td><td>5ace6a24-cdf0-4aa...</td><td>0.01</td><td>0.01</td><td>0</td></tr>\n",
       "<tr><td>18479</td><td>2021-08-20</td><td>67609108741</td><td>86.4040605836911</td><td>d0e180f0-cb06-42a...</td><td>0.01</td><td>0.01</td><td>0</td></tr>\n",
       "<tr><td>3</td><td>2021-08-20</td><td>34096466752</td><td>301.5793450525113</td><td>6fb1ff48-24bb-4f9...</td><td>0.01</td><td>0.01</td><td>0</td></tr>\n",
       "<tr><td>18482</td><td>2021-08-20</td><td>70501974849</td><td>68.75486276223054</td><td>8505fb33-b69a-412...</td><td>0.01</td><td>0.01</td><td>0</td></tr>\n",
       "<tr><td>4</td><td>2021-08-20</td><td>49891706470</td><td>48.89796461900801</td><td>ed11e477-b09f-4ae...</td><td>0.01</td><td>0.01</td><td>0</td></tr>\n",
       "<tr><td>18482</td><td>2021-08-20</td><td>46804135891</td><td>6.6168976971833615</td><td>05b5edb5-b925-414...</td><td>0.01</td><td>0.01</td><td>0</td></tr>\n",
       "<tr><td>7</td><td>2021-08-20</td><td>33064796871</td><td>373.0873675184212</td><td>fe188788-b89f-4dd...</td><td>0.01</td><td>0.01</td><td>0</td></tr>\n",
       "<tr><td>18483</td><td>2021-08-20</td><td>44160392990</td><td>83.98473054761176</td><td>7c44302d-98b3-48b...</td><td>0.01</td><td>0.01</td><td>0</td></tr>\n",
       "<tr><td>7</td><td>2021-08-20</td><td>68435002949</td><td>232.5364986739752</td><td>b4a89891-a113-45e...</td><td>0.01</td><td>0.01</td><td>0</td></tr>\n",
       "<tr><td>18484</td><td>2021-08-20</td><td>70033549200</td><td>871.7678061729196</td><td>4b1d941a-21a1-43e...</td><td>0.01</td><td>0.01</td><td>0</td></tr>\n",
       "<tr><td>7</td><td>2021-08-20</td><td>41944909975</td><td>30.910755230234322</td><td>302ae628-8eba-4a5...</td><td>0.01</td><td>0.01</td><td>0</td></tr>\n",
       "<tr><td>18485</td><td>2021-08-20</td><td>41705715409</td><td>309.5417224575787</td><td>67f4f98e-3149-4e8...</td><td>0.01</td><td>0.01</td><td>0</td></tr>\n",
       "<tr><td>8</td><td>2021-08-20</td><td>29566626791</td><td>74.15732460440282</td><td>71a81652-cc91-4bf...</td><td>0.01</td><td>0.01</td><td>0</td></tr>\n",
       "<tr><td>18487</td><td>2021-08-20</td><td>32361057556</td><td>119.19055863068847</td><td>15577921-1104-470...</td><td>0.01</td><td>0.01</td><td>0</td></tr>\n",
       "<tr><td>9</td><td>2021-08-20</td><td>47663262928</td><td>36.69873283148887</td><td>c4fcb49a-ce87-4e1...</td><td>0.01</td><td>0.01</td><td>0</td></tr>\n",
       "</table>\n",
       "only showing top 20 rows\n"
      ],
      "text/plain": [
       "+-------+--------------+------------+------------------+--------------------+-------------+-------------+--------+\n",
       "|user_id|order_datetime|merchant_abn|      dollar_value|            order_id|merchant_prob|consumer_prob|is_fraud|\n",
       "+-------+--------------+------------+------------------+--------------------+-------------+-------------+--------+\n",
       "|  18478|    2021-08-20| 62191208634|63.255848959735246|949a63c8-29f7-4ab...|         0.01|         0.01|       0|\n",
       "|      2|    2021-08-20| 15549624934| 130.3505283105634|6a84c3cf-612a-457...|         0.01|         0.01|       0|\n",
       "|  18479|    2021-08-20| 64403598239|120.15860593212783|b10dcc33-e53f-425...|         0.01|         0.01|       0|\n",
       "|      3|    2021-08-20| 60956456424| 136.6785200286976|0f09c5a5-784e-447...|         0.01|         0.01|       0|\n",
       "|  18479|    2021-08-20| 94493496784| 72.96316578355305|f6c78c1a-4600-4c5...|         0.01|         0.01|       0|\n",
       "|      3|    2021-08-20| 76819856970|  448.529684285612|5ace6a24-cdf0-4aa...|         0.01|         0.01|       0|\n",
       "|  18479|    2021-08-20| 67609108741|  86.4040605836911|d0e180f0-cb06-42a...|         0.01|         0.01|       0|\n",
       "|      3|    2021-08-20| 34096466752| 301.5793450525113|6fb1ff48-24bb-4f9...|         0.01|         0.01|       0|\n",
       "|  18482|    2021-08-20| 70501974849| 68.75486276223054|8505fb33-b69a-412...|         0.01|         0.01|       0|\n",
       "|      4|    2021-08-20| 49891706470| 48.89796461900801|ed11e477-b09f-4ae...|         0.01|         0.01|       0|\n",
       "|  18482|    2021-08-20| 46804135891|6.6168976971833615|05b5edb5-b925-414...|         0.01|         0.01|       0|\n",
       "|      7|    2021-08-20| 33064796871| 373.0873675184212|fe188788-b89f-4dd...|         0.01|         0.01|       0|\n",
       "|  18483|    2021-08-20| 44160392990| 83.98473054761176|7c44302d-98b3-48b...|         0.01|         0.01|       0|\n",
       "|      7|    2021-08-20| 68435002949| 232.5364986739752|b4a89891-a113-45e...|         0.01|         0.01|       0|\n",
       "|  18484|    2021-08-20| 70033549200| 871.7678061729196|4b1d941a-21a1-43e...|         0.01|         0.01|       0|\n",
       "|      7|    2021-08-20| 41944909975|30.910755230234322|302ae628-8eba-4a5...|         0.01|         0.01|       0|\n",
       "|  18485|    2021-08-20| 41705715409| 309.5417224575787|67f4f98e-3149-4e8...|         0.01|         0.01|       0|\n",
       "|      8|    2021-08-20| 29566626791| 74.15732460440282|71a81652-cc91-4bf...|         0.01|         0.01|       0|\n",
       "|  18487|    2021-08-20| 32361057556|119.19055863068847|15577921-1104-470...|         0.01|         0.01|       0|\n",
       "|      9|    2021-08-20| 47663262928| 36.69873283148887|c4fcb49a-ce87-4e1...|         0.01|         0.01|       0|\n",
       "+-------+--------------+------------+------------------+--------------------+-------------+-------------+--------+\n",
       "only showing top 20 rows"
      ]
     },
     "execution_count": 51,
     "metadata": {},
     "output_type": "execute_result"
    }
   ],
   "source": [
    "# 50% fraud probility is used as the benchmark for checking fraud transaction\n",
    "# transactions with either consumer/merchant fraud probability strictly higher than 50% will be considered as fraud data\n",
    "# This number might need to be adjusted during training model because of sample shortage\n",
    "result = result.withColumn('is_fraud', F.when((F.col('merchant_prob') > 50) | (F.col('consumer_prob') > 50), 1).otherwise(0))\n",
    "result"
   ]
  },
  {
   "cell_type": "code",
   "execution_count": 41,
   "metadata": {},
   "outputs": [
    {
     "name": "stderr",
     "output_type": "stream",
     "text": [
      "[Stage 50:===========================>                           (12 + 12) / 24]\r"
     ]
    },
    {
     "name": "stdout",
     "output_type": "stream",
     "text": [
      "In 8151584 transactions, 1572 are detected as fraud\n"
     ]
    },
    {
     "name": "stderr",
     "output_type": "stream",
     "text": [
      "                                                                                \r"
     ]
    }
   ],
   "source": [
    "print('In {} transactions, {} are detected as fraud'.format(result.count(), result.filter(F.col('is_fraud') == 1).count()))"
   ]
  },
  {
   "cell_type": "code",
   "execution_count": 42,
   "metadata": {},
   "outputs": [
    {
     "name": "stderr",
     "output_type": "stream",
     "text": [
      "                                                                                \r"
     ]
    },
    {
     "data": {
      "text/html": [
       "<table border='1'>\n",
       "<tr><th>user_id</th><th>order_datetime</th><th>merchant_abn</th><th>dollar_value</th><th>merchant_prob</th><th>consumer_prob</th><th>is_fraud</th></tr>\n",
       "<tr><td>18478</td><td>2021-08-20</td><td>62191208634</td><td>63.255848959735246</td><td>0.01</td><td>0.01</td><td>0</td></tr>\n",
       "<tr><td>2</td><td>2021-08-20</td><td>15549624934</td><td>130.3505283105634</td><td>0.01</td><td>0.01</td><td>0</td></tr>\n",
       "<tr><td>18479</td><td>2021-08-20</td><td>64403598239</td><td>120.15860593212783</td><td>0.01</td><td>0.01</td><td>0</td></tr>\n",
       "<tr><td>3</td><td>2021-08-20</td><td>60956456424</td><td>136.6785200286976</td><td>0.01</td><td>0.01</td><td>0</td></tr>\n",
       "<tr><td>18479</td><td>2021-08-20</td><td>94493496784</td><td>72.96316578355305</td><td>0.01</td><td>0.01</td><td>0</td></tr>\n",
       "<tr><td>3</td><td>2021-08-20</td><td>76819856970</td><td>448.529684285612</td><td>0.01</td><td>0.01</td><td>0</td></tr>\n",
       "<tr><td>18479</td><td>2021-08-20</td><td>67609108741</td><td>86.4040605836911</td><td>0.01</td><td>0.01</td><td>0</td></tr>\n",
       "<tr><td>3</td><td>2021-08-20</td><td>34096466752</td><td>301.5793450525113</td><td>0.01</td><td>0.01</td><td>0</td></tr>\n",
       "<tr><td>18482</td><td>2021-08-20</td><td>70501974849</td><td>68.75486276223054</td><td>0.01</td><td>0.01</td><td>0</td></tr>\n",
       "<tr><td>4</td><td>2021-08-20</td><td>49891706470</td><td>48.89796461900801</td><td>0.01</td><td>0.01</td><td>0</td></tr>\n",
       "<tr><td>18482</td><td>2021-08-20</td><td>46804135891</td><td>6.6168976971833615</td><td>0.01</td><td>0.01</td><td>0</td></tr>\n",
       "<tr><td>7</td><td>2021-08-20</td><td>33064796871</td><td>373.0873675184212</td><td>0.01</td><td>0.01</td><td>0</td></tr>\n",
       "<tr><td>18483</td><td>2021-08-20</td><td>44160392990</td><td>83.98473054761176</td><td>0.01</td><td>0.01</td><td>0</td></tr>\n",
       "<tr><td>7</td><td>2021-08-20</td><td>68435002949</td><td>232.5364986739752</td><td>0.01</td><td>0.01</td><td>0</td></tr>\n",
       "<tr><td>18484</td><td>2021-08-20</td><td>70033549200</td><td>871.7678061729196</td><td>0.01</td><td>0.01</td><td>0</td></tr>\n",
       "<tr><td>7</td><td>2021-08-20</td><td>41944909975</td><td>30.910755230234322</td><td>0.01</td><td>0.01</td><td>0</td></tr>\n",
       "<tr><td>18485</td><td>2021-08-20</td><td>41705715409</td><td>309.5417224575787</td><td>0.01</td><td>0.01</td><td>0</td></tr>\n",
       "<tr><td>8</td><td>2021-08-20</td><td>29566626791</td><td>74.15732460440282</td><td>0.01</td><td>0.01</td><td>0</td></tr>\n",
       "<tr><td>18487</td><td>2021-08-20</td><td>32361057556</td><td>119.19055863068847</td><td>0.01</td><td>0.01</td><td>0</td></tr>\n",
       "<tr><td>9</td><td>2021-08-20</td><td>47663262928</td><td>36.69873283148887</td><td>0.01</td><td>0.01</td><td>0</td></tr>\n",
       "</table>\n",
       "only showing top 20 rows\n"
      ],
      "text/plain": [
       "+-------+--------------+------------+------------------+-------------+-------------+--------+\n",
       "|user_id|order_datetime|merchant_abn|      dollar_value|merchant_prob|consumer_prob|is_fraud|\n",
       "+-------+--------------+------------+------------------+-------------+-------------+--------+\n",
       "|  18478|    2021-08-20| 62191208634|63.255848959735246|         0.01|         0.01|       0|\n",
       "|      2|    2021-08-20| 15549624934| 130.3505283105634|         0.01|         0.01|       0|\n",
       "|  18479|    2021-08-20| 64403598239|120.15860593212783|         0.01|         0.01|       0|\n",
       "|      3|    2021-08-20| 60956456424| 136.6785200286976|         0.01|         0.01|       0|\n",
       "|  18479|    2021-08-20| 94493496784| 72.96316578355305|         0.01|         0.01|       0|\n",
       "|      3|    2021-08-20| 76819856970|  448.529684285612|         0.01|         0.01|       0|\n",
       "|  18479|    2021-08-20| 67609108741|  86.4040605836911|         0.01|         0.01|       0|\n",
       "|      3|    2021-08-20| 34096466752| 301.5793450525113|         0.01|         0.01|       0|\n",
       "|  18482|    2021-08-20| 70501974849| 68.75486276223054|         0.01|         0.01|       0|\n",
       "|      4|    2021-08-20| 49891706470| 48.89796461900801|         0.01|         0.01|       0|\n",
       "|  18482|    2021-08-20| 46804135891|6.6168976971833615|         0.01|         0.01|       0|\n",
       "|      7|    2021-08-20| 33064796871| 373.0873675184212|         0.01|         0.01|       0|\n",
       "|  18483|    2021-08-20| 44160392990| 83.98473054761176|         0.01|         0.01|       0|\n",
       "|      7|    2021-08-20| 68435002949| 232.5364986739752|         0.01|         0.01|       0|\n",
       "|  18484|    2021-08-20| 70033549200| 871.7678061729196|         0.01|         0.01|       0|\n",
       "|      7|    2021-08-20| 41944909975|30.910755230234322|         0.01|         0.01|       0|\n",
       "|  18485|    2021-08-20| 41705715409| 309.5417224575787|         0.01|         0.01|       0|\n",
       "|      8|    2021-08-20| 29566626791| 74.15732460440282|         0.01|         0.01|       0|\n",
       "|  18487|    2021-08-20| 32361057556|119.19055863068847|         0.01|         0.01|       0|\n",
       "|      9|    2021-08-20| 47663262928| 36.69873283148887|         0.01|         0.01|       0|\n",
       "+-------+--------------+------------+------------------+-------------+-------------+--------+\n",
       "only showing top 20 rows"
      ]
     },
     "execution_count": 42,
     "metadata": {},
     "output_type": "execute_result"
    }
   ],
   "source": [
    "# save the training dataset as parquet\n",
    "result = result.drop('order_id')\n",
    "result.cache()"
   ]
  },
  {
   "cell_type": "code",
   "execution_count": 43,
   "metadata": {},
   "outputs": [
    {
     "name": "stdout",
     "output_type": "stream",
     "text": [
      "root\n",
      " |-- consumer_id: integer (nullable = true)\n",
      " |-- user_id: integer (nullable = true)\n",
      " |-- state: string (nullable = true)\n",
      " |-- postcode: integer (nullable = true)\n",
      " |-- gender: string (nullable = true)\n",
      "\n"
     ]
    }
   ],
   "source": [
    "consumers.printSchema()"
   ]
  },
  {
   "cell_type": "code",
   "execution_count": 44,
   "metadata": {},
   "outputs": [
    {
     "name": "stdout",
     "output_type": "stream",
     "text": [
      "root\n",
      " |-- merchant_abn: string (nullable = true)\n",
      " |-- name: string (nullable = true)\n",
      " |-- tags: string (nullable = true)\n",
      " |-- revenue_level: string (nullable = true)\n",
      " |-- take_rate: string (nullable = true)\n",
      "\n"
     ]
    }
   ],
   "source": [
    "merchants.printSchema()"
   ]
  },
  {
   "cell_type": "code",
   "execution_count": 52,
   "metadata": {},
   "outputs": [
    {
     "name": "stderr",
     "output_type": "stream",
     "text": [
      "                                                                                \r"
     ]
    },
    {
     "data": {
      "text/html": [
       "<table border='1'>\n",
       "<tr><th>user_id</th><th>merchant_abn</th><th>order_datetime</th><th>dollar_value</th><th>order_id</th><th>merchant_prob</th><th>consumer_prob</th><th>is_fraud</th><th>name</th><th>tags</th><th>revenue_level</th><th>take_rate</th><th>consumer_id</th><th>state</th><th>postcode</th><th>gender</th></tr>\n",
       "<tr><td>18478</td><td>62191208634</td><td>2021-08-20</td><td>63.255848959735246</td><td>949a63c8-29f7-4ab...</td><td>0.01</td><td>0.01</td><td>0</td><td>Cursus Non Egesta...</td><td>furniture</td><td>c</td><td>2.17</td><td>651338</td><td>TAS</td><td>7001</td><td>Male</td></tr>\n",
       "<tr><td>2</td><td>15549624934</td><td>2021-08-20</td><td>130.3505283105634</td><td>6a84c3cf-612a-457...</td><td>0.01</td><td>0.01</td><td>0</td><td>Commodo Associates</td><td>opticians</td><td>c</td><td>2.76</td><td>179208</td><td>NSW</td><td>2782</td><td>Female</td></tr>\n",
       "<tr><td>18479</td><td>64403598239</td><td>2021-08-20</td><td>120.15860593212783</td><td>b10dcc33-e53f-425...</td><td>0.01</td><td>0.01</td><td>0</td><td>Lobortis Ultrices...</td><td>music</td><td>a</td><td>6.31</td><td>467663</td><td>TAS</td><td>7010</td><td>Female</td></tr>\n",
       "<tr><td>3</td><td>60956456424</td><td>2021-08-20</td><td>136.6785200286976</td><td>0f09c5a5-784e-447...</td><td>0.01</td><td>0.01</td><td>0</td><td>Ultricies Digniss...</td><td>gift</td><td>b</td><td>4.69</td><td>1194530</td><td>NT</td><td>862</td><td>Female</td></tr>\n",
       "<tr><td>18479</td><td>94493496784</td><td>2021-08-20</td><td>72.96316578355305</td><td>f6c78c1a-4600-4c5...</td><td>0.01</td><td>0.01</td><td>0</td><td>Dictum Phasellus ...</td><td>gift</td><td>a</td><td>5.65</td><td>467663</td><td>TAS</td><td>7010</td><td>Female</td></tr>\n",
       "<tr><td>3</td><td>76819856970</td><td>2021-08-20</td><td>448.529684285612</td><td>5ace6a24-cdf0-4aa...</td><td>0.01</td><td>0.01</td><td>0</td><td>Egestas Blandit Ltd</td><td>tent</td><td>b</td><td>3.19</td><td>1194530</td><td>NT</td><td>862</td><td>Female</td></tr>\n",
       "<tr><td>18479</td><td>67609108741</td><td>2021-08-20</td><td>86.4040605836911</td><td>d0e180f0-cb06-42a...</td><td>0.01</td><td>0.01</td><td>0</td><td>Metus Sit Amet In...</td><td>cable</td><td>e</td><td>0.38</td><td>467663</td><td>TAS</td><td>7010</td><td>Female</td></tr>\n",
       "<tr><td>3</td><td>34096466752</td><td>2021-08-20</td><td>301.5793450525113</td><td>6fb1ff48-24bb-4f9...</td><td>0.01</td><td>0.01</td><td>0</td><td>Nullam Enim Ltd</td><td>computer</td><td>b</td><td>3.22</td><td>1194530</td><td>NT</td><td>862</td><td>Female</td></tr>\n",
       "<tr><td>18482</td><td>70501974849</td><td>2021-08-20</td><td>68.75486276223054</td><td>8505fb33-b69a-412...</td><td>0.01</td><td>0.01</td><td>0</td><td>Facilisis Lorem T...</td><td>computer</td><td>b</td><td>3.3</td><td>918448</td><td>NSW</td><td>1430</td><td>Male</td></tr>\n",
       "<tr><td>4</td><td>49891706470</td><td>2021-08-20</td><td>48.89796461900801</td><td>ed11e477-b09f-4ae...</td><td>0.01</td><td>0.01</td><td>0</td><td>Non Vestibulum In...</td><td>tent</td><td>a</td><td>5.8</td><td>154128</td><td>NSW</td><td>2780</td><td>Female</td></tr>\n",
       "<tr><td>18482</td><td>46804135891</td><td>2021-08-20</td><td>6.6168976971833615</td><td>05b5edb5-b925-414...</td><td>0.01</td><td>0.01</td><td>0</td><td>Suspendisse Dui C...</td><td>opticians</td><td>c</td><td>2.93</td><td>918448</td><td>NSW</td><td>1430</td><td>Male</td></tr>\n",
       "<tr><td>7</td><td>33064796871</td><td>2021-08-20</td><td>373.0873675184212</td><td>fe188788-b89f-4dd...</td><td>0.01</td><td>0.01</td><td>0</td><td>Curabitur Massa C...</td><td>computer</td><td>b</td><td>3.75</td><td>511685</td><td>QLD</td><td>4606</td><td>Female</td></tr>\n",
       "<tr><td>18483</td><td>44160392990</td><td>2021-08-20</td><td>83.98473054761176</td><td>7c44302d-98b3-48b...</td><td>0.01</td><td>0.01</td><td>0</td><td>Sociis Natoque In...</td><td>digital goods</td><td>a</td><td>5.97</td><td>191119</td><td>QLD</td><td>4118</td><td>Female</td></tr>\n",
       "<tr><td>7</td><td>68435002949</td><td>2021-08-20</td><td>232.5364986739752</td><td>b4a89891-a113-45e...</td><td>0.01</td><td>0.01</td><td>0</td><td>Aliquam Eu Inc.</td><td>artist supply</td><td>a</td><td>6.65</td><td>511685</td><td>QLD</td><td>4606</td><td>Female</td></tr>\n",
       "<tr><td>18484</td><td>70033549200</td><td>2021-08-20</td><td>871.7678061729196</td><td>4b1d941a-21a1-43e...</td><td>0.01</td><td>0.01</td><td>0</td><td>Mus Proin LLP</td><td>tent</td><td>b</td><td>4.78</td><td>596919</td><td>QLD</td><td>4309</td><td>Male</td></tr>\n",
       "<tr><td>7</td><td>41944909975</td><td>2021-08-20</td><td>30.910755230234322</td><td>302ae628-8eba-4a5...</td><td>0.01</td><td>0.01</td><td>0</td><td>Et Nunc Consulting</td><td>books</td><td>e</td><td>0.16</td><td>511685</td><td>QLD</td><td>4606</td><td>Female</td></tr>\n",
       "<tr><td>18485</td><td>41705715409</td><td>2021-08-20</td><td>309.5417224575787</td><td>67f4f98e-3149-4e8...</td><td>0.01</td><td>0.01</td><td>0</td><td>Augue Eu LLP</td><td>furniture</td><td>a</td><td>6.05</td><td>1212819</td><td>VIC</td><td>3073</td><td>Male</td></tr>\n",
       "<tr><td>8</td><td>29566626791</td><td>2021-08-20</td><td>74.15732460440282</td><td>71a81652-cc91-4bf...</td><td>0.01</td><td>0.01</td><td>0</td><td>null</td><td>null</td><td>null</td><td>null</td><td>448088</td><td>WA</td><td>6056</td><td>Male</td></tr>\n",
       "<tr><td>18487</td><td>32361057556</td><td>2021-08-20</td><td>119.19055863068847</td><td>15577921-1104-470...</td><td>0.01</td><td>0.01</td><td>0</td><td>Orci In Consequat...</td><td>gift</td><td>a</td><td>6.61</td><td>1165699</td><td>NSW</td><td>1004</td><td>Female</td></tr>\n",
       "<tr><td>9</td><td>47663262928</td><td>2021-08-20</td><td>36.69873283148887</td><td>c4fcb49a-ce87-4e1...</td><td>0.01</td><td>0.01</td><td>0</td><td>Eget Lacus LLP</td><td>cable</td><td>a</td><td>6.66</td><td>650435</td><td>NSW</td><td>2482</td><td>Female</td></tr>\n",
       "</table>\n",
       "only showing top 20 rows\n"
      ],
      "text/plain": [
       "+-------+------------+--------------+------------------+--------------------+-------------+-------------+--------+--------------------+-------------+-------------+---------+-----------+-----+--------+------+\n",
       "|user_id|merchant_abn|order_datetime|      dollar_value|            order_id|merchant_prob|consumer_prob|is_fraud|                name|         tags|revenue_level|take_rate|consumer_id|state|postcode|gender|\n",
       "+-------+------------+--------------+------------------+--------------------+-------------+-------------+--------+--------------------+-------------+-------------+---------+-----------+-----+--------+------+\n",
       "|  18478| 62191208634|    2021-08-20|63.255848959735246|949a63c8-29f7-4ab...|         0.01|         0.01|       0|Cursus Non Egesta...|    furniture|            c|     2.17|     651338|  TAS|    7001|  Male|\n",
       "|      2| 15549624934|    2021-08-20| 130.3505283105634|6a84c3cf-612a-457...|         0.01|         0.01|       0|  Commodo Associates|    opticians|            c|     2.76|     179208|  NSW|    2782|Female|\n",
       "|  18479| 64403598239|    2021-08-20|120.15860593212783|b10dcc33-e53f-425...|         0.01|         0.01|       0|Lobortis Ultrices...|        music|            a|     6.31|     467663|  TAS|    7010|Female|\n",
       "|      3| 60956456424|    2021-08-20| 136.6785200286976|0f09c5a5-784e-447...|         0.01|         0.01|       0|Ultricies Digniss...|         gift|            b|     4.69|    1194530|   NT|     862|Female|\n",
       "|  18479| 94493496784|    2021-08-20| 72.96316578355305|f6c78c1a-4600-4c5...|         0.01|         0.01|       0|Dictum Phasellus ...|         gift|            a|     5.65|     467663|  TAS|    7010|Female|\n",
       "|      3| 76819856970|    2021-08-20|  448.529684285612|5ace6a24-cdf0-4aa...|         0.01|         0.01|       0| Egestas Blandit Ltd|         tent|            b|     3.19|    1194530|   NT|     862|Female|\n",
       "|  18479| 67609108741|    2021-08-20|  86.4040605836911|d0e180f0-cb06-42a...|         0.01|         0.01|       0|Metus Sit Amet In...|        cable|            e|     0.38|     467663|  TAS|    7010|Female|\n",
       "|      3| 34096466752|    2021-08-20| 301.5793450525113|6fb1ff48-24bb-4f9...|         0.01|         0.01|       0|     Nullam Enim Ltd|     computer|            b|     3.22|    1194530|   NT|     862|Female|\n",
       "|  18482| 70501974849|    2021-08-20| 68.75486276223054|8505fb33-b69a-412...|         0.01|         0.01|       0|Facilisis Lorem T...|     computer|            b|      3.3|     918448|  NSW|    1430|  Male|\n",
       "|      4| 49891706470|    2021-08-20| 48.89796461900801|ed11e477-b09f-4ae...|         0.01|         0.01|       0|Non Vestibulum In...|         tent|            a|      5.8|     154128|  NSW|    2780|Female|\n",
       "|  18482| 46804135891|    2021-08-20|6.6168976971833615|05b5edb5-b925-414...|         0.01|         0.01|       0|Suspendisse Dui C...|    opticians|            c|     2.93|     918448|  NSW|    1430|  Male|\n",
       "|      7| 33064796871|    2021-08-20| 373.0873675184212|fe188788-b89f-4dd...|         0.01|         0.01|       0|Curabitur Massa C...|     computer|            b|     3.75|     511685|  QLD|    4606|Female|\n",
       "|  18483| 44160392990|    2021-08-20| 83.98473054761176|7c44302d-98b3-48b...|         0.01|         0.01|       0|Sociis Natoque In...|digital goods|            a|     5.97|     191119|  QLD|    4118|Female|\n",
       "|      7| 68435002949|    2021-08-20| 232.5364986739752|b4a89891-a113-45e...|         0.01|         0.01|       0|     Aliquam Eu Inc.|artist supply|            a|     6.65|     511685|  QLD|    4606|Female|\n",
       "|  18484| 70033549200|    2021-08-20| 871.7678061729196|4b1d941a-21a1-43e...|         0.01|         0.01|       0|       Mus Proin LLP|         tent|            b|     4.78|     596919|  QLD|    4309|  Male|\n",
       "|      7| 41944909975|    2021-08-20|30.910755230234322|302ae628-8eba-4a5...|         0.01|         0.01|       0|  Et Nunc Consulting|        books|            e|     0.16|     511685|  QLD|    4606|Female|\n",
       "|  18485| 41705715409|    2021-08-20| 309.5417224575787|67f4f98e-3149-4e8...|         0.01|         0.01|       0|        Augue Eu LLP|    furniture|            a|     6.05|    1212819|  VIC|    3073|  Male|\n",
       "|      8| 29566626791|    2021-08-20| 74.15732460440282|71a81652-cc91-4bf...|         0.01|         0.01|       0|                null|         null|         null|     null|     448088|   WA|    6056|  Male|\n",
       "|  18487| 32361057556|    2021-08-20|119.19055863068847|15577921-1104-470...|         0.01|         0.01|       0|Orci In Consequat...|         gift|            a|     6.61|    1165699|  NSW|    1004|Female|\n",
       "|      9| 47663262928|    2021-08-20| 36.69873283148887|c4fcb49a-ce87-4e1...|         0.01|         0.01|       0|      Eget Lacus LLP|        cable|            a|     6.66|     650435|  NSW|    2482|Female|\n",
       "+-------+------------+--------------+------------------+--------------------+-------------+-------------+--------+--------------------+-------------+-------------+---------+-----------+-----+--------+------+\n",
       "only showing top 20 rows"
      ]
     },
     "execution_count": 52,
     "metadata": {},
     "output_type": "execute_result"
    }
   ],
   "source": [
    "result  = result.join(merchants, on='merchant_abn', how = 'left')\n",
    "result.cache()\n",
    "result = result.join(consumers, on='user_id', how = 'left')\n",
    "result.cache()"
   ]
  },
  {
   "cell_type": "code",
   "execution_count": 53,
   "metadata": {},
   "outputs": [],
   "source": [
    "result = result.filter(F.col('dollar_value') >= 1).na.drop(subset = 'name')"
   ]
  },
  {
   "cell_type": "markdown",
   "metadata": {},
   "source": [
    "### bin numeric features"
   ]
  },
  {
   "cell_type": "code",
   "execution_count": 59,
   "metadata": {},
   "outputs": [
    {
     "name": "stderr",
     "output_type": "stream",
     "text": [
      "                                                                                \r"
     ]
    }
   ],
   "source": [
    "value_max = result.select('dollar_value').orderBy(F.col('dollar_value'),  ascending= False).collect()[0][0]"
   ]
  },
  {
   "cell_type": "code",
   "execution_count": 60,
   "metadata": {},
   "outputs": [
    {
     "name": "stderr",
     "output_type": "stream",
     "text": [
      "                                                                                \r"
     ]
    }
   ],
   "source": [
    "value_min = result.select('dollar_value').orderBy(F.col('dollar_value')).collect()[0][0]"
   ]
  },
  {
   "cell_type": "code",
   "execution_count": 61,
   "metadata": {},
   "outputs": [
    {
     "name": "stdout",
     "output_type": "stream",
     "text": [
      "dollar_value range:[1.0000012988409446, 105193.88578925544]\n"
     ]
    }
   ],
   "source": [
    "print('dollar_value range:[{}, {}]'.format(value_min, value_max))"
   ]
  },
  {
   "cell_type": "code",
   "execution_count": 62,
   "metadata": {},
   "outputs": [],
   "source": [
    "bins = []\n",
    "i  = 0\n",
    "while i <= 70000:\n",
    "  bins.append(i)\n",
    "  i += 200"
   ]
  },
  {
   "cell_type": "code",
   "execution_count": 63,
   "metadata": {},
   "outputs": [],
   "source": [
    "bins.append(float('Inf'))"
   ]
  },
  {
   "cell_type": "code",
   "execution_count": 64,
   "metadata": {},
   "outputs": [],
   "source": [
    "bucketizer = Bucketizer(splits=bins, inputCol=\"dollar_value\", outputCol=\"dollar_value_buckets\")\n",
    "result = bucketizer.setHandleInvalid(\"keep\").transform(result)"
   ]
  },
  {
   "cell_type": "code",
   "execution_count": 67,
   "metadata": {},
   "outputs": [],
   "source": [
    "result = result.withColumn('take_rate', F.col('take_rate').cast('double'))"
   ]
  },
  {
   "cell_type": "code",
   "execution_count": 68,
   "metadata": {},
   "outputs": [
    {
     "name": "stderr",
     "output_type": "stream",
     "text": [
      "                                                                                \r"
     ]
    }
   ],
   "source": [
    "take_rate_max = result.select('take_rate').orderBy(F.col('take_rate'),  ascending= False).collect()[0][0]\n",
    "take_rate_min = result.select('take_rate').orderBy(F.col('take_rate')).collect()[0][0]"
   ]
  },
  {
   "cell_type": "code",
   "execution_count": 69,
   "metadata": {},
   "outputs": [
    {
     "name": "stdout",
     "output_type": "stream",
     "text": [
      "take_rate range:[0.1, 7.0]\n"
     ]
    }
   ],
   "source": [
    "print('take_rate range:[{}, {}]'.format(take_rate_min, take_rate_max))"
   ]
  },
  {
   "cell_type": "code",
   "execution_count": 70,
   "metadata": {},
   "outputs": [],
   "source": [
    "bucketizer = Bucketizer(splits=[0,1,2,3,4,5,6,7,8], inputCol=\"take_rate\", outputCol=\"take_rate_buckets\")\n",
    "result = bucketizer.setHandleInvalid(\"keep\").transform(result)"
   ]
  },
  {
   "cell_type": "code",
   "execution_count": 72,
   "metadata": {},
   "outputs": [
    {
     "name": "stdout",
     "output_type": "stream",
     "text": [
      "root\n",
      " |-- user_id: string (nullable = true)\n",
      " |-- merchant_abn: string (nullable = true)\n",
      " |-- order_datetime: string (nullable = true)\n",
      " |-- dollar_value: double (nullable = true)\n",
      " |-- order_id: string (nullable = true)\n",
      " |-- merchant_prob: float (nullable = false)\n",
      " |-- consumer_prob: float (nullable = false)\n",
      " |-- is_fraud: integer (nullable = false)\n",
      " |-- name: string (nullable = true)\n",
      " |-- tags: string (nullable = true)\n",
      " |-- revenue_level: string (nullable = true)\n",
      " |-- take_rate: double (nullable = true)\n",
      " |-- consumer_id: integer (nullable = true)\n",
      " |-- state: string (nullable = true)\n",
      " |-- postcode: integer (nullable = true)\n",
      " |-- gender: string (nullable = true)\n",
      " |-- dollar_value_buckets: double (nullable = true)\n",
      " |-- take_rate_buckets: double (nullable = true)\n",
      "\n"
     ]
    }
   ],
   "source": [
    "result.printSchema()"
   ]
  },
  {
   "cell_type": "markdown",
   "metadata": {},
   "source": [
    "### vectorization"
   ]
  },
  {
   "cell_type": "code",
   "execution_count": 92,
   "metadata": {},
   "outputs": [],
   "source": [
    "#indexed_features = ['user_id','merchant_abn', 'order_datetime', 'tags', 'revenue_level','state',\t'postcode',\t'gender', 'dollar_value_buckets',\t'take_rate_buckets']"
   ]
  },
  {
   "cell_type": "code",
   "execution_count": 93,
   "metadata": {},
   "outputs": [
    {
     "data": {
      "text/plain": [
       "[StringIndexer_30666376522d,\n",
       " StringIndexer_8c0a3bad0cf6,\n",
       " StringIndexer_824e0c5a38c7,\n",
       " StringIndexer_6f5397d53f92,\n",
       " StringIndexer_99ca01fded61,\n",
       " StringIndexer_7c0a5183fd6a,\n",
       " StringIndexer_e90a613486a4,\n",
       " StringIndexer_f8e056a9548e,\n",
       " StringIndexer_ef4ddef67ecc,\n",
       " StringIndexer_42ec6ad5ce46]"
      ]
     },
     "execution_count": 93,
     "metadata": {},
     "output_type": "execute_result"
    }
   ],
   "source": [
    "'''\n",
    "indexers =[]\n",
    "for col in indexed_features:\n",
    "  indexers.append(StringIndexer(inputCol=col, outputCol = col+\"_index\"))\n",
    "\n",
    "indexers\n",
    "'''"
   ]
  },
  {
   "cell_type": "code",
   "execution_count": 94,
   "metadata": {},
   "outputs": [],
   "source": [
    "#indexers.append(StringIndexer(inputCol='is_fraud', outputCol = \"label\"))"
   ]
  },
  {
   "cell_type": "code",
   "execution_count": 95,
   "metadata": {},
   "outputs": [],
   "source": [
    "#pipeline = Pipeline(stages=indexers)"
   ]
  },
  {
   "cell_type": "code",
   "execution_count": 96,
   "metadata": {},
   "outputs": [
    {
     "name": "stderr",
     "output_type": "stream",
     "text": [
      "                                                                                \r"
     ]
    }
   ],
   "source": [
    "#Fitting a model to the input dataset. \n",
    "#indexed_result = pipeline.fit(result).transform(result)"
   ]
  },
  {
   "cell_type": "code",
   "execution_count": 98,
   "metadata": {},
   "outputs": [
    {
     "name": "stdout",
     "output_type": "stream",
     "text": [
      "+-------+------------+--------------+------------------+-------------+-------------+--------+-----------------------------+---------+-------------+---------+-----------+-----+--------+------+--------------------+-----------------+-------------+------------------+--------------------+----------+-------------------+-----------+--------------+------------+--------------------------+-----------------------+-----+---------------------------------------------------+\n",
      "|user_id|merchant_abn|order_datetime|dollar_value      |merchant_prob|consumer_prob|is_fraud|name                         |tags     |revenue_level|take_rate|consumer_id|state|postcode|gender|dollar_value_buckets|take_rate_buckets|user_id_index|merchant_abn_index|order_datetime_index|tags_index|revenue_level_index|state_index|postcode_index|gender_index|dollar_value_buckets_index|take_rate_buckets_index|label|features                                           |\n",
      "+-------+------------+--------------+------------------+-------------+-------------+--------+-----------------------------+---------+-------------+---------+-----------+-----+--------+------+--------------------+-----------------+-------------+------------------+--------------------+----------+-------------------+-----------+--------------+------------+--------------------------+-----------------------+-----+---------------------------------------------------+\n",
      "|18478  |62191208634 |2021-08-20    |63.255848959735246|0.01         |0.01         |0       |Cursus Non Egestas Foundation|furniture|c            |2.17     |651338     |TAS  |7001    |Male  |0.0                 |2.0              |18015.0      |165.0             |49.0                |8.0       |2.0                |5.0        |1235.0        |0.0         |0.0                       |2.0                    |0.0  |[18015.0,165.0,49.0,8.0,2.0,5.0,1235.0,0.0,0.0,2.0]|\n",
      "|2      |15549624934 |2021-08-20    |130.3505283105634 |0.01         |0.01         |0       |Commodo Associates           |opticians|c            |2.76     |179208     |NSW  |2782    |Female|0.0                 |2.0              |17454.0      |984.0             |49.0                |7.0       |2.0                |0.0        |151.0         |1.0         |0.0                       |2.0                    |0.0  |[17454.0,984.0,49.0,7.0,2.0,0.0,151.0,1.0,0.0,2.0] |\n",
      "|18479  |64403598239 |2021-08-20    |120.15860593212783|0.01         |0.01         |0       |Lobortis Ultrices Company    |music    |a            |6.31     |467663     |TAS  |7010    |Female|0.0                 |6.0              |13961.0      |12.0              |49.0                |13.0      |0.0                |5.0        |2183.0        |1.0         |0.0                       |0.0                    |0.0  |[13961.0,12.0,49.0,13.0,0.0,5.0,2183.0,1.0,0.0,0.0]|\n",
      "|3      |60956456424 |2021-08-20    |136.6785200286976 |0.01         |0.01         |0       |Ultricies Dignissim LLP      |gift     |b            |4.69     |1194530    |NT   |862     |Female|0.0                 |4.0              |13503.0      |16.0              |49.0                |1.0       |1.0                |6.0        |2762.0        |1.0         |0.0                       |3.0                    |0.0  |[13503.0,16.0,49.0,1.0,1.0,6.0,2762.0,1.0,0.0,3.0] |\n",
      "|18479  |94493496784 |2021-08-20    |72.96316578355305 |0.01         |0.01         |0       |Dictum Phasellus In Institute|gift     |a            |5.65     |467663     |TAS  |7010    |Female|0.0                 |5.0              |13961.0      |15.0              |49.0                |1.0       |0.0                |5.0        |2183.0        |1.0         |0.0                       |1.0                    |0.0  |[13961.0,15.0,49.0,1.0,0.0,5.0,2183.0,1.0,0.0,1.0] |\n",
      "+-------+------------+--------------+------------------+-------------+-------------+--------+-----------------------------+---------+-------------+---------+-----------+-----+--------+------+--------------------+-----------------+-------------+------------------+--------------------+----------+-------------------+-----------+--------------+------------+--------------------------+-----------------------+-----+---------------------------------------------------+\n",
      "only showing top 5 rows\n",
      "\n"
     ]
    },
    {
     "name": "stderr",
     "output_type": "stream",
     "text": [
      "22/09/17 18:03:55 WARN DAGScheduler: Broadcasting large task binary with size 1253.8 KiB\n"
     ]
    }
   ],
   "source": [
    "#vectorAssembler = VectorAssembler(inputCols = ['user_id_index',\t'merchant_abn_index',\t'order_datetime_index',\t'tags_index',\t'revenue_level_index',\t'state_index',\t'postcode_index',\t'gender_index',\t'dollar_value_buckets_index',\t'take_rate_buckets_index'],outputCol = 'features') \n",
    "#vindexed_result_df = vectorAssembler.transform(indexed_result) "
   ]
  },
  {
   "cell_type": "code",
   "execution_count": 99,
   "metadata": {},
   "outputs": [
    {
     "name": "stderr",
     "output_type": "stream",
     "text": [
      "22/09/17 18:04:10 WARN DAGScheduler: Broadcasting large task binary with size 1253.8 KiB\n",
      "22/09/17 18:04:10 WARN DAGScheduler: Broadcasting large task binary with size 1253.8 KiB\n"
     ]
    },
    {
     "data": {
      "text/html": [
       "<table border='1'>\n",
       "<tr><th>user_id</th><th>merchant_abn</th><th>order_datetime</th><th>dollar_value</th><th>merchant_prob</th><th>consumer_prob</th><th>is_fraud</th><th>name</th><th>tags</th><th>revenue_level</th><th>take_rate</th><th>consumer_id</th><th>state</th><th>postcode</th><th>gender</th><th>dollar_value_buckets</th><th>take_rate_buckets</th><th>user_id_index</th><th>merchant_abn_index</th><th>order_datetime_index</th><th>tags_index</th><th>revenue_level_index</th><th>state_index</th><th>postcode_index</th><th>gender_index</th><th>dollar_value_buckets_index</th><th>take_rate_buckets_index</th><th>label</th><th>features</th></tr>\n",
       "<tr><td>18478</td><td>62191208634</td><td>2021-08-20</td><td>63.255848959735246</td><td>0.01</td><td>0.01</td><td>0</td><td>Cursus Non Egesta...</td><td>furniture</td><td>c</td><td>2.17</td><td>651338</td><td>TAS</td><td>7001</td><td>Male</td><td>0.0</td><td>2.0</td><td>18015.0</td><td>165.0</td><td>49.0</td><td>8.0</td><td>2.0</td><td>5.0</td><td>1235.0</td><td>0.0</td><td>0.0</td><td>2.0</td><td>0.0</td><td>[18015.0,165.0,49...</td></tr>\n",
       "<tr><td>2</td><td>15549624934</td><td>2021-08-20</td><td>130.3505283105634</td><td>0.01</td><td>0.01</td><td>0</td><td>Commodo Associates</td><td>opticians</td><td>c</td><td>2.76</td><td>179208</td><td>NSW</td><td>2782</td><td>Female</td><td>0.0</td><td>2.0</td><td>17454.0</td><td>984.0</td><td>49.0</td><td>7.0</td><td>2.0</td><td>0.0</td><td>151.0</td><td>1.0</td><td>0.0</td><td>2.0</td><td>0.0</td><td>[17454.0,984.0,49...</td></tr>\n",
       "<tr><td>18479</td><td>64403598239</td><td>2021-08-20</td><td>120.15860593212783</td><td>0.01</td><td>0.01</td><td>0</td><td>Lobortis Ultrices...</td><td>music</td><td>a</td><td>6.31</td><td>467663</td><td>TAS</td><td>7010</td><td>Female</td><td>0.0</td><td>6.0</td><td>13961.0</td><td>12.0</td><td>49.0</td><td>13.0</td><td>0.0</td><td>5.0</td><td>2183.0</td><td>1.0</td><td>0.0</td><td>0.0</td><td>0.0</td><td>[13961.0,12.0,49....</td></tr>\n",
       "<tr><td>3</td><td>60956456424</td><td>2021-08-20</td><td>136.6785200286976</td><td>0.01</td><td>0.01</td><td>0</td><td>Ultricies Digniss...</td><td>gift</td><td>b</td><td>4.69</td><td>1194530</td><td>NT</td><td>862</td><td>Female</td><td>0.0</td><td>4.0</td><td>13503.0</td><td>16.0</td><td>49.0</td><td>1.0</td><td>1.0</td><td>6.0</td><td>2762.0</td><td>1.0</td><td>0.0</td><td>3.0</td><td>0.0</td><td>[13503.0,16.0,49....</td></tr>\n",
       "<tr><td>18479</td><td>94493496784</td><td>2021-08-20</td><td>72.96316578355305</td><td>0.01</td><td>0.01</td><td>0</td><td>Dictum Phasellus ...</td><td>gift</td><td>a</td><td>5.65</td><td>467663</td><td>TAS</td><td>7010</td><td>Female</td><td>0.0</td><td>5.0</td><td>13961.0</td><td>15.0</td><td>49.0</td><td>1.0</td><td>0.0</td><td>5.0</td><td>2183.0</td><td>1.0</td><td>0.0</td><td>1.0</td><td>0.0</td><td>[13961.0,15.0,49....</td></tr>\n",
       "<tr><td>3</td><td>76819856970</td><td>2021-08-20</td><td>448.529684285612</td><td>0.01</td><td>0.01</td><td>0</td><td>Egestas Blandit Ltd</td><td>tent</td><td>b</td><td>3.19</td><td>1194530</td><td>NT</td><td>862</td><td>Female</td><td>2.0</td><td>3.0</td><td>13503.0</td><td>160.0</td><td>49.0</td><td>0.0</td><td>1.0</td><td>6.0</td><td>2762.0</td><td>1.0</td><td>2.0</td><td>4.0</td><td>0.0</td><td>[13503.0,160.0,49...</td></tr>\n",
       "<tr><td>18479</td><td>67609108741</td><td>2021-08-20</td><td>86.4040605836911</td><td>0.01</td><td>0.01</td><td>0</td><td>Metus Sit Amet In...</td><td>cable</td><td>e</td><td>0.38</td><td>467663</td><td>TAS</td><td>7010</td><td>Female</td><td>0.0</td><td>0.0</td><td>13961.0</td><td>156.0</td><td>49.0</td><td>5.0</td><td>4.0</td><td>5.0</td><td>2183.0</td><td>1.0</td><td>0.0</td><td>6.0</td><td>0.0</td><td>[13961.0,156.0,49...</td></tr>\n",
       "<tr><td>3</td><td>34096466752</td><td>2021-08-20</td><td>301.5793450525113</td><td>0.01</td><td>0.01</td><td>0</td><td>Nullam Enim Ltd</td><td>computer</td><td>b</td><td>3.22</td><td>1194530</td><td>NT</td><td>862</td><td>Female</td><td>1.0</td><td>3.0</td><td>13503.0</td><td>134.0</td><td>49.0</td><td>3.0</td><td>1.0</td><td>6.0</td><td>2762.0</td><td>1.0</td><td>1.0</td><td>4.0</td><td>0.0</td><td>[13503.0,134.0,49...</td></tr>\n",
       "<tr><td>18482</td><td>70501974849</td><td>2021-08-20</td><td>68.75486276223054</td><td>0.01</td><td>0.01</td><td>0</td><td>Facilisis Lorem T...</td><td>computer</td><td>b</td><td>3.3</td><td>918448</td><td>NSW</td><td>1430</td><td>Male</td><td>0.0</td><td>3.0</td><td>16772.0</td><td>186.0</td><td>49.0</td><td>3.0</td><td>1.0</td><td>0.0</td><td>2533.0</td><td>0.0</td><td>0.0</td><td>4.0</td><td>0.0</td><td>[16772.0,186.0,49...</td></tr>\n",
       "<tr><td>4</td><td>49891706470</td><td>2021-08-20</td><td>48.89796461900801</td><td>0.01</td><td>0.01</td><td>0</td><td>Non Vestibulum In...</td><td>tent</td><td>a</td><td>5.8</td><td>154128</td><td>NSW</td><td>2780</td><td>Female</td><td>0.0</td><td>5.0</td><td>4044.0</td><td>3.0</td><td>49.0</td><td>0.0</td><td>0.0</td><td>0.0</td><td>191.0</td><td>1.0</td><td>0.0</td><td>1.0</td><td>0.0</td><td>[4044.0,3.0,49.0,...</td></tr>\n",
       "<tr><td>18482</td><td>46804135891</td><td>2021-08-20</td><td>6.6168976971833615</td><td>0.01</td><td>0.01</td><td>0</td><td>Suspendisse Dui C...</td><td>opticians</td><td>c</td><td>2.93</td><td>918448</td><td>NSW</td><td>1430</td><td>Male</td><td>0.0</td><td>2.0</td><td>16772.0</td><td>4.0</td><td>49.0</td><td>7.0</td><td>2.0</td><td>0.0</td><td>2533.0</td><td>0.0</td><td>0.0</td><td>2.0</td><td>0.0</td><td>[16772.0,4.0,49.0...</td></tr>\n",
       "<tr><td>7</td><td>33064796871</td><td>2021-08-20</td><td>373.0873675184212</td><td>0.01</td><td>0.01</td><td>0</td><td>Curabitur Massa C...</td><td>computer</td><td>b</td><td>3.75</td><td>511685</td><td>QLD</td><td>4606</td><td>Female</td><td>1.0</td><td>3.0</td><td>15026.0</td><td>807.0</td><td>49.0</td><td>3.0</td><td>1.0</td><td>3.0</td><td>2964.0</td><td>1.0</td><td>1.0</td><td>4.0</td><td>0.0</td><td>[15026.0,807.0,49...</td></tr>\n",
       "<tr><td>18483</td><td>44160392990</td><td>2021-08-20</td><td>83.98473054761176</td><td>0.01</td><td>0.01</td><td>0</td><td>Sociis Natoque In...</td><td>digital goods</td><td>a</td><td>5.97</td><td>191119</td><td>QLD</td><td>4118</td><td>Female</td><td>0.0</td><td>5.0</td><td>10465.0</td><td>385.0</td><td>49.0</td><td>2.0</td><td>0.0</td><td>3.0</td><td>605.0</td><td>1.0</td><td>0.0</td><td>1.0</td><td>0.0</td><td>[10465.0,385.0,49...</td></tr>\n",
       "<tr><td>7</td><td>68435002949</td><td>2021-08-20</td><td>232.5364986739752</td><td>0.01</td><td>0.01</td><td>0</td><td>Aliquam Eu Inc.</td><td>artist supply</td><td>a</td><td>6.65</td><td>511685</td><td>QLD</td><td>4606</td><td>Female</td><td>1.0</td><td>6.0</td><td>15026.0</td><td>553.0</td><td>49.0</td><td>9.0</td><td>0.0</td><td>3.0</td><td>2964.0</td><td>1.0</td><td>1.0</td><td>0.0</td><td>0.0</td><td>[15026.0,553.0,49...</td></tr>\n",
       "<tr><td>18484</td><td>70033549200</td><td>2021-08-20</td><td>871.7678061729196</td><td>0.01</td><td>0.01</td><td>0</td><td>Mus Proin LLP</td><td>tent</td><td>b</td><td>4.78</td><td>596919</td><td>QLD</td><td>4309</td><td>Male</td><td>4.0</td><td>4.0</td><td>3093.0</td><td>355.0</td><td>49.0</td><td>0.0</td><td>1.0</td><td>3.0</td><td>1866.0</td><td>0.0</td><td>4.0</td><td>3.0</td><td>0.0</td><td>[3093.0,355.0,49....</td></tr>\n",
       "<tr><td>7</td><td>41944909975</td><td>2021-08-20</td><td>30.910755230234322</td><td>0.01</td><td>0.01</td><td>0</td><td>Et Nunc Consulting</td><td>books</td><td>e</td><td>0.16</td><td>511685</td><td>QLD</td><td>4606</td><td>Female</td><td>0.0</td><td>0.0</td><td>15026.0</td><td>56.0</td><td>49.0</td><td>11.0</td><td>4.0</td><td>3.0</td><td>2964.0</td><td>1.0</td><td>0.0</td><td>6.0</td><td>0.0</td><td>[15026.0,56.0,49....</td></tr>\n",
       "<tr><td>18485</td><td>41705715409</td><td>2021-08-20</td><td>309.5417224575787</td><td>0.01</td><td>0.01</td><td>0</td><td>Augue Eu LLP</td><td>furniture</td><td>a</td><td>6.05</td><td>1212819</td><td>VIC</td><td>3073</td><td>Male</td><td>1.0</td><td>6.0</td><td>5341.0</td><td>271.0</td><td>49.0</td><td>8.0</td><td>0.0</td><td>1.0</td><td>943.0</td><td>0.0</td><td>1.0</td><td>0.0</td><td>0.0</td><td>[5341.0,271.0,49....</td></tr>\n",
       "<tr><td>18487</td><td>32361057556</td><td>2021-08-20</td><td>119.19055863068847</td><td>0.01</td><td>0.01</td><td>0</td><td>Orci In Consequat...</td><td>gift</td><td>a</td><td>6.61</td><td>1165699</td><td>NSW</td><td>1004</td><td>Female</td><td>0.0</td><td>6.0</td><td>16058.0</td><td>17.0</td><td>49.0</td><td>1.0</td><td>0.0</td><td>0.0</td><td>227.0</td><td>1.0</td><td>0.0</td><td>0.0</td><td>0.0</td><td>[16058.0,17.0,49....</td></tr>\n",
       "<tr><td>9</td><td>47663262928</td><td>2021-08-20</td><td>36.69873283148887</td><td>0.01</td><td>0.01</td><td>0</td><td>Eget Lacus LLP</td><td>cable</td><td>a</td><td>6.66</td><td>650435</td><td>NSW</td><td>2482</td><td>Female</td><td>0.0</td><td>6.0</td><td>15101.0</td><td>277.0</td><td>49.0</td><td>5.0</td><td>0.0</td><td>0.0</td><td>584.0</td><td>1.0</td><td>0.0</td><td>0.0</td><td>0.0</td><td>[15101.0,277.0,49...</td></tr>\n",
       "<tr><td>18487</td><td>30458474292</td><td>2021-08-20</td><td>26.99459359443691</td><td>0.01</td><td>0.01</td><td>0</td><td>Euismod Est Found...</td><td>watch</td><td>a</td><td>5.62</td><td>1165699</td><td>NSW</td><td>1004</td><td>Female</td><td>0.0</td><td>5.0</td><td>16058.0</td><td>192.0</td><td>49.0</td><td>4.0</td><td>0.0</td><td>0.0</td><td>227.0</td><td>1.0</td><td>0.0</td><td>1.0</td><td>0.0</td><td>[16058.0,192.0,49...</td></tr>\n",
       "</table>\n",
       "only showing top 20 rows\n"
      ],
      "text/plain": [
       "+-------+------------+--------------+------------------+-------------+-------------+--------+--------------------+-------------+-------------+---------+-----------+-----+--------+------+--------------------+-----------------+-------------+------------------+--------------------+----------+-------------------+-----------+--------------+------------+--------------------------+-----------------------+-----+--------------------+\n",
       "|user_id|merchant_abn|order_datetime|      dollar_value|merchant_prob|consumer_prob|is_fraud|                name|         tags|revenue_level|take_rate|consumer_id|state|postcode|gender|dollar_value_buckets|take_rate_buckets|user_id_index|merchant_abn_index|order_datetime_index|tags_index|revenue_level_index|state_index|postcode_index|gender_index|dollar_value_buckets_index|take_rate_buckets_index|label|            features|\n",
       "+-------+------------+--------------+------------------+-------------+-------------+--------+--------------------+-------------+-------------+---------+-----------+-----+--------+------+--------------------+-----------------+-------------+------------------+--------------------+----------+-------------------+-----------+--------------+------------+--------------------------+-----------------------+-----+--------------------+\n",
       "|  18478| 62191208634|    2021-08-20|63.255848959735246|         0.01|         0.01|       0|Cursus Non Egesta...|    furniture|            c|     2.17|     651338|  TAS|    7001|  Male|                 0.0|              2.0|      18015.0|             165.0|                49.0|       8.0|                2.0|        5.0|        1235.0|         0.0|                       0.0|                    2.0|  0.0|[18015.0,165.0,49...|\n",
       "|      2| 15549624934|    2021-08-20| 130.3505283105634|         0.01|         0.01|       0|  Commodo Associates|    opticians|            c|     2.76|     179208|  NSW|    2782|Female|                 0.0|              2.0|      17454.0|             984.0|                49.0|       7.0|                2.0|        0.0|         151.0|         1.0|                       0.0|                    2.0|  0.0|[17454.0,984.0,49...|\n",
       "|  18479| 64403598239|    2021-08-20|120.15860593212783|         0.01|         0.01|       0|Lobortis Ultrices...|        music|            a|     6.31|     467663|  TAS|    7010|Female|                 0.0|              6.0|      13961.0|              12.0|                49.0|      13.0|                0.0|        5.0|        2183.0|         1.0|                       0.0|                    0.0|  0.0|[13961.0,12.0,49....|\n",
       "|      3| 60956456424|    2021-08-20| 136.6785200286976|         0.01|         0.01|       0|Ultricies Digniss...|         gift|            b|     4.69|    1194530|   NT|     862|Female|                 0.0|              4.0|      13503.0|              16.0|                49.0|       1.0|                1.0|        6.0|        2762.0|         1.0|                       0.0|                    3.0|  0.0|[13503.0,16.0,49....|\n",
       "|  18479| 94493496784|    2021-08-20| 72.96316578355305|         0.01|         0.01|       0|Dictum Phasellus ...|         gift|            a|     5.65|     467663|  TAS|    7010|Female|                 0.0|              5.0|      13961.0|              15.0|                49.0|       1.0|                0.0|        5.0|        2183.0|         1.0|                       0.0|                    1.0|  0.0|[13961.0,15.0,49....|\n",
       "|      3| 76819856970|    2021-08-20|  448.529684285612|         0.01|         0.01|       0| Egestas Blandit Ltd|         tent|            b|     3.19|    1194530|   NT|     862|Female|                 2.0|              3.0|      13503.0|             160.0|                49.0|       0.0|                1.0|        6.0|        2762.0|         1.0|                       2.0|                    4.0|  0.0|[13503.0,160.0,49...|\n",
       "|  18479| 67609108741|    2021-08-20|  86.4040605836911|         0.01|         0.01|       0|Metus Sit Amet In...|        cable|            e|     0.38|     467663|  TAS|    7010|Female|                 0.0|              0.0|      13961.0|             156.0|                49.0|       5.0|                4.0|        5.0|        2183.0|         1.0|                       0.0|                    6.0|  0.0|[13961.0,156.0,49...|\n",
       "|      3| 34096466752|    2021-08-20| 301.5793450525113|         0.01|         0.01|       0|     Nullam Enim Ltd|     computer|            b|     3.22|    1194530|   NT|     862|Female|                 1.0|              3.0|      13503.0|             134.0|                49.0|       3.0|                1.0|        6.0|        2762.0|         1.0|                       1.0|                    4.0|  0.0|[13503.0,134.0,49...|\n",
       "|  18482| 70501974849|    2021-08-20| 68.75486276223054|         0.01|         0.01|       0|Facilisis Lorem T...|     computer|            b|      3.3|     918448|  NSW|    1430|  Male|                 0.0|              3.0|      16772.0|             186.0|                49.0|       3.0|                1.0|        0.0|        2533.0|         0.0|                       0.0|                    4.0|  0.0|[16772.0,186.0,49...|\n",
       "|      4| 49891706470|    2021-08-20| 48.89796461900801|         0.01|         0.01|       0|Non Vestibulum In...|         tent|            a|      5.8|     154128|  NSW|    2780|Female|                 0.0|              5.0|       4044.0|               3.0|                49.0|       0.0|                0.0|        0.0|         191.0|         1.0|                       0.0|                    1.0|  0.0|[4044.0,3.0,49.0,...|\n",
       "|  18482| 46804135891|    2021-08-20|6.6168976971833615|         0.01|         0.01|       0|Suspendisse Dui C...|    opticians|            c|     2.93|     918448|  NSW|    1430|  Male|                 0.0|              2.0|      16772.0|               4.0|                49.0|       7.0|                2.0|        0.0|        2533.0|         0.0|                       0.0|                    2.0|  0.0|[16772.0,4.0,49.0...|\n",
       "|      7| 33064796871|    2021-08-20| 373.0873675184212|         0.01|         0.01|       0|Curabitur Massa C...|     computer|            b|     3.75|     511685|  QLD|    4606|Female|                 1.0|              3.0|      15026.0|             807.0|                49.0|       3.0|                1.0|        3.0|        2964.0|         1.0|                       1.0|                    4.0|  0.0|[15026.0,807.0,49...|\n",
       "|  18483| 44160392990|    2021-08-20| 83.98473054761176|         0.01|         0.01|       0|Sociis Natoque In...|digital goods|            a|     5.97|     191119|  QLD|    4118|Female|                 0.0|              5.0|      10465.0|             385.0|                49.0|       2.0|                0.0|        3.0|         605.0|         1.0|                       0.0|                    1.0|  0.0|[10465.0,385.0,49...|\n",
       "|      7| 68435002949|    2021-08-20| 232.5364986739752|         0.01|         0.01|       0|     Aliquam Eu Inc.|artist supply|            a|     6.65|     511685|  QLD|    4606|Female|                 1.0|              6.0|      15026.0|             553.0|                49.0|       9.0|                0.0|        3.0|        2964.0|         1.0|                       1.0|                    0.0|  0.0|[15026.0,553.0,49...|\n",
       "|  18484| 70033549200|    2021-08-20| 871.7678061729196|         0.01|         0.01|       0|       Mus Proin LLP|         tent|            b|     4.78|     596919|  QLD|    4309|  Male|                 4.0|              4.0|       3093.0|             355.0|                49.0|       0.0|                1.0|        3.0|        1866.0|         0.0|                       4.0|                    3.0|  0.0|[3093.0,355.0,49....|\n",
       "|      7| 41944909975|    2021-08-20|30.910755230234322|         0.01|         0.01|       0|  Et Nunc Consulting|        books|            e|     0.16|     511685|  QLD|    4606|Female|                 0.0|              0.0|      15026.0|              56.0|                49.0|      11.0|                4.0|        3.0|        2964.0|         1.0|                       0.0|                    6.0|  0.0|[15026.0,56.0,49....|\n",
       "|  18485| 41705715409|    2021-08-20| 309.5417224575787|         0.01|         0.01|       0|        Augue Eu LLP|    furniture|            a|     6.05|    1212819|  VIC|    3073|  Male|                 1.0|              6.0|       5341.0|             271.0|                49.0|       8.0|                0.0|        1.0|         943.0|         0.0|                       1.0|                    0.0|  0.0|[5341.0,271.0,49....|\n",
       "|  18487| 32361057556|    2021-08-20|119.19055863068847|         0.01|         0.01|       0|Orci In Consequat...|         gift|            a|     6.61|    1165699|  NSW|    1004|Female|                 0.0|              6.0|      16058.0|              17.0|                49.0|       1.0|                0.0|        0.0|         227.0|         1.0|                       0.0|                    0.0|  0.0|[16058.0,17.0,49....|\n",
       "|      9| 47663262928|    2021-08-20| 36.69873283148887|         0.01|         0.01|       0|      Eget Lacus LLP|        cable|            a|     6.66|     650435|  NSW|    2482|Female|                 0.0|              6.0|      15101.0|             277.0|                49.0|       5.0|                0.0|        0.0|         584.0|         1.0|                       0.0|                    0.0|  0.0|[15101.0,277.0,49...|\n",
       "|  18487| 30458474292|    2021-08-20| 26.99459359443691|         0.01|         0.01|       0|Euismod Est Found...|        watch|            a|     5.62|    1165699|  NSW|    1004|Female|                 0.0|              5.0|      16058.0|             192.0|                49.0|       4.0|                0.0|        0.0|         227.0|         1.0|                       0.0|                    1.0|  0.0|[16058.0,192.0,49...|\n",
       "+-------+------------+--------------+------------------+-------------+-------------+--------+--------------------+-------------+-------------+---------+-----------+-----+--------+------+--------------------+-----------------+-------------+------------------+--------------------+----------+-------------------+-----------+--------------+------------+--------------------------+-----------------------+-----+--------------------+\n",
       "only showing top 20 rows"
      ]
     },
     "execution_count": 99,
     "metadata": {},
     "output_type": "execute_result"
    }
   ],
   "source": [
    "#vindexed_result_df"
   ]
  },
  {
   "cell_type": "markdown",
   "metadata": {},
   "source": [
    "## try logistic regiression"
   ]
  },
  {
   "cell_type": "markdown",
   "metadata": {},
   "source": [
    "## Prediction Models\n",
    "\n",
    "Since prediction outputs should be discrete labels (True or False for fraud checking), classification models are selected:\n",
    "1. Naive Bayes Models:  unbalanced prior, not suitable\n",
    "2. Logistic Regression\n",
    "3. Support Vector Machines (SVMs)\n",
    "4. Clustering Analysis\n",
    "5. Dicision tree\n",
    "6. Random Forest\n",
    "7. Neural network"
   ]
  },
  {
   "cell_type": "code",
   "execution_count": 11,
   "metadata": {},
   "outputs": [
    {
     "ename": "TypeError",
     "evalue": "Singleton array array(+-------+--------------+------------+------------------+-------------+-------------+\n|user_id|order_datetime|merchant_abn|      dollar_value|merchant_prob|consumer_prob|\n+-------+--------------+------------+------------------+-------------+-------------+\n|  14935|    2021-11-26| 79417999332|136.06570809815838|         0.01|         0.01|\n|      1|    2021-11-26| 46451548968| 72.61581642788431|         0.01|         0.01|\n|  14936|    2021-11-26| 89518629617|3.0783487174439297|         0.01|         0.01|\n|      1|    2021-11-26| 49167531725| 51.58228625503599|         0.01|         0.01|\n|  14936|    2021-11-26| 31101120643|25.228114942417797|         0.01|         0.01|\n|      2|    2021-11-26| 67978471888| 691.5028234458998|         0.01|         0.01|\n|  14936|    2021-11-26| 60956456424|102.13952056640888|         0.01|         0.01|\n|      2|    2021-11-26| 47644196714| 644.5220654863093|         0.01|         0.01|\n|  14938|    2021-11-26| 39649557865|209.12780951421405|    28.690205|         0.01|\n|      3|    2021-11-26| 88402174457| 141.0387993699113|         0.01|         0.01|\n|  14938|    2021-11-26| 32234779638|102.04090324888061|         0.01|         0.01|\n|      4|    2021-11-26| 24015173965|             157.0|         0.01|         0.01|\n|  14939|    2021-11-26| 79830510987|246.13590152514766|         0.01|         0.01|\n|      5|    2021-11-26| 76646764782|35.463129852951695|         0.01|         0.01|\n|  14939|    2021-11-26| 17324645993|24.108258533478818|         0.01|         0.01|\n|      5|    2021-11-26| 71041015148| 89.76800577775657|         0.01|         0.01|\n|  14939|    2021-11-26| 75089928159|14.806519329659501|         0.01|         0.01|\n|      5|    2021-11-26| 80324045558| 62.79195913018835|         0.01|         0.01|\n|  14939|    2021-11-26| 50315283629| 575.3321071340728|    29.088158|         0.01|\n|      6|    2021-11-26| 11566786699|15.856637357709419|         0.01|         0.01|\n+-------+--------------+------------+------------------+-------------+-------------+\nonly showing top 20 rows\n, dtype=object) cannot be considered a valid collection.",
     "output_type": "error",
     "traceback": [
      "\u001b[0;31m---------------------------------------------------------------------------\u001b[0m",
      "\u001b[0;31mTypeError\u001b[0m                                 Traceback (most recent call last)",
      "\u001b[1;32m/mnt/d/Unimelb/3.S2/ads/asmt2/github/generic-buy-now-pay-later-project-group-14/notebooks/fraud_model.ipynb Cell 26\u001b[0m in \u001b[0;36m<cell line: 12>\u001b[0;34m()\u001b[0m\n\u001b[1;32m     <a href='vscode-notebook-cell://wsl%2Bubuntu-20.04/mnt/d/Unimelb/3.S2/ads/asmt2/github/generic-buy-now-pay-later-project-group-14/notebooks/fraud_model.ipynb#X34sdnNjb2RlLXJlbW90ZQ%3D%3D?line=9'>10</a>\u001b[0m bnb \u001b[39m=\u001b[39m BernoulliNB()\n\u001b[1;32m     <a href='vscode-notebook-cell://wsl%2Bubuntu-20.04/mnt/d/Unimelb/3.S2/ads/asmt2/github/generic-buy-now-pay-later-project-group-14/notebooks/fraud_model.ipynb#X34sdnNjb2RlLXJlbW90ZQ%3D%3D?line=11'>12</a>\u001b[0m \u001b[39mfor\u001b[39;00m i \u001b[39min\u001b[39;00m \u001b[39mrange\u001b[39m(\u001b[39m3\u001b[39m):\n\u001b[0;32m---> <a href='vscode-notebook-cell://wsl%2Bubuntu-20.04/mnt/d/Unimelb/3.S2/ads/asmt2/github/generic-buy-now-pay-later-project-group-14/notebooks/fraud_model.ipynb#X34sdnNjb2RlLXJlbW90ZQ%3D%3D?line=12'>13</a>\u001b[0m     X_train, X_test, y_train, y_test \u001b[39m=\u001b[39m train_test_split(X, y, test_size\u001b[39m=\u001b[39;49m\u001b[39m0.33\u001b[39;49m, random_state\u001b[39m=\u001b[39;49mi)\n\u001b[1;32m     <a href='vscode-notebook-cell://wsl%2Bubuntu-20.04/mnt/d/Unimelb/3.S2/ads/asmt2/github/generic-buy-now-pay-later-project-group-14/notebooks/fraud_model.ipynb#X34sdnNjb2RlLXJlbW90ZQ%3D%3D?line=13'>14</a>\u001b[0m     gnb\u001b[39m.\u001b[39mfit(X_train, y_train)\n\u001b[1;32m     <a href='vscode-notebook-cell://wsl%2Bubuntu-20.04/mnt/d/Unimelb/3.S2/ads/asmt2/github/generic-buy-now-pay-later-project-group-14/notebooks/fraud_model.ipynb#X34sdnNjb2RlLXJlbW90ZQ%3D%3D?line=14'>15</a>\u001b[0m     acc \u001b[39m=\u001b[39m gnb\u001b[39m.\u001b[39mscore(X_test, y_test)\n",
      "File \u001b[0;32m~/.local/lib/python3.8/site-packages/sklearn/model_selection/_split.py:2445\u001b[0m, in \u001b[0;36mtrain_test_split\u001b[0;34m(test_size, train_size, random_state, shuffle, stratify, *arrays)\u001b[0m\n\u001b[1;32m   2442\u001b[0m \u001b[39mif\u001b[39;00m n_arrays \u001b[39m==\u001b[39m \u001b[39m0\u001b[39m:\n\u001b[1;32m   2443\u001b[0m     \u001b[39mraise\u001b[39;00m \u001b[39mValueError\u001b[39;00m(\u001b[39m\"\u001b[39m\u001b[39mAt least one array required as input\u001b[39m\u001b[39m\"\u001b[39m)\n\u001b[0;32m-> 2445\u001b[0m arrays \u001b[39m=\u001b[39m indexable(\u001b[39m*\u001b[39;49marrays)\n\u001b[1;32m   2447\u001b[0m n_samples \u001b[39m=\u001b[39m _num_samples(arrays[\u001b[39m0\u001b[39m])\n\u001b[1;32m   2448\u001b[0m n_train, n_test \u001b[39m=\u001b[39m _validate_shuffle_split(\n\u001b[1;32m   2449\u001b[0m     n_samples, test_size, train_size, default_test_size\u001b[39m=\u001b[39m\u001b[39m0.25\u001b[39m\n\u001b[1;32m   2450\u001b[0m )\n",
      "File \u001b[0;32m~/.local/lib/python3.8/site-packages/sklearn/utils/validation.py:433\u001b[0m, in \u001b[0;36mindexable\u001b[0;34m(*iterables)\u001b[0m\n\u001b[1;32m    414\u001b[0m \u001b[39m\"\"\"Make arrays indexable for cross-validation.\u001b[39;00m\n\u001b[1;32m    415\u001b[0m \n\u001b[1;32m    416\u001b[0m \u001b[39mChecks consistent length, passes through None, and ensures that everything\u001b[39;00m\n\u001b[0;32m   (...)\u001b[0m\n\u001b[1;32m    429\u001b[0m \u001b[39m    sparse matrix, or dataframe) or `None`.\u001b[39;00m\n\u001b[1;32m    430\u001b[0m \u001b[39m\"\"\"\u001b[39;00m\n\u001b[1;32m    432\u001b[0m result \u001b[39m=\u001b[39m [_make_indexable(X) \u001b[39mfor\u001b[39;00m X \u001b[39min\u001b[39;00m iterables]\n\u001b[0;32m--> 433\u001b[0m check_consistent_length(\u001b[39m*\u001b[39;49mresult)\n\u001b[1;32m    434\u001b[0m \u001b[39mreturn\u001b[39;00m result\n",
      "File \u001b[0;32m~/.local/lib/python3.8/site-packages/sklearn/utils/validation.py:384\u001b[0m, in \u001b[0;36mcheck_consistent_length\u001b[0;34m(*arrays)\u001b[0m\n\u001b[1;32m    373\u001b[0m \u001b[39mdef\u001b[39;00m \u001b[39mcheck_consistent_length\u001b[39m(\u001b[39m*\u001b[39marrays):\n\u001b[1;32m    374\u001b[0m     \u001b[39m\"\"\"Check that all arrays have consistent first dimensions.\u001b[39;00m\n\u001b[1;32m    375\u001b[0m \n\u001b[1;32m    376\u001b[0m \u001b[39m    Checks whether all objects in arrays have the same shape or length.\u001b[39;00m\n\u001b[0;32m   (...)\u001b[0m\n\u001b[1;32m    381\u001b[0m \u001b[39m        Objects that will be checked for consistent length.\u001b[39;00m\n\u001b[1;32m    382\u001b[0m \u001b[39m    \"\"\"\u001b[39;00m\n\u001b[0;32m--> 384\u001b[0m     lengths \u001b[39m=\u001b[39m [_num_samples(X) \u001b[39mfor\u001b[39;00m X \u001b[39min\u001b[39;00m arrays \u001b[39mif\u001b[39;00m X \u001b[39mis\u001b[39;00m \u001b[39mnot\u001b[39;00m \u001b[39mNone\u001b[39;00m]\n\u001b[1;32m    385\u001b[0m     uniques \u001b[39m=\u001b[39m np\u001b[39m.\u001b[39munique(lengths)\n\u001b[1;32m    386\u001b[0m     \u001b[39mif\u001b[39;00m \u001b[39mlen\u001b[39m(uniques) \u001b[39m>\u001b[39m \u001b[39m1\u001b[39m:\n",
      "File \u001b[0;32m~/.local/lib/python3.8/site-packages/sklearn/utils/validation.py:384\u001b[0m, in \u001b[0;36m<listcomp>\u001b[0;34m(.0)\u001b[0m\n\u001b[1;32m    373\u001b[0m \u001b[39mdef\u001b[39;00m \u001b[39mcheck_consistent_length\u001b[39m(\u001b[39m*\u001b[39marrays):\n\u001b[1;32m    374\u001b[0m     \u001b[39m\"\"\"Check that all arrays have consistent first dimensions.\u001b[39;00m\n\u001b[1;32m    375\u001b[0m \n\u001b[1;32m    376\u001b[0m \u001b[39m    Checks whether all objects in arrays have the same shape or length.\u001b[39;00m\n\u001b[0;32m   (...)\u001b[0m\n\u001b[1;32m    381\u001b[0m \u001b[39m        Objects that will be checked for consistent length.\u001b[39;00m\n\u001b[1;32m    382\u001b[0m \u001b[39m    \"\"\"\u001b[39;00m\n\u001b[0;32m--> 384\u001b[0m     lengths \u001b[39m=\u001b[39m [_num_samples(X) \u001b[39mfor\u001b[39;00m X \u001b[39min\u001b[39;00m arrays \u001b[39mif\u001b[39;00m X \u001b[39mis\u001b[39;00m \u001b[39mnot\u001b[39;00m \u001b[39mNone\u001b[39;00m]\n\u001b[1;32m    385\u001b[0m     uniques \u001b[39m=\u001b[39m np\u001b[39m.\u001b[39munique(lengths)\n\u001b[1;32m    386\u001b[0m     \u001b[39mif\u001b[39;00m \u001b[39mlen\u001b[39m(uniques) \u001b[39m>\u001b[39m \u001b[39m1\u001b[39m:\n",
      "File \u001b[0;32m~/.local/lib/python3.8/site-packages/sklearn/utils/validation.py:325\u001b[0m, in \u001b[0;36m_num_samples\u001b[0;34m(x)\u001b[0m\n\u001b[1;32m    323\u001b[0m \u001b[39mif\u001b[39;00m \u001b[39mhasattr\u001b[39m(x, \u001b[39m\"\u001b[39m\u001b[39mshape\u001b[39m\u001b[39m\"\u001b[39m) \u001b[39mand\u001b[39;00m x\u001b[39m.\u001b[39mshape \u001b[39mis\u001b[39;00m \u001b[39mnot\u001b[39;00m \u001b[39mNone\u001b[39;00m:\n\u001b[1;32m    324\u001b[0m     \u001b[39mif\u001b[39;00m \u001b[39mlen\u001b[39m(x\u001b[39m.\u001b[39mshape) \u001b[39m==\u001b[39m \u001b[39m0\u001b[39m:\n\u001b[0;32m--> 325\u001b[0m         \u001b[39mraise\u001b[39;00m \u001b[39mTypeError\u001b[39;00m(\n\u001b[1;32m    326\u001b[0m             \u001b[39m\"\u001b[39m\u001b[39mSingleton array \u001b[39m\u001b[39m%r\u001b[39;00m\u001b[39m cannot be considered a valid collection.\u001b[39m\u001b[39m\"\u001b[39m \u001b[39m%\u001b[39m x\n\u001b[1;32m    327\u001b[0m         )\n\u001b[1;32m    328\u001b[0m     \u001b[39m# Check that shape is returning an integer or default to len\u001b[39;00m\n\u001b[1;32m    329\u001b[0m     \u001b[39m# Dask dataframes may not return numeric shape[0] value\u001b[39;00m\n\u001b[1;32m    330\u001b[0m     \u001b[39mif\u001b[39;00m \u001b[39misinstance\u001b[39m(x\u001b[39m.\u001b[39mshape[\u001b[39m0\u001b[39m], numbers\u001b[39m.\u001b[39mIntegral):\n",
      "\u001b[0;31mTypeError\u001b[0m: Singleton array array(+-------+--------------+------------+------------------+-------------+-------------+\n|user_id|order_datetime|merchant_abn|      dollar_value|merchant_prob|consumer_prob|\n+-------+--------------+------------+------------------+-------------+-------------+\n|  14935|    2021-11-26| 79417999332|136.06570809815838|         0.01|         0.01|\n|      1|    2021-11-26| 46451548968| 72.61581642788431|         0.01|         0.01|\n|  14936|    2021-11-26| 89518629617|3.0783487174439297|         0.01|         0.01|\n|      1|    2021-11-26| 49167531725| 51.58228625503599|         0.01|         0.01|\n|  14936|    2021-11-26| 31101120643|25.228114942417797|         0.01|         0.01|\n|      2|    2021-11-26| 67978471888| 691.5028234458998|         0.01|         0.01|\n|  14936|    2021-11-26| 60956456424|102.13952056640888|         0.01|         0.01|\n|      2|    2021-11-26| 47644196714| 644.5220654863093|         0.01|         0.01|\n|  14938|    2021-11-26| 39649557865|209.12780951421405|    28.690205|         0.01|\n|      3|    2021-11-26| 88402174457| 141.0387993699113|         0.01|         0.01|\n|  14938|    2021-11-26| 32234779638|102.04090324888061|         0.01|         0.01|\n|      4|    2021-11-26| 24015173965|             157.0|         0.01|         0.01|\n|  14939|    2021-11-26| 79830510987|246.13590152514766|         0.01|         0.01|\n|      5|    2021-11-26| 76646764782|35.463129852951695|         0.01|         0.01|\n|  14939|    2021-11-26| 17324645993|24.108258533478818|         0.01|         0.01|\n|      5|    2021-11-26| 71041015148| 89.76800577775657|         0.01|         0.01|\n|  14939|    2021-11-26| 75089928159|14.806519329659501|         0.01|         0.01|\n|      5|    2021-11-26| 80324045558| 62.79195913018835|         0.01|         0.01|\n|  14939|    2021-11-26| 50315283629| 575.3321071340728|    29.088158|         0.01|\n|      6|    2021-11-26| 11566786699|15.856637357709419|         0.01|         0.01|\n+-------+--------------+------------+------------------+-------------+-------------+\nonly showing top 20 rows\n, dtype=object) cannot be considered a valid collection."
     ]
    }
   ],
   "source": [
    "# import sklearn.naive_bayes as nb\n",
    "# ##print(dir(nb))\n",
    "# from sklearn.naive_bayes import GaussianNB, MultinomialNB, BernoulliNB\n",
    "\n",
    "# gnb = GaussianNB()\n",
    "# mnb = MultinomialNB()\n",
    "# bnb = BernoulliNB()\n",
    "\n",
    "# X_train, X_test, y_train, y_test = train_test_split(X, y, test_size=0.22, random_state=30034)\n",
    "# gnb.fit(X_train, y_train)\n",
    "# acc = gnb.score(X_test, y_test)\n",
    "# print(\"\\nGNB score %f \" %acc)\n",
    "\n",
    "    \n",
    "# mnb.fit(X_train, y_train)\n",
    "# acc = mnb.score(X_test, y_test)\n",
    "# print(\"MNB score %f \" %acc)\n",
    "\n",
    "    \n",
    "# bnb.fit(X_train, y_train)\n",
    "# acc = bnb.score(X_test, y_test)\n",
    "# print(\"BNB score %f \" %acc)\n",
    "\n",
    "\n",
    "    "
   ]
  },
  {
   "cell_type": "code",
   "execution_count": null,
   "metadata": {},
   "outputs": [],
   "source": []
  }
 ],
 "metadata": {
  "kernelspec": {
   "display_name": "Python 3.7.13 ('xt')",
   "language": "python",
   "name": "python3"
  },
  "language_info": {
   "codemirror_mode": {
    "name": "ipython",
    "version": 3
   },
   "file_extension": ".py",
   "mimetype": "text/x-python",
   "name": "python",
   "nbconvert_exporter": "python",
   "pygments_lexer": "ipython3",
   "version": "3.7.13"
  },
  "orig_nbformat": 4,
  "vscode": {
   "interpreter": {
    "hash": "464aeb025fe7529aa14c472f74018451d543299a7c7ff36fe116837387c8b1ec"
   }
  }
 },
 "nbformat": 4,
 "nbformat_minor": 2
}
