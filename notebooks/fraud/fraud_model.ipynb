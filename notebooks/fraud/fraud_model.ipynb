{
 "cells": [
  {
   "cell_type": "markdown",
   "metadata": {},
   "source": [
    "## import library"
   ]
  },
  {
   "cell_type": "code",
   "execution_count": 1,
   "metadata": {},
   "outputs": [],
   "source": [
    "from pyspark.sql import SparkSession\n",
    "from pyspark.sql import functions as F\n",
    "import pandas as pd\n",
    "\n",
    "from pyspark.ml.feature import StringIndexer\n",
    "from pyspark.ml import Pipeline \n",
    "from pyspark.ml.feature import VectorAssembler \n",
    "from pyspark.ml.feature import OneHotEncoder\n",
    "from pyspark.sql.functions import rand\n",
    "from pyspark.ml.classification import LogisticRegression\n",
    "from pyspark.ml.evaluation import MulticlassClassificationEvaluator"
   ]
  },
  {
   "cell_type": "code",
   "execution_count": 2,
   "metadata": {},
   "outputs": [
    {
     "name": "stdout",
     "output_type": "stream",
     "text": [
      "22/09/22 21:43:48 WARN Utils: Your hostname, DESKTOP-80AOBLL resolves to a loopback address: 127.0.1.1; using 172.18.176.175 instead (on interface eth0)\n",
      "22/09/22 21:43:48 WARN Utils: Set SPARK_LOCAL_IP if you need to bind to another address\n"
     ]
    },
    {
     "name": "stderr",
     "output_type": "stream",
     "text": [
      "Setting default log level to \"WARN\".\n",
      "To adjust logging level use sc.setLogLevel(newLevel). For SparkR, use setLogLevel(newLevel).\n"
     ]
    },
    {
     "name": "stdout",
     "output_type": "stream",
     "text": [
      "22/09/22 21:43:50 WARN NativeCodeLoader: Unable to load native-hadoop library for your platform... using builtin-java classes where applicable\n",
      "22/09/22 21:43:51 WARN Utils: Service 'SparkUI' could not bind on port 4040. Attempting port 4041.\n"
     ]
    }
   ],
   "source": [
    "# Create a spark session (which will run spark jobs)\n",
    "spark = (\n",
    "    SparkSession.builder.appName(\"MAST30034 Project 2\")\n",
    "    .config(\"spark.sql.repl.eagerEval.enabled\", True) \n",
    "    .config(\"spark.sql.parquet.cacheMetadata\", \"true\")\n",
    "    .config(\"spark.sql.session.timeZone\", \"Etc/UTC\")\n",
    "    .config(\"spark.driver.memory\", \"2g\")\n",
    "    .config(\"spark.executer.memory\", \"4g\")\n",
    "    .getOrCreate()\n",
    ")"
   ]
  },
  {
   "cell_type": "markdown",
   "metadata": {},
   "source": [
    "## preprocessing"
   ]
  },
  {
   "cell_type": "markdown",
   "metadata": {},
   "source": [
    "### load data"
   ]
  },
  {
   "cell_type": "code",
   "execution_count": 3,
   "metadata": {},
   "outputs": [
    {
     "name": "stderr",
     "output_type": "stream",
     "text": [
      "                                                                                \r"
     ]
    }
   ],
   "source": [
    "full = spark.read.parquet(\"../../data/curated/full_data/\")"
   ]
  },
  {
   "cell_type": "code",
   "execution_count": 4,
   "metadata": {},
   "outputs": [],
   "source": [
    "probs_merchant = spark.read.option('header', True).csv('../../data/tables/merchant_fraud_probability.csv')\n",
    "probs_consumer= spark.read.option('header', True).csv('../../data/tables/consumer_fraud_probability.csv')"
   ]
  },
  {
   "cell_type": "markdown",
   "metadata": {},
   "source": [
    "### Merge tables"
   ]
  },
  {
   "cell_type": "code",
   "execution_count": 5,
   "metadata": {},
   "outputs": [
    {
     "name": "stdout",
     "output_type": "stream",
     "text": [
      "root\n",
      " |-- user_id: long (nullable = true)\n",
      " |-- SA2_code: integer (nullable = true)\n",
      " |-- postcode: integer (nullable = true)\n",
      " |-- consumer_id: integer (nullable = true)\n",
      " |-- state: string (nullable = true)\n",
      " |-- gender: string (nullable = true)\n",
      " |-- mean_total_income: integer (nullable = true)\n",
      " |-- merchant_abn: long (nullable = true)\n",
      " |-- dollar_value: double (nullable = true)\n",
      " |-- order_id: string (nullable = true)\n",
      " |-- order_datetime: date (nullable = true)\n",
      " |-- name: string (nullable = true)\n",
      " |-- tags: string (nullable = true)\n",
      " |-- revenue_level: string (nullable = true)\n",
      " |-- take_rate: double (nullable = true)\n",
      "\n"
     ]
    }
   ],
   "source": [
    "full.printSchema()"
   ]
  },
  {
   "cell_type": "code",
   "execution_count": 6,
   "metadata": {},
   "outputs": [
    {
     "name": "stdout",
     "output_type": "stream",
     "text": [
      "root\n",
      " |-- user_id: string (nullable = true)\n",
      " |-- order_datetime: string (nullable = true)\n",
      " |-- fraud_probability: string (nullable = true)\n",
      "\n"
     ]
    }
   ],
   "source": [
    "probs_consumer.printSchema()"
   ]
  },
  {
   "cell_type": "code",
   "execution_count": 7,
   "metadata": {},
   "outputs": [],
   "source": [
    "probs_consumer =  probs_consumer.withColumn('user_id', F.col('user_id').cast('long'))\\\n",
    "                                .withColumn('fraud_probability', F.col('fraud_probability').cast('float'))"
   ]
  },
  {
   "cell_type": "code",
   "execution_count": 8,
   "metadata": {},
   "outputs": [
    {
     "name": "stdout",
     "output_type": "stream",
     "text": [
      "root\n",
      " |-- merchant_abn: string (nullable = true)\n",
      " |-- order_datetime: string (nullable = true)\n",
      " |-- fraud_probability: string (nullable = true)\n",
      "\n"
     ]
    }
   ],
   "source": [
    "probs_merchant.printSchema()"
   ]
  },
  {
   "cell_type": "code",
   "execution_count": 9,
   "metadata": {},
   "outputs": [],
   "source": [
    "probs_merchant =  probs_merchant.withColumn('merchant_abn', F.col('merchant_abn').cast('long'))\\\n",
    "                                .withColumn('fraud_probability', F.col('fraud_probability').cast('float'))"
   ]
  },
  {
   "cell_type": "code",
   "execution_count": 10,
   "metadata": {},
   "outputs": [],
   "source": [
    "# merge transaction file with merchants'/consumers' fraud probability based on merchant abn or user id respectively by left join\n",
    "full = full.join(probs_merchant, on = ['merchant_abn', 'order_datetime'], how = 'left').withColumnRenamed('fraud_probability', 'merchant_prob')\n",
    "full = full.join(probs_consumer, on = ['user_id', 'order_datetime'], how = 'left').withColumnRenamed('fraud_probability', 'consumer_prob')"
   ]
  },
  {
   "cell_type": "code",
   "execution_count": 11,
   "metadata": {},
   "outputs": [],
   "source": [
    "# replace all the missing value with 0.01 as default fraud prob\n",
    "full = full.na.fill(value=0.01, subset=['merchant_prob', 'consumer_prob'])"
   ]
  },
  {
   "cell_type": "code",
   "execution_count": 12,
   "metadata": {},
   "outputs": [
    {
     "name": "stderr",
     "output_type": "stream",
     "text": [
      "                                                                                \r"
     ]
    },
    {
     "data": {
      "text/html": [
       "<table border='1'>\n",
       "<tr><th>user_id</th><th>order_datetime</th><th>merchant_abn</th><th>SA2_code</th><th>postcode</th><th>consumer_id</th><th>state</th><th>gender</th><th>mean_total_income</th><th>dollar_value</th><th>order_id</th><th>name</th><th>tags</th><th>revenue_level</th><th>take_rate</th><th>merchant_prob</th><th>consumer_prob</th><th>is_fraud</th></tr>\n",
       "<tr><td>44</td><td>2021-04-09</td><td>10648956813</td><td>401041015</td><td>5074</td><td>564558</td><td>SA</td><td>Undisclosed</td><td>53613</td><td>68.17405810943993</td><td>4d42fd2c-0823-4af...</td><td>Proin Nisl Institute</td><td>computer</td><td>a</td><td>6.66</td><td>0.01</td><td>0.01</td><td>0</td></tr>\n",
       "<tr><td>44</td><td>2021-03-26</td><td>16256895427</td><td>401041015</td><td>5074</td><td>564558</td><td>SA</td><td>Undisclosed</td><td>53613</td><td>109.29115227377834</td><td>20849f6c-9286-4e5...</td><td>Tempus Non Founda...</td><td>garden supply</td><td>a</td><td>6.6</td><td>0.01</td><td>0.01</td><td>0</td></tr>\n",
       "<tr><td>44</td><td>2022-03-27</td><td>15115332331</td><td>401041015</td><td>5074</td><td>564558</td><td>SA</td><td>Undisclosed</td><td>53613</td><td>79.98167044943824</td><td>19ae7e83-e673-459...</td><td>In Consectetuer Ltd</td><td>florists</td><td>a</td><td>5.64</td><td>0.01</td><td>0.01</td><td>0</td></tr>\n",
       "<tr><td>44</td><td>2022-05-06</td><td>20885454195</td><td>401041015</td><td>5074</td><td>564558</td><td>SA</td><td>Undisclosed</td><td>53613</td><td>69.20949836618651</td><td>a11e7fb4-42d7-4f9...</td><td>Pharetra Ut Indus...</td><td>cable</td><td>b</td><td>4.94</td><td>0.01</td><td>0.01</td><td>0</td></tr>\n",
       "<tr><td>44</td><td>2022-05-23</td><td>21807339153</td><td>401041015</td><td>5074</td><td>564558</td><td>SA</td><td>Undisclosed</td><td>53613</td><td>31.204575778013815</td><td>10be6623-5f1b-456...</td><td>Praesent Eu LLP</td><td>digital goods</td><td>c</td><td>2.73</td><td>0.01</td><td>0.01</td><td>0</td></tr>\n",
       "<tr><td>44</td><td>2021-09-03</td><td>21702179125</td><td>401041015</td><td>5074</td><td>564558</td><td>SA</td><td>Undisclosed</td><td>53613</td><td>128.94839096472307</td><td>e2eb1a75-836d-43b...</td><td>At Auctor Ullamco...</td><td>gift</td><td>c</td><td>2.65</td><td>0.01</td><td>0.01</td><td>0</td></tr>\n",
       "<tr><td>44</td><td>2022-04-29</td><td>22961647681</td><td>401041015</td><td>5074</td><td>564558</td><td>SA</td><td>Undisclosed</td><td>53613</td><td>22.482302441089782</td><td>a262a794-8aab-463...</td><td>Vestibulum Ante C...</td><td>opticians</td><td>c</td><td>1.96</td><td>0.01</td><td>0.01</td><td>0</td></tr>\n",
       "<tr><td>44</td><td>2022-06-11</td><td>25235376304</td><td>401041015</td><td>5074</td><td>564558</td><td>SA</td><td>Undisclosed</td><td>53613</td><td>35.67939574082981</td><td>568de521-5f63-445...</td><td>Pellentesque Tell...</td><td>garden supply</td><td>c</td><td>2.86</td><td>0.01</td><td>0.01</td><td>0</td></tr>\n",
       "<tr><td>44</td><td>2022-08-28</td><td>35014882568</td><td>401041015</td><td>5074</td><td>564558</td><td>SA</td><td>Undisclosed</td><td>53613</td><td>43.67388081483236</td><td>f3126198-dd72-422...</td><td>Faucibus Corporation</td><td>digital goods</td><td>a</td><td>6.91</td><td>0.01</td><td>0.01</td><td>0</td></tr>\n",
       "<tr><td>44</td><td>2022-08-25</td><td>36125151647</td><td>401041015</td><td>5074</td><td>564558</td><td>SA</td><td>Undisclosed</td><td>53613</td><td>20.96605822155854</td><td>ef56a7e3-81c7-4a8...</td><td>Sed Nec Corp.</td><td>hobby</td><td>c</td><td>1.83</td><td>0.01</td><td>0.01</td><td>0</td></tr>\n",
       "<tr><td>44</td><td>2022-05-20</td><td>35014882568</td><td>401041015</td><td>5074</td><td>564558</td><td>SA</td><td>Undisclosed</td><td>53613</td><td>36.07183538190819</td><td>be7e7ec9-3ca9-4b9...</td><td>Faucibus Corporation</td><td>digital goods</td><td>a</td><td>6.91</td><td>0.01</td><td>0.01</td><td>0</td></tr>\n",
       "<tr><td>44</td><td>2021-09-28</td><td>36125151647</td><td>401041015</td><td>5074</td><td>564558</td><td>SA</td><td>Undisclosed</td><td>53613</td><td>50.97888666647738</td><td>be7da9a9-b31a-4d8...</td><td>Sed Nec Corp.</td><td>hobby</td><td>c</td><td>1.83</td><td>0.01</td><td>0.01</td><td>0</td></tr>\n",
       "<tr><td>44</td><td>2022-08-25</td><td>35014882568</td><td>401041015</td><td>5074</td><td>564558</td><td>SA</td><td>Undisclosed</td><td>53613</td><td>88.7941767197474</td><td>4018595a-42d2-439...</td><td>Faucibus Corporation</td><td>digital goods</td><td>a</td><td>6.91</td><td>0.01</td><td>0.01</td><td>0</td></tr>\n",
       "<tr><td>44</td><td>2022-10-20</td><td>37967061831</td><td>401041015</td><td>5074</td><td>564558</td><td>SA</td><td>Undisclosed</td><td>53613</td><td>11.17361968009319</td><td>232fecd3-5244-494...</td><td>Nullam Foundation</td><td>motor</td><td>a</td><td>6.54</td><td>0.01</td><td>0.01</td><td>0</td></tr>\n",
       "<tr><td>44</td><td>2021-10-20</td><td>41974958954</td><td>401041015</td><td>5074</td><td>564558</td><td>SA</td><td>Undisclosed</td><td>53613</td><td>60.02299315612368</td><td>cf13f2cc-5d81-413...</td><td>Sed Libero Proin ...</td><td>cable</td><td>a</td><td>5.51</td><td>0.01</td><td>0.01</td><td>0</td></tr>\n",
       "<tr><td>44</td><td>2022-10-01</td><td>41315101616</td><td>401041015</td><td>5074</td><td>564558</td><td>SA</td><td>Undisclosed</td><td>53613</td><td>169.14792387469026</td><td>dcdc6642-9e69-4a2...</td><td>Malesuada Fames F...</td><td>antique</td><td>b</td><td>5.05</td><td>0.01</td><td>0.01</td><td>0</td></tr>\n",
       "<tr><td>44</td><td>2022-08-11</td><td>41974958954</td><td>401041015</td><td>5074</td><td>564558</td><td>SA</td><td>Undisclosed</td><td>53613</td><td>94.55828051940587</td><td>ca74f11e-fad7-407...</td><td>Sed Libero Proin ...</td><td>cable</td><td>a</td><td>5.51</td><td>0.01</td><td>0.01</td><td>0</td></tr>\n",
       "<tr><td>44</td><td>2021-09-22</td><td>41315101616</td><td>401041015</td><td>5074</td><td>564558</td><td>SA</td><td>Undisclosed</td><td>53613</td><td>22.01099830027075</td><td>784eb5b8-7032-42d...</td><td>Malesuada Fames F...</td><td>antique</td><td>b</td><td>5.05</td><td>0.01</td><td>0.01</td><td>0</td></tr>\n",
       "<tr><td>44</td><td>2021-12-01</td><td>49891706470</td><td>401041015</td><td>5074</td><td>564558</td><td>SA</td><td>Undisclosed</td><td>53613</td><td>6.1436338479183785</td><td>43a40900-af31-421...</td><td>Non Vestibulum In...</td><td>tent</td><td>a</td><td>5.8</td><td>0.01</td><td>0.01</td><td>0</td></tr>\n",
       "<tr><td>44</td><td>2022-09-21</td><td>43073797016</td><td>401041015</td><td>5074</td><td>564558</td><td>SA</td><td>Undisclosed</td><td>53613</td><td>165.75040184410676</td><td>d58d1176-d3e4-4da...</td><td>Molestie Arcu Cor...</td><td>health</td><td>c</td><td>2.27</td><td>0.01</td><td>0.01</td><td>0</td></tr>\n",
       "</table>\n",
       "only showing top 20 rows\n"
      ],
      "text/plain": [
       "+-------+--------------+------------+---------+--------+-----------+-----+-----------+-----------------+------------------+--------------------+--------------------+-------------+-------------+---------+-------------+-------------+--------+\n",
       "|user_id|order_datetime|merchant_abn| SA2_code|postcode|consumer_id|state|     gender|mean_total_income|      dollar_value|            order_id|                name|         tags|revenue_level|take_rate|merchant_prob|consumer_prob|is_fraud|\n",
       "+-------+--------------+------------+---------+--------+-----------+-----+-----------+-----------------+------------------+--------------------+--------------------+-------------+-------------+---------+-------------+-------------+--------+\n",
       "|     44|    2021-04-09| 10648956813|401041015|    5074|     564558|   SA|Undisclosed|            53613| 68.17405810943993|4d42fd2c-0823-4af...|Proin Nisl Institute|     computer|            a|     6.66|         0.01|         0.01|       0|\n",
       "|     44|    2021-03-26| 16256895427|401041015|    5074|     564558|   SA|Undisclosed|            53613|109.29115227377834|20849f6c-9286-4e5...|Tempus Non Founda...|garden supply|            a|      6.6|         0.01|         0.01|       0|\n",
       "|     44|    2022-03-27| 15115332331|401041015|    5074|     564558|   SA|Undisclosed|            53613| 79.98167044943824|19ae7e83-e673-459...| In Consectetuer Ltd|     florists|            a|     5.64|         0.01|         0.01|       0|\n",
       "|     44|    2022-05-06| 20885454195|401041015|    5074|     564558|   SA|Undisclosed|            53613| 69.20949836618651|a11e7fb4-42d7-4f9...|Pharetra Ut Indus...|        cable|            b|     4.94|         0.01|         0.01|       0|\n",
       "|     44|    2022-05-23| 21807339153|401041015|    5074|     564558|   SA|Undisclosed|            53613|31.204575778013815|10be6623-5f1b-456...|     Praesent Eu LLP|digital goods|            c|     2.73|         0.01|         0.01|       0|\n",
       "|     44|    2021-09-03| 21702179125|401041015|    5074|     564558|   SA|Undisclosed|            53613|128.94839096472307|e2eb1a75-836d-43b...|At Auctor Ullamco...|         gift|            c|     2.65|         0.01|         0.01|       0|\n",
       "|     44|    2022-04-29| 22961647681|401041015|    5074|     564558|   SA|Undisclosed|            53613|22.482302441089782|a262a794-8aab-463...|Vestibulum Ante C...|    opticians|            c|     1.96|         0.01|         0.01|       0|\n",
       "|     44|    2022-06-11| 25235376304|401041015|    5074|     564558|   SA|Undisclosed|            53613| 35.67939574082981|568de521-5f63-445...|Pellentesque Tell...|garden supply|            c|     2.86|         0.01|         0.01|       0|\n",
       "|     44|    2022-08-28| 35014882568|401041015|    5074|     564558|   SA|Undisclosed|            53613| 43.67388081483236|f3126198-dd72-422...|Faucibus Corporation|digital goods|            a|     6.91|         0.01|         0.01|       0|\n",
       "|     44|    2022-08-25| 36125151647|401041015|    5074|     564558|   SA|Undisclosed|            53613| 20.96605822155854|ef56a7e3-81c7-4a8...|       Sed Nec Corp.|        hobby|            c|     1.83|         0.01|         0.01|       0|\n",
       "|     44|    2022-05-20| 35014882568|401041015|    5074|     564558|   SA|Undisclosed|            53613| 36.07183538190819|be7e7ec9-3ca9-4b9...|Faucibus Corporation|digital goods|            a|     6.91|         0.01|         0.01|       0|\n",
       "|     44|    2021-09-28| 36125151647|401041015|    5074|     564558|   SA|Undisclosed|            53613| 50.97888666647738|be7da9a9-b31a-4d8...|       Sed Nec Corp.|        hobby|            c|     1.83|         0.01|         0.01|       0|\n",
       "|     44|    2022-08-25| 35014882568|401041015|    5074|     564558|   SA|Undisclosed|            53613|  88.7941767197474|4018595a-42d2-439...|Faucibus Corporation|digital goods|            a|     6.91|         0.01|         0.01|       0|\n",
       "|     44|    2022-10-20| 37967061831|401041015|    5074|     564558|   SA|Undisclosed|            53613| 11.17361968009319|232fecd3-5244-494...|   Nullam Foundation|        motor|            a|     6.54|         0.01|         0.01|       0|\n",
       "|     44|    2021-10-20| 41974958954|401041015|    5074|     564558|   SA|Undisclosed|            53613| 60.02299315612368|cf13f2cc-5d81-413...|Sed Libero Proin ...|        cable|            a|     5.51|         0.01|         0.01|       0|\n",
       "|     44|    2022-10-01| 41315101616|401041015|    5074|     564558|   SA|Undisclosed|            53613|169.14792387469026|dcdc6642-9e69-4a2...|Malesuada Fames F...|      antique|            b|     5.05|         0.01|         0.01|       0|\n",
       "|     44|    2022-08-11| 41974958954|401041015|    5074|     564558|   SA|Undisclosed|            53613| 94.55828051940587|ca74f11e-fad7-407...|Sed Libero Proin ...|        cable|            a|     5.51|         0.01|         0.01|       0|\n",
       "|     44|    2021-09-22| 41315101616|401041015|    5074|     564558|   SA|Undisclosed|            53613| 22.01099830027075|784eb5b8-7032-42d...|Malesuada Fames F...|      antique|            b|     5.05|         0.01|         0.01|       0|\n",
       "|     44|    2021-12-01| 49891706470|401041015|    5074|     564558|   SA|Undisclosed|            53613|6.1436338479183785|43a40900-af31-421...|Non Vestibulum In...|         tent|            a|      5.8|         0.01|         0.01|       0|\n",
       "|     44|    2022-09-21| 43073797016|401041015|    5074|     564558|   SA|Undisclosed|            53613|165.75040184410676|d58d1176-d3e4-4da...|Molestie Arcu Cor...|       health|            c|     2.27|         0.01|         0.01|       0|\n",
       "+-------+--------------+------------+---------+--------+-----------+-----+-----------+-----------------+------------------+--------------------+--------------------+-------------+-------------+---------+-------------+-------------+--------+\n",
       "only showing top 20 rows"
      ]
     },
     "execution_count": 12,
     "metadata": {},
     "output_type": "execute_result"
    }
   ],
   "source": [
    "# We set benchmark as 5%, because we focus on False Positive instead of False Negative\n",
    "full = full.withColumn('is_fraud', F.when((F.col('merchant_prob') > 5) | (F.col('consumer_prob') > 5), 1).otherwise(0))\n",
    "full"
   ]
  },
  {
   "cell_type": "code",
   "execution_count": 13,
   "metadata": {},
   "outputs": [
    {
     "name": "stderr",
     "output_type": "stream",
     "text": [
      "[Stage 16:================================================>       (12 + 2) / 14]\r"
     ]
    },
    {
     "name": "stdout",
     "output_type": "stream",
     "text": [
      "In 13614854 transactions, 75455 are detected as fraud\n"
     ]
    },
    {
     "name": "stderr",
     "output_type": "stream",
     "text": [
      "                                                                                \r"
     ]
    }
   ],
   "source": [
    "print('In {} transactions, {} are detected as fraud'.format(full.count(), full.filter(F.col('is_fraud') == 1).count()))"
   ]
  },
  {
   "cell_type": "code",
   "execution_count": 14,
   "metadata": {},
   "outputs": [],
   "source": [
    "full = full.filter(F.col('dollar_value') >= 1).na.drop(subset = 'name')"
   ]
  },
  {
   "cell_type": "code",
   "execution_count": 15,
   "metadata": {},
   "outputs": [
    {
     "name": "stdout",
     "output_type": "stream",
     "text": [
      "root\n",
      " |-- user_id: long (nullable = true)\n",
      " |-- order_datetime: date (nullable = true)\n",
      " |-- merchant_abn: long (nullable = true)\n",
      " |-- SA2_code: integer (nullable = true)\n",
      " |-- postcode: integer (nullable = true)\n",
      " |-- consumer_id: integer (nullable = true)\n",
      " |-- state: string (nullable = true)\n",
      " |-- gender: string (nullable = true)\n",
      " |-- mean_total_income: integer (nullable = true)\n",
      " |-- dollar_value: double (nullable = true)\n",
      " |-- order_id: string (nullable = true)\n",
      " |-- name: string (nullable = true)\n",
      " |-- tags: string (nullable = true)\n",
      " |-- revenue_level: string (nullable = true)\n",
      " |-- take_rate: double (nullable = true)\n",
      " |-- merchant_prob: float (nullable = false)\n",
      " |-- consumer_prob: float (nullable = false)\n",
      " |-- is_fraud: integer (nullable = false)\n",
      "\n"
     ]
    }
   ],
   "source": [
    "full.printSchema()"
   ]
  },
  {
   "cell_type": "code",
   "execution_count": 16,
   "metadata": {},
   "outputs": [],
   "source": [
    "full = full.withColumn('take_rate', F.col('take_rate').cast('float'))"
   ]
  },
  {
   "cell_type": "markdown",
   "metadata": {},
   "source": [
    "## Feature Engineering"
   ]
  },
  {
   "cell_type": "markdown",
   "metadata": {},
   "source": [
    "### bin numeric features"
   ]
  },
  {
   "cell_type": "code",
   "execution_count": 17,
   "metadata": {},
   "outputs": [],
   "source": [
    "#value_max = result.select('dollar_value').orderBy(F.col('dollar_value'),  ascending= False).collect()[0][0]"
   ]
  },
  {
   "cell_type": "code",
   "execution_count": 18,
   "metadata": {},
   "outputs": [],
   "source": [
    "#value_min = result.select('dollar_value').orderBy(F.col('dollar_value')).collect()[0][0]"
   ]
  },
  {
   "cell_type": "code",
   "execution_count": 19,
   "metadata": {},
   "outputs": [],
   "source": [
    "#print('dollar_value range:[{}, {}]'.format(value_min, value_max))"
   ]
  },
  {
   "cell_type": "code",
   "execution_count": 20,
   "metadata": {},
   "outputs": [],
   "source": [
    "# bins = []\n",
    "# i  = 0\n",
    "# while i <= 70000:\n",
    "#   bins.append(i)\n",
    "#   i += 200"
   ]
  },
  {
   "cell_type": "code",
   "execution_count": 21,
   "metadata": {},
   "outputs": [],
   "source": [
    "#bins.append(float('Inf'))"
   ]
  },
  {
   "cell_type": "code",
   "execution_count": 22,
   "metadata": {},
   "outputs": [],
   "source": [
    "#bucketizer = Bucketizer(splits=bins, inputCol=\"dollar_value\", outputCol=\"dollar_value_buckets\")\n",
    "#result = bucketizer.setHandleInvalid(\"keep\").transform(result)"
   ]
  },
  {
   "cell_type": "code",
   "execution_count": 23,
   "metadata": {},
   "outputs": [],
   "source": [
    "#result = result.withColumn('take_rate', F.col('take_rate').cast('double'))"
   ]
  },
  {
   "cell_type": "code",
   "execution_count": 24,
   "metadata": {},
   "outputs": [],
   "source": [
    "# take_rate_max = result.select('take_rate').orderBy(F.col('take_rate'),  ascending= False).collect()[0][0]\n",
    "# take_rate_min = result.select('take_rate').orderBy(F.col('take_rate')).collect()[0][0]"
   ]
  },
  {
   "cell_type": "code",
   "execution_count": 25,
   "metadata": {},
   "outputs": [],
   "source": [
    "# print('take_rate range:[{}, {}]'.format(take_rate_min, take_rate_max))"
   ]
  },
  {
   "cell_type": "code",
   "execution_count": 26,
   "metadata": {},
   "outputs": [],
   "source": [
    "# bucketizer = Bucketizer(splits=[0,1,2,3,4,5,6,7,8], inputCol=\"take_rate\", outputCol=\"take_rate_buckets\")\n",
    "# result = bucketizer.setHandleInvalid(\"keep\").transform(result)"
   ]
  },
  {
   "cell_type": "code",
   "execution_count": 27,
   "metadata": {},
   "outputs": [],
   "source": [
    "# result.printSchema()"
   ]
  },
  {
   "cell_type": "markdown",
   "metadata": {},
   "source": [
    "### Index ordinal features"
   ]
  },
  {
   "cell_type": "code",
   "execution_count": 17,
   "metadata": {},
   "outputs": [],
   "source": [
    "full =  full.withColumn('month', F.month('order_datetime'))"
   ]
  },
  {
   "cell_type": "code",
   "execution_count": 18,
   "metadata": {},
   "outputs": [],
   "source": [
    "indexed_features = ['revenue_level', 'tags', 'gender']"
   ]
  },
  {
   "cell_type": "code",
   "execution_count": 19,
   "metadata": {},
   "outputs": [
    {
     "data": {
      "text/plain": [
       "[StringIndexer_7755e8d09070,\n",
       " StringIndexer_1b4cea862f0f,\n",
       " StringIndexer_0bd27832b147]"
      ]
     },
     "execution_count": 19,
     "metadata": {},
     "output_type": "execute_result"
    }
   ],
   "source": [
    "# We give all values in non-numeric features an index in order to make it ordinal or one-hot encoded\n",
    "indexers =[]\n",
    "for col in indexed_features:\n",
    "  indexers.append(StringIndexer(inputCol=col, outputCol = col+\"_index\"))\n",
    "\n",
    "indexers"
   ]
  },
  {
   "cell_type": "code",
   "execution_count": 20,
   "metadata": {},
   "outputs": [],
   "source": [
    "pipeline = Pipeline(stages=indexers)"
   ]
  },
  {
   "cell_type": "code",
   "execution_count": 21,
   "metadata": {},
   "outputs": [
    {
     "name": "stderr",
     "output_type": "stream",
     "text": [
      "                                                                                \r"
     ]
    }
   ],
   "source": [
    "indexed_result = pipeline.fit(full).transform(full)"
   ]
  },
  {
   "cell_type": "markdown",
   "metadata": {},
   "source": [
    "### One hot encoding"
   ]
  },
  {
   "cell_type": "code",
   "execution_count": 22,
   "metadata": {},
   "outputs": [],
   "source": [
    "categorical_features =  [\"tags_index\", \"gender_index\",\"month\"]"
   ]
  },
  {
   "cell_type": "code",
   "execution_count": 23,
   "metadata": {},
   "outputs": [
    {
     "data": {
      "text/plain": [
       "[OneHotEncoder_ff2b4c5bb4fb,\n",
       " OneHotEncoder_6ad7d6da7862,\n",
       " OneHotEncoder_e0e85936a6fc]"
      ]
     },
     "execution_count": 23,
     "metadata": {},
     "output_type": "execute_result"
    }
   ],
   "source": [
    "# one-hot-encoding the numeric indices\n",
    "ohe = []\n",
    "for f in categorical_features:\n",
    "  ohe.append(OneHotEncoder(inputCol=f, outputCol=f+\"OHE\"))\n",
    "\n",
    "ohe"
   ]
  },
  {
   "cell_type": "code",
   "execution_count": 24,
   "metadata": {},
   "outputs": [],
   "source": [
    "pipeline = Pipeline(stages=ohe)"
   ]
  },
  {
   "cell_type": "code",
   "execution_count": 25,
   "metadata": {},
   "outputs": [
    {
     "name": "stderr",
     "output_type": "stream",
     "text": [
      "                                                                                \r"
     ]
    }
   ],
   "source": [
    "indexed_result = pipeline.fit(indexed_result).transform(indexed_result)"
   ]
  },
  {
   "cell_type": "code",
   "execution_count": 26,
   "metadata": {},
   "outputs": [
    {
     "name": "stdout",
     "output_type": "stream",
     "text": [
      "root\n",
      " |-- user_id: long (nullable = true)\n",
      " |-- order_datetime: date (nullable = true)\n",
      " |-- merchant_abn: long (nullable = true)\n",
      " |-- SA2_code: integer (nullable = true)\n",
      " |-- postcode: integer (nullable = true)\n",
      " |-- consumer_id: integer (nullable = true)\n",
      " |-- state: string (nullable = true)\n",
      " |-- gender: string (nullable = true)\n",
      " |-- mean_total_income: integer (nullable = true)\n",
      " |-- dollar_value: double (nullable = true)\n",
      " |-- order_id: string (nullable = true)\n",
      " |-- name: string (nullable = true)\n",
      " |-- tags: string (nullable = true)\n",
      " |-- revenue_level: string (nullable = true)\n",
      " |-- take_rate: float (nullable = true)\n",
      " |-- merchant_prob: float (nullable = false)\n",
      " |-- consumer_prob: float (nullable = false)\n",
      " |-- is_fraud: integer (nullable = false)\n",
      " |-- month: integer (nullable = true)\n",
      " |-- revenue_level_index: double (nullable = false)\n",
      " |-- tags_index: double (nullable = false)\n",
      " |-- gender_index: double (nullable = false)\n",
      " |-- tags_indexOHE: vector (nullable = true)\n",
      " |-- gender_indexOHE: vector (nullable = true)\n",
      " |-- monthOHE: vector (nullable = true)\n",
      "\n"
     ]
    }
   ],
   "source": [
    "indexed_result.printSchema()"
   ]
  },
  {
   "cell_type": "markdown",
   "metadata": {},
   "source": [
    "### Feature Selection and Vectorization"
   ]
  },
  {
   "cell_type": "code",
   "execution_count": 27,
   "metadata": {},
   "outputs": [],
   "source": [
    "feature_selected = ['dollar_value','take_rate','mean_total_income','monthOHE','revenue_level_index','tags_indexOHE','gender_indexOHE']"
   ]
  },
  {
   "cell_type": "code",
   "execution_count": 28,
   "metadata": {},
   "outputs": [],
   "source": [
    "assembler = VectorAssembler(inputCols=feature_selected ,outputCol='features')"
   ]
  },
  {
   "cell_type": "code",
   "execution_count": 29,
   "metadata": {},
   "outputs": [],
   "source": [
    "output = assembler.transform(indexed_result)"
   ]
  },
  {
   "cell_type": "code",
   "execution_count": 30,
   "metadata": {},
   "outputs": [],
   "source": [
    "final_data = output.filter(F.col('order_datetime') < '2022-02-28').select('features','is_fraud')"
   ]
  },
  {
   "cell_type": "code",
   "execution_count": 31,
   "metadata": {},
   "outputs": [
    {
     "name": "stderr",
     "output_type": "stream",
     "text": [
      "                                                                                \r"
     ]
    },
    {
     "data": {
      "text/plain": [
       "0.009780748354606692"
      ]
     },
     "execution_count": 31,
     "metadata": {},
     "output_type": "execute_result"
    }
   ],
   "source": [
    "(final_data.filter(F.col('is_fraud') == 1).count())/(final_data.filter(F.col('is_fraud') == 0).count())"
   ]
  },
  {
   "cell_type": "code",
   "execution_count": 32,
   "metadata": {},
   "outputs": [
    {
     "name": "stderr",
     "output_type": "stream",
     "text": [
      "                                                                                \r"
     ]
    },
    {
     "data": {
      "text/plain": [
       "(75108, 7679167)"
      ]
     },
     "execution_count": 32,
     "metadata": {},
     "output_type": "execute_result"
    }
   ],
   "source": [
    "final_data.filter(F.col('is_fraud') == 1).count(), final_data.filter(F.col('is_fraud') == 0).count()"
   ]
  },
  {
   "cell_type": "code",
   "execution_count": 33,
   "metadata": {},
   "outputs": [],
   "source": [
    "# imbalanced distribution of two classes. We decide to split the data according to their class and make the distribution balanced\n",
    "fraud_data = final_data.filter(F.col('is_fraud') == 1)\n",
    "normal_data = final_data.filter(F.col('is_fraud') == 0).randomSplit([0.01,0.99])[0]"
   ]
  },
  {
   "cell_type": "markdown",
   "metadata": {},
   "source": [
    "### set random seed?"
   ]
  },
  {
   "cell_type": "markdown",
   "metadata": {},
   "source": [
    "## Split data"
   ]
  },
  {
   "cell_type": "code",
   "execution_count": 34,
   "metadata": {},
   "outputs": [],
   "source": [
    "train_fraud,test_fraud = fraud_data.randomSplit([0.7,0.3])\n",
    "train_normal,test_normal = normal_data.randomSplit([0.7,0.3])"
   ]
  },
  {
   "cell_type": "code",
   "execution_count": 35,
   "metadata": {},
   "outputs": [],
   "source": [
    "train_data = train_fraud.union(train_normal).orderBy(rand())\n",
    "test_data = test_fraud.union(test_normal).orderBy(rand())"
   ]
  },
  {
   "cell_type": "code",
   "execution_count": 36,
   "metadata": {},
   "outputs": [
    {
     "name": "stderr",
     "output_type": "stream",
     "text": [
      "                                                                                \r"
     ]
    },
    {
     "data": {
      "text/plain": [
       "7754275"
      ]
     },
     "execution_count": 36,
     "metadata": {},
     "output_type": "execute_result"
    }
   ],
   "source": [
    "final_data.count()"
   ]
  },
  {
   "cell_type": "code",
   "execution_count": 37,
   "metadata": {},
   "outputs": [
    {
     "name": "stderr",
     "output_type": "stream",
     "text": [
      "                                                                                \r"
     ]
    },
    {
     "data": {
      "text/plain": [
       "(106409, 45855)"
      ]
     },
     "execution_count": 37,
     "metadata": {},
     "output_type": "execute_result"
    }
   ],
   "source": [
    "train_data.count(),test_data.count()"
   ]
  },
  {
   "cell_type": "markdown",
   "metadata": {},
   "source": [
    "## Logistic Regression"
   ]
  },
  {
   "cell_type": "code",
   "execution_count": 38,
   "metadata": {},
   "outputs": [],
   "source": [
    "lr = LogisticRegression(labelCol='is_fraud')"
   ]
  },
  {
   "cell_type": "code",
   "execution_count": 39,
   "metadata": {},
   "outputs": [
    {
     "name": "stderr",
     "output_type": "stream",
     "text": [
      "[Stage 220:===================================================>   (26 + 2) / 28]\r"
     ]
    },
    {
     "data": {
      "text/plain": [
       "LogisticRegressionModel: uid=LogisticRegression_b17aca1cc915, numClasses=2, numFeatures=41"
      ]
     },
     "execution_count": 39,
     "metadata": {},
     "output_type": "execute_result"
    }
   ],
   "source": [
    "fitted_model = lr.fit(train_data)\n",
    "fitted_model.setFeaturesCol(\"features\")\n",
    "fitted_model.setPredictionCol(\"prediction\")"
   ]
  },
  {
   "cell_type": "markdown",
   "metadata": {},
   "source": [
    "### Evaluation"
   ]
  },
  {
   "cell_type": "code",
   "execution_count": 40,
   "metadata": {},
   "outputs": [
    {
     "name": "stderr",
     "output_type": "stream",
     "text": [
      "[Stage 228:===================================================>   (26 + 2) / 28]\r"
     ]
    }
   ],
   "source": [
    "pred_and_labels = fitted_model.evaluate(test_data)"
   ]
  },
  {
   "cell_type": "code",
   "execution_count": 41,
   "metadata": {},
   "outputs": [],
   "source": [
    "score_and_label = pred_and_labels.predictions.select('prediction', 'is_fraud').withColumnRenamed('is_fraud', 'label')"
   ]
  },
  {
   "cell_type": "code",
   "execution_count": 42,
   "metadata": {},
   "outputs": [],
   "source": [
    "evaluator = MulticlassClassificationEvaluator()"
   ]
  },
  {
   "cell_type": "code",
   "execution_count": 43,
   "metadata": {},
   "outputs": [
    {
     "data": {
      "text/plain": [
       "MulticlassClassificationEvaluator_89dedcff7e02"
      ]
     },
     "execution_count": 43,
     "metadata": {},
     "output_type": "execute_result"
    }
   ],
   "source": [
    "evaluator.setPredictionCol(\"prediction\")"
   ]
  },
  {
   "cell_type": "code",
   "execution_count": 44,
   "metadata": {},
   "outputs": [
    {
     "name": "stderr",
     "output_type": "stream",
     "text": [
      "[Stage 232:=====================================================> (27 + 1) / 28]\r"
     ]
    },
    {
     "name": "stdout",
     "output_type": "stream",
     "text": [
      "Accuracy: 0.73644834318918\n"
     ]
    },
    {
     "name": "stderr",
     "output_type": "stream",
     "text": [
      "                                                                                \r"
     ]
    }
   ],
   "source": [
    "print(\"Accuracy: \" + str(evaluator.evaluate(score_and_label)))"
   ]
  },
  {
   "cell_type": "code",
   "execution_count": 45,
   "metadata": {},
   "outputs": [
    {
     "name": "stderr",
     "output_type": "stream",
     "text": [
      "                                                                                \r"
     ]
    }
   ],
   "source": [
    "tp = score_and_label.filter((F.col('prediction') == 1) & (F.col('label') == 1)).count()"
   ]
  },
  {
   "cell_type": "code",
   "execution_count": 46,
   "metadata": {},
   "outputs": [
    {
     "name": "stderr",
     "output_type": "stream",
     "text": [
      "                                                                                \r"
     ]
    }
   ],
   "source": [
    "fn = score_and_label.filter((F.col('prediction') == 0) & (F.col('label') == 1)).count()"
   ]
  },
  {
   "cell_type": "code",
   "execution_count": 47,
   "metadata": {},
   "outputs": [
    {
     "name": "stdout",
     "output_type": "stream",
     "text": [
      "recall: 0.6848548905623817\n"
     ]
    }
   ],
   "source": [
    "recall = tp/(tp+fn)\n",
    "print('recall: ' + str(recall))"
   ]
  },
  {
   "cell_type": "markdown",
   "metadata": {},
   "source": [
    "## "
   ]
  },
  {
   "cell_type": "markdown",
   "metadata": {},
   "source": [
    "## Prediction"
   ]
  },
  {
   "cell_type": "code",
   "execution_count": 48,
   "metadata": {},
   "outputs": [],
   "source": [
    "train_data = output.filter(F.col('order_datetime') < '2022-02-28')\n",
    "predict_data = output.filter(F.col('order_datetime') >= '2022-02-28')"
   ]
  },
  {
   "cell_type": "code",
   "execution_count": 49,
   "metadata": {},
   "outputs": [],
   "source": [
    "fraud_data = train_data.filter(F.col('is_fraud') == 1)\n",
    "normal_data = train_data.filter(F.col('is_fraud') == 0).randomSplit([0.01,0.99])[0]"
   ]
  },
  {
   "cell_type": "code",
   "execution_count": 50,
   "metadata": {},
   "outputs": [],
   "source": [
    "train_data = fraud_data.union(normal_data).orderBy(rand())"
   ]
  },
  {
   "cell_type": "code",
   "execution_count": 51,
   "metadata": {},
   "outputs": [],
   "source": [
    "lr_final = LogisticRegression(labelCol='is_fraud')"
   ]
  },
  {
   "cell_type": "code",
   "execution_count": 52,
   "metadata": {},
   "outputs": [
    {
     "name": "stderr",
     "output_type": "stream",
     "text": [
      "[Stage 438:=====================================================> (27 + 1) / 28]\r"
     ]
    }
   ],
   "source": [
    "fitted_model = lr_final.fit(train_data)"
   ]
  },
  {
   "cell_type": "code",
   "execution_count": 53,
   "metadata": {},
   "outputs": [
    {
     "data": {
      "text/plain": [
       "LogisticRegressionModel: uid=LogisticRegression_b6ebe913dd8a, numClasses=2, numFeatures=41"
      ]
     },
     "execution_count": 53,
     "metadata": {},
     "output_type": "execute_result"
    }
   ],
   "source": [
    "fitted_model.setFeaturesCol('features')\n",
    "fitted_model.setPredictionCol('is_fraud')"
   ]
  },
  {
   "cell_type": "code",
   "execution_count": 54,
   "metadata": {},
   "outputs": [],
   "source": [
    "predict_data = predict_data.drop(\"is_fraud\")\n",
    "predicted = fitted_model.transform(predict_data)"
   ]
  },
  {
   "cell_type": "code",
   "execution_count": 55,
   "metadata": {},
   "outputs": [],
   "source": [
    "cols = ['user_id','order_datetime','merchant_abn','SA2_code','postcode','consumer_id','state','gender','mean_total_income','dollar_value','order_id','name','tags','revenue_level','take_rate','is_fraud'\t]\n",
    "predicted =  predicted.select(cols)"
   ]
  },
  {
   "cell_type": "code",
   "execution_count": 56,
   "metadata": {},
   "outputs": [],
   "source": [
    "full = full.drop('merchant_prob', 'consumer_prob', 'month')"
   ]
  },
  {
   "cell_type": "code",
   "execution_count": 57,
   "metadata": {},
   "outputs": [
    {
     "name": "stderr",
     "output_type": "stream",
     "text": [
      "                                                                                \r"
     ]
    },
    {
     "data": {
      "text/plain": [
       "5749867"
      ]
     },
     "execution_count": 57,
     "metadata": {},
     "output_type": "execute_result"
    }
   ],
   "source": [
    "predicted.count()"
   ]
  },
  {
   "cell_type": "code",
   "execution_count": 58,
   "metadata": {},
   "outputs": [],
   "source": [
    "full = full.filter(F.col('order_datetime') < '2022-02-28')"
   ]
  },
  {
   "cell_type": "code",
   "execution_count": 59,
   "metadata": {},
   "outputs": [],
   "source": [
    "full = full.union(predicted)"
   ]
  },
  {
   "cell_type": "code",
   "execution_count": 60,
   "metadata": {},
   "outputs": [
    {
     "name": "stdout",
     "output_type": "stream",
     "text": [
      "root\n",
      " |-- user_id: long (nullable = true)\n",
      " |-- order_datetime: date (nullable = true)\n",
      " |-- merchant_abn: long (nullable = true)\n",
      " |-- SA2_code: integer (nullable = true)\n",
      " |-- postcode: integer (nullable = true)\n",
      " |-- consumer_id: integer (nullable = true)\n",
      " |-- state: string (nullable = true)\n",
      " |-- gender: string (nullable = true)\n",
      " |-- mean_total_income: integer (nullable = true)\n",
      " |-- dollar_value: double (nullable = true)\n",
      " |-- order_id: string (nullable = true)\n",
      " |-- name: string (nullable = true)\n",
      " |-- tags: string (nullable = true)\n",
      " |-- revenue_level: string (nullable = true)\n",
      " |-- take_rate: float (nullable = true)\n",
      " |-- is_fraud: double (nullable = false)\n",
      "\n"
     ]
    }
   ],
   "source": [
    "full.printSchema()"
   ]
  },
  {
   "cell_type": "code",
   "execution_count": 61,
   "metadata": {},
   "outputs": [],
   "source": [
    "full = full.withColumn(\"is_fraud\", F.col(\"is_fraud\").cast(\"INT\"))"
   ]
  },
  {
   "cell_type": "code",
   "execution_count": 62,
   "metadata": {},
   "outputs": [
    {
     "name": "stderr",
     "output_type": "stream",
     "text": [
      "                                                                                \r"
     ]
    },
    {
     "data": {
      "text/html": [
       "<table border='1'>\n",
       "<tr><th>user_id</th><th>order_datetime</th><th>merchant_abn</th><th>SA2_code</th><th>postcode</th><th>consumer_id</th><th>state</th><th>gender</th><th>mean_total_income</th><th>dollar_value</th><th>order_id</th><th>name</th><th>tags</th><th>revenue_level</th><th>take_rate</th><th>is_fraud</th></tr>\n",
       "<tr><td>44</td><td>2021-04-09</td><td>10648956813</td><td>401041015</td><td>5074</td><td>564558</td><td>SA</td><td>Undisclosed</td><td>53613</td><td>68.17405810943993</td><td>4d42fd2c-0823-4af...</td><td>Proin Nisl Institute</td><td>computer</td><td>a</td><td>6.66</td><td>0</td></tr>\n",
       "<tr><td>44</td><td>2021-03-26</td><td>16256895427</td><td>401041015</td><td>5074</td><td>564558</td><td>SA</td><td>Undisclosed</td><td>53613</td><td>109.29115227377834</td><td>20849f6c-9286-4e5...</td><td>Tempus Non Founda...</td><td>garden supply</td><td>a</td><td>6.6</td><td>0</td></tr>\n",
       "<tr><td>44</td><td>2021-09-03</td><td>21702179125</td><td>401041015</td><td>5074</td><td>564558</td><td>SA</td><td>Undisclosed</td><td>53613</td><td>128.94839096472307</td><td>e2eb1a75-836d-43b...</td><td>At Auctor Ullamco...</td><td>gift</td><td>c</td><td>2.65</td><td>0</td></tr>\n",
       "<tr><td>44</td><td>2021-09-28</td><td>36125151647</td><td>401041015</td><td>5074</td><td>564558</td><td>SA</td><td>Undisclosed</td><td>53613</td><td>50.97888666647738</td><td>be7da9a9-b31a-4d8...</td><td>Sed Nec Corp.</td><td>hobby</td><td>c</td><td>1.83</td><td>0</td></tr>\n",
       "<tr><td>44</td><td>2021-10-20</td><td>41974958954</td><td>401041015</td><td>5074</td><td>564558</td><td>SA</td><td>Undisclosed</td><td>53613</td><td>60.02299315612368</td><td>cf13f2cc-5d81-413...</td><td>Sed Libero Proin ...</td><td>cable</td><td>a</td><td>5.51</td><td>0</td></tr>\n",
       "<tr><td>44</td><td>2021-09-22</td><td>41315101616</td><td>401041015</td><td>5074</td><td>564558</td><td>SA</td><td>Undisclosed</td><td>53613</td><td>22.01099830027075</td><td>784eb5b8-7032-42d...</td><td>Malesuada Fames F...</td><td>antique</td><td>b</td><td>5.05</td><td>0</td></tr>\n",
       "<tr><td>44</td><td>2021-12-01</td><td>49891706470</td><td>401041015</td><td>5074</td><td>564558</td><td>SA</td><td>Undisclosed</td><td>53613</td><td>6.1436338479183785</td><td>43a40900-af31-421...</td><td>Non Vestibulum In...</td><td>tent</td><td>a</td><td>5.8</td><td>0</td></tr>\n",
       "<tr><td>44</td><td>2021-11-24</td><td>47459279421</td><td>401041015</td><td>5074</td><td>564558</td><td>SA</td><td>Undisclosed</td><td>53613</td><td>37.40432919826938</td><td>fcba3312-3c72-4e5...</td><td>Aliquam Gravida PC</td><td>shoe</td><td>a</td><td>6.86</td><td>0</td></tr>\n",
       "<tr><td>44</td><td>2021-07-20</td><td>49891706470</td><td>401041015</td><td>5074</td><td>564558</td><td>SA</td><td>Undisclosed</td><td>53613</td><td>25.611929292222403</td><td>9d3f75e2-f164-42c...</td><td>Non Vestibulum In...</td><td>tent</td><td>a</td><td>5.8</td><td>0</td></tr>\n",
       "<tr><td>44</td><td>2021-06-29</td><td>49891706470</td><td>401041015</td><td>5074</td><td>564558</td><td>SA</td><td>Undisclosed</td><td>53613</td><td>9.534770249908876</td><td>59ec83dc-bc56-4f0...</td><td>Non Vestibulum In...</td><td>tent</td><td>a</td><td>5.8</td><td>0</td></tr>\n",
       "<tr><td>44</td><td>2021-04-08</td><td>61991570212</td><td>401041015</td><td>5074</td><td>564558</td><td>SA</td><td>Undisclosed</td><td>53613</td><td>29.465230171491875</td><td>bec490c6-0a29-4d2...</td><td>A Ltd</td><td>tent</td><td>a</td><td>6.18</td><td>0</td></tr>\n",
       "<tr><td>44</td><td>2021-10-28</td><td>67283489810</td><td>401041015</td><td>5074</td><td>564558</td><td>SA</td><td>Undisclosed</td><td>53613</td><td>465.7038154380591</td><td>b0621138-9c71-49e...</td><td>Hendrerit Consect...</td><td>music</td><td>d</td><td>1.07</td><td>0</td></tr>\n",
       "<tr><td>44</td><td>2021-05-23</td><td>67690172512</td><td>401041015</td><td>5074</td><td>564558</td><td>SA</td><td>Undisclosed</td><td>53613</td><td>58.06866183439192</td><td>77befec7-9ab1-40b...</td><td>Purus Accumsan As...</td><td>cable</td><td>a</td><td>6.35</td><td>0</td></tr>\n",
       "<tr><td>44</td><td>2021-04-13</td><td>49891706470</td><td>401041015</td><td>5074</td><td>564558</td><td>SA</td><td>Undisclosed</td><td>53613</td><td>15.272576482741101</td><td>e2a272ce-bb6b-43f...</td><td>Non Vestibulum In...</td><td>tent</td><td>a</td><td>5.8</td><td>0</td></tr>\n",
       "<tr><td>44</td><td>2021-10-15</td><td>69069584766</td><td>401041015</td><td>5074</td><td>564558</td><td>SA</td><td>Undisclosed</td><td>53613</td><td>241.91063460995838</td><td>7d55cb1b-6e79-4af...</td><td>Cras Eget Foundation</td><td>computer</td><td>a</td><td>5.95</td><td>0</td></tr>\n",
       "<tr><td>44</td><td>2022-01-19</td><td>49891706470</td><td>401041015</td><td>5074</td><td>564558</td><td>SA</td><td>Undisclosed</td><td>53613</td><td>32.38049155067601</td><td>fe3929b0-d4c6-408...</td><td>Non Vestibulum In...</td><td>tent</td><td>a</td><td>5.8</td><td>0</td></tr>\n",
       "<tr><td>44</td><td>2021-07-18</td><td>69069584766</td><td>401041015</td><td>5074</td><td>564558</td><td>SA</td><td>Undisclosed</td><td>53613</td><td>47.56484129098741</td><td>eb7ff236-9fdf-423...</td><td>Cras Eget Foundation</td><td>computer</td><td>a</td><td>5.95</td><td>0</td></tr>\n",
       "<tr><td>44</td><td>2021-05-14</td><td>52959528548</td><td>401041015</td><td>5074</td><td>564558</td><td>SA</td><td>Undisclosed</td><td>53613</td><td>755.3478883912777</td><td>9ddd3f7c-eed2-451...</td><td>Libero Et Limited</td><td>furniture</td><td>c</td><td>1.94</td><td>0</td></tr>\n",
       "<tr><td>44</td><td>2021-03-14</td><td>52959528548</td><td>401041015</td><td>5074</td><td>564558</td><td>SA</td><td>Undisclosed</td><td>53613</td><td>17.628887647459486</td><td>cff3bb05-ab37-41f...</td><td>Libero Et Limited</td><td>furniture</td><td>c</td><td>1.94</td><td>0</td></tr>\n",
       "<tr><td>44</td><td>2021-09-12</td><td>84703983173</td><td>401041015</td><td>5074</td><td>564558</td><td>SA</td><td>Undisclosed</td><td>53613</td><td>52.915184378992464</td><td>5a081ce5-a167-403...</td><td>Amet Consulting</td><td>computer</td><td>c</td><td>2.31</td><td>0</td></tr>\n",
       "</table>\n",
       "only showing top 20 rows\n"
      ],
      "text/plain": [
       "+-------+--------------+------------+---------+--------+-----------+-----+-----------+-----------------+------------------+--------------------+--------------------+-------------+-------------+---------+--------+\n",
       "|user_id|order_datetime|merchant_abn| SA2_code|postcode|consumer_id|state|     gender|mean_total_income|      dollar_value|            order_id|                name|         tags|revenue_level|take_rate|is_fraud|\n",
       "+-------+--------------+------------+---------+--------+-----------+-----+-----------+-----------------+------------------+--------------------+--------------------+-------------+-------------+---------+--------+\n",
       "|     44|    2021-04-09| 10648956813|401041015|    5074|     564558|   SA|Undisclosed|            53613| 68.17405810943993|4d42fd2c-0823-4af...|Proin Nisl Institute|     computer|            a|     6.66|       0|\n",
       "|     44|    2021-03-26| 16256895427|401041015|    5074|     564558|   SA|Undisclosed|            53613|109.29115227377834|20849f6c-9286-4e5...|Tempus Non Founda...|garden supply|            a|      6.6|       0|\n",
       "|     44|    2021-09-03| 21702179125|401041015|    5074|     564558|   SA|Undisclosed|            53613|128.94839096472307|e2eb1a75-836d-43b...|At Auctor Ullamco...|         gift|            c|     2.65|       0|\n",
       "|     44|    2021-09-28| 36125151647|401041015|    5074|     564558|   SA|Undisclosed|            53613| 50.97888666647738|be7da9a9-b31a-4d8...|       Sed Nec Corp.|        hobby|            c|     1.83|       0|\n",
       "|     44|    2021-10-20| 41974958954|401041015|    5074|     564558|   SA|Undisclosed|            53613| 60.02299315612368|cf13f2cc-5d81-413...|Sed Libero Proin ...|        cable|            a|     5.51|       0|\n",
       "|     44|    2021-09-22| 41315101616|401041015|    5074|     564558|   SA|Undisclosed|            53613| 22.01099830027075|784eb5b8-7032-42d...|Malesuada Fames F...|      antique|            b|     5.05|       0|\n",
       "|     44|    2021-12-01| 49891706470|401041015|    5074|     564558|   SA|Undisclosed|            53613|6.1436338479183785|43a40900-af31-421...|Non Vestibulum In...|         tent|            a|      5.8|       0|\n",
       "|     44|    2021-11-24| 47459279421|401041015|    5074|     564558|   SA|Undisclosed|            53613| 37.40432919826938|fcba3312-3c72-4e5...|  Aliquam Gravida PC|         shoe|            a|     6.86|       0|\n",
       "|     44|    2021-07-20| 49891706470|401041015|    5074|     564558|   SA|Undisclosed|            53613|25.611929292222403|9d3f75e2-f164-42c...|Non Vestibulum In...|         tent|            a|      5.8|       0|\n",
       "|     44|    2021-06-29| 49891706470|401041015|    5074|     564558|   SA|Undisclosed|            53613| 9.534770249908876|59ec83dc-bc56-4f0...|Non Vestibulum In...|         tent|            a|      5.8|       0|\n",
       "|     44|    2021-04-08| 61991570212|401041015|    5074|     564558|   SA|Undisclosed|            53613|29.465230171491875|bec490c6-0a29-4d2...|               A Ltd|         tent|            a|     6.18|       0|\n",
       "|     44|    2021-10-28| 67283489810|401041015|    5074|     564558|   SA|Undisclosed|            53613| 465.7038154380591|b0621138-9c71-49e...|Hendrerit Consect...|        music|            d|     1.07|       0|\n",
       "|     44|    2021-05-23| 67690172512|401041015|    5074|     564558|   SA|Undisclosed|            53613| 58.06866183439192|77befec7-9ab1-40b...|Purus Accumsan As...|        cable|            a|     6.35|       0|\n",
       "|     44|    2021-04-13| 49891706470|401041015|    5074|     564558|   SA|Undisclosed|            53613|15.272576482741101|e2a272ce-bb6b-43f...|Non Vestibulum In...|         tent|            a|      5.8|       0|\n",
       "|     44|    2021-10-15| 69069584766|401041015|    5074|     564558|   SA|Undisclosed|            53613|241.91063460995838|7d55cb1b-6e79-4af...|Cras Eget Foundation|     computer|            a|     5.95|       0|\n",
       "|     44|    2022-01-19| 49891706470|401041015|    5074|     564558|   SA|Undisclosed|            53613| 32.38049155067601|fe3929b0-d4c6-408...|Non Vestibulum In...|         tent|            a|      5.8|       0|\n",
       "|     44|    2021-07-18| 69069584766|401041015|    5074|     564558|   SA|Undisclosed|            53613| 47.56484129098741|eb7ff236-9fdf-423...|Cras Eget Foundation|     computer|            a|     5.95|       0|\n",
       "|     44|    2021-05-14| 52959528548|401041015|    5074|     564558|   SA|Undisclosed|            53613| 755.3478883912777|9ddd3f7c-eed2-451...|   Libero Et Limited|    furniture|            c|     1.94|       0|\n",
       "|     44|    2021-03-14| 52959528548|401041015|    5074|     564558|   SA|Undisclosed|            53613|17.628887647459486|cff3bb05-ab37-41f...|   Libero Et Limited|    furniture|            c|     1.94|       0|\n",
       "|     44|    2021-09-12| 84703983173|401041015|    5074|     564558|   SA|Undisclosed|            53613|52.915184378992464|5a081ce5-a167-403...|     Amet Consulting|     computer|            c|     2.31|       0|\n",
       "+-------+--------------+------------+---------+--------+-----------+-----+-----------+-----------------+------------------+--------------------+--------------------+-------------+-------------+---------+--------+\n",
       "only showing top 20 rows"
      ]
     },
     "execution_count": 62,
     "metadata": {},
     "output_type": "execute_result"
    }
   ],
   "source": [
    "full.cache()"
   ]
  },
  {
   "cell_type": "code",
   "execution_count": 63,
   "metadata": {},
   "outputs": [
    {
     "name": "stdout",
     "output_type": "stream",
     "text": [
      "22/09/22 22:12:51 WARN package: Truncated the string representation of a plan since it was too large. This behavior can be adjusted by setting 'spark.sql.debug.maxToStringFields'.\n"
     ]
    }
   ],
   "source": [
    "## underlying files have been updated. explicitly invalidate the cache\n",
    "full.createOrReplaceTempView(\"full_data_with_lable\")"
   ]
  },
  {
   "cell_type": "code",
   "execution_count": 64,
   "metadata": {},
   "outputs": [],
   "source": [
    "query = \"REFRESH TABLE full_data_with_lable\" "
   ]
  },
  {
   "cell_type": "code",
   "execution_count": 65,
   "metadata": {},
   "outputs": [
    {
     "data": {
      "text/html": [
       "<table border='1'>\n",
       "<tr><th></th></tr>\n",
       "</table>\n"
      ],
      "text/plain": [
       "++\n",
       "||\n",
       "++\n",
       "++"
      ]
     },
     "execution_count": 65,
     "metadata": {},
     "output_type": "execute_result"
    }
   ],
   "source": [
    "spark.sql(query)"
   ]
  },
  {
   "cell_type": "code",
   "execution_count": 66,
   "metadata": {},
   "outputs": [
    {
     "name": "stderr",
     "output_type": "stream",
     "text": [
      "                                                                                \r"
     ]
    }
   ],
   "source": [
    "full.write.format('parquet').mode('overwrite').save(\"../../data/curated/full_data_with_fraud\")"
   ]
  },
  {
   "cell_type": "code",
   "execution_count": 67,
   "metadata": {},
   "outputs": [
    {
     "name": "stderr",
     "output_type": "stream",
     "text": [
      "                                                                                \r"
     ]
    },
    {
     "data": {
      "text/html": [
       "<table border='1'>\n",
       "<tr><th>user_id</th><th>order_datetime</th><th>merchant_abn</th><th>SA2_code</th><th>postcode</th><th>consumer_id</th><th>state</th><th>gender</th><th>mean_total_income</th><th>dollar_value</th><th>order_id</th><th>name</th><th>tags</th><th>revenue_level</th><th>take_rate</th><th>is_fraud</th></tr>\n",
       "<tr><td>44</td><td>2021-04-09</td><td>10648956813</td><td>401041015</td><td>5074</td><td>564558</td><td>SA</td><td>Undisclosed</td><td>53613</td><td>68.17405810943993</td><td>4d42fd2c-0823-4af...</td><td>Proin Nisl Institute</td><td>computer</td><td>a</td><td>6.66</td><td>0</td></tr>\n",
       "<tr><td>44</td><td>2021-03-26</td><td>16256895427</td><td>401041015</td><td>5074</td><td>564558</td><td>SA</td><td>Undisclosed</td><td>53613</td><td>109.29115227377834</td><td>20849f6c-9286-4e5...</td><td>Tempus Non Founda...</td><td>garden supply</td><td>a</td><td>6.6</td><td>0</td></tr>\n",
       "<tr><td>44</td><td>2021-09-03</td><td>21702179125</td><td>401041015</td><td>5074</td><td>564558</td><td>SA</td><td>Undisclosed</td><td>53613</td><td>128.94839096472307</td><td>e2eb1a75-836d-43b...</td><td>At Auctor Ullamco...</td><td>gift</td><td>c</td><td>2.65</td><td>0</td></tr>\n",
       "<tr><td>44</td><td>2021-09-28</td><td>36125151647</td><td>401041015</td><td>5074</td><td>564558</td><td>SA</td><td>Undisclosed</td><td>53613</td><td>50.97888666647738</td><td>be7da9a9-b31a-4d8...</td><td>Sed Nec Corp.</td><td>hobby</td><td>c</td><td>1.83</td><td>0</td></tr>\n",
       "<tr><td>44</td><td>2021-10-20</td><td>41974958954</td><td>401041015</td><td>5074</td><td>564558</td><td>SA</td><td>Undisclosed</td><td>53613</td><td>60.02299315612368</td><td>cf13f2cc-5d81-413...</td><td>Sed Libero Proin ...</td><td>cable</td><td>a</td><td>5.51</td><td>0</td></tr>\n",
       "<tr><td>44</td><td>2021-09-22</td><td>41315101616</td><td>401041015</td><td>5074</td><td>564558</td><td>SA</td><td>Undisclosed</td><td>53613</td><td>22.01099830027075</td><td>784eb5b8-7032-42d...</td><td>Malesuada Fames F...</td><td>antique</td><td>b</td><td>5.05</td><td>0</td></tr>\n",
       "<tr><td>44</td><td>2021-12-01</td><td>49891706470</td><td>401041015</td><td>5074</td><td>564558</td><td>SA</td><td>Undisclosed</td><td>53613</td><td>6.1436338479183785</td><td>43a40900-af31-421...</td><td>Non Vestibulum In...</td><td>tent</td><td>a</td><td>5.8</td><td>0</td></tr>\n",
       "<tr><td>44</td><td>2021-11-24</td><td>47459279421</td><td>401041015</td><td>5074</td><td>564558</td><td>SA</td><td>Undisclosed</td><td>53613</td><td>37.40432919826938</td><td>fcba3312-3c72-4e5...</td><td>Aliquam Gravida PC</td><td>shoe</td><td>a</td><td>6.86</td><td>0</td></tr>\n",
       "<tr><td>44</td><td>2021-07-20</td><td>49891706470</td><td>401041015</td><td>5074</td><td>564558</td><td>SA</td><td>Undisclosed</td><td>53613</td><td>25.611929292222403</td><td>9d3f75e2-f164-42c...</td><td>Non Vestibulum In...</td><td>tent</td><td>a</td><td>5.8</td><td>0</td></tr>\n",
       "<tr><td>44</td><td>2021-06-29</td><td>49891706470</td><td>401041015</td><td>5074</td><td>564558</td><td>SA</td><td>Undisclosed</td><td>53613</td><td>9.534770249908876</td><td>59ec83dc-bc56-4f0...</td><td>Non Vestibulum In...</td><td>tent</td><td>a</td><td>5.8</td><td>0</td></tr>\n",
       "<tr><td>44</td><td>2021-04-08</td><td>61991570212</td><td>401041015</td><td>5074</td><td>564558</td><td>SA</td><td>Undisclosed</td><td>53613</td><td>29.465230171491875</td><td>bec490c6-0a29-4d2...</td><td>A Ltd</td><td>tent</td><td>a</td><td>6.18</td><td>0</td></tr>\n",
       "<tr><td>44</td><td>2021-10-28</td><td>67283489810</td><td>401041015</td><td>5074</td><td>564558</td><td>SA</td><td>Undisclosed</td><td>53613</td><td>465.7038154380591</td><td>b0621138-9c71-49e...</td><td>Hendrerit Consect...</td><td>music</td><td>d</td><td>1.07</td><td>0</td></tr>\n",
       "<tr><td>44</td><td>2021-05-23</td><td>67690172512</td><td>401041015</td><td>5074</td><td>564558</td><td>SA</td><td>Undisclosed</td><td>53613</td><td>58.06866183439192</td><td>77befec7-9ab1-40b...</td><td>Purus Accumsan As...</td><td>cable</td><td>a</td><td>6.35</td><td>0</td></tr>\n",
       "<tr><td>44</td><td>2021-04-13</td><td>49891706470</td><td>401041015</td><td>5074</td><td>564558</td><td>SA</td><td>Undisclosed</td><td>53613</td><td>15.272576482741101</td><td>e2a272ce-bb6b-43f...</td><td>Non Vestibulum In...</td><td>tent</td><td>a</td><td>5.8</td><td>0</td></tr>\n",
       "<tr><td>44</td><td>2021-10-15</td><td>69069584766</td><td>401041015</td><td>5074</td><td>564558</td><td>SA</td><td>Undisclosed</td><td>53613</td><td>241.91063460995838</td><td>7d55cb1b-6e79-4af...</td><td>Cras Eget Foundation</td><td>computer</td><td>a</td><td>5.95</td><td>0</td></tr>\n",
       "<tr><td>44</td><td>2022-01-19</td><td>49891706470</td><td>401041015</td><td>5074</td><td>564558</td><td>SA</td><td>Undisclosed</td><td>53613</td><td>32.38049155067601</td><td>fe3929b0-d4c6-408...</td><td>Non Vestibulum In...</td><td>tent</td><td>a</td><td>5.8</td><td>0</td></tr>\n",
       "<tr><td>44</td><td>2021-07-18</td><td>69069584766</td><td>401041015</td><td>5074</td><td>564558</td><td>SA</td><td>Undisclosed</td><td>53613</td><td>47.56484129098741</td><td>eb7ff236-9fdf-423...</td><td>Cras Eget Foundation</td><td>computer</td><td>a</td><td>5.95</td><td>0</td></tr>\n",
       "<tr><td>44</td><td>2021-05-14</td><td>52959528548</td><td>401041015</td><td>5074</td><td>564558</td><td>SA</td><td>Undisclosed</td><td>53613</td><td>755.3478883912777</td><td>9ddd3f7c-eed2-451...</td><td>Libero Et Limited</td><td>furniture</td><td>c</td><td>1.94</td><td>0</td></tr>\n",
       "<tr><td>44</td><td>2021-03-14</td><td>52959528548</td><td>401041015</td><td>5074</td><td>564558</td><td>SA</td><td>Undisclosed</td><td>53613</td><td>17.628887647459486</td><td>cff3bb05-ab37-41f...</td><td>Libero Et Limited</td><td>furniture</td><td>c</td><td>1.94</td><td>0</td></tr>\n",
       "<tr><td>44</td><td>2021-09-12</td><td>84703983173</td><td>401041015</td><td>5074</td><td>564558</td><td>SA</td><td>Undisclosed</td><td>53613</td><td>52.915184378992464</td><td>5a081ce5-a167-403...</td><td>Amet Consulting</td><td>computer</td><td>c</td><td>2.31</td><td>0</td></tr>\n",
       "</table>\n",
       "only showing top 20 rows\n"
      ],
      "text/plain": [
       "DataFrame[user_id: bigint, order_datetime: date, merchant_abn: bigint, SA2_code: int, postcode: int, consumer_id: int, state: string, gender: string, mean_total_income: int, dollar_value: double, order_id: string, name: string, tags: string, revenue_level: string, take_rate: float, is_fraud: int]"
      ]
     },
     "execution_count": 67,
     "metadata": {},
     "output_type": "execute_result"
    }
   ],
   "source": [
    "full.unpersist()"
   ]
  },
  {
   "cell_type": "code",
   "execution_count": null,
   "metadata": {},
   "outputs": [],
   "source": []
  }
 ],
 "metadata": {
  "kernelspec": {
   "display_name": "Python 3.8.10 64-bit",
   "language": "python",
   "name": "python3"
  },
  "language_info": {
   "codemirror_mode": {
    "name": "ipython",
    "version": 3
   },
   "file_extension": ".py",
   "mimetype": "text/x-python",
   "name": "python",
   "nbconvert_exporter": "python",
   "pygments_lexer": "ipython3",
   "version": "3.8.10"
  },
  "orig_nbformat": 4,
  "vscode": {
   "interpreter": {
    "hash": "916dbcbb3f70747c44a77c7bcd40155683ae19c65e1c03b4aa3499c5328201f1"
   }
  }
 },
 "nbformat": 4,
 "nbformat_minor": 2
}
