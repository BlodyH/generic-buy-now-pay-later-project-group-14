{
 "cells": [
  {
   "cell_type": "markdown",
   "metadata": {},
   "source": [
    "# Fraud Prediction Modelling"
   ]
  },
  {
   "cell_type": "markdown",
   "metadata": {},
   "source": [
    "## import library"
   ]
  },
  {
   "cell_type": "code",
   "execution_count": 1,
   "metadata": {},
   "outputs": [],
   "source": [
    "from pyspark.sql import SparkSession\n",
    "from pyspark.sql import functions as F\n",
    "import pandas as pd\n",
    "\n",
    "from pyspark.ml.feature import StringIndexer\n",
    "from pyspark.ml import Pipeline \n",
    "from pyspark.ml.feature import VectorAssembler \n",
    "from pyspark.ml.feature import OneHotEncoder\n",
    "from pyspark.sql.functions import rand\n",
    "from pyspark.ml.classification import LogisticRegression\n",
    "from pyspark.ml.evaluation import MulticlassClassificationEvaluator"
   ]
  },
  {
   "cell_type": "code",
   "execution_count": 2,
   "metadata": {},
   "outputs": [
    {
     "name": "stderr",
     "output_type": "stream",
     "text": [
      "22/09/18 15:57:46 WARN NativeCodeLoader: Unable to load native-hadoop library for your platform... using builtin-java classes where applicable\n",
      "Using Spark's default log4j profile: org/apache/spark/log4j-defaults.properties\n",
      "Setting default log level to \"WARN\".\n",
      "To adjust logging level use sc.setLogLevel(newLevel). For SparkR, use setLogLevel(newLevel).\n"
     ]
    }
   ],
   "source": [
    "# Create a spark session (which will run spark jobs)\n",
    "spark = (\n",
    "    SparkSession.builder.appName(\"MAST30034 Project 2\")\n",
    "    .config(\"spark.sql.repl.eagerEval.enabled\", True) \n",
    "    .config(\"spark.sql.parquet.cacheMetadata\", \"true\")\n",
    "    .config(\"spark.sql.session.timeZone\", \"Etc/UTC\")\n",
    "    .config(\"spark.driver.memory\", \"2g\")\n",
    "    .config(\"spark.executer.memory\", \"4g\")\n",
    "    .getOrCreate()\n",
    ")"
   ]
  },
  {
   "cell_type": "markdown",
   "metadata": {},
   "source": [
    "## preprocessing"
   ]
  },
  {
   "cell_type": "markdown",
   "metadata": {},
   "source": [
    "### load data"
   ]
  },
  {
   "cell_type": "code",
   "execution_count": 125,
   "metadata": {},
   "outputs": [],
   "source": [
    "transactions = spark.read.parquet('../../data/tables/transactions_20210228_20210827_snapshot')\\\n",
    "    .union(spark.read.parquet('../../data/tables/transactions_20210828_20220227_snapshot'))"
   ]
  },
  {
   "cell_type": "code",
   "execution_count": 54,
   "metadata": {},
   "outputs": [],
   "source": [
    "probs_merchant = spark.read.option('header', True).csv('../../data/tables/merchant_fraud_probability.csv')\n",
    "probs_consumer= spark.read.option('header', True).csv('../../data/tables/consumer_fraud_probability.csv')"
   ]
  },
  {
   "cell_type": "code",
   "execution_count": 55,
   "metadata": {},
   "outputs": [],
   "source": [
    "consumers = spark.read.parquet(\"../../data/curated/consumer/\")\n",
    "merchants = spark.read.option('header',True).csv(\"../../data/curated/merchant.csv\")"
   ]
  },
  {
   "cell_type": "code",
   "execution_count": 105,
   "metadata": {},
   "outputs": [],
   "source": [
    "mean_total_income = spark.read.option('header', True).csv('../../data/curated/clean_consumer_post_total_income.csv')"
   ]
  },
  {
   "cell_type": "markdown",
   "metadata": {},
   "source": [
    "### Merge tables"
   ]
  },
  {
   "cell_type": "code",
   "execution_count": 107,
   "metadata": {},
   "outputs": [],
   "source": [
    "mean_total_income = mean_total_income.select('user_id','Mean_Total_Income')"
   ]
  },
  {
   "cell_type": "code",
   "execution_count": 87,
   "metadata": {},
   "outputs": [
    {
     "name": "stdout",
     "output_type": "stream",
     "text": [
      "root\n",
      " |-- user_id: string (nullable = true)\n",
      " |-- Mean_Total_Income: double (nullable = true)\n",
      "\n"
     ]
    }
   ],
   "source": [
    "mean_total_income.printSchema()"
   ]
  },
  {
   "cell_type": "code",
   "execution_count": 108,
   "metadata": {},
   "outputs": [],
   "source": [
    "mean_total_income = mean_total_income.withColumn('Mean_Total_Income', F.col('Mean_Total_Income').cast('double'))"
   ]
  },
  {
   "cell_type": "code",
   "execution_count": 60,
   "metadata": {},
   "outputs": [
    {
     "name": "stdout",
     "output_type": "stream",
     "text": [
      "root\n",
      " |-- user_id: long (nullable = true)\n",
      " |-- merchant_abn: long (nullable = true)\n",
      " |-- dollar_value: double (nullable = true)\n",
      " |-- order_id: string (nullable = true)\n",
      " |-- order_datetime: date (nullable = true)\n",
      "\n"
     ]
    }
   ],
   "source": [
    "transactions.printSchema()"
   ]
  },
  {
   "cell_type": "code",
   "execution_count": 61,
   "metadata": {},
   "outputs": [
    {
     "name": "stdout",
     "output_type": "stream",
     "text": [
      "root\n",
      " |-- user_id: string (nullable = true)\n",
      " |-- order_datetime: string (nullable = true)\n",
      " |-- fraud_probability: string (nullable = true)\n",
      "\n"
     ]
    }
   ],
   "source": [
    "probs_consumer.printSchema()"
   ]
  },
  {
   "cell_type": "code",
   "execution_count": 62,
   "metadata": {},
   "outputs": [
    {
     "name": "stdout",
     "output_type": "stream",
     "text": [
      "root\n",
      " |-- merchant_abn: string (nullable = true)\n",
      " |-- order_datetime: string (nullable = true)\n",
      " |-- fraud_probability: string (nullable = true)\n",
      "\n"
     ]
    }
   ],
   "source": [
    "probs_merchant.printSchema()"
   ]
  },
  {
   "cell_type": "code",
   "execution_count": 88,
   "metadata": {},
   "outputs": [],
   "source": [
    "# match the data types from transaction file for merging preparation\n",
    "transactions = transactions.withColumn('user_id', F.col('user_id').cast('string'))\\\n",
    "                .withColumn('order_datetime', F.col('order_datetime').cast('string'))\\\n",
    "                .withColumn('merchant_abn', F.col('merchant_abn').cast('string'))\n",
    "probs_consumer =  probs_consumer.withColumn('fraud_probability', F.col('fraud_probability').cast('float'))"
   ]
  },
  {
   "cell_type": "code",
   "execution_count": 89,
   "metadata": {},
   "outputs": [],
   "source": [
    "# match the data types from transaction file for merging preparation\n",
    "probs_merchant = probs_merchant.withColumn('merchant_abn', F.col('merchant_abn').cast('long'))\\\n",
    "        .withColumn('order_datetime', F.col('order_datetime').cast('date'))\\\n",
    "        .withColumn('fraud_probability', F.col('fraud_probability').cast('float'))"
   ]
  },
  {
   "cell_type": "code",
   "execution_count": 126,
   "metadata": {},
   "outputs": [],
   "source": [
    "# merge transaction file with merchants'/consumers' fraud probability based on merchant abn or user id respectively by left join\n",
    "result = transactions.join(probs_merchant, on = ['merchant_abn', 'order_datetime'], how = 'left').withColumnRenamed('fraud_probability', 'merchant_prob')\n",
    "result = result.join(probs_consumer, on = ['user_id', 'order_datetime'], how = 'left').withColumnRenamed('fraud_probability', 'consumer_prob')"
   ]
  },
  {
   "cell_type": "code",
   "execution_count": 128,
   "metadata": {},
   "outputs": [],
   "source": [
    "# replace all the missing value with 0.01 as default fraud prob\n",
    "result = result.na.fill(value=0.01, subset=['merchant_prob', 'consumer_prob'])"
   ]
  },
  {
   "cell_type": "code",
   "execution_count": 129,
   "metadata": {},
   "outputs": [
    {
     "data": {
      "text/html": [
       "<table border='1'>\n",
       "<tr><th>user_id</th><th>order_datetime</th><th>merchant_abn</th><th>dollar_value</th><th>order_id</th><th>merchant_prob</th><th>consumer_prob</th><th>is_fraud</th></tr>\n",
       "<tr><td>18478</td><td>2021-08-20</td><td>62191208634</td><td>63.255848959735246</td><td>949a63c8-29f7-4ab...</td><td>0.01</td><td>0.01</td><td>0</td></tr>\n",
       "<tr><td>2</td><td>2021-08-20</td><td>15549624934</td><td>130.3505283105634</td><td>6a84c3cf-612a-457...</td><td>0.01</td><td>0.01</td><td>0</td></tr>\n",
       "<tr><td>18479</td><td>2021-08-20</td><td>64403598239</td><td>120.15860593212783</td><td>b10dcc33-e53f-425...</td><td>0.01</td><td>0.01</td><td>0</td></tr>\n",
       "<tr><td>3</td><td>2021-08-20</td><td>60956456424</td><td>136.6785200286976</td><td>0f09c5a5-784e-447...</td><td>0.01</td><td>0.01</td><td>0</td></tr>\n",
       "<tr><td>18479</td><td>2021-08-20</td><td>94493496784</td><td>72.96316578355305</td><td>f6c78c1a-4600-4c5...</td><td>0.01</td><td>0.01</td><td>0</td></tr>\n",
       "<tr><td>3</td><td>2021-08-20</td><td>76819856970</td><td>448.529684285612</td><td>5ace6a24-cdf0-4aa...</td><td>0.01</td><td>0.01</td><td>0</td></tr>\n",
       "<tr><td>18479</td><td>2021-08-20</td><td>67609108741</td><td>86.4040605836911</td><td>d0e180f0-cb06-42a...</td><td>0.01</td><td>0.01</td><td>0</td></tr>\n",
       "<tr><td>3</td><td>2021-08-20</td><td>34096466752</td><td>301.5793450525113</td><td>6fb1ff48-24bb-4f9...</td><td>0.01</td><td>0.01</td><td>0</td></tr>\n",
       "<tr><td>18482</td><td>2021-08-20</td><td>70501974849</td><td>68.75486276223054</td><td>8505fb33-b69a-412...</td><td>0.01</td><td>0.01</td><td>0</td></tr>\n",
       "<tr><td>4</td><td>2021-08-20</td><td>49891706470</td><td>48.89796461900801</td><td>ed11e477-b09f-4ae...</td><td>0.01</td><td>0.01</td><td>0</td></tr>\n",
       "<tr><td>18482</td><td>2021-08-20</td><td>46804135891</td><td>6.6168976971833615</td><td>05b5edb5-b925-414...</td><td>0.01</td><td>0.01</td><td>0</td></tr>\n",
       "<tr><td>7</td><td>2021-08-20</td><td>33064796871</td><td>373.0873675184212</td><td>fe188788-b89f-4dd...</td><td>0.01</td><td>0.01</td><td>0</td></tr>\n",
       "<tr><td>18483</td><td>2021-08-20</td><td>44160392990</td><td>83.98473054761176</td><td>7c44302d-98b3-48b...</td><td>0.01</td><td>0.01</td><td>0</td></tr>\n",
       "<tr><td>7</td><td>2021-08-20</td><td>68435002949</td><td>232.5364986739752</td><td>b4a89891-a113-45e...</td><td>0.01</td><td>0.01</td><td>0</td></tr>\n",
       "<tr><td>18484</td><td>2021-08-20</td><td>70033549200</td><td>871.7678061729196</td><td>4b1d941a-21a1-43e...</td><td>0.01</td><td>0.01</td><td>0</td></tr>\n",
       "<tr><td>7</td><td>2021-08-20</td><td>41944909975</td><td>30.910755230234322</td><td>302ae628-8eba-4a5...</td><td>0.01</td><td>0.01</td><td>0</td></tr>\n",
       "<tr><td>18485</td><td>2021-08-20</td><td>41705715409</td><td>309.5417224575787</td><td>67f4f98e-3149-4e8...</td><td>0.01</td><td>0.01</td><td>0</td></tr>\n",
       "<tr><td>8</td><td>2021-08-20</td><td>29566626791</td><td>74.15732460440282</td><td>71a81652-cc91-4bf...</td><td>0.01</td><td>0.01</td><td>0</td></tr>\n",
       "<tr><td>18487</td><td>2021-08-20</td><td>32361057556</td><td>119.19055863068847</td><td>15577921-1104-470...</td><td>0.01</td><td>0.01</td><td>0</td></tr>\n",
       "<tr><td>9</td><td>2021-08-20</td><td>47663262928</td><td>36.69873283148887</td><td>c4fcb49a-ce87-4e1...</td><td>0.01</td><td>0.01</td><td>0</td></tr>\n",
       "</table>\n",
       "only showing top 20 rows\n"
      ],
      "text/plain": [
       "+-------+--------------+------------+------------------+--------------------+-------------+-------------+--------+\n",
       "|user_id|order_datetime|merchant_abn|      dollar_value|            order_id|merchant_prob|consumer_prob|is_fraud|\n",
       "+-------+--------------+------------+------------------+--------------------+-------------+-------------+--------+\n",
       "|  18478|    2021-08-20| 62191208634|63.255848959735246|949a63c8-29f7-4ab...|         0.01|         0.01|       0|\n",
       "|      2|    2021-08-20| 15549624934| 130.3505283105634|6a84c3cf-612a-457...|         0.01|         0.01|       0|\n",
       "|  18479|    2021-08-20| 64403598239|120.15860593212783|b10dcc33-e53f-425...|         0.01|         0.01|       0|\n",
       "|      3|    2021-08-20| 60956456424| 136.6785200286976|0f09c5a5-784e-447...|         0.01|         0.01|       0|\n",
       "|  18479|    2021-08-20| 94493496784| 72.96316578355305|f6c78c1a-4600-4c5...|         0.01|         0.01|       0|\n",
       "|      3|    2021-08-20| 76819856970|  448.529684285612|5ace6a24-cdf0-4aa...|         0.01|         0.01|       0|\n",
       "|  18479|    2021-08-20| 67609108741|  86.4040605836911|d0e180f0-cb06-42a...|         0.01|         0.01|       0|\n",
       "|      3|    2021-08-20| 34096466752| 301.5793450525113|6fb1ff48-24bb-4f9...|         0.01|         0.01|       0|\n",
       "|  18482|    2021-08-20| 70501974849| 68.75486276223054|8505fb33-b69a-412...|         0.01|         0.01|       0|\n",
       "|      4|    2021-08-20| 49891706470| 48.89796461900801|ed11e477-b09f-4ae...|         0.01|         0.01|       0|\n",
       "|  18482|    2021-08-20| 46804135891|6.6168976971833615|05b5edb5-b925-414...|         0.01|         0.01|       0|\n",
       "|      7|    2021-08-20| 33064796871| 373.0873675184212|fe188788-b89f-4dd...|         0.01|         0.01|       0|\n",
       "|  18483|    2021-08-20| 44160392990| 83.98473054761176|7c44302d-98b3-48b...|         0.01|         0.01|       0|\n",
       "|      7|    2021-08-20| 68435002949| 232.5364986739752|b4a89891-a113-45e...|         0.01|         0.01|       0|\n",
       "|  18484|    2021-08-20| 70033549200| 871.7678061729196|4b1d941a-21a1-43e...|         0.01|         0.01|       0|\n",
       "|      7|    2021-08-20| 41944909975|30.910755230234322|302ae628-8eba-4a5...|         0.01|         0.01|       0|\n",
       "|  18485|    2021-08-20| 41705715409| 309.5417224575787|67f4f98e-3149-4e8...|         0.01|         0.01|       0|\n",
       "|      8|    2021-08-20| 29566626791| 74.15732460440282|71a81652-cc91-4bf...|         0.01|         0.01|       0|\n",
       "|  18487|    2021-08-20| 32361057556|119.19055863068847|15577921-1104-470...|         0.01|         0.01|       0|\n",
       "|      9|    2021-08-20| 47663262928| 36.69873283148887|c4fcb49a-ce87-4e1...|         0.01|         0.01|       0|\n",
       "+-------+--------------+------------+------------------+--------------------+-------------+-------------+--------+\n",
       "only showing top 20 rows"
      ]
     },
     "execution_count": 129,
     "metadata": {},
     "output_type": "execute_result"
    }
   ],
   "source": [
    "# We set benchmark as 5%, because we focus on False Positive instead of False Negative\n",
    "result = result.withColumn('is_fraud', F.when((F.col('merchant_prob') > 5) | (F.col('consumer_prob') > 5), 1).otherwise(0))\n",
    "result"
   ]
  },
  {
   "cell_type": "code",
   "execution_count": 112,
   "metadata": {},
   "outputs": [
    {
     "name": "stderr",
     "output_type": "stream",
     "text": [
      "[Stage 201:=============================>                        (13 + 11) / 24]\r"
     ]
    },
    {
     "name": "stdout",
     "output_type": "stream",
     "text": [
      "In 8151584 transactions, 84214 are detected as fraud\n"
     ]
    },
    {
     "name": "stderr",
     "output_type": "stream",
     "text": [
      "                                                                                \r"
     ]
    }
   ],
   "source": [
    "print('In {} transactions, {} are detected as fraud'.format(result.count(), result.filter(F.col('is_fraud') == 1).count()))"
   ]
  },
  {
   "cell_type": "code",
   "execution_count": 130,
   "metadata": {},
   "outputs": [
    {
     "name": "stderr",
     "output_type": "stream",
     "text": [
      "                                                                                \r"
     ]
    },
    {
     "data": {
      "text/html": [
       "<table border='1'>\n",
       "<tr><th>user_id</th><th>order_datetime</th><th>merchant_abn</th><th>dollar_value</th><th>merchant_prob</th><th>consumer_prob</th><th>is_fraud</th></tr>\n",
       "<tr><td>18478</td><td>2021-08-20</td><td>62191208634</td><td>63.255848959735246</td><td>0.01</td><td>0.01</td><td>0</td></tr>\n",
       "<tr><td>2</td><td>2021-08-20</td><td>15549624934</td><td>130.3505283105634</td><td>0.01</td><td>0.01</td><td>0</td></tr>\n",
       "<tr><td>18479</td><td>2021-08-20</td><td>64403598239</td><td>120.15860593212783</td><td>0.01</td><td>0.01</td><td>0</td></tr>\n",
       "<tr><td>3</td><td>2021-08-20</td><td>60956456424</td><td>136.6785200286976</td><td>0.01</td><td>0.01</td><td>0</td></tr>\n",
       "<tr><td>18479</td><td>2021-08-20</td><td>94493496784</td><td>72.96316578355305</td><td>0.01</td><td>0.01</td><td>0</td></tr>\n",
       "<tr><td>3</td><td>2021-08-20</td><td>76819856970</td><td>448.529684285612</td><td>0.01</td><td>0.01</td><td>0</td></tr>\n",
       "<tr><td>18479</td><td>2021-08-20</td><td>67609108741</td><td>86.4040605836911</td><td>0.01</td><td>0.01</td><td>0</td></tr>\n",
       "<tr><td>3</td><td>2021-08-20</td><td>34096466752</td><td>301.5793450525113</td><td>0.01</td><td>0.01</td><td>0</td></tr>\n",
       "<tr><td>18482</td><td>2021-08-20</td><td>70501974849</td><td>68.75486276223054</td><td>0.01</td><td>0.01</td><td>0</td></tr>\n",
       "<tr><td>4</td><td>2021-08-20</td><td>49891706470</td><td>48.89796461900801</td><td>0.01</td><td>0.01</td><td>0</td></tr>\n",
       "<tr><td>18482</td><td>2021-08-20</td><td>46804135891</td><td>6.6168976971833615</td><td>0.01</td><td>0.01</td><td>0</td></tr>\n",
       "<tr><td>7</td><td>2021-08-20</td><td>33064796871</td><td>373.0873675184212</td><td>0.01</td><td>0.01</td><td>0</td></tr>\n",
       "<tr><td>18483</td><td>2021-08-20</td><td>44160392990</td><td>83.98473054761176</td><td>0.01</td><td>0.01</td><td>0</td></tr>\n",
       "<tr><td>7</td><td>2021-08-20</td><td>68435002949</td><td>232.5364986739752</td><td>0.01</td><td>0.01</td><td>0</td></tr>\n",
       "<tr><td>18484</td><td>2021-08-20</td><td>70033549200</td><td>871.7678061729196</td><td>0.01</td><td>0.01</td><td>0</td></tr>\n",
       "<tr><td>7</td><td>2021-08-20</td><td>41944909975</td><td>30.910755230234322</td><td>0.01</td><td>0.01</td><td>0</td></tr>\n",
       "<tr><td>18485</td><td>2021-08-20</td><td>41705715409</td><td>309.5417224575787</td><td>0.01</td><td>0.01</td><td>0</td></tr>\n",
       "<tr><td>8</td><td>2021-08-20</td><td>29566626791</td><td>74.15732460440282</td><td>0.01</td><td>0.01</td><td>0</td></tr>\n",
       "<tr><td>18487</td><td>2021-08-20</td><td>32361057556</td><td>119.19055863068847</td><td>0.01</td><td>0.01</td><td>0</td></tr>\n",
       "<tr><td>9</td><td>2021-08-20</td><td>47663262928</td><td>36.69873283148887</td><td>0.01</td><td>0.01</td><td>0</td></tr>\n",
       "</table>\n",
       "only showing top 20 rows\n"
      ],
      "text/plain": [
       "+-------+--------------+------------+------------------+-------------+-------------+--------+\n",
       "|user_id|order_datetime|merchant_abn|      dollar_value|merchant_prob|consumer_prob|is_fraud|\n",
       "+-------+--------------+------------+------------------+-------------+-------------+--------+\n",
       "|  18478|    2021-08-20| 62191208634|63.255848959735246|         0.01|         0.01|       0|\n",
       "|      2|    2021-08-20| 15549624934| 130.3505283105634|         0.01|         0.01|       0|\n",
       "|  18479|    2021-08-20| 64403598239|120.15860593212783|         0.01|         0.01|       0|\n",
       "|      3|    2021-08-20| 60956456424| 136.6785200286976|         0.01|         0.01|       0|\n",
       "|  18479|    2021-08-20| 94493496784| 72.96316578355305|         0.01|         0.01|       0|\n",
       "|      3|    2021-08-20| 76819856970|  448.529684285612|         0.01|         0.01|       0|\n",
       "|  18479|    2021-08-20| 67609108741|  86.4040605836911|         0.01|         0.01|       0|\n",
       "|      3|    2021-08-20| 34096466752| 301.5793450525113|         0.01|         0.01|       0|\n",
       "|  18482|    2021-08-20| 70501974849| 68.75486276223054|         0.01|         0.01|       0|\n",
       "|      4|    2021-08-20| 49891706470| 48.89796461900801|         0.01|         0.01|       0|\n",
       "|  18482|    2021-08-20| 46804135891|6.6168976971833615|         0.01|         0.01|       0|\n",
       "|      7|    2021-08-20| 33064796871| 373.0873675184212|         0.01|         0.01|       0|\n",
       "|  18483|    2021-08-20| 44160392990| 83.98473054761176|         0.01|         0.01|       0|\n",
       "|      7|    2021-08-20| 68435002949| 232.5364986739752|         0.01|         0.01|       0|\n",
       "|  18484|    2021-08-20| 70033549200| 871.7678061729196|         0.01|         0.01|       0|\n",
       "|      7|    2021-08-20| 41944909975|30.910755230234322|         0.01|         0.01|       0|\n",
       "|  18485|    2021-08-20| 41705715409| 309.5417224575787|         0.01|         0.01|       0|\n",
       "|      8|    2021-08-20| 29566626791| 74.15732460440282|         0.01|         0.01|       0|\n",
       "|  18487|    2021-08-20| 32361057556|119.19055863068847|         0.01|         0.01|       0|\n",
       "|      9|    2021-08-20| 47663262928| 36.69873283148887|         0.01|         0.01|       0|\n",
       "+-------+--------------+------------+------------------+-------------+-------------+--------+\n",
       "only showing top 20 rows"
      ]
     },
     "execution_count": 130,
     "metadata": {},
     "output_type": "execute_result"
    }
   ],
   "source": [
    "# save the training dataset as parquet\n",
    "result = result.drop('order_id')\n",
    "result.cache()"
   ]
  },
  {
   "cell_type": "code",
   "execution_count": 114,
   "metadata": {},
   "outputs": [
    {
     "name": "stdout",
     "output_type": "stream",
     "text": [
      "root\n",
      " |-- consumer_id: integer (nullable = true)\n",
      " |-- user_id: integer (nullable = true)\n",
      " |-- state: string (nullable = true)\n",
      " |-- postcode: integer (nullable = true)\n",
      " |-- gender: string (nullable = true)\n",
      "\n"
     ]
    }
   ],
   "source": [
    "consumers.printSchema()"
   ]
  },
  {
   "cell_type": "code",
   "execution_count": 71,
   "metadata": {},
   "outputs": [
    {
     "name": "stdout",
     "output_type": "stream",
     "text": [
      "root\n",
      " |-- merchant_abn: string (nullable = true)\n",
      " |-- name: string (nullable = true)\n",
      " |-- tags: string (nullable = true)\n",
      " |-- revenue_level: string (nullable = true)\n",
      " |-- take_rate: string (nullable = true)\n",
      "\n"
     ]
    }
   ],
   "source": [
    "merchants.printSchema()"
   ]
  },
  {
   "cell_type": "code",
   "execution_count": 131,
   "metadata": {},
   "outputs": [
    {
     "name": "stderr",
     "output_type": "stream",
     "text": [
      "                                                                                \r"
     ]
    },
    {
     "data": {
      "text/html": [
       "<table border='1'>\n",
       "<tr><th>user_id</th><th>merchant_abn</th><th>order_datetime</th><th>dollar_value</th><th>merchant_prob</th><th>consumer_prob</th><th>is_fraud</th><th>name</th><th>tags</th><th>revenue_level</th><th>take_rate</th><th>consumer_id</th><th>state</th><th>postcode</th><th>gender</th></tr>\n",
       "<tr><td>18478</td><td>62191208634</td><td>2021-08-20</td><td>63.255848959735246</td><td>0.01</td><td>0.01</td><td>0</td><td>Cursus Non Egesta...</td><td>furniture</td><td>c</td><td>2.17</td><td>651338</td><td>TAS</td><td>7001</td><td>Male</td></tr>\n",
       "<tr><td>2</td><td>15549624934</td><td>2021-08-20</td><td>130.3505283105634</td><td>0.01</td><td>0.01</td><td>0</td><td>Commodo Associates</td><td>opticians</td><td>c</td><td>2.76</td><td>179208</td><td>NSW</td><td>2782</td><td>Female</td></tr>\n",
       "<tr><td>18479</td><td>64403598239</td><td>2021-08-20</td><td>120.15860593212783</td><td>0.01</td><td>0.01</td><td>0</td><td>Lobortis Ultrices...</td><td>music</td><td>a</td><td>6.31</td><td>467663</td><td>TAS</td><td>7010</td><td>Female</td></tr>\n",
       "<tr><td>3</td><td>60956456424</td><td>2021-08-20</td><td>136.6785200286976</td><td>0.01</td><td>0.01</td><td>0</td><td>Ultricies Digniss...</td><td>gift</td><td>b</td><td>4.69</td><td>1194530</td><td>NT</td><td>862</td><td>Female</td></tr>\n",
       "<tr><td>18479</td><td>94493496784</td><td>2021-08-20</td><td>72.96316578355305</td><td>0.01</td><td>0.01</td><td>0</td><td>Dictum Phasellus ...</td><td>gift</td><td>a</td><td>5.65</td><td>467663</td><td>TAS</td><td>7010</td><td>Female</td></tr>\n",
       "<tr><td>3</td><td>76819856970</td><td>2021-08-20</td><td>448.529684285612</td><td>0.01</td><td>0.01</td><td>0</td><td>Egestas Blandit Ltd</td><td>tent</td><td>b</td><td>3.19</td><td>1194530</td><td>NT</td><td>862</td><td>Female</td></tr>\n",
       "<tr><td>18479</td><td>67609108741</td><td>2021-08-20</td><td>86.4040605836911</td><td>0.01</td><td>0.01</td><td>0</td><td>Metus Sit Amet In...</td><td>cable</td><td>e</td><td>0.38</td><td>467663</td><td>TAS</td><td>7010</td><td>Female</td></tr>\n",
       "<tr><td>3</td><td>34096466752</td><td>2021-08-20</td><td>301.5793450525113</td><td>0.01</td><td>0.01</td><td>0</td><td>Nullam Enim Ltd</td><td>computer</td><td>b</td><td>3.22</td><td>1194530</td><td>NT</td><td>862</td><td>Female</td></tr>\n",
       "<tr><td>18482</td><td>70501974849</td><td>2021-08-20</td><td>68.75486276223054</td><td>0.01</td><td>0.01</td><td>0</td><td>Facilisis Lorem T...</td><td>computer</td><td>b</td><td>3.3</td><td>918448</td><td>NSW</td><td>1430</td><td>Male</td></tr>\n",
       "<tr><td>4</td><td>49891706470</td><td>2021-08-20</td><td>48.89796461900801</td><td>0.01</td><td>0.01</td><td>0</td><td>Non Vestibulum In...</td><td>tent</td><td>a</td><td>5.8</td><td>154128</td><td>NSW</td><td>2780</td><td>Female</td></tr>\n",
       "<tr><td>18482</td><td>46804135891</td><td>2021-08-20</td><td>6.6168976971833615</td><td>0.01</td><td>0.01</td><td>0</td><td>Suspendisse Dui C...</td><td>opticians</td><td>c</td><td>2.93</td><td>918448</td><td>NSW</td><td>1430</td><td>Male</td></tr>\n",
       "<tr><td>7</td><td>33064796871</td><td>2021-08-20</td><td>373.0873675184212</td><td>0.01</td><td>0.01</td><td>0</td><td>Curabitur Massa C...</td><td>computer</td><td>b</td><td>3.75</td><td>511685</td><td>QLD</td><td>4606</td><td>Female</td></tr>\n",
       "<tr><td>18483</td><td>44160392990</td><td>2021-08-20</td><td>83.98473054761176</td><td>0.01</td><td>0.01</td><td>0</td><td>Sociis Natoque In...</td><td>digital goods</td><td>a</td><td>5.97</td><td>191119</td><td>QLD</td><td>4118</td><td>Female</td></tr>\n",
       "<tr><td>7</td><td>68435002949</td><td>2021-08-20</td><td>232.5364986739752</td><td>0.01</td><td>0.01</td><td>0</td><td>Aliquam Eu Inc.</td><td>artist supply</td><td>a</td><td>6.65</td><td>511685</td><td>QLD</td><td>4606</td><td>Female</td></tr>\n",
       "<tr><td>18484</td><td>70033549200</td><td>2021-08-20</td><td>871.7678061729196</td><td>0.01</td><td>0.01</td><td>0</td><td>Mus Proin LLP</td><td>tent</td><td>b</td><td>4.78</td><td>596919</td><td>QLD</td><td>4309</td><td>Male</td></tr>\n",
       "<tr><td>7</td><td>41944909975</td><td>2021-08-20</td><td>30.910755230234322</td><td>0.01</td><td>0.01</td><td>0</td><td>Et Nunc Consulting</td><td>books</td><td>e</td><td>0.16</td><td>511685</td><td>QLD</td><td>4606</td><td>Female</td></tr>\n",
       "<tr><td>18485</td><td>41705715409</td><td>2021-08-20</td><td>309.5417224575787</td><td>0.01</td><td>0.01</td><td>0</td><td>Augue Eu LLP</td><td>furniture</td><td>a</td><td>6.05</td><td>1212819</td><td>VIC</td><td>3073</td><td>Male</td></tr>\n",
       "<tr><td>8</td><td>29566626791</td><td>2021-08-20</td><td>74.15732460440282</td><td>0.01</td><td>0.01</td><td>0</td><td>null</td><td>null</td><td>null</td><td>null</td><td>448088</td><td>WA</td><td>6056</td><td>Male</td></tr>\n",
       "<tr><td>18487</td><td>32361057556</td><td>2021-08-20</td><td>119.19055863068847</td><td>0.01</td><td>0.01</td><td>0</td><td>Orci In Consequat...</td><td>gift</td><td>a</td><td>6.61</td><td>1165699</td><td>NSW</td><td>1004</td><td>Female</td></tr>\n",
       "<tr><td>9</td><td>47663262928</td><td>2021-08-20</td><td>36.69873283148887</td><td>0.01</td><td>0.01</td><td>0</td><td>Eget Lacus LLP</td><td>cable</td><td>a</td><td>6.66</td><td>650435</td><td>NSW</td><td>2482</td><td>Female</td></tr>\n",
       "</table>\n",
       "only showing top 20 rows\n"
      ],
      "text/plain": [
       "+-------+------------+--------------+------------------+-------------+-------------+--------+--------------------+-------------+-------------+---------+-----------+-----+--------+------+\n",
       "|user_id|merchant_abn|order_datetime|      dollar_value|merchant_prob|consumer_prob|is_fraud|                name|         tags|revenue_level|take_rate|consumer_id|state|postcode|gender|\n",
       "+-------+------------+--------------+------------------+-------------+-------------+--------+--------------------+-------------+-------------+---------+-----------+-----+--------+------+\n",
       "|  18478| 62191208634|    2021-08-20|63.255848959735246|         0.01|         0.01|       0|Cursus Non Egesta...|    furniture|            c|     2.17|     651338|  TAS|    7001|  Male|\n",
       "|      2| 15549624934|    2021-08-20| 130.3505283105634|         0.01|         0.01|       0|  Commodo Associates|    opticians|            c|     2.76|     179208|  NSW|    2782|Female|\n",
       "|  18479| 64403598239|    2021-08-20|120.15860593212783|         0.01|         0.01|       0|Lobortis Ultrices...|        music|            a|     6.31|     467663|  TAS|    7010|Female|\n",
       "|      3| 60956456424|    2021-08-20| 136.6785200286976|         0.01|         0.01|       0|Ultricies Digniss...|         gift|            b|     4.69|    1194530|   NT|     862|Female|\n",
       "|  18479| 94493496784|    2021-08-20| 72.96316578355305|         0.01|         0.01|       0|Dictum Phasellus ...|         gift|            a|     5.65|     467663|  TAS|    7010|Female|\n",
       "|      3| 76819856970|    2021-08-20|  448.529684285612|         0.01|         0.01|       0| Egestas Blandit Ltd|         tent|            b|     3.19|    1194530|   NT|     862|Female|\n",
       "|  18479| 67609108741|    2021-08-20|  86.4040605836911|         0.01|         0.01|       0|Metus Sit Amet In...|        cable|            e|     0.38|     467663|  TAS|    7010|Female|\n",
       "|      3| 34096466752|    2021-08-20| 301.5793450525113|         0.01|         0.01|       0|     Nullam Enim Ltd|     computer|            b|     3.22|    1194530|   NT|     862|Female|\n",
       "|  18482| 70501974849|    2021-08-20| 68.75486276223054|         0.01|         0.01|       0|Facilisis Lorem T...|     computer|            b|      3.3|     918448|  NSW|    1430|  Male|\n",
       "|      4| 49891706470|    2021-08-20| 48.89796461900801|         0.01|         0.01|       0|Non Vestibulum In...|         tent|            a|      5.8|     154128|  NSW|    2780|Female|\n",
       "|  18482| 46804135891|    2021-08-20|6.6168976971833615|         0.01|         0.01|       0|Suspendisse Dui C...|    opticians|            c|     2.93|     918448|  NSW|    1430|  Male|\n",
       "|      7| 33064796871|    2021-08-20| 373.0873675184212|         0.01|         0.01|       0|Curabitur Massa C...|     computer|            b|     3.75|     511685|  QLD|    4606|Female|\n",
       "|  18483| 44160392990|    2021-08-20| 83.98473054761176|         0.01|         0.01|       0|Sociis Natoque In...|digital goods|            a|     5.97|     191119|  QLD|    4118|Female|\n",
       "|      7| 68435002949|    2021-08-20| 232.5364986739752|         0.01|         0.01|       0|     Aliquam Eu Inc.|artist supply|            a|     6.65|     511685|  QLD|    4606|Female|\n",
       "|  18484| 70033549200|    2021-08-20| 871.7678061729196|         0.01|         0.01|       0|       Mus Proin LLP|         tent|            b|     4.78|     596919|  QLD|    4309|  Male|\n",
       "|      7| 41944909975|    2021-08-20|30.910755230234322|         0.01|         0.01|       0|  Et Nunc Consulting|        books|            e|     0.16|     511685|  QLD|    4606|Female|\n",
       "|  18485| 41705715409|    2021-08-20| 309.5417224575787|         0.01|         0.01|       0|        Augue Eu LLP|    furniture|            a|     6.05|    1212819|  VIC|    3073|  Male|\n",
       "|      8| 29566626791|    2021-08-20| 74.15732460440282|         0.01|         0.01|       0|                null|         null|         null|     null|     448088|   WA|    6056|  Male|\n",
       "|  18487| 32361057556|    2021-08-20|119.19055863068847|         0.01|         0.01|       0|Orci In Consequat...|         gift|            a|     6.61|    1165699|  NSW|    1004|Female|\n",
       "|      9| 47663262928|    2021-08-20| 36.69873283148887|         0.01|         0.01|       0|      Eget Lacus LLP|        cable|            a|     6.66|     650435|  NSW|    2482|Female|\n",
       "+-------+------------+--------------+------------------+-------------+-------------+--------+--------------------+-------------+-------------+---------+-----------+-----+--------+------+\n",
       "only showing top 20 rows"
      ]
     },
     "execution_count": 131,
     "metadata": {},
     "output_type": "execute_result"
    }
   ],
   "source": [
    "result  = result.join(merchants, on='merchant_abn', how = 'left')\n",
    "result = result.join(consumers, on='user_id', how = 'left')\n",
    "result.cache()"
   ]
  },
  {
   "cell_type": "code",
   "execution_count": 132,
   "metadata": {},
   "outputs": [],
   "source": [
    "result = result.filter(F.col('dollar_value') >= 1).na.drop(subset = 'name')"
   ]
  },
  {
   "cell_type": "code",
   "execution_count": 171,
   "metadata": {},
   "outputs": [
    {
     "name": "stdout",
     "output_type": "stream",
     "text": [
      "root\n",
      " |-- user_id: string (nullable = true)\n",
      " |-- merchant_abn: long (nullable = true)\n",
      " |-- order_datetime: string (nullable = true)\n",
      " |-- dollar_value: double (nullable = true)\n",
      " |-- merchant_prob: float (nullable = false)\n",
      " |-- consumer_prob: float (nullable = false)\n",
      " |-- is_fraud: integer (nullable = false)\n",
      " |-- name: string (nullable = true)\n",
      " |-- tags: string (nullable = true)\n",
      " |-- revenue_level: string (nullable = true)\n",
      " |-- take_rate: float (nullable = true)\n",
      " |-- consumer_id: integer (nullable = true)\n",
      " |-- state: string (nullable = true)\n",
      " |-- postcode: integer (nullable = true)\n",
      " |-- gender: string (nullable = true)\n",
      " |-- Mean_Total_Income: double (nullable = true)\n",
      "\n"
     ]
    }
   ],
   "source": [
    "result.printSchema()"
   ]
  },
  {
   "cell_type": "code",
   "execution_count": 170,
   "metadata": {},
   "outputs": [],
   "source": [
    "result = result.withColumn('user_id', F.col('user_id').cast('string'))\\\n",
    "          .withColumn('order_datetime', F.col('order_datetime').cast('string'))\\\n",
    "          .withColumn('take_rate', F.col('take_rate').cast('float'))"
   ]
  },
  {
   "cell_type": "code",
   "execution_count": 138,
   "metadata": {},
   "outputs": [
    {
     "name": "stderr",
     "output_type": "stream",
     "text": [
      "                                                                                \r"
     ]
    },
    {
     "data": {
      "text/html": [
       "<table border='1'>\n",
       "<tr><th>user_id</th><th>merchant_abn</th><th>order_datetime</th><th>dollar_value</th><th>merchant_prob</th><th>consumer_prob</th><th>is_fraud</th><th>name</th><th>tags</th><th>revenue_level</th><th>take_rate</th><th>consumer_id</th><th>state</th><th>postcode</th><th>gender</th><th>Mean_Total_Income</th></tr>\n",
       "<tr><td>18478</td><td>62191208634</td><td>2021-08-20</td><td>63.255848959735246</td><td>0.01</td><td>0.01</td><td>0</td><td>Cursus Non Egesta...</td><td>furniture</td><td>c</td><td>2.17</td><td>651338</td><td>TAS</td><td>7001</td><td>Male</td><td>64714.0</td></tr>\n",
       "<tr><td>2</td><td>15549624934</td><td>2021-08-20</td><td>130.3505283105634</td><td>0.01</td><td>0.01</td><td>0</td><td>Commodo Associates</td><td>opticians</td><td>c</td><td>2.76</td><td>179208</td><td>NSW</td><td>2782</td><td>Female</td><td>61938.0</td></tr>\n",
       "<tr><td>18479</td><td>64403598239</td><td>2021-08-20</td><td>120.15860593212783</td><td>0.01</td><td>0.01</td><td>0</td><td>Lobortis Ultrices...</td><td>music</td><td>a</td><td>6.31</td><td>467663</td><td>TAS</td><td>7010</td><td>Female</td><td>49154.0</td></tr>\n",
       "<tr><td>3</td><td>60956456424</td><td>2021-08-20</td><td>136.6785200286976</td><td>0.01</td><td>0.01</td><td>0</td><td>Ultricies Digniss...</td><td>gift</td><td>b</td><td>4.69</td><td>1194530</td><td>NT</td><td>862</td><td>Female</td><td>44246.0</td></tr>\n",
       "<tr><td>18479</td><td>94493496784</td><td>2021-08-20</td><td>72.96316578355305</td><td>0.01</td><td>0.01</td><td>0</td><td>Dictum Phasellus ...</td><td>gift</td><td>a</td><td>5.65</td><td>467663</td><td>TAS</td><td>7010</td><td>Female</td><td>49154.0</td></tr>\n",
       "<tr><td>3</td><td>76819856970</td><td>2021-08-20</td><td>448.529684285612</td><td>0.01</td><td>0.01</td><td>0</td><td>Egestas Blandit Ltd</td><td>tent</td><td>b</td><td>3.19</td><td>1194530</td><td>NT</td><td>862</td><td>Female</td><td>44246.0</td></tr>\n",
       "<tr><td>18479</td><td>67609108741</td><td>2021-08-20</td><td>86.4040605836911</td><td>0.01</td><td>0.01</td><td>0</td><td>Metus Sit Amet In...</td><td>cable</td><td>e</td><td>0.38</td><td>467663</td><td>TAS</td><td>7010</td><td>Female</td><td>49154.0</td></tr>\n",
       "<tr><td>3</td><td>34096466752</td><td>2021-08-20</td><td>301.5793450525113</td><td>0.01</td><td>0.01</td><td>0</td><td>Nullam Enim Ltd</td><td>computer</td><td>b</td><td>3.22</td><td>1194530</td><td>NT</td><td>862</td><td>Female</td><td>44246.0</td></tr>\n",
       "<tr><td>18482</td><td>70501974849</td><td>2021-08-20</td><td>68.75486276223054</td><td>0.01</td><td>0.01</td><td>0</td><td>Facilisis Lorem T...</td><td>computer</td><td>b</td><td>3.3</td><td>918448</td><td>NSW</td><td>1430</td><td>Male</td><td>78871.0</td></tr>\n",
       "<tr><td>4</td><td>49891706470</td><td>2021-08-20</td><td>48.89796461900801</td><td>0.01</td><td>0.01</td><td>0</td><td>Non Vestibulum In...</td><td>tent</td><td>a</td><td>5.8</td><td>154128</td><td>NSW</td><td>2780</td><td>Female</td><td>54212.0</td></tr>\n",
       "<tr><td>18482</td><td>46804135891</td><td>2021-08-20</td><td>6.6168976971833615</td><td>0.01</td><td>0.01</td><td>0</td><td>Suspendisse Dui C...</td><td>opticians</td><td>c</td><td>2.93</td><td>918448</td><td>NSW</td><td>1430</td><td>Male</td><td>78871.0</td></tr>\n",
       "<tr><td>7</td><td>33064796871</td><td>2021-08-20</td><td>373.0873675184212</td><td>0.01</td><td>0.01</td><td>0</td><td>Curabitur Massa C...</td><td>computer</td><td>b</td><td>3.75</td><td>511685</td><td>QLD</td><td>4606</td><td>Female</td><td>41798.0</td></tr>\n",
       "<tr><td>18483</td><td>44160392990</td><td>2021-08-20</td><td>83.98473054761176</td><td>0.01</td><td>0.01</td><td>0</td><td>Sociis Natoque In...</td><td>digital goods</td><td>a</td><td>5.97</td><td>191119</td><td>QLD</td><td>4118</td><td>Female</td><td>51464.0</td></tr>\n",
       "<tr><td>7</td><td>68435002949</td><td>2021-08-20</td><td>232.5364986739752</td><td>0.01</td><td>0.01</td><td>0</td><td>Aliquam Eu Inc.</td><td>artist supply</td><td>a</td><td>6.65</td><td>511685</td><td>QLD</td><td>4606</td><td>Female</td><td>41798.0</td></tr>\n",
       "<tr><td>18484</td><td>70033549200</td><td>2021-08-20</td><td>871.7678061729196</td><td>0.01</td><td>0.01</td><td>0</td><td>Mus Proin LLP</td><td>tent</td><td>b</td><td>4.78</td><td>596919</td><td>QLD</td><td>4309</td><td>Male</td><td>49551.0</td></tr>\n",
       "<tr><td>7</td><td>41944909975</td><td>2021-08-20</td><td>30.910755230234322</td><td>0.01</td><td>0.01</td><td>0</td><td>Et Nunc Consulting</td><td>books</td><td>e</td><td>0.16</td><td>511685</td><td>QLD</td><td>4606</td><td>Female</td><td>41798.0</td></tr>\n",
       "<tr><td>18485</td><td>41705715409</td><td>2021-08-20</td><td>309.5417224575787</td><td>0.01</td><td>0.01</td><td>0</td><td>Augue Eu LLP</td><td>furniture</td><td>a</td><td>6.05</td><td>1212819</td><td>VIC</td><td>3073</td><td>Male</td><td>48638.0</td></tr>\n",
       "<tr><td>18487</td><td>32361057556</td><td>2021-08-20</td><td>119.19055863068847</td><td>0.01</td><td>0.01</td><td>0</td><td>Orci In Consequat...</td><td>gift</td><td>a</td><td>6.61</td><td>1165699</td><td>NSW</td><td>1004</td><td>Female</td><td>70738.0</td></tr>\n",
       "<tr><td>9</td><td>47663262928</td><td>2021-08-20</td><td>36.69873283148887</td><td>0.01</td><td>0.01</td><td>0</td><td>Eget Lacus LLP</td><td>cable</td><td>a</td><td>6.66</td><td>650435</td><td>NSW</td><td>2482</td><td>Female</td><td>43381.0</td></tr>\n",
       "<tr><td>18487</td><td>30458474292</td><td>2021-08-20</td><td>26.99459359443691</td><td>0.01</td><td>0.01</td><td>0</td><td>Euismod Est Found...</td><td>watch</td><td>a</td><td>5.62</td><td>1165699</td><td>NSW</td><td>1004</td><td>Female</td><td>70738.0</td></tr>\n",
       "</table>\n",
       "only showing top 20 rows\n"
      ],
      "text/plain": [
       "+-------+------------+--------------+------------------+-------------+-------------+--------+--------------------+-------------+-------------+---------+-----------+-----+--------+------+-----------------+\n",
       "|user_id|merchant_abn|order_datetime|      dollar_value|merchant_prob|consumer_prob|is_fraud|                name|         tags|revenue_level|take_rate|consumer_id|state|postcode|gender|Mean_Total_Income|\n",
       "+-------+------------+--------------+------------------+-------------+-------------+--------+--------------------+-------------+-------------+---------+-----------+-----+--------+------+-----------------+\n",
       "|  18478| 62191208634|    2021-08-20|63.255848959735246|         0.01|         0.01|       0|Cursus Non Egesta...|    furniture|            c|     2.17|     651338|  TAS|    7001|  Male|          64714.0|\n",
       "|      2| 15549624934|    2021-08-20| 130.3505283105634|         0.01|         0.01|       0|  Commodo Associates|    opticians|            c|     2.76|     179208|  NSW|    2782|Female|          61938.0|\n",
       "|  18479| 64403598239|    2021-08-20|120.15860593212783|         0.01|         0.01|       0|Lobortis Ultrices...|        music|            a|     6.31|     467663|  TAS|    7010|Female|          49154.0|\n",
       "|      3| 60956456424|    2021-08-20| 136.6785200286976|         0.01|         0.01|       0|Ultricies Digniss...|         gift|            b|     4.69|    1194530|   NT|     862|Female|          44246.0|\n",
       "|  18479| 94493496784|    2021-08-20| 72.96316578355305|         0.01|         0.01|       0|Dictum Phasellus ...|         gift|            a|     5.65|     467663|  TAS|    7010|Female|          49154.0|\n",
       "|      3| 76819856970|    2021-08-20|  448.529684285612|         0.01|         0.01|       0| Egestas Blandit Ltd|         tent|            b|     3.19|    1194530|   NT|     862|Female|          44246.0|\n",
       "|  18479| 67609108741|    2021-08-20|  86.4040605836911|         0.01|         0.01|       0|Metus Sit Amet In...|        cable|            e|     0.38|     467663|  TAS|    7010|Female|          49154.0|\n",
       "|      3| 34096466752|    2021-08-20| 301.5793450525113|         0.01|         0.01|       0|     Nullam Enim Ltd|     computer|            b|     3.22|    1194530|   NT|     862|Female|          44246.0|\n",
       "|  18482| 70501974849|    2021-08-20| 68.75486276223054|         0.01|         0.01|       0|Facilisis Lorem T...|     computer|            b|      3.3|     918448|  NSW|    1430|  Male|          78871.0|\n",
       "|      4| 49891706470|    2021-08-20| 48.89796461900801|         0.01|         0.01|       0|Non Vestibulum In...|         tent|            a|      5.8|     154128|  NSW|    2780|Female|          54212.0|\n",
       "|  18482| 46804135891|    2021-08-20|6.6168976971833615|         0.01|         0.01|       0|Suspendisse Dui C...|    opticians|            c|     2.93|     918448|  NSW|    1430|  Male|          78871.0|\n",
       "|      7| 33064796871|    2021-08-20| 373.0873675184212|         0.01|         0.01|       0|Curabitur Massa C...|     computer|            b|     3.75|     511685|  QLD|    4606|Female|          41798.0|\n",
       "|  18483| 44160392990|    2021-08-20| 83.98473054761176|         0.01|         0.01|       0|Sociis Natoque In...|digital goods|            a|     5.97|     191119|  QLD|    4118|Female|          51464.0|\n",
       "|      7| 68435002949|    2021-08-20| 232.5364986739752|         0.01|         0.01|       0|     Aliquam Eu Inc.|artist supply|            a|     6.65|     511685|  QLD|    4606|Female|          41798.0|\n",
       "|  18484| 70033549200|    2021-08-20| 871.7678061729196|         0.01|         0.01|       0|       Mus Proin LLP|         tent|            b|     4.78|     596919|  QLD|    4309|  Male|          49551.0|\n",
       "|      7| 41944909975|    2021-08-20|30.910755230234322|         0.01|         0.01|       0|  Et Nunc Consulting|        books|            e|     0.16|     511685|  QLD|    4606|Female|          41798.0|\n",
       "|  18485| 41705715409|    2021-08-20| 309.5417224575787|         0.01|         0.01|       0|        Augue Eu LLP|    furniture|            a|     6.05|    1212819|  VIC|    3073|  Male|          48638.0|\n",
       "|  18487| 32361057556|    2021-08-20|119.19055863068847|         0.01|         0.01|       0|Orci In Consequat...|         gift|            a|     6.61|    1165699|  NSW|    1004|Female|          70738.0|\n",
       "|      9| 47663262928|    2021-08-20| 36.69873283148887|         0.01|         0.01|       0|      Eget Lacus LLP|        cable|            a|     6.66|     650435|  NSW|    2482|Female|          43381.0|\n",
       "|  18487| 30458474292|    2021-08-20| 26.99459359443691|         0.01|         0.01|       0|Euismod Est Found...|        watch|            a|     5.62|    1165699|  NSW|    1004|Female|          70738.0|\n",
       "+-------+------------+--------------+------------------+-------------+-------------+--------+--------------------+-------------+-------------+---------+-----------+-----+--------+------+-----------------+\n",
       "only showing top 20 rows"
      ]
     },
     "execution_count": 138,
     "metadata": {},
     "output_type": "execute_result"
    }
   ],
   "source": [
    "result = result.join(mean_total_income, on = 'user_id', how = \"left\")\n",
    "result.cache()"
   ]
  },
  {
   "cell_type": "code",
   "execution_count": 139,
   "metadata": {},
   "outputs": [
    {
     "name": "stderr",
     "output_type": "stream",
     "text": [
      "                                                                                \r"
     ]
    },
    {
     "data": {
      "text/plain": [
       "0"
      ]
     },
     "execution_count": 139,
     "metadata": {},
     "output_type": "execute_result"
    }
   ],
   "source": [
    "result.filter(F.col('Mean_Total_Income').isNull()).count()"
   ]
  },
  {
   "cell_type": "code",
   "execution_count": 146,
   "metadata": {},
   "outputs": [
    {
     "name": "stdout",
     "output_type": "stream",
     "text": [
      "root\n",
      " |-- user_id: string (nullable = true)\n",
      " |-- merchant_abn: long (nullable = true)\n",
      " |-- order_datetime: string (nullable = true)\n",
      " |-- dollar_value: double (nullable = true)\n",
      " |-- merchant_prob: float (nullable = false)\n",
      " |-- consumer_prob: float (nullable = false)\n",
      " |-- is_fraud: integer (nullable = false)\n",
      " |-- name: string (nullable = true)\n",
      " |-- tags: string (nullable = true)\n",
      " |-- revenue_level: string (nullable = true)\n",
      " |-- take_rate: string (nullable = true)\n",
      " |-- consumer_id: integer (nullable = true)\n",
      " |-- state: string (nullable = true)\n",
      " |-- postcode: integer (nullable = true)\n",
      " |-- gender: string (nullable = true)\n",
      " |-- Mean_Total_Income: double (nullable = true)\n",
      "\n"
     ]
    }
   ],
   "source": [
    "result.printSchema()"
   ]
  },
  {
   "cell_type": "markdown",
   "metadata": {},
   "source": [
    "## Feature Engineering"
   ]
  },
  {
   "cell_type": "markdown",
   "metadata": {},
   "source": [
    "### bin numeric features"
   ]
  },
  {
   "cell_type": "code",
   "execution_count": 59,
   "metadata": {},
   "outputs": [
    {
     "name": "stderr",
     "output_type": "stream",
     "text": [
      "                                                                                \r"
     ]
    }
   ],
   "source": [
    "#value_max = result.select('dollar_value').orderBy(F.col('dollar_value'),  ascending= False).collect()[0][0]"
   ]
  },
  {
   "cell_type": "code",
   "execution_count": 60,
   "metadata": {},
   "outputs": [
    {
     "name": "stderr",
     "output_type": "stream",
     "text": [
      "                                                                                \r"
     ]
    }
   ],
   "source": [
    "#value_min = result.select('dollar_value').orderBy(F.col('dollar_value')).collect()[0][0]"
   ]
  },
  {
   "cell_type": "code",
   "execution_count": 61,
   "metadata": {},
   "outputs": [
    {
     "name": "stdout",
     "output_type": "stream",
     "text": [
      "dollar_value range:[1.0000012988409446, 105193.88578925544]\n"
     ]
    }
   ],
   "source": [
    "#print('dollar_value range:[{}, {}]'.format(value_min, value_max))"
   ]
  },
  {
   "cell_type": "code",
   "execution_count": 62,
   "metadata": {},
   "outputs": [],
   "source": [
    "# bins = []\n",
    "# i  = 0\n",
    "# while i <= 70000:\n",
    "#   bins.append(i)\n",
    "#   i += 200"
   ]
  },
  {
   "cell_type": "code",
   "execution_count": 63,
   "metadata": {},
   "outputs": [],
   "source": [
    "#bins.append(float('Inf'))"
   ]
  },
  {
   "cell_type": "code",
   "execution_count": 64,
   "metadata": {},
   "outputs": [],
   "source": [
    "#bucketizer = Bucketizer(splits=bins, inputCol=\"dollar_value\", outputCol=\"dollar_value_buckets\")\n",
    "#result = bucketizer.setHandleInvalid(\"keep\").transform(result)"
   ]
  },
  {
   "cell_type": "code",
   "execution_count": 67,
   "metadata": {},
   "outputs": [],
   "source": [
    "#result = result.withColumn('take_rate', F.col('take_rate').cast('double'))"
   ]
  },
  {
   "cell_type": "code",
   "execution_count": 68,
   "metadata": {},
   "outputs": [
    {
     "name": "stderr",
     "output_type": "stream",
     "text": [
      "                                                                                \r"
     ]
    }
   ],
   "source": [
    "# take_rate_max = result.select('take_rate').orderBy(F.col('take_rate'),  ascending= False).collect()[0][0]\n",
    "# take_rate_min = result.select('take_rate').orderBy(F.col('take_rate')).collect()[0][0]"
   ]
  },
  {
   "cell_type": "code",
   "execution_count": 69,
   "metadata": {},
   "outputs": [
    {
     "name": "stdout",
     "output_type": "stream",
     "text": [
      "take_rate range:[0.1, 7.0]\n"
     ]
    }
   ],
   "source": [
    "# print('take_rate range:[{}, {}]'.format(take_rate_min, take_rate_max))"
   ]
  },
  {
   "cell_type": "code",
   "execution_count": 70,
   "metadata": {},
   "outputs": [],
   "source": [
    "# bucketizer = Bucketizer(splits=[0,1,2,3,4,5,6,7,8], inputCol=\"take_rate\", outputCol=\"take_rate_buckets\")\n",
    "# result = bucketizer.setHandleInvalid(\"keep\").transform(result)"
   ]
  },
  {
   "cell_type": "code",
   "execution_count": 72,
   "metadata": {},
   "outputs": [
    {
     "name": "stdout",
     "output_type": "stream",
     "text": [
      "root\n",
      " |-- user_id: string (nullable = true)\n",
      " |-- merchant_abn: string (nullable = true)\n",
      " |-- order_datetime: string (nullable = true)\n",
      " |-- dollar_value: double (nullable = true)\n",
      " |-- order_id: string (nullable = true)\n",
      " |-- merchant_prob: float (nullable = false)\n",
      " |-- consumer_prob: float (nullable = false)\n",
      " |-- is_fraud: integer (nullable = false)\n",
      " |-- name: string (nullable = true)\n",
      " |-- tags: string (nullable = true)\n",
      " |-- revenue_level: string (nullable = true)\n",
      " |-- take_rate: double (nullable = true)\n",
      " |-- consumer_id: integer (nullable = true)\n",
      " |-- state: string (nullable = true)\n",
      " |-- postcode: integer (nullable = true)\n",
      " |-- gender: string (nullable = true)\n",
      " |-- dollar_value_buckets: double (nullable = true)\n",
      " |-- take_rate_buckets: double (nullable = true)\n",
      "\n"
     ]
    }
   ],
   "source": [
    "# result.printSchema()"
   ]
  },
  {
   "cell_type": "markdown",
   "metadata": {},
   "source": [
    "### Index ordinal features"
   ]
  },
  {
   "cell_type": "code",
   "execution_count": 152,
   "metadata": {},
   "outputs": [],
   "source": [
    "indexed_features = ['order_datetime', 'revenue_level','tags', 'gender']"
   ]
  },
  {
   "cell_type": "code",
   "execution_count": 173,
   "metadata": {},
   "outputs": [
    {
     "data": {
      "text/plain": [
       "[StringIndexer_512a0ca8904c,\n",
       " StringIndexer_2ad9266926e1,\n",
       " StringIndexer_10b1aef82d20,\n",
       " StringIndexer_7eae7ef488c3]"
      ]
     },
     "execution_count": 173,
     "metadata": {},
     "output_type": "execute_result"
    }
   ],
   "source": [
    "# We give all values in non-numeric features an index in order to make it ordinal or one-hot encoded\n",
    "indexers =[]\n",
    "for col in indexed_features:\n",
    "  indexers.append(StringIndexer(inputCol=col, outputCol = col+\"_index\"))\n",
    "\n",
    "indexers"
   ]
  },
  {
   "cell_type": "code",
   "execution_count": 174,
   "metadata": {},
   "outputs": [],
   "source": [
    "pipeline = Pipeline(stages=indexers)"
   ]
  },
  {
   "cell_type": "code",
   "execution_count": 175,
   "metadata": {},
   "outputs": [
    {
     "name": "stderr",
     "output_type": "stream",
     "text": [
      "                                                                                \r"
     ]
    }
   ],
   "source": [
    "indexed_result = pipeline.fit(result).transform(result)"
   ]
  },
  {
   "cell_type": "code",
   "execution_count": 156,
   "metadata": {},
   "outputs": [
    {
     "data": {
      "text/html": [
       "<table border='1'>\n",
       "<tr><th>user_id</th><th>merchant_abn</th><th>order_datetime</th><th>dollar_value</th><th>merchant_prob</th><th>consumer_prob</th><th>is_fraud</th><th>name</th><th>tags</th><th>revenue_level</th><th>take_rate</th><th>consumer_id</th><th>state</th><th>postcode</th><th>gender</th><th>Mean_Total_Income</th><th>order_datetime_index</th><th>revenue_level_index</th><th>tags_index</th><th>gender_index</th></tr>\n",
       "<tr><td>18478</td><td>62191208634</td><td>2021-08-20</td><td>63.255848959735246</td><td>0.01</td><td>0.01</td><td>0</td><td>Cursus Non Egesta...</td><td>furniture</td><td>c</td><td>2.17</td><td>651338</td><td>TAS</td><td>7001</td><td>Male</td><td>64714.0</td><td>49.0</td><td>2.0</td><td>8.0</td><td>0.0</td></tr>\n",
       "<tr><td>2</td><td>15549624934</td><td>2021-08-20</td><td>130.3505283105634</td><td>0.01</td><td>0.01</td><td>0</td><td>Commodo Associates</td><td>opticians</td><td>c</td><td>2.76</td><td>179208</td><td>NSW</td><td>2782</td><td>Female</td><td>61938.0</td><td>49.0</td><td>2.0</td><td>7.0</td><td>1.0</td></tr>\n",
       "<tr><td>18479</td><td>64403598239</td><td>2021-08-20</td><td>120.15860593212783</td><td>0.01</td><td>0.01</td><td>0</td><td>Lobortis Ultrices...</td><td>music</td><td>a</td><td>6.31</td><td>467663</td><td>TAS</td><td>7010</td><td>Female</td><td>49154.0</td><td>49.0</td><td>0.0</td><td>13.0</td><td>1.0</td></tr>\n",
       "<tr><td>3</td><td>60956456424</td><td>2021-08-20</td><td>136.6785200286976</td><td>0.01</td><td>0.01</td><td>0</td><td>Ultricies Digniss...</td><td>gift</td><td>b</td><td>4.69</td><td>1194530</td><td>NT</td><td>862</td><td>Female</td><td>44246.0</td><td>49.0</td><td>1.0</td><td>1.0</td><td>1.0</td></tr>\n",
       "<tr><td>18479</td><td>94493496784</td><td>2021-08-20</td><td>72.96316578355305</td><td>0.01</td><td>0.01</td><td>0</td><td>Dictum Phasellus ...</td><td>gift</td><td>a</td><td>5.65</td><td>467663</td><td>TAS</td><td>7010</td><td>Female</td><td>49154.0</td><td>49.0</td><td>0.0</td><td>1.0</td><td>1.0</td></tr>\n",
       "<tr><td>3</td><td>76819856970</td><td>2021-08-20</td><td>448.529684285612</td><td>0.01</td><td>0.01</td><td>0</td><td>Egestas Blandit Ltd</td><td>tent</td><td>b</td><td>3.19</td><td>1194530</td><td>NT</td><td>862</td><td>Female</td><td>44246.0</td><td>49.0</td><td>1.0</td><td>0.0</td><td>1.0</td></tr>\n",
       "<tr><td>18479</td><td>67609108741</td><td>2021-08-20</td><td>86.4040605836911</td><td>0.01</td><td>0.01</td><td>0</td><td>Metus Sit Amet In...</td><td>cable</td><td>e</td><td>0.38</td><td>467663</td><td>TAS</td><td>7010</td><td>Female</td><td>49154.0</td><td>49.0</td><td>4.0</td><td>5.0</td><td>1.0</td></tr>\n",
       "<tr><td>3</td><td>34096466752</td><td>2021-08-20</td><td>301.5793450525113</td><td>0.01</td><td>0.01</td><td>0</td><td>Nullam Enim Ltd</td><td>computer</td><td>b</td><td>3.22</td><td>1194530</td><td>NT</td><td>862</td><td>Female</td><td>44246.0</td><td>49.0</td><td>1.0</td><td>3.0</td><td>1.0</td></tr>\n",
       "<tr><td>18482</td><td>70501974849</td><td>2021-08-20</td><td>68.75486276223054</td><td>0.01</td><td>0.01</td><td>0</td><td>Facilisis Lorem T...</td><td>computer</td><td>b</td><td>3.3</td><td>918448</td><td>NSW</td><td>1430</td><td>Male</td><td>78871.0</td><td>49.0</td><td>1.0</td><td>3.0</td><td>0.0</td></tr>\n",
       "<tr><td>4</td><td>49891706470</td><td>2021-08-20</td><td>48.89796461900801</td><td>0.01</td><td>0.01</td><td>0</td><td>Non Vestibulum In...</td><td>tent</td><td>a</td><td>5.8</td><td>154128</td><td>NSW</td><td>2780</td><td>Female</td><td>54212.0</td><td>49.0</td><td>0.0</td><td>0.0</td><td>1.0</td></tr>\n",
       "<tr><td>18482</td><td>46804135891</td><td>2021-08-20</td><td>6.6168976971833615</td><td>0.01</td><td>0.01</td><td>0</td><td>Suspendisse Dui C...</td><td>opticians</td><td>c</td><td>2.93</td><td>918448</td><td>NSW</td><td>1430</td><td>Male</td><td>78871.0</td><td>49.0</td><td>2.0</td><td>7.0</td><td>0.0</td></tr>\n",
       "<tr><td>7</td><td>33064796871</td><td>2021-08-20</td><td>373.0873675184212</td><td>0.01</td><td>0.01</td><td>0</td><td>Curabitur Massa C...</td><td>computer</td><td>b</td><td>3.75</td><td>511685</td><td>QLD</td><td>4606</td><td>Female</td><td>41798.0</td><td>49.0</td><td>1.0</td><td>3.0</td><td>1.0</td></tr>\n",
       "<tr><td>18483</td><td>44160392990</td><td>2021-08-20</td><td>83.98473054761176</td><td>0.01</td><td>0.01</td><td>0</td><td>Sociis Natoque In...</td><td>digital goods</td><td>a</td><td>5.97</td><td>191119</td><td>QLD</td><td>4118</td><td>Female</td><td>51464.0</td><td>49.0</td><td>0.0</td><td>2.0</td><td>1.0</td></tr>\n",
       "<tr><td>7</td><td>68435002949</td><td>2021-08-20</td><td>232.5364986739752</td><td>0.01</td><td>0.01</td><td>0</td><td>Aliquam Eu Inc.</td><td>artist supply</td><td>a</td><td>6.65</td><td>511685</td><td>QLD</td><td>4606</td><td>Female</td><td>41798.0</td><td>49.0</td><td>0.0</td><td>9.0</td><td>1.0</td></tr>\n",
       "<tr><td>18484</td><td>70033549200</td><td>2021-08-20</td><td>871.7678061729196</td><td>0.01</td><td>0.01</td><td>0</td><td>Mus Proin LLP</td><td>tent</td><td>b</td><td>4.78</td><td>596919</td><td>QLD</td><td>4309</td><td>Male</td><td>49551.0</td><td>49.0</td><td>1.0</td><td>0.0</td><td>0.0</td></tr>\n",
       "<tr><td>7</td><td>41944909975</td><td>2021-08-20</td><td>30.910755230234322</td><td>0.01</td><td>0.01</td><td>0</td><td>Et Nunc Consulting</td><td>books</td><td>e</td><td>0.16</td><td>511685</td><td>QLD</td><td>4606</td><td>Female</td><td>41798.0</td><td>49.0</td><td>4.0</td><td>11.0</td><td>1.0</td></tr>\n",
       "<tr><td>18485</td><td>41705715409</td><td>2021-08-20</td><td>309.5417224575787</td><td>0.01</td><td>0.01</td><td>0</td><td>Augue Eu LLP</td><td>furniture</td><td>a</td><td>6.05</td><td>1212819</td><td>VIC</td><td>3073</td><td>Male</td><td>48638.0</td><td>49.0</td><td>0.0</td><td>8.0</td><td>0.0</td></tr>\n",
       "<tr><td>18487</td><td>32361057556</td><td>2021-08-20</td><td>119.19055863068847</td><td>0.01</td><td>0.01</td><td>0</td><td>Orci In Consequat...</td><td>gift</td><td>a</td><td>6.61</td><td>1165699</td><td>NSW</td><td>1004</td><td>Female</td><td>70738.0</td><td>49.0</td><td>0.0</td><td>1.0</td><td>1.0</td></tr>\n",
       "<tr><td>9</td><td>47663262928</td><td>2021-08-20</td><td>36.69873283148887</td><td>0.01</td><td>0.01</td><td>0</td><td>Eget Lacus LLP</td><td>cable</td><td>a</td><td>6.66</td><td>650435</td><td>NSW</td><td>2482</td><td>Female</td><td>43381.0</td><td>49.0</td><td>0.0</td><td>5.0</td><td>1.0</td></tr>\n",
       "<tr><td>18487</td><td>30458474292</td><td>2021-08-20</td><td>26.99459359443691</td><td>0.01</td><td>0.01</td><td>0</td><td>Euismod Est Found...</td><td>watch</td><td>a</td><td>5.62</td><td>1165699</td><td>NSW</td><td>1004</td><td>Female</td><td>70738.0</td><td>49.0</td><td>0.0</td><td>4.0</td><td>1.0</td></tr>\n",
       "</table>\n",
       "only showing top 20 rows\n"
      ],
      "text/plain": [
       "+-------+------------+--------------+------------------+-------------+-------------+--------+--------------------+-------------+-------------+---------+-----------+-----+--------+------+-----------------+--------------------+-------------------+----------+------------+\n",
       "|user_id|merchant_abn|order_datetime|      dollar_value|merchant_prob|consumer_prob|is_fraud|                name|         tags|revenue_level|take_rate|consumer_id|state|postcode|gender|Mean_Total_Income|order_datetime_index|revenue_level_index|tags_index|gender_index|\n",
       "+-------+------------+--------------+------------------+-------------+-------------+--------+--------------------+-------------+-------------+---------+-----------+-----+--------+------+-----------------+--------------------+-------------------+----------+------------+\n",
       "|  18478| 62191208634|    2021-08-20|63.255848959735246|         0.01|         0.01|       0|Cursus Non Egesta...|    furniture|            c|     2.17|     651338|  TAS|    7001|  Male|          64714.0|                49.0|                2.0|       8.0|         0.0|\n",
       "|      2| 15549624934|    2021-08-20| 130.3505283105634|         0.01|         0.01|       0|  Commodo Associates|    opticians|            c|     2.76|     179208|  NSW|    2782|Female|          61938.0|                49.0|                2.0|       7.0|         1.0|\n",
       "|  18479| 64403598239|    2021-08-20|120.15860593212783|         0.01|         0.01|       0|Lobortis Ultrices...|        music|            a|     6.31|     467663|  TAS|    7010|Female|          49154.0|                49.0|                0.0|      13.0|         1.0|\n",
       "|      3| 60956456424|    2021-08-20| 136.6785200286976|         0.01|         0.01|       0|Ultricies Digniss...|         gift|            b|     4.69|    1194530|   NT|     862|Female|          44246.0|                49.0|                1.0|       1.0|         1.0|\n",
       "|  18479| 94493496784|    2021-08-20| 72.96316578355305|         0.01|         0.01|       0|Dictum Phasellus ...|         gift|            a|     5.65|     467663|  TAS|    7010|Female|          49154.0|                49.0|                0.0|       1.0|         1.0|\n",
       "|      3| 76819856970|    2021-08-20|  448.529684285612|         0.01|         0.01|       0| Egestas Blandit Ltd|         tent|            b|     3.19|    1194530|   NT|     862|Female|          44246.0|                49.0|                1.0|       0.0|         1.0|\n",
       "|  18479| 67609108741|    2021-08-20|  86.4040605836911|         0.01|         0.01|       0|Metus Sit Amet In...|        cable|            e|     0.38|     467663|  TAS|    7010|Female|          49154.0|                49.0|                4.0|       5.0|         1.0|\n",
       "|      3| 34096466752|    2021-08-20| 301.5793450525113|         0.01|         0.01|       0|     Nullam Enim Ltd|     computer|            b|     3.22|    1194530|   NT|     862|Female|          44246.0|                49.0|                1.0|       3.0|         1.0|\n",
       "|  18482| 70501974849|    2021-08-20| 68.75486276223054|         0.01|         0.01|       0|Facilisis Lorem T...|     computer|            b|      3.3|     918448|  NSW|    1430|  Male|          78871.0|                49.0|                1.0|       3.0|         0.0|\n",
       "|      4| 49891706470|    2021-08-20| 48.89796461900801|         0.01|         0.01|       0|Non Vestibulum In...|         tent|            a|      5.8|     154128|  NSW|    2780|Female|          54212.0|                49.0|                0.0|       0.0|         1.0|\n",
       "|  18482| 46804135891|    2021-08-20|6.6168976971833615|         0.01|         0.01|       0|Suspendisse Dui C...|    opticians|            c|     2.93|     918448|  NSW|    1430|  Male|          78871.0|                49.0|                2.0|       7.0|         0.0|\n",
       "|      7| 33064796871|    2021-08-20| 373.0873675184212|         0.01|         0.01|       0|Curabitur Massa C...|     computer|            b|     3.75|     511685|  QLD|    4606|Female|          41798.0|                49.0|                1.0|       3.0|         1.0|\n",
       "|  18483| 44160392990|    2021-08-20| 83.98473054761176|         0.01|         0.01|       0|Sociis Natoque In...|digital goods|            a|     5.97|     191119|  QLD|    4118|Female|          51464.0|                49.0|                0.0|       2.0|         1.0|\n",
       "|      7| 68435002949|    2021-08-20| 232.5364986739752|         0.01|         0.01|       0|     Aliquam Eu Inc.|artist supply|            a|     6.65|     511685|  QLD|    4606|Female|          41798.0|                49.0|                0.0|       9.0|         1.0|\n",
       "|  18484| 70033549200|    2021-08-20| 871.7678061729196|         0.01|         0.01|       0|       Mus Proin LLP|         tent|            b|     4.78|     596919|  QLD|    4309|  Male|          49551.0|                49.0|                1.0|       0.0|         0.0|\n",
       "|      7| 41944909975|    2021-08-20|30.910755230234322|         0.01|         0.01|       0|  Et Nunc Consulting|        books|            e|     0.16|     511685|  QLD|    4606|Female|          41798.0|                49.0|                4.0|      11.0|         1.0|\n",
       "|  18485| 41705715409|    2021-08-20| 309.5417224575787|         0.01|         0.01|       0|        Augue Eu LLP|    furniture|            a|     6.05|    1212819|  VIC|    3073|  Male|          48638.0|                49.0|                0.0|       8.0|         0.0|\n",
       "|  18487| 32361057556|    2021-08-20|119.19055863068847|         0.01|         0.01|       0|Orci In Consequat...|         gift|            a|     6.61|    1165699|  NSW|    1004|Female|          70738.0|                49.0|                0.0|       1.0|         1.0|\n",
       "|      9| 47663262928|    2021-08-20| 36.69873283148887|         0.01|         0.01|       0|      Eget Lacus LLP|        cable|            a|     6.66|     650435|  NSW|    2482|Female|          43381.0|                49.0|                0.0|       5.0|         1.0|\n",
       "|  18487| 30458474292|    2021-08-20| 26.99459359443691|         0.01|         0.01|       0|Euismod Est Found...|        watch|            a|     5.62|    1165699|  NSW|    1004|Female|          70738.0|                49.0|                0.0|       4.0|         1.0|\n",
       "+-------+------------+--------------+------------------+-------------+-------------+--------+--------------------+-------------+-------------+---------+-----------+-----+--------+------+-----------------+--------------------+-------------------+----------+------------+\n",
       "only showing top 20 rows"
      ]
     },
     "execution_count": 156,
     "metadata": {},
     "output_type": "execute_result"
    }
   ],
   "source": [
    "indexed_result"
   ]
  },
  {
   "cell_type": "markdown",
   "metadata": {},
   "source": [
    "### One hot encoding"
   ]
  },
  {
   "cell_type": "code",
   "execution_count": 176,
   "metadata": {},
   "outputs": [],
   "source": [
    "# one-hot-encoding the numeric indices\n",
    "ohe = []\n",
    "ohe.append(OneHotEncoder(inputCol=\"tags_index\", outputCol=\"tagsOHE\"))\n",
    "ohe.append(OneHotEncoder(inputCol=\"gender_index\", outputCol=\"genderOHE\"))"
   ]
  },
  {
   "cell_type": "code",
   "execution_count": 177,
   "metadata": {},
   "outputs": [],
   "source": [
    "pipeline = Pipeline(stages=ohe)"
   ]
  },
  {
   "cell_type": "code",
   "execution_count": 178,
   "metadata": {},
   "outputs": [],
   "source": [
    "indexed_result = pipeline.fit(indexed_result).transform(indexed_result)"
   ]
  },
  {
   "cell_type": "code",
   "execution_count": 166,
   "metadata": {},
   "outputs": [
    {
     "data": {
      "text/html": [
       "<table border='1'>\n",
       "<tr><th>user_id</th><th>merchant_abn</th><th>order_datetime</th><th>dollar_value</th><th>merchant_prob</th><th>consumer_prob</th><th>is_fraud</th><th>name</th><th>tags</th><th>revenue_level</th><th>take_rate</th><th>consumer_id</th><th>state</th><th>postcode</th><th>gender</th><th>Mean_Total_Income</th><th>order_datetime_index</th><th>revenue_level_index</th><th>tags_index</th><th>gender_index</th><th>tagsOHE</th><th>genderOHE</th></tr>\n",
       "<tr><td>18478</td><td>62191208634</td><td>2021-08-20</td><td>63.255848959735246</td><td>0.01</td><td>0.01</td><td>0</td><td>Cursus Non Egesta...</td><td>furniture</td><td>c</td><td>2.17</td><td>651338</td><td>TAS</td><td>7001</td><td>Male</td><td>64714.0</td><td>49.0</td><td>2.0</td><td>8.0</td><td>0.0</td><td>(23,[8],[1.0])</td><td>(2,[0],[1.0])</td></tr>\n",
       "<tr><td>2</td><td>15549624934</td><td>2021-08-20</td><td>130.3505283105634</td><td>0.01</td><td>0.01</td><td>0</td><td>Commodo Associates</td><td>opticians</td><td>c</td><td>2.76</td><td>179208</td><td>NSW</td><td>2782</td><td>Female</td><td>61938.0</td><td>49.0</td><td>2.0</td><td>7.0</td><td>1.0</td><td>(23,[7],[1.0])</td><td>(2,[1],[1.0])</td></tr>\n",
       "<tr><td>18479</td><td>64403598239</td><td>2021-08-20</td><td>120.15860593212783</td><td>0.01</td><td>0.01</td><td>0</td><td>Lobortis Ultrices...</td><td>music</td><td>a</td><td>6.31</td><td>467663</td><td>TAS</td><td>7010</td><td>Female</td><td>49154.0</td><td>49.0</td><td>0.0</td><td>13.0</td><td>1.0</td><td>(23,[13],[1.0])</td><td>(2,[1],[1.0])</td></tr>\n",
       "<tr><td>3</td><td>60956456424</td><td>2021-08-20</td><td>136.6785200286976</td><td>0.01</td><td>0.01</td><td>0</td><td>Ultricies Digniss...</td><td>gift</td><td>b</td><td>4.69</td><td>1194530</td><td>NT</td><td>862</td><td>Female</td><td>44246.0</td><td>49.0</td><td>1.0</td><td>1.0</td><td>1.0</td><td>(23,[1],[1.0])</td><td>(2,[1],[1.0])</td></tr>\n",
       "<tr><td>18479</td><td>94493496784</td><td>2021-08-20</td><td>72.96316578355305</td><td>0.01</td><td>0.01</td><td>0</td><td>Dictum Phasellus ...</td><td>gift</td><td>a</td><td>5.65</td><td>467663</td><td>TAS</td><td>7010</td><td>Female</td><td>49154.0</td><td>49.0</td><td>0.0</td><td>1.0</td><td>1.0</td><td>(23,[1],[1.0])</td><td>(2,[1],[1.0])</td></tr>\n",
       "<tr><td>3</td><td>76819856970</td><td>2021-08-20</td><td>448.529684285612</td><td>0.01</td><td>0.01</td><td>0</td><td>Egestas Blandit Ltd</td><td>tent</td><td>b</td><td>3.19</td><td>1194530</td><td>NT</td><td>862</td><td>Female</td><td>44246.0</td><td>49.0</td><td>1.0</td><td>0.0</td><td>1.0</td><td>(23,[0],[1.0])</td><td>(2,[1],[1.0])</td></tr>\n",
       "<tr><td>18479</td><td>67609108741</td><td>2021-08-20</td><td>86.4040605836911</td><td>0.01</td><td>0.01</td><td>0</td><td>Metus Sit Amet In...</td><td>cable</td><td>e</td><td>0.38</td><td>467663</td><td>TAS</td><td>7010</td><td>Female</td><td>49154.0</td><td>49.0</td><td>4.0</td><td>5.0</td><td>1.0</td><td>(23,[5],[1.0])</td><td>(2,[1],[1.0])</td></tr>\n",
       "<tr><td>3</td><td>34096466752</td><td>2021-08-20</td><td>301.5793450525113</td><td>0.01</td><td>0.01</td><td>0</td><td>Nullam Enim Ltd</td><td>computer</td><td>b</td><td>3.22</td><td>1194530</td><td>NT</td><td>862</td><td>Female</td><td>44246.0</td><td>49.0</td><td>1.0</td><td>3.0</td><td>1.0</td><td>(23,[3],[1.0])</td><td>(2,[1],[1.0])</td></tr>\n",
       "<tr><td>18482</td><td>70501974849</td><td>2021-08-20</td><td>68.75486276223054</td><td>0.01</td><td>0.01</td><td>0</td><td>Facilisis Lorem T...</td><td>computer</td><td>b</td><td>3.3</td><td>918448</td><td>NSW</td><td>1430</td><td>Male</td><td>78871.0</td><td>49.0</td><td>1.0</td><td>3.0</td><td>0.0</td><td>(23,[3],[1.0])</td><td>(2,[0],[1.0])</td></tr>\n",
       "<tr><td>4</td><td>49891706470</td><td>2021-08-20</td><td>48.89796461900801</td><td>0.01</td><td>0.01</td><td>0</td><td>Non Vestibulum In...</td><td>tent</td><td>a</td><td>5.8</td><td>154128</td><td>NSW</td><td>2780</td><td>Female</td><td>54212.0</td><td>49.0</td><td>0.0</td><td>0.0</td><td>1.0</td><td>(23,[0],[1.0])</td><td>(2,[1],[1.0])</td></tr>\n",
       "<tr><td>18482</td><td>46804135891</td><td>2021-08-20</td><td>6.6168976971833615</td><td>0.01</td><td>0.01</td><td>0</td><td>Suspendisse Dui C...</td><td>opticians</td><td>c</td><td>2.93</td><td>918448</td><td>NSW</td><td>1430</td><td>Male</td><td>78871.0</td><td>49.0</td><td>2.0</td><td>7.0</td><td>0.0</td><td>(23,[7],[1.0])</td><td>(2,[0],[1.0])</td></tr>\n",
       "<tr><td>7</td><td>33064796871</td><td>2021-08-20</td><td>373.0873675184212</td><td>0.01</td><td>0.01</td><td>0</td><td>Curabitur Massa C...</td><td>computer</td><td>b</td><td>3.75</td><td>511685</td><td>QLD</td><td>4606</td><td>Female</td><td>41798.0</td><td>49.0</td><td>1.0</td><td>3.0</td><td>1.0</td><td>(23,[3],[1.0])</td><td>(2,[1],[1.0])</td></tr>\n",
       "<tr><td>18483</td><td>44160392990</td><td>2021-08-20</td><td>83.98473054761176</td><td>0.01</td><td>0.01</td><td>0</td><td>Sociis Natoque In...</td><td>digital goods</td><td>a</td><td>5.97</td><td>191119</td><td>QLD</td><td>4118</td><td>Female</td><td>51464.0</td><td>49.0</td><td>0.0</td><td>2.0</td><td>1.0</td><td>(23,[2],[1.0])</td><td>(2,[1],[1.0])</td></tr>\n",
       "<tr><td>7</td><td>68435002949</td><td>2021-08-20</td><td>232.5364986739752</td><td>0.01</td><td>0.01</td><td>0</td><td>Aliquam Eu Inc.</td><td>artist supply</td><td>a</td><td>6.65</td><td>511685</td><td>QLD</td><td>4606</td><td>Female</td><td>41798.0</td><td>49.0</td><td>0.0</td><td>9.0</td><td>1.0</td><td>(23,[9],[1.0])</td><td>(2,[1],[1.0])</td></tr>\n",
       "<tr><td>18484</td><td>70033549200</td><td>2021-08-20</td><td>871.7678061729196</td><td>0.01</td><td>0.01</td><td>0</td><td>Mus Proin LLP</td><td>tent</td><td>b</td><td>4.78</td><td>596919</td><td>QLD</td><td>4309</td><td>Male</td><td>49551.0</td><td>49.0</td><td>1.0</td><td>0.0</td><td>0.0</td><td>(23,[0],[1.0])</td><td>(2,[0],[1.0])</td></tr>\n",
       "<tr><td>7</td><td>41944909975</td><td>2021-08-20</td><td>30.910755230234322</td><td>0.01</td><td>0.01</td><td>0</td><td>Et Nunc Consulting</td><td>books</td><td>e</td><td>0.16</td><td>511685</td><td>QLD</td><td>4606</td><td>Female</td><td>41798.0</td><td>49.0</td><td>4.0</td><td>11.0</td><td>1.0</td><td>(23,[11],[1.0])</td><td>(2,[1],[1.0])</td></tr>\n",
       "<tr><td>18485</td><td>41705715409</td><td>2021-08-20</td><td>309.5417224575787</td><td>0.01</td><td>0.01</td><td>0</td><td>Augue Eu LLP</td><td>furniture</td><td>a</td><td>6.05</td><td>1212819</td><td>VIC</td><td>3073</td><td>Male</td><td>48638.0</td><td>49.0</td><td>0.0</td><td>8.0</td><td>0.0</td><td>(23,[8],[1.0])</td><td>(2,[0],[1.0])</td></tr>\n",
       "<tr><td>18487</td><td>32361057556</td><td>2021-08-20</td><td>119.19055863068847</td><td>0.01</td><td>0.01</td><td>0</td><td>Orci In Consequat...</td><td>gift</td><td>a</td><td>6.61</td><td>1165699</td><td>NSW</td><td>1004</td><td>Female</td><td>70738.0</td><td>49.0</td><td>0.0</td><td>1.0</td><td>1.0</td><td>(23,[1],[1.0])</td><td>(2,[1],[1.0])</td></tr>\n",
       "<tr><td>9</td><td>47663262928</td><td>2021-08-20</td><td>36.69873283148887</td><td>0.01</td><td>0.01</td><td>0</td><td>Eget Lacus LLP</td><td>cable</td><td>a</td><td>6.66</td><td>650435</td><td>NSW</td><td>2482</td><td>Female</td><td>43381.0</td><td>49.0</td><td>0.0</td><td>5.0</td><td>1.0</td><td>(23,[5],[1.0])</td><td>(2,[1],[1.0])</td></tr>\n",
       "<tr><td>18487</td><td>30458474292</td><td>2021-08-20</td><td>26.99459359443691</td><td>0.01</td><td>0.01</td><td>0</td><td>Euismod Est Found...</td><td>watch</td><td>a</td><td>5.62</td><td>1165699</td><td>NSW</td><td>1004</td><td>Female</td><td>70738.0</td><td>49.0</td><td>0.0</td><td>4.0</td><td>1.0</td><td>(23,[4],[1.0])</td><td>(2,[1],[1.0])</td></tr>\n",
       "</table>\n",
       "only showing top 20 rows\n"
      ],
      "text/plain": [
       "+-------+------------+--------------+------------------+-------------+-------------+--------+--------------------+-------------+-------------+---------+-----------+-----+--------+------+-----------------+--------------------+-------------------+----------+------------+---------------+-------------+\n",
       "|user_id|merchant_abn|order_datetime|      dollar_value|merchant_prob|consumer_prob|is_fraud|                name|         tags|revenue_level|take_rate|consumer_id|state|postcode|gender|Mean_Total_Income|order_datetime_index|revenue_level_index|tags_index|gender_index|        tagsOHE|    genderOHE|\n",
       "+-------+------------+--------------+------------------+-------------+-------------+--------+--------------------+-------------+-------------+---------+-----------+-----+--------+------+-----------------+--------------------+-------------------+----------+------------+---------------+-------------+\n",
       "|  18478| 62191208634|    2021-08-20|63.255848959735246|         0.01|         0.01|       0|Cursus Non Egesta...|    furniture|            c|     2.17|     651338|  TAS|    7001|  Male|          64714.0|                49.0|                2.0|       8.0|         0.0| (23,[8],[1.0])|(2,[0],[1.0])|\n",
       "|      2| 15549624934|    2021-08-20| 130.3505283105634|         0.01|         0.01|       0|  Commodo Associates|    opticians|            c|     2.76|     179208|  NSW|    2782|Female|          61938.0|                49.0|                2.0|       7.0|         1.0| (23,[7],[1.0])|(2,[1],[1.0])|\n",
       "|  18479| 64403598239|    2021-08-20|120.15860593212783|         0.01|         0.01|       0|Lobortis Ultrices...|        music|            a|     6.31|     467663|  TAS|    7010|Female|          49154.0|                49.0|                0.0|      13.0|         1.0|(23,[13],[1.0])|(2,[1],[1.0])|\n",
       "|      3| 60956456424|    2021-08-20| 136.6785200286976|         0.01|         0.01|       0|Ultricies Digniss...|         gift|            b|     4.69|    1194530|   NT|     862|Female|          44246.0|                49.0|                1.0|       1.0|         1.0| (23,[1],[1.0])|(2,[1],[1.0])|\n",
       "|  18479| 94493496784|    2021-08-20| 72.96316578355305|         0.01|         0.01|       0|Dictum Phasellus ...|         gift|            a|     5.65|     467663|  TAS|    7010|Female|          49154.0|                49.0|                0.0|       1.0|         1.0| (23,[1],[1.0])|(2,[1],[1.0])|\n",
       "|      3| 76819856970|    2021-08-20|  448.529684285612|         0.01|         0.01|       0| Egestas Blandit Ltd|         tent|            b|     3.19|    1194530|   NT|     862|Female|          44246.0|                49.0|                1.0|       0.0|         1.0| (23,[0],[1.0])|(2,[1],[1.0])|\n",
       "|  18479| 67609108741|    2021-08-20|  86.4040605836911|         0.01|         0.01|       0|Metus Sit Amet In...|        cable|            e|     0.38|     467663|  TAS|    7010|Female|          49154.0|                49.0|                4.0|       5.0|         1.0| (23,[5],[1.0])|(2,[1],[1.0])|\n",
       "|      3| 34096466752|    2021-08-20| 301.5793450525113|         0.01|         0.01|       0|     Nullam Enim Ltd|     computer|            b|     3.22|    1194530|   NT|     862|Female|          44246.0|                49.0|                1.0|       3.0|         1.0| (23,[3],[1.0])|(2,[1],[1.0])|\n",
       "|  18482| 70501974849|    2021-08-20| 68.75486276223054|         0.01|         0.01|       0|Facilisis Lorem T...|     computer|            b|      3.3|     918448|  NSW|    1430|  Male|          78871.0|                49.0|                1.0|       3.0|         0.0| (23,[3],[1.0])|(2,[0],[1.0])|\n",
       "|      4| 49891706470|    2021-08-20| 48.89796461900801|         0.01|         0.01|       0|Non Vestibulum In...|         tent|            a|      5.8|     154128|  NSW|    2780|Female|          54212.0|                49.0|                0.0|       0.0|         1.0| (23,[0],[1.0])|(2,[1],[1.0])|\n",
       "|  18482| 46804135891|    2021-08-20|6.6168976971833615|         0.01|         0.01|       0|Suspendisse Dui C...|    opticians|            c|     2.93|     918448|  NSW|    1430|  Male|          78871.0|                49.0|                2.0|       7.0|         0.0| (23,[7],[1.0])|(2,[0],[1.0])|\n",
       "|      7| 33064796871|    2021-08-20| 373.0873675184212|         0.01|         0.01|       0|Curabitur Massa C...|     computer|            b|     3.75|     511685|  QLD|    4606|Female|          41798.0|                49.0|                1.0|       3.0|         1.0| (23,[3],[1.0])|(2,[1],[1.0])|\n",
       "|  18483| 44160392990|    2021-08-20| 83.98473054761176|         0.01|         0.01|       0|Sociis Natoque In...|digital goods|            a|     5.97|     191119|  QLD|    4118|Female|          51464.0|                49.0|                0.0|       2.0|         1.0| (23,[2],[1.0])|(2,[1],[1.0])|\n",
       "|      7| 68435002949|    2021-08-20| 232.5364986739752|         0.01|         0.01|       0|     Aliquam Eu Inc.|artist supply|            a|     6.65|     511685|  QLD|    4606|Female|          41798.0|                49.0|                0.0|       9.0|         1.0| (23,[9],[1.0])|(2,[1],[1.0])|\n",
       "|  18484| 70033549200|    2021-08-20| 871.7678061729196|         0.01|         0.01|       0|       Mus Proin LLP|         tent|            b|     4.78|     596919|  QLD|    4309|  Male|          49551.0|                49.0|                1.0|       0.0|         0.0| (23,[0],[1.0])|(2,[0],[1.0])|\n",
       "|      7| 41944909975|    2021-08-20|30.910755230234322|         0.01|         0.01|       0|  Et Nunc Consulting|        books|            e|     0.16|     511685|  QLD|    4606|Female|          41798.0|                49.0|                4.0|      11.0|         1.0|(23,[11],[1.0])|(2,[1],[1.0])|\n",
       "|  18485| 41705715409|    2021-08-20| 309.5417224575787|         0.01|         0.01|       0|        Augue Eu LLP|    furniture|            a|     6.05|    1212819|  VIC|    3073|  Male|          48638.0|                49.0|                0.0|       8.0|         0.0| (23,[8],[1.0])|(2,[0],[1.0])|\n",
       "|  18487| 32361057556|    2021-08-20|119.19055863068847|         0.01|         0.01|       0|Orci In Consequat...|         gift|            a|     6.61|    1165699|  NSW|    1004|Female|          70738.0|                49.0|                0.0|       1.0|         1.0| (23,[1],[1.0])|(2,[1],[1.0])|\n",
       "|      9| 47663262928|    2021-08-20| 36.69873283148887|         0.01|         0.01|       0|      Eget Lacus LLP|        cable|            a|     6.66|     650435|  NSW|    2482|Female|          43381.0|                49.0|                0.0|       5.0|         1.0| (23,[5],[1.0])|(2,[1],[1.0])|\n",
       "|  18487| 30458474292|    2021-08-20| 26.99459359443691|         0.01|         0.01|       0|Euismod Est Found...|        watch|            a|     5.62|    1165699|  NSW|    1004|Female|          70738.0|                49.0|                0.0|       4.0|         1.0| (23,[4],[1.0])|(2,[1],[1.0])|\n",
       "+-------+------------+--------------+------------------+-------------+-------------+--------+--------------------+-------------+-------------+---------+-----------+-----+--------+------+-----------------+--------------------+-------------------+----------+------------+---------------+-------------+\n",
       "only showing top 20 rows"
      ]
     },
     "execution_count": 166,
     "metadata": {},
     "output_type": "execute_result"
    }
   ],
   "source": [
    "indexed_result"
   ]
  },
  {
   "cell_type": "markdown",
   "metadata": {},
   "source": [
    "### Feature Selection and Vectorization"
   ]
  },
  {
   "cell_type": "code",
   "execution_count": 167,
   "metadata": {},
   "outputs": [],
   "source": [
    "feature_selected = ['dollar_value','take_rate','Mean_Total_Income','order_datetime_index','revenue_level_index','tagsOHE','genderOHE']"
   ]
  },
  {
   "cell_type": "code",
   "execution_count": 179,
   "metadata": {},
   "outputs": [],
   "source": [
    "assembler = VectorAssembler(inputCols=feature_selected ,outputCol='features')"
   ]
  },
  {
   "cell_type": "code",
   "execution_count": 180,
   "metadata": {},
   "outputs": [],
   "source": [
    "output = assembler.transform(indexed_result)"
   ]
  },
  {
   "cell_type": "code",
   "execution_count": 185,
   "metadata": {},
   "outputs": [],
   "source": [
    "final_data = output.select('features','is_fraud')"
   ]
  },
  {
   "cell_type": "code",
   "execution_count": 189,
   "metadata": {},
   "outputs": [
    {
     "data": {
      "text/plain": [
       "0.009780748354606692"
      ]
     },
     "execution_count": 189,
     "metadata": {},
     "output_type": "execute_result"
    }
   ],
   "source": [
    "(final_data.filter(F.col('is_fraud') == 1).count())/(final_data.filter(F.col('is_fraud') == 0).count())"
   ]
  },
  {
   "cell_type": "code",
   "execution_count": 265,
   "metadata": {},
   "outputs": [
    {
     "data": {
      "text/plain": [
       "(75108, 7679167)"
      ]
     },
     "execution_count": 265,
     "metadata": {},
     "output_type": "execute_result"
    }
   ],
   "source": [
    "final_data.filter(F.col('is_fraud') == 1).count(), final_data.filter(F.col('is_fraud') == 0).count()"
   ]
  },
  {
   "cell_type": "code",
   "execution_count": 279,
   "metadata": {},
   "outputs": [],
   "source": [
    "# imbalanced distribution of two classes. We decide to split the data according to their class and make the distribution balanced\n",
    "fraud_data = final_data.filter(F.col('is_fraud') == 1)\n",
    "normal_data = final_data.filter(F.col('is_fraud') == 0).randomSplit([0.01,0.99])[0]"
   ]
  },
  {
   "cell_type": "markdown",
   "metadata": {},
   "source": [
    "## Split data"
   ]
  },
  {
   "cell_type": "code",
   "execution_count": 280,
   "metadata": {},
   "outputs": [],
   "source": [
    "train_fraud,test_fraud = fraud_data.randomSplit([0.7,0.3])\n",
    "train_normal,test_normal = normal_data.randomSplit([0.7,0.3])"
   ]
  },
  {
   "cell_type": "code",
   "execution_count": 281,
   "metadata": {},
   "outputs": [],
   "source": [
    "train_data = train_fraud.union(train_normal).orderBy(rand())\n",
    "test_data = test_fraud.union(test_normal).orderBy(rand())"
   ]
  },
  {
   "cell_type": "code",
   "execution_count": 213,
   "metadata": {},
   "outputs": [
    {
     "data": {
      "text/plain": [
       "7754275"
      ]
     },
     "execution_count": 213,
     "metadata": {},
     "output_type": "execute_result"
    }
   ],
   "source": [
    "final_data.count()"
   ]
  },
  {
   "cell_type": "code",
   "execution_count": 282,
   "metadata": {},
   "outputs": [
    {
     "name": "stderr",
     "output_type": "stream",
     "text": [
      "                                                                                \r"
     ]
    },
    {
     "data": {
      "text/plain": [
       "(106326, 45619)"
      ]
     },
     "execution_count": 282,
     "metadata": {},
     "output_type": "execute_result"
    }
   ],
   "source": [
    "train_data.count(),test_data.count()"
   ]
  },
  {
   "cell_type": "markdown",
   "metadata": {},
   "source": [
    "## Logistic Regression"
   ]
  },
  {
   "cell_type": "code",
   "execution_count": 283,
   "metadata": {},
   "outputs": [],
   "source": [
    "lr = LogisticRegression(labelCol='is_fraud')"
   ]
  },
  {
   "cell_type": "code",
   "execution_count": 284,
   "metadata": {},
   "outputs": [
    {
     "name": "stderr",
     "output_type": "stream",
     "text": [
      "                                                                                \r"
     ]
    }
   ],
   "source": [
    "fitted_model = lr.fit(train_data)"
   ]
  },
  {
   "cell_type": "markdown",
   "metadata": {},
   "source": [
    "### Evaluation"
   ]
  },
  {
   "cell_type": "code",
   "execution_count": 285,
   "metadata": {},
   "outputs": [
    {
     "name": "stderr",
     "output_type": "stream",
     "text": [
      "                                                                                \r"
     ]
    }
   ],
   "source": [
    "pred_and_labels = fitted_model.evaluate(test_data)"
   ]
  },
  {
   "cell_type": "code",
   "execution_count": 286,
   "metadata": {},
   "outputs": [],
   "source": [
    "score_and_label = pred_and_labels.predictions.select('prediction', 'is_fraud').withColumnRenamed('is_fraud', 'label')"
   ]
  },
  {
   "cell_type": "code",
   "execution_count": 287,
   "metadata": {},
   "outputs": [],
   "source": [
    "evaluator = MulticlassClassificationEvaluator()"
   ]
  },
  {
   "cell_type": "code",
   "execution_count": 288,
   "metadata": {},
   "outputs": [
    {
     "data": {
      "text/plain": [
       "MulticlassClassificationEvaluator_4323a28ff527"
      ]
     },
     "execution_count": 288,
     "metadata": {},
     "output_type": "execute_result"
    }
   ],
   "source": [
    "evaluator.setPredictionCol(\"prediction\")"
   ]
  },
  {
   "cell_type": "code",
   "execution_count": 294,
   "metadata": {},
   "outputs": [
    {
     "name": "stderr",
     "output_type": "stream",
     "text": [
      "[Stage 1716:====================================================> (47 + 1) / 48]\r"
     ]
    },
    {
     "name": "stdout",
     "output_type": "stream",
     "text": [
      "Accuracy: 0.7381659159352582\n"
     ]
    },
    {
     "name": "stderr",
     "output_type": "stream",
     "text": [
      "                                                                                \r"
     ]
    }
   ],
   "source": [
    "print(\"Accuracy: \" + str(evaluator.evaluate(score_and_label)))"
   ]
  },
  {
   "cell_type": "code",
   "execution_count": 290,
   "metadata": {},
   "outputs": [
    {
     "name": "stderr",
     "output_type": "stream",
     "text": [
      "                                                                                \r"
     ]
    }
   ],
   "source": [
    "tp = score_and_label.filter((F.col('prediction') == 1) & (F.col('label') == 1)).count()"
   ]
  },
  {
   "cell_type": "code",
   "execution_count": 291,
   "metadata": {},
   "outputs": [
    {
     "name": "stderr",
     "output_type": "stream",
     "text": [
      "                                                                                \r"
     ]
    }
   ],
   "source": [
    "fn = score_and_label.filter((F.col('prediction') == 0) & (F.col('label') == 1)).count()"
   ]
  },
  {
   "cell_type": "code",
   "execution_count": 293,
   "metadata": {},
   "outputs": [
    {
     "name": "stdout",
     "output_type": "stream",
     "text": [
      "recall: 0.6422205471555891\n"
     ]
    }
   ],
   "source": [
    "recall = tp/(tp+fn)\n",
    "print('recall: ' + str(recall))"
   ]
  },
  {
   "cell_type": "markdown",
   "metadata": {},
   "source": [
    "## "
   ]
  },
  {
   "cell_type": "markdown",
   "metadata": {},
   "source": [
    "Prediction Models\n",
    "\n",
    "Since prediction outputs should be discrete labels (True or False for fraud checking), classification models are selected:\n",
    "1. Naive Bayes Models:  unbalanced prior, not suitable\n",
    "2. Logistic Regression\n",
    "3. Support Vector Machines (SVMs)\n",
    "4. Clustering Analysis\n",
    "5. Dicision tree\n",
    "6. Random Forest\n",
    "7. Neural network"
   ]
  }
 ],
 "metadata": {
  "kernelspec": {
   "display_name": "Python 3.7.13 ('xt')",
   "language": "python",
   "name": "python3"
  },
  "language_info": {
   "codemirror_mode": {
    "name": "ipython",
    "version": 3
   },
   "file_extension": ".py",
   "mimetype": "text/x-python",
   "name": "python",
   "nbconvert_exporter": "python",
   "pygments_lexer": "ipython3",
   "version": "3.7.13"
  },
  "orig_nbformat": 4,
  "vscode": {
   "interpreter": {
    "hash": "464aeb025fe7529aa14c472f74018451d543299a7c7ff36fe116837387c8b1ec"
   }
  }
 },
 "nbformat": 4,
 "nbformat_minor": 2
}
