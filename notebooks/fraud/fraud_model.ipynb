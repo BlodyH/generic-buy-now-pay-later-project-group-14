{
 "cells": [
  {
   "cell_type": "markdown",
   "metadata": {},
   "source": [
    "## import library"
   ]
  },
  {
   "cell_type": "code",
   "execution_count": 1,
   "metadata": {},
   "outputs": [],
   "source": [
    "from pyspark.sql import SparkSession\n",
    "from pyspark.sql import functions as F\n",
    "import pandas as pd\n",
    "\n",
    "from pyspark.ml.feature import StringIndexer\n",
    "from pyspark.ml import Pipeline \n",
    "from pyspark.ml.feature import VectorAssembler \n",
    "from pyspark.ml.feature import OneHotEncoder\n",
    "from pyspark.sql.functions import rand\n",
    "from pyspark.ml.classification import LogisticRegression\n",
    "from pyspark.ml.evaluation import MulticlassClassificationEvaluator"
   ]
  },
  {
   "cell_type": "code",
   "execution_count": 120,
   "metadata": {},
   "outputs": [],
   "source": [
    "# Create a spark session (which will run spark jobs)\n",
    "spark = (\n",
    "    SparkSession.builder.appName(\"MAST30034 Project 2\")\n",
    "    .config(\"spark.sql.repl.eagerEval.enabled\", True) \n",
    "    .config(\"spark.sql.parquet.cacheMetadata\", \"true\")\n",
    "    .config(\"spark.sql.session.timeZone\", \"Etc/UTC\")\n",
    "    .config(\"spark.driver.memory\", \"2g\")\n",
    "    .config(\"spark.executer.memory\", \"4g\")\n",
    "    .getOrCreate()\n",
    ")"
   ]
  },
  {
   "cell_type": "markdown",
   "metadata": {},
   "source": [
    "## preprocessing"
   ]
  },
  {
   "cell_type": "markdown",
   "metadata": {},
   "source": [
    "### load data"
   ]
  },
  {
   "cell_type": "code",
   "execution_count": 141,
   "metadata": {},
   "outputs": [
    {
     "name": "stderr",
     "output_type": "stream",
     "text": [
      "                                                                                \r"
     ]
    }
   ],
   "source": [
    "full = spark.read.parquet(\"../../data/curated/full_data/\")"
   ]
  },
  {
   "cell_type": "code",
   "execution_count": 4,
   "metadata": {},
   "outputs": [],
   "source": [
    "probs_merchant = spark.read.option('header', True).csv('../../data/tables/merchant_fraud_probability.csv')\n",
    "probs_consumer= spark.read.option('header', True).csv('../../data/tables/consumer_fraud_probability.csv')"
   ]
  },
  {
   "cell_type": "markdown",
   "metadata": {},
   "source": [
    "### Merge tables"
   ]
  },
  {
   "cell_type": "code",
   "execution_count": 5,
   "metadata": {},
   "outputs": [
    {
     "name": "stdout",
     "output_type": "stream",
     "text": [
      "root\n",
      " |-- user_id: long (nullable = true)\n",
      " |-- SA2_code: integer (nullable = true)\n",
      " |-- postcode: integer (nullable = true)\n",
      " |-- consumer_id: integer (nullable = true)\n",
      " |-- state: string (nullable = true)\n",
      " |-- gender: string (nullable = true)\n",
      " |-- mean_total_income: integer (nullable = true)\n",
      " |-- merchant_abn: long (nullable = true)\n",
      " |-- dollar_value: double (nullable = true)\n",
      " |-- order_id: string (nullable = true)\n",
      " |-- order_datetime: date (nullable = true)\n",
      " |-- name: string (nullable = true)\n",
      " |-- tags: string (nullable = true)\n",
      " |-- revenue_level: string (nullable = true)\n",
      " |-- take_rate: double (nullable = true)\n",
      "\n"
     ]
    }
   ],
   "source": [
    "full.printSchema()"
   ]
  },
  {
   "cell_type": "code",
   "execution_count": 6,
   "metadata": {},
   "outputs": [
    {
     "name": "stdout",
     "output_type": "stream",
     "text": [
      "root\n",
      " |-- user_id: string (nullable = true)\n",
      " |-- order_datetime: string (nullable = true)\n",
      " |-- fraud_probability: string (nullable = true)\n",
      "\n"
     ]
    }
   ],
   "source": [
    "probs_consumer.printSchema()"
   ]
  },
  {
   "cell_type": "code",
   "execution_count": 7,
   "metadata": {},
   "outputs": [],
   "source": [
    "probs_consumer =  probs_consumer.withColumn('user_id', F.col('user_id').cast('long'))\\\n",
    "                                .withColumn('fraud_probability', F.col('fraud_probability').cast('float'))"
   ]
  },
  {
   "cell_type": "code",
   "execution_count": 8,
   "metadata": {},
   "outputs": [
    {
     "name": "stdout",
     "output_type": "stream",
     "text": [
      "root\n",
      " |-- merchant_abn: string (nullable = true)\n",
      " |-- order_datetime: string (nullable = true)\n",
      " |-- fraud_probability: string (nullable = true)\n",
      "\n"
     ]
    }
   ],
   "source": [
    "probs_merchant.printSchema()"
   ]
  },
  {
   "cell_type": "code",
   "execution_count": 9,
   "metadata": {},
   "outputs": [],
   "source": [
    "probs_merchant =  probs_merchant.withColumn('merchant_abn', F.col('merchant_abn').cast('long'))\\\n",
    "                                .withColumn('fraud_probability', F.col('fraud_probability').cast('float'))"
   ]
  },
  {
   "cell_type": "code",
   "execution_count": 142,
   "metadata": {},
   "outputs": [],
   "source": [
    "# merge transaction file with merchants'/consumers' fraud probability based on merchant abn or user id respectively by left join\n",
    "full = full.join(probs_merchant, on = ['merchant_abn', 'order_datetime'], how = 'left').withColumnRenamed('fraud_probability', 'merchant_prob')\n",
    "full = full.join(probs_consumer, on = ['user_id', 'order_datetime'], how = 'left').withColumnRenamed('fraud_probability', 'consumer_prob')"
   ]
  },
  {
   "cell_type": "code",
   "execution_count": 143,
   "metadata": {},
   "outputs": [],
   "source": [
    "# replace all the missing value with 0.01 as default fraud prob\n",
    "full = full.na.fill(value=0.01, subset=['merchant_prob', 'consumer_prob'])"
   ]
  },
  {
   "cell_type": "code",
   "execution_count": 144,
   "metadata": {},
   "outputs": [
    {
     "data": {
      "text/html": [
       "<table border='1'>\n",
       "<tr><th>user_id</th><th>order_datetime</th><th>merchant_abn</th><th>SA2_code</th><th>postcode</th><th>consumer_id</th><th>state</th><th>gender</th><th>mean_total_income</th><th>dollar_value</th><th>order_id</th><th>name</th><th>tags</th><th>revenue_level</th><th>take_rate</th><th>merchant_prob</th><th>consumer_prob</th><th>is_fraud</th></tr>\n",
       "<tr><td>183</td><td>2022-01-31</td><td>38700038932</td><td>210051245</td><td>3043</td><td>133032</td><td>VIC</td><td>Female</td><td>58060</td><td>1115.1879869740476</td><td>d4432c96-0627-403...</td><td>Etiam Bibendum In...</td><td>tent</td><td>a</td><td>6.31</td><td>0.01</td><td>0.01</td><td>0</td></tr>\n",
       "<tr><td>183</td><td>2022-08-30</td><td>29216160692</td><td>210051245</td><td>3043</td><td>133032</td><td>VIC</td><td>Female</td><td>58060</td><td>41.896012314533515</td><td>9971cdea-3d42-4e2...</td><td>Class Aptent LLC</td><td>garden supply</td><td>a</td><td>5.6</td><td>0.01</td><td>0.01</td><td>0</td></tr>\n",
       "<tr><td>183</td><td>2022-09-15</td><td>10648956813</td><td>210051245</td><td>3043</td><td>133032</td><td>VIC</td><td>Female</td><td>58060</td><td>89.7561614941009</td><td>a6e6a33b-a7bc-402...</td><td>Proin Nisl Institute</td><td>computer</td><td>a</td><td>6.66</td><td>0.01</td><td>0.01</td><td>0</td></tr>\n",
       "<tr><td>183</td><td>2022-01-29</td><td>68874243493</td><td>210051245</td><td>3043</td><td>133032</td><td>VIC</td><td>Female</td><td>58060</td><td>2456.7393115320206</td><td>71d23bb1-bcb3-4ee...</td><td>Nullam Suscipit C...</td><td>telecom</td><td>c</td><td>2.52</td><td>0.01</td><td>9.307967</td><td>1</td></tr>\n",
       "<tr><td>183</td><td>2021-07-08</td><td>90568944804</td><td>210051245</td><td>3043</td><td>133032</td><td>VIC</td><td>Female</td><td>58060</td><td>370.17334638595787</td><td>ba106433-7c52-49c...</td><td>Diam Eu Dolor LLC</td><td>tent</td><td>b</td><td>4.1</td><td>0.01</td><td>0.01</td><td>0</td></tr>\n",
       "<tr><td>183</td><td>2021-03-10</td><td>90568944804</td><td>210051245</td><td>3043</td><td>133032</td><td>VIC</td><td>Female</td><td>58060</td><td>1374.0095428112525</td><td>de4e4ff5-f906-401...</td><td>Diam Eu Dolor LLC</td><td>tent</td><td>b</td><td>4.1</td><td>0.01</td><td>0.01</td><td>0</td></tr>\n",
       "<tr><td>183</td><td>2022-07-18</td><td>62191208634</td><td>210051245</td><td>3043</td><td>133032</td><td>VIC</td><td>Female</td><td>58060</td><td>51.46301423810628</td><td>6d863060-aea1-45b...</td><td>Cursus Non Egesta...</td><td>furniture</td><td>c</td><td>2.17</td><td>0.01</td><td>0.01</td><td>0</td></tr>\n",
       "<tr><td>183</td><td>2022-06-13</td><td>62191208634</td><td>210051245</td><td>3043</td><td>133032</td><td>VIC</td><td>Female</td><td>58060</td><td>24.487235357657966</td><td>42422047-e97c-401...</td><td>Cursus Non Egesta...</td><td>furniture</td><td>c</td><td>2.17</td><td>0.01</td><td>0.01</td><td>0</td></tr>\n",
       "<tr><td>183</td><td>2021-09-27</td><td>15253672771</td><td>210051245</td><td>3043</td><td>133032</td><td>VIC</td><td>Female</td><td>58060</td><td>49.42210604823397</td><td>13fb71a4-a8cf-4a7...</td><td>Nascetur Ridiculu...</td><td>gift</td><td>b</td><td>3.26</td><td>0.01</td><td>0.01</td><td>0</td></tr>\n",
       "<tr><td>183</td><td>2021-03-13</td><td>43321695302</td><td>210051245</td><td>3043</td><td>133032</td><td>VIC</td><td>Female</td><td>58060</td><td>25.146636745770262</td><td>bcf0651b-aeb1-43c...</td><td>Ante Limited</td><td>health</td><td>b</td><td>4.51</td><td>0.01</td><td>0.01</td><td>0</td></tr>\n",
       "<tr><td>183</td><td>2022-08-26</td><td>14809247463</td><td>210051245</td><td>3043</td><td>133032</td><td>VIC</td><td>Female</td><td>58060</td><td>408.85689653996076</td><td>97ecab5e-1812-4e5...</td><td>Id Mollis PC</td><td>music</td><td>a</td><td>6.22</td><td>0.01</td><td>0.01</td><td>0</td></tr>\n",
       "<tr><td>183</td><td>2021-06-15</td><td>21532935983</td><td>210051245</td><td>3043</td><td>133032</td><td>VIC</td><td>Female</td><td>58060</td><td>22.840601049120835</td><td>4224f811-80d2-43e...</td><td>Eleifend Nec Inco...</td><td>cable</td><td>a</td><td>5.58</td><td>0.01</td><td>0.01</td><td>0</td></tr>\n",
       "<tr><td>183</td><td>2022-07-25</td><td>27093785141</td><td>210051245</td><td>3043</td><td>133032</td><td>VIC</td><td>Female</td><td>58060</td><td>260.7007656790282</td><td>c67293f1-894a-4a4...</td><td>Placerat Orci Ins...</td><td>stationery</td><td>c</td><td>2.73</td><td>0.01</td><td>0.01</td><td>0</td></tr>\n",
       "<tr><td>183</td><td>2021-12-29</td><td>70172340121</td><td>210051245</td><td>3043</td><td>133032</td><td>VIC</td><td>Female</td><td>58060</td><td>89.97820881579668</td><td>38f2deb0-6e4c-489...</td><td>Justo Eu Incorpor...</td><td>gift</td><td>b</td><td>3.29</td><td>0.01</td><td>0.01</td><td>0</td></tr>\n",
       "<tr><td>183</td><td>2022-04-25</td><td>17678252870</td><td>210051245</td><td>3043</td><td>133032</td><td>VIC</td><td>Female</td><td>58060</td><td>144.30097059705236</td><td>b564b97f-31ff-48b...</td><td>Faucibus Morbi Fo...</td><td>watch</td><td>c</td><td>2.07</td><td>0.01</td><td>0.01</td><td>0</td></tr>\n",
       "<tr><td>183</td><td>2021-11-12</td><td>49891706470</td><td>210051245</td><td>3043</td><td>133032</td><td>VIC</td><td>Female</td><td>58060</td><td>46.8170732849845</td><td>d0de8b61-e555-441...</td><td>Non Vestibulum In...</td><td>tent</td><td>a</td><td>5.8</td><td>0.01</td><td>0.01</td><td>0</td></tr>\n",
       "<tr><td>183</td><td>2022-09-19</td><td>49891706470</td><td>210051245</td><td>3043</td><td>133032</td><td>VIC</td><td>Female</td><td>58060</td><td>34.72730866169367</td><td>8eea37cc-d4e4-45b...</td><td>Non Vestibulum In...</td><td>tent</td><td>a</td><td>5.8</td><td>0.01</td><td>0.01</td><td>0</td></tr>\n",
       "<tr><td>183</td><td>2022-05-15</td><td>49891706470</td><td>210051245</td><td>3043</td><td>133032</td><td>VIC</td><td>Female</td><td>58060</td><td>41.67226609726517</td><td>66523789-93e2-40e...</td><td>Non Vestibulum In...</td><td>tent</td><td>a</td><td>5.8</td><td>0.01</td><td>0.01</td><td>0</td></tr>\n",
       "<tr><td>183</td><td>2021-10-01</td><td>49891706470</td><td>210051245</td><td>3043</td><td>133032</td><td>VIC</td><td>Female</td><td>58060</td><td>50.57450884244343</td><td>49f6dc67-1c48-47e...</td><td>Non Vestibulum In...</td><td>tent</td><td>a</td><td>5.8</td><td>0.01</td><td>0.01</td><td>0</td></tr>\n",
       "<tr><td>183</td><td>2021-11-03</td><td>49891706470</td><td>210051245</td><td>3043</td><td>133032</td><td>VIC</td><td>Female</td><td>58060</td><td>52.89080752024506</td><td>1e0471c0-9f2f-4b4...</td><td>Non Vestibulum In...</td><td>tent</td><td>a</td><td>5.8</td><td>0.01</td><td>0.01</td><td>0</td></tr>\n",
       "</table>\n",
       "only showing top 20 rows\n"
      ],
      "text/plain": [
       "+-------+--------------+------------+---------+--------+-----------+-----+------+-----------------+------------------+--------------------+--------------------+-------------+-------------+---------+-------------+-------------+--------+\n",
       "|user_id|order_datetime|merchant_abn| SA2_code|postcode|consumer_id|state|gender|mean_total_income|      dollar_value|            order_id|                name|         tags|revenue_level|take_rate|merchant_prob|consumer_prob|is_fraud|\n",
       "+-------+--------------+------------+---------+--------+-----------+-----+------+-----------------+------------------+--------------------+--------------------+-------------+-------------+---------+-------------+-------------+--------+\n",
       "|    183|    2022-01-31| 38700038932|210051245|    3043|     133032|  VIC|Female|            58060|1115.1879869740476|d4432c96-0627-403...|Etiam Bibendum In...|         tent|            a|     6.31|         0.01|         0.01|       0|\n",
       "|    183|    2022-08-30| 29216160692|210051245|    3043|     133032|  VIC|Female|            58060|41.896012314533515|9971cdea-3d42-4e2...|    Class Aptent LLC|garden supply|            a|      5.6|         0.01|         0.01|       0|\n",
       "|    183|    2022-09-15| 10648956813|210051245|    3043|     133032|  VIC|Female|            58060|  89.7561614941009|a6e6a33b-a7bc-402...|Proin Nisl Institute|     computer|            a|     6.66|         0.01|         0.01|       0|\n",
       "|    183|    2022-01-29| 68874243493|210051245|    3043|     133032|  VIC|Female|            58060|2456.7393115320206|71d23bb1-bcb3-4ee...|Nullam Suscipit C...|      telecom|            c|     2.52|         0.01|     9.307967|       1|\n",
       "|    183|    2021-07-08| 90568944804|210051245|    3043|     133032|  VIC|Female|            58060|370.17334638595787|ba106433-7c52-49c...|   Diam Eu Dolor LLC|         tent|            b|      4.1|         0.01|         0.01|       0|\n",
       "|    183|    2021-03-10| 90568944804|210051245|    3043|     133032|  VIC|Female|            58060|1374.0095428112525|de4e4ff5-f906-401...|   Diam Eu Dolor LLC|         tent|            b|      4.1|         0.01|         0.01|       0|\n",
       "|    183|    2022-07-18| 62191208634|210051245|    3043|     133032|  VIC|Female|            58060| 51.46301423810628|6d863060-aea1-45b...|Cursus Non Egesta...|    furniture|            c|     2.17|         0.01|         0.01|       0|\n",
       "|    183|    2022-06-13| 62191208634|210051245|    3043|     133032|  VIC|Female|            58060|24.487235357657966|42422047-e97c-401...|Cursus Non Egesta...|    furniture|            c|     2.17|         0.01|         0.01|       0|\n",
       "|    183|    2021-09-27| 15253672771|210051245|    3043|     133032|  VIC|Female|            58060| 49.42210604823397|13fb71a4-a8cf-4a7...|Nascetur Ridiculu...|         gift|            b|     3.26|         0.01|         0.01|       0|\n",
       "|    183|    2021-03-13| 43321695302|210051245|    3043|     133032|  VIC|Female|            58060|25.146636745770262|bcf0651b-aeb1-43c...|        Ante Limited|       health|            b|     4.51|         0.01|         0.01|       0|\n",
       "|    183|    2022-08-26| 14809247463|210051245|    3043|     133032|  VIC|Female|            58060|408.85689653996076|97ecab5e-1812-4e5...|        Id Mollis PC|        music|            a|     6.22|         0.01|         0.01|       0|\n",
       "|    183|    2021-06-15| 21532935983|210051245|    3043|     133032|  VIC|Female|            58060|22.840601049120835|4224f811-80d2-43e...|Eleifend Nec Inco...|        cable|            a|     5.58|         0.01|         0.01|       0|\n",
       "|    183|    2022-07-25| 27093785141|210051245|    3043|     133032|  VIC|Female|            58060| 260.7007656790282|c67293f1-894a-4a4...|Placerat Orci Ins...|   stationery|            c|     2.73|         0.01|         0.01|       0|\n",
       "|    183|    2021-12-29| 70172340121|210051245|    3043|     133032|  VIC|Female|            58060| 89.97820881579668|38f2deb0-6e4c-489...|Justo Eu Incorpor...|         gift|            b|     3.29|         0.01|         0.01|       0|\n",
       "|    183|    2022-04-25| 17678252870|210051245|    3043|     133032|  VIC|Female|            58060|144.30097059705236|b564b97f-31ff-48b...|Faucibus Morbi Fo...|        watch|            c|     2.07|         0.01|         0.01|       0|\n",
       "|    183|    2021-11-12| 49891706470|210051245|    3043|     133032|  VIC|Female|            58060|  46.8170732849845|d0de8b61-e555-441...|Non Vestibulum In...|         tent|            a|      5.8|         0.01|         0.01|       0|\n",
       "|    183|    2022-09-19| 49891706470|210051245|    3043|     133032|  VIC|Female|            58060| 34.72730866169367|8eea37cc-d4e4-45b...|Non Vestibulum In...|         tent|            a|      5.8|         0.01|         0.01|       0|\n",
       "|    183|    2022-05-15| 49891706470|210051245|    3043|     133032|  VIC|Female|            58060| 41.67226609726517|66523789-93e2-40e...|Non Vestibulum In...|         tent|            a|      5.8|         0.01|         0.01|       0|\n",
       "|    183|    2021-10-01| 49891706470|210051245|    3043|     133032|  VIC|Female|            58060| 50.57450884244343|49f6dc67-1c48-47e...|Non Vestibulum In...|         tent|            a|      5.8|         0.01|         0.01|       0|\n",
       "|    183|    2021-11-03| 49891706470|210051245|    3043|     133032|  VIC|Female|            58060| 52.89080752024506|1e0471c0-9f2f-4b4...|Non Vestibulum In...|         tent|            a|      5.8|         0.01|         0.01|       0|\n",
       "+-------+--------------+------------+---------+--------+-----------+-----+------+-----------------+------------------+--------------------+--------------------+-------------+-------------+---------+-------------+-------------+--------+\n",
       "only showing top 20 rows"
      ]
     },
     "execution_count": 144,
     "metadata": {},
     "output_type": "execute_result"
    }
   ],
   "source": [
    "# We set benchmark as 5%, because we focus on False Positive instead of False Negative\n",
    "full = full.withColumn('is_fraud', F.when((F.col('merchant_prob') > 5) | (F.col('consumer_prob') > 5), 1).otherwise(0))\n",
    "full"
   ]
  },
  {
   "cell_type": "code",
   "execution_count": 13,
   "metadata": {},
   "outputs": [
    {
     "name": "stderr",
     "output_type": "stream",
     "text": [
      "[Stage 15:>                                                       (0 + 12) / 12]\r"
     ]
    },
    {
     "name": "stdout",
     "output_type": "stream",
     "text": [
      "In 13614854 transactions, 75455 are detected as fraud\n"
     ]
    },
    {
     "name": "stderr",
     "output_type": "stream",
     "text": [
      "                                                                                \r"
     ]
    }
   ],
   "source": [
    "print('In {} transactions, {} are detected as fraud'.format(full.count(), full.filter(F.col('is_fraud') == 1).count()))"
   ]
  },
  {
   "cell_type": "code",
   "execution_count": 145,
   "metadata": {},
   "outputs": [],
   "source": [
    "full = full.filter(F.col('dollar_value') >= 1).na.drop(subset = 'name')"
   ]
  },
  {
   "cell_type": "code",
   "execution_count": 15,
   "metadata": {},
   "outputs": [
    {
     "name": "stdout",
     "output_type": "stream",
     "text": [
      "root\n",
      " |-- user_id: long (nullable = true)\n",
      " |-- order_datetime: date (nullable = true)\n",
      " |-- merchant_abn: long (nullable = true)\n",
      " |-- SA2_code: integer (nullable = true)\n",
      " |-- postcode: integer (nullable = true)\n",
      " |-- consumer_id: integer (nullable = true)\n",
      " |-- state: string (nullable = true)\n",
      " |-- gender: string (nullable = true)\n",
      " |-- mean_total_income: integer (nullable = true)\n",
      " |-- dollar_value: double (nullable = true)\n",
      " |-- order_id: string (nullable = true)\n",
      " |-- name: string (nullable = true)\n",
      " |-- tags: string (nullable = true)\n",
      " |-- revenue_level: string (nullable = true)\n",
      " |-- take_rate: double (nullable = true)\n",
      " |-- merchant_prob: float (nullable = false)\n",
      " |-- consumer_prob: float (nullable = false)\n",
      " |-- is_fraud: integer (nullable = false)\n",
      "\n"
     ]
    }
   ],
   "source": [
    "full.printSchema()"
   ]
  },
  {
   "cell_type": "code",
   "execution_count": 146,
   "metadata": {},
   "outputs": [],
   "source": [
    "full = full.withColumn('take_rate', F.col('take_rate').cast('float'))"
   ]
  },
  {
   "cell_type": "markdown",
   "metadata": {},
   "source": [
    "## Feature Engineering"
   ]
  },
  {
   "cell_type": "markdown",
   "metadata": {},
   "source": [
    "### bin numeric features"
   ]
  },
  {
   "cell_type": "code",
   "execution_count": 17,
   "metadata": {},
   "outputs": [],
   "source": [
    "#value_max = result.select('dollar_value').orderBy(F.col('dollar_value'),  ascending= False).collect()[0][0]"
   ]
  },
  {
   "cell_type": "code",
   "execution_count": 18,
   "metadata": {},
   "outputs": [],
   "source": [
    "#value_min = result.select('dollar_value').orderBy(F.col('dollar_value')).collect()[0][0]"
   ]
  },
  {
   "cell_type": "code",
   "execution_count": 19,
   "metadata": {},
   "outputs": [],
   "source": [
    "#print('dollar_value range:[{}, {}]'.format(value_min, value_max))"
   ]
  },
  {
   "cell_type": "code",
   "execution_count": 20,
   "metadata": {},
   "outputs": [],
   "source": [
    "# bins = []\n",
    "# i  = 0\n",
    "# while i <= 70000:\n",
    "#   bins.append(i)\n",
    "#   i += 200"
   ]
  },
  {
   "cell_type": "code",
   "execution_count": 21,
   "metadata": {},
   "outputs": [],
   "source": [
    "#bins.append(float('Inf'))"
   ]
  },
  {
   "cell_type": "code",
   "execution_count": 22,
   "metadata": {},
   "outputs": [],
   "source": [
    "#bucketizer = Bucketizer(splits=bins, inputCol=\"dollar_value\", outputCol=\"dollar_value_buckets\")\n",
    "#result = bucketizer.setHandleInvalid(\"keep\").transform(result)"
   ]
  },
  {
   "cell_type": "code",
   "execution_count": 23,
   "metadata": {},
   "outputs": [],
   "source": [
    "#result = result.withColumn('take_rate', F.col('take_rate').cast('double'))"
   ]
  },
  {
   "cell_type": "code",
   "execution_count": 24,
   "metadata": {},
   "outputs": [],
   "source": [
    "# take_rate_max = result.select('take_rate').orderBy(F.col('take_rate'),  ascending= False).collect()[0][0]\n",
    "# take_rate_min = result.select('take_rate').orderBy(F.col('take_rate')).collect()[0][0]"
   ]
  },
  {
   "cell_type": "code",
   "execution_count": 25,
   "metadata": {},
   "outputs": [],
   "source": [
    "# print('take_rate range:[{}, {}]'.format(take_rate_min, take_rate_max))"
   ]
  },
  {
   "cell_type": "code",
   "execution_count": 26,
   "metadata": {},
   "outputs": [],
   "source": [
    "# bucketizer = Bucketizer(splits=[0,1,2,3,4,5,6,7,8], inputCol=\"take_rate\", outputCol=\"take_rate_buckets\")\n",
    "# result = bucketizer.setHandleInvalid(\"keep\").transform(result)"
   ]
  },
  {
   "cell_type": "code",
   "execution_count": 27,
   "metadata": {},
   "outputs": [],
   "source": [
    "# result.printSchema()"
   ]
  },
  {
   "cell_type": "markdown",
   "metadata": {},
   "source": [
    "### Index ordinal features"
   ]
  },
  {
   "cell_type": "code",
   "execution_count": 147,
   "metadata": {},
   "outputs": [],
   "source": [
    "full =  full.withColumn('month', F.month('order_datetime'))"
   ]
  },
  {
   "cell_type": "code",
   "execution_count": 29,
   "metadata": {},
   "outputs": [],
   "source": [
    "indexed_features = ['revenue_level', 'tags', 'gender']"
   ]
  },
  {
   "cell_type": "code",
   "execution_count": 30,
   "metadata": {},
   "outputs": [
    {
     "data": {
      "text/plain": [
       "[StringIndexer_cc3e79d29b85,\n",
       " StringIndexer_3d5eeabc05ec,\n",
       " StringIndexer_f8ab18b2597e]"
      ]
     },
     "execution_count": 30,
     "metadata": {},
     "output_type": "execute_result"
    }
   ],
   "source": [
    "# We give all values in non-numeric features an index in order to make it ordinal or one-hot encoded\n",
    "indexers =[]\n",
    "for col in indexed_features:\n",
    "  indexers.append(StringIndexer(inputCol=col, outputCol = col+\"_index\"))\n",
    "\n",
    "indexers"
   ]
  },
  {
   "cell_type": "code",
   "execution_count": 31,
   "metadata": {},
   "outputs": [],
   "source": [
    "pipeline = Pipeline(stages=indexers)"
   ]
  },
  {
   "cell_type": "code",
   "execution_count": 32,
   "metadata": {},
   "outputs": [
    {
     "name": "stderr",
     "output_type": "stream",
     "text": [
      "                                                                                \r"
     ]
    }
   ],
   "source": [
    "indexed_result = pipeline.fit(full).transform(full)"
   ]
  },
  {
   "cell_type": "markdown",
   "metadata": {},
   "source": [
    "### One hot encoding"
   ]
  },
  {
   "cell_type": "code",
   "execution_count": 33,
   "metadata": {},
   "outputs": [],
   "source": [
    "categorical_features =  [\"tags_index\", \"gender_index\",\"month\"]"
   ]
  },
  {
   "cell_type": "code",
   "execution_count": 34,
   "metadata": {},
   "outputs": [
    {
     "data": {
      "text/plain": [
       "[OneHotEncoder_8614ad60253a,\n",
       " OneHotEncoder_ff7769d88295,\n",
       " OneHotEncoder_05ca5783abb7]"
      ]
     },
     "execution_count": 34,
     "metadata": {},
     "output_type": "execute_result"
    }
   ],
   "source": [
    "# one-hot-encoding the numeric indices\n",
    "ohe = []\n",
    "for f in categorical_features:\n",
    "  ohe.append(OneHotEncoder(inputCol=f, outputCol=f+\"OHE\"))\n",
    "\n",
    "ohe"
   ]
  },
  {
   "cell_type": "code",
   "execution_count": 35,
   "metadata": {},
   "outputs": [],
   "source": [
    "pipeline = Pipeline(stages=ohe)"
   ]
  },
  {
   "cell_type": "code",
   "execution_count": 36,
   "metadata": {},
   "outputs": [
    {
     "name": "stderr",
     "output_type": "stream",
     "text": [
      "                                                                                \r"
     ]
    }
   ],
   "source": [
    "indexed_result = pipeline.fit(indexed_result).transform(indexed_result)"
   ]
  },
  {
   "cell_type": "code",
   "execution_count": 37,
   "metadata": {},
   "outputs": [
    {
     "name": "stdout",
     "output_type": "stream",
     "text": [
      "root\n",
      " |-- user_id: long (nullable = true)\n",
      " |-- order_datetime: date (nullable = true)\n",
      " |-- merchant_abn: long (nullable = true)\n",
      " |-- SA2_code: integer (nullable = true)\n",
      " |-- postcode: integer (nullable = true)\n",
      " |-- consumer_id: integer (nullable = true)\n",
      " |-- state: string (nullable = true)\n",
      " |-- gender: string (nullable = true)\n",
      " |-- mean_total_income: integer (nullable = true)\n",
      " |-- dollar_value: double (nullable = true)\n",
      " |-- order_id: string (nullable = true)\n",
      " |-- name: string (nullable = true)\n",
      " |-- tags: string (nullable = true)\n",
      " |-- revenue_level: string (nullable = true)\n",
      " |-- take_rate: float (nullable = true)\n",
      " |-- merchant_prob: float (nullable = false)\n",
      " |-- consumer_prob: float (nullable = false)\n",
      " |-- is_fraud: integer (nullable = false)\n",
      " |-- month: integer (nullable = true)\n",
      " |-- revenue_level_index: double (nullable = false)\n",
      " |-- tags_index: double (nullable = false)\n",
      " |-- gender_index: double (nullable = false)\n",
      " |-- tags_indexOHE: vector (nullable = true)\n",
      " |-- gender_indexOHE: vector (nullable = true)\n",
      " |-- monthOHE: vector (nullable = true)\n",
      "\n"
     ]
    }
   ],
   "source": [
    "indexed_result.printSchema()"
   ]
  },
  {
   "cell_type": "markdown",
   "metadata": {},
   "source": [
    "### Feature Selection and Vectorization"
   ]
  },
  {
   "cell_type": "code",
   "execution_count": 38,
   "metadata": {},
   "outputs": [],
   "source": [
    "feature_selected = ['dollar_value','take_rate','mean_total_income','monthOHE','revenue_level_index','tags_indexOHE','gender_indexOHE']"
   ]
  },
  {
   "cell_type": "code",
   "execution_count": 39,
   "metadata": {},
   "outputs": [],
   "source": [
    "assembler = VectorAssembler(inputCols=feature_selected ,outputCol='features')"
   ]
  },
  {
   "cell_type": "code",
   "execution_count": 40,
   "metadata": {},
   "outputs": [],
   "source": [
    "output = assembler.transform(indexed_result)"
   ]
  },
  {
   "cell_type": "code",
   "execution_count": 41,
   "metadata": {},
   "outputs": [],
   "source": [
    "final_data = output.filter(F.col('order_datetime') < '2022-02-28').select('features','is_fraud')"
   ]
  },
  {
   "cell_type": "code",
   "execution_count": 42,
   "metadata": {},
   "outputs": [
    {
     "name": "stderr",
     "output_type": "stream",
     "text": [
      "                                                                                \r"
     ]
    },
    {
     "data": {
      "text/plain": [
       "0.009780748354606692"
      ]
     },
     "execution_count": 42,
     "metadata": {},
     "output_type": "execute_result"
    }
   ],
   "source": [
    "(final_data.filter(F.col('is_fraud') == 1).count())/(final_data.filter(F.col('is_fraud') == 0).count())"
   ]
  },
  {
   "cell_type": "code",
   "execution_count": 43,
   "metadata": {},
   "outputs": [
    {
     "name": "stderr",
     "output_type": "stream",
     "text": [
      "                                                                                \r"
     ]
    },
    {
     "data": {
      "text/plain": [
       "(75108, 7679167)"
      ]
     },
     "execution_count": 43,
     "metadata": {},
     "output_type": "execute_result"
    }
   ],
   "source": [
    "final_data.filter(F.col('is_fraud') == 1).count(), final_data.filter(F.col('is_fraud') == 0).count()"
   ]
  },
  {
   "cell_type": "code",
   "execution_count": 44,
   "metadata": {},
   "outputs": [],
   "source": [
    "# imbalanced distribution of two classes. We decide to split the data according to their class and make the distribution balanced\n",
    "fraud_data = final_data.filter(F.col('is_fraud') == 1)\n",
    "normal_data = final_data.filter(F.col('is_fraud') == 0).randomSplit([0.01,0.99])[0]"
   ]
  },
  {
   "cell_type": "markdown",
   "metadata": {},
   "source": [
    "## Split data"
   ]
  },
  {
   "cell_type": "code",
   "execution_count": 45,
   "metadata": {},
   "outputs": [],
   "source": [
    "train_fraud,test_fraud = fraud_data.randomSplit([0.7,0.3])\n",
    "train_normal,test_normal = normal_data.randomSplit([0.7,0.3])"
   ]
  },
  {
   "cell_type": "code",
   "execution_count": 46,
   "metadata": {},
   "outputs": [],
   "source": [
    "train_data = train_fraud.union(train_normal).orderBy(rand())\n",
    "test_data = test_fraud.union(test_normal).orderBy(rand())"
   ]
  },
  {
   "cell_type": "code",
   "execution_count": 47,
   "metadata": {},
   "outputs": [
    {
     "name": "stderr",
     "output_type": "stream",
     "text": [
      "                                                                                \r"
     ]
    },
    {
     "data": {
      "text/plain": [
       "7754275"
      ]
     },
     "execution_count": 47,
     "metadata": {},
     "output_type": "execute_result"
    }
   ],
   "source": [
    "final_data.count()"
   ]
  },
  {
   "cell_type": "code",
   "execution_count": 48,
   "metadata": {},
   "outputs": [
    {
     "name": "stderr",
     "output_type": "stream",
     "text": [
      "                                                                                \r"
     ]
    },
    {
     "data": {
      "text/plain": [
       "(106183, 45245)"
      ]
     },
     "execution_count": 48,
     "metadata": {},
     "output_type": "execute_result"
    }
   ],
   "source": [
    "train_data.count(),test_data.count()"
   ]
  },
  {
   "cell_type": "markdown",
   "metadata": {},
   "source": [
    "## Logistic Regression"
   ]
  },
  {
   "cell_type": "code",
   "execution_count": 49,
   "metadata": {},
   "outputs": [],
   "source": [
    "lr = LogisticRegression(labelCol='is_fraud')"
   ]
  },
  {
   "cell_type": "code",
   "execution_count": 50,
   "metadata": {},
   "outputs": [
    {
     "name": "stderr",
     "output_type": "stream",
     "text": [
      "22/09/20 17:46:20 WARN BLAS: Failed to load implementation from: com.github.fommil.netlib.NativeSystemBLAS\n",
      "22/09/20 17:46:20 WARN BLAS: Failed to load implementation from: com.github.fommil.netlib.NativeRefBLAS\n",
      "                                                                                \r"
     ]
    },
    {
     "data": {
      "text/plain": [
       "LogisticRegressionModel: uid=LogisticRegression_1e777df2ea40, numClasses=2, numFeatures=41"
      ]
     },
     "execution_count": 50,
     "metadata": {},
     "output_type": "execute_result"
    }
   ],
   "source": [
    "fitted_model = lr.fit(train_data)\n",
    "fitted_model.setFeaturesCol(\"features\")\n",
    "fitted_model.setPredictionCol(\"prediction\")"
   ]
  },
  {
   "cell_type": "markdown",
   "metadata": {},
   "source": [
    "### Evaluation"
   ]
  },
  {
   "cell_type": "code",
   "execution_count": 51,
   "metadata": {},
   "outputs": [
    {
     "name": "stderr",
     "output_type": "stream",
     "text": [
      "                                                                                \r"
     ]
    }
   ],
   "source": [
    "pred_and_labels = fitted_model.evaluate(test_data)"
   ]
  },
  {
   "cell_type": "code",
   "execution_count": 52,
   "metadata": {},
   "outputs": [],
   "source": [
    "score_and_label = pred_and_labels.predictions.select('prediction', 'is_fraud').withColumnRenamed('is_fraud', 'label')"
   ]
  },
  {
   "cell_type": "code",
   "execution_count": 53,
   "metadata": {},
   "outputs": [],
   "source": [
    "evaluator = MulticlassClassificationEvaluator()"
   ]
  },
  {
   "cell_type": "code",
   "execution_count": 54,
   "metadata": {},
   "outputs": [
    {
     "data": {
      "text/plain": [
       "MulticlassClassificationEvaluator_d4811fb883e0"
      ]
     },
     "execution_count": 54,
     "metadata": {},
     "output_type": "execute_result"
    }
   ],
   "source": [
    "evaluator.setPredictionCol(\"prediction\")"
   ]
  },
  {
   "cell_type": "code",
   "execution_count": 55,
   "metadata": {},
   "outputs": [
    {
     "name": "stderr",
     "output_type": "stream",
     "text": [
      "[Stage 277:=============================================>         (20 + 4) / 24]\r"
     ]
    },
    {
     "name": "stdout",
     "output_type": "stream",
     "text": [
      "Accuracy: 0.737546934063668\n"
     ]
    },
    {
     "name": "stderr",
     "output_type": "stream",
     "text": [
      "                                                                                \r"
     ]
    }
   ],
   "source": [
    "print(\"Accuracy: \" + str(evaluator.evaluate(score_and_label)))"
   ]
  },
  {
   "cell_type": "code",
   "execution_count": 56,
   "metadata": {},
   "outputs": [
    {
     "name": "stderr",
     "output_type": "stream",
     "text": [
      "                                                                                \r"
     ]
    }
   ],
   "source": [
    "tp = score_and_label.filter((F.col('prediction') == 1) & (F.col('label') == 1)).count()"
   ]
  },
  {
   "cell_type": "code",
   "execution_count": 57,
   "metadata": {},
   "outputs": [
    {
     "name": "stderr",
     "output_type": "stream",
     "text": [
      "                                                                                \r"
     ]
    }
   ],
   "source": [
    "fn = score_and_label.filter((F.col('prediction') == 0) & (F.col('label') == 1)).count()"
   ]
  },
  {
   "cell_type": "code",
   "execution_count": 58,
   "metadata": {},
   "outputs": [
    {
     "name": "stdout",
     "output_type": "stream",
     "text": [
      "recall: 0.6872505493519889\n"
     ]
    }
   ],
   "source": [
    "recall = tp/(tp+fn)\n",
    "print('recall: ' + str(recall))"
   ]
  },
  {
   "cell_type": "markdown",
   "metadata": {},
   "source": [
    "## "
   ]
  },
  {
   "cell_type": "markdown",
   "metadata": {},
   "source": [
    "## Prediction"
   ]
  },
  {
   "cell_type": "code",
   "execution_count": 59,
   "metadata": {},
   "outputs": [],
   "source": [
    "train_data = output.filter(F.col('order_datetime') < '2022-02-28')\n",
    "predict_data = output.filter(F.col('order_datetime') >= '2022-02-28')"
   ]
  },
  {
   "cell_type": "code",
   "execution_count": 60,
   "metadata": {},
   "outputs": [],
   "source": [
    "fraud_data = train_data.filter(F.col('is_fraud') == 1)\n",
    "normal_data = train_data.filter(F.col('is_fraud') == 0).randomSplit([0.01,0.99])[0]"
   ]
  },
  {
   "cell_type": "code",
   "execution_count": 61,
   "metadata": {},
   "outputs": [],
   "source": [
    "train_data = fraud_data.union(normal_data).orderBy(rand())"
   ]
  },
  {
   "cell_type": "code",
   "execution_count": 62,
   "metadata": {},
   "outputs": [],
   "source": [
    "lr_final = LogisticRegression(labelCol='is_fraud')"
   ]
  },
  {
   "cell_type": "code",
   "execution_count": 64,
   "metadata": {},
   "outputs": [
    {
     "name": "stderr",
     "output_type": "stream",
     "text": [
      "                                                                                \r"
     ]
    }
   ],
   "source": [
    "fitted_model = lr_final.fit(train_data)"
   ]
  },
  {
   "cell_type": "code",
   "execution_count": 65,
   "metadata": {},
   "outputs": [
    {
     "data": {
      "text/plain": [
       "LogisticRegressionModel: uid=LogisticRegression_6c00fda8f4a3, numClasses=2, numFeatures=41"
      ]
     },
     "execution_count": 65,
     "metadata": {},
     "output_type": "execute_result"
    }
   ],
   "source": [
    "fitted_model.setFeaturesCol('features')\n",
    "fitted_model.setPredictionCol('is_fraud')"
   ]
  },
  {
   "cell_type": "code",
   "execution_count": 66,
   "metadata": {},
   "outputs": [],
   "source": [
    "predict_data = predict_data.drop(\"is_fraud\")\n",
    "predicted = fitted_model.transform(predict_data)"
   ]
  },
  {
   "cell_type": "code",
   "execution_count": 67,
   "metadata": {},
   "outputs": [],
   "source": [
    "cols = ['user_id','order_datetime','merchant_abn','SA2_code','postcode','consumer_id','state','gender','mean_total_income','dollar_value','order_id','name','tags','revenue_level','take_rate','is_fraud'\t]\n",
    "predicted =  predicted.select(cols)"
   ]
  },
  {
   "cell_type": "code",
   "execution_count": 148,
   "metadata": {},
   "outputs": [],
   "source": [
    "full = full.drop('merchant_prob', 'consumer_prob', 'month')"
   ]
  },
  {
   "cell_type": "code",
   "execution_count": 69,
   "metadata": {},
   "outputs": [
    {
     "data": {
      "text/plain": [
       "5749867"
      ]
     },
     "execution_count": 69,
     "metadata": {},
     "output_type": "execute_result"
    }
   ],
   "source": [
    "predicted.count()"
   ]
  },
  {
   "cell_type": "code",
   "execution_count": 149,
   "metadata": {},
   "outputs": [],
   "source": [
    "full = full.filter(F.col('order_datetime') < '2022-02-28')"
   ]
  },
  {
   "cell_type": "code",
   "execution_count": 150,
   "metadata": {},
   "outputs": [],
   "source": [
    "full = full.union(predicted)"
   ]
  },
  {
   "cell_type": "code",
   "execution_count": 151,
   "metadata": {},
   "outputs": [
    {
     "name": "stdout",
     "output_type": "stream",
     "text": [
      "root\n",
      " |-- user_id: long (nullable = true)\n",
      " |-- order_datetime: date (nullable = true)\n",
      " |-- merchant_abn: long (nullable = true)\n",
      " |-- SA2_code: integer (nullable = true)\n",
      " |-- postcode: integer (nullable = true)\n",
      " |-- consumer_id: integer (nullable = true)\n",
      " |-- state: string (nullable = true)\n",
      " |-- gender: string (nullable = true)\n",
      " |-- mean_total_income: integer (nullable = true)\n",
      " |-- dollar_value: double (nullable = true)\n",
      " |-- order_id: string (nullable = true)\n",
      " |-- name: string (nullable = true)\n",
      " |-- tags: string (nullable = true)\n",
      " |-- revenue_level: string (nullable = true)\n",
      " |-- take_rate: float (nullable = true)\n",
      " |-- is_fraud: double (nullable = false)\n",
      "\n"
     ]
    }
   ],
   "source": [
    "full.printSchema()"
   ]
  },
  {
   "cell_type": "code",
   "execution_count": 152,
   "metadata": {},
   "outputs": [
    {
     "name": "stderr",
     "output_type": "stream",
     "text": [
      "                                                                                \r"
     ]
    },
    {
     "data": {
      "text/html": [
       "<table border='1'>\n",
       "<tr><th>user_id</th><th>order_datetime</th><th>merchant_abn</th><th>SA2_code</th><th>postcode</th><th>consumer_id</th><th>state</th><th>gender</th><th>mean_total_income</th><th>dollar_value</th><th>order_id</th><th>name</th><th>tags</th><th>revenue_level</th><th>take_rate</th><th>is_fraud</th></tr>\n",
       "<tr><td>183</td><td>2022-01-31</td><td>38700038932</td><td>210051245</td><td>3043</td><td>133032</td><td>VIC</td><td>Female</td><td>58060</td><td>1115.1879869740476</td><td>d4432c96-0627-403...</td><td>Etiam Bibendum In...</td><td>tent</td><td>a</td><td>6.31</td><td>0.0</td></tr>\n",
       "<tr><td>183</td><td>2022-01-29</td><td>68874243493</td><td>210051245</td><td>3043</td><td>133032</td><td>VIC</td><td>Female</td><td>58060</td><td>2456.7393115320206</td><td>71d23bb1-bcb3-4ee...</td><td>Nullam Suscipit C...</td><td>telecom</td><td>c</td><td>2.52</td><td>1.0</td></tr>\n",
       "<tr><td>183</td><td>2021-07-08</td><td>90568944804</td><td>210051245</td><td>3043</td><td>133032</td><td>VIC</td><td>Female</td><td>58060</td><td>370.17334638595787</td><td>ba106433-7c52-49c...</td><td>Diam Eu Dolor LLC</td><td>tent</td><td>b</td><td>4.1</td><td>0.0</td></tr>\n",
       "<tr><td>183</td><td>2021-03-10</td><td>90568944804</td><td>210051245</td><td>3043</td><td>133032</td><td>VIC</td><td>Female</td><td>58060</td><td>1374.0095428112525</td><td>de4e4ff5-f906-401...</td><td>Diam Eu Dolor LLC</td><td>tent</td><td>b</td><td>4.1</td><td>0.0</td></tr>\n",
       "<tr><td>183</td><td>2021-09-27</td><td>15253672771</td><td>210051245</td><td>3043</td><td>133032</td><td>VIC</td><td>Female</td><td>58060</td><td>49.42210604823397</td><td>13fb71a4-a8cf-4a7...</td><td>Nascetur Ridiculu...</td><td>gift</td><td>b</td><td>3.26</td><td>0.0</td></tr>\n",
       "<tr><td>183</td><td>2021-03-13</td><td>43321695302</td><td>210051245</td><td>3043</td><td>133032</td><td>VIC</td><td>Female</td><td>58060</td><td>25.146636745770262</td><td>bcf0651b-aeb1-43c...</td><td>Ante Limited</td><td>health</td><td>b</td><td>4.51</td><td>0.0</td></tr>\n",
       "<tr><td>183</td><td>2021-06-15</td><td>21532935983</td><td>210051245</td><td>3043</td><td>133032</td><td>VIC</td><td>Female</td><td>58060</td><td>22.840601049120835</td><td>4224f811-80d2-43e...</td><td>Eleifend Nec Inco...</td><td>cable</td><td>a</td><td>5.58</td><td>0.0</td></tr>\n",
       "<tr><td>183</td><td>2021-12-29</td><td>70172340121</td><td>210051245</td><td>3043</td><td>133032</td><td>VIC</td><td>Female</td><td>58060</td><td>89.97820881579668</td><td>38f2deb0-6e4c-489...</td><td>Justo Eu Incorpor...</td><td>gift</td><td>b</td><td>3.29</td><td>0.0</td></tr>\n",
       "<tr><td>183</td><td>2021-11-12</td><td>49891706470</td><td>210051245</td><td>3043</td><td>133032</td><td>VIC</td><td>Female</td><td>58060</td><td>46.8170732849845</td><td>d0de8b61-e555-441...</td><td>Non Vestibulum In...</td><td>tent</td><td>a</td><td>5.8</td><td>0.0</td></tr>\n",
       "<tr><td>183</td><td>2021-10-01</td><td>49891706470</td><td>210051245</td><td>3043</td><td>133032</td><td>VIC</td><td>Female</td><td>58060</td><td>50.57450884244343</td><td>49f6dc67-1c48-47e...</td><td>Non Vestibulum In...</td><td>tent</td><td>a</td><td>5.8</td><td>0.0</td></tr>\n",
       "<tr><td>183</td><td>2021-11-03</td><td>49891706470</td><td>210051245</td><td>3043</td><td>133032</td><td>VIC</td><td>Female</td><td>58060</td><td>52.89080752024506</td><td>1e0471c0-9f2f-4b4...</td><td>Non Vestibulum In...</td><td>tent</td><td>a</td><td>5.8</td><td>0.0</td></tr>\n",
       "<tr><td>183</td><td>2021-10-03</td><td>49891706470</td><td>210051245</td><td>3043</td><td>133032</td><td>VIC</td><td>Female</td><td>58060</td><td>17.037939538279694</td><td>413dc167-5547-481...</td><td>Non Vestibulum In...</td><td>tent</td><td>a</td><td>5.8</td><td>0.0</td></tr>\n",
       "<tr><td>183</td><td>2021-08-23</td><td>49891706470</td><td>210051245</td><td>3043</td><td>133032</td><td>VIC</td><td>Female</td><td>58060</td><td>37.65386212745542</td><td>d1a5cbe3-5c39-46a...</td><td>Non Vestibulum In...</td><td>tent</td><td>a</td><td>5.8</td><td>0.0</td></tr>\n",
       "<tr><td>183</td><td>2021-06-12</td><td>49891706470</td><td>210051245</td><td>3043</td><td>133032</td><td>VIC</td><td>Female</td><td>58060</td><td>23.467380573245634</td><td>b30018ac-2f2e-4bd...</td><td>Non Vestibulum In...</td><td>tent</td><td>a</td><td>5.8</td><td>0.0</td></tr>\n",
       "<tr><td>183</td><td>2021-03-11</td><td>49891706470</td><td>210051245</td><td>3043</td><td>133032</td><td>VIC</td><td>Female</td><td>58060</td><td>8.695044939032934</td><td>3d5e90ca-c9ce-40d...</td><td>Non Vestibulum In...</td><td>tent</td><td>a</td><td>5.8</td><td>0.0</td></tr>\n",
       "<tr><td>183</td><td>2022-01-21</td><td>52959528548</td><td>210051245</td><td>3043</td><td>133032</td><td>VIC</td><td>Female</td><td>58060</td><td>75.75323739995427</td><td>7e60700e-eb8b-483...</td><td>Libero Et Limited</td><td>furniture</td><td>c</td><td>1.94</td><td>0.0</td></tr>\n",
       "<tr><td>183</td><td>2021-07-10</td><td>96161808980</td><td>210051245</td><td>3043</td><td>133032</td><td>VIC</td><td>Female</td><td>58060</td><td>87.79776197394868</td><td>4e16b270-4a73-48b...</td><td>Velit Aliquam Cor...</td><td>digital goods</td><td>a</td><td>7.0</td><td>0.0</td></tr>\n",
       "<tr><td>183</td><td>2021-10-05</td><td>71528203369</td><td>210051245</td><td>3043</td><td>133032</td><td>VIC</td><td>Female</td><td>58060</td><td>210.1956156007944</td><td>950ada47-83d3-4eb...</td><td>Ipsum Primis Asso...</td><td>watch</td><td>a</td><td>6.94</td><td>0.0</td></tr>\n",
       "<tr><td>183</td><td>2021-10-14</td><td>47830349274</td><td>210051245</td><td>3043</td><td>133032</td><td>VIC</td><td>Female</td><td>58060</td><td>199.08689588111014</td><td>3e0a25a3-37b7-412...</td><td>Enim Corp.</td><td>florists</td><td>b</td><td>3.3</td><td>0.0</td></tr>\n",
       "<tr><td>183</td><td>2021-03-06</td><td>20717993088</td><td>210051245</td><td>3043</td><td>133032</td><td>VIC</td><td>Female</td><td>58060</td><td>5.939601833056966</td><td>5918611b-90c2-4ca...</td><td>Lacus Vestibulum ...</td><td>motor</td><td>a</td><td>6.69</td><td>0.0</td></tr>\n",
       "</table>\n",
       "only showing top 20 rows\n"
      ],
      "text/plain": [
       "+-------+--------------+------------+---------+--------+-----------+-----+------+-----------------+------------------+--------------------+--------------------+-------------+-------------+---------+--------+\n",
       "|user_id|order_datetime|merchant_abn| SA2_code|postcode|consumer_id|state|gender|mean_total_income|      dollar_value|            order_id|                name|         tags|revenue_level|take_rate|is_fraud|\n",
       "+-------+--------------+------------+---------+--------+-----------+-----+------+-----------------+------------------+--------------------+--------------------+-------------+-------------+---------+--------+\n",
       "|    183|    2022-01-31| 38700038932|210051245|    3043|     133032|  VIC|Female|            58060|1115.1879869740476|d4432c96-0627-403...|Etiam Bibendum In...|         tent|            a|     6.31|     0.0|\n",
       "|    183|    2022-01-29| 68874243493|210051245|    3043|     133032|  VIC|Female|            58060|2456.7393115320206|71d23bb1-bcb3-4ee...|Nullam Suscipit C...|      telecom|            c|     2.52|     1.0|\n",
       "|    183|    2021-07-08| 90568944804|210051245|    3043|     133032|  VIC|Female|            58060|370.17334638595787|ba106433-7c52-49c...|   Diam Eu Dolor LLC|         tent|            b|      4.1|     0.0|\n",
       "|    183|    2021-03-10| 90568944804|210051245|    3043|     133032|  VIC|Female|            58060|1374.0095428112525|de4e4ff5-f906-401...|   Diam Eu Dolor LLC|         tent|            b|      4.1|     0.0|\n",
       "|    183|    2021-09-27| 15253672771|210051245|    3043|     133032|  VIC|Female|            58060| 49.42210604823397|13fb71a4-a8cf-4a7...|Nascetur Ridiculu...|         gift|            b|     3.26|     0.0|\n",
       "|    183|    2021-03-13| 43321695302|210051245|    3043|     133032|  VIC|Female|            58060|25.146636745770262|bcf0651b-aeb1-43c...|        Ante Limited|       health|            b|     4.51|     0.0|\n",
       "|    183|    2021-06-15| 21532935983|210051245|    3043|     133032|  VIC|Female|            58060|22.840601049120835|4224f811-80d2-43e...|Eleifend Nec Inco...|        cable|            a|     5.58|     0.0|\n",
       "|    183|    2021-12-29| 70172340121|210051245|    3043|     133032|  VIC|Female|            58060| 89.97820881579668|38f2deb0-6e4c-489...|Justo Eu Incorpor...|         gift|            b|     3.29|     0.0|\n",
       "|    183|    2021-11-12| 49891706470|210051245|    3043|     133032|  VIC|Female|            58060|  46.8170732849845|d0de8b61-e555-441...|Non Vestibulum In...|         tent|            a|      5.8|     0.0|\n",
       "|    183|    2021-10-01| 49891706470|210051245|    3043|     133032|  VIC|Female|            58060| 50.57450884244343|49f6dc67-1c48-47e...|Non Vestibulum In...|         tent|            a|      5.8|     0.0|\n",
       "|    183|    2021-11-03| 49891706470|210051245|    3043|     133032|  VIC|Female|            58060| 52.89080752024506|1e0471c0-9f2f-4b4...|Non Vestibulum In...|         tent|            a|      5.8|     0.0|\n",
       "|    183|    2021-10-03| 49891706470|210051245|    3043|     133032|  VIC|Female|            58060|17.037939538279694|413dc167-5547-481...|Non Vestibulum In...|         tent|            a|      5.8|     0.0|\n",
       "|    183|    2021-08-23| 49891706470|210051245|    3043|     133032|  VIC|Female|            58060| 37.65386212745542|d1a5cbe3-5c39-46a...|Non Vestibulum In...|         tent|            a|      5.8|     0.0|\n",
       "|    183|    2021-06-12| 49891706470|210051245|    3043|     133032|  VIC|Female|            58060|23.467380573245634|b30018ac-2f2e-4bd...|Non Vestibulum In...|         tent|            a|      5.8|     0.0|\n",
       "|    183|    2021-03-11| 49891706470|210051245|    3043|     133032|  VIC|Female|            58060| 8.695044939032934|3d5e90ca-c9ce-40d...|Non Vestibulum In...|         tent|            a|      5.8|     0.0|\n",
       "|    183|    2022-01-21| 52959528548|210051245|    3043|     133032|  VIC|Female|            58060| 75.75323739995427|7e60700e-eb8b-483...|   Libero Et Limited|    furniture|            c|     1.94|     0.0|\n",
       "|    183|    2021-07-10| 96161808980|210051245|    3043|     133032|  VIC|Female|            58060| 87.79776197394868|4e16b270-4a73-48b...|Velit Aliquam Cor...|digital goods|            a|      7.0|     0.0|\n",
       "|    183|    2021-10-05| 71528203369|210051245|    3043|     133032|  VIC|Female|            58060| 210.1956156007944|950ada47-83d3-4eb...|Ipsum Primis Asso...|        watch|            a|     6.94|     0.0|\n",
       "|    183|    2021-10-14| 47830349274|210051245|    3043|     133032|  VIC|Female|            58060|199.08689588111014|3e0a25a3-37b7-412...|          Enim Corp.|     florists|            b|      3.3|     0.0|\n",
       "|    183|    2021-03-06| 20717993088|210051245|    3043|     133032|  VIC|Female|            58060| 5.939601833056966|5918611b-90c2-4ca...|Lacus Vestibulum ...|        motor|            a|     6.69|     0.0|\n",
       "+-------+--------------+------------+---------+--------+-----------+-----+------+-----------------+------------------+--------------------+--------------------+-------------+-------------+---------+--------+\n",
       "only showing top 20 rows"
      ]
     },
     "execution_count": 152,
     "metadata": {},
     "output_type": "execute_result"
    }
   ],
   "source": [
    "full.cache()"
   ]
  },
  {
   "cell_type": "code",
   "execution_count": 153,
   "metadata": {},
   "outputs": [
    {
     "name": "stdout",
     "output_type": "stream",
     "text": [
      "+-------+--------------+------------+---------+--------+-----------+-----+------+-----------------+------------------+--------------------+--------------------+-------------+-------------+---------+--------+\n",
      "|user_id|order_datetime|merchant_abn| SA2_code|postcode|consumer_id|state|gender|mean_total_income|      dollar_value|            order_id|                name|         tags|revenue_level|take_rate|is_fraud|\n",
      "+-------+--------------+------------+---------+--------+-----------+-----+------+-----------------+------------------+--------------------+--------------------+-------------+-------------+---------+--------+\n",
      "|    183|    2022-01-31| 38700038932|210051245|    3043|     133032|  VIC|Female|            58060|1115.1879869740476|d4432c96-0627-403...|Etiam Bibendum In...|         tent|            a|     6.31|     0.0|\n",
      "|    183|    2022-01-29| 68874243493|210051245|    3043|     133032|  VIC|Female|            58060|2456.7393115320206|71d23bb1-bcb3-4ee...|Nullam Suscipit C...|      telecom|            c|     2.52|     1.0|\n",
      "|    183|    2021-07-08| 90568944804|210051245|    3043|     133032|  VIC|Female|            58060|370.17334638595787|ba106433-7c52-49c...|   Diam Eu Dolor LLC|         tent|            b|      4.1|     0.0|\n",
      "|    183|    2021-03-10| 90568944804|210051245|    3043|     133032|  VIC|Female|            58060|1374.0095428112525|de4e4ff5-f906-401...|   Diam Eu Dolor LLC|         tent|            b|      4.1|     0.0|\n",
      "|    183|    2021-09-27| 15253672771|210051245|    3043|     133032|  VIC|Female|            58060| 49.42210604823397|13fb71a4-a8cf-4a7...|Nascetur Ridiculu...|         gift|            b|     3.26|     0.0|\n",
      "|    183|    2021-03-13| 43321695302|210051245|    3043|     133032|  VIC|Female|            58060|25.146636745770262|bcf0651b-aeb1-43c...|        Ante Limited|       health|            b|     4.51|     0.0|\n",
      "|    183|    2021-06-15| 21532935983|210051245|    3043|     133032|  VIC|Female|            58060|22.840601049120835|4224f811-80d2-43e...|Eleifend Nec Inco...|        cable|            a|     5.58|     0.0|\n",
      "|    183|    2021-12-29| 70172340121|210051245|    3043|     133032|  VIC|Female|            58060| 89.97820881579668|38f2deb0-6e4c-489...|Justo Eu Incorpor...|         gift|            b|     3.29|     0.0|\n",
      "|    183|    2021-11-12| 49891706470|210051245|    3043|     133032|  VIC|Female|            58060|  46.8170732849845|d0de8b61-e555-441...|Non Vestibulum In...|         tent|            a|      5.8|     0.0|\n",
      "|    183|    2021-10-01| 49891706470|210051245|    3043|     133032|  VIC|Female|            58060| 50.57450884244343|49f6dc67-1c48-47e...|Non Vestibulum In...|         tent|            a|      5.8|     0.0|\n",
      "|    183|    2021-11-03| 49891706470|210051245|    3043|     133032|  VIC|Female|            58060| 52.89080752024506|1e0471c0-9f2f-4b4...|Non Vestibulum In...|         tent|            a|      5.8|     0.0|\n",
      "|    183|    2021-10-03| 49891706470|210051245|    3043|     133032|  VIC|Female|            58060|17.037939538279694|413dc167-5547-481...|Non Vestibulum In...|         tent|            a|      5.8|     0.0|\n",
      "|    183|    2021-08-23| 49891706470|210051245|    3043|     133032|  VIC|Female|            58060| 37.65386212745542|d1a5cbe3-5c39-46a...|Non Vestibulum In...|         tent|            a|      5.8|     0.0|\n",
      "|    183|    2021-06-12| 49891706470|210051245|    3043|     133032|  VIC|Female|            58060|23.467380573245634|b30018ac-2f2e-4bd...|Non Vestibulum In...|         tent|            a|      5.8|     0.0|\n",
      "|    183|    2021-03-11| 49891706470|210051245|    3043|     133032|  VIC|Female|            58060| 8.695044939032934|3d5e90ca-c9ce-40d...|Non Vestibulum In...|         tent|            a|      5.8|     0.0|\n",
      "|    183|    2022-01-21| 52959528548|210051245|    3043|     133032|  VIC|Female|            58060| 75.75323739995427|7e60700e-eb8b-483...|   Libero Et Limited|    furniture|            c|     1.94|     0.0|\n",
      "|    183|    2021-07-10| 96161808980|210051245|    3043|     133032|  VIC|Female|            58060| 87.79776197394868|4e16b270-4a73-48b...|Velit Aliquam Cor...|digital goods|            a|      7.0|     0.0|\n",
      "|    183|    2021-10-05| 71528203369|210051245|    3043|     133032|  VIC|Female|            58060| 210.1956156007944|950ada47-83d3-4eb...|Ipsum Primis Asso...|        watch|            a|     6.94|     0.0|\n",
      "|    183|    2021-10-14| 47830349274|210051245|    3043|     133032|  VIC|Female|            58060|199.08689588111014|3e0a25a3-37b7-412...|          Enim Corp.|     florists|            b|      3.3|     0.0|\n",
      "|    183|    2021-03-06| 20717993088|210051245|    3043|     133032|  VIC|Female|            58060| 5.939601833056966|5918611b-90c2-4ca...|Lacus Vestibulum ...|        motor|            a|     6.69|     0.0|\n",
      "+-------+--------------+------------+---------+--------+-----------+-----+------+-----------------+------------------+--------------------+--------------------+-------------+-------------+---------+--------+\n",
      "only showing top 20 rows\n",
      "\n"
     ]
    }
   ],
   "source": [
    "full.show()"
   ]
  },
  {
   "cell_type": "code",
   "execution_count": 155,
   "metadata": {},
   "outputs": [
    {
     "name": "stderr",
     "output_type": "stream",
     "text": [
      "22/09/20 19:24:44 WARN package: Truncated the string representation of a plan since it was too large. This behavior can be adjusted by setting 'spark.sql.debug.maxToStringFields'.\n"
     ]
    }
   ],
   "source": [
    "## underlying files have been updated. explicitly invalidate the cache\n",
    "full.createOrReplaceTempView(\"full_data_with_lable\")"
   ]
  },
  {
   "cell_type": "code",
   "execution_count": 156,
   "metadata": {},
   "outputs": [],
   "source": [
    "query = \"REFRESH TABLE full_data_with_lable\" "
   ]
  },
  {
   "cell_type": "code",
   "execution_count": 157,
   "metadata": {},
   "outputs": [
    {
     "data": {
      "text/html": [
       "<table border='1'>\n",
       "<tr><th></th></tr>\n",
       "</table>\n"
      ],
      "text/plain": [
       "++\n",
       "||\n",
       "++\n",
       "++"
      ]
     },
     "execution_count": 157,
     "metadata": {},
     "output_type": "execute_result"
    }
   ],
   "source": [
    "spark.sql(query)"
   ]
  },
  {
   "cell_type": "code",
   "execution_count": 159,
   "metadata": {},
   "outputs": [
    {
     "name": "stderr",
     "output_type": "stream",
     "text": [
      "22/09/20 19:39:11 WARN MemoryStore: Not enough space to cache rdd_2157_20 in memory! (computed 12.3 MiB so far)\n",
      "22/09/20 19:39:11 WARN MemoryStore: Not enough space to cache rdd_2157_21 in memory! (computed 12.3 MiB so far)\n",
      "                                                                                \r"
     ]
    }
   ],
   "source": [
    "full.write.format('parquet').mode('overwrite').save(\"../../data/curated/full_data\")"
   ]
  },
  {
   "cell_type": "code",
   "execution_count": 164,
   "metadata": {},
   "outputs": [
    {
     "data": {
      "text/plain": [
       "False"
      ]
     },
     "execution_count": 164,
     "metadata": {},
     "output_type": "execute_result"
    }
   ],
   "source": [
    "full.unpersist()"
   ]
  }
 ],
 "metadata": {
  "kernelspec": {
   "display_name": "Python 3.7.13 ('xt')",
   "language": "python",
   "name": "python3"
  },
  "language_info": {
   "codemirror_mode": {
    "name": "ipython",
    "version": 3
   },
   "file_extension": ".py",
   "mimetype": "text/x-python",
   "name": "python",
   "nbconvert_exporter": "python",
   "pygments_lexer": "ipython3",
   "version": "3.7.13"
  },
  "orig_nbformat": 4,
  "vscode": {
   "interpreter": {
    "hash": "464aeb025fe7529aa14c472f74018451d543299a7c7ff36fe116837387c8b1ec"
   }
  }
 },
 "nbformat": 4,
 "nbformat_minor": 2
}
