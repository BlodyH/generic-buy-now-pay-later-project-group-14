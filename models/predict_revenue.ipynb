{
 "cells": [
  {
   "cell_type": "markdown",
   "metadata": {},
   "source": [
    "# Prediction Model for BNPL Revenue"
   ]
  },
  {
   "cell_type": "code",
   "execution_count": 20,
   "metadata": {},
   "outputs": [],
   "source": [
    "from pyspark.sql import SparkSession\n",
    "from pyspark.sql import functions as F\n",
    "import pandas as pd\n",
    "\n",
    "from pyspark.ml.regression import LinearRegression\n",
    "from pyspark.ml.feature import StringIndexer\n",
    "from pyspark.ml.feature import OneHotEncoder\n",
    "from pyspark.ml.feature import VectorAssembler \n",
    "from pyspark.ml.evaluation import MulticlassClassificationEvaluator\n",
    "from pyspark.ml.evaluation import RegressionEvaluator"
   ]
  },
  {
   "cell_type": "code",
   "execution_count": 2,
   "metadata": {},
   "outputs": [
    {
     "name": "stdout",
     "output_type": "stream",
     "text": [
      "22/09/23 21:36:13 WARN Utils: Your hostname, DESKTOP-80AOBLL resolves to a loopback address: 127.0.1.1; using 172.25.24.208 instead (on interface eth0)\n",
      "22/09/23 21:36:13 WARN Utils: Set SPARK_LOCAL_IP if you need to bind to another address\n"
     ]
    },
    {
     "name": "stderr",
     "output_type": "stream",
     "text": [
      "Setting default log level to \"WARN\".\n",
      "To adjust logging level use sc.setLogLevel(newLevel). For SparkR, use setLogLevel(newLevel).\n"
     ]
    },
    {
     "name": "stdout",
     "output_type": "stream",
     "text": [
      "22/09/23 21:36:15 WARN NativeCodeLoader: Unable to load native-hadoop library for your platform... using builtin-java classes where applicable\n",
      "22/09/23 21:36:16 WARN Utils: Service 'SparkUI' could not bind on port 4040. Attempting port 4041.\n"
     ]
    }
   ],
   "source": [
    "# Create a spark session (which will run spark jobs)\n",
    "spark = (\n",
    "    SparkSession.builder.appName(\"MAST30034 Project 2\")\n",
    "    .config(\"spark.sql.repl.eagerEval.enabled\", True) \n",
    "    .config(\"spark.sql.parquet.cacheMetadata\", \"true\")\n",
    "    .config(\"spark.sql.session.timeZone\", \"Etc/UTC\")\n",
    "    .config(\"spark.driver.memory\", \"2g\")\n",
    "    .config(\"spark.executer.memory\", \"4g\")\n",
    "    .getOrCreate()\n",
    ")"
   ]
  },
  {
   "cell_type": "code",
   "execution_count": 3,
   "metadata": {},
   "outputs": [
    {
     "name": "stderr",
     "output_type": "stream",
     "text": [
      "                                                                                \r"
     ]
    },
    {
     "name": "stdout",
     "output_type": "stream",
     "text": [
      "root\n",
      " |-- merchant_abn: long (nullable = true)\n",
      " |-- total_num_consumer: long (nullable = true)\n",
      " |-- avg_dollar_value: double (nullable = true)\n",
      " |-- total_num_transaction: long (nullable = true)\n",
      " |-- mean_income: double (nullable = true)\n",
      " |-- revenue_level: string (nullable = true)\n",
      " |-- total_revenue: double (nullable = true)\n",
      " |-- total_num_postcode: long (nullable = true)\n",
      " |-- tag: string (nullable = true)\n",
      " |-- next_total_num_consumer: long (nullable = true)\n",
      " |-- next_total_revenue: double (nullable = true)\n",
      " |-- next_total_num_transaction: long (nullable = true)\n",
      "\n"
     ]
    }
   ],
   "source": [
    "full = spark.read.parquet('../data/curated/train_data/')\n",
    "full = full.withColumnRenamed('y_total_num_consumer', 'next_total_num_consumer').withColumnRenamed('y_total_revenue', 'next_total_revenue')\\\n",
    "    .withColumnRenamed('y_total_num_transaction', 'next_total_num_transaction')\n",
    "full.printSchema()"
   ]
  },
  {
   "cell_type": "markdown",
   "metadata": {},
   "source": [
    "## Model for BNPL Revenue\n",
    "Features:\n",
    "    total number of consumer, average dollar value, total number of transaction, mean income, total number of postcode, tags\n",
    "\n",
    "label:\n",
    "    next year revenue"
   ]
  },
  {
   "cell_type": "code",
   "execution_count": 4,
   "metadata": {},
   "outputs": [
    {
     "data": {
      "text/html": [
       "<table border='1'>\n",
       "<tr><th>total_num_consumer</th><th>avg_dollar_value</th><th>total_num_transaction</th><th>mean_income</th><th>total_num_postcode</th><th>tag</th><th>next_total_revenue</th></tr>\n",
       "<tr><td>808</td><td>209.02516040076958</td><td>823</td><td>62506.642770352366</td><td>719</td><td>furniture</td><td>38940.2914088986</td></tr>\n",
       "<tr><td>731</td><td>41.11965938159281</td><td>750</td><td>62693.954666666665</td><td>642</td><td>cable</td><td>154467.92091896126</td></tr>\n",
       "<tr><td>87</td><td>111.08408713922161</td><td>87</td><td>61060.0459770115</td><td>87</td><td>watch</td><td>41683.211213258364</td></tr>\n",
       "<tr><td>107</td><td>451.1432080236008</td><td>107</td><td>65637.3831775701</td><td>107</td><td>music</td><td>290071.0062352741</td></tr>\n",
       "<tr><td>2244</td><td>39.20921658203575</td><td>2370</td><td>62122.52278481013</td><td>1619</td><td>gift</td><td>666766.4067054291</td></tr>\n",
       "<tr><td>218</td><td>389.5552654520502</td><td>218</td><td>63146.619266055044</td><td>211</td><td>computer</td><td>378005.14673149673</td></tr>\n",
       "<tr><td>1238</td><td>114.10783402533234</td><td>1272</td><td>62006.311320754714</td><td>1018</td><td>watch</td><td>435003.67956298945</td></tr>\n",
       "<tr><td>130</td><td>308.3515003987336</td><td>130</td><td>63676.28461538462</td><td>127</td><td>computer</td><td>273146.7707118801</td></tr>\n",
       "<tr><td>2475</td><td>128.98933167858436</td><td>2621</td><td>62792.286913391836</td><td>1730</td><td>furniture</td><td>2765582.9188776133</td></tr>\n",
       "<tr><td>238</td><td>378.0169713940927</td><td>238</td><td>61579.6512605042</td><td>227</td><td>computer</td><td>654693.9778432944</td></tr>\n",
       "<tr><td>5</td><td>1331.0255719326196</td><td>5</td><td>61863.6</td><td>5</td><td>equipment</td><td>null</td></tr>\n",
       "<tr><td>4</td><td>276.0868936989199</td><td>4</td><td>81123.75</td><td>4</td><td>music</td><td>19636.79081402693</td></tr>\n",
       "<tr><td>6</td><td>526.8134669489664</td><td>6</td><td>55291.166666666664</td><td>6</td><td>artist supply</td><td>18926.917288619916</td></tr>\n",
       "<tr><td>17</td><td>350.08667638343934</td><td>17</td><td>58553.117647058825</td><td>16</td><td>florists</td><td>52838.18504617855</td></tr>\n",
       "<tr><td>185</td><td>474.1675409676319</td><td>185</td><td>63441.41081081081</td><td>182</td><td>computer</td><td>494288.8601243659</td></tr>\n",
       "<tr><td>38</td><td>359.1108847340083</td><td>38</td><td>60029.76315789474</td><td>38</td><td>motor</td><td>88318.04454751335</td></tr>\n",
       "<tr><td>1</td><td>9734.857620793187</td><td>1</td><td>57015.0</td><td>1</td><td>motor</td><td>null</td></tr>\n",
       "<tr><td>405</td><td>37.94568323793217</td><td>413</td><td>64556.179176755446</td><td>366</td><td>gift</td><td>56043.0017308923</td></tr>\n",
       "<tr><td>22</td><td>464.0964976850653</td><td>22</td><td>60070.77272727273</td><td>22</td><td>artist supply</td><td>78474.65405470507</td></tr>\n",
       "<tr><td>629</td><td>449.0344083022495</td><td>635</td><td>63669.83464566929</td><td>587</td><td>artist supply</td><td>1206457.0200268542</td></tr>\n",
       "</table>\n",
       "only showing top 20 rows\n"
      ],
      "text/plain": [
       "+------------------+------------------+---------------------+------------------+------------------+-------------+------------------+\n",
       "|total_num_consumer|  avg_dollar_value|total_num_transaction|       mean_income|total_num_postcode|          tag|next_total_revenue|\n",
       "+------------------+------------------+---------------------+------------------+------------------+-------------+------------------+\n",
       "|               808|209.02516040076958|                  823|62506.642770352366|               719|    furniture|  38940.2914088986|\n",
       "|               731| 41.11965938159281|                  750|62693.954666666665|               642|        cable|154467.92091896126|\n",
       "|                87|111.08408713922161|                   87|  61060.0459770115|                87|        watch|41683.211213258364|\n",
       "|               107| 451.1432080236008|                  107|  65637.3831775701|               107|        music| 290071.0062352741|\n",
       "|              2244| 39.20921658203575|                 2370| 62122.52278481013|              1619|         gift| 666766.4067054291|\n",
       "|               218| 389.5552654520502|                  218|63146.619266055044|               211|     computer|378005.14673149673|\n",
       "|              1238|114.10783402533234|                 1272|62006.311320754714|              1018|        watch|435003.67956298945|\n",
       "|               130| 308.3515003987336|                  130| 63676.28461538462|               127|     computer| 273146.7707118801|\n",
       "|              2475|128.98933167858436|                 2621|62792.286913391836|              1730|    furniture|2765582.9188776133|\n",
       "|               238| 378.0169713940927|                  238|  61579.6512605042|               227|     computer| 654693.9778432944|\n",
       "|                 5|1331.0255719326196|                    5|           61863.6|                 5|    equipment|              null|\n",
       "|                 4| 276.0868936989199|                    4|          81123.75|                 4|        music| 19636.79081402693|\n",
       "|                 6| 526.8134669489664|                    6|55291.166666666664|                 6|artist supply|18926.917288619916|\n",
       "|                17|350.08667638343934|                   17|58553.117647058825|                16|     florists| 52838.18504617855|\n",
       "|               185| 474.1675409676319|                  185| 63441.41081081081|               182|     computer| 494288.8601243659|\n",
       "|                38| 359.1108847340083|                   38| 60029.76315789474|                38|        motor| 88318.04454751335|\n",
       "|                 1| 9734.857620793187|                    1|           57015.0|                 1|        motor|              null|\n",
       "|               405| 37.94568323793217|                  413|64556.179176755446|               366|         gift|  56043.0017308923|\n",
       "|                22| 464.0964976850653|                   22| 60070.77272727273|                22|artist supply| 78474.65405470507|\n",
       "|               629| 449.0344083022495|                  635| 63669.83464566929|               587|artist supply|1206457.0200268542|\n",
       "+------------------+------------------+---------------------+------------------+------------------+-------------+------------------+\n",
       "only showing top 20 rows"
      ]
     },
     "execution_count": 4,
     "metadata": {},
     "output_type": "execute_result"
    }
   ],
   "source": [
    "# drop the columns not needed\n",
    "revenue_df = full.drop('merchant_abn', 'revenue_level', 'total_revenue', 'next_total_num_consumer', 'next_total_num_transaction')\n",
    "revenue_df"
   ]
  },
  {
   "cell_type": "code",
   "execution_count": 5,
   "metadata": {},
   "outputs": [
    {
     "name": "stderr",
     "output_type": "stream",
     "text": [
      "                                                                                \r"
     ]
    },
    {
     "data": {
      "text/html": [
       "<table border='1'>\n",
       "<tr><th>total_num_consumer</th><th>avg_dollar_value</th><th>total_num_transaction</th><th>mean_income</th><th>total_num_postcode</th><th>tag</th><th>next_total_revenue</th><th>tagIndex</th><th>tagOHE</th></tr>\n",
       "<tr><td>808</td><td>209.02516040076958</td><td>823</td><td>62506.642770352366</td><td>719</td><td>furniture</td><td>38940.2914088986</td><td>5.0</td><td>(23,[5],[1.0])</td></tr>\n",
       "<tr><td>731</td><td>41.11965938159281</td><td>750</td><td>62693.954666666665</td><td>642</td><td>cable</td><td>154467.92091896126</td><td>8.0</td><td>(23,[8],[1.0])</td></tr>\n",
       "<tr><td>87</td><td>111.08408713922161</td><td>87</td><td>61060.0459770115</td><td>87</td><td>watch</td><td>41683.211213258364</td><td>9.0</td><td>(23,[9],[1.0])</td></tr>\n",
       "<tr><td>107</td><td>451.1432080236008</td><td>107</td><td>65637.3831775701</td><td>107</td><td>music</td><td>290071.0062352741</td><td>11.0</td><td>(23,[11],[1.0])</td></tr>\n",
       "<tr><td>2244</td><td>39.20921658203575</td><td>2370</td><td>62122.52278481013</td><td>1619</td><td>gift</td><td>666766.4067054291</td><td>4.0</td><td>(23,[4],[1.0])</td></tr>\n",
       "<tr><td>218</td><td>389.5552654520502</td><td>218</td><td>63146.619266055044</td><td>211</td><td>computer</td><td>378005.14673149673</td><td>0.0</td><td>(23,[0],[1.0])</td></tr>\n",
       "<tr><td>1238</td><td>114.10783402533234</td><td>1272</td><td>62006.311320754714</td><td>1018</td><td>watch</td><td>435003.67956298945</td><td>9.0</td><td>(23,[9],[1.0])</td></tr>\n",
       "<tr><td>130</td><td>308.3515003987336</td><td>130</td><td>63676.28461538462</td><td>127</td><td>computer</td><td>273146.7707118801</td><td>0.0</td><td>(23,[0],[1.0])</td></tr>\n",
       "<tr><td>2475</td><td>128.98933167858436</td><td>2621</td><td>62792.286913391836</td><td>1730</td><td>furniture</td><td>2765582.9188776133</td><td>5.0</td><td>(23,[5],[1.0])</td></tr>\n",
       "<tr><td>238</td><td>378.0169713940927</td><td>238</td><td>61579.6512605042</td><td>227</td><td>computer</td><td>654693.9778432944</td><td>0.0</td><td>(23,[0],[1.0])</td></tr>\n",
       "<tr><td>5</td><td>1331.0255719326196</td><td>5</td><td>61863.6</td><td>5</td><td>equipment</td><td>null</td><td>19.0</td><td>(23,[19],[1.0])</td></tr>\n",
       "<tr><td>4</td><td>276.0868936989199</td><td>4</td><td>81123.75</td><td>4</td><td>music</td><td>19636.79081402693</td><td>11.0</td><td>(23,[11],[1.0])</td></tr>\n",
       "<tr><td>6</td><td>526.8134669489664</td><td>6</td><td>55291.166666666664</td><td>6</td><td>artist supply</td><td>18926.917288619916</td><td>2.0</td><td>(23,[2],[1.0])</td></tr>\n",
       "<tr><td>17</td><td>350.08667638343934</td><td>17</td><td>58553.117647058825</td><td>16</td><td>florists</td><td>52838.18504617855</td><td>6.0</td><td>(23,[6],[1.0])</td></tr>\n",
       "<tr><td>185</td><td>474.1675409676319</td><td>185</td><td>63441.41081081081</td><td>182</td><td>computer</td><td>494288.8601243659</td><td>0.0</td><td>(23,[0],[1.0])</td></tr>\n",
       "<tr><td>38</td><td>359.1108847340083</td><td>38</td><td>60029.76315789474</td><td>38</td><td>motor</td><td>88318.04454751335</td><td>17.0</td><td>(23,[17],[1.0])</td></tr>\n",
       "<tr><td>1</td><td>9734.857620793187</td><td>1</td><td>57015.0</td><td>1</td><td>motor</td><td>null</td><td>17.0</td><td>(23,[17],[1.0])</td></tr>\n",
       "<tr><td>405</td><td>37.94568323793217</td><td>413</td><td>64556.179176755446</td><td>366</td><td>gift</td><td>56043.0017308923</td><td>4.0</td><td>(23,[4],[1.0])</td></tr>\n",
       "<tr><td>22</td><td>464.0964976850653</td><td>22</td><td>60070.77272727273</td><td>22</td><td>artist supply</td><td>78474.65405470507</td><td>2.0</td><td>(23,[2],[1.0])</td></tr>\n",
       "<tr><td>629</td><td>449.0344083022495</td><td>635</td><td>63669.83464566929</td><td>587</td><td>artist supply</td><td>1206457.0200268542</td><td>2.0</td><td>(23,[2],[1.0])</td></tr>\n",
       "</table>\n",
       "only showing top 20 rows\n"
      ],
      "text/plain": [
       "+------------------+------------------+---------------------+------------------+------------------+-------------+------------------+--------+---------------+\n",
       "|total_num_consumer|  avg_dollar_value|total_num_transaction|       mean_income|total_num_postcode|          tag|next_total_revenue|tagIndex|         tagOHE|\n",
       "+------------------+------------------+---------------------+------------------+------------------+-------------+------------------+--------+---------------+\n",
       "|               808|209.02516040076958|                  823|62506.642770352366|               719|    furniture|  38940.2914088986|     5.0| (23,[5],[1.0])|\n",
       "|               731| 41.11965938159281|                  750|62693.954666666665|               642|        cable|154467.92091896126|     8.0| (23,[8],[1.0])|\n",
       "|                87|111.08408713922161|                   87|  61060.0459770115|                87|        watch|41683.211213258364|     9.0| (23,[9],[1.0])|\n",
       "|               107| 451.1432080236008|                  107|  65637.3831775701|               107|        music| 290071.0062352741|    11.0|(23,[11],[1.0])|\n",
       "|              2244| 39.20921658203575|                 2370| 62122.52278481013|              1619|         gift| 666766.4067054291|     4.0| (23,[4],[1.0])|\n",
       "|               218| 389.5552654520502|                  218|63146.619266055044|               211|     computer|378005.14673149673|     0.0| (23,[0],[1.0])|\n",
       "|              1238|114.10783402533234|                 1272|62006.311320754714|              1018|        watch|435003.67956298945|     9.0| (23,[9],[1.0])|\n",
       "|               130| 308.3515003987336|                  130| 63676.28461538462|               127|     computer| 273146.7707118801|     0.0| (23,[0],[1.0])|\n",
       "|              2475|128.98933167858436|                 2621|62792.286913391836|              1730|    furniture|2765582.9188776133|     5.0| (23,[5],[1.0])|\n",
       "|               238| 378.0169713940927|                  238|  61579.6512605042|               227|     computer| 654693.9778432944|     0.0| (23,[0],[1.0])|\n",
       "|                 5|1331.0255719326196|                    5|           61863.6|                 5|    equipment|              null|    19.0|(23,[19],[1.0])|\n",
       "|                 4| 276.0868936989199|                    4|          81123.75|                 4|        music| 19636.79081402693|    11.0|(23,[11],[1.0])|\n",
       "|                 6| 526.8134669489664|                    6|55291.166666666664|                 6|artist supply|18926.917288619916|     2.0| (23,[2],[1.0])|\n",
       "|                17|350.08667638343934|                   17|58553.117647058825|                16|     florists| 52838.18504617855|     6.0| (23,[6],[1.0])|\n",
       "|               185| 474.1675409676319|                  185| 63441.41081081081|               182|     computer| 494288.8601243659|     0.0| (23,[0],[1.0])|\n",
       "|                38| 359.1108847340083|                   38| 60029.76315789474|                38|        motor| 88318.04454751335|    17.0|(23,[17],[1.0])|\n",
       "|                 1| 9734.857620793187|                    1|           57015.0|                 1|        motor|              null|    17.0|(23,[17],[1.0])|\n",
       "|               405| 37.94568323793217|                  413|64556.179176755446|               366|         gift|  56043.0017308923|     4.0| (23,[4],[1.0])|\n",
       "|                22| 464.0964976850653|                   22| 60070.77272727273|                22|artist supply| 78474.65405470507|     2.0| (23,[2],[1.0])|\n",
       "|               629| 449.0344083022495|                  635| 63669.83464566929|               587|artist supply|1206457.0200268542|     2.0| (23,[2],[1.0])|\n",
       "+------------------+------------------+---------------------+------------------+------------------+-------------+------------------+--------+---------------+\n",
       "only showing top 20 rows"
      ]
     },
     "execution_count": 5,
     "metadata": {},
     "output_type": "execute_result"
    }
   ],
   "source": [
    "# change tags into numeric feature by one hot encoding\n",
    "indexer = StringIndexer(inputCol=\"tag\", outputCol=\"tagIndex\")\n",
    "revenue_df = indexer.fit(revenue_df).transform(revenue_df)\n",
    "ohe = OneHotEncoder(inputCol=\"tagIndex\", outputCol=\"tagOHE\")\n",
    "revenue_df = ohe.fit(revenue_df).transform(revenue_df)\n",
    "revenue_df"
   ]
  },
  {
   "cell_type": "code",
   "execution_count": 39,
   "metadata": {},
   "outputs": [
    {
     "name": "stdout",
     "output_type": "stream",
     "text": [
      "Correlation to next_total_revenue for  total_num_consumer 0.7410130770929829\n",
      "Correlation to next_total_revenue for  avg_dollar_value -0.09722654487146358\n",
      "Correlation to next_total_revenue for  total_num_transaction 0.6509065671273128\n",
      "Correlation to next_total_revenue for  mean_income 0.01470080484608678\n",
      "Correlation to next_total_revenue for  total_num_postcode 0.6656216278730818\n",
      "Correlation to next_total_revenue for  next_total_revenue 1.0\n",
      "Correlation to next_total_revenue for  tagIndex -0.10497611182613972\n"
     ]
    }
   ],
   "source": [
    "import six\n",
    "for i in revenue_df.columns[:-1]:\n",
    "    if not( isinstance(revenue_df.select(i).take(1)[0][0], six.string_types)):\n",
    "        print( \"Correlation to next_total_revenue for \", i, revenue_df.stat.corr('next_total_revenue',i))"
   ]
  },
  {
   "cell_type": "markdown",
   "metadata": {},
   "source": [
    "### Vectorization"
   ]
  },
  {
   "cell_type": "code",
   "execution_count": 15,
   "metadata": {},
   "outputs": [],
   "source": [
    "features = ['total_num_consumer', 'avg_dollar_value', 'total_num_transaction', 'mean_income', 'total_num_postcode', 'tagOHE']\n",
    "assembler = VectorAssembler(inputCols=features, outputCol='features')\n",
    "final_revenue_df = assembler.transform(revenue_df)\n",
    "final_revenue_df = final_revenue_df.select('features','next_total_revenue')"
   ]
  },
  {
   "cell_type": "markdown",
   "metadata": {},
   "source": [
    "### Model fitting"
   ]
  },
  {
   "cell_type": "code",
   "execution_count": 41,
   "metadata": {},
   "outputs": [],
   "source": [
    "# missing values will not be included\n",
    "train_df, test_df = (final_revenue_df.drop('tag', 'tagIndex').filter(F.col('next_total_revenue').isNotNull())).randomSplit([0.7, 0.3])"
   ]
  },
  {
   "cell_type": "markdown",
   "metadata": {},
   "source": [
    "#### Linear Regression"
   ]
  },
  {
   "cell_type": "code",
   "execution_count": 42,
   "metadata": {},
   "outputs": [
    {
     "data": {
      "text/plain": [
       "LinearRegressionModel: uid=LinearRegression_e58ea41e8061, numFeatures=28"
      ]
     },
     "execution_count": 42,
     "metadata": {},
     "output_type": "execute_result"
    }
   ],
   "source": [
    "lr = LinearRegression(labelCol='next_total_revenue', maxIter=10, regParam=0.3, elasticNetParam=0.8)\n",
    "fitted_model = lr.fit(train_df)\n",
    "fitted_model.setFeaturesCol(\"features\")\n",
    "fitted_model.setPredictionCol(\"prediction\")"
   ]
  },
  {
   "cell_type": "code",
   "execution_count": 43,
   "metadata": {},
   "outputs": [
    {
     "name": "stdout",
     "output_type": "stream",
     "text": [
      "Coefficients: [337.0818632492976,93.5595694197587,47.33005229916656,5.286080298065325,773.0387862316394,244795.76863320876,-592286.9249628787,338288.30635431036,153267.77835276004,-252818.12827613624,26109.22698751017,254563.31523117996,-325576.25250535883,-411139.1924490009,-295788.5817926422,57864.74180526618,290491.83717791596,325326.22211433906,254066.52256990917,321016.2885688578,217442.9822779286,-161928.2952368918,411919.3148507102,51499.64962162176,-105660.63831199217,-115772.91441051033,-81333.39855837173,-244234.93225291188]\n",
      "Intercept: -417760.2079404238\n"
     ]
    }
   ],
   "source": [
    "print(\"Coefficients: %s\" % str(fitted_model.coefficients))\n",
    "print(\"Intercept: %s\" % str(fitted_model.intercept))"
   ]
  },
  {
   "cell_type": "code",
   "execution_count": 44,
   "metadata": {},
   "outputs": [
    {
     "name": "stdout",
     "output_type": "stream",
     "text": [
      "numIterations: 10\n",
      "objectiveHistory: [0.5000000000000001, 0.44321933276509634, 0.27806217813371303, 0.23386401026686682, 0.22101246026480495, 0.21591106854388864, 0.2135995248588485, 0.21252502569687945, 0.2115934029517963, 0.2102398452611553, 0.21000704198004813]\n",
      "+-------------------+\n",
      "|          residuals|\n",
      "+-------------------+\n",
      "| -63451.67327323649|\n",
      "|-232839.85795768027|\n",
      "| -702187.3937950714|\n",
      "| -56465.27390157509|\n",
      "| -338471.6722439125|\n",
      "|  -795404.555093281|\n",
      "|-166298.30930010582|\n",
      "| -379216.0467488667|\n",
      "| -511161.2720112392|\n",
      "|-405708.03186332976|\n",
      "| -921228.9840909551|\n",
      "| -568622.2433716478|\n",
      "| -80100.48102615046|\n",
      "| -321696.5808669223|\n",
      "|-182054.49108906087|\n",
      "| -410413.4029315987|\n",
      "| -471974.2675065782|\n",
      "|-207761.85405386062|\n",
      "| -373892.8436053331|\n",
      "| 11105.614446272473|\n",
      "+-------------------+\n",
      "only showing top 20 rows\n",
      "\n",
      "RMSE: 1075375.730507\n",
      "r2: 0.579986\n"
     ]
    }
   ],
   "source": [
    "trainingSummary = fitted_model.summary\n",
    "print(\"numIterations: %d\" % trainingSummary.totalIterations)\n",
    "print(\"objectiveHistory: %s\" % str(trainingSummary.objectiveHistory))\n",
    "trainingSummary.residuals.show()\n",
    "print(\"RMSE: %f\" % trainingSummary.rootMeanSquaredError)\n",
    "print(\"r2: %f\" % trainingSummary.r2)"
   ]
  },
  {
   "cell_type": "code",
   "execution_count": 45,
   "metadata": {},
   "outputs": [
    {
     "name": "stdout",
     "output_type": "stream",
     "text": [
      "+-------+------------------+\n",
      "|summary|next_total_revenue|\n",
      "+-------+------------------+\n",
      "|  count|              2630|\n",
      "|   mean| 650925.0130153717|\n",
      "| stddev| 1659629.439120691|\n",
      "|    min| 79.84148408949656|\n",
      "|    max|1.92370744496674E7|\n",
      "+-------+------------------+\n",
      "\n"
     ]
    }
   ],
   "source": [
    "train_df.describe().show()"
   ]
  },
  {
   "cell_type": "markdown",
   "metadata": {},
   "source": [
    "##### Linear Regression Evaluation"
   ]
  },
  {
   "cell_type": "code",
   "execution_count": 46,
   "metadata": {},
   "outputs": [
    {
     "name": "stdout",
     "output_type": "stream",
     "text": [
      "+-------------------+------------------+--------------------+\n",
      "|         prediction|next_total_revenue|            features|\n",
      "+-------------------+------------------+--------------------+\n",
      "|-122672.43666569167| 700.0913339069108|(28,[0,1,2,3,4],[...|\n",
      "| 450677.85836874886|  814.625554790352|(28,[0,1,2,3,4],[...|\n",
      "|  627738.3668494793| 6330.006413055507|(28,[0,1,2,3,4],[...|\n",
      "|  233105.9482293317| 7714.789567461943|(28,[0,1,2,3,4],[...|\n",
      "| 388118.40433603484| 22746.73586888107|(28,[0,1,2,3,4],[...|\n",
      "+-------------------+------------------+--------------------+\n",
      "only showing top 5 rows\n",
      "\n",
      "R Squared (R2) on test data = 0.548233\n"
     ]
    }
   ],
   "source": [
    "lr_predictions = fitted_model.transform(test_df)\n",
    "lr_predictions.select(\"prediction\",\"next_total_revenue\",\"features\").show(5)\n",
    "lr_evaluator = RegressionEvaluator(predictionCol=\"prediction\", \\\n",
    "                 labelCol=\"next_total_revenue\",metricName=\"r2\")\n",
    "print(\"R Squared (R2) on test data = %g\" % lr_evaluator.evaluate(lr_predictions))"
   ]
  },
  {
   "cell_type": "markdown",
   "metadata": {},
   "source": [
    "#### Decission Tree"
   ]
  },
  {
   "cell_type": "markdown",
   "metadata": {},
   "source": []
  }
 ],
 "metadata": {
  "kernelspec": {
   "display_name": "Python 3.8.10 64-bit",
   "language": "python",
   "name": "python3"
  },
  "language_info": {
   "codemirror_mode": {
    "name": "ipython",
    "version": 3
   },
   "file_extension": ".py",
   "mimetype": "text/x-python",
   "name": "python",
   "nbconvert_exporter": "python",
   "pygments_lexer": "ipython3",
   "version": "3.8.10"
  },
  "orig_nbformat": 4,
  "vscode": {
   "interpreter": {
    "hash": "916dbcbb3f70747c44a77c7bcd40155683ae19c65e1c03b4aa3499c5328201f1"
   }
  }
 },
 "nbformat": 4,
 "nbformat_minor": 2
}
