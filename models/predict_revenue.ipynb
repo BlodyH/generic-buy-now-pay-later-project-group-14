{
 "cells": [
  {
   "cell_type": "markdown",
   "metadata": {},
   "source": [
    "# Prediction Model for BNPL Revenue"
   ]
  },
  {
   "cell_type": "code",
   "execution_count": 1,
   "metadata": {},
   "outputs": [],
   "source": [
    "from pyspark.sql import SparkSession\n",
    "from pyspark.sql import functions as F\n",
    "import pandas as pd\n",
    "\n",
    "from pyspark.ml.regression import LinearRegression\n",
    "from pyspark.ml.feature import StringIndexer\n",
    "from pyspark.ml.feature import OneHotEncoder\n",
    "from pyspark.ml.feature import VectorAssembler \n",
    "from pyspark.ml.evaluation import MulticlassClassificationEvaluator\n",
    "from pyspark.ml.evaluation import RegressionEvaluator\n",
    "from pyspark.sql.functions import *"
   ]
  },
  {
   "cell_type": "code",
   "execution_count": 2,
   "metadata": {},
   "outputs": [
    {
     "name": "stdout",
     "output_type": "stream",
     "text": [
      "22/09/26 11:31:56 WARN Utils: Your hostname, Luo resolves to a loopback address: 127.0.1.1; using 172.27.92.55 instead (on interface eth0)\n",
      "22/09/26 11:31:56 WARN Utils: Set SPARK_LOCAL_IP if you need to bind to another address\n"
     ]
    },
    {
     "name": "stderr",
     "output_type": "stream",
     "text": [
      "Setting default log level to \"WARN\".\n",
      "To adjust logging level use sc.setLogLevel(newLevel). For SparkR, use setLogLevel(newLevel).\n"
     ]
    },
    {
     "name": "stdout",
     "output_type": "stream",
     "text": [
      "22/09/26 11:31:58 WARN NativeCodeLoader: Unable to load native-hadoop library for your platform... using builtin-java classes where applicable\n"
     ]
    }
   ],
   "source": [
    "# Create a spark session (which will run spark jobs)\n",
    "spark = (\n",
    "    SparkSession.builder.appName(\"MAST30034 Project 2\")\n",
    "    .config(\"spark.sql.repl.eagerEval.enabled\", True) \n",
    "    .config(\"spark.sql.parquet.cacheMetadata\", \"true\")\n",
    "    .config(\"spark.sql.session.timeZone\", \"Etc/UTC\")\n",
    "    .config(\"spark.driver.memory\", \"2g\")\n",
    "    .config(\"spark.executer.memory\", \"4g\")\n",
    "    .getOrCreate()\n",
    ")"
   ]
  },
  {
   "cell_type": "markdown",
   "metadata": {},
   "source": [
    "## Data Preprocessing"
   ]
  },
  {
   "cell_type": "code",
   "execution_count": 3,
   "metadata": {},
   "outputs": [
    {
     "name": "stderr",
     "output_type": "stream",
     "text": [
      "                                                                                \r"
     ]
    },
    {
     "name": "stdout",
     "output_type": "stream",
     "text": [
      "root\n",
      " |-- merchant_abn: long (nullable = true)\n",
      " |-- total_num_consumer: long (nullable = true)\n",
      " |-- avg_dollar_value: double (nullable = true)\n",
      " |-- total_num_transaction: long (nullable = true)\n",
      " |-- mean_income: double (nullable = true)\n",
      " |-- revenue_level: string (nullable = true)\n",
      " |-- total_revenue: double (nullable = true)\n",
      " |-- total_num_postcode: long (nullable = true)\n",
      " |-- tag: string (nullable = true)\n",
      " |-- next_total_num_consumer: long (nullable = true)\n",
      " |-- next_total_revenue: double (nullable = true)\n",
      " |-- next_total_num_transaction: long (nullable = true)\n",
      "\n"
     ]
    }
   ],
   "source": [
    "full = spark.read.parquet('../data/curated/train_data/')\n",
    "full = full.withColumnRenamed('y_total_num_consumer', 'next_total_num_consumer').withColumnRenamed('y_total_revenue', 'next_total_revenue')\\\n",
    "    .withColumnRenamed('y_total_num_transaction', 'next_total_num_transaction')\n",
    "full.printSchema()"
   ]
  },
  {
   "cell_type": "markdown",
   "metadata": {},
   "source": [
    "### Clustering"
   ]
  },
  {
   "cell_type": "code",
   "execution_count": 4,
   "metadata": {},
   "outputs": [],
   "source": [
    "tag_mean = full.groupBy('tag')\\\n",
    "      .agg(\n",
    "         F.mean(\"total_revenue\").alias(\"mean_revenue_of_tags\")\n",
    "      )"
   ]
  },
  {
   "cell_type": "code",
   "execution_count": 5,
   "metadata": {},
   "outputs": [],
   "source": [
    "tag_mean = tag_mean.toPandas()"
   ]
  },
  {
   "cell_type": "code",
   "execution_count": 6,
   "metadata": {},
   "outputs": [
    {
     "data": {
      "text/plain": [
       "array([2, 0, 0, 1, 2, 0, 3, 0, 1, 1, 0, 1, 0, 0, 0, 1, 0, 2, 2, 1, 1, 2,\n",
       "       1, 0], dtype=int32)"
      ]
     },
     "execution_count": 6,
     "metadata": {},
     "output_type": "execute_result"
    }
   ],
   "source": [
    "from sklearn.cluster import KMeans\n",
    "import numpy as np\n",
    "\n",
    "kmeans = KMeans(n_clusters=4, random_state=0).fit(np.array(tag_mean['mean_revenue_of_tags']).reshape(-1, 1))\n",
    "kmeans.labels_"
   ]
  },
  {
   "cell_type": "code",
   "execution_count": 7,
   "metadata": {},
   "outputs": [
    {
     "data": {
      "text/html": [
       "<div>\n",
       "<style scoped>\n",
       "    .dataframe tbody tr th:only-of-type {\n",
       "        vertical-align: middle;\n",
       "    }\n",
       "\n",
       "    .dataframe tbody tr th {\n",
       "        vertical-align: top;\n",
       "    }\n",
       "\n",
       "    .dataframe thead th {\n",
       "        text-align: right;\n",
       "    }\n",
       "</style>\n",
       "<table border=\"1\" class=\"dataframe\">\n",
       "  <thead>\n",
       "    <tr style=\"text-align: right;\">\n",
       "      <th></th>\n",
       "      <th>tag</th>\n",
       "      <th>mean_revenue_of_tags</th>\n",
       "      <th>tag_labels</th>\n",
       "    </tr>\n",
       "  </thead>\n",
       "  <tbody>\n",
       "    <tr>\n",
       "      <th>0</th>\n",
       "      <td>jewelry</td>\n",
       "      <td>301542.063851</td>\n",
       "      <td>2</td>\n",
       "    </tr>\n",
       "    <tr>\n",
       "      <th>1</th>\n",
       "      <td>watch</td>\n",
       "      <td>565603.630545</td>\n",
       "      <td>0</td>\n",
       "    </tr>\n",
       "    <tr>\n",
       "      <th>2</th>\n",
       "      <td>cable</td>\n",
       "      <td>545919.891131</td>\n",
       "      <td>0</td>\n",
       "    </tr>\n",
       "    <tr>\n",
       "      <th>3</th>\n",
       "      <td>garden supply</td>\n",
       "      <td>732549.584612</td>\n",
       "      <td>1</td>\n",
       "    </tr>\n",
       "    <tr>\n",
       "      <th>4</th>\n",
       "      <td>antique</td>\n",
       "      <td>431668.237726</td>\n",
       "      <td>2</td>\n",
       "    </tr>\n",
       "    <tr>\n",
       "      <th>5</th>\n",
       "      <td>shoe</td>\n",
       "      <td>534436.300789</td>\n",
       "      <td>0</td>\n",
       "    </tr>\n",
       "    <tr>\n",
       "      <th>6</th>\n",
       "      <td>tent</td>\n",
       "      <td>995172.851759</td>\n",
       "      <td>3</td>\n",
       "    </tr>\n",
       "    <tr>\n",
       "      <th>7</th>\n",
       "      <td>stationery</td>\n",
       "      <td>518011.067448</td>\n",
       "      <td>0</td>\n",
       "    </tr>\n",
       "    <tr>\n",
       "      <th>8</th>\n",
       "      <td>artist supply</td>\n",
       "      <td>719151.356147</td>\n",
       "      <td>1</td>\n",
       "    </tr>\n",
       "    <tr>\n",
       "      <th>9</th>\n",
       "      <td>florists</td>\n",
       "      <td>637021.720045</td>\n",
       "      <td>1</td>\n",
       "    </tr>\n",
       "    <tr>\n",
       "      <th>10</th>\n",
       "      <td>music</td>\n",
       "      <td>604916.476771</td>\n",
       "      <td>0</td>\n",
       "    </tr>\n",
       "    <tr>\n",
       "      <th>11</th>\n",
       "      <td>books</td>\n",
       "      <td>648058.902802</td>\n",
       "      <td>1</td>\n",
       "    </tr>\n",
       "    <tr>\n",
       "      <th>12</th>\n",
       "      <td>digital goods</td>\n",
       "      <td>547050.022799</td>\n",
       "      <td>0</td>\n",
       "    </tr>\n",
       "    <tr>\n",
       "      <th>13</th>\n",
       "      <td>hobby</td>\n",
       "      <td>514196.193274</td>\n",
       "      <td>0</td>\n",
       "    </tr>\n",
       "    <tr>\n",
       "      <th>14</th>\n",
       "      <td>health</td>\n",
       "      <td>479600.785451</td>\n",
       "      <td>0</td>\n",
       "    </tr>\n",
       "    <tr>\n",
       "      <th>15</th>\n",
       "      <td>furniture</td>\n",
       "      <td>687803.953816</td>\n",
       "      <td>1</td>\n",
       "    </tr>\n",
       "    <tr>\n",
       "      <th>16</th>\n",
       "      <td>opticians</td>\n",
       "      <td>558157.542033</td>\n",
       "      <td>0</td>\n",
       "    </tr>\n",
       "    <tr>\n",
       "      <th>17</th>\n",
       "      <td>art dealer</td>\n",
       "      <td>353491.556407</td>\n",
       "      <td>2</td>\n",
       "    </tr>\n",
       "    <tr>\n",
       "      <th>18</th>\n",
       "      <td>telecom</td>\n",
       "      <td>403231.625275</td>\n",
       "      <td>2</td>\n",
       "    </tr>\n",
       "    <tr>\n",
       "      <th>19</th>\n",
       "      <td>motor</td>\n",
       "      <td>817703.564773</td>\n",
       "      <td>1</td>\n",
       "    </tr>\n",
       "    <tr>\n",
       "      <th>20</th>\n",
       "      <td>computer</td>\n",
       "      <td>666917.519721</td>\n",
       "      <td>1</td>\n",
       "    </tr>\n",
       "    <tr>\n",
       "      <th>21</th>\n",
       "      <td>equipment</td>\n",
       "      <td>290041.611393</td>\n",
       "      <td>2</td>\n",
       "    </tr>\n",
       "    <tr>\n",
       "      <th>22</th>\n",
       "      <td>gift</td>\n",
       "      <td>756330.804304</td>\n",
       "      <td>1</td>\n",
       "    </tr>\n",
       "    <tr>\n",
       "      <th>23</th>\n",
       "      <td>bicycle</td>\n",
       "      <td>514276.636252</td>\n",
       "      <td>0</td>\n",
       "    </tr>\n",
       "  </tbody>\n",
       "</table>\n",
       "</div>"
      ],
      "text/plain": [
       "              tag  mean_revenue_of_tags  tag_labels\n",
       "0         jewelry         301542.063851           2\n",
       "1           watch         565603.630545           0\n",
       "2           cable         545919.891131           0\n",
       "3   garden supply         732549.584612           1\n",
       "4         antique         431668.237726           2\n",
       "5            shoe         534436.300789           0\n",
       "6            tent         995172.851759           3\n",
       "7      stationery         518011.067448           0\n",
       "8   artist supply         719151.356147           1\n",
       "9        florists         637021.720045           1\n",
       "10          music         604916.476771           0\n",
       "11          books         648058.902802           1\n",
       "12  digital goods         547050.022799           0\n",
       "13          hobby         514196.193274           0\n",
       "14         health         479600.785451           0\n",
       "15      furniture         687803.953816           1\n",
       "16      opticians         558157.542033           0\n",
       "17     art dealer         353491.556407           2\n",
       "18        telecom         403231.625275           2\n",
       "19          motor         817703.564773           1\n",
       "20       computer         666917.519721           1\n",
       "21      equipment         290041.611393           2\n",
       "22           gift         756330.804304           1\n",
       "23        bicycle         514276.636252           0"
      ]
     },
     "execution_count": 7,
     "metadata": {},
     "output_type": "execute_result"
    }
   ],
   "source": [
    "tag_mean['tag_labels'] = kmeans.labels_\n",
    "tag_mean"
   ]
  },
  {
   "cell_type": "code",
   "execution_count": 8,
   "metadata": {},
   "outputs": [
    {
     "data": {
      "text/html": [
       "<table border='1'>\n",
       "<tr><th>tag</th><th>tag_labels</th></tr>\n",
       "<tr><td>jewelry</td><td>2</td></tr>\n",
       "<tr><td>watch</td><td>0</td></tr>\n",
       "<tr><td>cable</td><td>0</td></tr>\n",
       "<tr><td>garden supply</td><td>1</td></tr>\n",
       "<tr><td>antique</td><td>2</td></tr>\n",
       "<tr><td>shoe</td><td>0</td></tr>\n",
       "<tr><td>tent</td><td>3</td></tr>\n",
       "<tr><td>stationery</td><td>0</td></tr>\n",
       "<tr><td>artist supply</td><td>1</td></tr>\n",
       "<tr><td>florists</td><td>1</td></tr>\n",
       "<tr><td>music</td><td>0</td></tr>\n",
       "<tr><td>books</td><td>1</td></tr>\n",
       "<tr><td>digital goods</td><td>0</td></tr>\n",
       "<tr><td>hobby</td><td>0</td></tr>\n",
       "<tr><td>health</td><td>0</td></tr>\n",
       "<tr><td>furniture</td><td>1</td></tr>\n",
       "<tr><td>opticians</td><td>0</td></tr>\n",
       "<tr><td>art dealer</td><td>2</td></tr>\n",
       "<tr><td>telecom</td><td>2</td></tr>\n",
       "<tr><td>motor</td><td>1</td></tr>\n",
       "</table>\n",
       "only showing top 20 rows\n"
      ],
      "text/plain": [
       "+-------------+----------+\n",
       "|          tag|tag_labels|\n",
       "+-------------+----------+\n",
       "|      jewelry|         2|\n",
       "|        watch|         0|\n",
       "|        cable|         0|\n",
       "|garden supply|         1|\n",
       "|      antique|         2|\n",
       "|         shoe|         0|\n",
       "|         tent|         3|\n",
       "|   stationery|         0|\n",
       "|artist supply|         1|\n",
       "|     florists|         1|\n",
       "|        music|         0|\n",
       "|        books|         1|\n",
       "|digital goods|         0|\n",
       "|        hobby|         0|\n",
       "|       health|         0|\n",
       "|    furniture|         1|\n",
       "|    opticians|         0|\n",
       "|   art dealer|         2|\n",
       "|      telecom|         2|\n",
       "|        motor|         1|\n",
       "+-------------+----------+\n",
       "only showing top 20 rows"
      ]
     },
     "execution_count": 8,
     "metadata": {},
     "output_type": "execute_result"
    }
   ],
   "source": [
    "tag_mean_sdf = spark.createDataFrame(tag_mean[['tag', 'tag_labels']])\n",
    "tag_mean_sdf"
   ]
  },
  {
   "cell_type": "code",
   "execution_count": 9,
   "metadata": {},
   "outputs": [
    {
     "data": {
      "text/html": [
       "<table border='1'>\n",
       "<tr><th>tag</th><th>merchant_abn</th><th>total_num_consumer</th><th>avg_dollar_value</th><th>total_num_transaction</th><th>mean_income</th><th>revenue_level</th><th>total_revenue</th><th>total_num_postcode</th><th>next_total_num_consumer</th><th>next_total_revenue</th><th>next_total_num_transaction</th><th>tag_labels</th></tr>\n",
       "<tr><td>jewelry</td><td>10596295795</td><td>8</td><td>10439.40181102842</td><td>8</td><td>61840.875</td><td>a</td><td>571244.0798428855</td><td>8</td><td>null</td><td>null</td><td>null</td><td>2</td></tr>\n",
       "<tr><td>watch</td><td>10187291046</td><td>87</td><td>111.08408713922158</td><td>87</td><td>61060.0459770115</td><td>b</td><td>31795.597893195016</td><td>87</td><td>99</td><td>41683.211213258364</td><td>100</td><td>0</td></tr>\n",
       "<tr><td>watch</td><td>10264435225</td><td>1238</td><td>114.10783402533235</td><td>1272</td><td>62006.311320754714</td><td>c</td><td>346896.9592900661</td><td>1018</td><td>1519</td><td>435003.6795629895</td><td>1566</td><td>0</td></tr>\n",
       "<tr><td>watch</td><td>10922217544</td><td>18</td><td>163.5626661571798</td><td>18</td><td>63804.22222222222</td><td>c</td><td>4946.134870167458</td><td>18</td><td>19</td><td>5880.61894060871</td><td>19</td><td>0</td></tr>\n",
       "<tr><td>shoe</td><td>10955677986</td><td>196</td><td>224.31663343377568</td><td>197</td><td>62081.20304568528</td><td>a</td><td>249233.71917554762</td><td>191</td><td>232</td><td>311007.83981679846</td><td>235</td><td>0</td></tr>\n",
       "<tr><td>tent</td><td>10651113986</td><td>17</td><td>537.592173774402</td><td>17</td><td>57981.94117647059</td><td>b</td><td>29701.967601035707</td><td>17</td><td>24</td><td>40997.390332967654</td><td>24</td><td>3</td></tr>\n",
       "<tr><td>stationery</td><td>10618089367</td><td>903</td><td>382.6779937277748</td><td>919</td><td>63214.549510337325</td><td>b</td><td>1410241.1961990686</td><td>783</td><td>994</td><td>1427868.1901742313</td><td>1011</td><td>0</td></tr>\n",
       "<tr><td>artist supply</td><td>10463252268</td><td>22</td><td>464.0964976850653</td><td>22</td><td>60070.77272727273</td><td>a</td><td>67488.91405656068</td><td>22</td><td>26</td><td>78474.65405470507</td><td>26</td><td>1</td></tr>\n",
       "<tr><td>florists</td><td>10545955006</td><td>108</td><td>475.27264003873785</td><td>108</td><td>63127.56481481482</td><td>a</td><td>316189.37413271976</td><td>106</td><td>133</td><td>359500.80479674053</td><td>133</td><td>1</td></tr>\n",
       "<tr><td>music</td><td>10364012396</td><td>4</td><td>276.08689369891994</td><td>4</td><td>81123.75</td><td>b</td><td>4008.7818228908673</td><td>4</td><td>16</td><td>19636.790814026932</td><td>16</td><td>0</td></tr>\n",
       "<tr><td>music</td><td>10746056613</td><td>67</td><td>75.14601085402924</td><td>67</td><td>65987.23880597015</td><td>a</td><td>34035.13238837724</td><td>67</td><td>72</td><td>35978.902452039714</td><td>72</td><td>0</td></tr>\n",
       "<tr><td>books</td><td>10530696903</td><td>174</td><td>429.6262128784364</td><td>175</td><td>61263.58857142857</td><td>a</td><td>485692.4365271367</td><td>167</td><td>225</td><td>599049.1086622305</td><td>225</td><td>1</td></tr>\n",
       "<tr><td>art dealer</td><td>10739268011</td><td>1</td><td>5275.474679026834</td><td>1</td><td>57933.0</td><td>a</td><td>32971.716743917714</td><td>1</td><td>null</td><td>null</td><td>null</td><td>2</td></tr>\n",
       "<tr><td>motor</td><td>10430380319</td><td>38</td><td>359.1108847340083</td><td>38</td><td>60029.76315789474</td><td>b</td><td>67821.67882777525</td><td>38</td><td>53</td><td>88318.04454751333</td><td>53</td><td>1</td></tr>\n",
       "<tr><td>motor</td><td>10441711491</td><td>1</td><td>9734.857620793187</td><td>1</td><td>57015.0</td><td>a</td><td>56170.12828629902</td><td>1</td><td>null</td><td>null</td><td>null</td><td>1</td></tr>\n",
       "<tr><td>computer</td><td>10255988167</td><td>218</td><td>389.5552654520502</td><td>218</td><td>63146.619266055044</td><td>b</td><td>366867.5813701302</td><td>211</td><td>235</td><td>378005.1467314967</td><td>236</td><td>1</td></tr>\n",
       "<tr><td>computer</td><td>10385250025</td><td>185</td><td>474.1675409676319</td><td>185</td><td>63441.41081081081</td><td>a</td><td>485974.30939143547</td><td>182</td><td>190</td><td>494288.86012436583</td><td>191</td><td>1</td></tr>\n",
       "<tr><td>computer</td><td>10854978569</td><td>17</td><td>286.9896314419789</td><td>17</td><td>68877.11764705883</td><td>b</td><td>20637.424490048885</td><td>17</td><td>28</td><td>32046.023857037744</td><td>28</td><td>1</td></tr>\n",
       "<tr><td>gift</td><td>10462560289</td><td>405</td><td>37.94568323793217</td><td>413</td><td>64556.179176755446</td><td>c</td><td>46231.12392021321</td><td>366</td><td>513</td><td>56043.0017308923</td><td>519</td><td>1</td></tr>\n",
       "<tr><td>gift</td><td>10702078694</td><td>118</td><td>84.5264917722531</td><td>118</td><td>66654.94067796611</td><td>a</td><td>59346.04797088534</td><td>117</td><td>126</td><td>75419.01577529583</td><td>127</td><td>1</td></tr>\n",
       "</table>\n",
       "only showing top 20 rows\n"
      ],
      "text/plain": [
       "+-------------+------------+------------------+------------------+---------------------+------------------+-------------+------------------+------------------+-----------------------+------------------+--------------------------+----------+\n",
       "|          tag|merchant_abn|total_num_consumer|  avg_dollar_value|total_num_transaction|       mean_income|revenue_level|     total_revenue|total_num_postcode|next_total_num_consumer|next_total_revenue|next_total_num_transaction|tag_labels|\n",
       "+-------------+------------+------------------+------------------+---------------------+------------------+-------------+------------------+------------------+-----------------------+------------------+--------------------------+----------+\n",
       "|      jewelry| 10596295795|                 8| 10439.40181102842|                    8|         61840.875|            a| 571244.0798428855|                 8|                   null|              null|                      null|         2|\n",
       "|        watch| 10187291046|                87|111.08408713922158|                   87|  61060.0459770115|            b|31795.597893195016|                87|                     99|41683.211213258364|                       100|         0|\n",
       "|        watch| 10264435225|              1238|114.10783402533235|                 1272|62006.311320754714|            c| 346896.9592900661|              1018|                   1519| 435003.6795629895|                      1566|         0|\n",
       "|        watch| 10922217544|                18| 163.5626661571798|                   18| 63804.22222222222|            c| 4946.134870167458|                18|                     19|  5880.61894060871|                        19|         0|\n",
       "|         shoe| 10955677986|               196|224.31663343377568|                  197| 62081.20304568528|            a|249233.71917554762|               191|                    232|311007.83981679846|                       235|         0|\n",
       "|         tent| 10651113986|                17|  537.592173774402|                   17| 57981.94117647059|            b|29701.967601035707|                17|                     24|40997.390332967654|                        24|         3|\n",
       "|   stationery| 10618089367|               903| 382.6779937277748|                  919|63214.549510337325|            b|1410241.1961990686|               783|                    994|1427868.1901742313|                      1011|         0|\n",
       "|artist supply| 10463252268|                22| 464.0964976850653|                   22| 60070.77272727273|            a| 67488.91405656068|                22|                     26| 78474.65405470507|                        26|         1|\n",
       "|     florists| 10545955006|               108|475.27264003873785|                  108| 63127.56481481482|            a|316189.37413271976|               106|                    133|359500.80479674053|                       133|         1|\n",
       "|        music| 10364012396|                 4|276.08689369891994|                    4|          81123.75|            b|4008.7818228908673|                 4|                     16|19636.790814026932|                        16|         0|\n",
       "|        music| 10746056613|                67| 75.14601085402924|                   67| 65987.23880597015|            a| 34035.13238837724|                67|                     72|35978.902452039714|                        72|         0|\n",
       "|        books| 10530696903|               174| 429.6262128784364|                  175| 61263.58857142857|            a| 485692.4365271367|               167|                    225| 599049.1086622305|                       225|         1|\n",
       "|   art dealer| 10739268011|                 1| 5275.474679026834|                    1|           57933.0|            a|32971.716743917714|                 1|                   null|              null|                      null|         2|\n",
       "|        motor| 10430380319|                38| 359.1108847340083|                   38| 60029.76315789474|            b| 67821.67882777525|                38|                     53| 88318.04454751333|                        53|         1|\n",
       "|        motor| 10441711491|                 1| 9734.857620793187|                    1|           57015.0|            a| 56170.12828629902|                 1|                   null|              null|                      null|         1|\n",
       "|     computer| 10255988167|               218| 389.5552654520502|                  218|63146.619266055044|            b| 366867.5813701302|               211|                    235| 378005.1467314967|                       236|         1|\n",
       "|     computer| 10385250025|               185| 474.1675409676319|                  185| 63441.41081081081|            a|485974.30939143547|               182|                    190|494288.86012436583|                       191|         1|\n",
       "|     computer| 10854978569|                17| 286.9896314419789|                   17| 68877.11764705883|            b|20637.424490048885|                17|                     28|32046.023857037744|                        28|         1|\n",
       "|         gift| 10462560289|               405| 37.94568323793217|                  413|64556.179176755446|            c| 46231.12392021321|               366|                    513|  56043.0017308923|                       519|         1|\n",
       "|         gift| 10702078694|               118|  84.5264917722531|                  118| 66654.94067796611|            a| 59346.04797088534|               117|                    126| 75419.01577529583|                       127|         1|\n",
       "+-------------+------------+------------------+------------------+---------------------+------------------+-------------+------------------+------------------+-----------------------+------------------+--------------------------+----------+\n",
       "only showing top 20 rows"
      ]
     },
     "execution_count": 9,
     "metadata": {},
     "output_type": "execute_result"
    }
   ],
   "source": [
    "full = full.join(tag_mean_sdf, [\"tag\"], how=\"left\") \n",
    "# use left join here since if no historical data is provided, we cannot predict the future value of a merchant\n",
    "full"
   ]
  },
  {
   "cell_type": "markdown",
   "metadata": {},
   "source": [
    "## Model for BNPL Revenue\n",
    "Features:\n",
    "    total number of consumer, average dollar value, total number of transaction, mean income, total number of postcode, tags\n",
    "\n",
    "label:\n",
    "    next year revenue"
   ]
  },
  {
   "cell_type": "code",
   "execution_count": 10,
   "metadata": {},
   "outputs": [
    {
     "data": {
      "text/html": [
       "<table border='1'>\n",
       "<tr><th>tag</th><th>total_num_consumer</th><th>avg_dollar_value</th><th>total_num_transaction</th><th>mean_income</th><th>total_num_postcode</th><th>next_total_revenue</th><th>tag_labels</th></tr>\n",
       "<tr><td>jewelry</td><td>8</td><td>10439.40181102842</td><td>8</td><td>61840.875</td><td>8</td><td>null</td><td>2</td></tr>\n",
       "<tr><td>watch</td><td>87</td><td>111.08408713922158</td><td>87</td><td>61060.0459770115</td><td>87</td><td>41683.211213258364</td><td>0</td></tr>\n",
       "<tr><td>watch</td><td>1238</td><td>114.10783402533235</td><td>1272</td><td>62006.311320754714</td><td>1018</td><td>435003.6795629895</td><td>0</td></tr>\n",
       "<tr><td>watch</td><td>18</td><td>163.5626661571798</td><td>18</td><td>63804.22222222222</td><td>18</td><td>5880.61894060871</td><td>0</td></tr>\n",
       "<tr><td>shoe</td><td>196</td><td>224.31663343377568</td><td>197</td><td>62081.20304568528</td><td>191</td><td>311007.83981679846</td><td>0</td></tr>\n",
       "<tr><td>tent</td><td>17</td><td>537.592173774402</td><td>17</td><td>57981.94117647059</td><td>17</td><td>40997.390332967654</td><td>3</td></tr>\n",
       "<tr><td>stationery</td><td>903</td><td>382.6779937277748</td><td>919</td><td>63214.549510337325</td><td>783</td><td>1427868.1901742313</td><td>0</td></tr>\n",
       "<tr><td>artist supply</td><td>22</td><td>464.0964976850653</td><td>22</td><td>60070.77272727273</td><td>22</td><td>78474.65405470507</td><td>1</td></tr>\n",
       "<tr><td>florists</td><td>108</td><td>475.27264003873785</td><td>108</td><td>63127.56481481482</td><td>106</td><td>359500.80479674053</td><td>1</td></tr>\n",
       "<tr><td>music</td><td>4</td><td>276.08689369891994</td><td>4</td><td>81123.75</td><td>4</td><td>19636.790814026932</td><td>0</td></tr>\n",
       "<tr><td>music</td><td>67</td><td>75.14601085402924</td><td>67</td><td>65987.23880597015</td><td>67</td><td>35978.902452039714</td><td>0</td></tr>\n",
       "<tr><td>books</td><td>174</td><td>429.6262128784364</td><td>175</td><td>61263.58857142857</td><td>167</td><td>599049.1086622305</td><td>1</td></tr>\n",
       "<tr><td>art dealer</td><td>1</td><td>5275.474679026834</td><td>1</td><td>57933.0</td><td>1</td><td>null</td><td>2</td></tr>\n",
       "<tr><td>motor</td><td>38</td><td>359.1108847340083</td><td>38</td><td>60029.76315789474</td><td>38</td><td>88318.04454751333</td><td>1</td></tr>\n",
       "<tr><td>motor</td><td>1</td><td>9734.857620793187</td><td>1</td><td>57015.0</td><td>1</td><td>null</td><td>1</td></tr>\n",
       "<tr><td>computer</td><td>218</td><td>389.5552654520502</td><td>218</td><td>63146.619266055044</td><td>211</td><td>378005.1467314967</td><td>1</td></tr>\n",
       "<tr><td>computer</td><td>185</td><td>474.1675409676319</td><td>185</td><td>63441.41081081081</td><td>182</td><td>494288.86012436583</td><td>1</td></tr>\n",
       "<tr><td>computer</td><td>17</td><td>286.9896314419789</td><td>17</td><td>68877.11764705883</td><td>17</td><td>32046.023857037744</td><td>1</td></tr>\n",
       "<tr><td>gift</td><td>405</td><td>37.94568323793217</td><td>413</td><td>64556.179176755446</td><td>366</td><td>56043.0017308923</td><td>1</td></tr>\n",
       "<tr><td>gift</td><td>118</td><td>84.5264917722531</td><td>118</td><td>66654.94067796611</td><td>117</td><td>75419.01577529583</td><td>1</td></tr>\n",
       "</table>\n",
       "only showing top 20 rows\n"
      ],
      "text/plain": [
       "+-------------+------------------+------------------+---------------------+------------------+------------------+------------------+----------+\n",
       "|          tag|total_num_consumer|  avg_dollar_value|total_num_transaction|       mean_income|total_num_postcode|next_total_revenue|tag_labels|\n",
       "+-------------+------------------+------------------+---------------------+------------------+------------------+------------------+----------+\n",
       "|      jewelry|                 8| 10439.40181102842|                    8|         61840.875|                 8|              null|         2|\n",
       "|        watch|                87|111.08408713922158|                   87|  61060.0459770115|                87|41683.211213258364|         0|\n",
       "|        watch|              1238|114.10783402533235|                 1272|62006.311320754714|              1018| 435003.6795629895|         0|\n",
       "|        watch|                18| 163.5626661571798|                   18| 63804.22222222222|                18|  5880.61894060871|         0|\n",
       "|         shoe|               196|224.31663343377568|                  197| 62081.20304568528|               191|311007.83981679846|         0|\n",
       "|         tent|                17|  537.592173774402|                   17| 57981.94117647059|                17|40997.390332967654|         3|\n",
       "|   stationery|               903| 382.6779937277748|                  919|63214.549510337325|               783|1427868.1901742313|         0|\n",
       "|artist supply|                22| 464.0964976850653|                   22| 60070.77272727273|                22| 78474.65405470507|         1|\n",
       "|     florists|               108|475.27264003873785|                  108| 63127.56481481482|               106|359500.80479674053|         1|\n",
       "|        music|                 4|276.08689369891994|                    4|          81123.75|                 4|19636.790814026932|         0|\n",
       "|        music|                67| 75.14601085402924|                   67| 65987.23880597015|                67|35978.902452039714|         0|\n",
       "|        books|               174| 429.6262128784364|                  175| 61263.58857142857|               167| 599049.1086622305|         1|\n",
       "|   art dealer|                 1| 5275.474679026834|                    1|           57933.0|                 1|              null|         2|\n",
       "|        motor|                38| 359.1108847340083|                   38| 60029.76315789474|                38| 88318.04454751333|         1|\n",
       "|        motor|                 1| 9734.857620793187|                    1|           57015.0|                 1|              null|         1|\n",
       "|     computer|               218| 389.5552654520502|                  218|63146.619266055044|               211| 378005.1467314967|         1|\n",
       "|     computer|               185| 474.1675409676319|                  185| 63441.41081081081|               182|494288.86012436583|         1|\n",
       "|     computer|                17| 286.9896314419789|                   17| 68877.11764705883|                17|32046.023857037744|         1|\n",
       "|         gift|               405| 37.94568323793217|                  413|64556.179176755446|               366|  56043.0017308923|         1|\n",
       "|         gift|               118|  84.5264917722531|                  118| 66654.94067796611|               117| 75419.01577529583|         1|\n",
       "+-------------+------------------+------------------+---------------------+------------------+------------------+------------------+----------+\n",
       "only showing top 20 rows"
      ]
     },
     "execution_count": 10,
     "metadata": {},
     "output_type": "execute_result"
    }
   ],
   "source": [
    "# drop the columns not needed\n",
    "revenue_df = full.drop('merchant_abn', 'revenue_level', 'total_revenue', 'next_total_num_consumer', 'next_total_num_transaction')\n",
    "revenue_df"
   ]
  },
  {
   "cell_type": "markdown",
   "metadata": {},
   "source": [
    "### Indexing and One-hot Encoding"
   ]
  },
  {
   "cell_type": "code",
   "execution_count": 11,
   "metadata": {},
   "outputs": [
    {
     "data": {
      "text/html": [
       "<table border='1'>\n",
       "<tr><th>tag</th><th>total_num_consumer</th><th>avg_dollar_value</th><th>total_num_transaction</th><th>mean_income</th><th>total_num_postcode</th><th>next_total_revenue</th><th>tag_labels</th><th>tagIndex</th><th>tagOHE</th></tr>\n",
       "<tr><td>jewelry</td><td>8</td><td>10439.40181102842</td><td>8</td><td>61840.875</td><td>8</td><td>null</td><td>2</td><td>23.0</td><td>(23,[],[])</td></tr>\n",
       "<tr><td>jewelry</td><td>1</td><td>6987.246435378608</td><td>1</td><td>48235.0</td><td>1</td><td>null</td><td>2</td><td>23.0</td><td>(23,[],[])</td></tr>\n",
       "<tr><td>jewelry</td><td>2</td><td>1396.3251261623384</td><td>2</td><td>54250.5</td><td>2</td><td>null</td><td>2</td><td>23.0</td><td>(23,[],[])</td></tr>\n",
       "<tr><td>jewelry</td><td>1</td><td>4798.332815388768</td><td>1</td><td>80991.0</td><td>1</td><td>null</td><td>2</td><td>23.0</td><td>(23,[],[])</td></tr>\n",
       "<tr><td>jewelry</td><td>33</td><td>9848.725593936158</td><td>33</td><td>60891.90909090909</td><td>33</td><td>6996.210950909105</td><td>2</td><td>23.0</td><td>(23,[],[])</td></tr>\n",
       "<tr><td>jewelry</td><td>29</td><td>14897.926207832394</td><td>29</td><td>62719.724137931036</td><td>28</td><td>null</td><td>2</td><td>23.0</td><td>(23,[],[])</td></tr>\n",
       "<tr><td>jewelry</td><td>3</td><td>3622.5670910222148</td><td>3</td><td>66842.66666666667</td><td>3</td><td>5551.664760915629</td><td>2</td><td>23.0</td><td>(23,[],[])</td></tr>\n",
       "<tr><td>jewelry</td><td>1</td><td>19486.763586439236</td><td>1</td><td>70738.0</td><td>1</td><td>null</td><td>2</td><td>23.0</td><td>(23,[],[])</td></tr>\n",
       "<tr><td>jewelry</td><td>5</td><td>4844.117193121709</td><td>5</td><td>64499.4</td><td>5</td><td>2973.525203961843</td><td>2</td><td>23.0</td><td>(23,[],[])</td></tr>\n",
       "<tr><td>jewelry</td><td>3</td><td>15354.649596808333</td><td>3</td><td>55943.666666666664</td><td>3</td><td>null</td><td>2</td><td>23.0</td><td>(23,[],[])</td></tr>\n",
       "<tr><td>jewelry</td><td>17</td><td>2647.341100699412</td><td>17</td><td>65339.82352941176</td><td>17</td><td>19953.91134673615</td><td>2</td><td>23.0</td><td>(23,[],[])</td></tr>\n",
       "<tr><td>jewelry</td><td>25</td><td>5595.3254524319445</td><td>25</td><td>66485.2</td><td>25</td><td>20115.019410151996</td><td>2</td><td>23.0</td><td>(23,[],[])</td></tr>\n",
       "<tr><td>jewelry</td><td>8</td><td>5941.016886764306</td><td>8</td><td>66250.375</td><td>8</td><td>3256.861150012915</td><td>2</td><td>23.0</td><td>(23,[],[])</td></tr>\n",
       "<tr><td>jewelry</td><td>2</td><td>14824.15814242188</td><td>2</td><td>52876.5</td><td>2</td><td>null</td><td>2</td><td>23.0</td><td>(23,[],[])</td></tr>\n",
       "<tr><td>jewelry</td><td>4</td><td>13289.234099080675</td><td>4</td><td>58431.25</td><td>4</td><td>null</td><td>2</td><td>23.0</td><td>(23,[],[])</td></tr>\n",
       "<tr><td>jewelry</td><td>1</td><td>319.7081195572956</td><td>1</td><td>49946.0</td><td>1</td><td>700.0913339069108</td><td>2</td><td>23.0</td><td>(23,[],[])</td></tr>\n",
       "<tr><td>jewelry</td><td>18</td><td>5410.073769595744</td><td>18</td><td>59201.88888888889</td><td>18</td><td>11770.612636336045</td><td>2</td><td>23.0</td><td>(23,[],[])</td></tr>\n",
       "<tr><td>jewelry</td><td>1</td><td>3711.122084635986</td><td>1</td><td>49777.0</td><td>1</td><td>null</td><td>2</td><td>23.0</td><td>(23,[],[])</td></tr>\n",
       "<tr><td>jewelry</td><td>1</td><td>23209.41867701007</td><td>1</td><td>91115.0</td><td>1</td><td>null</td><td>2</td><td>23.0</td><td>(23,[],[])</td></tr>\n",
       "<tr><td>jewelry</td><td>12</td><td>4258.345901268099</td><td>12</td><td>59045.333333333336</td><td>12</td><td>13047.342951872623</td><td>2</td><td>23.0</td><td>(23,[],[])</td></tr>\n",
       "</table>\n",
       "only showing top 20 rows\n"
      ],
      "text/plain": [
       "+-------+------------------+------------------+---------------------+------------------+------------------+------------------+----------+--------+----------+\n",
       "|    tag|total_num_consumer|  avg_dollar_value|total_num_transaction|       mean_income|total_num_postcode|next_total_revenue|tag_labels|tagIndex|    tagOHE|\n",
       "+-------+------------------+------------------+---------------------+------------------+------------------+------------------+----------+--------+----------+\n",
       "|jewelry|                 8| 10439.40181102842|                    8|         61840.875|                 8|              null|         2|    23.0|(23,[],[])|\n",
       "|jewelry|                 1| 6987.246435378608|                    1|           48235.0|                 1|              null|         2|    23.0|(23,[],[])|\n",
       "|jewelry|                 2|1396.3251261623384|                    2|           54250.5|                 2|              null|         2|    23.0|(23,[],[])|\n",
       "|jewelry|                 1| 4798.332815388768|                    1|           80991.0|                 1|              null|         2|    23.0|(23,[],[])|\n",
       "|jewelry|                33| 9848.725593936158|                   33| 60891.90909090909|                33| 6996.210950909105|         2|    23.0|(23,[],[])|\n",
       "|jewelry|                29|14897.926207832394|                   29|62719.724137931036|                28|              null|         2|    23.0|(23,[],[])|\n",
       "|jewelry|                 3|3622.5670910222148|                    3| 66842.66666666667|                 3| 5551.664760915629|         2|    23.0|(23,[],[])|\n",
       "|jewelry|                 1|19486.763586439236|                    1|           70738.0|                 1|              null|         2|    23.0|(23,[],[])|\n",
       "|jewelry|                 5| 4844.117193121709|                    5|           64499.4|                 5| 2973.525203961843|         2|    23.0|(23,[],[])|\n",
       "|jewelry|                 3|15354.649596808333|                    3|55943.666666666664|                 3|              null|         2|    23.0|(23,[],[])|\n",
       "|jewelry|                17| 2647.341100699412|                   17| 65339.82352941176|                17| 19953.91134673615|         2|    23.0|(23,[],[])|\n",
       "|jewelry|                25|5595.3254524319445|                   25|           66485.2|                25|20115.019410151996|         2|    23.0|(23,[],[])|\n",
       "|jewelry|                 8| 5941.016886764306|                    8|         66250.375|                 8| 3256.861150012915|         2|    23.0|(23,[],[])|\n",
       "|jewelry|                 2| 14824.15814242188|                    2|           52876.5|                 2|              null|         2|    23.0|(23,[],[])|\n",
       "|jewelry|                 4|13289.234099080675|                    4|          58431.25|                 4|              null|         2|    23.0|(23,[],[])|\n",
       "|jewelry|                 1| 319.7081195572956|                    1|           49946.0|                 1| 700.0913339069108|         2|    23.0|(23,[],[])|\n",
       "|jewelry|                18| 5410.073769595744|                   18| 59201.88888888889|                18|11770.612636336045|         2|    23.0|(23,[],[])|\n",
       "|jewelry|                 1| 3711.122084635986|                    1|           49777.0|                 1|              null|         2|    23.0|(23,[],[])|\n",
       "|jewelry|                 1| 23209.41867701007|                    1|           91115.0|                 1|              null|         2|    23.0|(23,[],[])|\n",
       "|jewelry|                12| 4258.345901268099|                   12|59045.333333333336|                12|13047.342951872623|         2|    23.0|(23,[],[])|\n",
       "+-------+------------------+------------------+---------------------+------------------+------------------+------------------+----------+--------+----------+\n",
       "only showing top 20 rows"
      ]
     },
     "execution_count": 11,
     "metadata": {},
     "output_type": "execute_result"
    }
   ],
   "source": [
    "# change tags into numeric feature by one hot encoding\n",
    "indexer = StringIndexer(inputCol=\"tag\", outputCol=\"tagIndex\")\n",
    "revenue_df = indexer.fit(revenue_df).transform(revenue_df)\n",
    "ohe = OneHotEncoder(inputCol=\"tagIndex\", outputCol=\"tagOHE\")\n",
    "revenue_df = ohe.fit(revenue_df).transform(revenue_df)\n",
    "revenue_df"
   ]
  },
  {
   "cell_type": "code",
   "execution_count": 12,
   "metadata": {},
   "outputs": [
    {
     "name": "stdout",
     "output_type": "stream",
     "text": [
      "Correlation to next_total_revenue for  total_num_consumer 0.7410793330888668\n",
      "Correlation to next_total_revenue for  avg_dollar_value -0.09721738918447717\n",
      "Correlation to next_total_revenue for  total_num_transaction 0.6509905314160019\n",
      "Correlation to next_total_revenue for  mean_income 0.014726025333045787\n",
      "Correlation to next_total_revenue for  total_num_postcode 0.6656045508317902\n",
      "Correlation to next_total_revenue for  next_total_revenue 1.0\n",
      "Correlation to next_total_revenue for  tag_labels -0.028666428658009408\n",
      "Correlation to next_total_revenue for  tagIndex -0.10513625584784485\n"
     ]
    }
   ],
   "source": [
    "import six\n",
    "for i in revenue_df.columns[:-1]:\n",
    "    if not( isinstance(revenue_df.select(i).take(1)[0][0], six.string_types)):\n",
    "        print( \"Correlation to next_total_revenue for \", i, revenue_df.stat.corr('next_total_revenue',i))"
   ]
  },
  {
   "cell_type": "markdown",
   "metadata": {},
   "source": [
    "### Vectorization"
   ]
  },
  {
   "cell_type": "code",
   "execution_count": 13,
   "metadata": {},
   "outputs": [],
   "source": [
    "features = ['total_num_consumer', 'avg_dollar_value', 'total_num_transaction', 'mean_income', 'total_num_postcode', 'tagOHE']\n",
    "assembler = VectorAssembler(inputCols=features, outputCol='features')\n",
    "final_revenue_df = assembler.transform(revenue_df)\n",
    "final_revenue_df = final_revenue_df.select('features','next_total_revenue')"
   ]
  },
  {
   "cell_type": "markdown",
   "metadata": {},
   "source": [
    "### Model fitting"
   ]
  },
  {
   "cell_type": "code",
   "execution_count": 14,
   "metadata": {},
   "outputs": [],
   "source": [
    "# missing values will not be included\n",
    "train_df, test_df = (final_revenue_df.drop('tag', 'tagIndex').filter(F.col('next_total_revenue').isNotNull())).randomSplit([0.7, 0.3])"
   ]
  },
  {
   "cell_type": "code",
   "execution_count": 15,
   "metadata": {},
   "outputs": [],
   "source": [
    "train_df, test_df = (final_revenue_df.filter((F.col('next_total_revenue').isNotNull())&(F.col('tag_labels')==1))).drop('tag', 'tagIndex', 'tag_labels').randomSplit([0.7, 0.3])"
   ]
  },
  {
   "cell_type": "code",
   "execution_count": 16,
   "metadata": {},
   "outputs": [
    {
     "data": {
      "text/plain": [
       "(1137, 421)"
      ]
     },
     "execution_count": 16,
     "metadata": {},
     "output_type": "execute_result"
    }
   ],
   "source": [
    "train_df.count(), test_df.count()"
   ]
  },
  {
   "cell_type": "markdown",
   "metadata": {},
   "source": [
    "#### Linear Regression"
   ]
  },
  {
   "cell_type": "code",
   "execution_count": 17,
   "metadata": {},
   "outputs": [
    {
     "name": "stdout",
     "output_type": "stream",
     "text": [
      "22/09/26 11:32:17 WARN InstanceBuilder$NativeBLAS: Failed to load implementation from:dev.ludovic.netlib.blas.JNIBLAS\n",
      "22/09/26 11:32:17 WARN InstanceBuilder$NativeBLAS: Failed to load implementation from:dev.ludovic.netlib.blas.ForeignLinkerBLAS\n"
     ]
    },
    {
     "data": {
      "text/plain": [
       "LinearRegressionModel: uid=LinearRegression_ecde2c4f87c2, numFeatures=28"
      ]
     },
     "execution_count": 17,
     "metadata": {},
     "output_type": "execute_result"
    }
   ],
   "source": [
    "lr = LinearRegression(labelCol='next_total_revenue', maxIter=10, regParam=0.3, elasticNetParam=0.8)\n",
    "fitted_model = lr.fit(train_df)\n",
    "fitted_model.setFeaturesCol(\"features\")\n",
    "fitted_model.setPredictionCol(\"prediction\")"
   ]
  },
  {
   "cell_type": "code",
   "execution_count": 18,
   "metadata": {},
   "outputs": [
    {
     "name": "stdout",
     "output_type": "stream",
     "text": [
      "Coefficients: [329.94873459809827,199.00613634951037,-0.0,3.4546764682089095,1406.9778957621609,135277.2373765769,0.0,302266.6058912068,0.0,-661996.2502317633,-127142.11324265848,167648.23980101466,0.0,0.0,0.0,0.0,0.0,275300.37130694755,0.0,0.0,-52079.85753377457,0.0,26219.694735976373,0.0,0.0,0.0,0.0,0.0]\n",
      "Intercept: -431457.878446186\n"
     ]
    }
   ],
   "source": [
    "print(\"Coefficients: %s\" % str(fitted_model.coefficients))\n",
    "print(\"Intercept: %s\" % str(fitted_model.intercept))"
   ]
  },
  {
   "cell_type": "code",
   "execution_count": 19,
   "metadata": {},
   "outputs": [
    {
     "name": "stdout",
     "output_type": "stream",
     "text": [
      "numIterations: 10\n",
      "objectiveHistory: [0.5, 0.4433406452936922, 0.2722512330319915, 0.22420136470078894, 0.20786499882706577, 0.20106384372916292, 0.19784373338733197, 0.19476822947033842, 0.1928758980062302, 0.19193522388591372, 0.19171004424360535]\n",
      "+-------------------+\n",
      "|          residuals|\n",
      "+-------------------+\n",
      "|-459834.30010480137|\n",
      "|  29987.71717017758|\n",
      "| 14735.770490550465|\n",
      "|-22233.438865994627|\n",
      "| -18797.59805945043|\n",
      "| -6738.614387888592|\n",
      "|-15217.969016764873|\n",
      "|   49440.5916303634|\n",
      "| 21608.614265913835|\n",
      "| 42670.005155233106|\n",
      "| 56342.395593939145|\n",
      "| 22382.010636478866|\n",
      "|  17123.44564349079|\n",
      "|  24444.29233231898|\n",
      "|   36042.2340155858|\n",
      "| -69592.91749208097|\n",
      "| -54158.07764345864|\n",
      "|  25652.95962790656|\n",
      "|-14768.541019344164|\n",
      "|  70611.47292887203|\n",
      "+-------------------+\n",
      "only showing top 20 rows\n",
      "\n",
      "RMSE: 1113264.945888\n",
      "r2: 0.616580\n"
     ]
    }
   ],
   "source": [
    "trainingSummary = fitted_model.summary\n",
    "print(\"numIterations: %d\" % trainingSummary.totalIterations)\n",
    "print(\"objectiveHistory: %s\" % str(trainingSummary.objectiveHistory))\n",
    "trainingSummary.residuals.show()\n",
    "print(\"RMSE: %f\" % trainingSummary.rootMeanSquaredError)\n",
    "print(\"r2: %f\" % trainingSummary.r2)"
   ]
  },
  {
   "cell_type": "code",
   "execution_count": 20,
   "metadata": {},
   "outputs": [
    {
     "name": "stdout",
     "output_type": "stream",
     "text": [
      "+-------+--------------------+\n",
      "|summary|  next_total_revenue|\n",
      "+-------+--------------------+\n",
      "|  count|                1137|\n",
      "|   mean|    771279.959894413|\n",
      "| stddev|  1798673.6248159038|\n",
      "|    min|  326.68328215436907|\n",
      "|    max|1.8112946393009316E7|\n",
      "+-------+--------------------+\n",
      "\n"
     ]
    }
   ],
   "source": [
    "train_df.describe().show()"
   ]
  },
  {
   "cell_type": "markdown",
   "metadata": {},
   "source": [
    "##### Linear Regression Evaluation"
   ]
  },
  {
   "cell_type": "code",
   "execution_count": 21,
   "metadata": {},
   "outputs": [
    {
     "name": "stdout",
     "output_type": "stream",
     "text": [
      "+-------------------+------------------+--------------------+\n",
      "|         prediction|next_total_revenue|            features|\n",
      "+-------------------+------------------+--------------------+\n",
      "| 469286.43929568346|2624.8015545185413|(28,[0,1,2,3,4,5]...|\n",
      "| -46095.90399259748| 17257.12863751407|(28,[0,1,2,3,4,5]...|\n",
      "|   8263.25219461153|24217.897520994058|(28,[0,1,2,3,4,5]...|\n",
      "|-12503.398190982814| 7662.348508455224|(28,[0,1,2,3,4,5]...|\n",
      "|-18581.036177817325|12184.883889297475|(28,[0,1,2,3,4,5]...|\n",
      "|   8952.68873853347|31713.574800623595|(28,[0,1,2,3,4,5]...|\n",
      "| 65489.376260855875|28967.859022303237|(28,[0,1,2,3,4,5]...|\n",
      "|   77404.4310631436|50985.798178586294|(28,[0,1,2,3,4,5]...|\n",
      "|   78845.7016533133| 66897.44807969415|(28,[0,1,2,3,4,5]...|\n",
      "|-12884.868294099288|32339.166396653898|(28,[0,1,2,3,4,5]...|\n",
      "+-------------------+------------------+--------------------+\n",
      "only showing top 10 rows\n",
      "\n",
      "R Squared (R2) on test data = 0.625172\n"
     ]
    }
   ],
   "source": [
    "lr_predictions = fitted_model.transform(test_df)\n",
    "lr_predictions.select(\"prediction\",\"next_total_revenue\",\"features\").show(10)\n",
    "lr_evaluator = RegressionEvaluator(predictionCol=\"prediction\", \\\n",
    "                 labelCol=\"next_total_revenue\",metricName=\"r2\")\n",
    "print(\"R Squared (R2) on test data = %g\" % lr_evaluator.evaluate(lr_predictions))"
   ]
  },
  {
   "cell_type": "code",
   "execution_count": null,
   "metadata": {},
   "outputs": [],
   "source": []
  },
  {
   "cell_type": "code",
   "execution_count": null,
   "metadata": {},
   "outputs": [],
   "source": []
  },
  {
   "cell_type": "code",
   "execution_count": 22,
   "metadata": {},
   "outputs": [
    {
     "name": "stdout",
     "output_type": "stream",
     "text": [
      "22/09/26 11:32:20 WARN InstanceBuilder$NativeLAPACK: Failed to load implementation from:dev.ludovic.netlib.lapack.JNILAPACK\n",
      "22/09/26 11:32:20 WARN Instrumentation: [803360cb] Cholesky solver failed due to singular covariance matrix. Retrying with Quasi-Newton solver.\n",
      "22/09/26 11:32:20 WARN Instrumentation: [803360cb] Cholesky solver failed due to singular covariance matrix. Retrying with Quasi-Newton solver.\n",
      "22/09/26 11:32:20 WARN Instrumentation: [803360cb] Cholesky solver failed due to singular covariance matrix. Retrying with Quasi-Newton solver.\n",
      "22/09/26 11:32:20 WARN Instrumentation: [803360cb] Cholesky solver failed due to singular covariance matrix. Retrying with Quasi-Newton solver.\n",
      "22/09/26 11:32:20 WARN Instrumentation: [803360cb] Cholesky solver failed due to singular covariance matrix. Retrying with Quasi-Newton solver.\n",
      "22/09/26 11:32:20 WARN Instrumentation: [803360cb] Cholesky solver failed due to singular covariance matrix. Retrying with Quasi-Newton solver.\n",
      "22/09/26 11:32:20 WARN Instrumentation: [803360cb] Cholesky solver failed due to singular covariance matrix. Retrying with Quasi-Newton solver.\n",
      "22/09/26 11:32:20 WARN Instrumentation: [803360cb] Cholesky solver failed due to singular covariance matrix. Retrying with Quasi-Newton solver.\n",
      "22/09/26 11:32:20 WARN Instrumentation: [803360cb] Cholesky solver failed due to singular covariance matrix. Retrying with Quasi-Newton solver.\n",
      "22/09/26 11:32:20 WARN Instrumentation: [803360cb] Cholesky solver failed due to singular covariance matrix. Retrying with Quasi-Newton solver.\n",
      "22/09/26 11:32:20 ERROR LBFGS: Failure! Resetting history: breeze.optimize.FirstOrderException: Line search zoom failed\n",
      "22/09/26 11:32:20 ERROR LBFGS: Failure again! Giving up and returning. Maybe the objective is just poorly behaved?\n"
     ]
    }
   ],
   "source": [
    "from pyspark.ml.regression import GeneralizedLinearRegression\n",
    "glr = GeneralizedLinearRegression(labelCol='next_total_revenue', family=\"gamma\", link=\"inverse\", maxIter=10, regParam=0.3)\n",
    "model = glr.fit(train_df)\n",
    "summary = model.summary"
   ]
  },
  {
   "cell_type": "code",
   "execution_count": 23,
   "metadata": {},
   "outputs": [
    {
     "name": "stdout",
     "output_type": "stream",
     "text": [
      "Coefficients: [-7.29921789176163e+35,-1.514818879549416e+35,1.5951885476432797e+35,-3.3873051879364135e+33,-4.731608488764943e+35,-7.046855017481054e+36,0.0,-1.0273188703163688e+37,0.0,2.315676577215516e+37,6.470201884501187e+36,-5.418302311592143e+36,0.0,0.0,0.0,0.0,0.0,-8.049257366324759e+36,0.0,0.0,1.9054737432836764e+36,0.0,-7.448379131271373e+35,0.0,0.0,0.0,0.0,0.0]\n",
      "Intercept: 2.5986924360779387e+38\n"
     ]
    }
   ],
   "source": [
    "print(\"Coefficients: \" + str(model.coefficients))\n",
    "print(\"Intercept: \" + str(model.intercept))"
   ]
  },
  {
   "cell_type": "code",
   "execution_count": 24,
   "metadata": {},
   "outputs": [
    {
     "ename": "Py4JJavaError",
     "evalue": "An error occurred while calling o539.coefficientStandardErrors.\n: java.lang.UnsupportedOperationException: No Std. Error of coefficients available for this GeneralizedLinearRegressionModel\n\tat org.apache.spark.ml.regression.GeneralizedLinearRegressionTrainingSummary.coefficientStandardErrors$lzycompute(GeneralizedLinearRegression.scala:1464)\n\tat org.apache.spark.ml.regression.GeneralizedLinearRegressionTrainingSummary.coefficientStandardErrors(GeneralizedLinearRegression.scala:1459)\n\tat sun.reflect.NativeMethodAccessorImpl.invoke0(Native Method)\n\tat sun.reflect.NativeMethodAccessorImpl.invoke(NativeMethodAccessorImpl.java:62)\n\tat sun.reflect.DelegatingMethodAccessorImpl.invoke(DelegatingMethodAccessorImpl.java:43)\n\tat java.lang.reflect.Method.invoke(Method.java:498)\n\tat py4j.reflection.MethodInvoker.invoke(MethodInvoker.java:244)\n\tat py4j.reflection.ReflectionEngine.invoke(ReflectionEngine.java:357)\n\tat py4j.Gateway.invoke(Gateway.java:282)\n\tat py4j.commands.AbstractCommand.invokeMethod(AbstractCommand.java:132)\n\tat py4j.commands.CallCommand.execute(CallCommand.java:79)\n\tat py4j.ClientServerConnection.waitForCommands(ClientServerConnection.java:182)\n\tat py4j.ClientServerConnection.run(ClientServerConnection.java:106)\n\tat java.lang.Thread.run(Thread.java:748)\n",
     "output_type": "error",
     "traceback": [
      "\u001b[0;31m---------------------------------------------------------------------------\u001b[0m",
      "\u001b[0;31mPy4JJavaError\u001b[0m                             Traceback (most recent call last)",
      "\u001b[1;32m/home/stluo/ADS tut/generic-buy-now-pay-later-project-group-14/models/predict_revenue.ipynb Cell 35\u001b[0m in \u001b[0;36m<cell line: 1>\u001b[0;34m()\u001b[0m\n\u001b[0;32m----> <a href='vscode-notebook-cell://wsl%2Bubuntu-20.04/home/stluo/ADS%20tut/generic-buy-now-pay-later-project-group-14/models/predict_revenue.ipynb#Y144sdnNjb2RlLXJlbW90ZQ%3D%3D?line=0'>1</a>\u001b[0m \u001b[39mprint\u001b[39m(\u001b[39m\"\u001b[39m\u001b[39mCoefficient Standard Errors: \u001b[39m\u001b[39m\"\u001b[39m \u001b[39m+\u001b[39m \u001b[39mstr\u001b[39m(summary\u001b[39m.\u001b[39;49mcoefficientStandardErrors))\n\u001b[1;32m      <a href='vscode-notebook-cell://wsl%2Bubuntu-20.04/home/stluo/ADS%20tut/generic-buy-now-pay-later-project-group-14/models/predict_revenue.ipynb#Y144sdnNjb2RlLXJlbW90ZQ%3D%3D?line=1'>2</a>\u001b[0m \u001b[39mprint\u001b[39m(\u001b[39m\"\u001b[39m\u001b[39mT Values: \u001b[39m\u001b[39m\"\u001b[39m \u001b[39m+\u001b[39m \u001b[39mstr\u001b[39m(summary\u001b[39m.\u001b[39mtValues))\n\u001b[1;32m      <a href='vscode-notebook-cell://wsl%2Bubuntu-20.04/home/stluo/ADS%20tut/generic-buy-now-pay-later-project-group-14/models/predict_revenue.ipynb#Y144sdnNjb2RlLXJlbW90ZQ%3D%3D?line=2'>3</a>\u001b[0m \u001b[39mprint\u001b[39m(\u001b[39m\"\u001b[39m\u001b[39mP Values: \u001b[39m\u001b[39m\"\u001b[39m \u001b[39m+\u001b[39m \u001b[39mstr\u001b[39m(summary\u001b[39m.\u001b[39mpValues))\n",
      "File \u001b[0;32m~/.local/lib/python3.8/site-packages/pyspark/ml/regression.py:2935\u001b[0m, in \u001b[0;36mGeneralizedLinearRegressionTrainingSummary.coefficientStandardErrors\u001b[0;34m(self)\u001b[0m\n\u001b[1;32m   2926\u001b[0m \u001b[39m@property\u001b[39m  \u001b[39m# type: ignore[misc]\u001b[39;00m\n\u001b[1;32m   2927\u001b[0m \u001b[39m@since\u001b[39m(\u001b[39m\"\u001b[39m\u001b[39m2.0.0\u001b[39m\u001b[39m\"\u001b[39m)\n\u001b[1;32m   2928\u001b[0m \u001b[39mdef\u001b[39;00m \u001b[39mcoefficientStandardErrors\u001b[39m(\u001b[39mself\u001b[39m) \u001b[39m-\u001b[39m\u001b[39m>\u001b[39m List[\u001b[39mfloat\u001b[39m]:\n\u001b[1;32m   2929\u001b[0m     \u001b[39m\"\"\"\u001b[39;00m\n\u001b[1;32m   2930\u001b[0m \u001b[39m    Standard error of estimated coefficients and intercept.\u001b[39;00m\n\u001b[1;32m   2931\u001b[0m \n\u001b[1;32m   2932\u001b[0m \u001b[39m    If :py:attr:`GeneralizedLinearRegression.fitIntercept` is set to True,\u001b[39;00m\n\u001b[1;32m   2933\u001b[0m \u001b[39m    then the last element returned corresponds to the intercept.\u001b[39;00m\n\u001b[1;32m   2934\u001b[0m \u001b[39m    \"\"\"\u001b[39;00m\n\u001b[0;32m-> 2935\u001b[0m     \u001b[39mreturn\u001b[39;00m \u001b[39mself\u001b[39;49m\u001b[39m.\u001b[39;49m_call_java(\u001b[39m\"\u001b[39;49m\u001b[39mcoefficientStandardErrors\u001b[39;49m\u001b[39m\"\u001b[39;49m)\n",
      "File \u001b[0;32m~/.local/lib/python3.8/site-packages/pyspark/ml/wrapper.py:72\u001b[0m, in \u001b[0;36mJavaWrapper._call_java\u001b[0;34m(self, name, *args)\u001b[0m\n\u001b[1;32m     69\u001b[0m \u001b[39massert\u001b[39;00m sc \u001b[39mis\u001b[39;00m \u001b[39mnot\u001b[39;00m \u001b[39mNone\u001b[39;00m\n\u001b[1;32m     71\u001b[0m java_args \u001b[39m=\u001b[39m [_py2java(sc, arg) \u001b[39mfor\u001b[39;00m arg \u001b[39min\u001b[39;00m args]\n\u001b[0;32m---> 72\u001b[0m \u001b[39mreturn\u001b[39;00m _java2py(sc, m(\u001b[39m*\u001b[39;49mjava_args))\n",
      "File \u001b[0;32m~/.local/lib/python3.8/site-packages/py4j/java_gateway.py:1321\u001b[0m, in \u001b[0;36mJavaMember.__call__\u001b[0;34m(self, *args)\u001b[0m\n\u001b[1;32m   1315\u001b[0m command \u001b[39m=\u001b[39m proto\u001b[39m.\u001b[39mCALL_COMMAND_NAME \u001b[39m+\u001b[39m\\\n\u001b[1;32m   1316\u001b[0m     \u001b[39mself\u001b[39m\u001b[39m.\u001b[39mcommand_header \u001b[39m+\u001b[39m\\\n\u001b[1;32m   1317\u001b[0m     args_command \u001b[39m+\u001b[39m\\\n\u001b[1;32m   1318\u001b[0m     proto\u001b[39m.\u001b[39mEND_COMMAND_PART\n\u001b[1;32m   1320\u001b[0m answer \u001b[39m=\u001b[39m \u001b[39mself\u001b[39m\u001b[39m.\u001b[39mgateway_client\u001b[39m.\u001b[39msend_command(command)\n\u001b[0;32m-> 1321\u001b[0m return_value \u001b[39m=\u001b[39m get_return_value(\n\u001b[1;32m   1322\u001b[0m     answer, \u001b[39mself\u001b[39;49m\u001b[39m.\u001b[39;49mgateway_client, \u001b[39mself\u001b[39;49m\u001b[39m.\u001b[39;49mtarget_id, \u001b[39mself\u001b[39;49m\u001b[39m.\u001b[39;49mname)\n\u001b[1;32m   1324\u001b[0m \u001b[39mfor\u001b[39;00m temp_arg \u001b[39min\u001b[39;00m temp_args:\n\u001b[1;32m   1325\u001b[0m     temp_arg\u001b[39m.\u001b[39m_detach()\n",
      "File \u001b[0;32m~/.local/lib/python3.8/site-packages/pyspark/sql/utils.py:190\u001b[0m, in \u001b[0;36mcapture_sql_exception.<locals>.deco\u001b[0;34m(*a, **kw)\u001b[0m\n\u001b[1;32m    188\u001b[0m \u001b[39mdef\u001b[39;00m \u001b[39mdeco\u001b[39m(\u001b[39m*\u001b[39ma: Any, \u001b[39m*\u001b[39m\u001b[39m*\u001b[39mkw: Any) \u001b[39m-\u001b[39m\u001b[39m>\u001b[39m Any:\n\u001b[1;32m    189\u001b[0m     \u001b[39mtry\u001b[39;00m:\n\u001b[0;32m--> 190\u001b[0m         \u001b[39mreturn\u001b[39;00m f(\u001b[39m*\u001b[39;49ma, \u001b[39m*\u001b[39;49m\u001b[39m*\u001b[39;49mkw)\n\u001b[1;32m    191\u001b[0m     \u001b[39mexcept\u001b[39;00m Py4JJavaError \u001b[39mas\u001b[39;00m e:\n\u001b[1;32m    192\u001b[0m         converted \u001b[39m=\u001b[39m convert_exception(e\u001b[39m.\u001b[39mjava_exception)\n",
      "File \u001b[0;32m~/.local/lib/python3.8/site-packages/py4j/protocol.py:326\u001b[0m, in \u001b[0;36mget_return_value\u001b[0;34m(answer, gateway_client, target_id, name)\u001b[0m\n\u001b[1;32m    324\u001b[0m value \u001b[39m=\u001b[39m OUTPUT_CONVERTER[\u001b[39mtype\u001b[39m](answer[\u001b[39m2\u001b[39m:], gateway_client)\n\u001b[1;32m    325\u001b[0m \u001b[39mif\u001b[39;00m answer[\u001b[39m1\u001b[39m] \u001b[39m==\u001b[39m REFERENCE_TYPE:\n\u001b[0;32m--> 326\u001b[0m     \u001b[39mraise\u001b[39;00m Py4JJavaError(\n\u001b[1;32m    327\u001b[0m         \u001b[39m\"\u001b[39m\u001b[39mAn error occurred while calling \u001b[39m\u001b[39m{0}\u001b[39;00m\u001b[39m{1}\u001b[39;00m\u001b[39m{2}\u001b[39;00m\u001b[39m.\u001b[39m\u001b[39m\\n\u001b[39;00m\u001b[39m\"\u001b[39m\u001b[39m.\u001b[39m\n\u001b[1;32m    328\u001b[0m         \u001b[39mformat\u001b[39m(target_id, \u001b[39m\"\u001b[39m\u001b[39m.\u001b[39m\u001b[39m\"\u001b[39m, name), value)\n\u001b[1;32m    329\u001b[0m \u001b[39melse\u001b[39;00m:\n\u001b[1;32m    330\u001b[0m     \u001b[39mraise\u001b[39;00m Py4JError(\n\u001b[1;32m    331\u001b[0m         \u001b[39m\"\u001b[39m\u001b[39mAn error occurred while calling \u001b[39m\u001b[39m{0}\u001b[39;00m\u001b[39m{1}\u001b[39;00m\u001b[39m{2}\u001b[39;00m\u001b[39m. Trace:\u001b[39m\u001b[39m\\n\u001b[39;00m\u001b[39m{3}\u001b[39;00m\u001b[39m\\n\u001b[39;00m\u001b[39m\"\u001b[39m\u001b[39m.\u001b[39m\n\u001b[1;32m    332\u001b[0m         \u001b[39mformat\u001b[39m(target_id, \u001b[39m\"\u001b[39m\u001b[39m.\u001b[39m\u001b[39m\"\u001b[39m, name, value))\n",
      "\u001b[0;31mPy4JJavaError\u001b[0m: An error occurred while calling o539.coefficientStandardErrors.\n: java.lang.UnsupportedOperationException: No Std. Error of coefficients available for this GeneralizedLinearRegressionModel\n\tat org.apache.spark.ml.regression.GeneralizedLinearRegressionTrainingSummary.coefficientStandardErrors$lzycompute(GeneralizedLinearRegression.scala:1464)\n\tat org.apache.spark.ml.regression.GeneralizedLinearRegressionTrainingSummary.coefficientStandardErrors(GeneralizedLinearRegression.scala:1459)\n\tat sun.reflect.NativeMethodAccessorImpl.invoke0(Native Method)\n\tat sun.reflect.NativeMethodAccessorImpl.invoke(NativeMethodAccessorImpl.java:62)\n\tat sun.reflect.DelegatingMethodAccessorImpl.invoke(DelegatingMethodAccessorImpl.java:43)\n\tat java.lang.reflect.Method.invoke(Method.java:498)\n\tat py4j.reflection.MethodInvoker.invoke(MethodInvoker.java:244)\n\tat py4j.reflection.ReflectionEngine.invoke(ReflectionEngine.java:357)\n\tat py4j.Gateway.invoke(Gateway.java:282)\n\tat py4j.commands.AbstractCommand.invokeMethod(AbstractCommand.java:132)\n\tat py4j.commands.CallCommand.execute(CallCommand.java:79)\n\tat py4j.ClientServerConnection.waitForCommands(ClientServerConnection.java:182)\n\tat py4j.ClientServerConnection.run(ClientServerConnection.java:106)\n\tat java.lang.Thread.run(Thread.java:748)\n"
     ]
    }
   ],
   "source": [
    "print(\"Coefficient Standard Errors: \" + str(summary.coefficientStandardErrors))\n",
    "print(\"T Values: \" + str(summary.tValues))\n",
    "print(\"P Values: \" + str(summary.pValues))\n",
    "print(\"Dispersion: \" + str(summary.dispersion))\n",
    "print(\"Null Deviance: \" + str(summary.nullDeviance))\n",
    "print(\"Residual Degree Of Freedom Null: \" + str(summary.residualDegreeOfFreedomNull))\n",
    "print(\"Deviance: \" + str(summary.deviance))\n",
    "print(\"Residual Degree Of Freedom: \" + str(summary.residualDegreeOfFreedom))\n",
    "print(\"AIC: \" + str(summary.aic))\n",
    "print(\"Deviance Residuals: \")\n",
    "summary.residuals().show()"
   ]
  },
  {
   "cell_type": "code",
   "execution_count": null,
   "metadata": {},
   "outputs": [],
   "source": []
  },
  {
   "cell_type": "markdown",
   "metadata": {},
   "source": [
    "#### Random Forest Regressor"
   ]
  },
  {
   "cell_type": "code",
   "execution_count": 25,
   "metadata": {},
   "outputs": [],
   "source": [
    "from pyspark.ml.regression import RandomForestRegressor\n",
    "from pyspark.ml.evaluation import RegressionEvaluator"
   ]
  },
  {
   "cell_type": "code",
   "execution_count": 26,
   "metadata": {},
   "outputs": [],
   "source": [
    "rf = RandomForestRegressor(numTrees = 10, maxDepth = 10, labelCol='next_total_revenue')"
   ]
  },
  {
   "cell_type": "code",
   "execution_count": 27,
   "metadata": {},
   "outputs": [],
   "source": [
    "model = rf.fit(train_df)\n",
    "result = model.transform(test_df)"
   ]
  },
  {
   "cell_type": "code",
   "execution_count": 28,
   "metadata": {},
   "outputs": [
    {
     "name": "stdout",
     "output_type": "stream",
     "text": [
      "+++++++++++++++++++++++++++++++++++++++++++\n",
      "Using Categorical feature: ['total_num_consumer', 'avg_dollar_value', 'total_num_transaction', 'mean_income', 'total_num_postcode', 'tagOHE']\n",
      "mae:362693.0951681056\n",
      "r2: 0.6669955988610947\n"
     ]
    }
   ],
   "source": [
    "rf_evaluator = RegressionEvaluator(labelCol='next_total_revenue', metricName=\"mae\", predictionCol='prediction')\n",
    "mae = rf_evaluator.evaluate(result)\n",
    "rf_evaluator = RegressionEvaluator(labelCol='next_total_revenue', metricName=\"r2\", predictionCol='prediction')\n",
    "r2 = rf_evaluator.evaluate(result)\n",
    "print('+++++++++++++++++++++++++++++++++++++++++++')\n",
    "print(f'Using Categorical feature: {features}')\n",
    "print('mae:{}'.format(mae))\n",
    "print('r2: {}'.format(r2))"
   ]
  },
  {
   "cell_type": "code",
   "execution_count": 29,
   "metadata": {},
   "outputs": [
    {
     "name": "stdout",
     "output_type": "stream",
     "text": [
      "+------------------+------------------+--------------------+\n",
      "|        prediction|next_total_revenue|            features|\n",
      "+------------------+------------------+--------------------+\n",
      "| 9191.476797416268|2624.8015545185413|(28,[0,1,2,3,4,5]...|\n",
      "|  25584.6871792982| 17257.12863751407|(28,[0,1,2,3,4,5]...|\n",
      "|19555.864367857117|24217.897520994058|(28,[0,1,2,3,4,5]...|\n",
      "|29422.267071773724| 7662.348508455224|(28,[0,1,2,3,4,5]...|\n",
      "|29568.587410052955|12184.883889297475|(28,[0,1,2,3,4,5]...|\n",
      "| 39426.51326838844|31713.574800623595|(28,[0,1,2,3,4,5]...|\n",
      "| 41029.14680574974|28967.859022303237|(28,[0,1,2,3,4,5]...|\n",
      "| 34442.81005783456|50985.798178586294|(28,[0,1,2,3,4,5]...|\n",
      "|44237.873582189546| 66897.44807969415|(28,[0,1,2,3,4,5]...|\n",
      "| 33325.86763179635|32339.166396653898|(28,[0,1,2,3,4,5]...|\n",
      "|41610.822838702836|47301.027783661135|(28,[0,1,2,3,4,5]...|\n",
      "| 31465.97720661906|22537.278176372223|(28,[0,1,2,3,4,5]...|\n",
      "| 39702.63569027528|14782.670203792048|(28,[0,1,2,3,4,5]...|\n",
      "| 43267.68758263775| 33532.71314074658|(28,[0,1,2,3,4,5]...|\n",
      "| 47212.14488366585|24865.656336998953|(28,[0,1,2,3,4,5]...|\n",
      "|25718.949472310553|24200.743566128247|(28,[0,1,2,3,4,5]...|\n",
      "|52321.675696220875| 36445.06374267516|(28,[0,1,2,3,4,5]...|\n",
      "| 51318.96920270384| 35196.62582091269|(28,[0,1,2,3,4,5]...|\n",
      "| 50600.39843604172| 35338.51381532441|(28,[0,1,2,3,4,5]...|\n",
      "|  36187.5906369813|13272.041584197079|(28,[0,1,2,3,4,5]...|\n",
      "+------------------+------------------+--------------------+\n",
      "only showing top 20 rows\n",
      "\n"
     ]
    }
   ],
   "source": [
    "result.select(\"prediction\",\"next_total_revenue\",\"features\").show(20)"
   ]
  },
  {
   "cell_type": "markdown",
   "metadata": {},
   "source": [
    "#### Gradient Boosting Tree"
   ]
  },
  {
   "cell_type": "code",
   "execution_count": null,
   "metadata": {},
   "outputs": [
    {
     "name": "stdout",
     "output_type": "stream",
     "text": [
      "+------------------+------------------+--------------------+\n",
      "|        prediction|next_total_revenue|            features|\n",
      "+------------------+------------------+--------------------+\n",
      "| 35290.34412488112| 9662.469562619945|(28,[0,1,2,3,4,5]...|\n",
      "| 35290.34412488112| 7335.947872319652|(28,[0,1,2,3,4,5]...|\n",
      "| 17460.04096239942| 18686.29029154868|(28,[0,1,2,3,4,5]...|\n",
      "| 17460.04096239942|22465.136709436512|(28,[0,1,2,3,4,5]...|\n",
      "|15821.954153259354|6669.5712197070525|(28,[0,1,2,3,4,5]...|\n",
      "+------------------+------------------+--------------------+\n",
      "only showing top 5 rows\n",
      "\n"
     ]
    }
   ],
   "source": [
    "from pyspark.ml.regression import GBTRegressor\n",
    "gbt = GBTRegressor(featuresCol = 'features', labelCol = 'next_total_revenue', maxIter=10)\n",
    "gbt_model = gbt.fit(train_df)\n",
    "gbt_predictions = gbt_model.transform(test_df)\n",
    "gbt_predictions.select('prediction', 'next_total_revenue', 'features').show(5)"
   ]
  },
  {
   "cell_type": "code",
   "execution_count": null,
   "metadata": {},
   "outputs": [
    {
     "name": "stdout",
     "output_type": "stream",
     "text": [
      "Root Mean Squared Error (RMSE) on test data = 1.31818e+06\n"
     ]
    }
   ],
   "source": [
    "gbt_evaluator = RegressionEvaluator(\n",
    "    labelCol=\"next_total_revenue\", predictionCol=\"prediction\", metricName=\"rmse\")\n",
    "rmse = gbt_evaluator.evaluate(gbt_predictions)\n",
    "print(\"Root Mean Squared Error (RMSE) on test data = %g\" % rmse)"
   ]
  },
  {
   "cell_type": "markdown",
   "metadata": {},
   "source": [
    "#### Multilayer Perceptron Regressor"
   ]
  },
  {
   "cell_type": "code",
   "execution_count": 32,
   "metadata": {},
   "outputs": [],
   "source": [
    "from sklearn.neural_network import MLPRegressor\n",
    "from sklearn.model_selection import train_test_split\n",
    "from sklearn.preprocessing import StandardScaler\n",
    "import sklearn.metrics as metrics\n",
    "from sklearn.model_selection import GridSearchCV"
   ]
  },
  {
   "cell_type": "code",
   "execution_count": 33,
   "metadata": {},
   "outputs": [
    {
     "name": "stderr",
     "output_type": "stream",
     "text": [
      "                                                                                \r"
     ]
    },
    {
     "data": {
      "text/html": [
       "<div>\n",
       "<style scoped>\n",
       "    .dataframe tbody tr th:only-of-type {\n",
       "        vertical-align: middle;\n",
       "    }\n",
       "\n",
       "    .dataframe tbody tr th {\n",
       "        vertical-align: top;\n",
       "    }\n",
       "\n",
       "    .dataframe thead th {\n",
       "        text-align: right;\n",
       "    }\n",
       "</style>\n",
       "<table border=\"1\" class=\"dataframe\">\n",
       "  <thead>\n",
       "    <tr style=\"text-align: right;\">\n",
       "      <th></th>\n",
       "      <th>tag</th>\n",
       "      <th>total_num_consumer</th>\n",
       "      <th>avg_dollar_value</th>\n",
       "      <th>total_num_transaction</th>\n",
       "      <th>mean_income</th>\n",
       "      <th>total_num_postcode</th>\n",
       "      <th>next_total_revenue</th>\n",
       "      <th>tag_labels</th>\n",
       "      <th>tagIndex</th>\n",
       "      <th>tagOHE</th>\n",
       "    </tr>\n",
       "  </thead>\n",
       "  <tbody>\n",
       "    <tr>\n",
       "      <th>4</th>\n",
       "      <td>jewelry</td>\n",
       "      <td>33</td>\n",
       "      <td>9848.725594</td>\n",
       "      <td>33</td>\n",
       "      <td>60891.909091</td>\n",
       "      <td>33</td>\n",
       "      <td>6.996211e+03</td>\n",
       "      <td>2</td>\n",
       "      <td>23.0</td>\n",
       "      <td>(0.0, 0.0, 0.0, 0.0, 0.0, 0.0, 0.0, 0.0, 0.0, ...</td>\n",
       "    </tr>\n",
       "    <tr>\n",
       "      <th>6</th>\n",
       "      <td>jewelry</td>\n",
       "      <td>3</td>\n",
       "      <td>3622.567091</td>\n",
       "      <td>3</td>\n",
       "      <td>66842.666667</td>\n",
       "      <td>3</td>\n",
       "      <td>5.551665e+03</td>\n",
       "      <td>2</td>\n",
       "      <td>23.0</td>\n",
       "      <td>(0.0, 0.0, 0.0, 0.0, 0.0, 0.0, 0.0, 0.0, 0.0, ...</td>\n",
       "    </tr>\n",
       "    <tr>\n",
       "      <th>8</th>\n",
       "      <td>jewelry</td>\n",
       "      <td>5</td>\n",
       "      <td>4844.117193</td>\n",
       "      <td>5</td>\n",
       "      <td>64499.400000</td>\n",
       "      <td>5</td>\n",
       "      <td>2.973525e+03</td>\n",
       "      <td>2</td>\n",
       "      <td>23.0</td>\n",
       "      <td>(0.0, 0.0, 0.0, 0.0, 0.0, 0.0, 0.0, 0.0, 0.0, ...</td>\n",
       "    </tr>\n",
       "    <tr>\n",
       "      <th>10</th>\n",
       "      <td>jewelry</td>\n",
       "      <td>17</td>\n",
       "      <td>2647.341101</td>\n",
       "      <td>17</td>\n",
       "      <td>65339.823529</td>\n",
       "      <td>17</td>\n",
       "      <td>1.995391e+04</td>\n",
       "      <td>2</td>\n",
       "      <td>23.0</td>\n",
       "      <td>(0.0, 0.0, 0.0, 0.0, 0.0, 0.0, 0.0, 0.0, 0.0, ...</td>\n",
       "    </tr>\n",
       "    <tr>\n",
       "      <th>11</th>\n",
       "      <td>jewelry</td>\n",
       "      <td>25</td>\n",
       "      <td>5595.325452</td>\n",
       "      <td>25</td>\n",
       "      <td>66485.200000</td>\n",
       "      <td>25</td>\n",
       "      <td>2.011502e+04</td>\n",
       "      <td>2</td>\n",
       "      <td>23.0</td>\n",
       "      <td>(0.0, 0.0, 0.0, 0.0, 0.0, 0.0, 0.0, 0.0, 0.0, ...</td>\n",
       "    </tr>\n",
       "    <tr>\n",
       "      <th>...</th>\n",
       "      <td>...</td>\n",
       "      <td>...</td>\n",
       "      <td>...</td>\n",
       "      <td>...</td>\n",
       "      <td>...</td>\n",
       "      <td>...</td>\n",
       "      <td>...</td>\n",
       "      <td>...</td>\n",
       "      <td>...</td>\n",
       "      <td>...</td>\n",
       "    </tr>\n",
       "    <tr>\n",
       "      <th>3948</th>\n",
       "      <td>bicycle</td>\n",
       "      <td>167</td>\n",
       "      <td>147.146114</td>\n",
       "      <td>169</td>\n",
       "      <td>63679.236686</td>\n",
       "      <td>163</td>\n",
       "      <td>6.416802e+04</td>\n",
       "      <td>0</td>\n",
       "      <td>10.0</td>\n",
       "      <td>(0.0, 0.0, 0.0, 0.0, 0.0, 0.0, 0.0, 0.0, 0.0, ...</td>\n",
       "    </tr>\n",
       "    <tr>\n",
       "      <th>3949</th>\n",
       "      <td>bicycle</td>\n",
       "      <td>240</td>\n",
       "      <td>51.738894</td>\n",
       "      <td>241</td>\n",
       "      <td>61790.132780</td>\n",
       "      <td>230</td>\n",
       "      <td>5.320625e+04</td>\n",
       "      <td>0</td>\n",
       "      <td>10.0</td>\n",
       "      <td>(0.0, 0.0, 0.0, 0.0, 0.0, 0.0, 0.0, 0.0, 0.0, ...</td>\n",
       "    </tr>\n",
       "    <tr>\n",
       "      <th>3950</th>\n",
       "      <td>bicycle</td>\n",
       "      <td>356</td>\n",
       "      <td>980.503019</td>\n",
       "      <td>358</td>\n",
       "      <td>63258.500000</td>\n",
       "      <td>336</td>\n",
       "      <td>1.381719e+06</td>\n",
       "      <td>0</td>\n",
       "      <td>10.0</td>\n",
       "      <td>(0.0, 0.0, 0.0, 0.0, 0.0, 0.0, 0.0, 0.0, 0.0, ...</td>\n",
       "    </tr>\n",
       "    <tr>\n",
       "      <th>3951</th>\n",
       "      <td>bicycle</td>\n",
       "      <td>236</td>\n",
       "      <td>1540.157629</td>\n",
       "      <td>238</td>\n",
       "      <td>61031.621849</td>\n",
       "      <td>232</td>\n",
       "      <td>6.890149e+05</td>\n",
       "      <td>0</td>\n",
       "      <td>10.0</td>\n",
       "      <td>(0.0, 0.0, 0.0, 0.0, 0.0, 0.0, 0.0, 0.0, 0.0, ...</td>\n",
       "    </tr>\n",
       "    <tr>\n",
       "      <th>3952</th>\n",
       "      <td>bicycle</td>\n",
       "      <td>25</td>\n",
       "      <td>1295.337568</td>\n",
       "      <td>25</td>\n",
       "      <td>70495.000000</td>\n",
       "      <td>25</td>\n",
       "      <td>1.034249e+05</td>\n",
       "      <td>0</td>\n",
       "      <td>10.0</td>\n",
       "      <td>(0.0, 0.0, 0.0, 0.0, 0.0, 0.0, 0.0, 0.0, 0.0, ...</td>\n",
       "    </tr>\n",
       "  </tbody>\n",
       "</table>\n",
       "<p>3784 rows × 10 columns</p>\n",
       "</div>"
      ],
      "text/plain": [
       "          tag  total_num_consumer  avg_dollar_value  total_num_transaction  \\\n",
       "4     jewelry                  33       9848.725594                     33   \n",
       "6     jewelry                   3       3622.567091                      3   \n",
       "8     jewelry                   5       4844.117193                      5   \n",
       "10    jewelry                  17       2647.341101                     17   \n",
       "11    jewelry                  25       5595.325452                     25   \n",
       "...       ...                 ...               ...                    ...   \n",
       "3948  bicycle                 167        147.146114                    169   \n",
       "3949  bicycle                 240         51.738894                    241   \n",
       "3950  bicycle                 356        980.503019                    358   \n",
       "3951  bicycle                 236       1540.157629                    238   \n",
       "3952  bicycle                  25       1295.337568                     25   \n",
       "\n",
       "       mean_income  total_num_postcode  next_total_revenue  tag_labels  \\\n",
       "4     60891.909091                  33        6.996211e+03           2   \n",
       "6     66842.666667                   3        5.551665e+03           2   \n",
       "8     64499.400000                   5        2.973525e+03           2   \n",
       "10    65339.823529                  17        1.995391e+04           2   \n",
       "11    66485.200000                  25        2.011502e+04           2   \n",
       "...            ...                 ...                 ...         ...   \n",
       "3948  63679.236686                 163        6.416802e+04           0   \n",
       "3949  61790.132780                 230        5.320625e+04           0   \n",
       "3950  63258.500000                 336        1.381719e+06           0   \n",
       "3951  61031.621849                 232        6.890149e+05           0   \n",
       "3952  70495.000000                  25        1.034249e+05           0   \n",
       "\n",
       "      tagIndex                                             tagOHE  \n",
       "4         23.0  (0.0, 0.0, 0.0, 0.0, 0.0, 0.0, 0.0, 0.0, 0.0, ...  \n",
       "6         23.0  (0.0, 0.0, 0.0, 0.0, 0.0, 0.0, 0.0, 0.0, 0.0, ...  \n",
       "8         23.0  (0.0, 0.0, 0.0, 0.0, 0.0, 0.0, 0.0, 0.0, 0.0, ...  \n",
       "10        23.0  (0.0, 0.0, 0.0, 0.0, 0.0, 0.0, 0.0, 0.0, 0.0, ...  \n",
       "11        23.0  (0.0, 0.0, 0.0, 0.0, 0.0, 0.0, 0.0, 0.0, 0.0, ...  \n",
       "...        ...                                                ...  \n",
       "3948      10.0  (0.0, 0.0, 0.0, 0.0, 0.0, 0.0, 0.0, 0.0, 0.0, ...  \n",
       "3949      10.0  (0.0, 0.0, 0.0, 0.0, 0.0, 0.0, 0.0, 0.0, 0.0, ...  \n",
       "3950      10.0  (0.0, 0.0, 0.0, 0.0, 0.0, 0.0, 0.0, 0.0, 0.0, ...  \n",
       "3951      10.0  (0.0, 0.0, 0.0, 0.0, 0.0, 0.0, 0.0, 0.0, 0.0, ...  \n",
       "3952      10.0  (0.0, 0.0, 0.0, 0.0, 0.0, 0.0, 0.0, 0.0, 0.0, ...  \n",
       "\n",
       "[3784 rows x 10 columns]"
      ]
     },
     "execution_count": 33,
     "metadata": {},
     "output_type": "execute_result"
    }
   ],
   "source": [
    "revenue_pd = revenue_df.toPandas().dropna()\n",
    "revenue_pd"
   ]
  },
  {
   "cell_type": "code",
   "execution_count": 34,
   "metadata": {},
   "outputs": [],
   "source": [
    "features_pd = ['total_num_consumer', 'avg_dollar_value', 'total_num_transaction', 'mean_income', 'total_num_postcode']\n",
    "X = revenue_pd[features_pd]\n",
    "y = revenue_pd['next_total_revenue'].to_numpy()"
   ]
  },
  {
   "cell_type": "code",
   "execution_count": 35,
   "metadata": {},
   "outputs": [],
   "source": [
    "X_train, X_test, y_train, y_test = train_test_split(X, y,random_state=30034, test_size=0.3)"
   ]
  },
  {
   "cell_type": "code",
   "execution_count": 36,
   "metadata": {},
   "outputs": [
    {
     "data": {
      "text/plain": [
       "((2648, 5), (1136, 5))"
      ]
     },
     "execution_count": 36,
     "metadata": {},
     "output_type": "execute_result"
    }
   ],
   "source": [
    "# scale train and test dataset in order to be standard normally distributed with zero mean\n",
    "sc_X = StandardScaler()\n",
    "X_trainscaled=sc_X.fit_transform(X_train)\n",
    "X_testscaled=sc_X.transform(X_test)\n",
    "X_trainscaled.shape, X_testscaled.shape"
   ]
  },
  {
   "cell_type": "markdown",
   "metadata": {},
   "source": [
    "##### Hyperparameters"
   ]
  },
  {
   "cell_type": "code",
   "execution_count": 42,
   "metadata": {},
   "outputs": [
    {
     "name": "stdout",
     "output_type": "stream",
     "text": [
      "The Score with  0.6755919993467134\n"
     ]
    }
   ],
   "source": [
    "mlp_reg = MLPRegressor(hidden_layer_sizes=(128,128,128),activation=\"relu\" ,solver = 'adam', random_state=30034, max_iter=20000)\\\n",
    "    .fit(X_trainscaled, y_train)\n",
    "y_pred=mlp_reg.predict(X_testscaled)\n",
    "print(\"The Score with \", (metrics.r2_score(y_pred, y_test)))"
   ]
  },
  {
   "cell_type": "code",
   "execution_count": 48,
   "metadata": {},
   "outputs": [
    {
     "name": "stdout",
     "output_type": "stream",
     "text": [
      "The Score with  0.7147332388747438\n"
     ]
    }
   ],
   "source": [
    "mlp_reg = MLPRegressor(hidden_layer_sizes=(128,128,128,128),activation=\"relu\" ,solver = 'adam', random_state=30034, max_iter=20000)\\\n",
    "    .fit(X_trainscaled, y_train)\n",
    "y_pred=mlp_reg.predict(X_testscaled)\n",
    "print(\"The Score with \", (metrics.r2_score(y_pred, y_test)))"
   ]
  },
  {
   "cell_type": "code",
   "execution_count": 49,
   "metadata": {},
   "outputs": [
    {
     "name": "stdout",
     "output_type": "stream",
     "text": [
      "The Score with  -7.809592698162063e+36\n"
     ]
    },
    {
     "name": "stderr",
     "output_type": "stream",
     "text": [
      "/home/stluo/.local/lib/python3.8/site-packages/sklearn/neural_network/_multilayer_perceptron.py:709: UserWarning: Training interrupted by user.\n",
      "  warnings.warn(\"Training interrupted by user.\")\n"
     ]
    }
   ],
   "source": [
    "mlp_reg = MLPRegressor(hidden_layer_sizes=(128,128,128,128),activation=\"tanh\" ,solver = 'adam', random_state=30034, max_iter=20000)\\\n",
    "    .fit(X_trainscaled, y_train)\n",
    "y_pred=mlp_reg.predict(X_testscaled)\n",
    "print(\"The Score with \", (metrics.r2_score(y_pred, y_test)))"
   ]
  },
  {
   "cell_type": "code",
   "execution_count": 50,
   "metadata": {},
   "outputs": [
    {
     "name": "stdout",
     "output_type": "stream",
     "text": [
      "The Score with  -8.710900745153732e+36\n"
     ]
    },
    {
     "name": "stderr",
     "output_type": "stream",
     "text": [
      "/home/stluo/.local/lib/python3.8/site-packages/sklearn/neural_network/_multilayer_perceptron.py:709: UserWarning: Training interrupted by user.\n",
      "  warnings.warn(\"Training interrupted by user.\")\n"
     ]
    }
   ],
   "source": [
    "mlp_reg = MLPRegressor(hidden_layer_sizes=(128,128,128,128),activation=\"logistic\" ,solver = 'adam', random_state=30034, max_iter=20000)\\\n",
    "    .fit(X_trainscaled, y_train)\n",
    "y_pred=mlp_reg.predict(X_testscaled)\n",
    "print(\"The Score with \", (metrics.r2_score(y_pred, y_test)))"
   ]
  },
  {
   "cell_type": "code",
   "execution_count": null,
   "metadata": {},
   "outputs": [],
   "source": [
    "mlp_reg = MLPRegressor(hidden_layer_sizes=(128,128,128,128),activation=\"relu\" ,solver = 'lbfgs', random_state=30034, max_iter=20000)\\\n",
    "    .fit(X_trainscaled, y_train)\n",
    "y_pred=mlp_reg.predict(X_testscaled)\n",
    "print(\"The Score with \", (metrics.r2_score(y_pred, y_test)))"
   ]
  },
  {
   "cell_type": "code",
   "execution_count": 51,
   "metadata": {},
   "outputs": [
    {
     "name": "stdout",
     "output_type": "stream",
     "text": [
      "The Score with  0.7193549243896455\n"
     ]
    }
   ],
   "source": [
    "mlp_reg = MLPRegressor(hidden_layer_sizes=(256,256,256,256),activation=\"relu\" ,solver = 'adam', random_state=30034, max_iter=20000)\\\n",
    "    .fit(X_trainscaled, y_train)\n",
    "y_pred=mlp_reg.predict(X_testscaled)\n",
    "print(\"The Score with \", (metrics.r2_score(y_pred, y_test)))"
   ]
  },
  {
   "cell_type": "code",
   "execution_count": 54,
   "metadata": {},
   "outputs": [
    {
     "name": "stdout",
     "output_type": "stream",
     "text": [
      "The Score with  0.7147332388747438\n"
     ]
    }
   ],
   "source": [
    "mlp_reg = MLPRegressor(hidden_layer_sizes=(128,128,128,128),activation=\"relu\" ,solver = 'adam', random_state=30034, max_iter=20000)\\\n",
    "    .fit(X_trainscaled, y_train)\n",
    "y_pred=mlp_reg.predict(X_testscaled)\n",
    "print(\"The Score with \", (metrics.r2_score(y_pred, y_test)))"
   ]
  },
  {
   "cell_type": "code",
   "execution_count": 38,
   "metadata": {},
   "outputs": [
    {
     "name": "stderr",
     "output_type": "stream",
     "text": [
      "/home/stluo/.local/lib/python3.8/site-packages/sklearn/utils/extmath.py:152: RuntimeWarning: overflow encountered in matmul\n",
      "  ret = a @ b\n",
      "/home/stluo/.local/lib/python3.8/site-packages/sklearn/utils/extmath.py:152: RuntimeWarning: invalid value encountered in matmul\n",
      "  ret = a @ b\n",
      "/home/stluo/.local/lib/python3.8/site-packages/sklearn/utils/extmath.py:152: RuntimeWarning: overflow encountered in matmul\n",
      "  ret = a @ b\n",
      "/home/stluo/.local/lib/python3.8/site-packages/sklearn/utils/extmath.py:152: RuntimeWarning: invalid value encountered in matmul\n",
      "  ret = a @ b\n",
      "/home/stluo/.local/lib/python3.8/site-packages/sklearn/utils/extmath.py:152: RuntimeWarning: overflow encountered in matmul\n",
      "  ret = a @ b\n",
      "/home/stluo/.local/lib/python3.8/site-packages/sklearn/utils/extmath.py:152: RuntimeWarning: invalid value encountered in matmul\n",
      "  ret = a @ b\n",
      "/home/stluo/.local/lib/python3.8/site-packages/sklearn/utils/extmath.py:152: RuntimeWarning: overflow encountered in matmul\n",
      "  ret = a @ b\n",
      "/home/stluo/.local/lib/python3.8/site-packages/sklearn/utils/extmath.py:152: RuntimeWarning: invalid value encountered in matmul\n",
      "  ret = a @ b\n",
      "/home/stluo/.local/lib/python3.8/site-packages/sklearn/utils/extmath.py:152: RuntimeWarning: overflow encountered in matmul\n",
      "  ret = a @ b\n",
      "/home/stluo/.local/lib/python3.8/site-packages/sklearn/utils/extmath.py:152: RuntimeWarning: invalid value encountered in matmul\n",
      "  ret = a @ b\n",
      "/home/stluo/.local/lib/python3.8/site-packages/sklearn/utils/extmath.py:152: RuntimeWarning: overflow encountered in matmul\n",
      "  ret = a @ b\n",
      "/home/stluo/.local/lib/python3.8/site-packages/sklearn/utils/extmath.py:152: RuntimeWarning: invalid value encountered in matmul\n",
      "  ret = a @ b\n",
      "/home/stluo/.local/lib/python3.8/site-packages/sklearn/utils/extmath.py:152: RuntimeWarning: overflow encountered in matmul\n",
      "  ret = a @ b\n",
      "/home/stluo/.local/lib/python3.8/site-packages/sklearn/utils/extmath.py:152: RuntimeWarning: invalid value encountered in matmul\n",
      "  ret = a @ b\n",
      "/home/stluo/.local/lib/python3.8/site-packages/sklearn/utils/extmath.py:152: RuntimeWarning: overflow encountered in matmul\n",
      "  ret = a @ b\n",
      "/home/stluo/.local/lib/python3.8/site-packages/sklearn/utils/extmath.py:152: RuntimeWarning: invalid value encountered in matmul\n",
      "  ret = a @ b\n",
      "/home/stluo/.local/lib/python3.8/site-packages/sklearn/utils/extmath.py:152: RuntimeWarning: overflow encountered in matmul\n",
      "  ret = a @ b\n",
      "/home/stluo/.local/lib/python3.8/site-packages/sklearn/utils/extmath.py:152: RuntimeWarning: invalid value encountered in matmul\n",
      "  ret = a @ b\n",
      "/home/stluo/.local/lib/python3.8/site-packages/sklearn/utils/extmath.py:152: RuntimeWarning: overflow encountered in matmul\n",
      "  ret = a @ b\n",
      "/home/stluo/.local/lib/python3.8/site-packages/sklearn/utils/extmath.py:152: RuntimeWarning: invalid value encountered in matmul\n",
      "  ret = a @ b\n",
      "/home/stluo/.local/lib/python3.8/site-packages/sklearn/utils/extmath.py:152: RuntimeWarning: overflow encountered in matmul\n",
      "  ret = a @ b\n",
      "/home/stluo/.local/lib/python3.8/site-packages/sklearn/utils/extmath.py:152: RuntimeWarning: invalid value encountered in matmul\n",
      "  ret = a @ b\n",
      "/home/stluo/.local/lib/python3.8/site-packages/sklearn/utils/extmath.py:152: RuntimeWarning: overflow encountered in matmul\n",
      "  ret = a @ b\n",
      "/home/stluo/.local/lib/python3.8/site-packages/sklearn/utils/extmath.py:152: RuntimeWarning: invalid value encountered in matmul\n",
      "  ret = a @ b\n",
      "/home/stluo/.local/lib/python3.8/site-packages/sklearn/utils/extmath.py:152: RuntimeWarning: overflow encountered in matmul\n",
      "  ret = a @ b\n",
      "/home/stluo/.local/lib/python3.8/site-packages/sklearn/utils/extmath.py:152: RuntimeWarning: invalid value encountered in matmul\n",
      "  ret = a @ b\n",
      "/home/stluo/.local/lib/python3.8/site-packages/sklearn/utils/extmath.py:152: RuntimeWarning: overflow encountered in matmul\n",
      "  ret = a @ b\n",
      "/home/stluo/.local/lib/python3.8/site-packages/sklearn/utils/extmath.py:152: RuntimeWarning: invalid value encountered in matmul\n",
      "  ret = a @ b\n",
      "/home/stluo/.local/lib/python3.8/site-packages/sklearn/utils/extmath.py:152: RuntimeWarning: overflow encountered in matmul\n",
      "  ret = a @ b\n",
      "/home/stluo/.local/lib/python3.8/site-packages/sklearn/utils/extmath.py:152: RuntimeWarning: invalid value encountered in matmul\n",
      "  ret = a @ b\n",
      "/home/stluo/.local/lib/python3.8/site-packages/sklearn/utils/extmath.py:152: RuntimeWarning: overflow encountered in matmul\n",
      "  ret = a @ b\n",
      "/home/stluo/.local/lib/python3.8/site-packages/sklearn/utils/extmath.py:152: RuntimeWarning: invalid value encountered in matmul\n",
      "  ret = a @ b\n"
     ]
    },
    {
     "name": "stdout",
     "output_type": "stream",
     "text": [
      "22/09/26 10:58:45 WARN HeartbeatReceiver: Removing executor driver with no recent heartbeats: 221434 ms exceeds timeout 120000 ms\n",
      "22/09/26 10:58:45 WARN SparkContext: Killing executors is not supported by current scheduler.\n"
     ]
    },
    {
     "name": "stderr",
     "output_type": "stream",
     "text": [
      "/home/stluo/.local/lib/python3.8/site-packages/sklearn/neural_network/_multilayer_perceptron.py:702: ConvergenceWarning: Stochastic Optimizer: Maximum iterations (20000) reached and the optimization hasn't converged yet.\n",
      "  warnings.warn(\n",
      "/home/stluo/.local/lib/python3.8/site-packages/sklearn/utils/extmath.py:152: RuntimeWarning: overflow encountered in matmul\n",
      "  ret = a @ b\n",
      "/home/stluo/.local/lib/python3.8/site-packages/sklearn/utils/extmath.py:152: RuntimeWarning: invalid value encountered in matmul\n",
      "  ret = a @ b\n",
      "/home/stluo/.local/lib/python3.8/site-packages/sklearn/neural_network/_multilayer_perceptron.py:702: ConvergenceWarning: Stochastic Optimizer: Maximum iterations (20000) reached and the optimization hasn't converged yet.\n",
      "  warnings.warn(\n",
      "/home/stluo/.local/lib/python3.8/site-packages/sklearn/utils/extmath.py:152: RuntimeWarning: overflow encountered in matmul\n",
      "  ret = a @ b\n",
      "/home/stluo/.local/lib/python3.8/site-packages/sklearn/utils/extmath.py:152: RuntimeWarning: invalid value encountered in matmul\n",
      "  ret = a @ b\n",
      "/home/stluo/.local/lib/python3.8/site-packages/sklearn/neural_network/_multilayer_perceptron.py:702: ConvergenceWarning: Stochastic Optimizer: Maximum iterations (20000) reached and the optimization hasn't converged yet.\n",
      "  warnings.warn(\n",
      "/home/stluo/.local/lib/python3.8/site-packages/sklearn/utils/extmath.py:152: RuntimeWarning: overflow encountered in matmul\n",
      "  ret = a @ b\n",
      "/home/stluo/.local/lib/python3.8/site-packages/sklearn/utils/extmath.py:152: RuntimeWarning: invalid value encountered in matmul\n",
      "  ret = a @ b\n",
      "/home/stluo/.local/lib/python3.8/site-packages/sklearn/neural_network/_multilayer_perceptron.py:702: ConvergenceWarning: Stochastic Optimizer: Maximum iterations (20000) reached and the optimization hasn't converged yet.\n",
      "  warnings.warn(\n",
      "/home/stluo/.local/lib/python3.8/site-packages/sklearn/utils/extmath.py:152: RuntimeWarning: overflow encountered in matmul\n",
      "  ret = a @ b\n",
      "/home/stluo/.local/lib/python3.8/site-packages/sklearn/utils/extmath.py:152: RuntimeWarning: invalid value encountered in matmul\n",
      "  ret = a @ b\n",
      "/home/stluo/.local/lib/python3.8/site-packages/sklearn/neural_network/_multilayer_perceptron.py:702: ConvergenceWarning: Stochastic Optimizer: Maximum iterations (20000) reached and the optimization hasn't converged yet.\n",
      "  warnings.warn(\n",
      "/home/stluo/.local/lib/python3.8/site-packages/sklearn/neural_network/_multilayer_perceptron.py:702: ConvergenceWarning: Stochastic Optimizer: Maximum iterations (20000) reached and the optimization hasn't converged yet.\n",
      "  warnings.warn(\n",
      "/home/stluo/.local/lib/python3.8/site-packages/sklearn/utils/extmath.py:152: RuntimeWarning: overflow encountered in matmul\n",
      "  ret = a @ b\n",
      "/home/stluo/.local/lib/python3.8/site-packages/sklearn/utils/extmath.py:152: RuntimeWarning: invalid value encountered in matmul\n",
      "  ret = a @ b\n",
      "/home/stluo/.local/lib/python3.8/site-packages/sklearn/utils/extmath.py:152: RuntimeWarning: overflow encountered in matmul\n",
      "  ret = a @ b\n",
      "/home/stluo/.local/lib/python3.8/site-packages/sklearn/utils/extmath.py:152: RuntimeWarning: invalid value encountered in matmul\n",
      "  ret = a @ b\n",
      "/home/stluo/.local/lib/python3.8/site-packages/sklearn/neural_network/_multilayer_perceptron.py:702: ConvergenceWarning: Stochastic Optimizer: Maximum iterations (20000) reached and the optimization hasn't converged yet.\n",
      "  warnings.warn(\n",
      "/home/stluo/.local/lib/python3.8/site-packages/sklearn/utils/extmath.py:152: RuntimeWarning: overflow encountered in matmul\n",
      "  ret = a @ b\n",
      "/home/stluo/.local/lib/python3.8/site-packages/sklearn/utils/extmath.py:152: RuntimeWarning: invalid value encountered in matmul\n",
      "  ret = a @ b\n",
      "/home/stluo/.local/lib/python3.8/site-packages/sklearn/neural_network/_multilayer_perceptron.py:702: ConvergenceWarning: Stochastic Optimizer: Maximum iterations (20000) reached and the optimization hasn't converged yet.\n",
      "  warnings.warn(\n",
      "/home/stluo/.local/lib/python3.8/site-packages/sklearn/utils/extmath.py:152: RuntimeWarning: overflow encountered in matmul\n",
      "  ret = a @ b\n",
      "/home/stluo/.local/lib/python3.8/site-packages/sklearn/utils/extmath.py:152: RuntimeWarning: invalid value encountered in matmul\n",
      "  ret = a @ b\n",
      "/home/stluo/.local/lib/python3.8/site-packages/sklearn/neural_network/_multilayer_perceptron.py:702: ConvergenceWarning: Stochastic Optimizer: Maximum iterations (20000) reached and the optimization hasn't converged yet.\n",
      "  warnings.warn(\n",
      "/home/stluo/.local/lib/python3.8/site-packages/sklearn/utils/extmath.py:152: RuntimeWarning: overflow encountered in matmul\n",
      "  ret = a @ b\n",
      "/home/stluo/.local/lib/python3.8/site-packages/sklearn/utils/extmath.py:152: RuntimeWarning: invalid value encountered in matmul\n",
      "  ret = a @ b\n",
      "/home/stluo/.local/lib/python3.8/site-packages/sklearn/neural_network/_multilayer_perceptron.py:702: ConvergenceWarning: Stochastic Optimizer: Maximum iterations (20000) reached and the optimization hasn't converged yet.\n",
      "  warnings.warn(\n",
      "/home/stluo/.local/lib/python3.8/site-packages/sklearn/neural_network/_multilayer_perceptron.py:702: ConvergenceWarning: Stochastic Optimizer: Maximum iterations (20000) reached and the optimization hasn't converged yet.\n",
      "  warnings.warn(\n",
      "/home/stluo/.local/lib/python3.8/site-packages/sklearn/utils/extmath.py:152: RuntimeWarning: overflow encountered in matmul\n",
      "  ret = a @ b\n",
      "/home/stluo/.local/lib/python3.8/site-packages/sklearn/utils/extmath.py:152: RuntimeWarning: invalid value encountered in matmul\n",
      "  ret = a @ b\n",
      "/home/stluo/.local/lib/python3.8/site-packages/sklearn/utils/extmath.py:152: RuntimeWarning: overflow encountered in matmul\n",
      "  ret = a @ b\n",
      "/home/stluo/.local/lib/python3.8/site-packages/sklearn/utils/extmath.py:152: RuntimeWarning: invalid value encountered in matmul\n",
      "  ret = a @ b\n",
      "/home/stluo/.local/lib/python3.8/site-packages/sklearn/neural_network/_multilayer_perceptron.py:702: ConvergenceWarning: Stochastic Optimizer: Maximum iterations (20000) reached and the optimization hasn't converged yet.\n",
      "  warnings.warn(\n",
      "/home/stluo/.local/lib/python3.8/site-packages/sklearn/utils/extmath.py:152: RuntimeWarning: overflow encountered in matmul\n",
      "  ret = a @ b\n",
      "/home/stluo/.local/lib/python3.8/site-packages/sklearn/utils/extmath.py:152: RuntimeWarning: invalid value encountered in matmul\n",
      "  ret = a @ b\n",
      "/home/stluo/.local/lib/python3.8/site-packages/sklearn/neural_network/_multilayer_perceptron.py:702: ConvergenceWarning: Stochastic Optimizer: Maximum iterations (20000) reached and the optimization hasn't converged yet.\n",
      "  warnings.warn(\n",
      "/home/stluo/.local/lib/python3.8/site-packages/sklearn/utils/extmath.py:152: RuntimeWarning: overflow encountered in matmul\n",
      "  ret = a @ b\n",
      "/home/stluo/.local/lib/python3.8/site-packages/sklearn/utils/extmath.py:152: RuntimeWarning: invalid value encountered in matmul\n",
      "  ret = a @ b\n",
      "/home/stluo/.local/lib/python3.8/site-packages/sklearn/neural_network/_multilayer_perceptron.py:702: ConvergenceWarning: Stochastic Optimizer: Maximum iterations (20000) reached and the optimization hasn't converged yet.\n",
      "  warnings.warn(\n",
      "/home/stluo/.local/lib/python3.8/site-packages/sklearn/utils/extmath.py:152: RuntimeWarning: overflow encountered in matmul\n",
      "  ret = a @ b\n",
      "/home/stluo/.local/lib/python3.8/site-packages/sklearn/utils/extmath.py:152: RuntimeWarning: invalid value encountered in matmul\n",
      "  ret = a @ b\n",
      "/home/stluo/.local/lib/python3.8/site-packages/sklearn/neural_network/_multilayer_perceptron.py:702: ConvergenceWarning: Stochastic Optimizer: Maximum iterations (20000) reached and the optimization hasn't converged yet.\n",
      "  warnings.warn(\n",
      "/home/stluo/.local/lib/python3.8/site-packages/sklearn/neural_network/_multilayer_perceptron.py:702: ConvergenceWarning: Stochastic Optimizer: Maximum iterations (20000) reached and the optimization hasn't converged yet.\n",
      "  warnings.warn(\n",
      "/home/stluo/.local/lib/python3.8/site-packages/sklearn/utils/extmath.py:152: RuntimeWarning: overflow encountered in matmul\n",
      "  ret = a @ b\n",
      "/home/stluo/.local/lib/python3.8/site-packages/sklearn/utils/extmath.py:152: RuntimeWarning: invalid value encountered in matmul\n",
      "  ret = a @ b\n",
      "/home/stluo/.local/lib/python3.8/site-packages/sklearn/utils/extmath.py:152: RuntimeWarning: overflow encountered in matmul\n",
      "  ret = a @ b\n",
      "/home/stluo/.local/lib/python3.8/site-packages/sklearn/utils/extmath.py:152: RuntimeWarning: invalid value encountered in matmul\n",
      "  ret = a @ b\n"
     ]
    },
    {
     "ename": "KeyboardInterrupt",
     "evalue": "",
     "output_type": "error",
     "traceback": [
      "\u001b[0;31m---------------------------------------------------------------------------\u001b[0m",
      "\u001b[0;31mKeyboardInterrupt\u001b[0m                         Traceback (most recent call last)",
      "\u001b[1;32m/home/stluo/ADS tut/generic-buy-now-pay-later-project-group-14/models/predict_revenue.ipynb Cell 54\u001b[0m in \u001b[0;36m<cell line: 11>\u001b[0;34m()\u001b[0m\n\u001b[1;32m      <a href='vscode-notebook-cell://wsl%2Bubuntu-20.04/home/stluo/ADS%20tut/generic-buy-now-pay-later-project-group-14/models/predict_revenue.ipynb#Y202sdnNjb2RlLXJlbW90ZQ%3D%3D?line=1'>2</a>\u001b[0m param_grid \u001b[39m=\u001b[39m {\n\u001b[1;32m      <a href='vscode-notebook-cell://wsl%2Bubuntu-20.04/home/stluo/ADS%20tut/generic-buy-now-pay-later-project-group-14/models/predict_revenue.ipynb#Y202sdnNjb2RlLXJlbW90ZQ%3D%3D?line=2'>3</a>\u001b[0m     \u001b[39m'\u001b[39m\u001b[39mhidden_layer_sizes\u001b[39m\u001b[39m'\u001b[39m: [(\u001b[39m150\u001b[39m,\u001b[39m100\u001b[39m,\u001b[39m50\u001b[39m), (\u001b[39m120\u001b[39m,\u001b[39m80\u001b[39m,\u001b[39m40\u001b[39m), (\u001b[39m100\u001b[39m,\u001b[39m50\u001b[39m,\u001b[39m30\u001b[39m)],\n\u001b[1;32m      <a href='vscode-notebook-cell://wsl%2Bubuntu-20.04/home/stluo/ADS%20tut/generic-buy-now-pay-later-project-group-14/models/predict_revenue.ipynb#Y202sdnNjb2RlLXJlbW90ZQ%3D%3D?line=3'>4</a>\u001b[0m     \u001b[39m'\u001b[39m\u001b[39mactivation\u001b[39m\u001b[39m'\u001b[39m: [\u001b[39m'\u001b[39m\u001b[39midentity\u001b[39m\u001b[39m'\u001b[39m, \u001b[39m'\u001b[39m\u001b[39mlogistic\u001b[39m\u001b[39m'\u001b[39m, \u001b[39m'\u001b[39m\u001b[39mtanh\u001b[39m\u001b[39m'\u001b[39m, \u001b[39m'\u001b[39m\u001b[39mrelu\u001b[39m\u001b[39m'\u001b[39m],\n\u001b[0;32m   (...)\u001b[0m\n\u001b[1;32m      <a href='vscode-notebook-cell://wsl%2Bubuntu-20.04/home/stluo/ADS%20tut/generic-buy-now-pay-later-project-group-14/models/predict_revenue.ipynb#Y202sdnNjb2RlLXJlbW90ZQ%3D%3D?line=6'>7</a>\u001b[0m     \u001b[39m'\u001b[39m\u001b[39mlearning_rate\u001b[39m\u001b[39m'\u001b[39m: [\u001b[39m'\u001b[39m\u001b[39mconstant\u001b[39m\u001b[39m'\u001b[39m,\u001b[39m'\u001b[39m\u001b[39madaptive\u001b[39m\u001b[39m'\u001b[39m],\n\u001b[1;32m      <a href='vscode-notebook-cell://wsl%2Bubuntu-20.04/home/stluo/ADS%20tut/generic-buy-now-pay-later-project-group-14/models/predict_revenue.ipynb#Y202sdnNjb2RlLXJlbW90ZQ%3D%3D?line=7'>8</a>\u001b[0m }\n\u001b[1;32m     <a href='vscode-notebook-cell://wsl%2Bubuntu-20.04/home/stluo/ADS%20tut/generic-buy-now-pay-later-project-group-14/models/predict_revenue.ipynb#Y202sdnNjb2RlLXJlbW90ZQ%3D%3D?line=9'>10</a>\u001b[0m grid \u001b[39m=\u001b[39m GridSearchCV(mlp_reg, param_grid, n_jobs\u001b[39m=\u001b[39m \u001b[39m-\u001b[39m\u001b[39m1\u001b[39m, cv\u001b[39m=\u001b[39m\u001b[39m5\u001b[39m)\n\u001b[0;32m---> <a href='vscode-notebook-cell://wsl%2Bubuntu-20.04/home/stluo/ADS%20tut/generic-buy-now-pay-later-project-group-14/models/predict_revenue.ipynb#Y202sdnNjb2RlLXJlbW90ZQ%3D%3D?line=10'>11</a>\u001b[0m grid\u001b[39m.\u001b[39;49mfit(X_trainscaled, y_train)\n\u001b[1;32m     <a href='vscode-notebook-cell://wsl%2Bubuntu-20.04/home/stluo/ADS%20tut/generic-buy-now-pay-later-project-group-14/models/predict_revenue.ipynb#Y202sdnNjb2RlLXJlbW90ZQ%3D%3D?line=11'>12</a>\u001b[0m \u001b[39mprint\u001b[39m(grid\u001b[39m.\u001b[39mbest_params_)\n",
      "File \u001b[0;32m~/.local/lib/python3.8/site-packages/sklearn/model_selection/_search.py:875\u001b[0m, in \u001b[0;36mBaseSearchCV.fit\u001b[0;34m(self, X, y, groups, **fit_params)\u001b[0m\n\u001b[1;32m    869\u001b[0m     results \u001b[39m=\u001b[39m \u001b[39mself\u001b[39m\u001b[39m.\u001b[39m_format_results(\n\u001b[1;32m    870\u001b[0m         all_candidate_params, n_splits, all_out, all_more_results\n\u001b[1;32m    871\u001b[0m     )\n\u001b[1;32m    873\u001b[0m     \u001b[39mreturn\u001b[39;00m results\n\u001b[0;32m--> 875\u001b[0m \u001b[39mself\u001b[39;49m\u001b[39m.\u001b[39;49m_run_search(evaluate_candidates)\n\u001b[1;32m    877\u001b[0m \u001b[39m# multimetric is determined here because in the case of a callable\u001b[39;00m\n\u001b[1;32m    878\u001b[0m \u001b[39m# self.scoring the return type is only known after calling\u001b[39;00m\n\u001b[1;32m    879\u001b[0m first_test_score \u001b[39m=\u001b[39m all_out[\u001b[39m0\u001b[39m][\u001b[39m\"\u001b[39m\u001b[39mtest_scores\u001b[39m\u001b[39m\"\u001b[39m]\n",
      "File \u001b[0;32m~/.local/lib/python3.8/site-packages/sklearn/model_selection/_search.py:1379\u001b[0m, in \u001b[0;36mGridSearchCV._run_search\u001b[0;34m(self, evaluate_candidates)\u001b[0m\n\u001b[1;32m   1377\u001b[0m \u001b[39mdef\u001b[39;00m \u001b[39m_run_search\u001b[39m(\u001b[39mself\u001b[39m, evaluate_candidates):\n\u001b[1;32m   1378\u001b[0m     \u001b[39m\"\"\"Search all candidates in param_grid\"\"\"\u001b[39;00m\n\u001b[0;32m-> 1379\u001b[0m     evaluate_candidates(ParameterGrid(\u001b[39mself\u001b[39;49m\u001b[39m.\u001b[39;49mparam_grid))\n",
      "File \u001b[0;32m~/.local/lib/python3.8/site-packages/sklearn/model_selection/_search.py:822\u001b[0m, in \u001b[0;36mBaseSearchCV.fit.<locals>.evaluate_candidates\u001b[0;34m(candidate_params, cv, more_results)\u001b[0m\n\u001b[1;32m    814\u001b[0m \u001b[39mif\u001b[39;00m \u001b[39mself\u001b[39m\u001b[39m.\u001b[39mverbose \u001b[39m>\u001b[39m \u001b[39m0\u001b[39m:\n\u001b[1;32m    815\u001b[0m     \u001b[39mprint\u001b[39m(\n\u001b[1;32m    816\u001b[0m         \u001b[39m\"\u001b[39m\u001b[39mFitting \u001b[39m\u001b[39m{0}\u001b[39;00m\u001b[39m folds for each of \u001b[39m\u001b[39m{1}\u001b[39;00m\u001b[39m candidates,\u001b[39m\u001b[39m\"\u001b[39m\n\u001b[1;32m    817\u001b[0m         \u001b[39m\"\u001b[39m\u001b[39m totalling \u001b[39m\u001b[39m{2}\u001b[39;00m\u001b[39m fits\u001b[39m\u001b[39m\"\u001b[39m\u001b[39m.\u001b[39mformat(\n\u001b[1;32m    818\u001b[0m             n_splits, n_candidates, n_candidates \u001b[39m*\u001b[39m n_splits\n\u001b[1;32m    819\u001b[0m         )\n\u001b[1;32m    820\u001b[0m     )\n\u001b[0;32m--> 822\u001b[0m out \u001b[39m=\u001b[39m parallel(\n\u001b[1;32m    823\u001b[0m     delayed(_fit_and_score)(\n\u001b[1;32m    824\u001b[0m         clone(base_estimator),\n\u001b[1;32m    825\u001b[0m         X,\n\u001b[1;32m    826\u001b[0m         y,\n\u001b[1;32m    827\u001b[0m         train\u001b[39m=\u001b[39;49mtrain,\n\u001b[1;32m    828\u001b[0m         test\u001b[39m=\u001b[39;49mtest,\n\u001b[1;32m    829\u001b[0m         parameters\u001b[39m=\u001b[39;49mparameters,\n\u001b[1;32m    830\u001b[0m         split_progress\u001b[39m=\u001b[39;49m(split_idx, n_splits),\n\u001b[1;32m    831\u001b[0m         candidate_progress\u001b[39m=\u001b[39;49m(cand_idx, n_candidates),\n\u001b[1;32m    832\u001b[0m         \u001b[39m*\u001b[39;49m\u001b[39m*\u001b[39;49mfit_and_score_kwargs,\n\u001b[1;32m    833\u001b[0m     )\n\u001b[1;32m    834\u001b[0m     \u001b[39mfor\u001b[39;49;00m (cand_idx, parameters), (split_idx, (train, test)) \u001b[39min\u001b[39;49;00m product(\n\u001b[1;32m    835\u001b[0m         \u001b[39menumerate\u001b[39;49m(candidate_params), \u001b[39menumerate\u001b[39;49m(cv\u001b[39m.\u001b[39;49msplit(X, y, groups))\n\u001b[1;32m    836\u001b[0m     )\n\u001b[1;32m    837\u001b[0m )\n\u001b[1;32m    839\u001b[0m \u001b[39mif\u001b[39;00m \u001b[39mlen\u001b[39m(out) \u001b[39m<\u001b[39m \u001b[39m1\u001b[39m:\n\u001b[1;32m    840\u001b[0m     \u001b[39mraise\u001b[39;00m \u001b[39mValueError\u001b[39;00m(\n\u001b[1;32m    841\u001b[0m         \u001b[39m\"\u001b[39m\u001b[39mNo fits were performed. \u001b[39m\u001b[39m\"\u001b[39m\n\u001b[1;32m    842\u001b[0m         \u001b[39m\"\u001b[39m\u001b[39mWas the CV iterator empty? \u001b[39m\u001b[39m\"\u001b[39m\n\u001b[1;32m    843\u001b[0m         \u001b[39m\"\u001b[39m\u001b[39mWere there no candidates?\u001b[39m\u001b[39m\"\u001b[39m\n\u001b[1;32m    844\u001b[0m     )\n",
      "File \u001b[0;32m~/.local/lib/python3.8/site-packages/joblib/parallel.py:1056\u001b[0m, in \u001b[0;36mParallel.__call__\u001b[0;34m(self, iterable)\u001b[0m\n\u001b[1;32m   1053\u001b[0m     \u001b[39mself\u001b[39m\u001b[39m.\u001b[39m_iterating \u001b[39m=\u001b[39m \u001b[39mFalse\u001b[39;00m\n\u001b[1;32m   1055\u001b[0m \u001b[39mwith\u001b[39;00m \u001b[39mself\u001b[39m\u001b[39m.\u001b[39m_backend\u001b[39m.\u001b[39mretrieval_context():\n\u001b[0;32m-> 1056\u001b[0m     \u001b[39mself\u001b[39;49m\u001b[39m.\u001b[39;49mretrieve()\n\u001b[1;32m   1057\u001b[0m \u001b[39m# Make sure that we get a last message telling us we are done\u001b[39;00m\n\u001b[1;32m   1058\u001b[0m elapsed_time \u001b[39m=\u001b[39m time\u001b[39m.\u001b[39mtime() \u001b[39m-\u001b[39m \u001b[39mself\u001b[39m\u001b[39m.\u001b[39m_start_time\n",
      "File \u001b[0;32m~/.local/lib/python3.8/site-packages/joblib/parallel.py:935\u001b[0m, in \u001b[0;36mParallel.retrieve\u001b[0;34m(self)\u001b[0m\n\u001b[1;32m    933\u001b[0m \u001b[39mtry\u001b[39;00m:\n\u001b[1;32m    934\u001b[0m     \u001b[39mif\u001b[39;00m \u001b[39mgetattr\u001b[39m(\u001b[39mself\u001b[39m\u001b[39m.\u001b[39m_backend, \u001b[39m'\u001b[39m\u001b[39msupports_timeout\u001b[39m\u001b[39m'\u001b[39m, \u001b[39mFalse\u001b[39;00m):\n\u001b[0;32m--> 935\u001b[0m         \u001b[39mself\u001b[39m\u001b[39m.\u001b[39m_output\u001b[39m.\u001b[39mextend(job\u001b[39m.\u001b[39;49mget(timeout\u001b[39m=\u001b[39;49m\u001b[39mself\u001b[39;49m\u001b[39m.\u001b[39;49mtimeout))\n\u001b[1;32m    936\u001b[0m     \u001b[39melse\u001b[39;00m:\n\u001b[1;32m    937\u001b[0m         \u001b[39mself\u001b[39m\u001b[39m.\u001b[39m_output\u001b[39m.\u001b[39mextend(job\u001b[39m.\u001b[39mget())\n",
      "File \u001b[0;32m~/.local/lib/python3.8/site-packages/joblib/_parallel_backends.py:542\u001b[0m, in \u001b[0;36mLokyBackend.wrap_future_result\u001b[0;34m(future, timeout)\u001b[0m\n\u001b[1;32m    539\u001b[0m \u001b[39m\"\"\"Wrapper for Future.result to implement the same behaviour as\u001b[39;00m\n\u001b[1;32m    540\u001b[0m \u001b[39mAsyncResults.get from multiprocessing.\"\"\"\u001b[39;00m\n\u001b[1;32m    541\u001b[0m \u001b[39mtry\u001b[39;00m:\n\u001b[0;32m--> 542\u001b[0m     \u001b[39mreturn\u001b[39;00m future\u001b[39m.\u001b[39;49mresult(timeout\u001b[39m=\u001b[39;49mtimeout)\n\u001b[1;32m    543\u001b[0m \u001b[39mexcept\u001b[39;00m CfTimeoutError \u001b[39mas\u001b[39;00m e:\n\u001b[1;32m    544\u001b[0m     \u001b[39mraise\u001b[39;00m \u001b[39mTimeoutError\u001b[39;00m \u001b[39mfrom\u001b[39;00m \u001b[39me\u001b[39;00m\n",
      "File \u001b[0;32m/usr/lib/python3.8/concurrent/futures/_base.py:439\u001b[0m, in \u001b[0;36mFuture.result\u001b[0;34m(self, timeout)\u001b[0m\n\u001b[1;32m    436\u001b[0m \u001b[39melif\u001b[39;00m \u001b[39mself\u001b[39m\u001b[39m.\u001b[39m_state \u001b[39m==\u001b[39m FINISHED:\n\u001b[1;32m    437\u001b[0m     \u001b[39mreturn\u001b[39;00m \u001b[39mself\u001b[39m\u001b[39m.\u001b[39m__get_result()\n\u001b[0;32m--> 439\u001b[0m \u001b[39mself\u001b[39;49m\u001b[39m.\u001b[39;49m_condition\u001b[39m.\u001b[39;49mwait(timeout)\n\u001b[1;32m    441\u001b[0m \u001b[39mif\u001b[39;00m \u001b[39mself\u001b[39m\u001b[39m.\u001b[39m_state \u001b[39min\u001b[39;00m [CANCELLED, CANCELLED_AND_NOTIFIED]:\n\u001b[1;32m    442\u001b[0m     \u001b[39mraise\u001b[39;00m CancelledError()\n",
      "File \u001b[0;32m/usr/lib/python3.8/threading.py:302\u001b[0m, in \u001b[0;36mCondition.wait\u001b[0;34m(self, timeout)\u001b[0m\n\u001b[1;32m    300\u001b[0m \u001b[39mtry\u001b[39;00m:    \u001b[39m# restore state no matter what (e.g., KeyboardInterrupt)\u001b[39;00m\n\u001b[1;32m    301\u001b[0m     \u001b[39mif\u001b[39;00m timeout \u001b[39mis\u001b[39;00m \u001b[39mNone\u001b[39;00m:\n\u001b[0;32m--> 302\u001b[0m         waiter\u001b[39m.\u001b[39;49macquire()\n\u001b[1;32m    303\u001b[0m         gotit \u001b[39m=\u001b[39m \u001b[39mTrue\u001b[39;00m\n\u001b[1;32m    304\u001b[0m     \u001b[39melse\u001b[39;00m:\n",
      "\u001b[0;31mKeyboardInterrupt\u001b[0m: "
     ]
    }
   ],
   "source": [
    "# using grid search for best parameter combinations\n",
    "param_grid = {\n",
    "    'hidden_layer_sizes': [(150,100,50), (120,80,40), (100,50,30)],\n",
    "    'activation': ['identity', 'logistic', 'tanh', 'relu'],\n",
    "    'solver': ['sgd', 'adam', 'lbfgs'],\n",
    "    'alpha': [0.0001, 0.05],\n",
    "    'learning_rate': ['constant','adaptive'],\n",
    "}\n",
    "\n",
    "grid = GridSearchCV(mlp_reg, param_grid, n_jobs= -1, cv=5)\n",
    "grid.fit(X_trainscaled, y_train)\n",
    "print(grid.best_params_)"
   ]
  },
  {
   "cell_type": "code",
   "execution_count": null,
   "metadata": {},
   "outputs": [],
   "source": [
    "grid_predictions = grid.predict(X_testscaled)\n",
    "grid_result = pd.DataFrame({'Actual': y_test, 'Predicted': grid_predictions})\n",
    "grid_result.head()"
   ]
  },
  {
   "cell_type": "markdown",
   "metadata": {},
   "source": [
    "For solver: \n",
    "\n",
    "The default solver ‘adam’ works pretty well on relatively large datasets (with thousands of training samples or more) in terms of both training time and validation score. For small datasets, however, ‘lbfgs’ can converge faster and perform better.\n",
    "\n",
    "For activition:\n",
    "\n",
    "‘identity’, no-op activation, useful to implement linear bottleneck, returns f(x) = x\n",
    "\n",
    "‘logistic’, the logistic sigmoid function, returns f(x) = 1 / (1 + exp(-x)).\n",
    "\n",
    "‘tanh’, the hyperbolic tan function, returns f(x) = tanh(x).\n",
    "\n",
    "‘relu’, the rectified linear unit function, returns f(x) = max(0, x)\n",
    "\n",
    "(from Sklearn)"
   ]
  },
  {
   "cell_type": "markdown",
   "metadata": {},
   "source": [
    "##### Evaluation"
   ]
  },
  {
   "cell_type": "code",
   "execution_count": null,
   "metadata": {},
   "outputs": [],
   "source": [
    "df_result = pd.DataFrame({'Actual': y_test, 'Predicted': y_pred})\n",
    "df_result.head()"
   ]
  },
  {
   "cell_type": "code",
   "execution_count": null,
   "metadata": {},
   "outputs": [],
   "source": [
    "print('Mean Absolute Error:', metrics.mean_absolute_error(y_test, y_pred))  \n",
    "print('Mean Squared Error:', metrics.mean_squared_error(y_test, y_pred))  \n",
    "print('Root Mean Squared Error:', np.sqrt(metrics.mean_squared_error(y_test, y_pred)))"
   ]
  },
  {
   "cell_type": "code",
   "execution_count": null,
   "metadata": {},
   "outputs": [],
   "source": [
    "print('Mean Absolute Error for grid search:', metrics.mean_absolute_error(y_test, grid_predictions))  \n",
    "print('Mean Squared Error for grid search:', metrics.mean_squared_error(y_test, grid_predictions))  \n",
    "print('Root Mean Squared Error for grid search:', np.sqrt(metrics.mean_squared_error(y_test, grid_predictions)))\n"
   ]
  },
  {
   "cell_type": "code",
   "execution_count": null,
   "metadata": {},
   "outputs": [],
   "source": []
  },
  {
   "cell_type": "code",
   "execution_count": 30,
   "metadata": {},
   "outputs": [
    {
     "name": "stderr",
     "output_type": "stream",
     "text": [
      "2022-09-26 11:33:40.375243: I tensorflow/core/platform/cpu_feature_guard.cc:193] This TensorFlow binary is optimized with oneAPI Deep Neural Network Library (oneDNN) to use the following CPU instructions in performance-critical operations:  AVX2 FMA\n",
      "To enable them in other operations, rebuild TensorFlow with the appropriate compiler flags.\n",
      "2022-09-26 11:33:40.535022: W tensorflow/stream_executor/platform/default/dso_loader.cc:64] Could not load dynamic library 'libcudart.so.11.0'; dlerror: libcudart.so.11.0: cannot open shared object file: No such file or directory\n",
      "2022-09-26 11:33:40.535044: I tensorflow/stream_executor/cuda/cudart_stub.cc:29] Ignore above cudart dlerror if you do not have a GPU set up on your machine.\n",
      "2022-09-26 11:33:40.558965: E tensorflow/stream_executor/cuda/cuda_blas.cc:2981] Unable to register cuBLAS factory: Attempting to register factory for plugin cuBLAS when one has already been registered\n",
      "2022-09-26 11:33:41.349896: W tensorflow/stream_executor/platform/default/dso_loader.cc:64] Could not load dynamic library 'libnvinfer.so.7'; dlerror: libnvinfer.so.7: cannot open shared object file: No such file or directory\n",
      "2022-09-26 11:33:41.350041: W tensorflow/stream_executor/platform/default/dso_loader.cc:64] Could not load dynamic library 'libnvinfer_plugin.so.7'; dlerror: libnvinfer_plugin.so.7: cannot open shared object file: No such file or directory\n",
      "2022-09-26 11:33:41.350054: W tensorflow/compiler/tf2tensorrt/utils/py_utils.cc:38] TF-TRT Warning: Cannot dlopen some TensorRT libraries. If you would like to use Nvidia GPU with TensorRT, please make sure the missing libraries mentioned above are installed properly.\n"
     ]
    }
   ],
   "source": [
    "import pandas as pd\n",
    "from tensorflow.keras.models import Sequential\n",
    "from tensorflow.keras.layers import Dense\n",
    "from scikeras.wrappers import KerasRegressor\n",
    "from sklearn.model_selection import cross_val_score\n",
    "from sklearn.model_selection import KFold\n",
    "from sklearn.preprocessing import StandardScaler\n",
    "from sklearn.pipeline import Pipeline"
   ]
  },
  {
   "cell_type": "code",
   "execution_count": 41,
   "metadata": {},
   "outputs": [
    {
     "name": "stdout",
     "output_type": "stream",
     "text": [
      "22/09/26 13:25:19 WARN HeartbeatReceiver: Removing executor driver with no recent heartbeats: 3606424 ms exceeds timeout 120000 ms\n",
      "22/09/26 13:25:19 WARN SparkContext: Killing executors is not supported by current scheduler.\n"
     ]
    },
    {
     "ename": "KeyboardInterrupt",
     "evalue": "",
     "output_type": "error",
     "traceback": [
      "\u001b[0;31m---------------------------------------------------------------------------\u001b[0m",
      "\u001b[0;31mKeyboardInterrupt\u001b[0m                         Traceback (most recent call last)",
      "\u001b[1;32m/home/stluo/ADS tut/generic-buy-now-pay-later-project-group-14/models/predict_revenue.ipynb Cell 63\u001b[0m in \u001b[0;36m<cell line: 14>\u001b[0;34m()\u001b[0m\n\u001b[1;32m     <a href='vscode-notebook-cell://wsl%2Bubuntu-20.04/home/stluo/ADS%20tut/generic-buy-now-pay-later-project-group-14/models/predict_revenue.ipynb#Y216sdnNjb2RlLXJlbW90ZQ%3D%3D?line=11'>12</a>\u001b[0m pipeline \u001b[39m=\u001b[39m Pipeline(estimators)\n\u001b[1;32m     <a href='vscode-notebook-cell://wsl%2Bubuntu-20.04/home/stluo/ADS%20tut/generic-buy-now-pay-later-project-group-14/models/predict_revenue.ipynb#Y216sdnNjb2RlLXJlbW90ZQ%3D%3D?line=12'>13</a>\u001b[0m kfold \u001b[39m=\u001b[39m KFold(n_splits\u001b[39m=\u001b[39m\u001b[39m10\u001b[39m)\n\u001b[0;32m---> <a href='vscode-notebook-cell://wsl%2Bubuntu-20.04/home/stluo/ADS%20tut/generic-buy-now-pay-later-project-group-14/models/predict_revenue.ipynb#Y216sdnNjb2RlLXJlbW90ZQ%3D%3D?line=13'>14</a>\u001b[0m results \u001b[39m=\u001b[39m cross_val_score(pipeline, X_trainscaled, y_train, cv\u001b[39m=\u001b[39;49mkfold, scoring\u001b[39m=\u001b[39;49m\u001b[39m'\u001b[39;49m\u001b[39mneg_mean_squared_error\u001b[39;49m\u001b[39m'\u001b[39;49m)\n\u001b[1;32m     <a href='vscode-notebook-cell://wsl%2Bubuntu-20.04/home/stluo/ADS%20tut/generic-buy-now-pay-later-project-group-14/models/predict_revenue.ipynb#Y216sdnNjb2RlLXJlbW90ZQ%3D%3D?line=14'>15</a>\u001b[0m \u001b[39mprint\u001b[39m(\u001b[39m\"\u001b[39m\u001b[39mBaseline: \u001b[39m\u001b[39m%.2f\u001b[39;00m\u001b[39m (\u001b[39m\u001b[39m%.2f\u001b[39;00m\u001b[39m) MSE\u001b[39m\u001b[39m\"\u001b[39m \u001b[39m%\u001b[39m (results\u001b[39m.\u001b[39mmean(), results\u001b[39m.\u001b[39mstd()))\n",
      "File \u001b[0;32m~/.local/lib/python3.8/site-packages/sklearn/model_selection/_validation.py:515\u001b[0m, in \u001b[0;36mcross_val_score\u001b[0;34m(estimator, X, y, groups, scoring, cv, n_jobs, verbose, fit_params, pre_dispatch, error_score)\u001b[0m\n\u001b[1;32m    512\u001b[0m \u001b[39m# To ensure multimetric format is not supported\u001b[39;00m\n\u001b[1;32m    513\u001b[0m scorer \u001b[39m=\u001b[39m check_scoring(estimator, scoring\u001b[39m=\u001b[39mscoring)\n\u001b[0;32m--> 515\u001b[0m cv_results \u001b[39m=\u001b[39m cross_validate(\n\u001b[1;32m    516\u001b[0m     estimator\u001b[39m=\u001b[39;49mestimator,\n\u001b[1;32m    517\u001b[0m     X\u001b[39m=\u001b[39;49mX,\n\u001b[1;32m    518\u001b[0m     y\u001b[39m=\u001b[39;49my,\n\u001b[1;32m    519\u001b[0m     groups\u001b[39m=\u001b[39;49mgroups,\n\u001b[1;32m    520\u001b[0m     scoring\u001b[39m=\u001b[39;49m{\u001b[39m\"\u001b[39;49m\u001b[39mscore\u001b[39;49m\u001b[39m\"\u001b[39;49m: scorer},\n\u001b[1;32m    521\u001b[0m     cv\u001b[39m=\u001b[39;49mcv,\n\u001b[1;32m    522\u001b[0m     n_jobs\u001b[39m=\u001b[39;49mn_jobs,\n\u001b[1;32m    523\u001b[0m     verbose\u001b[39m=\u001b[39;49mverbose,\n\u001b[1;32m    524\u001b[0m     fit_params\u001b[39m=\u001b[39;49mfit_params,\n\u001b[1;32m    525\u001b[0m     pre_dispatch\u001b[39m=\u001b[39;49mpre_dispatch,\n\u001b[1;32m    526\u001b[0m     error_score\u001b[39m=\u001b[39;49merror_score,\n\u001b[1;32m    527\u001b[0m )\n\u001b[1;32m    528\u001b[0m \u001b[39mreturn\u001b[39;00m cv_results[\u001b[39m\"\u001b[39m\u001b[39mtest_score\u001b[39m\u001b[39m\"\u001b[39m]\n",
      "File \u001b[0;32m~/.local/lib/python3.8/site-packages/sklearn/model_selection/_validation.py:266\u001b[0m, in \u001b[0;36mcross_validate\u001b[0;34m(estimator, X, y, groups, scoring, cv, n_jobs, verbose, fit_params, pre_dispatch, return_train_score, return_estimator, error_score)\u001b[0m\n\u001b[1;32m    263\u001b[0m \u001b[39m# We clone the estimator to make sure that all the folds are\u001b[39;00m\n\u001b[1;32m    264\u001b[0m \u001b[39m# independent, and that it is pickle-able.\u001b[39;00m\n\u001b[1;32m    265\u001b[0m parallel \u001b[39m=\u001b[39m Parallel(n_jobs\u001b[39m=\u001b[39mn_jobs, verbose\u001b[39m=\u001b[39mverbose, pre_dispatch\u001b[39m=\u001b[39mpre_dispatch)\n\u001b[0;32m--> 266\u001b[0m results \u001b[39m=\u001b[39m parallel(\n\u001b[1;32m    267\u001b[0m     delayed(_fit_and_score)(\n\u001b[1;32m    268\u001b[0m         clone(estimator),\n\u001b[1;32m    269\u001b[0m         X,\n\u001b[1;32m    270\u001b[0m         y,\n\u001b[1;32m    271\u001b[0m         scorers,\n\u001b[1;32m    272\u001b[0m         train,\n\u001b[1;32m    273\u001b[0m         test,\n\u001b[1;32m    274\u001b[0m         verbose,\n\u001b[1;32m    275\u001b[0m         \u001b[39mNone\u001b[39;49;00m,\n\u001b[1;32m    276\u001b[0m         fit_params,\n\u001b[1;32m    277\u001b[0m         return_train_score\u001b[39m=\u001b[39;49mreturn_train_score,\n\u001b[1;32m    278\u001b[0m         return_times\u001b[39m=\u001b[39;49m\u001b[39mTrue\u001b[39;49;00m,\n\u001b[1;32m    279\u001b[0m         return_estimator\u001b[39m=\u001b[39;49mreturn_estimator,\n\u001b[1;32m    280\u001b[0m         error_score\u001b[39m=\u001b[39;49merror_score,\n\u001b[1;32m    281\u001b[0m     )\n\u001b[1;32m    282\u001b[0m     \u001b[39mfor\u001b[39;49;00m train, test \u001b[39min\u001b[39;49;00m cv\u001b[39m.\u001b[39;49msplit(X, y, groups)\n\u001b[1;32m    283\u001b[0m )\n\u001b[1;32m    285\u001b[0m _warn_or_raise_about_fit_failures(results, error_score)\n\u001b[1;32m    287\u001b[0m \u001b[39m# For callabe scoring, the return type is only know after calling. If the\u001b[39;00m\n\u001b[1;32m    288\u001b[0m \u001b[39m# return type is a dictionary, the error scores can now be inserted with\u001b[39;00m\n\u001b[1;32m    289\u001b[0m \u001b[39m# the correct key.\u001b[39;00m\n",
      "File \u001b[0;32m~/.local/lib/python3.8/site-packages/joblib/parallel.py:1046\u001b[0m, in \u001b[0;36mParallel.__call__\u001b[0;34m(self, iterable)\u001b[0m\n\u001b[1;32m   1043\u001b[0m \u001b[39mif\u001b[39;00m \u001b[39mself\u001b[39m\u001b[39m.\u001b[39mdispatch_one_batch(iterator):\n\u001b[1;32m   1044\u001b[0m     \u001b[39mself\u001b[39m\u001b[39m.\u001b[39m_iterating \u001b[39m=\u001b[39m \u001b[39mself\u001b[39m\u001b[39m.\u001b[39m_original_iterator \u001b[39mis\u001b[39;00m \u001b[39mnot\u001b[39;00m \u001b[39mNone\u001b[39;00m\n\u001b[0;32m-> 1046\u001b[0m \u001b[39mwhile\u001b[39;00m \u001b[39mself\u001b[39;49m\u001b[39m.\u001b[39;49mdispatch_one_batch(iterator):\n\u001b[1;32m   1047\u001b[0m     \u001b[39mpass\u001b[39;00m\n\u001b[1;32m   1049\u001b[0m \u001b[39mif\u001b[39;00m pre_dispatch \u001b[39m==\u001b[39m \u001b[39m\"\u001b[39m\u001b[39mall\u001b[39m\u001b[39m\"\u001b[39m \u001b[39mor\u001b[39;00m n_jobs \u001b[39m==\u001b[39m \u001b[39m1\u001b[39m:\n\u001b[1;32m   1050\u001b[0m     \u001b[39m# The iterable was consumed all at once by the above for loop.\u001b[39;00m\n\u001b[1;32m   1051\u001b[0m     \u001b[39m# No need to wait for async callbacks to trigger to\u001b[39;00m\n\u001b[1;32m   1052\u001b[0m     \u001b[39m# consumption.\u001b[39;00m\n",
      "File \u001b[0;32m~/.local/lib/python3.8/site-packages/joblib/parallel.py:861\u001b[0m, in \u001b[0;36mParallel.dispatch_one_batch\u001b[0;34m(self, iterator)\u001b[0m\n\u001b[1;32m    859\u001b[0m     \u001b[39mreturn\u001b[39;00m \u001b[39mFalse\u001b[39;00m\n\u001b[1;32m    860\u001b[0m \u001b[39melse\u001b[39;00m:\n\u001b[0;32m--> 861\u001b[0m     \u001b[39mself\u001b[39;49m\u001b[39m.\u001b[39;49m_dispatch(tasks)\n\u001b[1;32m    862\u001b[0m     \u001b[39mreturn\u001b[39;00m \u001b[39mTrue\u001b[39;00m\n",
      "File \u001b[0;32m~/.local/lib/python3.8/site-packages/joblib/parallel.py:779\u001b[0m, in \u001b[0;36mParallel._dispatch\u001b[0;34m(self, batch)\u001b[0m\n\u001b[1;32m    777\u001b[0m \u001b[39mwith\u001b[39;00m \u001b[39mself\u001b[39m\u001b[39m.\u001b[39m_lock:\n\u001b[1;32m    778\u001b[0m     job_idx \u001b[39m=\u001b[39m \u001b[39mlen\u001b[39m(\u001b[39mself\u001b[39m\u001b[39m.\u001b[39m_jobs)\n\u001b[0;32m--> 779\u001b[0m     job \u001b[39m=\u001b[39m \u001b[39mself\u001b[39;49m\u001b[39m.\u001b[39;49m_backend\u001b[39m.\u001b[39;49mapply_async(batch, callback\u001b[39m=\u001b[39;49mcb)\n\u001b[1;32m    780\u001b[0m     \u001b[39m# A job can complete so quickly than its callback is\u001b[39;00m\n\u001b[1;32m    781\u001b[0m     \u001b[39m# called before we get here, causing self._jobs to\u001b[39;00m\n\u001b[1;32m    782\u001b[0m     \u001b[39m# grow. To ensure correct results ordering, .insert is\u001b[39;00m\n\u001b[1;32m    783\u001b[0m     \u001b[39m# used (rather than .append) in the following line\u001b[39;00m\n\u001b[1;32m    784\u001b[0m     \u001b[39mself\u001b[39m\u001b[39m.\u001b[39m_jobs\u001b[39m.\u001b[39minsert(job_idx, job)\n",
      "File \u001b[0;32m~/.local/lib/python3.8/site-packages/joblib/_parallel_backends.py:208\u001b[0m, in \u001b[0;36mSequentialBackend.apply_async\u001b[0;34m(self, func, callback)\u001b[0m\n\u001b[1;32m    206\u001b[0m \u001b[39mdef\u001b[39;00m \u001b[39mapply_async\u001b[39m(\u001b[39mself\u001b[39m, func, callback\u001b[39m=\u001b[39m\u001b[39mNone\u001b[39;00m):\n\u001b[1;32m    207\u001b[0m     \u001b[39m\"\"\"Schedule a func to be run\"\"\"\u001b[39;00m\n\u001b[0;32m--> 208\u001b[0m     result \u001b[39m=\u001b[39m ImmediateResult(func)\n\u001b[1;32m    209\u001b[0m     \u001b[39mif\u001b[39;00m callback:\n\u001b[1;32m    210\u001b[0m         callback(result)\n",
      "File \u001b[0;32m~/.local/lib/python3.8/site-packages/joblib/_parallel_backends.py:572\u001b[0m, in \u001b[0;36mImmediateResult.__init__\u001b[0;34m(self, batch)\u001b[0m\n\u001b[1;32m    569\u001b[0m \u001b[39mdef\u001b[39;00m \u001b[39m__init__\u001b[39m(\u001b[39mself\u001b[39m, batch):\n\u001b[1;32m    570\u001b[0m     \u001b[39m# Don't delay the application, to avoid keeping the input\u001b[39;00m\n\u001b[1;32m    571\u001b[0m     \u001b[39m# arguments in memory\u001b[39;00m\n\u001b[0;32m--> 572\u001b[0m     \u001b[39mself\u001b[39m\u001b[39m.\u001b[39mresults \u001b[39m=\u001b[39m batch()\n",
      "File \u001b[0;32m~/.local/lib/python3.8/site-packages/joblib/parallel.py:262\u001b[0m, in \u001b[0;36mBatchedCalls.__call__\u001b[0;34m(self)\u001b[0m\n\u001b[1;32m    258\u001b[0m \u001b[39mdef\u001b[39;00m \u001b[39m__call__\u001b[39m(\u001b[39mself\u001b[39m):\n\u001b[1;32m    259\u001b[0m     \u001b[39m# Set the default nested backend to self._backend but do not set the\u001b[39;00m\n\u001b[1;32m    260\u001b[0m     \u001b[39m# change the default number of processes to -1\u001b[39;00m\n\u001b[1;32m    261\u001b[0m     \u001b[39mwith\u001b[39;00m parallel_backend(\u001b[39mself\u001b[39m\u001b[39m.\u001b[39m_backend, n_jobs\u001b[39m=\u001b[39m\u001b[39mself\u001b[39m\u001b[39m.\u001b[39m_n_jobs):\n\u001b[0;32m--> 262\u001b[0m         \u001b[39mreturn\u001b[39;00m [func(\u001b[39m*\u001b[39margs, \u001b[39m*\u001b[39m\u001b[39m*\u001b[39mkwargs)\n\u001b[1;32m    263\u001b[0m                 \u001b[39mfor\u001b[39;00m func, args, kwargs \u001b[39min\u001b[39;00m \u001b[39mself\u001b[39m\u001b[39m.\u001b[39mitems]\n",
      "File \u001b[0;32m~/.local/lib/python3.8/site-packages/joblib/parallel.py:262\u001b[0m, in \u001b[0;36m<listcomp>\u001b[0;34m(.0)\u001b[0m\n\u001b[1;32m    258\u001b[0m \u001b[39mdef\u001b[39;00m \u001b[39m__call__\u001b[39m(\u001b[39mself\u001b[39m):\n\u001b[1;32m    259\u001b[0m     \u001b[39m# Set the default nested backend to self._backend but do not set the\u001b[39;00m\n\u001b[1;32m    260\u001b[0m     \u001b[39m# change the default number of processes to -1\u001b[39;00m\n\u001b[1;32m    261\u001b[0m     \u001b[39mwith\u001b[39;00m parallel_backend(\u001b[39mself\u001b[39m\u001b[39m.\u001b[39m_backend, n_jobs\u001b[39m=\u001b[39m\u001b[39mself\u001b[39m\u001b[39m.\u001b[39m_n_jobs):\n\u001b[0;32m--> 262\u001b[0m         \u001b[39mreturn\u001b[39;00m [func(\u001b[39m*\u001b[39;49margs, \u001b[39m*\u001b[39;49m\u001b[39m*\u001b[39;49mkwargs)\n\u001b[1;32m    263\u001b[0m                 \u001b[39mfor\u001b[39;00m func, args, kwargs \u001b[39min\u001b[39;00m \u001b[39mself\u001b[39m\u001b[39m.\u001b[39mitems]\n",
      "File \u001b[0;32m~/.local/lib/python3.8/site-packages/sklearn/utils/fixes.py:117\u001b[0m, in \u001b[0;36m_FuncWrapper.__call__\u001b[0;34m(self, *args, **kwargs)\u001b[0m\n\u001b[1;32m    115\u001b[0m \u001b[39mdef\u001b[39;00m \u001b[39m__call__\u001b[39m(\u001b[39mself\u001b[39m, \u001b[39m*\u001b[39margs, \u001b[39m*\u001b[39m\u001b[39m*\u001b[39mkwargs):\n\u001b[1;32m    116\u001b[0m     \u001b[39mwith\u001b[39;00m config_context(\u001b[39m*\u001b[39m\u001b[39m*\u001b[39m\u001b[39mself\u001b[39m\u001b[39m.\u001b[39mconfig):\n\u001b[0;32m--> 117\u001b[0m         \u001b[39mreturn\u001b[39;00m \u001b[39mself\u001b[39;49m\u001b[39m.\u001b[39;49mfunction(\u001b[39m*\u001b[39;49margs, \u001b[39m*\u001b[39;49m\u001b[39m*\u001b[39;49mkwargs)\n",
      "File \u001b[0;32m~/.local/lib/python3.8/site-packages/sklearn/model_selection/_validation.py:686\u001b[0m, in \u001b[0;36m_fit_and_score\u001b[0;34m(estimator, X, y, scorer, train, test, verbose, parameters, fit_params, return_train_score, return_parameters, return_n_test_samples, return_times, return_estimator, split_progress, candidate_progress, error_score)\u001b[0m\n\u001b[1;32m    684\u001b[0m         estimator\u001b[39m.\u001b[39mfit(X_train, \u001b[39m*\u001b[39m\u001b[39m*\u001b[39mfit_params)\n\u001b[1;32m    685\u001b[0m     \u001b[39melse\u001b[39;00m:\n\u001b[0;32m--> 686\u001b[0m         estimator\u001b[39m.\u001b[39;49mfit(X_train, y_train, \u001b[39m*\u001b[39;49m\u001b[39m*\u001b[39;49mfit_params)\n\u001b[1;32m    688\u001b[0m \u001b[39mexcept\u001b[39;00m \u001b[39mException\u001b[39;00m:\n\u001b[1;32m    689\u001b[0m     \u001b[39m# Note fit time as time until error\u001b[39;00m\n\u001b[1;32m    690\u001b[0m     fit_time \u001b[39m=\u001b[39m time\u001b[39m.\u001b[39mtime() \u001b[39m-\u001b[39m start_time\n",
      "File \u001b[0;32m~/.local/lib/python3.8/site-packages/sklearn/pipeline.py:382\u001b[0m, in \u001b[0;36mPipeline.fit\u001b[0;34m(self, X, y, **fit_params)\u001b[0m\n\u001b[1;32m    380\u001b[0m     \u001b[39mif\u001b[39;00m \u001b[39mself\u001b[39m\u001b[39m.\u001b[39m_final_estimator \u001b[39m!=\u001b[39m \u001b[39m\"\u001b[39m\u001b[39mpassthrough\u001b[39m\u001b[39m\"\u001b[39m:\n\u001b[1;32m    381\u001b[0m         fit_params_last_step \u001b[39m=\u001b[39m fit_params_steps[\u001b[39mself\u001b[39m\u001b[39m.\u001b[39msteps[\u001b[39m-\u001b[39m\u001b[39m1\u001b[39m][\u001b[39m0\u001b[39m]]\n\u001b[0;32m--> 382\u001b[0m         \u001b[39mself\u001b[39;49m\u001b[39m.\u001b[39;49m_final_estimator\u001b[39m.\u001b[39;49mfit(Xt, y, \u001b[39m*\u001b[39;49m\u001b[39m*\u001b[39;49mfit_params_last_step)\n\u001b[1;32m    384\u001b[0m \u001b[39mreturn\u001b[39;00m \u001b[39mself\u001b[39m\n",
      "File \u001b[0;32m~/.local/lib/python3.8/site-packages/scikeras/wrappers.py:762\u001b[0m, in \u001b[0;36mBaseWrapper.fit\u001b[0;34m(self, X, y, sample_weight, **kwargs)\u001b[0m\n\u001b[1;32m    757\u001b[0m kwargs[\u001b[39m\"\u001b[39m\u001b[39mepochs\u001b[39m\u001b[39m\"\u001b[39m] \u001b[39m=\u001b[39m kwargs\u001b[39m.\u001b[39mget(\n\u001b[1;32m    758\u001b[0m     \u001b[39m\"\u001b[39m\u001b[39mepochs\u001b[39m\u001b[39m\"\u001b[39m, \u001b[39mgetattr\u001b[39m(\u001b[39mself\u001b[39m, \u001b[39m\"\u001b[39m\u001b[39mfit__epochs\u001b[39m\u001b[39m\"\u001b[39m, \u001b[39mself\u001b[39m\u001b[39m.\u001b[39mepochs)\n\u001b[1;32m    759\u001b[0m )\n\u001b[1;32m    760\u001b[0m kwargs[\u001b[39m\"\u001b[39m\u001b[39minitial_epoch\u001b[39m\u001b[39m\"\u001b[39m] \u001b[39m=\u001b[39m kwargs\u001b[39m.\u001b[39mget(\u001b[39m\"\u001b[39m\u001b[39minitial_epoch\u001b[39m\u001b[39m\"\u001b[39m, \u001b[39m0\u001b[39m)\n\u001b[0;32m--> 762\u001b[0m \u001b[39mself\u001b[39;49m\u001b[39m.\u001b[39;49m_fit(\n\u001b[1;32m    763\u001b[0m     X\u001b[39m=\u001b[39;49mX,\n\u001b[1;32m    764\u001b[0m     y\u001b[39m=\u001b[39;49my,\n\u001b[1;32m    765\u001b[0m     sample_weight\u001b[39m=\u001b[39;49msample_weight,\n\u001b[1;32m    766\u001b[0m     warm_start\u001b[39m=\u001b[39;49m\u001b[39mself\u001b[39;49m\u001b[39m.\u001b[39;49mwarm_start,\n\u001b[1;32m    767\u001b[0m     \u001b[39m*\u001b[39;49m\u001b[39m*\u001b[39;49mkwargs,\n\u001b[1;32m    768\u001b[0m )\n\u001b[1;32m    770\u001b[0m \u001b[39mreturn\u001b[39;00m \u001b[39mself\u001b[39m\n",
      "File \u001b[0;32m~/.local/lib/python3.8/site-packages/scikeras/wrappers.py:931\u001b[0m, in \u001b[0;36mBaseWrapper._fit\u001b[0;34m(self, X, y, sample_weight, warm_start, epochs, initial_epoch, **kwargs)\u001b[0m\n\u001b[1;32m    927\u001b[0m X \u001b[39m=\u001b[39m \u001b[39mself\u001b[39m\u001b[39m.\u001b[39mfeature_encoder_\u001b[39m.\u001b[39mtransform(X)\n\u001b[1;32m    929\u001b[0m \u001b[39mself\u001b[39m\u001b[39m.\u001b[39m_check_model_compatibility(y)\n\u001b[0;32m--> 931\u001b[0m \u001b[39mself\u001b[39;49m\u001b[39m.\u001b[39;49m_fit_keras_model(\n\u001b[1;32m    932\u001b[0m     X,\n\u001b[1;32m    933\u001b[0m     y,\n\u001b[1;32m    934\u001b[0m     sample_weight\u001b[39m=\u001b[39;49msample_weight,\n\u001b[1;32m    935\u001b[0m     warm_start\u001b[39m=\u001b[39;49mwarm_start,\n\u001b[1;32m    936\u001b[0m     epochs\u001b[39m=\u001b[39;49mepochs,\n\u001b[1;32m    937\u001b[0m     initial_epoch\u001b[39m=\u001b[39;49minitial_epoch,\n\u001b[1;32m    938\u001b[0m     \u001b[39m*\u001b[39;49m\u001b[39m*\u001b[39;49mkwargs,\n\u001b[1;32m    939\u001b[0m )\n",
      "File \u001b[0;32m~/.local/lib/python3.8/site-packages/scikeras/wrappers.py:526\u001b[0m, in \u001b[0;36mBaseWrapper._fit_keras_model\u001b[0;34m(self, X, y, sample_weight, warm_start, epochs, initial_epoch, **kwargs)\u001b[0m\n\u001b[1;32m    524\u001b[0m         hist \u001b[39m=\u001b[39m \u001b[39mself\u001b[39m\u001b[39m.\u001b[39mmodel_\u001b[39m.\u001b[39mfit(x\u001b[39m=\u001b[39mX, y\u001b[39m=\u001b[39my, \u001b[39m*\u001b[39m\u001b[39m*\u001b[39mfit_args)\n\u001b[1;32m    525\u001b[0m \u001b[39melse\u001b[39;00m:\n\u001b[0;32m--> 526\u001b[0m     hist \u001b[39m=\u001b[39m \u001b[39mself\u001b[39;49m\u001b[39m.\u001b[39;49mmodel_\u001b[39m.\u001b[39;49mfit(x\u001b[39m=\u001b[39;49mX, y\u001b[39m=\u001b[39;49my, \u001b[39m*\u001b[39;49m\u001b[39m*\u001b[39;49mfit_args)\n\u001b[1;32m    528\u001b[0m \u001b[39mif\u001b[39;00m \u001b[39mnot\u001b[39;00m warm_start \u001b[39mor\u001b[39;00m \u001b[39mnot\u001b[39;00m \u001b[39mhasattr\u001b[39m(\u001b[39mself\u001b[39m, \u001b[39m\"\u001b[39m\u001b[39mhistory_\u001b[39m\u001b[39m\"\u001b[39m) \u001b[39mor\u001b[39;00m initial_epoch \u001b[39m==\u001b[39m \u001b[39m0\u001b[39m:\n\u001b[1;32m    529\u001b[0m     \u001b[39mself\u001b[39m\u001b[39m.\u001b[39mhistory_ \u001b[39m=\u001b[39m defaultdict(\u001b[39mlist\u001b[39m)\n",
      "File \u001b[0;32m~/.local/lib/python3.8/site-packages/keras/utils/traceback_utils.py:65\u001b[0m, in \u001b[0;36mfilter_traceback.<locals>.error_handler\u001b[0;34m(*args, **kwargs)\u001b[0m\n\u001b[1;32m     63\u001b[0m filtered_tb \u001b[39m=\u001b[39m \u001b[39mNone\u001b[39;00m\n\u001b[1;32m     64\u001b[0m \u001b[39mtry\u001b[39;00m:\n\u001b[0;32m---> 65\u001b[0m     \u001b[39mreturn\u001b[39;00m fn(\u001b[39m*\u001b[39;49margs, \u001b[39m*\u001b[39;49m\u001b[39m*\u001b[39;49mkwargs)\n\u001b[1;32m     66\u001b[0m \u001b[39mexcept\u001b[39;00m \u001b[39mException\u001b[39;00m \u001b[39mas\u001b[39;00m e:\n\u001b[1;32m     67\u001b[0m     filtered_tb \u001b[39m=\u001b[39m _process_traceback_frames(e\u001b[39m.\u001b[39m__traceback__)\n",
      "File \u001b[0;32m~/.local/lib/python3.8/site-packages/keras/engine/training.py:1564\u001b[0m, in \u001b[0;36mModel.fit\u001b[0;34m(self, x, y, batch_size, epochs, verbose, callbacks, validation_split, validation_data, shuffle, class_weight, sample_weight, initial_epoch, steps_per_epoch, validation_steps, validation_batch_size, validation_freq, max_queue_size, workers, use_multiprocessing)\u001b[0m\n\u001b[1;32m   1556\u001b[0m \u001b[39mwith\u001b[39;00m tf\u001b[39m.\u001b[39mprofiler\u001b[39m.\u001b[39mexperimental\u001b[39m.\u001b[39mTrace(\n\u001b[1;32m   1557\u001b[0m     \u001b[39m\"\u001b[39m\u001b[39mtrain\u001b[39m\u001b[39m\"\u001b[39m,\n\u001b[1;32m   1558\u001b[0m     epoch_num\u001b[39m=\u001b[39mepoch,\n\u001b[0;32m   (...)\u001b[0m\n\u001b[1;32m   1561\u001b[0m     _r\u001b[39m=\u001b[39m\u001b[39m1\u001b[39m,\n\u001b[1;32m   1562\u001b[0m ):\n\u001b[1;32m   1563\u001b[0m     callbacks\u001b[39m.\u001b[39mon_train_batch_begin(step)\n\u001b[0;32m-> 1564\u001b[0m     tmp_logs \u001b[39m=\u001b[39m \u001b[39mself\u001b[39;49m\u001b[39m.\u001b[39;49mtrain_function(iterator)\n\u001b[1;32m   1565\u001b[0m     \u001b[39mif\u001b[39;00m data_handler\u001b[39m.\u001b[39mshould_sync:\n\u001b[1;32m   1566\u001b[0m         context\u001b[39m.\u001b[39masync_wait()\n",
      "File \u001b[0;32m~/.local/lib/python3.8/site-packages/tensorflow/python/util/traceback_utils.py:150\u001b[0m, in \u001b[0;36mfilter_traceback.<locals>.error_handler\u001b[0;34m(*args, **kwargs)\u001b[0m\n\u001b[1;32m    148\u001b[0m filtered_tb \u001b[39m=\u001b[39m \u001b[39mNone\u001b[39;00m\n\u001b[1;32m    149\u001b[0m \u001b[39mtry\u001b[39;00m:\n\u001b[0;32m--> 150\u001b[0m   \u001b[39mreturn\u001b[39;00m fn(\u001b[39m*\u001b[39;49margs, \u001b[39m*\u001b[39;49m\u001b[39m*\u001b[39;49mkwargs)\n\u001b[1;32m    151\u001b[0m \u001b[39mexcept\u001b[39;00m \u001b[39mException\u001b[39;00m \u001b[39mas\u001b[39;00m e:\n\u001b[1;32m    152\u001b[0m   filtered_tb \u001b[39m=\u001b[39m _process_traceback_frames(e\u001b[39m.\u001b[39m__traceback__)\n",
      "File \u001b[0;32m~/.local/lib/python3.8/site-packages/tensorflow/python/eager/def_function.py:915\u001b[0m, in \u001b[0;36mFunction.__call__\u001b[0;34m(self, *args, **kwds)\u001b[0m\n\u001b[1;32m    912\u001b[0m compiler \u001b[39m=\u001b[39m \u001b[39m\"\u001b[39m\u001b[39mxla\u001b[39m\u001b[39m\"\u001b[39m \u001b[39mif\u001b[39;00m \u001b[39mself\u001b[39m\u001b[39m.\u001b[39m_jit_compile \u001b[39melse\u001b[39;00m \u001b[39m\"\u001b[39m\u001b[39mnonXla\u001b[39m\u001b[39m\"\u001b[39m\n\u001b[1;32m    914\u001b[0m \u001b[39mwith\u001b[39;00m OptionalXlaContext(\u001b[39mself\u001b[39m\u001b[39m.\u001b[39m_jit_compile):\n\u001b[0;32m--> 915\u001b[0m   result \u001b[39m=\u001b[39m \u001b[39mself\u001b[39;49m\u001b[39m.\u001b[39;49m_call(\u001b[39m*\u001b[39;49margs, \u001b[39m*\u001b[39;49m\u001b[39m*\u001b[39;49mkwds)\n\u001b[1;32m    917\u001b[0m new_tracing_count \u001b[39m=\u001b[39m \u001b[39mself\u001b[39m\u001b[39m.\u001b[39mexperimental_get_tracing_count()\n\u001b[1;32m    918\u001b[0m without_tracing \u001b[39m=\u001b[39m (tracing_count \u001b[39m==\u001b[39m new_tracing_count)\n",
      "File \u001b[0;32m~/.local/lib/python3.8/site-packages/tensorflow/python/eager/def_function.py:947\u001b[0m, in \u001b[0;36mFunction._call\u001b[0;34m(self, *args, **kwds)\u001b[0m\n\u001b[1;32m    944\u001b[0m   \u001b[39mself\u001b[39m\u001b[39m.\u001b[39m_lock\u001b[39m.\u001b[39mrelease()\n\u001b[1;32m    945\u001b[0m   \u001b[39m# In this case we have created variables on the first call, so we run the\u001b[39;00m\n\u001b[1;32m    946\u001b[0m   \u001b[39m# defunned version which is guaranteed to never create variables.\u001b[39;00m\n\u001b[0;32m--> 947\u001b[0m   \u001b[39mreturn\u001b[39;00m \u001b[39mself\u001b[39;49m\u001b[39m.\u001b[39;49m_stateless_fn(\u001b[39m*\u001b[39;49margs, \u001b[39m*\u001b[39;49m\u001b[39m*\u001b[39;49mkwds)  \u001b[39m# pylint: disable=not-callable\u001b[39;00m\n\u001b[1;32m    948\u001b[0m \u001b[39melif\u001b[39;00m \u001b[39mself\u001b[39m\u001b[39m.\u001b[39m_stateful_fn \u001b[39mis\u001b[39;00m \u001b[39mnot\u001b[39;00m \u001b[39mNone\u001b[39;00m:\n\u001b[1;32m    949\u001b[0m   \u001b[39m# Release the lock early so that multiple threads can perform the call\u001b[39;00m\n\u001b[1;32m    950\u001b[0m   \u001b[39m# in parallel.\u001b[39;00m\n\u001b[1;32m    951\u001b[0m   \u001b[39mself\u001b[39m\u001b[39m.\u001b[39m_lock\u001b[39m.\u001b[39mrelease()\n",
      "File \u001b[0;32m~/.local/lib/python3.8/site-packages/tensorflow/python/eager/function.py:2495\u001b[0m, in \u001b[0;36mFunction.__call__\u001b[0;34m(self, *args, **kwargs)\u001b[0m\n\u001b[1;32m   2492\u001b[0m \u001b[39m\"\"\"Calls a graph function specialized to the inputs.\"\"\"\u001b[39;00m\n\u001b[1;32m   2493\u001b[0m \u001b[39mwith\u001b[39;00m \u001b[39mself\u001b[39m\u001b[39m.\u001b[39m_lock:\n\u001b[1;32m   2494\u001b[0m   (graph_function,\n\u001b[0;32m-> 2495\u001b[0m    filtered_flat_args) \u001b[39m=\u001b[39m \u001b[39mself\u001b[39;49m\u001b[39m.\u001b[39;49m_maybe_define_function(args, kwargs)\n\u001b[1;32m   2496\u001b[0m \u001b[39mreturn\u001b[39;00m graph_function\u001b[39m.\u001b[39m_call_flat(\n\u001b[1;32m   2497\u001b[0m     filtered_flat_args, captured_inputs\u001b[39m=\u001b[39mgraph_function\u001b[39m.\u001b[39mcaptured_inputs)\n",
      "File \u001b[0;32m~/.local/lib/python3.8/site-packages/tensorflow/python/eager/function.py:2714\u001b[0m, in \u001b[0;36mFunction._maybe_define_function\u001b[0;34m(self, args, kwargs)\u001b[0m\n\u001b[1;32m   2690\u001b[0m \u001b[39m\"\"\"Gets a function for these inputs, defining it if necessary.\u001b[39;00m\n\u001b[1;32m   2691\u001b[0m \n\u001b[1;32m   2692\u001b[0m \u001b[39m`args` and `kwargs` can be None if this `Function` was created with an\u001b[39;00m\n\u001b[0;32m   (...)\u001b[0m\n\u001b[1;32m   2710\u001b[0m \u001b[39m    shape relaxation retracing.\u001b[39;00m\n\u001b[1;32m   2711\u001b[0m \u001b[39m\"\"\"\u001b[39;00m\n\u001b[1;32m   2712\u001b[0m \u001b[39mif\u001b[39;00m \u001b[39mself\u001b[39m\u001b[39m.\u001b[39minput_signature \u001b[39mis\u001b[39;00m \u001b[39mNone\u001b[39;00m \u001b[39mor\u001b[39;00m args \u001b[39mis\u001b[39;00m \u001b[39mnot\u001b[39;00m \u001b[39mNone\u001b[39;00m \u001b[39mor\u001b[39;00m kwargs \u001b[39mis\u001b[39;00m \u001b[39mnot\u001b[39;00m \u001b[39mNone\u001b[39;00m:\n\u001b[1;32m   2713\u001b[0m   args, kwargs, filtered_flat_args \u001b[39m=\u001b[39m (\n\u001b[0;32m-> 2714\u001b[0m       \u001b[39mself\u001b[39;49m\u001b[39m.\u001b[39;49m_function_spec\u001b[39m.\u001b[39;49mcanonicalize_function_inputs(\u001b[39m*\u001b[39;49margs, \u001b[39m*\u001b[39;49m\u001b[39m*\u001b[39;49mkwargs))\n\u001b[1;32m   2715\u001b[0m \u001b[39melse\u001b[39;00m:\n\u001b[1;32m   2716\u001b[0m   filtered_flat_args \u001b[39m=\u001b[39m []\n",
      "File \u001b[0;32m~/.local/lib/python3.8/site-packages/tensorflow/python/eager/function_spec.py:427\u001b[0m, in \u001b[0;36mFunctionSpec.canonicalize_function_inputs\u001b[0;34m(self, *args, **kwargs)\u001b[0m\n\u001b[1;32m    424\u001b[0m       kwargs\u001b[39m.\u001b[39msetdefault(kwarg, default)\n\u001b[1;32m    426\u001b[0m \u001b[39mif\u001b[39;00m \u001b[39mself\u001b[39m\u001b[39m.\u001b[39m_input_signature \u001b[39mis\u001b[39;00m \u001b[39mNone\u001b[39;00m:\n\u001b[0;32m--> 427\u001b[0m   inputs, flat_inputs, filtered_flat_inputs \u001b[39m=\u001b[39m _convert_numpy_inputs(inputs)\n\u001b[1;32m    428\u001b[0m   kwargs, flat_kwargs, filtered_flat_kwargs \u001b[39m=\u001b[39m _convert_numpy_inputs(kwargs)\n\u001b[1;32m    429\u001b[0m   flat_inputs \u001b[39m+\u001b[39m\u001b[39m=\u001b[39m flat_kwargs\n",
      "File \u001b[0;32m~/.local/lib/python3.8/site-packages/tensorflow/python/eager/function_spec.py:463\u001b[0m, in \u001b[0;36m_convert_numpy_inputs\u001b[0;34m(inputs)\u001b[0m\n\u001b[1;32m    457\u001b[0m \u001b[39m\"\"\"Converts numpy array inputs to tensors.\"\"\"\u001b[39;00m\n\u001b[1;32m    458\u001b[0m \u001b[39m# We assume that any CompositeTensors have already converted their components\u001b[39;00m\n\u001b[1;32m    459\u001b[0m \u001b[39m# from numpy arrays to Tensors, so we don't need to expand composites here for\u001b[39;00m\n\u001b[1;32m    460\u001b[0m \u001b[39m# the numpy array conversion. Instead, we do so because the flattened inputs\u001b[39;00m\n\u001b[1;32m    461\u001b[0m \u001b[39m# are eventually passed to ConcreteFunction()._call_flat, which requires\u001b[39;00m\n\u001b[1;32m    462\u001b[0m \u001b[39m# expanded composites.\u001b[39;00m\n\u001b[0;32m--> 463\u001b[0m flat_inputs \u001b[39m=\u001b[39m nest\u001b[39m.\u001b[39;49mflatten(inputs, expand_composites\u001b[39m=\u001b[39;49m\u001b[39mTrue\u001b[39;49;00m)\n\u001b[1;32m    465\u001b[0m \u001b[39m# Check for NumPy arrays in arguments and convert them to Tensors.\u001b[39;00m\n\u001b[1;32m    466\u001b[0m \u001b[39m# TODO(nareshmodi): Skip ndarray conversion to tensor altogether, perhaps\u001b[39;00m\n\u001b[1;32m    467\u001b[0m \u001b[39m# finding a way to store them directly in the cache key (currently not\u001b[39;00m\n\u001b[1;32m    468\u001b[0m \u001b[39m# possible since ndarrays are not hashable).\u001b[39;00m\n\u001b[1;32m    469\u001b[0m need_packing \u001b[39m=\u001b[39m \u001b[39mFalse\u001b[39;00m\n",
      "File \u001b[0;32m~/.local/lib/python3.8/site-packages/tensorflow/python/util/nest.py:454\u001b[0m, in \u001b[0;36mflatten\u001b[0;34m(structure, expand_composites)\u001b[0m\n\u001b[1;32m    452\u001b[0m   \u001b[39mreturn\u001b[39;00m [\u001b[39mNone\u001b[39;00m]\n\u001b[1;32m    453\u001b[0m expand_composites \u001b[39m=\u001b[39m \u001b[39mbool\u001b[39m(expand_composites)\n\u001b[0;32m--> 454\u001b[0m \u001b[39mreturn\u001b[39;00m _pywrap_utils\u001b[39m.\u001b[39;49mFlatten(structure, expand_composites)\n",
      "\u001b[0;31mKeyboardInterrupt\u001b[0m: "
     ]
    }
   ],
   "source": [
    "def baseline_model():\n",
    "\t# create model\n",
    "\tmodel = Sequential()\n",
    "\tmodel.add(Dense(20, input_shape=(5,), kernel_initializer='normal', activation='relu'))\n",
    "\tmodel.add(Dense(1, kernel_initializer='normal'))\n",
    "\t# Compile model\n",
    "\tmodel.compile(loss='mean_squared_error', optimizer='adam')\n",
    "\treturn model\n",
    "estimators = []\n",
    "estimators.append(('standardize', StandardScaler()))\n",
    "estimators.append(('mlp', KerasRegressor(model=baseline_model, epochs=50, batch_size=5, verbose=0)))\n",
    "pipeline = Pipeline(estimators)\n",
    "kfold = KFold(n_splits=10)\n",
    "results = cross_val_score(pipeline, X_trainscaled, y_train, cv=kfold, scoring='neg_mean_squared_error')\n",
    "print(\"Baseline: %.2f (%.2f) MSE\" % (results.mean(), results.std()))"
   ]
  },
  {
   "cell_type": "code",
   "execution_count": null,
   "metadata": {},
   "outputs": [],
   "source": []
  },
  {
   "cell_type": "code",
   "execution_count": null,
   "metadata": {},
   "outputs": [],
   "source": []
  },
  {
   "cell_type": "code",
   "execution_count": null,
   "metadata": {},
   "outputs": [],
   "source": []
  },
  {
   "cell_type": "code",
   "execution_count": null,
   "metadata": {},
   "outputs": [],
   "source": []
  }
 ],
 "metadata": {
  "kernelspec": {
   "display_name": "Python 3.8.10 64-bit",
   "language": "python",
   "name": "python3"
  },
  "language_info": {
   "codemirror_mode": {
    "name": "ipython",
    "version": 3
   },
   "file_extension": ".py",
   "mimetype": "text/x-python",
   "name": "python",
   "nbconvert_exporter": "python",
   "pygments_lexer": "ipython3",
   "version": "3.8.10"
  },
  "orig_nbformat": 4,
  "vscode": {
   "interpreter": {
    "hash": "916dbcbb3f70747c44a77c7bcd40155683ae19c65e1c03b4aa3499c5328201f1"
   }
  }
 },
 "nbformat": 4,
 "nbformat_minor": 2
}
