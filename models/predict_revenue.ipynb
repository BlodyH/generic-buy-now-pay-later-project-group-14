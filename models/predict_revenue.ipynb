{
 "cells": [
  {
   "cell_type": "markdown",
   "metadata": {},
   "source": [
    "# Prediction Model for BNPL Revenue"
   ]
  },
  {
   "cell_type": "code",
   "execution_count": 1,
   "metadata": {},
   "outputs": [],
   "source": [
    "import pandas as pd\n",
    "import numpy as np\n",
    "from sklearn import preprocessing\n",
    "from sklearn.model_selection import train_test_split\n",
    "from sklearn.linear_model import LinearRegression\n",
    "from sklearn.preprocessing import OneHotEncoder\n",
    "from sklearn.metrics import *\n",
    "from sklearn.neural_network import MLPRegressor\n",
    "from sklearn.preprocessing import StandardScaler\n",
    "import sklearn.metrics as metrics\n",
    "from sklearn.model_selection import GridSearchCV"
   ]
  },
  {
   "cell_type": "markdown",
   "metadata": {},
   "source": [
    "## Data Preprocessing"
   ]
  },
  {
   "cell_type": "code",
   "execution_count": 2,
   "metadata": {},
   "outputs": [
    {
     "data": {
      "text/plain": [
       "merchant_abn                    int64\n",
       "total_num_consumer              int64\n",
       "avg_dollar_value              float64\n",
       "total_num_transaction           int64\n",
       "mean_income                   float64\n",
       "revenue_level                  object\n",
       "total_revenue                 float64\n",
       "total_num_postcode              int64\n",
       "tag                            object\n",
       "next_total_num_consumer       float64\n",
       "next_total_revenue            float64\n",
       "next_total_num_transaction    float64\n",
       "dtype: object"
      ]
     },
     "execution_count": 2,
     "metadata": {},
     "output_type": "execute_result"
    }
   ],
   "source": [
    "full = pd.read_parquet('../data/curated/train_data/')\n",
    "full = full.rename({'y_total_num_consumer': 'next_total_num_consumer', 'y_total_revenue': 'next_total_revenue', 'y_total_num_transaction': 'next_total_num_transaction'}, axis = 1)\n",
    "full.dtypes"
   ]
  },
  {
   "cell_type": "markdown",
   "metadata": {},
   "source": [
    "### Clustering"
   ]
  },
  {
   "cell_type": "markdown",
   "metadata": {},
   "source": [
    "tag_mean = full.groupBy('tag')\\\n",
    "      .agg(\n",
    "         F.mean(\"total_revenue\").alias(\"mean_revenue_of_tags\")\n",
    "      )"
   ]
  },
  {
   "cell_type": "markdown",
   "metadata": {},
   "source": [
    "tag_mean = tag_mean.toPandas()"
   ]
  },
  {
   "cell_type": "markdown",
   "metadata": {},
   "source": [
    "from sklearn.cluster import KMeans\n",
    "import numpy as np\n",
    "\n",
    "kmeans = KMeans(n_clusters=4, random_state=0).fit(np.array(tag_mean['mean_revenue_of_tags']).reshape(-1, 1))\n",
    "kmeans.labels_"
   ]
  },
  {
   "cell_type": "markdown",
   "metadata": {},
   "source": [
    "tag_mean['tag_labels'] = kmeans.labels_\n",
    "tag_mean"
   ]
  },
  {
   "cell_type": "markdown",
   "metadata": {},
   "source": [
    "tag_mean_sdf = spark.createDataFrame(tag_mean[['tag', 'tag_labels']])\n",
    "tag_mean_sdf"
   ]
  },
  {
   "cell_type": "markdown",
   "metadata": {},
   "source": [
    "full = full.join(tag_mean_sdf, [\"tag\"], how=\"left\") \n",
    "# use left join here since if no historical data is provided, we cannot predict the future value of a merchant\n",
    "full"
   ]
  },
  {
   "cell_type": "markdown",
   "metadata": {},
   "source": [
    "## Model for BNPL Revenue\n",
    "Features:\n",
    "    total number of consumer, average dollar value, total number of transaction, mean income, total number of postcode, tags\n",
    "\n",
    "label:\n",
    "    next year revenue"
   ]
  },
  {
   "cell_type": "code",
   "execution_count": 3,
   "metadata": {},
   "outputs": [
    {
     "data": {
      "text/html": [
       "<div>\n",
       "<style scoped>\n",
       "    .dataframe tbody tr th:only-of-type {\n",
       "        vertical-align: middle;\n",
       "    }\n",
       "\n",
       "    .dataframe tbody tr th {\n",
       "        vertical-align: top;\n",
       "    }\n",
       "\n",
       "    .dataframe thead th {\n",
       "        text-align: right;\n",
       "    }\n",
       "</style>\n",
       "<table border=\"1\" class=\"dataframe\">\n",
       "  <thead>\n",
       "    <tr style=\"text-align: right;\">\n",
       "      <th></th>\n",
       "      <th>tag</th>\n",
       "      <th>total_num_consumer</th>\n",
       "      <th>total_num_transaction</th>\n",
       "      <th>total_revenue</th>\n",
       "      <th>total_num_postcode</th>\n",
       "      <th>next_total_revenue</th>\n",
       "    </tr>\n",
       "  </thead>\n",
       "  <tbody>\n",
       "    <tr>\n",
       "      <th>0</th>\n",
       "      <td>furniture</td>\n",
       "      <td>808</td>\n",
       "      <td>823</td>\n",
       "      <td>3.096499e+04</td>\n",
       "      <td>719</td>\n",
       "      <td>3.894029e+04</td>\n",
       "    </tr>\n",
       "    <tr>\n",
       "      <th>1</th>\n",
       "      <td>cable</td>\n",
       "      <td>731</td>\n",
       "      <td>750</td>\n",
       "      <td>1.301437e+05</td>\n",
       "      <td>642</td>\n",
       "      <td>1.544679e+05</td>\n",
       "    </tr>\n",
       "    <tr>\n",
       "      <th>2</th>\n",
       "      <td>music</td>\n",
       "      <td>107</td>\n",
       "      <td>107</td>\n",
       "      <td>3.055638e+05</td>\n",
       "      <td>107</td>\n",
       "      <td>2.900710e+05</td>\n",
       "    </tr>\n",
       "    <tr>\n",
       "      <th>3</th>\n",
       "      <td>gift</td>\n",
       "      <td>2244</td>\n",
       "      <td>2370</td>\n",
       "      <td>5.891499e+05</td>\n",
       "      <td>1619</td>\n",
       "      <td>6.667664e+05</td>\n",
       "    </tr>\n",
       "    <tr>\n",
       "      <th>4</th>\n",
       "      <td>computer</td>\n",
       "      <td>130</td>\n",
       "      <td>130</td>\n",
       "      <td>2.288893e+05</td>\n",
       "      <td>127</td>\n",
       "      <td>2.731468e+05</td>\n",
       "    </tr>\n",
       "    <tr>\n",
       "      <th>...</th>\n",
       "      <td>...</td>\n",
       "      <td>...</td>\n",
       "      <td>...</td>\n",
       "      <td>...</td>\n",
       "      <td>...</td>\n",
       "      <td>...</td>\n",
       "    </tr>\n",
       "    <tr>\n",
       "      <th>3948</th>\n",
       "      <td>hobby</td>\n",
       "      <td>206</td>\n",
       "      <td>207</td>\n",
       "      <td>2.023275e+06</td>\n",
       "      <td>200</td>\n",
       "      <td>4.463707e+05</td>\n",
       "    </tr>\n",
       "    <tr>\n",
       "      <th>3949</th>\n",
       "      <td>cable</td>\n",
       "      <td>77</td>\n",
       "      <td>77</td>\n",
       "      <td>2.488764e+04</td>\n",
       "      <td>77</td>\n",
       "      <td>3.168081e+04</td>\n",
       "    </tr>\n",
       "    <tr>\n",
       "      <th>3950</th>\n",
       "      <td>digital goods</td>\n",
       "      <td>1464</td>\n",
       "      <td>1506</td>\n",
       "      <td>1.030649e+06</td>\n",
       "      <td>1164</td>\n",
       "      <td>1.225969e+06</td>\n",
       "    </tr>\n",
       "    <tr>\n",
       "      <th>3951</th>\n",
       "      <td>opticians</td>\n",
       "      <td>3920</td>\n",
       "      <td>4285</td>\n",
       "      <td>5.961703e+05</td>\n",
       "      <td>2255</td>\n",
       "      <td>7.204531e+05</td>\n",
       "    </tr>\n",
       "    <tr>\n",
       "      <th>3952</th>\n",
       "      <td>books</td>\n",
       "      <td>33</td>\n",
       "      <td>33</td>\n",
       "      <td>3.339252e+04</td>\n",
       "      <td>33</td>\n",
       "      <td>3.991901e+04</td>\n",
       "    </tr>\n",
       "  </tbody>\n",
       "</table>\n",
       "<p>3784 rows × 6 columns</p>\n",
       "</div>"
      ],
      "text/plain": [
       "                tag  total_num_consumer  total_num_transaction  total_revenue  \\\n",
       "0         furniture                 808                    823   3.096499e+04   \n",
       "1             cable                 731                    750   1.301437e+05   \n",
       "2             music                 107                    107   3.055638e+05   \n",
       "3              gift                2244                   2370   5.891499e+05   \n",
       "4          computer                 130                    130   2.288893e+05   \n",
       "...             ...                 ...                    ...            ...   \n",
       "3948          hobby                 206                    207   2.023275e+06   \n",
       "3949          cable                  77                     77   2.488764e+04   \n",
       "3950  digital goods                1464                   1506   1.030649e+06   \n",
       "3951      opticians                3920                   4285   5.961703e+05   \n",
       "3952          books                  33                     33   3.339252e+04   \n",
       "\n",
       "      total_num_postcode  next_total_revenue  \n",
       "0                    719        3.894029e+04  \n",
       "1                    642        1.544679e+05  \n",
       "2                    107        2.900710e+05  \n",
       "3                   1619        6.667664e+05  \n",
       "4                    127        2.731468e+05  \n",
       "...                  ...                 ...  \n",
       "3948                 200        4.463707e+05  \n",
       "3949                  77        3.168081e+04  \n",
       "3950                1164        1.225969e+06  \n",
       "3951                2255        7.204531e+05  \n",
       "3952                  33        3.991901e+04  \n",
       "\n",
       "[3784 rows x 6 columns]"
      ]
     },
     "execution_count": 3,
     "metadata": {},
     "output_type": "execute_result"
    }
   ],
   "source": [
    "# drop the columns not needed\n",
    "revenue_df = full[['tag', 'total_num_consumer', 'total_num_transaction', 'total_revenue', 'total_num_postcode', 'next_total_revenue']].dropna()\n",
    "revenue_df"
   ]
  },
  {
   "cell_type": "markdown",
   "metadata": {},
   "source": [
    "### Indexing and One-hot Encoding"
   ]
  },
  {
   "cell_type": "code",
   "execution_count": 4,
   "metadata": {},
   "outputs": [
    {
     "data": {
      "text/plain": [
       "array([[0., 0., 0., ..., 0., 0., 0.],\n",
       "       [0., 0., 0., ..., 0., 0., 0.],\n",
       "       [0., 0., 0., ..., 0., 0., 0.],\n",
       "       ...,\n",
       "       [0., 0., 0., ..., 0., 0., 0.],\n",
       "       [0., 0., 0., ..., 0., 0., 0.],\n",
       "       [0., 0., 0., ..., 0., 0., 0.]])"
      ]
     },
     "execution_count": 4,
     "metadata": {},
     "output_type": "execute_result"
    }
   ],
   "source": [
    "# change tags into numeric feature by one hot encoding\n",
    "enc = OneHotEncoder(handle_unknown='ignore')\n",
    "tag_ohe = enc.fit_transform([[i] for i in revenue_df['tag']]).toarray()\n",
    "tag_ohe"
   ]
  },
  {
   "cell_type": "code",
   "execution_count": 5,
   "metadata": {},
   "outputs": [
    {
     "data": {
      "text/html": [
       "<div>\n",
       "<style scoped>\n",
       "    .dataframe tbody tr th:only-of-type {\n",
       "        vertical-align: middle;\n",
       "    }\n",
       "\n",
       "    .dataframe tbody tr th {\n",
       "        vertical-align: top;\n",
       "    }\n",
       "\n",
       "    .dataframe thead th {\n",
       "        text-align: right;\n",
       "    }\n",
       "</style>\n",
       "<table border=\"1\" class=\"dataframe\">\n",
       "  <thead>\n",
       "    <tr style=\"text-align: right;\">\n",
       "      <th></th>\n",
       "      <th>tag</th>\n",
       "      <th>total_num_consumer</th>\n",
       "      <th>total_num_transaction</th>\n",
       "      <th>total_revenue</th>\n",
       "      <th>total_num_postcode</th>\n",
       "      <th>next_total_revenue</th>\n",
       "      <th>antique</th>\n",
       "      <th>art dealer</th>\n",
       "      <th>artist supply</th>\n",
       "      <th>bicycle</th>\n",
       "      <th>...</th>\n",
       "      <th>hobby</th>\n",
       "      <th>jewelry</th>\n",
       "      <th>motor</th>\n",
       "      <th>music</th>\n",
       "      <th>opticians</th>\n",
       "      <th>shoe</th>\n",
       "      <th>stationery</th>\n",
       "      <th>telecom</th>\n",
       "      <th>tent</th>\n",
       "      <th>watch</th>\n",
       "    </tr>\n",
       "  </thead>\n",
       "  <tbody>\n",
       "    <tr>\n",
       "      <th>0</th>\n",
       "      <td>furniture</td>\n",
       "      <td>808</td>\n",
       "      <td>823</td>\n",
       "      <td>3.096499e+04</td>\n",
       "      <td>719</td>\n",
       "      <td>3.894029e+04</td>\n",
       "      <td>0.0</td>\n",
       "      <td>0.0</td>\n",
       "      <td>0.0</td>\n",
       "      <td>0.0</td>\n",
       "      <td>...</td>\n",
       "      <td>0.0</td>\n",
       "      <td>0.0</td>\n",
       "      <td>0.0</td>\n",
       "      <td>0.0</td>\n",
       "      <td>0.0</td>\n",
       "      <td>0.0</td>\n",
       "      <td>0.0</td>\n",
       "      <td>0.0</td>\n",
       "      <td>0.0</td>\n",
       "      <td>0.0</td>\n",
       "    </tr>\n",
       "    <tr>\n",
       "      <th>1</th>\n",
       "      <td>cable</td>\n",
       "      <td>731</td>\n",
       "      <td>750</td>\n",
       "      <td>1.301437e+05</td>\n",
       "      <td>642</td>\n",
       "      <td>1.544679e+05</td>\n",
       "      <td>0.0</td>\n",
       "      <td>0.0</td>\n",
       "      <td>0.0</td>\n",
       "      <td>0.0</td>\n",
       "      <td>...</td>\n",
       "      <td>0.0</td>\n",
       "      <td>0.0</td>\n",
       "      <td>0.0</td>\n",
       "      <td>0.0</td>\n",
       "      <td>0.0</td>\n",
       "      <td>0.0</td>\n",
       "      <td>0.0</td>\n",
       "      <td>0.0</td>\n",
       "      <td>0.0</td>\n",
       "      <td>0.0</td>\n",
       "    </tr>\n",
       "    <tr>\n",
       "      <th>2</th>\n",
       "      <td>music</td>\n",
       "      <td>107</td>\n",
       "      <td>107</td>\n",
       "      <td>3.055638e+05</td>\n",
       "      <td>107</td>\n",
       "      <td>2.900710e+05</td>\n",
       "      <td>0.0</td>\n",
       "      <td>0.0</td>\n",
       "      <td>0.0</td>\n",
       "      <td>0.0</td>\n",
       "      <td>...</td>\n",
       "      <td>0.0</td>\n",
       "      <td>0.0</td>\n",
       "      <td>0.0</td>\n",
       "      <td>1.0</td>\n",
       "      <td>0.0</td>\n",
       "      <td>0.0</td>\n",
       "      <td>0.0</td>\n",
       "      <td>0.0</td>\n",
       "      <td>0.0</td>\n",
       "      <td>0.0</td>\n",
       "    </tr>\n",
       "    <tr>\n",
       "      <th>3</th>\n",
       "      <td>gift</td>\n",
       "      <td>2244</td>\n",
       "      <td>2370</td>\n",
       "      <td>5.891499e+05</td>\n",
       "      <td>1619</td>\n",
       "      <td>6.667664e+05</td>\n",
       "      <td>0.0</td>\n",
       "      <td>0.0</td>\n",
       "      <td>0.0</td>\n",
       "      <td>0.0</td>\n",
       "      <td>...</td>\n",
       "      <td>0.0</td>\n",
       "      <td>0.0</td>\n",
       "      <td>0.0</td>\n",
       "      <td>0.0</td>\n",
       "      <td>0.0</td>\n",
       "      <td>0.0</td>\n",
       "      <td>0.0</td>\n",
       "      <td>0.0</td>\n",
       "      <td>0.0</td>\n",
       "      <td>0.0</td>\n",
       "    </tr>\n",
       "    <tr>\n",
       "      <th>4</th>\n",
       "      <td>computer</td>\n",
       "      <td>130</td>\n",
       "      <td>130</td>\n",
       "      <td>2.288893e+05</td>\n",
       "      <td>127</td>\n",
       "      <td>2.731468e+05</td>\n",
       "      <td>0.0</td>\n",
       "      <td>0.0</td>\n",
       "      <td>0.0</td>\n",
       "      <td>0.0</td>\n",
       "      <td>...</td>\n",
       "      <td>0.0</td>\n",
       "      <td>0.0</td>\n",
       "      <td>0.0</td>\n",
       "      <td>0.0</td>\n",
       "      <td>0.0</td>\n",
       "      <td>0.0</td>\n",
       "      <td>0.0</td>\n",
       "      <td>0.0</td>\n",
       "      <td>0.0</td>\n",
       "      <td>0.0</td>\n",
       "    </tr>\n",
       "    <tr>\n",
       "      <th>...</th>\n",
       "      <td>...</td>\n",
       "      <td>...</td>\n",
       "      <td>...</td>\n",
       "      <td>...</td>\n",
       "      <td>...</td>\n",
       "      <td>...</td>\n",
       "      <td>...</td>\n",
       "      <td>...</td>\n",
       "      <td>...</td>\n",
       "      <td>...</td>\n",
       "      <td>...</td>\n",
       "      <td>...</td>\n",
       "      <td>...</td>\n",
       "      <td>...</td>\n",
       "      <td>...</td>\n",
       "      <td>...</td>\n",
       "      <td>...</td>\n",
       "      <td>...</td>\n",
       "      <td>...</td>\n",
       "      <td>...</td>\n",
       "      <td>...</td>\n",
       "    </tr>\n",
       "    <tr>\n",
       "      <th>3948</th>\n",
       "      <td>hobby</td>\n",
       "      <td>206</td>\n",
       "      <td>207</td>\n",
       "      <td>2.023275e+06</td>\n",
       "      <td>200</td>\n",
       "      <td>4.463707e+05</td>\n",
       "      <td>0.0</td>\n",
       "      <td>0.0</td>\n",
       "      <td>0.0</td>\n",
       "      <td>0.0</td>\n",
       "      <td>...</td>\n",
       "      <td>1.0</td>\n",
       "      <td>0.0</td>\n",
       "      <td>0.0</td>\n",
       "      <td>0.0</td>\n",
       "      <td>0.0</td>\n",
       "      <td>0.0</td>\n",
       "      <td>0.0</td>\n",
       "      <td>0.0</td>\n",
       "      <td>0.0</td>\n",
       "      <td>0.0</td>\n",
       "    </tr>\n",
       "    <tr>\n",
       "      <th>3949</th>\n",
       "      <td>cable</td>\n",
       "      <td>77</td>\n",
       "      <td>77</td>\n",
       "      <td>2.488764e+04</td>\n",
       "      <td>77</td>\n",
       "      <td>3.168081e+04</td>\n",
       "      <td>0.0</td>\n",
       "      <td>0.0</td>\n",
       "      <td>0.0</td>\n",
       "      <td>0.0</td>\n",
       "      <td>...</td>\n",
       "      <td>0.0</td>\n",
       "      <td>0.0</td>\n",
       "      <td>0.0</td>\n",
       "      <td>0.0</td>\n",
       "      <td>0.0</td>\n",
       "      <td>0.0</td>\n",
       "      <td>0.0</td>\n",
       "      <td>0.0</td>\n",
       "      <td>0.0</td>\n",
       "      <td>0.0</td>\n",
       "    </tr>\n",
       "    <tr>\n",
       "      <th>3950</th>\n",
       "      <td>digital goods</td>\n",
       "      <td>1464</td>\n",
       "      <td>1506</td>\n",
       "      <td>1.030649e+06</td>\n",
       "      <td>1164</td>\n",
       "      <td>1.225969e+06</td>\n",
       "      <td>0.0</td>\n",
       "      <td>0.0</td>\n",
       "      <td>0.0</td>\n",
       "      <td>0.0</td>\n",
       "      <td>...</td>\n",
       "      <td>0.0</td>\n",
       "      <td>0.0</td>\n",
       "      <td>0.0</td>\n",
       "      <td>0.0</td>\n",
       "      <td>0.0</td>\n",
       "      <td>0.0</td>\n",
       "      <td>0.0</td>\n",
       "      <td>0.0</td>\n",
       "      <td>0.0</td>\n",
       "      <td>0.0</td>\n",
       "    </tr>\n",
       "    <tr>\n",
       "      <th>3951</th>\n",
       "      <td>opticians</td>\n",
       "      <td>3920</td>\n",
       "      <td>4285</td>\n",
       "      <td>5.961703e+05</td>\n",
       "      <td>2255</td>\n",
       "      <td>7.204531e+05</td>\n",
       "      <td>0.0</td>\n",
       "      <td>0.0</td>\n",
       "      <td>0.0</td>\n",
       "      <td>0.0</td>\n",
       "      <td>...</td>\n",
       "      <td>0.0</td>\n",
       "      <td>0.0</td>\n",
       "      <td>0.0</td>\n",
       "      <td>0.0</td>\n",
       "      <td>1.0</td>\n",
       "      <td>0.0</td>\n",
       "      <td>0.0</td>\n",
       "      <td>0.0</td>\n",
       "      <td>0.0</td>\n",
       "      <td>0.0</td>\n",
       "    </tr>\n",
       "    <tr>\n",
       "      <th>3952</th>\n",
       "      <td>books</td>\n",
       "      <td>33</td>\n",
       "      <td>33</td>\n",
       "      <td>3.339252e+04</td>\n",
       "      <td>33</td>\n",
       "      <td>3.991901e+04</td>\n",
       "      <td>0.0</td>\n",
       "      <td>0.0</td>\n",
       "      <td>0.0</td>\n",
       "      <td>0.0</td>\n",
       "      <td>...</td>\n",
       "      <td>0.0</td>\n",
       "      <td>0.0</td>\n",
       "      <td>0.0</td>\n",
       "      <td>0.0</td>\n",
       "      <td>0.0</td>\n",
       "      <td>0.0</td>\n",
       "      <td>0.0</td>\n",
       "      <td>0.0</td>\n",
       "      <td>0.0</td>\n",
       "      <td>0.0</td>\n",
       "    </tr>\n",
       "  </tbody>\n",
       "</table>\n",
       "<p>3784 rows × 30 columns</p>\n",
       "</div>"
      ],
      "text/plain": [
       "                tag  total_num_consumer  total_num_transaction  total_revenue  \\\n",
       "0         furniture                 808                    823   3.096499e+04   \n",
       "1             cable                 731                    750   1.301437e+05   \n",
       "2             music                 107                    107   3.055638e+05   \n",
       "3              gift                2244                   2370   5.891499e+05   \n",
       "4          computer                 130                    130   2.288893e+05   \n",
       "...             ...                 ...                    ...            ...   \n",
       "3948          hobby                 206                    207   2.023275e+06   \n",
       "3949          cable                  77                     77   2.488764e+04   \n",
       "3950  digital goods                1464                   1506   1.030649e+06   \n",
       "3951      opticians                3920                   4285   5.961703e+05   \n",
       "3952          books                  33                     33   3.339252e+04   \n",
       "\n",
       "      total_num_postcode  next_total_revenue  antique  art dealer  \\\n",
       "0                    719        3.894029e+04      0.0         0.0   \n",
       "1                    642        1.544679e+05      0.0         0.0   \n",
       "2                    107        2.900710e+05      0.0         0.0   \n",
       "3                   1619        6.667664e+05      0.0         0.0   \n",
       "4                    127        2.731468e+05      0.0         0.0   \n",
       "...                  ...                 ...      ...         ...   \n",
       "3948                 200        4.463707e+05      0.0         0.0   \n",
       "3949                  77        3.168081e+04      0.0         0.0   \n",
       "3950                1164        1.225969e+06      0.0         0.0   \n",
       "3951                2255        7.204531e+05      0.0         0.0   \n",
       "3952                  33        3.991901e+04      0.0         0.0   \n",
       "\n",
       "      artist supply  bicycle  ...  hobby  jewelry  motor  music  opticians  \\\n",
       "0               0.0      0.0  ...    0.0      0.0    0.0    0.0        0.0   \n",
       "1               0.0      0.0  ...    0.0      0.0    0.0    0.0        0.0   \n",
       "2               0.0      0.0  ...    0.0      0.0    0.0    1.0        0.0   \n",
       "3               0.0      0.0  ...    0.0      0.0    0.0    0.0        0.0   \n",
       "4               0.0      0.0  ...    0.0      0.0    0.0    0.0        0.0   \n",
       "...             ...      ...  ...    ...      ...    ...    ...        ...   \n",
       "3948            0.0      0.0  ...    1.0      0.0    0.0    0.0        0.0   \n",
       "3949            0.0      0.0  ...    0.0      0.0    0.0    0.0        0.0   \n",
       "3950            0.0      0.0  ...    0.0      0.0    0.0    0.0        0.0   \n",
       "3951            0.0      0.0  ...    0.0      0.0    0.0    0.0        1.0   \n",
       "3952            0.0      0.0  ...    0.0      0.0    0.0    0.0        0.0   \n",
       "\n",
       "      shoe  stationery  telecom  tent  watch  \n",
       "0      0.0         0.0      0.0   0.0    0.0  \n",
       "1      0.0         0.0      0.0   0.0    0.0  \n",
       "2      0.0         0.0      0.0   0.0    0.0  \n",
       "3      0.0         0.0      0.0   0.0    0.0  \n",
       "4      0.0         0.0      0.0   0.0    0.0  \n",
       "...    ...         ...      ...   ...    ...  \n",
       "3948   0.0         0.0      0.0   0.0    0.0  \n",
       "3949   0.0         0.0      0.0   0.0    0.0  \n",
       "3950   0.0         0.0      0.0   0.0    0.0  \n",
       "3951   0.0         0.0      0.0   0.0    0.0  \n",
       "3952   0.0         0.0      0.0   0.0    0.0  \n",
       "\n",
       "[3784 rows x 30 columns]"
      ]
     },
     "execution_count": 5,
     "metadata": {},
     "output_type": "execute_result"
    }
   ],
   "source": [
    "revenue_df[enc.categories_[0]] = tag_ohe\n",
    "revenue_df = revenue_df.dropna()\n",
    "revenue_df"
   ]
  },
  {
   "cell_type": "markdown",
   "metadata": {},
   "source": [
    "#### Linear Regression"
   ]
  },
  {
   "cell_type": "code",
   "execution_count": 6,
   "metadata": {},
   "outputs": [
    {
     "data": {
      "text/plain": [
       "0.9138791991547689"
      ]
     },
     "execution_count": 6,
     "metadata": {},
     "output_type": "execute_result"
    }
   ],
   "source": [
    "features = ['total_num_consumer', 'total_num_transaction', 'total_revenue', 'total_num_postcode']\n",
    "X = np.array(revenue_df[features])\n",
    "y = np.array(revenue_df['next_total_revenue'])\n",
    "reg = LinearRegression().fit(X, y)\n",
    "reg.score(X, y)"
   ]
  },
  {
   "cell_type": "code",
   "execution_count": 7,
   "metadata": {},
   "outputs": [],
   "source": [
    "# missing values will not be included\n",
    "X_train, X_test, y_train, y_test = train_test_split(X, y, test_size=0.3, random_state=0)"
   ]
  },
  {
   "cell_type": "code",
   "execution_count": 8,
   "metadata": {},
   "outputs": [
    {
     "data": {
      "text/plain": [
       "0.9415932753962846"
      ]
     },
     "execution_count": 8,
     "metadata": {},
     "output_type": "execute_result"
    }
   ],
   "source": [
    "lr = LinearRegression()\n",
    "fitted_model = lr.fit(X_train, y_train)\n",
    "fitted_model.score(X_test, y_test)"
   ]
  },
  {
   "cell_type": "code",
   "execution_count": 9,
   "metadata": {},
   "outputs": [
    {
     "name": "stdout",
     "output_type": "stream",
     "text": [
      "Coefficients: [196.23347542 -13.83054958   0.8314655   26.42734243]\n",
      "Intercept: -43132.43989124498\n"
     ]
    }
   ],
   "source": [
    "print(\"Coefficients: %s\" % str(fitted_model.coef_))\n",
    "print(\"Intercept: %s\" % str(fitted_model.intercept_))"
   ]
  },
  {
   "cell_type": "code",
   "execution_count": 10,
   "metadata": {},
   "outputs": [
    {
     "data": {
      "text/plain": [
       "array([ 882401.20348866,   -8315.52860467,  -35557.19474653, ...,\n",
       "       1911531.64463741,  -12551.07940471, 1423593.51173547])"
      ]
     },
     "execution_count": 10,
     "metadata": {},
     "output_type": "execute_result"
    }
   ],
   "source": [
    "lr_predictions = fitted_model.predict(X_test)\n",
    "lr_predictions"
   ]
  },
  {
   "cell_type": "code",
   "execution_count": 11,
   "metadata": {},
   "outputs": [
    {
     "data": {
      "text/html": [
       "<div>\n",
       "<style scoped>\n",
       "    .dataframe tbody tr th:only-of-type {\n",
       "        vertical-align: middle;\n",
       "    }\n",
       "\n",
       "    .dataframe tbody tr th {\n",
       "        vertical-align: top;\n",
       "    }\n",
       "\n",
       "    .dataframe thead th {\n",
       "        text-align: right;\n",
       "    }\n",
       "</style>\n",
       "<table border=\"1\" class=\"dataframe\">\n",
       "  <thead>\n",
       "    <tr style=\"text-align: right;\">\n",
       "      <th></th>\n",
       "      <th>y_pred</th>\n",
       "      <th>y_true</th>\n",
       "    </tr>\n",
       "  </thead>\n",
       "  <tbody>\n",
       "    <tr>\n",
       "      <th>0</th>\n",
       "      <td>8.824012e+05</td>\n",
       "      <td>7.914105e+05</td>\n",
       "    </tr>\n",
       "    <tr>\n",
       "      <th>1</th>\n",
       "      <td>-8.315529e+03</td>\n",
       "      <td>1.920798e+04</td>\n",
       "    </tr>\n",
       "    <tr>\n",
       "      <th>2</th>\n",
       "      <td>-3.555719e+04</td>\n",
       "      <td>5.991649e+03</td>\n",
       "    </tr>\n",
       "    <tr>\n",
       "      <th>3</th>\n",
       "      <td>9.665839e+05</td>\n",
       "      <td>3.663320e+05</td>\n",
       "    </tr>\n",
       "    <tr>\n",
       "      <th>4</th>\n",
       "      <td>1.581418e+05</td>\n",
       "      <td>1.254175e+05</td>\n",
       "    </tr>\n",
       "    <tr>\n",
       "      <th>...</th>\n",
       "      <td>...</td>\n",
       "      <td>...</td>\n",
       "    </tr>\n",
       "    <tr>\n",
       "      <th>1131</th>\n",
       "      <td>-1.759834e+04</td>\n",
       "      <td>2.455700e+04</td>\n",
       "    </tr>\n",
       "    <tr>\n",
       "      <th>1132</th>\n",
       "      <td>8.743362e+05</td>\n",
       "      <td>1.011096e+06</td>\n",
       "    </tr>\n",
       "    <tr>\n",
       "      <th>1133</th>\n",
       "      <td>1.911532e+06</td>\n",
       "      <td>1.659757e+06</td>\n",
       "    </tr>\n",
       "    <tr>\n",
       "      <th>1134</th>\n",
       "      <td>-1.255108e+04</td>\n",
       "      <td>3.990979e+04</td>\n",
       "    </tr>\n",
       "    <tr>\n",
       "      <th>1135</th>\n",
       "      <td>1.423594e+06</td>\n",
       "      <td>1.353069e+06</td>\n",
       "    </tr>\n",
       "  </tbody>\n",
       "</table>\n",
       "<p>1136 rows × 2 columns</p>\n",
       "</div>"
      ],
      "text/plain": [
       "            y_pred        y_true\n",
       "0     8.824012e+05  7.914105e+05\n",
       "1    -8.315529e+03  1.920798e+04\n",
       "2    -3.555719e+04  5.991649e+03\n",
       "3     9.665839e+05  3.663320e+05\n",
       "4     1.581418e+05  1.254175e+05\n",
       "...            ...           ...\n",
       "1131 -1.759834e+04  2.455700e+04\n",
       "1132  8.743362e+05  1.011096e+06\n",
       "1133  1.911532e+06  1.659757e+06\n",
       "1134 -1.255108e+04  3.990979e+04\n",
       "1135  1.423594e+06  1.353069e+06\n",
       "\n",
       "[1136 rows x 2 columns]"
      ]
     },
     "execution_count": 11,
     "metadata": {},
     "output_type": "execute_result"
    }
   ],
   "source": [
    "show_result = pd.DataFrame({'y_pred': lr_predictions, 'y_true': y_test})\n",
    "show_result"
   ]
  },
  {
   "cell_type": "code",
   "execution_count": 12,
   "metadata": {},
   "outputs": [
    {
     "name": "stdout",
     "output_type": "stream",
     "text": [
      "r2 score:  0.9268186186560461\n",
      "Mean Absolute Error:  180018.52856016337\n"
     ]
    }
   ],
   "source": [
    "print(\"r2 score: \", r2_score(lr_predictions, y_test))\n",
    "print(\"Mean Absolute Error: \", mean_absolute_error(lr_predictions, y_test))"
   ]
  },
  {
   "cell_type": "markdown",
   "metadata": {},
   "source": [
    "#### Random Forest Regressor"
   ]
  },
  {
   "cell_type": "markdown",
   "metadata": {},
   "source": [
    "from pyspark.ml.regression import RandomForestRegressor\n",
    "from pyspark.ml.evaluation import RegressionEvaluator"
   ]
  },
  {
   "cell_type": "markdown",
   "metadata": {},
   "source": [
    "rf = RandomForestRegressor(numTrees = 10, maxDepth = 10, labelCol='next_total_revenue')"
   ]
  },
  {
   "cell_type": "markdown",
   "metadata": {},
   "source": [
    "model = rf.fit(train_df)\n",
    "result = model.transform(test_df)"
   ]
  },
  {
   "cell_type": "markdown",
   "metadata": {},
   "source": [
    "rf_evaluator = RegressionEvaluator(labelCol='next_total_revenue', metricName=\"mae\", predictionCol='prediction')\n",
    "mae = rf_evaluator.evaluate(result)\n",
    "rf_evaluator = RegressionEvaluator(labelCol='next_total_revenue', metricName=\"r2\", predictionCol='prediction')\n",
    "r2 = rf_evaluator.evaluate(result)\n",
    "print('+++++++++++++++++++++++++++++++++++++++++++')\n",
    "print(f'Using Categorical feature: {features}')\n",
    "print('mae:{}'.format(mae))\n",
    "print('r2: {}'.format(r2))"
   ]
  },
  {
   "cell_type": "markdown",
   "metadata": {},
   "source": [
    "result.select(\"prediction\",\"next_total_revenue\",\"features\").show(20)"
   ]
  },
  {
   "cell_type": "markdown",
   "metadata": {},
   "source": [
    "#### Gradient Boosting Tree"
   ]
  },
  {
   "cell_type": "markdown",
   "metadata": {},
   "source": [
    "from pyspark.ml.regression import GBTRegressor\n",
    "gbt = GBTRegressor(featuresCol = 'features', labelCol = 'next_total_revenue', maxIter=10)\n",
    "gbt_model = gbt.fit(train_df)\n",
    "gbt_predictions = gbt_model.transform(test_df)\n",
    "gbt_predictions.select('prediction', 'next_total_revenue', 'features').show(5)"
   ]
  },
  {
   "cell_type": "markdown",
   "metadata": {},
   "source": [
    "gbt_evaluator = RegressionEvaluator(\n",
    "    labelCol=\"next_total_revenue\", predictionCol=\"prediction\", metricName=\"rmse\")\n",
    "rmse = gbt_evaluator.evaluate(gbt_predictions)\n",
    "print(\"Root Mean Squared Error (RMSE) on test data = %g\" % rmse)"
   ]
  },
  {
   "cell_type": "markdown",
   "metadata": {},
   "source": [
    "#### Neural Network with full Features"
   ]
  },
  {
   "cell_type": "code",
   "execution_count": 13,
   "metadata": {},
   "outputs": [],
   "source": [
    "revenue_df = revenue_df.drop(columns = 'tag')"
   ]
  },
  {
   "cell_type": "code",
   "execution_count": 14,
   "metadata": {},
   "outputs": [
    {
     "data": {
      "text/plain": [
       "((2648, 28), (1136, 28))"
      ]
     },
     "execution_count": 14,
     "metadata": {},
     "output_type": "execute_result"
    }
   ],
   "source": [
    "X_train, X_test, y_train, y_test = train_test_split(revenue_df.loc[:, revenue_df.columns != 'next_total_revenue'], revenue_df['next_total_revenue'], test_size=0.3, random_state=0)\n",
    "X_train.shape, X_test.shape"
   ]
  },
  {
   "cell_type": "code",
   "execution_count": 15,
   "metadata": {},
   "outputs": [
    {
     "data": {
      "text/plain": [
       "((2648, 28), (1136, 28))"
      ]
     },
     "execution_count": 15,
     "metadata": {},
     "output_type": "execute_result"
    }
   ],
   "source": [
    "# scale train and test dataset in order to be standard normally distributed with zero mean\n",
    "sc_X = StandardScaler()\n",
    "X_trainscaled=sc_X.fit_transform(X_train)\n",
    "X_testscaled=sc_X.transform(X_test)\n",
    "X_trainscaled.shape, X_testscaled.shape"
   ]
  },
  {
   "cell_type": "code",
   "execution_count": 16,
   "metadata": {},
   "outputs": [
    {
     "name": "stdout",
     "output_type": "stream",
     "text": [
      "The Score with  0.9920119533292459\n"
     ]
    }
   ],
   "source": [
    "mlp_reg = MLPRegressor(hidden_layer_sizes=(128,128,128,128),activation=\"relu\" ,solver = 'adam', random_state=30034, max_iter=20000)\\\n",
    "    .fit(X_trainscaled, y_train)\n",
    "y_pred=mlp_reg.predict(X_testscaled)\n",
    "print(\"The Score with \", (metrics.r2_score(y_pred, y_test)))"
   ]
  },
  {
   "cell_type": "code",
   "execution_count": 17,
   "metadata": {},
   "outputs": [
    {
     "data": {
      "text/html": [
       "<div>\n",
       "<style scoped>\n",
       "    .dataframe tbody tr th:only-of-type {\n",
       "        vertical-align: middle;\n",
       "    }\n",
       "\n",
       "    .dataframe tbody tr th {\n",
       "        vertical-align: top;\n",
       "    }\n",
       "\n",
       "    .dataframe thead th {\n",
       "        text-align: right;\n",
       "    }\n",
       "</style>\n",
       "<table border=\"1\" class=\"dataframe\">\n",
       "  <thead>\n",
       "    <tr style=\"text-align: right;\">\n",
       "      <th></th>\n",
       "      <th>Actual</th>\n",
       "      <th>Predicted</th>\n",
       "    </tr>\n",
       "  </thead>\n",
       "  <tbody>\n",
       "    <tr>\n",
       "      <th>558</th>\n",
       "      <td>791410.488150</td>\n",
       "      <td>779728.676977</td>\n",
       "    </tr>\n",
       "    <tr>\n",
       "      <th>546</th>\n",
       "      <td>19207.983183</td>\n",
       "      <td>15188.471175</td>\n",
       "    </tr>\n",
       "    <tr>\n",
       "      <th>2308</th>\n",
       "      <td>5991.648790</td>\n",
       "      <td>11770.005382</td>\n",
       "    </tr>\n",
       "    <tr>\n",
       "      <th>2996</th>\n",
       "      <td>366331.976097</td>\n",
       "      <td>296494.992770</td>\n",
       "    </tr>\n",
       "    <tr>\n",
       "      <th>807</th>\n",
       "      <td>125417.488383</td>\n",
       "      <td>122897.736047</td>\n",
       "    </tr>\n",
       "  </tbody>\n",
       "</table>\n",
       "</div>"
      ],
      "text/plain": [
       "             Actual      Predicted\n",
       "558   791410.488150  779728.676977\n",
       "546    19207.983183   15188.471175\n",
       "2308    5991.648790   11770.005382\n",
       "2996  366331.976097  296494.992770\n",
       "807   125417.488383  122897.736047"
      ]
     },
     "execution_count": 17,
     "metadata": {},
     "output_type": "execute_result"
    }
   ],
   "source": [
    "df_result = pd.DataFrame({'Actual': y_test, 'Predicted': y_pred})\n",
    "df_result.head()"
   ]
  },
  {
   "cell_type": "code",
   "execution_count": 18,
   "metadata": {},
   "outputs": [
    {
     "name": "stdout",
     "output_type": "stream",
     "text": [
      "Mean Absolute Error: 57965.328468027736\n",
      "r2 Score: 0.9915130006504347\n"
     ]
    }
   ],
   "source": [
    "print('Mean Absolute Error:', metrics.mean_absolute_error(y_test, y_pred))\n",
    "print('r2 Score:', metrics.r2_score(y_test, y_pred))"
   ]
  },
  {
   "cell_type": "markdown",
   "metadata": {},
   "source": [
    "### Neural Network with selected Features"
   ]
  },
  {
   "cell_type": "code",
   "execution_count": 19,
   "metadata": {},
   "outputs": [
    {
     "data": {
      "text/html": [
       "<div>\n",
       "<style scoped>\n",
       "    .dataframe tbody tr th:only-of-type {\n",
       "        vertical-align: middle;\n",
       "    }\n",
       "\n",
       "    .dataframe tbody tr th {\n",
       "        vertical-align: top;\n",
       "    }\n",
       "\n",
       "    .dataframe thead th {\n",
       "        text-align: right;\n",
       "    }\n",
       "</style>\n",
       "<table border=\"1\" class=\"dataframe\">\n",
       "  <thead>\n",
       "    <tr style=\"text-align: right;\">\n",
       "      <th></th>\n",
       "      <th>merchant_abn</th>\n",
       "      <th>total_num_consumer</th>\n",
       "      <th>avg_dollar_value</th>\n",
       "      <th>total_num_transaction</th>\n",
       "      <th>mean_income</th>\n",
       "      <th>revenue_level</th>\n",
       "      <th>total_revenue</th>\n",
       "      <th>total_num_postcode</th>\n",
       "      <th>tag</th>\n",
       "      <th>next_total_num_consumer</th>\n",
       "      <th>next_total_revenue</th>\n",
       "      <th>next_total_num_transaction</th>\n",
       "    </tr>\n",
       "  </thead>\n",
       "  <tbody>\n",
       "    <tr>\n",
       "      <th>0</th>\n",
       "      <td>10023283211</td>\n",
       "      <td>808</td>\n",
       "      <td>209.025160</td>\n",
       "      <td>823</td>\n",
       "      <td>62506.642770</td>\n",
       "      <td>e</td>\n",
       "      <td>3.096499e+04</td>\n",
       "      <td>719</td>\n",
       "      <td>furniture</td>\n",
       "      <td>980.0</td>\n",
       "      <td>3.894029e+04</td>\n",
       "      <td>1002.0</td>\n",
       "    </tr>\n",
       "    <tr>\n",
       "      <th>1</th>\n",
       "      <td>10142254217</td>\n",
       "      <td>731</td>\n",
       "      <td>41.119659</td>\n",
       "      <td>750</td>\n",
       "      <td>62693.954667</td>\n",
       "      <td>b</td>\n",
       "      <td>1.301437e+05</td>\n",
       "      <td>642</td>\n",
       "      <td>cable</td>\n",
       "      <td>918.0</td>\n",
       "      <td>1.544679e+05</td>\n",
       "      <td>925.0</td>\n",
       "    </tr>\n",
       "    <tr>\n",
       "      <th>2</th>\n",
       "      <td>10192359162</td>\n",
       "      <td>107</td>\n",
       "      <td>451.143208</td>\n",
       "      <td>107</td>\n",
       "      <td>65637.383178</td>\n",
       "      <td>a</td>\n",
       "      <td>3.055638e+05</td>\n",
       "      <td>107</td>\n",
       "      <td>music</td>\n",
       "      <td>107.0</td>\n",
       "      <td>2.900710e+05</td>\n",
       "      <td>107.0</td>\n",
       "    </tr>\n",
       "    <tr>\n",
       "      <th>3</th>\n",
       "      <td>10206519221</td>\n",
       "      <td>2244</td>\n",
       "      <td>39.209217</td>\n",
       "      <td>2370</td>\n",
       "      <td>62122.522785</td>\n",
       "      <td>a</td>\n",
       "      <td>5.891499e+05</td>\n",
       "      <td>1619</td>\n",
       "      <td>gift</td>\n",
       "      <td>2662.0</td>\n",
       "      <td>6.667664e+05</td>\n",
       "      <td>2811.0</td>\n",
       "    </tr>\n",
       "    <tr>\n",
       "      <th>4</th>\n",
       "      <td>10279061213</td>\n",
       "      <td>130</td>\n",
       "      <td>308.351500</td>\n",
       "      <td>130</td>\n",
       "      <td>63676.284615</td>\n",
       "      <td>a</td>\n",
       "      <td>2.288893e+05</td>\n",
       "      <td>127</td>\n",
       "      <td>computer</td>\n",
       "      <td>161.0</td>\n",
       "      <td>2.731468e+05</td>\n",
       "      <td>161.0</td>\n",
       "    </tr>\n",
       "    <tr>\n",
       "      <th>...</th>\n",
       "      <td>...</td>\n",
       "      <td>...</td>\n",
       "      <td>...</td>\n",
       "      <td>...</td>\n",
       "      <td>...</td>\n",
       "      <td>...</td>\n",
       "      <td>...</td>\n",
       "      <td>...</td>\n",
       "      <td>...</td>\n",
       "      <td>...</td>\n",
       "      <td>...</td>\n",
       "      <td>...</td>\n",
       "    </tr>\n",
       "    <tr>\n",
       "      <th>3948</th>\n",
       "      <td>99845294286</td>\n",
       "      <td>206</td>\n",
       "      <td>1705.807601</td>\n",
       "      <td>207</td>\n",
       "      <td>63777.541063</td>\n",
       "      <td>a</td>\n",
       "      <td>2.023275e+06</td>\n",
       "      <td>200</td>\n",
       "      <td>hobby</td>\n",
       "      <td>94.0</td>\n",
       "      <td>4.463707e+05</td>\n",
       "      <td>95.0</td>\n",
       "    </tr>\n",
       "    <tr>\n",
       "      <th>3949</th>\n",
       "      <td>99861963809</td>\n",
       "      <td>77</td>\n",
       "      <td>112.618854</td>\n",
       "      <td>77</td>\n",
       "      <td>66267.415584</td>\n",
       "      <td>c</td>\n",
       "      <td>2.488764e+04</td>\n",
       "      <td>77</td>\n",
       "      <td>cable</td>\n",
       "      <td>92.0</td>\n",
       "      <td>3.168081e+04</td>\n",
       "      <td>92.0</td>\n",
       "    </tr>\n",
       "    <tr>\n",
       "      <th>3950</th>\n",
       "      <td>99904689266</td>\n",
       "      <td>1464</td>\n",
       "      <td>102.911540</td>\n",
       "      <td>1506</td>\n",
       "      <td>63133.881142</td>\n",
       "      <td>a</td>\n",
       "      <td>1.030649e+06</td>\n",
       "      <td>1164</td>\n",
       "      <td>digital goods</td>\n",
       "      <td>1669.0</td>\n",
       "      <td>1.225969e+06</td>\n",
       "      <td>1739.0</td>\n",
       "    </tr>\n",
       "    <tr>\n",
       "      <th>3951</th>\n",
       "      <td>99938978285</td>\n",
       "      <td>3920</td>\n",
       "      <td>30.917688</td>\n",
       "      <td>4285</td>\n",
       "      <td>62782.274912</td>\n",
       "      <td>b</td>\n",
       "      <td>5.961703e+05</td>\n",
       "      <td>2255</td>\n",
       "      <td>opticians</td>\n",
       "      <td>4614.0</td>\n",
       "      <td>7.204531e+05</td>\n",
       "      <td>5104.0</td>\n",
       "    </tr>\n",
       "    <tr>\n",
       "      <th>3952</th>\n",
       "      <td>99974311662</td>\n",
       "      <td>33</td>\n",
       "      <td>319.209608</td>\n",
       "      <td>33</td>\n",
       "      <td>60450.212121</td>\n",
       "      <td>b</td>\n",
       "      <td>3.339252e+04</td>\n",
       "      <td>33</td>\n",
       "      <td>books</td>\n",
       "      <td>40.0</td>\n",
       "      <td>3.991901e+04</td>\n",
       "      <td>40.0</td>\n",
       "    </tr>\n",
       "  </tbody>\n",
       "</table>\n",
       "<p>3953 rows × 12 columns</p>\n",
       "</div>"
      ],
      "text/plain": [
       "      merchant_abn  total_num_consumer  avg_dollar_value  \\\n",
       "0      10023283211                 808        209.025160   \n",
       "1      10142254217                 731         41.119659   \n",
       "2      10192359162                 107        451.143208   \n",
       "3      10206519221                2244         39.209217   \n",
       "4      10279061213                 130        308.351500   \n",
       "...            ...                 ...               ...   \n",
       "3948   99845294286                 206       1705.807601   \n",
       "3949   99861963809                  77        112.618854   \n",
       "3950   99904689266                1464        102.911540   \n",
       "3951   99938978285                3920         30.917688   \n",
       "3952   99974311662                  33        319.209608   \n",
       "\n",
       "      total_num_transaction   mean_income revenue_level  total_revenue  \\\n",
       "0                       823  62506.642770             e   3.096499e+04   \n",
       "1                       750  62693.954667             b   1.301437e+05   \n",
       "2                       107  65637.383178             a   3.055638e+05   \n",
       "3                      2370  62122.522785             a   5.891499e+05   \n",
       "4                       130  63676.284615             a   2.288893e+05   \n",
       "...                     ...           ...           ...            ...   \n",
       "3948                    207  63777.541063             a   2.023275e+06   \n",
       "3949                     77  66267.415584             c   2.488764e+04   \n",
       "3950                   1506  63133.881142             a   1.030649e+06   \n",
       "3951                   4285  62782.274912             b   5.961703e+05   \n",
       "3952                     33  60450.212121             b   3.339252e+04   \n",
       "\n",
       "      total_num_postcode            tag  next_total_num_consumer  \\\n",
       "0                    719      furniture                    980.0   \n",
       "1                    642          cable                    918.0   \n",
       "2                    107          music                    107.0   \n",
       "3                   1619           gift                   2662.0   \n",
       "4                    127       computer                    161.0   \n",
       "...                  ...            ...                      ...   \n",
       "3948                 200          hobby                     94.0   \n",
       "3949                  77          cable                     92.0   \n",
       "3950                1164  digital goods                   1669.0   \n",
       "3951                2255      opticians                   4614.0   \n",
       "3952                  33          books                     40.0   \n",
       "\n",
       "      next_total_revenue  next_total_num_transaction  \n",
       "0           3.894029e+04                      1002.0  \n",
       "1           1.544679e+05                       925.0  \n",
       "2           2.900710e+05                       107.0  \n",
       "3           6.667664e+05                      2811.0  \n",
       "4           2.731468e+05                       161.0  \n",
       "...                  ...                         ...  \n",
       "3948        4.463707e+05                        95.0  \n",
       "3949        3.168081e+04                        92.0  \n",
       "3950        1.225969e+06                      1739.0  \n",
       "3951        7.204531e+05                      5104.0  \n",
       "3952        3.991901e+04                        40.0  \n",
       "\n",
       "[3953 rows x 12 columns]"
      ]
     },
     "execution_count": 19,
     "metadata": {},
     "output_type": "execute_result"
    }
   ],
   "source": [
    "full"
   ]
  },
  {
   "cell_type": "code",
   "execution_count": 20,
   "metadata": {},
   "outputs": [],
   "source": [
    "revenue_df = full[['total_num_consumer', 'total_num_transaction', 'total_revenue', 'total_num_postcode', 'next_total_revenue']].dropna()"
   ]
  },
  {
   "cell_type": "code",
   "execution_count": 21,
   "metadata": {},
   "outputs": [
    {
     "data": {
      "text/plain": [
       "((2648, 4), (1136, 4))"
      ]
     },
     "execution_count": 21,
     "metadata": {},
     "output_type": "execute_result"
    }
   ],
   "source": [
    "X_train, X_test, y_train, y_test = train_test_split(revenue_df.loc[:, revenue_df.columns != 'next_total_revenue'], revenue_df['next_total_revenue'], test_size=0.3, random_state=0)\n",
    "X_train.shape, X_test.shape"
   ]
  },
  {
   "cell_type": "code",
   "execution_count": 22,
   "metadata": {},
   "outputs": [
    {
     "data": {
      "text/plain": [
       "((2648, 4), (1136, 4))"
      ]
     },
     "execution_count": 22,
     "metadata": {},
     "output_type": "execute_result"
    }
   ],
   "source": [
    "# scale train and test dataset in order to be standard normally distributed with zero mean\n",
    "sc_X = StandardScaler()\n",
    "X_trainscaled=sc_X.fit_transform(X_train)\n",
    "X_testscaled=sc_X.transform(X_test)\n",
    "X_trainscaled.shape, X_testscaled.shape"
   ]
  },
  {
   "cell_type": "code",
   "execution_count": 23,
   "metadata": {},
   "outputs": [
    {
     "name": "stdout",
     "output_type": "stream",
     "text": [
      "The Score with  0.9925304875830819\n"
     ]
    }
   ],
   "source": [
    "mlp_reg = MLPRegressor(hidden_layer_sizes=(128,128,128,128),activation=\"relu\" ,solver = 'adam', random_state=30034, max_iter=20000)\\\n",
    "    .fit(X_trainscaled, y_train)\n",
    "y_pred=mlp_reg.predict(X_testscaled)\n",
    "print(\"The Score with \", (metrics.r2_score(y_pred, y_test)))"
   ]
  },
  {
   "cell_type": "code",
   "execution_count": 24,
   "metadata": {},
   "outputs": [
    {
     "data": {
      "text/html": [
       "<div>\n",
       "<style scoped>\n",
       "    .dataframe tbody tr th:only-of-type {\n",
       "        vertical-align: middle;\n",
       "    }\n",
       "\n",
       "    .dataframe tbody tr th {\n",
       "        vertical-align: top;\n",
       "    }\n",
       "\n",
       "    .dataframe thead th {\n",
       "        text-align: right;\n",
       "    }\n",
       "</style>\n",
       "<table border=\"1\" class=\"dataframe\">\n",
       "  <thead>\n",
       "    <tr style=\"text-align: right;\">\n",
       "      <th></th>\n",
       "      <th>Actual</th>\n",
       "      <th>Predicted</th>\n",
       "    </tr>\n",
       "  </thead>\n",
       "  <tbody>\n",
       "    <tr>\n",
       "      <th>558</th>\n",
       "      <td>791410.488150</td>\n",
       "      <td>794999.312099</td>\n",
       "    </tr>\n",
       "    <tr>\n",
       "      <th>546</th>\n",
       "      <td>19207.983183</td>\n",
       "      <td>40449.794830</td>\n",
       "    </tr>\n",
       "    <tr>\n",
       "      <th>2308</th>\n",
       "      <td>5991.648790</td>\n",
       "      <td>12030.082371</td>\n",
       "    </tr>\n",
       "    <tr>\n",
       "      <th>2996</th>\n",
       "      <td>366331.976097</td>\n",
       "      <td>535432.138932</td>\n",
       "    </tr>\n",
       "    <tr>\n",
       "      <th>807</th>\n",
       "      <td>125417.488383</td>\n",
       "      <td>150132.722725</td>\n",
       "    </tr>\n",
       "  </tbody>\n",
       "</table>\n",
       "</div>"
      ],
      "text/plain": [
       "             Actual      Predicted\n",
       "558   791410.488150  794999.312099\n",
       "546    19207.983183   40449.794830\n",
       "2308    5991.648790   12030.082371\n",
       "2996  366331.976097  535432.138932\n",
       "807   125417.488383  150132.722725"
      ]
     },
     "execution_count": 24,
     "metadata": {},
     "output_type": "execute_result"
    }
   ],
   "source": [
    "df_result = pd.DataFrame({'Actual': y_test, 'Predicted': y_pred})\n",
    "df_result.head()"
   ]
  },
  {
   "cell_type": "code",
   "execution_count": 25,
   "metadata": {},
   "outputs": [
    {
     "name": "stdout",
     "output_type": "stream",
     "text": [
      "Mean Absolute Error: 60109.31774047939\n",
      "r2 Score: 0.9922984742656825\n"
     ]
    }
   ],
   "source": [
    "print('Mean Absolute Error:', metrics.mean_absolute_error(y_test, y_pred))\n",
    "print('r2 Score:', metrics.r2_score(y_test, y_pred))"
   ]
  }
 ],
 "metadata": {
  "kernelspec": {
   "display_name": "Python 3.8.10 64-bit",
   "language": "python",
   "name": "python3"
  },
  "language_info": {
   "codemirror_mode": {
    "name": "ipython",
    "version": 3
   },
   "file_extension": ".py",
   "mimetype": "text/x-python",
   "name": "python",
   "nbconvert_exporter": "python",
   "pygments_lexer": "ipython3",
   "version": "3.8.10"
  },
  "orig_nbformat": 4,
  "vscode": {
   "interpreter": {
    "hash": "916dbcbb3f70747c44a77c7bcd40155683ae19c65e1c03b4aa3499c5328201f1"
   }
  }
 },
 "nbformat": 4,
 "nbformat_minor": 2
}
