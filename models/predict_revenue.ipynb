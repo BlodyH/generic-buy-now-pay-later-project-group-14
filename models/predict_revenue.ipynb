{
 "cells": [
  {
   "cell_type": "markdown",
   "metadata": {},
   "source": [
    "# Prediction Model for BNPL Revenue"
   ]
  },
  {
   "cell_type": "code",
   "execution_count": 23,
   "metadata": {},
   "outputs": [],
   "source": [
    "from pyspark.sql import SparkSession\n",
    "from pyspark.sql import functions as F\n",
    "import pandas as pd\n",
    "\n",
    "from pyspark.ml.regression import LinearRegression\n",
    "from pyspark.ml.feature import StringIndexer\n",
    "from pyspark.ml.feature import OneHotEncoder\n",
    "from pyspark.ml.feature import VectorAssembler \n",
    "from pyspark.ml.evaluation import MulticlassClassificationEvaluator\n",
    "from pyspark.ml.evaluation import RegressionEvaluator\n",
    "from pyspark.sql.functions import *"
   ]
  },
  {
   "cell_type": "code",
   "execution_count": 24,
   "metadata": {},
   "outputs": [],
   "source": [
    "# Create a spark session (which will run spark jobs)\n",
    "spark = (\n",
    "    SparkSession.builder.appName(\"MAST30034 Project 2\")\n",
    "    .config(\"spark.sql.repl.eagerEval.enabled\", True) \n",
    "    .config(\"spark.sql.parquet.cacheMetadata\", \"true\")\n",
    "    .config(\"spark.sql.session.timeZone\", \"Etc/UTC\")\n",
    "    .config(\"spark.driver.memory\", \"2g\")\n",
    "    .config(\"spark.executer.memory\", \"4g\")\n",
    "    .getOrCreate()\n",
    ")"
   ]
  },
  {
   "cell_type": "markdown",
   "metadata": {},
   "source": [
    "## Data Preprocessing"
   ]
  },
  {
   "cell_type": "code",
   "execution_count": 26,
   "metadata": {},
   "outputs": [
    {
     "name": "stdout",
     "output_type": "stream",
     "text": [
      "root\n",
      " |-- merchant_abn: long (nullable = true)\n",
      " |-- total_num_consumer: long (nullable = true)\n",
      " |-- avg_dollar_value: double (nullable = true)\n",
      " |-- total_num_transaction: long (nullable = true)\n",
      " |-- mean_income: double (nullable = true)\n",
      " |-- revenue_level: string (nullable = true)\n",
      " |-- total_revenue: double (nullable = true)\n",
      " |-- total_num_postcode: long (nullable = true)\n",
      " |-- tag: string (nullable = true)\n",
      " |-- next_total_num_consumer: long (nullable = true)\n",
      " |-- next_total_revenue: double (nullable = true)\n",
      " |-- next_total_num_transaction: long (nullable = true)\n",
      "\n"
     ]
    }
   ],
   "source": [
    "full = spark.read.parquet('../data/curated/train_data/')\n",
    "full = full.withColumnRenamed('y_total_num_consumer', 'next_total_num_consumer').withColumnRenamed('y_total_revenue', 'next_total_revenue')\\\n",
    "    .withColumnRenamed('y_total_num_transaction', 'next_total_num_transaction')\n",
    "full.printSchema()"
   ]
  },
  {
   "cell_type": "markdown",
   "metadata": {},
   "source": [
    "### Clustering"
   ]
  },
  {
   "cell_type": "code",
   "execution_count": 11,
   "metadata": {},
   "outputs": [],
   "source": [
    "tag_mean = full.groupBy('tag')\\\n",
    "      .agg(\n",
    "         F.mean(\"total_revenue\").alias(\"mean_revenue_of_tags\")\n",
    "      )"
   ]
  },
  {
   "cell_type": "code",
   "execution_count": 12,
   "metadata": {},
   "outputs": [],
   "source": [
    "tag_mean = tag_mean.toPandas()"
   ]
  },
  {
   "cell_type": "code",
   "execution_count": 13,
   "metadata": {},
   "outputs": [
    {
     "data": {
      "text/plain": [
       "array([2, 0, 0, 1, 2, 0, 3, 0, 1, 1, 0, 1, 0, 0, 0, 1, 0, 2, 2, 1, 1, 2,\n",
       "       1, 0], dtype=int32)"
      ]
     },
     "execution_count": 13,
     "metadata": {},
     "output_type": "execute_result"
    }
   ],
   "source": [
    "from sklearn.cluster import KMeans\n",
    "import numpy as np\n",
    "\n",
    "kmeans = KMeans(n_clusters=4, random_state=0).fit(np.array(tag_mean['mean_revenue_of_tags']).reshape(-1, 1))\n",
    "kmeans.labels_"
   ]
  },
  {
   "cell_type": "code",
   "execution_count": 14,
   "metadata": {},
   "outputs": [
    {
     "data": {
      "text/html": [
       "<div>\n",
       "<style scoped>\n",
       "    .dataframe tbody tr th:only-of-type {\n",
       "        vertical-align: middle;\n",
       "    }\n",
       "\n",
       "    .dataframe tbody tr th {\n",
       "        vertical-align: top;\n",
       "    }\n",
       "\n",
       "    .dataframe thead th {\n",
       "        text-align: right;\n",
       "    }\n",
       "</style>\n",
       "<table border=\"1\" class=\"dataframe\">\n",
       "  <thead>\n",
       "    <tr style=\"text-align: right;\">\n",
       "      <th></th>\n",
       "      <th>tag</th>\n",
       "      <th>mean_revenue_of_tags</th>\n",
       "      <th>tag_labels</th>\n",
       "    </tr>\n",
       "  </thead>\n",
       "  <tbody>\n",
       "    <tr>\n",
       "      <th>0</th>\n",
       "      <td>jewelry</td>\n",
       "      <td>301542.063851</td>\n",
       "      <td>2</td>\n",
       "    </tr>\n",
       "    <tr>\n",
       "      <th>1</th>\n",
       "      <td>cable</td>\n",
       "      <td>545919.891131</td>\n",
       "      <td>0</td>\n",
       "    </tr>\n",
       "    <tr>\n",
       "      <th>2</th>\n",
       "      <td>watch</td>\n",
       "      <td>565603.630545</td>\n",
       "      <td>0</td>\n",
       "    </tr>\n",
       "    <tr>\n",
       "      <th>3</th>\n",
       "      <td>garden supply</td>\n",
       "      <td>732549.584612</td>\n",
       "      <td>1</td>\n",
       "    </tr>\n",
       "    <tr>\n",
       "      <th>4</th>\n",
       "      <td>antique</td>\n",
       "      <td>431668.237726</td>\n",
       "      <td>2</td>\n",
       "    </tr>\n",
       "    <tr>\n",
       "      <th>5</th>\n",
       "      <td>shoe</td>\n",
       "      <td>534436.300789</td>\n",
       "      <td>0</td>\n",
       "    </tr>\n",
       "    <tr>\n",
       "      <th>6</th>\n",
       "      <td>tent</td>\n",
       "      <td>995172.851759</td>\n",
       "      <td>3</td>\n",
       "    </tr>\n",
       "    <tr>\n",
       "      <th>7</th>\n",
       "      <td>stationery</td>\n",
       "      <td>518011.067448</td>\n",
       "      <td>0</td>\n",
       "    </tr>\n",
       "    <tr>\n",
       "      <th>8</th>\n",
       "      <td>artist supply</td>\n",
       "      <td>719151.356147</td>\n",
       "      <td>1</td>\n",
       "    </tr>\n",
       "    <tr>\n",
       "      <th>9</th>\n",
       "      <td>florists</td>\n",
       "      <td>637021.720045</td>\n",
       "      <td>1</td>\n",
       "    </tr>\n",
       "    <tr>\n",
       "      <th>10</th>\n",
       "      <td>music</td>\n",
       "      <td>604916.476771</td>\n",
       "      <td>0</td>\n",
       "    </tr>\n",
       "    <tr>\n",
       "      <th>11</th>\n",
       "      <td>books</td>\n",
       "      <td>648058.902802</td>\n",
       "      <td>1</td>\n",
       "    </tr>\n",
       "    <tr>\n",
       "      <th>12</th>\n",
       "      <td>digital goods</td>\n",
       "      <td>547050.022799</td>\n",
       "      <td>0</td>\n",
       "    </tr>\n",
       "    <tr>\n",
       "      <th>13</th>\n",
       "      <td>hobby</td>\n",
       "      <td>514196.193274</td>\n",
       "      <td>0</td>\n",
       "    </tr>\n",
       "    <tr>\n",
       "      <th>14</th>\n",
       "      <td>health</td>\n",
       "      <td>479600.785451</td>\n",
       "      <td>0</td>\n",
       "    </tr>\n",
       "    <tr>\n",
       "      <th>15</th>\n",
       "      <td>furniture</td>\n",
       "      <td>687803.953816</td>\n",
       "      <td>1</td>\n",
       "    </tr>\n",
       "    <tr>\n",
       "      <th>16</th>\n",
       "      <td>opticians</td>\n",
       "      <td>558157.542033</td>\n",
       "      <td>0</td>\n",
       "    </tr>\n",
       "    <tr>\n",
       "      <th>17</th>\n",
       "      <td>art dealer</td>\n",
       "      <td>353491.556407</td>\n",
       "      <td>2</td>\n",
       "    </tr>\n",
       "    <tr>\n",
       "      <th>18</th>\n",
       "      <td>telecom</td>\n",
       "      <td>403231.625275</td>\n",
       "      <td>2</td>\n",
       "    </tr>\n",
       "    <tr>\n",
       "      <th>19</th>\n",
       "      <td>motor</td>\n",
       "      <td>817703.564773</td>\n",
       "      <td>1</td>\n",
       "    </tr>\n",
       "    <tr>\n",
       "      <th>20</th>\n",
       "      <td>computer</td>\n",
       "      <td>666917.519721</td>\n",
       "      <td>1</td>\n",
       "    </tr>\n",
       "    <tr>\n",
       "      <th>21</th>\n",
       "      <td>equipment</td>\n",
       "      <td>290041.611393</td>\n",
       "      <td>2</td>\n",
       "    </tr>\n",
       "    <tr>\n",
       "      <th>22</th>\n",
       "      <td>gift</td>\n",
       "      <td>756330.804304</td>\n",
       "      <td>1</td>\n",
       "    </tr>\n",
       "    <tr>\n",
       "      <th>23</th>\n",
       "      <td>bicycle</td>\n",
       "      <td>514276.636252</td>\n",
       "      <td>0</td>\n",
       "    </tr>\n",
       "  </tbody>\n",
       "</table>\n",
       "</div>"
      ],
      "text/plain": [
       "              tag  mean_revenue_of_tags  tag_labels\n",
       "0         jewelry         301542.063851           2\n",
       "1           cable         545919.891131           0\n",
       "2           watch         565603.630545           0\n",
       "3   garden supply         732549.584612           1\n",
       "4         antique         431668.237726           2\n",
       "5            shoe         534436.300789           0\n",
       "6            tent         995172.851759           3\n",
       "7      stationery         518011.067448           0\n",
       "8   artist supply         719151.356147           1\n",
       "9        florists         637021.720045           1\n",
       "10          music         604916.476771           0\n",
       "11          books         648058.902802           1\n",
       "12  digital goods         547050.022799           0\n",
       "13          hobby         514196.193274           0\n",
       "14         health         479600.785451           0\n",
       "15      furniture         687803.953816           1\n",
       "16      opticians         558157.542033           0\n",
       "17     art dealer         353491.556407           2\n",
       "18        telecom         403231.625275           2\n",
       "19          motor         817703.564773           1\n",
       "20       computer         666917.519721           1\n",
       "21      equipment         290041.611393           2\n",
       "22           gift         756330.804304           1\n",
       "23        bicycle         514276.636252           0"
      ]
     },
     "execution_count": 14,
     "metadata": {},
     "output_type": "execute_result"
    }
   ],
   "source": [
    "tag_mean['tag_labels'] = kmeans.labels_\n",
    "tag_mean"
   ]
  },
  {
   "cell_type": "code",
   "execution_count": 15,
   "metadata": {},
   "outputs": [
    {
     "data": {
      "text/html": [
       "<table border='1'>\n",
       "<tr><th>tag</th><th>tag_labels</th></tr>\n",
       "<tr><td>jewelry</td><td>2</td></tr>\n",
       "<tr><td>cable</td><td>0</td></tr>\n",
       "<tr><td>watch</td><td>0</td></tr>\n",
       "<tr><td>garden supply</td><td>1</td></tr>\n",
       "<tr><td>antique</td><td>2</td></tr>\n",
       "<tr><td>shoe</td><td>0</td></tr>\n",
       "<tr><td>tent</td><td>3</td></tr>\n",
       "<tr><td>stationery</td><td>0</td></tr>\n",
       "<tr><td>artist supply</td><td>1</td></tr>\n",
       "<tr><td>florists</td><td>1</td></tr>\n",
       "<tr><td>music</td><td>0</td></tr>\n",
       "<tr><td>books</td><td>1</td></tr>\n",
       "<tr><td>digital goods</td><td>0</td></tr>\n",
       "<tr><td>hobby</td><td>0</td></tr>\n",
       "<tr><td>health</td><td>0</td></tr>\n",
       "<tr><td>furniture</td><td>1</td></tr>\n",
       "<tr><td>opticians</td><td>0</td></tr>\n",
       "<tr><td>art dealer</td><td>2</td></tr>\n",
       "<tr><td>telecom</td><td>2</td></tr>\n",
       "<tr><td>motor</td><td>1</td></tr>\n",
       "</table>\n",
       "only showing top 20 rows\n"
      ],
      "text/plain": [
       "+-------------+----------+\n",
       "|          tag|tag_labels|\n",
       "+-------------+----------+\n",
       "|      jewelry|         2|\n",
       "|        cable|         0|\n",
       "|        watch|         0|\n",
       "|garden supply|         1|\n",
       "|      antique|         2|\n",
       "|         shoe|         0|\n",
       "|         tent|         3|\n",
       "|   stationery|         0|\n",
       "|artist supply|         1|\n",
       "|     florists|         1|\n",
       "|        music|         0|\n",
       "|        books|         1|\n",
       "|digital goods|         0|\n",
       "|        hobby|         0|\n",
       "|       health|         0|\n",
       "|    furniture|         1|\n",
       "|    opticians|         0|\n",
       "|   art dealer|         2|\n",
       "|      telecom|         2|\n",
       "|        motor|         1|\n",
       "+-------------+----------+\n",
       "only showing top 20 rows"
      ]
     },
     "execution_count": 15,
     "metadata": {},
     "output_type": "execute_result"
    }
   ],
   "source": [
    "tag_mean_sdf = spark.createDataFrame(tag_mean[['tag', 'tag_labels']])\n",
    "tag_mean_sdf"
   ]
  },
  {
   "cell_type": "code",
   "execution_count": 16,
   "metadata": {},
   "outputs": [
    {
     "data": {
      "text/html": [
       "<table border='1'>\n",
       "<tr><th>tag</th><th>merchant_abn</th><th>total_num_consumer</th><th>avg_dollar_value</th><th>total_num_transaction</th><th>mean_income</th><th>revenue_level</th><th>total_revenue</th><th>total_num_postcode</th><th>next_total_num_consumer</th><th>next_total_revenue</th><th>next_total_num_transaction</th><th>tag_labels</th></tr>\n",
       "<tr><td>cable</td><td>10142254217</td><td>731</td><td>41.11965938159281</td><td>750</td><td>62693.954666666665</td><td>b</td><td>130143.7154723053</td><td>642</td><td>918</td><td>154467.92091896126</td><td>925</td><td>0</td></tr>\n",
       "<tr><td>watch</td><td>10187291046</td><td>87</td><td>111.08408713922161</td><td>87</td><td>61060.0459770115</td><td>b</td><td>31795.597893195012</td><td>87</td><td>99</td><td>41683.211213258364</td><td>100</td><td>0</td></tr>\n",
       "<tr><td>watch</td><td>10264435225</td><td>1238</td><td>114.10783402533234</td><td>1272</td><td>62006.311320754714</td><td>c</td><td>346896.95929006615</td><td>1018</td><td>1519</td><td>435003.67956298945</td><td>1566</td><td>0</td></tr>\n",
       "<tr><td>artist supply</td><td>10385011947</td><td>6</td><td>526.8134669489664</td><td>6</td><td>55291.166666666664</td><td>b</td><td>10019.992382525408</td><td>6</td><td>9</td><td>18926.917288619916</td><td>9</td><td>1</td></tr>\n",
       "<tr><td>artist supply</td><td>10463252268</td><td>22</td><td>464.0964976850653</td><td>22</td><td>60070.77272727273</td><td>a</td><td>67488.91405656068</td><td>22</td><td>26</td><td>78474.65405470507</td><td>26</td><td>1</td></tr>\n",
       "<tr><td>artist supply</td><td>10487253336</td><td>629</td><td>449.0344083022495</td><td>635</td><td>63669.83464566929</td><td>b</td><td>1117736.4709001747</td><td>587</td><td>715</td><td>1206457.0200268542</td><td>733</td><td>1</td></tr>\n",
       "<tr><td>florists</td><td>10385163239</td><td>17</td><td>350.08667638343934</td><td>17</td><td>58553.117647058825</td><td>a</td><td>39339.24061981451</td><td>16</td><td>22</td><td>52838.18504617855</td><td>22</td><td>1</td></tr>\n",
       "<tr><td>music</td><td>10192359162</td><td>107</td><td>451.1432080236008</td><td>107</td><td>65637.3831775701</td><td>a</td><td>305563.802543579</td><td>107</td><td>107</td><td>290071.0062352741</td><td>107</td><td>0</td></tr>\n",
       "<tr><td>music</td><td>10364012396</td><td>4</td><td>276.0868936989199</td><td>4</td><td>81123.75</td><td>b</td><td>4008.7818228908677</td><td>4</td><td>16</td><td>19636.79081402693</td><td>16</td><td>0</td></tr>\n",
       "<tr><td>books</td><td>10530696903</td><td>174</td><td>429.6262128784364</td><td>175</td><td>61263.58857142857</td><td>a</td><td>485692.43652713683</td><td>167</td><td>226</td><td>606552.0421588303</td><td>226</td><td>1</td></tr>\n",
       "<tr><td>furniture</td><td>10023283211</td><td>808</td><td>209.02516040076958</td><td>823</td><td>62506.642770352366</td><td>e</td><td>30964.988492208053</td><td>719</td><td>980</td><td>38940.2914088986</td><td>1002</td><td>1</td></tr>\n",
       "<tr><td>furniture</td><td>10323485998</td><td>2475</td><td>128.98933167858436</td><td>2621</td><td>62792.286913391836</td><td>a</td><td>2234715.708497143</td><td>1730</td><td>2974</td><td>2765582.9188776133</td><td>3191</td><td>1</td></tr>\n",
       "<tr><td>motor</td><td>10430380319</td><td>38</td><td>359.1108847340083</td><td>38</td><td>60029.76315789474</td><td>b</td><td>67821.67882777525</td><td>38</td><td>53</td><td>88318.04454751335</td><td>53</td><td>1</td></tr>\n",
       "<tr><td>motor</td><td>10441711491</td><td>1</td><td>9734.857620793187</td><td>1</td><td>57015.0</td><td>a</td><td>56170.12828629902</td><td>1</td><td>null</td><td>null</td><td>null</td><td>1</td></tr>\n",
       "<tr><td>computer</td><td>10255988167</td><td>218</td><td>389.5552654520502</td><td>218</td><td>63146.619266055044</td><td>b</td><td>366867.5813701301</td><td>211</td><td>235</td><td>378005.14673149673</td><td>236</td><td>1</td></tr>\n",
       "<tr><td>computer</td><td>10279061213</td><td>130</td><td>308.3515003987336</td><td>130</td><td>63676.28461538462</td><td>a</td><td>228889.32027512786</td><td>127</td><td>161</td><td>273146.7707118801</td><td>161</td><td>1</td></tr>\n",
       "<tr><td>computer</td><td>10342410215</td><td>238</td><td>378.0169713940927</td><td>238</td><td>61579.6512605042</td><td>a</td><td>570397.3822040077</td><td>227</td><td>272</td><td>654693.9778432944</td><td>274</td><td>1</td></tr>\n",
       "<tr><td>computer</td><td>10385250025</td><td>185</td><td>474.1675409676319</td><td>185</td><td>63441.41081081081</td><td>a</td><td>485974.3093914355</td><td>182</td><td>190</td><td>494288.8601243659</td><td>191</td><td>1</td></tr>\n",
       "<tr><td>equipment</td><td>10346855916</td><td>5</td><td>1331.0255719326196</td><td>5</td><td>61863.6</td><td>b</td><td>23758.806014719543</td><td>5</td><td>null</td><td>null</td><td>null</td><td>2</td></tr>\n",
       "<tr><td>gift</td><td>10206519221</td><td>2244</td><td>39.20921658203575</td><td>2370</td><td>62122.52278481013</td><td>a</td><td>589149.8606977112</td><td>1619</td><td>2662</td><td>666766.4067054291</td><td>2811</td><td>1</td></tr>\n",
       "</table>\n",
       "only showing top 20 rows\n"
      ],
      "text/plain": [
       "+-------------+------------+------------------+------------------+---------------------+------------------+-------------+------------------+------------------+-----------------------+------------------+--------------------------+----------+\n",
       "|          tag|merchant_abn|total_num_consumer|  avg_dollar_value|total_num_transaction|       mean_income|revenue_level|     total_revenue|total_num_postcode|next_total_num_consumer|next_total_revenue|next_total_num_transaction|tag_labels|\n",
       "+-------------+------------+------------------+------------------+---------------------+------------------+-------------+------------------+------------------+-----------------------+------------------+--------------------------+----------+\n",
       "|        cable| 10142254217|               731| 41.11965938159281|                  750|62693.954666666665|            b| 130143.7154723053|               642|                    918|154467.92091896126|                       925|         0|\n",
       "|        watch| 10187291046|                87|111.08408713922161|                   87|  61060.0459770115|            b|31795.597893195012|                87|                     99|41683.211213258364|                       100|         0|\n",
       "|        watch| 10264435225|              1238|114.10783402533234|                 1272|62006.311320754714|            c|346896.95929006615|              1018|                   1519|435003.67956298945|                      1566|         0|\n",
       "|artist supply| 10385011947|                 6| 526.8134669489664|                    6|55291.166666666664|            b|10019.992382525408|                 6|                      9|18926.917288619916|                         9|         1|\n",
       "|artist supply| 10463252268|                22| 464.0964976850653|                   22| 60070.77272727273|            a| 67488.91405656068|                22|                     26| 78474.65405470507|                        26|         1|\n",
       "|artist supply| 10487253336|               629| 449.0344083022495|                  635| 63669.83464566929|            b|1117736.4709001747|               587|                    715|1206457.0200268542|                       733|         1|\n",
       "|     florists| 10385163239|                17|350.08667638343934|                   17|58553.117647058825|            a| 39339.24061981451|                16|                     22| 52838.18504617855|                        22|         1|\n",
       "|        music| 10192359162|               107| 451.1432080236008|                  107|  65637.3831775701|            a|  305563.802543579|               107|                    107| 290071.0062352741|                       107|         0|\n",
       "|        music| 10364012396|                 4| 276.0868936989199|                    4|          81123.75|            b|4008.7818228908677|                 4|                     16| 19636.79081402693|                        16|         0|\n",
       "|        books| 10530696903|               174| 429.6262128784364|                  175| 61263.58857142857|            a|485692.43652713683|               167|                    226| 606552.0421588303|                       226|         1|\n",
       "|    furniture| 10023283211|               808|209.02516040076958|                  823|62506.642770352366|            e|30964.988492208053|               719|                    980|  38940.2914088986|                      1002|         1|\n",
       "|    furniture| 10323485998|              2475|128.98933167858436|                 2621|62792.286913391836|            a| 2234715.708497143|              1730|                   2974|2765582.9188776133|                      3191|         1|\n",
       "|        motor| 10430380319|                38| 359.1108847340083|                   38| 60029.76315789474|            b| 67821.67882777525|                38|                     53| 88318.04454751335|                        53|         1|\n",
       "|        motor| 10441711491|                 1| 9734.857620793187|                    1|           57015.0|            a| 56170.12828629902|                 1|                   null|              null|                      null|         1|\n",
       "|     computer| 10255988167|               218| 389.5552654520502|                  218|63146.619266055044|            b| 366867.5813701301|               211|                    235|378005.14673149673|                       236|         1|\n",
       "|     computer| 10279061213|               130| 308.3515003987336|                  130| 63676.28461538462|            a|228889.32027512786|               127|                    161| 273146.7707118801|                       161|         1|\n",
       "|     computer| 10342410215|               238| 378.0169713940927|                  238|  61579.6512605042|            a| 570397.3822040077|               227|                    272| 654693.9778432944|                       274|         1|\n",
       "|     computer| 10385250025|               185| 474.1675409676319|                  185| 63441.41081081081|            a| 485974.3093914355|               182|                    190| 494288.8601243659|                       191|         1|\n",
       "|    equipment| 10346855916|                 5|1331.0255719326196|                    5|           61863.6|            b|23758.806014719543|                 5|                   null|              null|                      null|         2|\n",
       "|         gift| 10206519221|              2244| 39.20921658203575|                 2370| 62122.52278481013|            a| 589149.8606977112|              1619|                   2662| 666766.4067054291|                      2811|         1|\n",
       "+-------------+------------+------------------+------------------+---------------------+------------------+-------------+------------------+------------------+-----------------------+------------------+--------------------------+----------+\n",
       "only showing top 20 rows"
      ]
     },
     "execution_count": 16,
     "metadata": {},
     "output_type": "execute_result"
    }
   ],
   "source": [
    "full = full.join(tag_mean_sdf, [\"tag\"], how=\"left\") \n",
    "# use left join here since if no historical data is provided, we cannot predict the future value of a merchant\n",
    "full"
   ]
  },
  {
   "cell_type": "markdown",
   "metadata": {},
   "source": [
    "## Model for BNPL Revenue\n",
    "Features:\n",
    "    total number of consumer, average dollar value, total number of transaction, mean income, total number of postcode, tags\n",
    "\n",
    "label:\n",
    "    next year revenue"
   ]
  },
  {
   "cell_type": "code",
   "execution_count": 27,
   "metadata": {},
   "outputs": [
    {
     "data": {
      "text/html": [
       "<table border='1'>\n",
       "<tr><th>total_num_consumer</th><th>avg_dollar_value</th><th>total_num_transaction</th><th>mean_income</th><th>total_num_postcode</th><th>tag</th><th>next_total_revenue</th></tr>\n",
       "<tr><td>808</td><td>209.02516040076958</td><td>823</td><td>62506.642770352366</td><td>719</td><td>furniture</td><td>38940.2914088986</td></tr>\n",
       "<tr><td>731</td><td>41.11965938159281</td><td>750</td><td>62693.954666666665</td><td>642</td><td>cable</td><td>154467.92091896126</td></tr>\n",
       "<tr><td>87</td><td>111.08408713922161</td><td>87</td><td>61060.0459770115</td><td>87</td><td>watch</td><td>41683.211213258364</td></tr>\n",
       "<tr><td>107</td><td>451.1432080236008</td><td>107</td><td>65637.3831775701</td><td>107</td><td>music</td><td>290071.0062352741</td></tr>\n",
       "<tr><td>2244</td><td>39.20921658203575</td><td>2370</td><td>62122.52278481013</td><td>1619</td><td>gift</td><td>666766.4067054291</td></tr>\n",
       "<tr><td>218</td><td>389.5552654520502</td><td>218</td><td>63146.619266055044</td><td>211</td><td>computer</td><td>378005.14673149673</td></tr>\n",
       "<tr><td>1238</td><td>114.10783402533234</td><td>1272</td><td>62006.311320754714</td><td>1018</td><td>watch</td><td>435003.67956298945</td></tr>\n",
       "<tr><td>130</td><td>308.3515003987336</td><td>130</td><td>63676.28461538462</td><td>127</td><td>computer</td><td>273146.7707118801</td></tr>\n",
       "<tr><td>2475</td><td>128.98933167858436</td><td>2621</td><td>62792.286913391836</td><td>1730</td><td>furniture</td><td>2765582.9188776133</td></tr>\n",
       "<tr><td>238</td><td>378.0169713940927</td><td>238</td><td>61579.6512605042</td><td>227</td><td>computer</td><td>654693.9778432944</td></tr>\n",
       "<tr><td>5</td><td>1331.0255719326196</td><td>5</td><td>61863.6</td><td>5</td><td>equipment</td><td>null</td></tr>\n",
       "<tr><td>4</td><td>276.0868936989199</td><td>4</td><td>81123.75</td><td>4</td><td>music</td><td>19636.79081402693</td></tr>\n",
       "<tr><td>6</td><td>526.8134669489664</td><td>6</td><td>55291.166666666664</td><td>6</td><td>artist supply</td><td>18926.917288619916</td></tr>\n",
       "<tr><td>17</td><td>350.08667638343934</td><td>17</td><td>58553.117647058825</td><td>16</td><td>florists</td><td>52838.18504617855</td></tr>\n",
       "<tr><td>185</td><td>474.1675409676319</td><td>185</td><td>63441.41081081081</td><td>182</td><td>computer</td><td>494288.8601243659</td></tr>\n",
       "<tr><td>38</td><td>359.1108847340083</td><td>38</td><td>60029.76315789474</td><td>38</td><td>motor</td><td>88318.04454751335</td></tr>\n",
       "<tr><td>1</td><td>9734.857620793187</td><td>1</td><td>57015.0</td><td>1</td><td>motor</td><td>null</td></tr>\n",
       "<tr><td>405</td><td>37.94568323793217</td><td>413</td><td>64556.179176755446</td><td>366</td><td>gift</td><td>56043.0017308923</td></tr>\n",
       "<tr><td>22</td><td>464.0964976850653</td><td>22</td><td>60070.77272727273</td><td>22</td><td>artist supply</td><td>78474.65405470507</td></tr>\n",
       "<tr><td>629</td><td>449.0344083022495</td><td>635</td><td>63669.83464566929</td><td>587</td><td>artist supply</td><td>1206457.0200268542</td></tr>\n",
       "</table>\n",
       "only showing top 20 rows\n"
      ],
      "text/plain": [
       "+------------------+------------------+---------------------+------------------+------------------+-------------+------------------+\n",
       "|total_num_consumer|  avg_dollar_value|total_num_transaction|       mean_income|total_num_postcode|          tag|next_total_revenue|\n",
       "+------------------+------------------+---------------------+------------------+------------------+-------------+------------------+\n",
       "|               808|209.02516040076958|                  823|62506.642770352366|               719|    furniture|  38940.2914088986|\n",
       "|               731| 41.11965938159281|                  750|62693.954666666665|               642|        cable|154467.92091896126|\n",
       "|                87|111.08408713922161|                   87|  61060.0459770115|                87|        watch|41683.211213258364|\n",
       "|               107| 451.1432080236008|                  107|  65637.3831775701|               107|        music| 290071.0062352741|\n",
       "|              2244| 39.20921658203575|                 2370| 62122.52278481013|              1619|         gift| 666766.4067054291|\n",
       "|               218| 389.5552654520502|                  218|63146.619266055044|               211|     computer|378005.14673149673|\n",
       "|              1238|114.10783402533234|                 1272|62006.311320754714|              1018|        watch|435003.67956298945|\n",
       "|               130| 308.3515003987336|                  130| 63676.28461538462|               127|     computer| 273146.7707118801|\n",
       "|              2475|128.98933167858436|                 2621|62792.286913391836|              1730|    furniture|2765582.9188776133|\n",
       "|               238| 378.0169713940927|                  238|  61579.6512605042|               227|     computer| 654693.9778432944|\n",
       "|                 5|1331.0255719326196|                    5|           61863.6|                 5|    equipment|              null|\n",
       "|                 4| 276.0868936989199|                    4|          81123.75|                 4|        music| 19636.79081402693|\n",
       "|                 6| 526.8134669489664|                    6|55291.166666666664|                 6|artist supply|18926.917288619916|\n",
       "|                17|350.08667638343934|                   17|58553.117647058825|                16|     florists| 52838.18504617855|\n",
       "|               185| 474.1675409676319|                  185| 63441.41081081081|               182|     computer| 494288.8601243659|\n",
       "|                38| 359.1108847340083|                   38| 60029.76315789474|                38|        motor| 88318.04454751335|\n",
       "|                 1| 9734.857620793187|                    1|           57015.0|                 1|        motor|              null|\n",
       "|               405| 37.94568323793217|                  413|64556.179176755446|               366|         gift|  56043.0017308923|\n",
       "|                22| 464.0964976850653|                   22| 60070.77272727273|                22|artist supply| 78474.65405470507|\n",
       "|               629| 449.0344083022495|                  635| 63669.83464566929|               587|artist supply|1206457.0200268542|\n",
       "+------------------+------------------+---------------------+------------------+------------------+-------------+------------------+\n",
       "only showing top 20 rows"
      ]
     },
     "execution_count": 27,
     "metadata": {},
     "output_type": "execute_result"
    }
   ],
   "source": [
    "# drop the columns not needed\n",
    "revenue_df = full.drop('merchant_abn', 'revenue_level', 'total_revenue', 'next_total_num_consumer', 'next_total_num_transaction')\n",
    "revenue_df"
   ]
  },
  {
   "cell_type": "markdown",
   "metadata": {},
   "source": [
    "### Indexing and One-hot Encoding"
   ]
  },
  {
   "cell_type": "code",
   "execution_count": 18,
   "metadata": {},
   "outputs": [
    {
     "data": {
      "text/html": [
       "<table border='1'>\n",
       "<tr><th>tag</th><th>total_num_consumer</th><th>avg_dollar_value</th><th>total_num_transaction</th><th>mean_income</th><th>total_num_postcode</th><th>next_total_revenue</th><th>tag_labels</th><th>tagIndex</th><th>tagOHE</th></tr>\n",
       "<tr><td>jewelry</td><td>8</td><td>10439.401811028416</td><td>8</td><td>61840.875</td><td>8</td><td>null</td><td>2</td><td>23.0</td><td>(23,[],[])</td></tr>\n",
       "<tr><td>jewelry</td><td>12</td><td>4209.2389409174475</td><td>12</td><td>63396.166666666664</td><td>12</td><td>3364.4301006651253</td><td>2</td><td>23.0</td><td>(23,[],[])</td></tr>\n",
       "<tr><td>jewelry</td><td>1</td><td>6987.246435378608</td><td>1</td><td>48235.0</td><td>1</td><td>null</td><td>2</td><td>23.0</td><td>(23,[],[])</td></tr>\n",
       "<tr><td>jewelry</td><td>2</td><td>1396.3251261623384</td><td>2</td><td>54250.5</td><td>2</td><td>null</td><td>2</td><td>23.0</td><td>(23,[],[])</td></tr>\n",
       "<tr><td>jewelry</td><td>1</td><td>4798.332815388768</td><td>1</td><td>80991.0</td><td>1</td><td>null</td><td>2</td><td>23.0</td><td>(23,[],[])</td></tr>\n",
       "<tr><td>jewelry</td><td>33</td><td>9848.725593936158</td><td>33</td><td>60891.90909090909</td><td>33</td><td>3940.16359943221</td><td>2</td><td>23.0</td><td>(23,[],[])</td></tr>\n",
       "<tr><td>jewelry</td><td>29</td><td>14897.926207832394</td><td>29</td><td>62719.724137931036</td><td>28</td><td>null</td><td>2</td><td>23.0</td><td>(23,[],[])</td></tr>\n",
       "<tr><td>jewelry</td><td>3</td><td>3622.5670910222148</td><td>3</td><td>66842.66666666667</td><td>3</td><td>null</td><td>2</td><td>23.0</td><td>(23,[],[])</td></tr>\n",
       "<tr><td>jewelry</td><td>1</td><td>16658.482849584656</td><td>1</td><td>47353.0</td><td>1</td><td>null</td><td>2</td><td>23.0</td><td>(23,[],[])</td></tr>\n",
       "<tr><td>jewelry</td><td>1</td><td>19486.763586439236</td><td>1</td><td>70738.0</td><td>1</td><td>null</td><td>2</td><td>23.0</td><td>(23,[],[])</td></tr>\n",
       "<tr><td>jewelry</td><td>108</td><td>8721.93920153538</td><td>108</td><td>64636.75</td><td>104</td><td>84323.21865153355</td><td>2</td><td>23.0</td><td>(23,[],[])</td></tr>\n",
       "<tr><td>jewelry</td><td>5</td><td>4844.117193121708</td><td>5</td><td>64499.4</td><td>5</td><td>2973.525203961843</td><td>2</td><td>23.0</td><td>(23,[],[])</td></tr>\n",
       "<tr><td>jewelry</td><td>3</td><td>15354.649596808333</td><td>3</td><td>55943.666666666664</td><td>3</td><td>null</td><td>2</td><td>23.0</td><td>(23,[],[])</td></tr>\n",
       "<tr><td>jewelry</td><td>17</td><td>2647.341100699412</td><td>17</td><td>65339.82352941176</td><td>17</td><td>12937.610227332782</td><td>2</td><td>23.0</td><td>(23,[],[])</td></tr>\n",
       "<tr><td>jewelry</td><td>25</td><td>5595.325452431945</td><td>25</td><td>66485.2</td><td>25</td><td>14144.138023382726</td><td>2</td><td>23.0</td><td>(23,[],[])</td></tr>\n",
       "<tr><td>jewelry</td><td>16</td><td>11926.51378340879</td><td>16</td><td>62926.4375</td><td>16</td><td>6380.13136674389</td><td>2</td><td>23.0</td><td>(23,[],[])</td></tr>\n",
       "<tr><td>jewelry</td><td>1</td><td>16065.148211715352</td><td>1</td><td>60338.0</td><td>1</td><td>null</td><td>2</td><td>23.0</td><td>(23,[],[])</td></tr>\n",
       "<tr><td>jewelry</td><td>1</td><td>7119.6517811163585</td><td>1</td><td>64477.0</td><td>1</td><td>null</td><td>2</td><td>23.0</td><td>(23,[],[])</td></tr>\n",
       "<tr><td>jewelry</td><td>8</td><td>5941.016886764305</td><td>8</td><td>66250.375</td><td>8</td><td>null</td><td>2</td><td>23.0</td><td>(23,[],[])</td></tr>\n",
       "<tr><td>jewelry</td><td>22</td><td>5168.982655082048</td><td>22</td><td>63209.818181818184</td><td>22</td><td>10350.147792367461</td><td>2</td><td>23.0</td><td>(23,[],[])</td></tr>\n",
       "</table>\n",
       "only showing top 20 rows\n"
      ],
      "text/plain": [
       "+-------+------------------+------------------+---------------------+------------------+------------------+------------------+----------+--------+----------+\n",
       "|    tag|total_num_consumer|  avg_dollar_value|total_num_transaction|       mean_income|total_num_postcode|next_total_revenue|tag_labels|tagIndex|    tagOHE|\n",
       "+-------+------------------+------------------+---------------------+------------------+------------------+------------------+----------+--------+----------+\n",
       "|jewelry|                 8|10439.401811028416|                    8|         61840.875|                 8|              null|         2|    23.0|(23,[],[])|\n",
       "|jewelry|                12|4209.2389409174475|                   12|63396.166666666664|                12|3364.4301006651253|         2|    23.0|(23,[],[])|\n",
       "|jewelry|                 1| 6987.246435378608|                    1|           48235.0|                 1|              null|         2|    23.0|(23,[],[])|\n",
       "|jewelry|                 2|1396.3251261623384|                    2|           54250.5|                 2|              null|         2|    23.0|(23,[],[])|\n",
       "|jewelry|                 1| 4798.332815388768|                    1|           80991.0|                 1|              null|         2|    23.0|(23,[],[])|\n",
       "|jewelry|                33| 9848.725593936158|                   33| 60891.90909090909|                33|  3940.16359943221|         2|    23.0|(23,[],[])|\n",
       "|jewelry|                29|14897.926207832394|                   29|62719.724137931036|                28|              null|         2|    23.0|(23,[],[])|\n",
       "|jewelry|                 3|3622.5670910222148|                    3| 66842.66666666667|                 3|              null|         2|    23.0|(23,[],[])|\n",
       "|jewelry|                 1|16658.482849584656|                    1|           47353.0|                 1|              null|         2|    23.0|(23,[],[])|\n",
       "|jewelry|                 1|19486.763586439236|                    1|           70738.0|                 1|              null|         2|    23.0|(23,[],[])|\n",
       "|jewelry|               108|  8721.93920153538|                  108|          64636.75|               104| 84323.21865153355|         2|    23.0|(23,[],[])|\n",
       "|jewelry|                 5| 4844.117193121708|                    5|           64499.4|                 5| 2973.525203961843|         2|    23.0|(23,[],[])|\n",
       "|jewelry|                 3|15354.649596808333|                    3|55943.666666666664|                 3|              null|         2|    23.0|(23,[],[])|\n",
       "|jewelry|                17| 2647.341100699412|                   17| 65339.82352941176|                17|12937.610227332782|         2|    23.0|(23,[],[])|\n",
       "|jewelry|                25| 5595.325452431945|                   25|           66485.2|                25|14144.138023382726|         2|    23.0|(23,[],[])|\n",
       "|jewelry|                16| 11926.51378340879|                   16|        62926.4375|                16|  6380.13136674389|         2|    23.0|(23,[],[])|\n",
       "|jewelry|                 1|16065.148211715352|                    1|           60338.0|                 1|              null|         2|    23.0|(23,[],[])|\n",
       "|jewelry|                 1|7119.6517811163585|                    1|           64477.0|                 1|              null|         2|    23.0|(23,[],[])|\n",
       "|jewelry|                 8| 5941.016886764305|                    8|         66250.375|                 8|              null|         2|    23.0|(23,[],[])|\n",
       "|jewelry|                22| 5168.982655082048|                   22|63209.818181818184|                22|10350.147792367461|         2|    23.0|(23,[],[])|\n",
       "+-------+------------------+------------------+---------------------+------------------+------------------+------------------+----------+--------+----------+\n",
       "only showing top 20 rows"
      ]
     },
     "execution_count": 18,
     "metadata": {},
     "output_type": "execute_result"
    }
   ],
   "source": [
    "# change tags into numeric feature by one hot encoding\n",
    "indexer = StringIndexer(inputCol=\"tag\", outputCol=\"tagIndex\")\n",
    "revenue_df = indexer.fit(revenue_df).transform(revenue_df)\n",
    "ohe = OneHotEncoder(inputCol=\"tagIndex\", outputCol=\"tagOHE\")\n",
    "revenue_df = ohe.fit(revenue_df).transform(revenue_df)\n",
    "revenue_df"
   ]
  },
  {
   "cell_type": "code",
   "execution_count": 19,
   "metadata": {},
   "outputs": [
    {
     "name": "stdout",
     "output_type": "stream",
     "text": [
      "Correlation to next_total_revenue for  total_num_consumer 0.7410130770929826\n",
      "Correlation to next_total_revenue for  avg_dollar_value -0.09722654487146351\n",
      "Correlation to next_total_revenue for  total_num_transaction 0.6509065671273094\n",
      "Correlation to next_total_revenue for  mean_income 0.014700804846086562\n",
      "Correlation to next_total_revenue for  total_num_postcode 0.6656216278730779\n",
      "Correlation to next_total_revenue for  next_total_revenue 1.0\n",
      "Correlation to next_total_revenue for  tag_labels -0.028419755177593445\n",
      "Correlation to next_total_revenue for  tagIndex -0.10497611182613942\n"
     ]
    }
   ],
   "source": [
    "import six\n",
    "for i in revenue_df.columns[:-1]:\n",
    "    if not( isinstance(revenue_df.select(i).take(1)[0][0], six.string_types)):\n",
    "        print( \"Correlation to next_total_revenue for \", i, revenue_df.stat.corr('next_total_revenue',i))"
   ]
  },
  {
   "cell_type": "markdown",
   "metadata": {},
   "source": [
    "### Vectorization"
   ]
  },
  {
   "cell_type": "code",
   "execution_count": 20,
   "metadata": {},
   "outputs": [],
   "source": [
    "features = ['total_num_consumer', 'avg_dollar_value', 'total_num_transaction', 'mean_income', 'total_num_postcode', 'tagOHE']\n",
    "assembler = VectorAssembler(inputCols=features, outputCol='features')\n",
    "final_revenue_df = assembler.transform(revenue_df)\n",
    "final_revenue_df = final_revenue_df.select('features','next_total_revenue')"
   ]
  },
  {
   "cell_type": "markdown",
   "metadata": {},
   "source": [
    "### Model fitting"
   ]
  },
  {
   "cell_type": "code",
   "execution_count": 21,
   "metadata": {},
   "outputs": [],
   "source": [
    "# missing values will not be included\n",
    "train_df, test_df = (final_revenue_df.drop('tag', 'tagIndex').filter(F.col('next_total_revenue').isNotNull())).randomSplit([0.7, 0.3])"
   ]
  },
  {
   "cell_type": "code",
   "execution_count": 84,
   "metadata": {},
   "outputs": [],
   "source": [
    "train_df, test_df = (final_revenue_df.filter((F.col('next_total_revenue').isNotNull())&(F.col('tag_labels')==1))).drop('tag', 'tagIndex', 'tag_labels').randomSplit([0.7, 0.3])"
   ]
  },
  {
   "cell_type": "code",
   "execution_count": 22,
   "metadata": {},
   "outputs": [
    {
     "data": {
      "text/plain": [
       "(2586, 1196)"
      ]
     },
     "execution_count": 22,
     "metadata": {},
     "output_type": "execute_result"
    }
   ],
   "source": [
    "train_df.count(), test_df.count()"
   ]
  },
  {
   "cell_type": "markdown",
   "metadata": {},
   "source": [
    "#### Linear Regression"
   ]
  },
  {
   "cell_type": "code",
   "execution_count": 70,
   "metadata": {},
   "outputs": [
    {
     "data": {
      "text/plain": [
       "LinearRegressionModel: uid=LinearRegression_6e451e88950d, numFeatures=28"
      ]
     },
     "execution_count": 70,
     "metadata": {},
     "output_type": "execute_result"
    }
   ],
   "source": [
    "lr = LinearRegression(labelCol='next_total_revenue', maxIter=10, regParam=0.3, elasticNetParam=0.8)\n",
    "fitted_model = lr.fit(train_df)\n",
    "fitted_model.setFeaturesCol(\"features\")\n",
    "fitted_model.setPredictionCol(\"prediction\")"
   ]
  },
  {
   "cell_type": "code",
   "execution_count": 71,
   "metadata": {},
   "outputs": [
    {
     "name": "stdout",
     "output_type": "stream",
     "text": [
      "Coefficients: [147.97843327117232,0.0,85.32570319599924,-0.18986513944769598,742.9054500956163,0.0,0.0,0.0,0.0,0.0,0.0,0.0,0.0,0.0,0.0,0.0,0.0,0.0,0.0,0.0,0.0,0.0,0.0,0.0,-3877.6635050366026,26675.10544928082,36123.76329516014,-40682.64170626974]\n",
      "Intercept: 5998.93209095228\n"
     ]
    }
   ],
   "source": [
    "print(\"Coefficients: %s\" % str(fitted_model.coefficients))\n",
    "print(\"Intercept: %s\" % str(fitted_model.intercept))"
   ]
  },
  {
   "cell_type": "code",
   "execution_count": 72,
   "metadata": {},
   "outputs": [
    {
     "name": "stdout",
     "output_type": "stream",
     "text": [
      "numIterations: 10\n",
      "objectiveHistory: [0.5, 0.4385975131930148, 0.28474438258461315, 0.2438504274460106, 0.2320701436019277, 0.22791134986155795, 0.22516858238985782, 0.2223296969928053, 0.2185053253088702, 0.21622820881221053, 0.21353154419677323]\n",
      "+------------------+\n",
      "|         residuals|\n",
      "+------------------+\n",
      "| 7432.119075475288|\n",
      "|2346.3565332611465|\n",
      "|  8554.88947340806|\n",
      "|  34323.6694849341|\n",
      "|12593.180083608859|\n",
      "|3102.1682635621364|\n",
      "|15897.226152553725|\n",
      "| 2322.704138401477|\n",
      "| 7172.715790443264|\n",
      "|2026.8890543954844|\n",
      "|7144.1179169566485|\n",
      "|20944.705869157704|\n",
      "|281.43900160423595|\n",
      "| 6544.546269235913|\n",
      "| -512.605162724487|\n",
      "| 9765.170990116087|\n",
      "|-559.7171232905239|\n",
      "|7021.5244212037505|\n",
      "|18164.623668186414|\n",
      "|-34480.81848949313|\n",
      "+------------------+\n",
      "only showing top 20 rows\n",
      "\n",
      "RMSE: 218965.638903\n",
      "r2: 0.572938\n"
     ]
    }
   ],
   "source": [
    "trainingSummary = fitted_model.summary\n",
    "print(\"numIterations: %d\" % trainingSummary.totalIterations)\n",
    "print(\"objectiveHistory: %s\" % str(trainingSummary.objectiveHistory))\n",
    "trainingSummary.residuals.show()\n",
    "print(\"RMSE: %f\" % trainingSummary.rootMeanSquaredError)\n",
    "print(\"r2: %f\" % trainingSummary.r2)"
   ]
  },
  {
   "cell_type": "code",
   "execution_count": 73,
   "metadata": {},
   "outputs": [
    {
     "name": "stdout",
     "output_type": "stream",
     "text": [
      "+-------+------------------+\n",
      "|summary|next_total_revenue|\n",
      "+-------+------------------+\n",
      "|  count|               260|\n",
      "|   mean|115747.37453880043|\n",
      "| stddev| 335712.4942268983|\n",
      "|    min|146.56267111256705|\n",
      "|    max| 2578899.989549712|\n",
      "+-------+------------------+\n",
      "\n"
     ]
    }
   ],
   "source": [
    "train_df.describe().show()"
   ]
  },
  {
   "cell_type": "markdown",
   "metadata": {},
   "source": [
    "##### Linear Regression Evaluation"
   ]
  },
  {
   "cell_type": "code",
   "execution_count": 74,
   "metadata": {},
   "outputs": [
    {
     "name": "stdout",
     "output_type": "stream",
     "text": [
      "+-------------------+------------------+--------------------+\n",
      "|         prediction|next_total_revenue|            features|\n",
      "+-------------------+------------------+--------------------+\n",
      "|-2507.8625773395534| 700.0913339069108|(28,[0,1,2,3,4],[...|\n",
      "| -3763.531377081882| 5551.664760915629|(28,[0,1,2,3,4],[...|\n",
      "| -3820.870649195086|15361.340843110367|(28,[0,1,2,3,4],[...|\n",
      "| -1093.123507037396| 6330.006413055507|(28,[0,1,2,3,4],[...|\n",
      "| 439.78965489998154|12730.592472437624|(28,[0,1,2,3,4],[...|\n",
      "|-1366.2075515265024| 2973.525203961843|(28,[0,1,2,3,4],[...|\n",
      "| 1848.6737562512335| 7714.789567461943|(28,[0,1,2,3,4],[...|\n",
      "| 3023.4144696979356|3284.6497179037897|(28,[0,1,2,3,4],[...|\n",
      "|   5876.74802949784| 71807.61440922701|(28,[0,1,2,3,4],[...|\n",
      "|  5676.725105089693|3364.4301006651253|(28,[0,1,2,3,4],[...|\n",
      "+-------------------+------------------+--------------------+\n",
      "only showing top 10 rows\n",
      "\n",
      "R Squared (R2) on test data = 0.613892\n"
     ]
    }
   ],
   "source": [
    "lr_predictions = fitted_model.transform(test_df)\n",
    "lr_predictions.select(\"prediction\",\"next_total_revenue\",\"features\").show(10)\n",
    "lr_evaluator = RegressionEvaluator(predictionCol=\"prediction\", \\\n",
    "                 labelCol=\"next_total_revenue\",metricName=\"r2\")\n",
    "print(\"R Squared (R2) on test data = %g\" % lr_evaluator.evaluate(lr_predictions))"
   ]
  },
  {
   "cell_type": "code",
   "execution_count": null,
   "metadata": {},
   "outputs": [],
   "source": []
  },
  {
   "cell_type": "code",
   "execution_count": null,
   "metadata": {},
   "outputs": [],
   "source": []
  },
  {
   "cell_type": "code",
   "execution_count": 106,
   "metadata": {},
   "outputs": [],
   "source": [
    "from pyspark.ml.regression import GeneralizedLinearRegression\n",
    "glr = GeneralizedLinearRegression(labelCol='next_total_revenue', family=\"gamma\", link=\"inverse\", maxIter=10, regParam=0.3)\n",
    "model = glr.fit(train_df)\n",
    "summary = model.summary"
   ]
  },
  {
   "cell_type": "code",
   "execution_count": 107,
   "metadata": {},
   "outputs": [
    {
     "name": "stdout",
     "output_type": "stream",
     "text": [
      "Coefficients: [-5.081981829145639e+35,-2.6870343238436396e+34,6.678906219871052e+34,-2.163592960903312e+33,-2.294703291151991e+34,-4.92718762286847e+36,8.400747166426864e+36,-5.605131552930673e+36,-1.7198318993286945e+36,3.2235886586410473e+36,-2.158475653750893e+35,-3.7379337761048877e+36,4.818852487444756e+36,3.9813588208546056e+36,4.080970583519597e+36,-4.676779563277705e+35,-3.0601522088596924e+36,-3.286057039141181e+36,-2.873629466789348e+36,-3.8704207786982195e+36,-1.757855944350198e+36,2.783813584487964e+36,-2.069366545011462e+36,6.517096251093483e+35,1.4196427137124834e+36,1.2734316058753377e+36,7.62234692965126e+35,8.931461421116118e+35]\n",
      "Intercept: 9.011220949745152e+37\n"
     ]
    }
   ],
   "source": [
    "print(\"Coefficients: \" + str(model.coefficients))\n",
    "print(\"Intercept: \" + str(model.intercept))"
   ]
  },
  {
   "cell_type": "code",
   "execution_count": 108,
   "metadata": {},
   "outputs": [
    {
     "name": "stdout",
     "output_type": "stream",
     "text": [
      "Coefficient Standard Errors: [1.0313239414198771e+34, 3.478628089243441e+33, 3.5683495996081674e+33, 1.0816705970704932e+33, 1.4503718984533777e+34, 5.539912749322146e+36, 5.893721277193464e+36, 5.844093458400502e+36, 5.876675126188564e+36, 5.87325712140477e+36, 5.848886994636668e+36, 5.868749562497159e+36, 5.855177161171895e+36, 5.877248737248757e+36, 5.896620810168444e+36, 5.903887371388085e+36, 5.905115307859655e+36, 5.904614198395587e+36, 5.937275150656821e+36, 5.911421045557285e+36, 5.938595972689419e+36, 5.938813105595627e+36, 5.954762089698656e+36, 5.961939652059689e+36, 6.033865684468139e+36, 6.07838891654262e+36, 6.110853304354673e+36, 6.151512087390794e+36, 6.8105032215591325e+37]\n",
      "T Values: [-49.276290649754635, -7.724408171579033, 18.71707363147503, -2.000232757332045, -1.5821482018501438, -0.8893980547746626, 1.4253723193417152, -0.9591105263509541, -0.2926539007855835, 0.5488587664403202, -0.036904040986433476, -0.6369216706726183, 0.8230071191356194, 0.6774188057792411, 0.6920863177232215, -0.07921525715315483, -0.518220567985634, -0.5565235811738682, -0.4839980283668423, -0.6547361030233204, -0.29600531041920936, 0.4687491481867006, -0.34751456293968974, 0.10931167759878285, 0.23527913744696144, 0.20950150169062626, 0.12473457551696547, 0.14519131709784966, 1.3231358471749182]\n",
      "P Values: [0.0, 1.5765166949677223e-14, 0.0, 0.045577548704052395, 0.11373570853437709, 0.373870347019031, 0.15416800032789313, 0.3375910286634314, 0.7698097430097546, 0.583148862233738, 0.9705643120707692, 0.5242311739065457, 0.41057839100855364, 0.49819971790658224, 0.48894407964900544, 0.9368674220753181, 0.604347878585948, 0.5779002191001614, 0.6284274743074745, 0.5126948004784024, 0.7672493423752482, 0.6392877133928447, 0.7282325242371877, 0.9129636051187653, 0.814010362333029, 0.8340729523970847, 0.9007431948718918, 0.8845709215977045, 0.18590496287811265]\n",
      "Dispersion: 3.169664478167721e+44\n",
      "Null Deviance: 8677.211261863666\n",
      "Residual Degree Of Freedom Null: 2664\n",
      "Deviance: 3.3254293671964074e+25\n",
      "Residual Degree Of Freedom: 2636\n",
      "AIC: 336351.1814847828\n",
      "Deviance Residuals: \n",
      "+--------------------+\n",
      "|   devianceResiduals|\n",
      "+--------------------+\n",
      "| 3.741901478945994E9|\n",
      "|4.0363982826038165E9|\n",
      "|2.8376090545145783E9|\n",
      "|  8.07608033274177E9|\n",
      "|1.752788683390577...|\n",
      "|2.655011951159562E10|\n",
      "|1.591264103877512E10|\n",
      "|1.125167224287617...|\n",
      "|1.7120903662632241E9|\n",
      "|1.595656132908191...|\n",
      "|1.733060360248316E10|\n",
      "| 7.711712136694216E9|\n",
      "| 8.328379104540604E9|\n",
      "|1.307846639166327...|\n",
      "|   8.0707634707169E9|\n",
      "|1.352244817261679...|\n",
      "| 8.105121489408768E9|\n",
      "|2.132919870453697E10|\n",
      "| 5.186153149242023E9|\n",
      "|3.789659995546487...|\n",
      "+--------------------+\n",
      "only showing top 20 rows\n",
      "\n"
     ]
    }
   ],
   "source": [
    "print(\"Coefficient Standard Errors: \" + str(summary.coefficientStandardErrors))\n",
    "print(\"T Values: \" + str(summary.tValues))\n",
    "print(\"P Values: \" + str(summary.pValues))\n",
    "print(\"Dispersion: \" + str(summary.dispersion))\n",
    "print(\"Null Deviance: \" + str(summary.nullDeviance))\n",
    "print(\"Residual Degree Of Freedom Null: \" + str(summary.residualDegreeOfFreedomNull))\n",
    "print(\"Deviance: \" + str(summary.deviance))\n",
    "print(\"Residual Degree Of Freedom: \" + str(summary.residualDegreeOfFreedom))\n",
    "print(\"AIC: \" + str(summary.aic))\n",
    "print(\"Deviance Residuals: \")\n",
    "summary.residuals().show()"
   ]
  },
  {
   "cell_type": "code",
   "execution_count": null,
   "metadata": {},
   "outputs": [],
   "source": []
  },
  {
   "cell_type": "markdown",
   "metadata": {},
   "source": [
    "#### Random Forest Regressor"
   ]
  },
  {
   "cell_type": "code",
   "execution_count": 101,
   "metadata": {},
   "outputs": [],
   "source": [
    "from pyspark.ml.regression import RandomForestRegressor\n",
    "from pyspark.ml.evaluation import RegressionEvaluator"
   ]
  },
  {
   "cell_type": "code",
   "execution_count": 102,
   "metadata": {},
   "outputs": [],
   "source": [
    "rf = RandomForestRegressor(numTrees = 10, maxDepth = 10, labelCol='next_total_revenue')"
   ]
  },
  {
   "cell_type": "code",
   "execution_count": 103,
   "metadata": {},
   "outputs": [],
   "source": [
    "model = rf.fit(train_df)\n",
    "result = model.transform(test_df)"
   ]
  },
  {
   "cell_type": "code",
   "execution_count": 104,
   "metadata": {},
   "outputs": [
    {
     "name": "stdout",
     "output_type": "stream",
     "text": [
      "+++++++++++++++++++++++++++++++++++++++++++\n",
      "Using Categorical feature: ['total_num_consumer', 'avg_dollar_value', 'total_num_transaction', 'mean_income', 'total_num_postcode', 'tagOHE']\n",
      "mae:305911.1848229039\n",
      "r2: 0.5990584247955485\n"
     ]
    }
   ],
   "source": [
    "rf_evaluator = RegressionEvaluator(labelCol='next_total_revenue', metricName=\"mae\", predictionCol='prediction')\n",
    "mae = rf_evaluator.evaluate(result)\n",
    "rf_evaluator = RegressionEvaluator(labelCol='next_total_revenue', metricName=\"r2\", predictionCol='prediction')\n",
    "r2 = rf_evaluator.evaluate(result)\n",
    "print('+++++++++++++++++++++++++++++++++++++++++++')\n",
    "print(f'Using Categorical feature: {features}')\n",
    "print('mae:{}'.format(mae))\n",
    "print('r2: {}'.format(r2))"
   ]
  },
  {
   "cell_type": "code",
   "execution_count": 105,
   "metadata": {},
   "outputs": [
    {
     "name": "stdout",
     "output_type": "stream",
     "text": [
      "+------------------+------------------+--------------------+\n",
      "|        prediction|next_total_revenue|            features|\n",
      "+------------------+------------------+--------------------+\n",
      "| 9853.891544733393| 5551.664760915629|(28,[0,1,2,3,4],[...|\n",
      "| 9232.881639069303| 7714.789567461943|(28,[0,1,2,3,4],[...|\n",
      "|40613.649820138045|39997.213284193116|(28,[0,1,2,3,4],[...|\n",
      "|139927.58291571058|21404.354662000824|(28,[0,1,2,3,4],[...|\n",
      "|27048.383025172265| 21214.30272082452|(28,[0,1,2,3,4,5]...|\n",
      "|23631.234895597558| 38692.67439389365|(28,[0,1,2,3,4,5]...|\n",
      "|27895.020971600858| 22074.99856066441|(28,[0,1,2,3,4,5]...|\n",
      "|28025.083524159854| 75683.95506697436|(28,[0,1,2,3,4,5]...|\n",
      "| 29028.92472391144|25826.219229145478|(28,[0,1,2,3,4,5]...|\n",
      "| 38457.01274226319|28967.859022303237|(28,[0,1,2,3,4,5]...|\n",
      "|59881.001715998085|18736.186917799685|(28,[0,1,2,3,4,5]...|\n",
      "|58545.640659440716|22537.278176372223|(28,[0,1,2,3,4,5]...|\n",
      "|65389.267248563505|32046.023857037744|(28,[0,1,2,3,4,5]...|\n",
      "| 38314.06821998696| 26369.07804945074|(28,[0,1,2,3,4,5]...|\n",
      "| 39318.27750219227| 26780.32215735651|(28,[0,1,2,3,4,5]...|\n",
      "|58545.640659440716|  44602.4207131351|(28,[0,1,2,3,4,5]...|\n",
      "| 39315.22562266178|24865.656336998953|(28,[0,1,2,3,4,5]...|\n",
      "|60278.276735790205| 44090.51736500314|(28,[0,1,2,3,4,5]...|\n",
      "|42307.597221394986|31467.761692638152|(28,[0,1,2,3,4,5]...|\n",
      "| 38959.98740598509| 125051.8443299404|(28,[0,1,2,3,4,5]...|\n",
      "+------------------+------------------+--------------------+\n",
      "only showing top 20 rows\n",
      "\n"
     ]
    }
   ],
   "source": [
    "result.select(\"prediction\",\"next_total_revenue\",\"features\").show(20)"
   ]
  },
  {
   "cell_type": "markdown",
   "metadata": {},
   "source": [
    "#### Gradient Boosting Tree"
   ]
  },
  {
   "cell_type": "code",
   "execution_count": 19,
   "metadata": {},
   "outputs": [
    {
     "name": "stdout",
     "output_type": "stream",
     "text": [
      "+------------------+------------------+--------------------+\n",
      "|        prediction|next_total_revenue|            features|\n",
      "+------------------+------------------+--------------------+\n",
      "|19566.260698153033| 700.0913339069108|(28,[0,1,2,3,4],[...|\n",
      "| 46132.53320660531|20115.019410151996|(28,[0,1,2,3,4],[...|\n",
      "| 46132.53320660531|25665.858312655597|(28,[0,1,2,3,4],[...|\n",
      "|19566.260698153033|24217.897520994058|(28,[0,1,2,3,4,5]...|\n",
      "|34625.277661725544| 7335.947872319652|(28,[0,1,2,3,4,5]...|\n",
      "+------------------+------------------+--------------------+\n",
      "only showing top 5 rows\n",
      "\n"
     ]
    }
   ],
   "source": [
    "from pyspark.ml.regression import GBTRegressor\n",
    "gbt = GBTRegressor(featuresCol = 'features', labelCol = 'next_total_revenue', maxIter=10)\n",
    "gbt_model = gbt.fit(train_df)\n",
    "gbt_predictions = gbt_model.transform(test_df)\n",
    "gbt_predictions.select('prediction', 'next_total_revenue', 'features').show(5)"
   ]
  },
  {
   "cell_type": "code",
   "execution_count": 20,
   "metadata": {},
   "outputs": [
    {
     "name": "stdout",
     "output_type": "stream",
     "text": [
      "Root Mean Squared Error (RMSE) on test data = 932610\n"
     ]
    }
   ],
   "source": [
    "gbt_evaluator = RegressionEvaluator(\n",
    "    labelCol=\"next_total_revenue\", predictionCol=\"prediction\", metricName=\"rmse\")\n",
    "rmse = gbt_evaluator.evaluate(gbt_predictions)\n",
    "print(\"Root Mean Squared Error (RMSE) on test data = %g\" % rmse)"
   ]
  },
  {
   "cell_type": "markdown",
   "metadata": {},
   "source": [
    "#### Multilayer Perceptron Regressor"
   ]
  },
  {
   "cell_type": "code",
   "execution_count": 80,
   "metadata": {},
   "outputs": [],
   "source": [
    "from sklearn.neural_network import MLPRegressor\n",
    "from sklearn.model_selection import train_test_split\n",
    "from sklearn.preprocessing import StandardScaler\n",
    "import sklearn.metrics as metrics\n",
    "from sklearn.model_selection import GridSearchCV"
   ]
  },
  {
   "cell_type": "code",
   "execution_count": 75,
   "metadata": {},
   "outputs": [
    {
     "data": {
      "text/html": [
       "<div>\n",
       "<style scoped>\n",
       "    .dataframe tbody tr th:only-of-type {\n",
       "        vertical-align: middle;\n",
       "    }\n",
       "\n",
       "    .dataframe tbody tr th {\n",
       "        vertical-align: top;\n",
       "    }\n",
       "\n",
       "    .dataframe thead th {\n",
       "        text-align: right;\n",
       "    }\n",
       "</style>\n",
       "<table border=\"1\" class=\"dataframe\">\n",
       "  <thead>\n",
       "    <tr style=\"text-align: right;\">\n",
       "      <th></th>\n",
       "      <th>total_num_consumer</th>\n",
       "      <th>avg_dollar_value</th>\n",
       "      <th>total_num_transaction</th>\n",
       "      <th>mean_income</th>\n",
       "      <th>total_num_postcode</th>\n",
       "      <th>tag</th>\n",
       "      <th>next_total_revenue</th>\n",
       "    </tr>\n",
       "  </thead>\n",
       "  <tbody>\n",
       "    <tr>\n",
       "      <th>0</th>\n",
       "      <td>808</td>\n",
       "      <td>209.025160</td>\n",
       "      <td>823</td>\n",
       "      <td>62506.642770</td>\n",
       "      <td>719</td>\n",
       "      <td>furniture</td>\n",
       "      <td>3.894029e+04</td>\n",
       "    </tr>\n",
       "    <tr>\n",
       "      <th>1</th>\n",
       "      <td>731</td>\n",
       "      <td>41.119659</td>\n",
       "      <td>750</td>\n",
       "      <td>62693.954667</td>\n",
       "      <td>642</td>\n",
       "      <td>cable</td>\n",
       "      <td>1.544679e+05</td>\n",
       "    </tr>\n",
       "    <tr>\n",
       "      <th>2</th>\n",
       "      <td>87</td>\n",
       "      <td>111.084087</td>\n",
       "      <td>87</td>\n",
       "      <td>61060.045977</td>\n",
       "      <td>87</td>\n",
       "      <td>watch</td>\n",
       "      <td>4.168321e+04</td>\n",
       "    </tr>\n",
       "    <tr>\n",
       "      <th>3</th>\n",
       "      <td>107</td>\n",
       "      <td>451.143208</td>\n",
       "      <td>107</td>\n",
       "      <td>65637.383178</td>\n",
       "      <td>107</td>\n",
       "      <td>music</td>\n",
       "      <td>2.900710e+05</td>\n",
       "    </tr>\n",
       "    <tr>\n",
       "      <th>4</th>\n",
       "      <td>2244</td>\n",
       "      <td>39.209217</td>\n",
       "      <td>2370</td>\n",
       "      <td>62122.522785</td>\n",
       "      <td>1619</td>\n",
       "      <td>gift</td>\n",
       "      <td>6.667664e+05</td>\n",
       "    </tr>\n",
       "    <tr>\n",
       "      <th>...</th>\n",
       "      <td>...</td>\n",
       "      <td>...</td>\n",
       "      <td>...</td>\n",
       "      <td>...</td>\n",
       "      <td>...</td>\n",
       "      <td>...</td>\n",
       "      <td>...</td>\n",
       "    </tr>\n",
       "    <tr>\n",
       "      <th>3948</th>\n",
       "      <td>3920</td>\n",
       "      <td>30.917688</td>\n",
       "      <td>4285</td>\n",
       "      <td>62782.274912</td>\n",
       "      <td>2255</td>\n",
       "      <td>opticians</td>\n",
       "      <td>7.204531e+05</td>\n",
       "    </tr>\n",
       "    <tr>\n",
       "      <th>3949</th>\n",
       "      <td>33</td>\n",
       "      <td>319.209608</td>\n",
       "      <td>33</td>\n",
       "      <td>60450.212121</td>\n",
       "      <td>33</td>\n",
       "      <td>books</td>\n",
       "      <td>3.991901e+04</td>\n",
       "    </tr>\n",
       "    <tr>\n",
       "      <th>3950</th>\n",
       "      <td>5353</td>\n",
       "      <td>150.114508</td>\n",
       "      <td>6027</td>\n",
       "      <td>62576.340468</td>\n",
       "      <td>2607</td>\n",
       "      <td>shoe</td>\n",
       "      <td>6.974851e+06</td>\n",
       "    </tr>\n",
       "    <tr>\n",
       "      <th>3951</th>\n",
       "      <td>45</td>\n",
       "      <td>353.519570</td>\n",
       "      <td>45</td>\n",
       "      <td>61502.444444</td>\n",
       "      <td>45</td>\n",
       "      <td>motor</td>\n",
       "      <td>1.762053e+05</td>\n",
       "    </tr>\n",
       "    <tr>\n",
       "      <th>3952</th>\n",
       "      <td>9</td>\n",
       "      <td>1500.244404</td>\n",
       "      <td>9</td>\n",
       "      <td>57601.111111</td>\n",
       "      <td>9</td>\n",
       "      <td>motor</td>\n",
       "      <td>6.097429e+02</td>\n",
       "    </tr>\n",
       "  </tbody>\n",
       "</table>\n",
       "<p>3782 rows × 7 columns</p>\n",
       "</div>"
      ],
      "text/plain": [
       "      total_num_consumer  avg_dollar_value  total_num_transaction  \\\n",
       "0                    808        209.025160                    823   \n",
       "1                    731         41.119659                    750   \n",
       "2                     87        111.084087                     87   \n",
       "3                    107        451.143208                    107   \n",
       "4                   2244         39.209217                   2370   \n",
       "...                  ...               ...                    ...   \n",
       "3948                3920         30.917688                   4285   \n",
       "3949                  33        319.209608                     33   \n",
       "3950                5353        150.114508                   6027   \n",
       "3951                  45        353.519570                     45   \n",
       "3952                   9       1500.244404                      9   \n",
       "\n",
       "       mean_income  total_num_postcode        tag  next_total_revenue  \n",
       "0     62506.642770                 719  furniture        3.894029e+04  \n",
       "1     62693.954667                 642      cable        1.544679e+05  \n",
       "2     61060.045977                  87      watch        4.168321e+04  \n",
       "3     65637.383178                 107      music        2.900710e+05  \n",
       "4     62122.522785                1619       gift        6.667664e+05  \n",
       "...            ...                 ...        ...                 ...  \n",
       "3948  62782.274912                2255  opticians        7.204531e+05  \n",
       "3949  60450.212121                  33      books        3.991901e+04  \n",
       "3950  62576.340468                2607       shoe        6.974851e+06  \n",
       "3951  61502.444444                  45      motor        1.762053e+05  \n",
       "3952  57601.111111                   9      motor        6.097429e+02  \n",
       "\n",
       "[3782 rows x 7 columns]"
      ]
     },
     "execution_count": 75,
     "metadata": {},
     "output_type": "execute_result"
    }
   ],
   "source": [
    "revenue_pd = revenue_df.toPandas().dropna()\n",
    "revenue_pd"
   ]
  },
  {
   "cell_type": "code",
   "execution_count": 76,
   "metadata": {},
   "outputs": [],
   "source": [
    "features_pd = ['total_num_consumer', 'avg_dollar_value', 'total_num_transaction', 'mean_income', 'total_num_postcode']\n",
    "X = revenue_pd[features_pd]\n",
    "y = revenue_pd['next_total_revenue'].to_numpy()"
   ]
  },
  {
   "cell_type": "code",
   "execution_count": 77,
   "metadata": {},
   "outputs": [],
   "source": [
    "X_train, X_test, y_train, y_test = train_test_split(X, y,random_state=30034, test_size=0.3)"
   ]
  },
  {
   "cell_type": "code",
   "execution_count": 83,
   "metadata": {},
   "outputs": [
    {
     "data": {
      "text/plain": [
       "((2647, 5), (1135, 5))"
      ]
     },
     "execution_count": 83,
     "metadata": {},
     "output_type": "execute_result"
    }
   ],
   "source": [
    "# scale train and test dataset in order to be standard normally distributed with zero mean\n",
    "sc_X = StandardScaler()\n",
    "X_trainscaled=sc_X.fit_transform(X_train)\n",
    "X_testscaled=sc_X.transform(X_test)\n",
    "X_trainscaled.shape, X_testscaled.shape"
   ]
  },
  {
   "cell_type": "markdown",
   "metadata": {},
   "source": [
    "##### Hyperparameters"
   ]
  },
  {
   "cell_type": "code",
   "execution_count": 85,
   "metadata": {},
   "outputs": [],
   "source": [
    "mlp_reg = MLPRegressor(hidden_layer_sizes=(128,128,128),activation=\"relu\" ,solver = 'adam', random_state=30034, max_iter=20000)\\\n",
    "    .fit(X_trainscaled, y_train)\n",
    "y_pred=mlp_reg.predict(X_testscaled)\n",
    "print(\"The Score with \", (metrics.r2_score(y_pred, y_test)))"
   ]
  },
  {
   "cell_type": "code",
   "execution_count": 88,
   "metadata": {},
   "outputs": [
    {
     "name": "stderr",
     "output_type": "stream",
     "text": [
      "/home/jinxuan/.local/lib/python3.8/site-packages/sklearn/utils/extmath.py:152: RuntimeWarning: overflow encountered in matmul\n",
      "  ret = a @ b\n",
      "/home/jinxuan/.local/lib/python3.8/site-packages/sklearn/utils/extmath.py:152: RuntimeWarning: invalid value encountered in matmul\n",
      "  ret = a @ b\n",
      "/home/jinxuan/.local/lib/python3.8/site-packages/sklearn/utils/extmath.py:152: RuntimeWarning: overflow encountered in matmul\n",
      "  ret = a @ b\n",
      "/home/jinxuan/.local/lib/python3.8/site-packages/sklearn/utils/extmath.py:152: RuntimeWarning: invalid value encountered in matmul\n",
      "  ret = a @ b\n",
      "/home/jinxuan/.local/lib/python3.8/site-packages/sklearn/utils/extmath.py:152: RuntimeWarning: overflow encountered in matmul\n",
      "  ret = a @ b\n",
      "/home/jinxuan/.local/lib/python3.8/site-packages/sklearn/utils/extmath.py:152: RuntimeWarning: invalid value encountered in matmul\n",
      "  ret = a @ b\n",
      "/home/jinxuan/.local/lib/python3.8/site-packages/sklearn/utils/extmath.py:152: RuntimeWarning: overflow encountered in matmul\n",
      "  ret = a @ b\n",
      "/home/jinxuan/.local/lib/python3.8/site-packages/sklearn/utils/extmath.py:152: RuntimeWarning: invalid value encountered in matmul\n",
      "  ret = a @ b\n",
      "/home/jinxuan/.local/lib/python3.8/site-packages/sklearn/utils/extmath.py:152: RuntimeWarning: overflow encountered in matmul\n",
      "  ret = a @ b\n",
      "/home/jinxuan/.local/lib/python3.8/site-packages/sklearn/utils/extmath.py:152: RuntimeWarning: invalid value encountered in matmul\n",
      "  ret = a @ b\n"
     ]
    },
    {
     "ename": "KeyboardInterrupt",
     "evalue": "",
     "output_type": "error",
     "traceback": [
      "\u001b[0;31m---------------------------------------------------------------------------\u001b[0m",
      "\u001b[0;31mKeyboardInterrupt\u001b[0m                         Traceback (most recent call last)",
      "\u001b[1;32m/mnt/d/Unimelb/3.S2/ads/asmt2/github/generic-buy-now-pay-later-project-group-14/models/predict_revenue.ipynb Cell 54\u001b[0m in \u001b[0;36m<cell line: 11>\u001b[0;34m()\u001b[0m\n\u001b[1;32m      <a href='vscode-notebook-cell://wsl%2Bubuntu-20.04/mnt/d/Unimelb/3.S2/ads/asmt2/github/generic-buy-now-pay-later-project-group-14/models/predict_revenue.ipynb#Y143sdnNjb2RlLXJlbW90ZQ%3D%3D?line=1'>2</a>\u001b[0m param_grid \u001b[39m=\u001b[39m {\n\u001b[1;32m      <a href='vscode-notebook-cell://wsl%2Bubuntu-20.04/mnt/d/Unimelb/3.S2/ads/asmt2/github/generic-buy-now-pay-later-project-group-14/models/predict_revenue.ipynb#Y143sdnNjb2RlLXJlbW90ZQ%3D%3D?line=2'>3</a>\u001b[0m     \u001b[39m'\u001b[39m\u001b[39mhidden_layer_sizes\u001b[39m\u001b[39m'\u001b[39m: [(\u001b[39m150\u001b[39m,\u001b[39m100\u001b[39m,\u001b[39m50\u001b[39m), (\u001b[39m120\u001b[39m,\u001b[39m80\u001b[39m,\u001b[39m40\u001b[39m), (\u001b[39m100\u001b[39m,\u001b[39m50\u001b[39m,\u001b[39m30\u001b[39m)],\n\u001b[1;32m      <a href='vscode-notebook-cell://wsl%2Bubuntu-20.04/mnt/d/Unimelb/3.S2/ads/asmt2/github/generic-buy-now-pay-later-project-group-14/models/predict_revenue.ipynb#Y143sdnNjb2RlLXJlbW90ZQ%3D%3D?line=3'>4</a>\u001b[0m     \u001b[39m'\u001b[39m\u001b[39mactivation\u001b[39m\u001b[39m'\u001b[39m: [\u001b[39m'\u001b[39m\u001b[39midentity\u001b[39m\u001b[39m'\u001b[39m, \u001b[39m'\u001b[39m\u001b[39mlogistic\u001b[39m\u001b[39m'\u001b[39m, \u001b[39m'\u001b[39m\u001b[39mtanh\u001b[39m\u001b[39m'\u001b[39m, \u001b[39m'\u001b[39m\u001b[39mrelu\u001b[39m\u001b[39m'\u001b[39m],\n\u001b[0;32m   (...)\u001b[0m\n\u001b[1;32m      <a href='vscode-notebook-cell://wsl%2Bubuntu-20.04/mnt/d/Unimelb/3.S2/ads/asmt2/github/generic-buy-now-pay-later-project-group-14/models/predict_revenue.ipynb#Y143sdnNjb2RlLXJlbW90ZQ%3D%3D?line=6'>7</a>\u001b[0m     \u001b[39m'\u001b[39m\u001b[39mlearning_rate\u001b[39m\u001b[39m'\u001b[39m: [\u001b[39m'\u001b[39m\u001b[39mconstant\u001b[39m\u001b[39m'\u001b[39m,\u001b[39m'\u001b[39m\u001b[39madaptive\u001b[39m\u001b[39m'\u001b[39m],\n\u001b[1;32m      <a href='vscode-notebook-cell://wsl%2Bubuntu-20.04/mnt/d/Unimelb/3.S2/ads/asmt2/github/generic-buy-now-pay-later-project-group-14/models/predict_revenue.ipynb#Y143sdnNjb2RlLXJlbW90ZQ%3D%3D?line=7'>8</a>\u001b[0m }\n\u001b[1;32m     <a href='vscode-notebook-cell://wsl%2Bubuntu-20.04/mnt/d/Unimelb/3.S2/ads/asmt2/github/generic-buy-now-pay-later-project-group-14/models/predict_revenue.ipynb#Y143sdnNjb2RlLXJlbW90ZQ%3D%3D?line=9'>10</a>\u001b[0m grid \u001b[39m=\u001b[39m GridSearchCV(mlp_reg, param_grid, n_jobs\u001b[39m=\u001b[39m \u001b[39m-\u001b[39m\u001b[39m1\u001b[39m, cv\u001b[39m=\u001b[39m\u001b[39m5\u001b[39m)\n\u001b[0;32m---> <a href='vscode-notebook-cell://wsl%2Bubuntu-20.04/mnt/d/Unimelb/3.S2/ads/asmt2/github/generic-buy-now-pay-later-project-group-14/models/predict_revenue.ipynb#Y143sdnNjb2RlLXJlbW90ZQ%3D%3D?line=10'>11</a>\u001b[0m grid\u001b[39m.\u001b[39;49mfit(X_trainscaled, y_train)\n\u001b[1;32m     <a href='vscode-notebook-cell://wsl%2Bubuntu-20.04/mnt/d/Unimelb/3.S2/ads/asmt2/github/generic-buy-now-pay-later-project-group-14/models/predict_revenue.ipynb#Y143sdnNjb2RlLXJlbW90ZQ%3D%3D?line=11'>12</a>\u001b[0m \u001b[39mprint\u001b[39m(grid\u001b[39m.\u001b[39mbest_params_)\n",
      "File \u001b[0;32m~/.local/lib/python3.8/site-packages/sklearn/model_selection/_search.py:875\u001b[0m, in \u001b[0;36mBaseSearchCV.fit\u001b[0;34m(self, X, y, groups, **fit_params)\u001b[0m\n\u001b[1;32m    869\u001b[0m     results \u001b[39m=\u001b[39m \u001b[39mself\u001b[39m\u001b[39m.\u001b[39m_format_results(\n\u001b[1;32m    870\u001b[0m         all_candidate_params, n_splits, all_out, all_more_results\n\u001b[1;32m    871\u001b[0m     )\n\u001b[1;32m    873\u001b[0m     \u001b[39mreturn\u001b[39;00m results\n\u001b[0;32m--> 875\u001b[0m \u001b[39mself\u001b[39;49m\u001b[39m.\u001b[39;49m_run_search(evaluate_candidates)\n\u001b[1;32m    877\u001b[0m \u001b[39m# multimetric is determined here because in the case of a callable\u001b[39;00m\n\u001b[1;32m    878\u001b[0m \u001b[39m# self.scoring the return type is only known after calling\u001b[39;00m\n\u001b[1;32m    879\u001b[0m first_test_score \u001b[39m=\u001b[39m all_out[\u001b[39m0\u001b[39m][\u001b[39m\"\u001b[39m\u001b[39mtest_scores\u001b[39m\u001b[39m\"\u001b[39m]\n",
      "File \u001b[0;32m~/.local/lib/python3.8/site-packages/sklearn/model_selection/_search.py:1379\u001b[0m, in \u001b[0;36mGridSearchCV._run_search\u001b[0;34m(self, evaluate_candidates)\u001b[0m\n\u001b[1;32m   1377\u001b[0m \u001b[39mdef\u001b[39;00m \u001b[39m_run_search\u001b[39m(\u001b[39mself\u001b[39m, evaluate_candidates):\n\u001b[1;32m   1378\u001b[0m     \u001b[39m\"\"\"Search all candidates in param_grid\"\"\"\u001b[39;00m\n\u001b[0;32m-> 1379\u001b[0m     evaluate_candidates(ParameterGrid(\u001b[39mself\u001b[39;49m\u001b[39m.\u001b[39;49mparam_grid))\n",
      "File \u001b[0;32m~/.local/lib/python3.8/site-packages/sklearn/model_selection/_search.py:822\u001b[0m, in \u001b[0;36mBaseSearchCV.fit.<locals>.evaluate_candidates\u001b[0;34m(candidate_params, cv, more_results)\u001b[0m\n\u001b[1;32m    814\u001b[0m \u001b[39mif\u001b[39;00m \u001b[39mself\u001b[39m\u001b[39m.\u001b[39mverbose \u001b[39m>\u001b[39m \u001b[39m0\u001b[39m:\n\u001b[1;32m    815\u001b[0m     \u001b[39mprint\u001b[39m(\n\u001b[1;32m    816\u001b[0m         \u001b[39m\"\u001b[39m\u001b[39mFitting \u001b[39m\u001b[39m{0}\u001b[39;00m\u001b[39m folds for each of \u001b[39m\u001b[39m{1}\u001b[39;00m\u001b[39m candidates,\u001b[39m\u001b[39m\"\u001b[39m\n\u001b[1;32m    817\u001b[0m         \u001b[39m\"\u001b[39m\u001b[39m totalling \u001b[39m\u001b[39m{2}\u001b[39;00m\u001b[39m fits\u001b[39m\u001b[39m\"\u001b[39m\u001b[39m.\u001b[39mformat(\n\u001b[1;32m    818\u001b[0m             n_splits, n_candidates, n_candidates \u001b[39m*\u001b[39m n_splits\n\u001b[1;32m    819\u001b[0m         )\n\u001b[1;32m    820\u001b[0m     )\n\u001b[0;32m--> 822\u001b[0m out \u001b[39m=\u001b[39m parallel(\n\u001b[1;32m    823\u001b[0m     delayed(_fit_and_score)(\n\u001b[1;32m    824\u001b[0m         clone(base_estimator),\n\u001b[1;32m    825\u001b[0m         X,\n\u001b[1;32m    826\u001b[0m         y,\n\u001b[1;32m    827\u001b[0m         train\u001b[39m=\u001b[39;49mtrain,\n\u001b[1;32m    828\u001b[0m         test\u001b[39m=\u001b[39;49mtest,\n\u001b[1;32m    829\u001b[0m         parameters\u001b[39m=\u001b[39;49mparameters,\n\u001b[1;32m    830\u001b[0m         split_progress\u001b[39m=\u001b[39;49m(split_idx, n_splits),\n\u001b[1;32m    831\u001b[0m         candidate_progress\u001b[39m=\u001b[39;49m(cand_idx, n_candidates),\n\u001b[1;32m    832\u001b[0m         \u001b[39m*\u001b[39;49m\u001b[39m*\u001b[39;49mfit_and_score_kwargs,\n\u001b[1;32m    833\u001b[0m     )\n\u001b[1;32m    834\u001b[0m     \u001b[39mfor\u001b[39;49;00m (cand_idx, parameters), (split_idx, (train, test)) \u001b[39min\u001b[39;49;00m product(\n\u001b[1;32m    835\u001b[0m         \u001b[39menumerate\u001b[39;49m(candidate_params), \u001b[39menumerate\u001b[39;49m(cv\u001b[39m.\u001b[39;49msplit(X, y, groups))\n\u001b[1;32m    836\u001b[0m     )\n\u001b[1;32m    837\u001b[0m )\n\u001b[1;32m    839\u001b[0m \u001b[39mif\u001b[39;00m \u001b[39mlen\u001b[39m(out) \u001b[39m<\u001b[39m \u001b[39m1\u001b[39m:\n\u001b[1;32m    840\u001b[0m     \u001b[39mraise\u001b[39;00m \u001b[39mValueError\u001b[39;00m(\n\u001b[1;32m    841\u001b[0m         \u001b[39m\"\u001b[39m\u001b[39mNo fits were performed. \u001b[39m\u001b[39m\"\u001b[39m\n\u001b[1;32m    842\u001b[0m         \u001b[39m\"\u001b[39m\u001b[39mWas the CV iterator empty? \u001b[39m\u001b[39m\"\u001b[39m\n\u001b[1;32m    843\u001b[0m         \u001b[39m\"\u001b[39m\u001b[39mWere there no candidates?\u001b[39m\u001b[39m\"\u001b[39m\n\u001b[1;32m    844\u001b[0m     )\n",
      "File \u001b[0;32m~/.local/lib/python3.8/site-packages/joblib/parallel.py:1056\u001b[0m, in \u001b[0;36mParallel.__call__\u001b[0;34m(self, iterable)\u001b[0m\n\u001b[1;32m   1053\u001b[0m     \u001b[39mself\u001b[39m\u001b[39m.\u001b[39m_iterating \u001b[39m=\u001b[39m \u001b[39mFalse\u001b[39;00m\n\u001b[1;32m   1055\u001b[0m \u001b[39mwith\u001b[39;00m \u001b[39mself\u001b[39m\u001b[39m.\u001b[39m_backend\u001b[39m.\u001b[39mretrieval_context():\n\u001b[0;32m-> 1056\u001b[0m     \u001b[39mself\u001b[39;49m\u001b[39m.\u001b[39;49mretrieve()\n\u001b[1;32m   1057\u001b[0m \u001b[39m# Make sure that we get a last message telling us we are done\u001b[39;00m\n\u001b[1;32m   1058\u001b[0m elapsed_time \u001b[39m=\u001b[39m time\u001b[39m.\u001b[39mtime() \u001b[39m-\u001b[39m \u001b[39mself\u001b[39m\u001b[39m.\u001b[39m_start_time\n",
      "File \u001b[0;32m~/.local/lib/python3.8/site-packages/joblib/parallel.py:935\u001b[0m, in \u001b[0;36mParallel.retrieve\u001b[0;34m(self)\u001b[0m\n\u001b[1;32m    933\u001b[0m \u001b[39mtry\u001b[39;00m:\n\u001b[1;32m    934\u001b[0m     \u001b[39mif\u001b[39;00m \u001b[39mgetattr\u001b[39m(\u001b[39mself\u001b[39m\u001b[39m.\u001b[39m_backend, \u001b[39m'\u001b[39m\u001b[39msupports_timeout\u001b[39m\u001b[39m'\u001b[39m, \u001b[39mFalse\u001b[39;00m):\n\u001b[0;32m--> 935\u001b[0m         \u001b[39mself\u001b[39m\u001b[39m.\u001b[39m_output\u001b[39m.\u001b[39mextend(job\u001b[39m.\u001b[39;49mget(timeout\u001b[39m=\u001b[39;49m\u001b[39mself\u001b[39;49m\u001b[39m.\u001b[39;49mtimeout))\n\u001b[1;32m    936\u001b[0m     \u001b[39melse\u001b[39;00m:\n\u001b[1;32m    937\u001b[0m         \u001b[39mself\u001b[39m\u001b[39m.\u001b[39m_output\u001b[39m.\u001b[39mextend(job\u001b[39m.\u001b[39mget())\n",
      "File \u001b[0;32m~/.local/lib/python3.8/site-packages/joblib/_parallel_backends.py:542\u001b[0m, in \u001b[0;36mLokyBackend.wrap_future_result\u001b[0;34m(future, timeout)\u001b[0m\n\u001b[1;32m    539\u001b[0m \u001b[39m\"\"\"Wrapper for Future.result to implement the same behaviour as\u001b[39;00m\n\u001b[1;32m    540\u001b[0m \u001b[39mAsyncResults.get from multiprocessing.\"\"\"\u001b[39;00m\n\u001b[1;32m    541\u001b[0m \u001b[39mtry\u001b[39;00m:\n\u001b[0;32m--> 542\u001b[0m     \u001b[39mreturn\u001b[39;00m future\u001b[39m.\u001b[39;49mresult(timeout\u001b[39m=\u001b[39;49mtimeout)\n\u001b[1;32m    543\u001b[0m \u001b[39mexcept\u001b[39;00m CfTimeoutError \u001b[39mas\u001b[39;00m e:\n\u001b[1;32m    544\u001b[0m     \u001b[39mraise\u001b[39;00m \u001b[39mTimeoutError\u001b[39;00m \u001b[39mfrom\u001b[39;00m \u001b[39me\u001b[39;00m\n",
      "File \u001b[0;32m/usr/lib/python3.8/concurrent/futures/_base.py:439\u001b[0m, in \u001b[0;36mFuture.result\u001b[0;34m(self, timeout)\u001b[0m\n\u001b[1;32m    436\u001b[0m \u001b[39melif\u001b[39;00m \u001b[39mself\u001b[39m\u001b[39m.\u001b[39m_state \u001b[39m==\u001b[39m FINISHED:\n\u001b[1;32m    437\u001b[0m     \u001b[39mreturn\u001b[39;00m \u001b[39mself\u001b[39m\u001b[39m.\u001b[39m__get_result()\n\u001b[0;32m--> 439\u001b[0m \u001b[39mself\u001b[39;49m\u001b[39m.\u001b[39;49m_condition\u001b[39m.\u001b[39;49mwait(timeout)\n\u001b[1;32m    441\u001b[0m \u001b[39mif\u001b[39;00m \u001b[39mself\u001b[39m\u001b[39m.\u001b[39m_state \u001b[39min\u001b[39;00m [CANCELLED, CANCELLED_AND_NOTIFIED]:\n\u001b[1;32m    442\u001b[0m     \u001b[39mraise\u001b[39;00m CancelledError()\n",
      "File \u001b[0;32m/usr/lib/python3.8/threading.py:302\u001b[0m, in \u001b[0;36mCondition.wait\u001b[0;34m(self, timeout)\u001b[0m\n\u001b[1;32m    300\u001b[0m \u001b[39mtry\u001b[39;00m:    \u001b[39m# restore state no matter what (e.g., KeyboardInterrupt)\u001b[39;00m\n\u001b[1;32m    301\u001b[0m     \u001b[39mif\u001b[39;00m timeout \u001b[39mis\u001b[39;00m \u001b[39mNone\u001b[39;00m:\n\u001b[0;32m--> 302\u001b[0m         waiter\u001b[39m.\u001b[39;49macquire()\n\u001b[1;32m    303\u001b[0m         gotit \u001b[39m=\u001b[39m \u001b[39mTrue\u001b[39;00m\n\u001b[1;32m    304\u001b[0m     \u001b[39melse\u001b[39;00m:\n",
      "\u001b[0;31mKeyboardInterrupt\u001b[0m: "
     ]
    }
   ],
   "source": [
    "# using grid search for best parameter combinations\n",
    "param_grid = {\n",
    "    'hidden_layer_sizes': [(150,100,50), (120,80,40), (100,50,30)],\n",
    "    'activation': ['identity', 'logistic', 'tanh', 'relu'],\n",
    "    'solver': ['sgd', 'adam', 'lbfgs'],\n",
    "    'alpha': [0.0001, 0.05],\n",
    "    'learning_rate': ['constant','adaptive'],\n",
    "}\n",
    "\n",
    "grid = GridSearchCV(mlp_reg, param_grid, n_jobs= -1, cv=5)\n",
    "grid.fit(X_trainscaled, y_train)\n",
    "print(grid.best_params_)"
   ]
  },
  {
   "cell_type": "code",
   "execution_count": null,
   "metadata": {},
   "outputs": [],
   "source": [
    "grid_predictions = grid.predict(X_testscaled)\n",
    "grid_result = pd.DataFrame({'Actual': y_test, 'Predicted': grid_predictions})\n",
    "grid_result.head()"
   ]
  },
  {
   "cell_type": "markdown",
   "metadata": {},
   "source": [
    "For solver: \n",
    "\n",
    "The default solver ‘adam’ works pretty well on relatively large datasets (with thousands of training samples or more) in terms of both training time and validation score. For small datasets, however, ‘lbfgs’ can converge faster and perform better.\n",
    "\n",
    "For activition:\n",
    "\n",
    "‘identity’, no-op activation, useful to implement linear bottleneck, returns f(x) = x\n",
    "\n",
    "‘logistic’, the logistic sigmoid function, returns f(x) = 1 / (1 + exp(-x)).\n",
    "\n",
    "‘tanh’, the hyperbolic tan function, returns f(x) = tanh(x).\n",
    "\n",
    "‘relu’, the rectified linear unit function, returns f(x) = max(0, x)\n",
    "\n",
    "(from Sklearn)"
   ]
  },
  {
   "cell_type": "markdown",
   "metadata": {},
   "source": [
    "##### Evaluation"
   ]
  },
  {
   "cell_type": "code",
   "execution_count": null,
   "metadata": {},
   "outputs": [],
   "source": [
    "df_result = pd.DataFrame({'Actual': y_test, 'Predicted': y_pred})\n",
    "df_result.head()"
   ]
  },
  {
   "cell_type": "code",
   "execution_count": null,
   "metadata": {},
   "outputs": [],
   "source": [
    "print('Mean Absolute Error:', metrics.mean_absolute_error(y_test, y_pred))  \n",
    "print('Mean Squared Error:', metrics.mean_squared_error(y_test, y_pred))  \n",
    "print('Root Mean Squared Error:', np.sqrt(metrics.mean_squared_error(y_test, y_pred)))"
   ]
  },
  {
   "cell_type": "code",
   "execution_count": null,
   "metadata": {},
   "outputs": [],
   "source": [
    "print('Mean Absolute Error for grid search:', metrics.mean_absolute_error(y_test, grid_predictions))  \n",
    "print('Mean Squared Error for grid search:', metrics.mean_squared_error(y_test, grid_predictions))  \n",
    "print('Root Mean Squared Error for grid search:', np.sqrt(metrics.mean_squared_error(y_test, grid_predictions)))\n"
   ]
  }
 ],
 "metadata": {
  "kernelspec": {
   "display_name": "Python 3.8.10 64-bit",
   "language": "python",
   "name": "python3"
  },
  "language_info": {
   "codemirror_mode": {
    "name": "ipython",
    "version": 3
   },
   "file_extension": ".py",
   "mimetype": "text/x-python",
   "name": "python",
   "nbconvert_exporter": "python",
   "pygments_lexer": "ipython3",
   "version": "3.8.10"
  },
  "orig_nbformat": 4,
  "vscode": {
   "interpreter": {
    "hash": "916dbcbb3f70747c44a77c7bcd40155683ae19c65e1c03b4aa3499c5328201f1"
   }
  }
 },
 "nbformat": 4,
 "nbformat_minor": 2
}
