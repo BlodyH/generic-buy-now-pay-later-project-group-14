{
 "cells": [
  {
   "cell_type": "markdown",
   "metadata": {},
   "source": [
    "# Prediction Model for BNPL Revenue"
   ]
  },
  {
   "cell_type": "code",
   "execution_count": 42,
   "metadata": {},
   "outputs": [],
   "source": [
    "from pyspark.sql import SparkSession\n",
    "from pyspark.sql import functions as F\n",
    "import pandas as pd\n",
    "\n",
    "from pyspark.ml.regression import LinearRegression\n",
    "from pyspark.ml.feature import StringIndexer\n",
    "from pyspark.ml.feature import OneHotEncoder\n",
    "from pyspark.ml.feature import VectorAssembler \n",
    "from pyspark.ml.evaluation import MulticlassClassificationEvaluator\n",
    "from pyspark.ml.evaluation import RegressionEvaluator\n",
    "from pyspark.sql.functions import *"
   ]
  },
  {
   "cell_type": "code",
   "execution_count": 43,
   "metadata": {},
   "outputs": [],
   "source": [
    "# Create a spark session (which will run spark jobs)\n",
    "spark = (\n",
    "    SparkSession.builder.appName(\"MAST30034 Project 2\")\n",
    "    .config(\"spark.sql.repl.eagerEval.enabled\", True) \n",
    "    .config(\"spark.sql.parquet.cacheMetadata\", \"true\")\n",
    "    .config(\"spark.sql.session.timeZone\", \"Etc/UTC\")\n",
    "    .config(\"spark.driver.memory\", \"2g\")\n",
    "    .config(\"spark.executer.memory\", \"4g\")\n",
    "    .getOrCreate()\n",
    ")"
   ]
  },
  {
   "cell_type": "code",
   "execution_count": 44,
   "metadata": {},
   "outputs": [
    {
     "name": "stdout",
     "output_type": "stream",
     "text": [
      "root\n",
      " |-- merchant_abn: long (nullable = true)\n",
      " |-- total_num_consumer: long (nullable = true)\n",
      " |-- avg_dollar_value: double (nullable = true)\n",
      " |-- total_num_transaction: long (nullable = true)\n",
      " |-- mean_income: double (nullable = true)\n",
      " |-- revenue_level: string (nullable = true)\n",
      " |-- total_revenue: double (nullable = true)\n",
      " |-- total_num_postcode: long (nullable = true)\n",
      " |-- tag: string (nullable = true)\n",
      " |-- next_total_num_consumer: long (nullable = true)\n",
      " |-- next_total_revenue: double (nullable = true)\n",
      " |-- next_total_num_transaction: long (nullable = true)\n",
      "\n"
     ]
    }
   ],
   "source": [
    "full = spark.read.parquet('../data/curated/train_data/')\n",
    "full = full.withColumnRenamed('y_total_num_consumer', 'next_total_num_consumer').withColumnRenamed('y_total_revenue', 'next_total_revenue')\\\n",
    "    .withColumnRenamed('y_total_num_transaction', 'next_total_num_transaction')\n",
    "full.printSchema()"
   ]
  },
  {
   "cell_type": "code",
   "execution_count": 45,
   "metadata": {},
   "outputs": [],
   "source": [
    "tag_mean = full.groupBy('tag')\\\n",
    "      .agg(\n",
    "         F.mean(\"total_revenue\").alias(\"mean_revenue_of_tags\")\n",
    "      )"
   ]
  },
  {
   "cell_type": "code",
   "execution_count": 46,
   "metadata": {},
   "outputs": [],
   "source": [
    "tag_mean = tag_mean.toPandas()"
   ]
  },
  {
   "cell_type": "code",
   "execution_count": 49,
   "metadata": {},
   "outputs": [
    {
     "data": {
      "text/plain": [
       "array([2, 0, 0, 1, 2, 0, 3, 0, 1, 1, 0, 1, 0, 0, 0, 1, 0, 2, 2, 1, 1, 2,\n",
       "       1, 0], dtype=int32)"
      ]
     },
     "execution_count": 49,
     "metadata": {},
     "output_type": "execute_result"
    }
   ],
   "source": [
    "from sklearn.cluster import KMeans\n",
    "import numpy as np\n",
    "\n",
    "kmeans = KMeans(n_clusters=4, random_state=0).fit(np.array(tag_mean['mean_revenue_of_tags']).reshape(-1, 1))\n",
    "kmeans.labels_"
   ]
  },
  {
   "cell_type": "code",
   "execution_count": 50,
   "metadata": {},
   "outputs": [
    {
     "data": {
      "text/html": [
       "<div>\n",
       "<style scoped>\n",
       "    .dataframe tbody tr th:only-of-type {\n",
       "        vertical-align: middle;\n",
       "    }\n",
       "\n",
       "    .dataframe tbody tr th {\n",
       "        vertical-align: top;\n",
       "    }\n",
       "\n",
       "    .dataframe thead th {\n",
       "        text-align: right;\n",
       "    }\n",
       "</style>\n",
       "<table border=\"1\" class=\"dataframe\">\n",
       "  <thead>\n",
       "    <tr style=\"text-align: right;\">\n",
       "      <th></th>\n",
       "      <th>tag</th>\n",
       "      <th>mean_revenue_of_tags</th>\n",
       "      <th>tag_labels</th>\n",
       "    </tr>\n",
       "  </thead>\n",
       "  <tbody>\n",
       "    <tr>\n",
       "      <th>0</th>\n",
       "      <td>jewelry</td>\n",
       "      <td>301542.063851</td>\n",
       "      <td>2</td>\n",
       "    </tr>\n",
       "    <tr>\n",
       "      <th>1</th>\n",
       "      <td>watch</td>\n",
       "      <td>565603.630545</td>\n",
       "      <td>0</td>\n",
       "    </tr>\n",
       "    <tr>\n",
       "      <th>2</th>\n",
       "      <td>cable</td>\n",
       "      <td>545919.891131</td>\n",
       "      <td>0</td>\n",
       "    </tr>\n",
       "    <tr>\n",
       "      <th>3</th>\n",
       "      <td>garden supply</td>\n",
       "      <td>732549.584612</td>\n",
       "      <td>1</td>\n",
       "    </tr>\n",
       "    <tr>\n",
       "      <th>4</th>\n",
       "      <td>antique</td>\n",
       "      <td>431668.237726</td>\n",
       "      <td>2</td>\n",
       "    </tr>\n",
       "    <tr>\n",
       "      <th>5</th>\n",
       "      <td>shoe</td>\n",
       "      <td>534436.300789</td>\n",
       "      <td>0</td>\n",
       "    </tr>\n",
       "    <tr>\n",
       "      <th>6</th>\n",
       "      <td>tent</td>\n",
       "      <td>995172.851759</td>\n",
       "      <td>3</td>\n",
       "    </tr>\n",
       "    <tr>\n",
       "      <th>7</th>\n",
       "      <td>stationery</td>\n",
       "      <td>518011.067448</td>\n",
       "      <td>0</td>\n",
       "    </tr>\n",
       "    <tr>\n",
       "      <th>8</th>\n",
       "      <td>artist supply</td>\n",
       "      <td>719151.356147</td>\n",
       "      <td>1</td>\n",
       "    </tr>\n",
       "    <tr>\n",
       "      <th>9</th>\n",
       "      <td>florists</td>\n",
       "      <td>637021.720045</td>\n",
       "      <td>1</td>\n",
       "    </tr>\n",
       "    <tr>\n",
       "      <th>10</th>\n",
       "      <td>music</td>\n",
       "      <td>604916.476771</td>\n",
       "      <td>0</td>\n",
       "    </tr>\n",
       "    <tr>\n",
       "      <th>11</th>\n",
       "      <td>books</td>\n",
       "      <td>648058.902802</td>\n",
       "      <td>1</td>\n",
       "    </tr>\n",
       "    <tr>\n",
       "      <th>12</th>\n",
       "      <td>digital goods</td>\n",
       "      <td>547050.022799</td>\n",
       "      <td>0</td>\n",
       "    </tr>\n",
       "    <tr>\n",
       "      <th>13</th>\n",
       "      <td>hobby</td>\n",
       "      <td>514196.193274</td>\n",
       "      <td>0</td>\n",
       "    </tr>\n",
       "    <tr>\n",
       "      <th>14</th>\n",
       "      <td>health</td>\n",
       "      <td>479600.785451</td>\n",
       "      <td>0</td>\n",
       "    </tr>\n",
       "    <tr>\n",
       "      <th>15</th>\n",
       "      <td>furniture</td>\n",
       "      <td>687803.953816</td>\n",
       "      <td>1</td>\n",
       "    </tr>\n",
       "    <tr>\n",
       "      <th>16</th>\n",
       "      <td>opticians</td>\n",
       "      <td>558157.542033</td>\n",
       "      <td>0</td>\n",
       "    </tr>\n",
       "    <tr>\n",
       "      <th>17</th>\n",
       "      <td>art dealer</td>\n",
       "      <td>353491.556407</td>\n",
       "      <td>2</td>\n",
       "    </tr>\n",
       "    <tr>\n",
       "      <th>18</th>\n",
       "      <td>telecom</td>\n",
       "      <td>403231.625275</td>\n",
       "      <td>2</td>\n",
       "    </tr>\n",
       "    <tr>\n",
       "      <th>19</th>\n",
       "      <td>motor</td>\n",
       "      <td>817703.564773</td>\n",
       "      <td>1</td>\n",
       "    </tr>\n",
       "    <tr>\n",
       "      <th>20</th>\n",
       "      <td>computer</td>\n",
       "      <td>666917.519721</td>\n",
       "      <td>1</td>\n",
       "    </tr>\n",
       "    <tr>\n",
       "      <th>21</th>\n",
       "      <td>equipment</td>\n",
       "      <td>290041.611393</td>\n",
       "      <td>2</td>\n",
       "    </tr>\n",
       "    <tr>\n",
       "      <th>22</th>\n",
       "      <td>gift</td>\n",
       "      <td>756330.804304</td>\n",
       "      <td>1</td>\n",
       "    </tr>\n",
       "    <tr>\n",
       "      <th>23</th>\n",
       "      <td>bicycle</td>\n",
       "      <td>514276.636252</td>\n",
       "      <td>0</td>\n",
       "    </tr>\n",
       "  </tbody>\n",
       "</table>\n",
       "</div>"
      ],
      "text/plain": [
       "              tag  mean_revenue_of_tags  tag_labels\n",
       "0         jewelry         301542.063851           2\n",
       "1           watch         565603.630545           0\n",
       "2           cable         545919.891131           0\n",
       "3   garden supply         732549.584612           1\n",
       "4         antique         431668.237726           2\n",
       "5            shoe         534436.300789           0\n",
       "6            tent         995172.851759           3\n",
       "7      stationery         518011.067448           0\n",
       "8   artist supply         719151.356147           1\n",
       "9        florists         637021.720045           1\n",
       "10          music         604916.476771           0\n",
       "11          books         648058.902802           1\n",
       "12  digital goods         547050.022799           0\n",
       "13          hobby         514196.193274           0\n",
       "14         health         479600.785451           0\n",
       "15      furniture         687803.953816           1\n",
       "16      opticians         558157.542033           0\n",
       "17     art dealer         353491.556407           2\n",
       "18        telecom         403231.625275           2\n",
       "19          motor         817703.564773           1\n",
       "20       computer         666917.519721           1\n",
       "21      equipment         290041.611393           2\n",
       "22           gift         756330.804304           1\n",
       "23        bicycle         514276.636252           0"
      ]
     },
     "execution_count": 50,
     "metadata": {},
     "output_type": "execute_result"
    }
   ],
   "source": [
    "tag_mean['tag_labels'] = kmeans.labels_\n",
    "tag_mean"
   ]
  },
  {
   "cell_type": "code",
   "execution_count": 51,
   "metadata": {},
   "outputs": [
    {
     "data": {
      "text/html": [
       "<table border='1'>\n",
       "<tr><th>tag</th><th>tag_labels</th></tr>\n",
       "<tr><td>jewelry</td><td>2</td></tr>\n",
       "<tr><td>watch</td><td>0</td></tr>\n",
       "<tr><td>cable</td><td>0</td></tr>\n",
       "<tr><td>garden supply</td><td>1</td></tr>\n",
       "<tr><td>antique</td><td>2</td></tr>\n",
       "<tr><td>shoe</td><td>0</td></tr>\n",
       "<tr><td>tent</td><td>3</td></tr>\n",
       "<tr><td>stationery</td><td>0</td></tr>\n",
       "<tr><td>artist supply</td><td>1</td></tr>\n",
       "<tr><td>florists</td><td>1</td></tr>\n",
       "<tr><td>music</td><td>0</td></tr>\n",
       "<tr><td>books</td><td>1</td></tr>\n",
       "<tr><td>digital goods</td><td>0</td></tr>\n",
       "<tr><td>hobby</td><td>0</td></tr>\n",
       "<tr><td>health</td><td>0</td></tr>\n",
       "<tr><td>furniture</td><td>1</td></tr>\n",
       "<tr><td>opticians</td><td>0</td></tr>\n",
       "<tr><td>art dealer</td><td>2</td></tr>\n",
       "<tr><td>telecom</td><td>2</td></tr>\n",
       "<tr><td>motor</td><td>1</td></tr>\n",
       "</table>\n",
       "only showing top 20 rows\n"
      ],
      "text/plain": [
       "+-------------+----------+\n",
       "|          tag|tag_labels|\n",
       "+-------------+----------+\n",
       "|      jewelry|         2|\n",
       "|        watch|         0|\n",
       "|        cable|         0|\n",
       "|garden supply|         1|\n",
       "|      antique|         2|\n",
       "|         shoe|         0|\n",
       "|         tent|         3|\n",
       "|   stationery|         0|\n",
       "|artist supply|         1|\n",
       "|     florists|         1|\n",
       "|        music|         0|\n",
       "|        books|         1|\n",
       "|digital goods|         0|\n",
       "|        hobby|         0|\n",
       "|       health|         0|\n",
       "|    furniture|         1|\n",
       "|    opticians|         0|\n",
       "|   art dealer|         2|\n",
       "|      telecom|         2|\n",
       "|        motor|         1|\n",
       "+-------------+----------+\n",
       "only showing top 20 rows"
      ]
     },
     "execution_count": 51,
     "metadata": {},
     "output_type": "execute_result"
    }
   ],
   "source": [
    "tag_mean_sdf = spark.createDataFrame(tag_mean[['tag', 'tag_labels']])\n",
    "tag_mean_sdf"
   ]
  },
  {
   "cell_type": "code",
   "execution_count": 52,
   "metadata": {},
   "outputs": [
    {
     "data": {
      "text/html": [
       "<table border='1'>\n",
       "<tr><th>tag</th><th>merchant_abn</th><th>total_num_consumer</th><th>avg_dollar_value</th><th>total_num_transaction</th><th>mean_income</th><th>revenue_level</th><th>total_revenue</th><th>total_num_postcode</th><th>next_total_num_consumer</th><th>next_total_revenue</th><th>next_total_num_transaction</th><th>tag_labels</th></tr>\n",
       "<tr><td>jewelry</td><td>10596295795</td><td>8</td><td>10439.40181102842</td><td>8</td><td>61840.875</td><td>a</td><td>571244.0798428855</td><td>8</td><td>null</td><td>null</td><td>null</td><td>2</td></tr>\n",
       "<tr><td>watch</td><td>10187291046</td><td>87</td><td>111.08408713922158</td><td>87</td><td>61060.0459770115</td><td>b</td><td>31795.597893195016</td><td>87</td><td>99</td><td>41683.211213258364</td><td>100</td><td>0</td></tr>\n",
       "<tr><td>watch</td><td>10264435225</td><td>1238</td><td>114.10783402533235</td><td>1272</td><td>62006.311320754714</td><td>c</td><td>346896.9592900661</td><td>1018</td><td>1519</td><td>435003.6795629895</td><td>1566</td><td>0</td></tr>\n",
       "<tr><td>watch</td><td>10922217544</td><td>18</td><td>163.5626661571798</td><td>18</td><td>63804.22222222222</td><td>c</td><td>4946.134870167458</td><td>18</td><td>19</td><td>5880.61894060871</td><td>19</td><td>0</td></tr>\n",
       "<tr><td>shoe</td><td>10955677986</td><td>196</td><td>224.31663343377568</td><td>197</td><td>62081.20304568528</td><td>a</td><td>249233.71917554762</td><td>191</td><td>232</td><td>311007.83981679846</td><td>235</td><td>0</td></tr>\n",
       "<tr><td>tent</td><td>10651113986</td><td>17</td><td>537.592173774402</td><td>17</td><td>57981.94117647059</td><td>b</td><td>29701.967601035707</td><td>17</td><td>24</td><td>40997.390332967654</td><td>24</td><td>3</td></tr>\n",
       "<tr><td>stationery</td><td>10618089367</td><td>903</td><td>382.6779937277748</td><td>919</td><td>63214.549510337325</td><td>b</td><td>1410241.1961990686</td><td>783</td><td>994</td><td>1427868.1901742313</td><td>1011</td><td>0</td></tr>\n",
       "<tr><td>artist supply</td><td>10463252268</td><td>22</td><td>464.0964976850653</td><td>22</td><td>60070.77272727273</td><td>a</td><td>67488.91405656068</td><td>22</td><td>26</td><td>78474.65405470507</td><td>26</td><td>1</td></tr>\n",
       "<tr><td>florists</td><td>10545955006</td><td>108</td><td>475.27264003873785</td><td>108</td><td>63127.56481481482</td><td>a</td><td>316189.37413271976</td><td>106</td><td>133</td><td>359500.80479674053</td><td>133</td><td>1</td></tr>\n",
       "<tr><td>music</td><td>10364012396</td><td>4</td><td>276.08689369891994</td><td>4</td><td>81123.75</td><td>b</td><td>4008.7818228908673</td><td>4</td><td>16</td><td>19636.790814026932</td><td>16</td><td>0</td></tr>\n",
       "<tr><td>music</td><td>10746056613</td><td>67</td><td>75.14601085402924</td><td>67</td><td>65987.23880597015</td><td>a</td><td>34035.13238837724</td><td>67</td><td>72</td><td>35978.902452039714</td><td>72</td><td>0</td></tr>\n",
       "<tr><td>books</td><td>10530696903</td><td>174</td><td>429.6262128784364</td><td>175</td><td>61263.58857142857</td><td>a</td><td>485692.4365271367</td><td>167</td><td>225</td><td>599049.1086622305</td><td>225</td><td>1</td></tr>\n",
       "<tr><td>art dealer</td><td>10739268011</td><td>1</td><td>5275.474679026834</td><td>1</td><td>57933.0</td><td>a</td><td>32971.716743917714</td><td>1</td><td>null</td><td>null</td><td>null</td><td>2</td></tr>\n",
       "<tr><td>motor</td><td>10430380319</td><td>38</td><td>359.1108847340083</td><td>38</td><td>60029.76315789474</td><td>b</td><td>67821.67882777525</td><td>38</td><td>53</td><td>88318.04454751333</td><td>53</td><td>1</td></tr>\n",
       "<tr><td>motor</td><td>10441711491</td><td>1</td><td>9734.857620793187</td><td>1</td><td>57015.0</td><td>a</td><td>56170.12828629902</td><td>1</td><td>null</td><td>null</td><td>null</td><td>1</td></tr>\n",
       "<tr><td>computer</td><td>10255988167</td><td>218</td><td>389.5552654520502</td><td>218</td><td>63146.619266055044</td><td>b</td><td>366867.5813701302</td><td>211</td><td>235</td><td>378005.1467314967</td><td>236</td><td>1</td></tr>\n",
       "<tr><td>computer</td><td>10385250025</td><td>185</td><td>474.1675409676319</td><td>185</td><td>63441.41081081081</td><td>a</td><td>485974.30939143547</td><td>182</td><td>190</td><td>494288.86012436583</td><td>191</td><td>1</td></tr>\n",
       "<tr><td>computer</td><td>10854978569</td><td>17</td><td>286.9896314419789</td><td>17</td><td>68877.11764705883</td><td>b</td><td>20637.424490048885</td><td>17</td><td>28</td><td>32046.023857037744</td><td>28</td><td>1</td></tr>\n",
       "<tr><td>gift</td><td>10462560289</td><td>405</td><td>37.94568323793217</td><td>413</td><td>64556.179176755446</td><td>c</td><td>46231.12392021321</td><td>366</td><td>513</td><td>56043.0017308923</td><td>519</td><td>1</td></tr>\n",
       "<tr><td>gift</td><td>10702078694</td><td>118</td><td>84.5264917722531</td><td>118</td><td>66654.94067796611</td><td>a</td><td>59346.04797088534</td><td>117</td><td>126</td><td>75419.01577529583</td><td>127</td><td>1</td></tr>\n",
       "</table>\n",
       "only showing top 20 rows\n"
      ],
      "text/plain": [
       "+-------------+------------+------------------+------------------+---------------------+------------------+-------------+------------------+------------------+-----------------------+------------------+--------------------------+----------+\n",
       "|          tag|merchant_abn|total_num_consumer|  avg_dollar_value|total_num_transaction|       mean_income|revenue_level|     total_revenue|total_num_postcode|next_total_num_consumer|next_total_revenue|next_total_num_transaction|tag_labels|\n",
       "+-------------+------------+------------------+------------------+---------------------+------------------+-------------+------------------+------------------+-----------------------+------------------+--------------------------+----------+\n",
       "|      jewelry| 10596295795|                 8| 10439.40181102842|                    8|         61840.875|            a| 571244.0798428855|                 8|                   null|              null|                      null|         2|\n",
       "|        watch| 10187291046|                87|111.08408713922158|                   87|  61060.0459770115|            b|31795.597893195016|                87|                     99|41683.211213258364|                       100|         0|\n",
       "|        watch| 10264435225|              1238|114.10783402533235|                 1272|62006.311320754714|            c| 346896.9592900661|              1018|                   1519| 435003.6795629895|                      1566|         0|\n",
       "|        watch| 10922217544|                18| 163.5626661571798|                   18| 63804.22222222222|            c| 4946.134870167458|                18|                     19|  5880.61894060871|                        19|         0|\n",
       "|         shoe| 10955677986|               196|224.31663343377568|                  197| 62081.20304568528|            a|249233.71917554762|               191|                    232|311007.83981679846|                       235|         0|\n",
       "|         tent| 10651113986|                17|  537.592173774402|                   17| 57981.94117647059|            b|29701.967601035707|                17|                     24|40997.390332967654|                        24|         3|\n",
       "|   stationery| 10618089367|               903| 382.6779937277748|                  919|63214.549510337325|            b|1410241.1961990686|               783|                    994|1427868.1901742313|                      1011|         0|\n",
       "|artist supply| 10463252268|                22| 464.0964976850653|                   22| 60070.77272727273|            a| 67488.91405656068|                22|                     26| 78474.65405470507|                        26|         1|\n",
       "|     florists| 10545955006|               108|475.27264003873785|                  108| 63127.56481481482|            a|316189.37413271976|               106|                    133|359500.80479674053|                       133|         1|\n",
       "|        music| 10364012396|                 4|276.08689369891994|                    4|          81123.75|            b|4008.7818228908673|                 4|                     16|19636.790814026932|                        16|         0|\n",
       "|        music| 10746056613|                67| 75.14601085402924|                   67| 65987.23880597015|            a| 34035.13238837724|                67|                     72|35978.902452039714|                        72|         0|\n",
       "|        books| 10530696903|               174| 429.6262128784364|                  175| 61263.58857142857|            a| 485692.4365271367|               167|                    225| 599049.1086622305|                       225|         1|\n",
       "|   art dealer| 10739268011|                 1| 5275.474679026834|                    1|           57933.0|            a|32971.716743917714|                 1|                   null|              null|                      null|         2|\n",
       "|        motor| 10430380319|                38| 359.1108847340083|                   38| 60029.76315789474|            b| 67821.67882777525|                38|                     53| 88318.04454751333|                        53|         1|\n",
       "|        motor| 10441711491|                 1| 9734.857620793187|                    1|           57015.0|            a| 56170.12828629902|                 1|                   null|              null|                      null|         1|\n",
       "|     computer| 10255988167|               218| 389.5552654520502|                  218|63146.619266055044|            b| 366867.5813701302|               211|                    235| 378005.1467314967|                       236|         1|\n",
       "|     computer| 10385250025|               185| 474.1675409676319|                  185| 63441.41081081081|            a|485974.30939143547|               182|                    190|494288.86012436583|                       191|         1|\n",
       "|     computer| 10854978569|                17| 286.9896314419789|                   17| 68877.11764705883|            b|20637.424490048885|                17|                     28|32046.023857037744|                        28|         1|\n",
       "|         gift| 10462560289|               405| 37.94568323793217|                  413|64556.179176755446|            c| 46231.12392021321|               366|                    513|  56043.0017308923|                       519|         1|\n",
       "|         gift| 10702078694|               118|  84.5264917722531|                  118| 66654.94067796611|            a| 59346.04797088534|               117|                    126| 75419.01577529583|                       127|         1|\n",
       "+-------------+------------+------------------+------------------+---------------------+------------------+-------------+------------------+------------------+-----------------------+------------------+--------------------------+----------+\n",
       "only showing top 20 rows"
      ]
     },
     "execution_count": 52,
     "metadata": {},
     "output_type": "execute_result"
    }
   ],
   "source": [
    "full = full.join(tag_mean_sdf, [\"tag\"], how=\"left\") \n",
    "# use left join here since if no historical data is provided, we cannot predict the future value of a merchant\n",
    "full"
   ]
  },
  {
   "cell_type": "markdown",
   "metadata": {},
   "source": [
    "## Model for BNPL Revenue\n",
    "Features:\n",
    "    total number of consumer, average dollar value, total number of transaction, mean income, total number of postcode, tags\n",
    "\n",
    "label:\n",
    "    next year revenue"
   ]
  },
  {
   "cell_type": "code",
   "execution_count": 53,
   "metadata": {},
   "outputs": [
    {
     "data": {
      "text/html": [
       "<table border='1'>\n",
       "<tr><th>tag</th><th>total_num_consumer</th><th>avg_dollar_value</th><th>total_num_transaction</th><th>mean_income</th><th>total_num_postcode</th><th>next_total_revenue</th><th>tag_labels</th></tr>\n",
       "<tr><td>jewelry</td><td>8</td><td>10439.40181102842</td><td>8</td><td>61840.875</td><td>8</td><td>null</td><td>2</td></tr>\n",
       "<tr><td>watch</td><td>87</td><td>111.08408713922158</td><td>87</td><td>61060.0459770115</td><td>87</td><td>41683.211213258364</td><td>0</td></tr>\n",
       "<tr><td>watch</td><td>1238</td><td>114.10783402533235</td><td>1272</td><td>62006.311320754714</td><td>1018</td><td>435003.6795629895</td><td>0</td></tr>\n",
       "<tr><td>watch</td><td>18</td><td>163.5626661571798</td><td>18</td><td>63804.22222222222</td><td>18</td><td>5880.61894060871</td><td>0</td></tr>\n",
       "<tr><td>shoe</td><td>196</td><td>224.31663343377568</td><td>197</td><td>62081.20304568528</td><td>191</td><td>311007.83981679846</td><td>0</td></tr>\n",
       "<tr><td>tent</td><td>17</td><td>537.592173774402</td><td>17</td><td>57981.94117647059</td><td>17</td><td>40997.390332967654</td><td>3</td></tr>\n",
       "<tr><td>stationery</td><td>903</td><td>382.6779937277748</td><td>919</td><td>63214.549510337325</td><td>783</td><td>1427868.1901742313</td><td>0</td></tr>\n",
       "<tr><td>artist supply</td><td>22</td><td>464.0964976850653</td><td>22</td><td>60070.77272727273</td><td>22</td><td>78474.65405470507</td><td>1</td></tr>\n",
       "<tr><td>florists</td><td>108</td><td>475.27264003873785</td><td>108</td><td>63127.56481481482</td><td>106</td><td>359500.80479674053</td><td>1</td></tr>\n",
       "<tr><td>music</td><td>4</td><td>276.08689369891994</td><td>4</td><td>81123.75</td><td>4</td><td>19636.790814026932</td><td>0</td></tr>\n",
       "<tr><td>music</td><td>67</td><td>75.14601085402924</td><td>67</td><td>65987.23880597015</td><td>67</td><td>35978.902452039714</td><td>0</td></tr>\n",
       "<tr><td>books</td><td>174</td><td>429.6262128784364</td><td>175</td><td>61263.58857142857</td><td>167</td><td>599049.1086622305</td><td>1</td></tr>\n",
       "<tr><td>art dealer</td><td>1</td><td>5275.474679026834</td><td>1</td><td>57933.0</td><td>1</td><td>null</td><td>2</td></tr>\n",
       "<tr><td>motor</td><td>38</td><td>359.1108847340083</td><td>38</td><td>60029.76315789474</td><td>38</td><td>88318.04454751333</td><td>1</td></tr>\n",
       "<tr><td>motor</td><td>1</td><td>9734.857620793187</td><td>1</td><td>57015.0</td><td>1</td><td>null</td><td>1</td></tr>\n",
       "<tr><td>computer</td><td>218</td><td>389.5552654520502</td><td>218</td><td>63146.619266055044</td><td>211</td><td>378005.1467314967</td><td>1</td></tr>\n",
       "<tr><td>computer</td><td>185</td><td>474.1675409676319</td><td>185</td><td>63441.41081081081</td><td>182</td><td>494288.86012436583</td><td>1</td></tr>\n",
       "<tr><td>computer</td><td>17</td><td>286.9896314419789</td><td>17</td><td>68877.11764705883</td><td>17</td><td>32046.023857037744</td><td>1</td></tr>\n",
       "<tr><td>gift</td><td>405</td><td>37.94568323793217</td><td>413</td><td>64556.179176755446</td><td>366</td><td>56043.0017308923</td><td>1</td></tr>\n",
       "<tr><td>gift</td><td>118</td><td>84.5264917722531</td><td>118</td><td>66654.94067796611</td><td>117</td><td>75419.01577529583</td><td>1</td></tr>\n",
       "</table>\n",
       "only showing top 20 rows\n"
      ],
      "text/plain": [
       "+-------------+------------------+------------------+---------------------+------------------+------------------+------------------+----------+\n",
       "|          tag|total_num_consumer|  avg_dollar_value|total_num_transaction|       mean_income|total_num_postcode|next_total_revenue|tag_labels|\n",
       "+-------------+------------------+------------------+---------------------+------------------+------------------+------------------+----------+\n",
       "|      jewelry|                 8| 10439.40181102842|                    8|         61840.875|                 8|              null|         2|\n",
       "|        watch|                87|111.08408713922158|                   87|  61060.0459770115|                87|41683.211213258364|         0|\n",
       "|        watch|              1238|114.10783402533235|                 1272|62006.311320754714|              1018| 435003.6795629895|         0|\n",
       "|        watch|                18| 163.5626661571798|                   18| 63804.22222222222|                18|  5880.61894060871|         0|\n",
       "|         shoe|               196|224.31663343377568|                  197| 62081.20304568528|               191|311007.83981679846|         0|\n",
       "|         tent|                17|  537.592173774402|                   17| 57981.94117647059|                17|40997.390332967654|         3|\n",
       "|   stationery|               903| 382.6779937277748|                  919|63214.549510337325|               783|1427868.1901742313|         0|\n",
       "|artist supply|                22| 464.0964976850653|                   22| 60070.77272727273|                22| 78474.65405470507|         1|\n",
       "|     florists|               108|475.27264003873785|                  108| 63127.56481481482|               106|359500.80479674053|         1|\n",
       "|        music|                 4|276.08689369891994|                    4|          81123.75|                 4|19636.790814026932|         0|\n",
       "|        music|                67| 75.14601085402924|                   67| 65987.23880597015|                67|35978.902452039714|         0|\n",
       "|        books|               174| 429.6262128784364|                  175| 61263.58857142857|               167| 599049.1086622305|         1|\n",
       "|   art dealer|                 1| 5275.474679026834|                    1|           57933.0|                 1|              null|         2|\n",
       "|        motor|                38| 359.1108847340083|                   38| 60029.76315789474|                38| 88318.04454751333|         1|\n",
       "|        motor|                 1| 9734.857620793187|                    1|           57015.0|                 1|              null|         1|\n",
       "|     computer|               218| 389.5552654520502|                  218|63146.619266055044|               211| 378005.1467314967|         1|\n",
       "|     computer|               185| 474.1675409676319|                  185| 63441.41081081081|               182|494288.86012436583|         1|\n",
       "|     computer|                17| 286.9896314419789|                   17| 68877.11764705883|                17|32046.023857037744|         1|\n",
       "|         gift|               405| 37.94568323793217|                  413|64556.179176755446|               366|  56043.0017308923|         1|\n",
       "|         gift|               118|  84.5264917722531|                  118| 66654.94067796611|               117| 75419.01577529583|         1|\n",
       "+-------------+------------------+------------------+---------------------+------------------+------------------+------------------+----------+\n",
       "only showing top 20 rows"
      ]
     },
     "execution_count": 53,
     "metadata": {},
     "output_type": "execute_result"
    }
   ],
   "source": [
    "# drop the columns not needed\n",
    "revenue_df = full.drop('merchant_abn', 'revenue_level', 'total_revenue', 'next_total_num_consumer', 'next_total_num_transaction')\n",
    "revenue_df"
   ]
  },
  {
   "cell_type": "code",
   "execution_count": 54,
   "metadata": {},
   "outputs": [
    {
     "data": {
      "text/html": [
       "<table border='1'>\n",
       "<tr><th>tag</th><th>total_num_consumer</th><th>avg_dollar_value</th><th>total_num_transaction</th><th>mean_income</th><th>total_num_postcode</th><th>next_total_revenue</th><th>tag_labels</th><th>tagIndex</th><th>tagOHE</th></tr>\n",
       "<tr><td>jewelry</td><td>8</td><td>10439.40181102842</td><td>8</td><td>61840.875</td><td>8</td><td>null</td><td>2</td><td>23.0</td><td>(23,[],[])</td></tr>\n",
       "<tr><td>jewelry</td><td>1</td><td>6987.246435378608</td><td>1</td><td>48235.0</td><td>1</td><td>null</td><td>2</td><td>23.0</td><td>(23,[],[])</td></tr>\n",
       "<tr><td>jewelry</td><td>2</td><td>1396.3251261623384</td><td>2</td><td>54250.5</td><td>2</td><td>null</td><td>2</td><td>23.0</td><td>(23,[],[])</td></tr>\n",
       "<tr><td>jewelry</td><td>1</td><td>4798.332815388768</td><td>1</td><td>80991.0</td><td>1</td><td>null</td><td>2</td><td>23.0</td><td>(23,[],[])</td></tr>\n",
       "<tr><td>jewelry</td><td>33</td><td>9848.725593936158</td><td>33</td><td>60891.90909090909</td><td>33</td><td>6996.210950909105</td><td>2</td><td>23.0</td><td>(23,[],[])</td></tr>\n",
       "<tr><td>jewelry</td><td>29</td><td>14897.926207832394</td><td>29</td><td>62719.724137931036</td><td>28</td><td>null</td><td>2</td><td>23.0</td><td>(23,[],[])</td></tr>\n",
       "<tr><td>jewelry</td><td>3</td><td>3622.5670910222148</td><td>3</td><td>66842.66666666667</td><td>3</td><td>5551.664760915629</td><td>2</td><td>23.0</td><td>(23,[],[])</td></tr>\n",
       "<tr><td>jewelry</td><td>1</td><td>19486.763586439236</td><td>1</td><td>70738.0</td><td>1</td><td>null</td><td>2</td><td>23.0</td><td>(23,[],[])</td></tr>\n",
       "<tr><td>jewelry</td><td>5</td><td>4844.117193121709</td><td>5</td><td>64499.4</td><td>5</td><td>2973.525203961843</td><td>2</td><td>23.0</td><td>(23,[],[])</td></tr>\n",
       "<tr><td>jewelry</td><td>3</td><td>15354.649596808333</td><td>3</td><td>55943.666666666664</td><td>3</td><td>null</td><td>2</td><td>23.0</td><td>(23,[],[])</td></tr>\n",
       "<tr><td>jewelry</td><td>17</td><td>2647.341100699412</td><td>17</td><td>65339.82352941176</td><td>17</td><td>19953.91134673615</td><td>2</td><td>23.0</td><td>(23,[],[])</td></tr>\n",
       "<tr><td>jewelry</td><td>25</td><td>5595.3254524319445</td><td>25</td><td>66485.2</td><td>25</td><td>20115.019410151996</td><td>2</td><td>23.0</td><td>(23,[],[])</td></tr>\n",
       "<tr><td>jewelry</td><td>8</td><td>5941.016886764306</td><td>8</td><td>66250.375</td><td>8</td><td>3256.861150012915</td><td>2</td><td>23.0</td><td>(23,[],[])</td></tr>\n",
       "<tr><td>jewelry</td><td>2</td><td>14824.15814242188</td><td>2</td><td>52876.5</td><td>2</td><td>null</td><td>2</td><td>23.0</td><td>(23,[],[])</td></tr>\n",
       "<tr><td>jewelry</td><td>4</td><td>13289.234099080675</td><td>4</td><td>58431.25</td><td>4</td><td>null</td><td>2</td><td>23.0</td><td>(23,[],[])</td></tr>\n",
       "<tr><td>jewelry</td><td>1</td><td>319.7081195572956</td><td>1</td><td>49946.0</td><td>1</td><td>700.0913339069108</td><td>2</td><td>23.0</td><td>(23,[],[])</td></tr>\n",
       "<tr><td>jewelry</td><td>18</td><td>5410.073769595744</td><td>18</td><td>59201.88888888889</td><td>18</td><td>11770.612636336045</td><td>2</td><td>23.0</td><td>(23,[],[])</td></tr>\n",
       "<tr><td>jewelry</td><td>1</td><td>3711.122084635986</td><td>1</td><td>49777.0</td><td>1</td><td>null</td><td>2</td><td>23.0</td><td>(23,[],[])</td></tr>\n",
       "<tr><td>jewelry</td><td>1</td><td>23209.41867701007</td><td>1</td><td>91115.0</td><td>1</td><td>null</td><td>2</td><td>23.0</td><td>(23,[],[])</td></tr>\n",
       "<tr><td>jewelry</td><td>12</td><td>4258.345901268099</td><td>12</td><td>59045.333333333336</td><td>12</td><td>13047.342951872623</td><td>2</td><td>23.0</td><td>(23,[],[])</td></tr>\n",
       "</table>\n",
       "only showing top 20 rows\n"
      ],
      "text/plain": [
       "+-------+------------------+------------------+---------------------+------------------+------------------+------------------+----------+--------+----------+\n",
       "|    tag|total_num_consumer|  avg_dollar_value|total_num_transaction|       mean_income|total_num_postcode|next_total_revenue|tag_labels|tagIndex|    tagOHE|\n",
       "+-------+------------------+------------------+---------------------+------------------+------------------+------------------+----------+--------+----------+\n",
       "|jewelry|                 8| 10439.40181102842|                    8|         61840.875|                 8|              null|         2|    23.0|(23,[],[])|\n",
       "|jewelry|                 1| 6987.246435378608|                    1|           48235.0|                 1|              null|         2|    23.0|(23,[],[])|\n",
       "|jewelry|                 2|1396.3251261623384|                    2|           54250.5|                 2|              null|         2|    23.0|(23,[],[])|\n",
       "|jewelry|                 1| 4798.332815388768|                    1|           80991.0|                 1|              null|         2|    23.0|(23,[],[])|\n",
       "|jewelry|                33| 9848.725593936158|                   33| 60891.90909090909|                33| 6996.210950909105|         2|    23.0|(23,[],[])|\n",
       "|jewelry|                29|14897.926207832394|                   29|62719.724137931036|                28|              null|         2|    23.0|(23,[],[])|\n",
       "|jewelry|                 3|3622.5670910222148|                    3| 66842.66666666667|                 3| 5551.664760915629|         2|    23.0|(23,[],[])|\n",
       "|jewelry|                 1|19486.763586439236|                    1|           70738.0|                 1|              null|         2|    23.0|(23,[],[])|\n",
       "|jewelry|                 5| 4844.117193121709|                    5|           64499.4|                 5| 2973.525203961843|         2|    23.0|(23,[],[])|\n",
       "|jewelry|                 3|15354.649596808333|                    3|55943.666666666664|                 3|              null|         2|    23.0|(23,[],[])|\n",
       "|jewelry|                17| 2647.341100699412|                   17| 65339.82352941176|                17| 19953.91134673615|         2|    23.0|(23,[],[])|\n",
       "|jewelry|                25|5595.3254524319445|                   25|           66485.2|                25|20115.019410151996|         2|    23.0|(23,[],[])|\n",
       "|jewelry|                 8| 5941.016886764306|                    8|         66250.375|                 8| 3256.861150012915|         2|    23.0|(23,[],[])|\n",
       "|jewelry|                 2| 14824.15814242188|                    2|           52876.5|                 2|              null|         2|    23.0|(23,[],[])|\n",
       "|jewelry|                 4|13289.234099080675|                    4|          58431.25|                 4|              null|         2|    23.0|(23,[],[])|\n",
       "|jewelry|                 1| 319.7081195572956|                    1|           49946.0|                 1| 700.0913339069108|         2|    23.0|(23,[],[])|\n",
       "|jewelry|                18| 5410.073769595744|                   18| 59201.88888888889|                18|11770.612636336045|         2|    23.0|(23,[],[])|\n",
       "|jewelry|                 1| 3711.122084635986|                    1|           49777.0|                 1|              null|         2|    23.0|(23,[],[])|\n",
       "|jewelry|                 1| 23209.41867701007|                    1|           91115.0|                 1|              null|         2|    23.0|(23,[],[])|\n",
       "|jewelry|                12| 4258.345901268099|                   12|59045.333333333336|                12|13047.342951872623|         2|    23.0|(23,[],[])|\n",
       "+-------+------------------+------------------+---------------------+------------------+------------------+------------------+----------+--------+----------+\n",
       "only showing top 20 rows"
      ]
     },
     "execution_count": 54,
     "metadata": {},
     "output_type": "execute_result"
    }
   ],
   "source": [
    "# change tags into numeric feature by one hot encoding\n",
    "indexer = StringIndexer(inputCol=\"tag\", outputCol=\"tagIndex\")\n",
    "revenue_df = indexer.fit(revenue_df).transform(revenue_df)\n",
    "ohe = OneHotEncoder(inputCol=\"tagIndex\", outputCol=\"tagOHE\")\n",
    "revenue_df = ohe.fit(revenue_df).transform(revenue_df)\n",
    "revenue_df"
   ]
  },
  {
   "cell_type": "code",
   "execution_count": 55,
   "metadata": {},
   "outputs": [
    {
     "name": "stdout",
     "output_type": "stream",
     "text": [
      "Correlation to next_total_revenue for  total_num_consumer 0.7410793330888668\n",
      "Correlation to next_total_revenue for  avg_dollar_value -0.09721738918447717\n",
      "Correlation to next_total_revenue for  total_num_transaction 0.6509905314160019\n",
      "Correlation to next_total_revenue for  mean_income 0.014726025333045787\n",
      "Correlation to next_total_revenue for  total_num_postcode 0.6656045508317902\n",
      "Correlation to next_total_revenue for  next_total_revenue 1.0\n",
      "Correlation to next_total_revenue for  tag_labels -0.028666428658009408\n",
      "Correlation to next_total_revenue for  tagIndex -0.10513625584784485\n"
     ]
    }
   ],
   "source": [
    "import six\n",
    "for i in revenue_df.columns[:-1]:\n",
    "    if not( isinstance(revenue_df.select(i).take(1)[0][0], six.string_types)):\n",
    "        print( \"Correlation to next_total_revenue for \", i, revenue_df.stat.corr('next_total_revenue',i))"
   ]
  },
  {
   "cell_type": "markdown",
   "metadata": {},
   "source": [
    "### Vectorization"
   ]
  },
  {
   "cell_type": "code",
   "execution_count": 56,
   "metadata": {},
   "outputs": [],
   "source": [
    "features = ['total_num_consumer', 'avg_dollar_value', 'total_num_transaction', 'mean_income', 'total_num_postcode', 'tagOHE']\n",
    "assembler = VectorAssembler(inputCols=features, outputCol='features')\n",
    "final_revenue_df = assembler.transform(revenue_df)\n",
    "final_revenue_df = final_revenue_df.select('features','next_total_revenue')"
   ]
  },
  {
   "cell_type": "markdown",
   "metadata": {},
   "source": [
    "### Model fitting"
   ]
  },
  {
   "cell_type": "code",
   "execution_count": 94,
   "metadata": {},
   "outputs": [],
   "source": [
    "# missing values will not be included\n",
    "train_df, test_df = (final_revenue_df.drop('tag', 'tagIndex').filter(F.col('next_total_revenue').isNotNull())).randomSplit([0.7, 0.3])"
   ]
  },
  {
   "cell_type": "code",
   "execution_count": 84,
   "metadata": {},
   "outputs": [],
   "source": [
    "train_df, test_df = (final_revenue_df.filter((F.col('next_total_revenue').isNotNull())&(F.col('tag_labels')==1))).drop('tag', 'tagIndex', 'tag_labels').randomSplit([0.7, 0.3])"
   ]
  },
  {
   "cell_type": "code",
   "execution_count": 95,
   "metadata": {},
   "outputs": [
    {
     "data": {
      "text/plain": [
       "(2665, 1119)"
      ]
     },
     "execution_count": 95,
     "metadata": {},
     "output_type": "execute_result"
    }
   ],
   "source": [
    "train_df.count(), test_df.count()"
   ]
  },
  {
   "cell_type": "code",
   "execution_count": 93,
   "metadata": {},
   "outputs": [
    {
     "data": {
      "text/html": [
       "<table border='1'>\n",
       "<tr><th>features</th><th>next_total_revenue</th></tr>\n",
       "<tr><td>(28,[0,1,2,3,4,5]...</td><td>2117.7887469597626</td></tr>\n",
       "<tr><td>(28,[0,1,2,3,4,5]...</td><td>2624.8015545185413</td></tr>\n",
       "<tr><td>(28,[0,1,2,3,4,5]...</td><td>17257.12863751407</td></tr>\n",
       "<tr><td>(28,[0,1,2,3,4,5]...</td><td>24217.897520994058</td></tr>\n",
       "<tr><td>(28,[0,1,2,3,4,5]...</td><td>53248.10549365473</td></tr>\n",
       "<tr><td>(28,[0,1,2,3,4,5]...</td><td>9662.469562619945</td></tr>\n",
       "<tr><td>(28,[0,1,2,3,4,5]...</td><td>38692.67439389365</td></tr>\n",
       "<tr><td>(28,[0,1,2,3,4,5]...</td><td>18686.29029154868</td></tr>\n",
       "<tr><td>(28,[0,1,2,3,4,5]...</td><td>22074.99856066441</td></tr>\n",
       "<tr><td>(28,[0,1,2,3,4,5]...</td><td>22465.136709436512</td></tr>\n",
       "<tr><td>(28,[0,1,2,3,4,5]...</td><td>6669.5712197070525</td></tr>\n",
       "<tr><td>(28,[0,1,2,3,4,5]...</td><td>7662.348508455224</td></tr>\n",
       "<tr><td>(28,[0,1,2,3,4,5]...</td><td>75683.95506697436</td></tr>\n",
       "<tr><td>(28,[0,1,2,3,4,5]...</td><td>30822.11966903783</td></tr>\n",
       "<tr><td>(28,[0,1,2,3,4,5]...</td><td>27743.718224116834</td></tr>\n",
       "<tr><td>(28,[0,1,2,3,4,5]...</td><td>25826.219229145478</td></tr>\n",
       "<tr><td>(28,[0,1,2,3,4,5]...</td><td>12184.883889297475</td></tr>\n",
       "<tr><td>(28,[0,1,2,3,4,5]...</td><td>28967.859022303237</td></tr>\n",
       "<tr><td>(28,[0,1,2,3,4,5]...</td><td>6476.664338245466</td></tr>\n",
       "<tr><td>(28,[0,1,2,3,4,5]...</td><td>41257.66690760631</td></tr>\n",
       "</table>\n",
       "only showing top 20 rows\n"
      ],
      "text/plain": [
       "+--------------------+------------------+\n",
       "|            features|next_total_revenue|\n",
       "+--------------------+------------------+\n",
       "|(28,[0,1,2,3,4,5]...|2117.7887469597626|\n",
       "|(28,[0,1,2,3,4,5]...|2624.8015545185413|\n",
       "|(28,[0,1,2,3,4,5]...| 17257.12863751407|\n",
       "|(28,[0,1,2,3,4,5]...|24217.897520994058|\n",
       "|(28,[0,1,2,3,4,5]...| 53248.10549365473|\n",
       "|(28,[0,1,2,3,4,5]...| 9662.469562619945|\n",
       "|(28,[0,1,2,3,4,5]...| 38692.67439389365|\n",
       "|(28,[0,1,2,3,4,5]...| 18686.29029154868|\n",
       "|(28,[0,1,2,3,4,5]...| 22074.99856066441|\n",
       "|(28,[0,1,2,3,4,5]...|22465.136709436512|\n",
       "|(28,[0,1,2,3,4,5]...|6669.5712197070525|\n",
       "|(28,[0,1,2,3,4,5]...| 7662.348508455224|\n",
       "|(28,[0,1,2,3,4,5]...| 75683.95506697436|\n",
       "|(28,[0,1,2,3,4,5]...| 30822.11966903783|\n",
       "|(28,[0,1,2,3,4,5]...|27743.718224116834|\n",
       "|(28,[0,1,2,3,4,5]...|25826.219229145478|\n",
       "|(28,[0,1,2,3,4,5]...|12184.883889297475|\n",
       "|(28,[0,1,2,3,4,5]...|28967.859022303237|\n",
       "|(28,[0,1,2,3,4,5]...| 6476.664338245466|\n",
       "|(28,[0,1,2,3,4,5]...| 41257.66690760631|\n",
       "+--------------------+------------------+\n",
       "only showing top 20 rows"
      ]
     },
     "execution_count": 93,
     "metadata": {},
     "output_type": "execute_result"
    }
   ],
   "source": [
    "train_df"
   ]
  },
  {
   "cell_type": "markdown",
   "metadata": {},
   "source": [
    "#### Linear Regression"
   ]
  },
  {
   "cell_type": "code",
   "execution_count": 70,
   "metadata": {},
   "outputs": [
    {
     "data": {
      "text/plain": [
       "LinearRegressionModel: uid=LinearRegression_6e451e88950d, numFeatures=28"
      ]
     },
     "execution_count": 70,
     "metadata": {},
     "output_type": "execute_result"
    }
   ],
   "source": [
    "lr = LinearRegression(labelCol='next_total_revenue', maxIter=10, regParam=0.3, elasticNetParam=0.8)\n",
    "fitted_model = lr.fit(train_df)\n",
    "fitted_model.setFeaturesCol(\"features\")\n",
    "fitted_model.setPredictionCol(\"prediction\")"
   ]
  },
  {
   "cell_type": "code",
   "execution_count": 71,
   "metadata": {},
   "outputs": [
    {
     "name": "stdout",
     "output_type": "stream",
     "text": [
      "Coefficients: [147.97843327117232,0.0,85.32570319599924,-0.18986513944769598,742.9054500956163,0.0,0.0,0.0,0.0,0.0,0.0,0.0,0.0,0.0,0.0,0.0,0.0,0.0,0.0,0.0,0.0,0.0,0.0,0.0,-3877.6635050366026,26675.10544928082,36123.76329516014,-40682.64170626974]\n",
      "Intercept: 5998.93209095228\n"
     ]
    }
   ],
   "source": [
    "print(\"Coefficients: %s\" % str(fitted_model.coefficients))\n",
    "print(\"Intercept: %s\" % str(fitted_model.intercept))"
   ]
  },
  {
   "cell_type": "code",
   "execution_count": 72,
   "metadata": {},
   "outputs": [
    {
     "name": "stdout",
     "output_type": "stream",
     "text": [
      "numIterations: 10\n",
      "objectiveHistory: [0.5, 0.4385975131930148, 0.28474438258461315, 0.2438504274460106, 0.2320701436019277, 0.22791134986155795, 0.22516858238985782, 0.2223296969928053, 0.2185053253088702, 0.21622820881221053, 0.21353154419677323]\n",
      "+------------------+\n",
      "|         residuals|\n",
      "+------------------+\n",
      "| 7432.119075475288|\n",
      "|2346.3565332611465|\n",
      "|  8554.88947340806|\n",
      "|  34323.6694849341|\n",
      "|12593.180083608859|\n",
      "|3102.1682635621364|\n",
      "|15897.226152553725|\n",
      "| 2322.704138401477|\n",
      "| 7172.715790443264|\n",
      "|2026.8890543954844|\n",
      "|7144.1179169566485|\n",
      "|20944.705869157704|\n",
      "|281.43900160423595|\n",
      "| 6544.546269235913|\n",
      "| -512.605162724487|\n",
      "| 9765.170990116087|\n",
      "|-559.7171232905239|\n",
      "|7021.5244212037505|\n",
      "|18164.623668186414|\n",
      "|-34480.81848949313|\n",
      "+------------------+\n",
      "only showing top 20 rows\n",
      "\n",
      "RMSE: 218965.638903\n",
      "r2: 0.572938\n"
     ]
    }
   ],
   "source": [
    "trainingSummary = fitted_model.summary\n",
    "print(\"numIterations: %d\" % trainingSummary.totalIterations)\n",
    "print(\"objectiveHistory: %s\" % str(trainingSummary.objectiveHistory))\n",
    "trainingSummary.residuals.show()\n",
    "print(\"RMSE: %f\" % trainingSummary.rootMeanSquaredError)\n",
    "print(\"r2: %f\" % trainingSummary.r2)"
   ]
  },
  {
   "cell_type": "code",
   "execution_count": 73,
   "metadata": {},
   "outputs": [
    {
     "name": "stdout",
     "output_type": "stream",
     "text": [
      "+-------+------------------+\n",
      "|summary|next_total_revenue|\n",
      "+-------+------------------+\n",
      "|  count|               260|\n",
      "|   mean|115747.37453880043|\n",
      "| stddev| 335712.4942268983|\n",
      "|    min|146.56267111256705|\n",
      "|    max| 2578899.989549712|\n",
      "+-------+------------------+\n",
      "\n"
     ]
    }
   ],
   "source": [
    "train_df.describe().show()"
   ]
  },
  {
   "cell_type": "markdown",
   "metadata": {},
   "source": [
    "##### Linear Regression Evaluation"
   ]
  },
  {
   "cell_type": "code",
   "execution_count": 74,
   "metadata": {},
   "outputs": [
    {
     "name": "stdout",
     "output_type": "stream",
     "text": [
      "+-------------------+------------------+--------------------+\n",
      "|         prediction|next_total_revenue|            features|\n",
      "+-------------------+------------------+--------------------+\n",
      "|-2507.8625773395534| 700.0913339069108|(28,[0,1,2,3,4],[...|\n",
      "| -3763.531377081882| 5551.664760915629|(28,[0,1,2,3,4],[...|\n",
      "| -3820.870649195086|15361.340843110367|(28,[0,1,2,3,4],[...|\n",
      "| -1093.123507037396| 6330.006413055507|(28,[0,1,2,3,4],[...|\n",
      "| 439.78965489998154|12730.592472437624|(28,[0,1,2,3,4],[...|\n",
      "|-1366.2075515265024| 2973.525203961843|(28,[0,1,2,3,4],[...|\n",
      "| 1848.6737562512335| 7714.789567461943|(28,[0,1,2,3,4],[...|\n",
      "| 3023.4144696979356|3284.6497179037897|(28,[0,1,2,3,4],[...|\n",
      "|   5876.74802949784| 71807.61440922701|(28,[0,1,2,3,4],[...|\n",
      "|  5676.725105089693|3364.4301006651253|(28,[0,1,2,3,4],[...|\n",
      "+-------------------+------------------+--------------------+\n",
      "only showing top 10 rows\n",
      "\n",
      "R Squared (R2) on test data = 0.613892\n"
     ]
    }
   ],
   "source": [
    "lr_predictions = fitted_model.transform(test_df)\n",
    "lr_predictions.select(\"prediction\",\"next_total_revenue\",\"features\").show(10)\n",
    "lr_evaluator = RegressionEvaluator(predictionCol=\"prediction\", \\\n",
    "                 labelCol=\"next_total_revenue\",metricName=\"r2\")\n",
    "print(\"R Squared (R2) on test data = %g\" % lr_evaluator.evaluate(lr_predictions))"
   ]
  },
  {
   "cell_type": "code",
   "execution_count": null,
   "metadata": {},
   "outputs": [],
   "source": []
  },
  {
   "cell_type": "code",
   "execution_count": null,
   "metadata": {},
   "outputs": [],
   "source": []
  },
  {
   "cell_type": "code",
   "execution_count": 106,
   "metadata": {},
   "outputs": [],
   "source": [
    "from pyspark.ml.regression import GeneralizedLinearRegression\n",
    "glr = GeneralizedLinearRegression(labelCol='next_total_revenue', family=\"gamma\", link=\"inverse\", maxIter=10, regParam=0.3)\n",
    "model = glr.fit(train_df)\n",
    "summary = model.summary"
   ]
  },
  {
   "cell_type": "code",
   "execution_count": 107,
   "metadata": {},
   "outputs": [
    {
     "name": "stdout",
     "output_type": "stream",
     "text": [
      "Coefficients: [-5.081981829145639e+35,-2.6870343238436396e+34,6.678906219871052e+34,-2.163592960903312e+33,-2.294703291151991e+34,-4.92718762286847e+36,8.400747166426864e+36,-5.605131552930673e+36,-1.7198318993286945e+36,3.2235886586410473e+36,-2.158475653750893e+35,-3.7379337761048877e+36,4.818852487444756e+36,3.9813588208546056e+36,4.080970583519597e+36,-4.676779563277705e+35,-3.0601522088596924e+36,-3.286057039141181e+36,-2.873629466789348e+36,-3.8704207786982195e+36,-1.757855944350198e+36,2.783813584487964e+36,-2.069366545011462e+36,6.517096251093483e+35,1.4196427137124834e+36,1.2734316058753377e+36,7.62234692965126e+35,8.931461421116118e+35]\n",
      "Intercept: 9.011220949745152e+37\n"
     ]
    }
   ],
   "source": [
    "print(\"Coefficients: \" + str(model.coefficients))\n",
    "print(\"Intercept: \" + str(model.intercept))"
   ]
  },
  {
   "cell_type": "code",
   "execution_count": 108,
   "metadata": {},
   "outputs": [
    {
     "name": "stdout",
     "output_type": "stream",
     "text": [
      "Coefficient Standard Errors: [1.0313239414198771e+34, 3.478628089243441e+33, 3.5683495996081674e+33, 1.0816705970704932e+33, 1.4503718984533777e+34, 5.539912749322146e+36, 5.893721277193464e+36, 5.844093458400502e+36, 5.876675126188564e+36, 5.87325712140477e+36, 5.848886994636668e+36, 5.868749562497159e+36, 5.855177161171895e+36, 5.877248737248757e+36, 5.896620810168444e+36, 5.903887371388085e+36, 5.905115307859655e+36, 5.904614198395587e+36, 5.937275150656821e+36, 5.911421045557285e+36, 5.938595972689419e+36, 5.938813105595627e+36, 5.954762089698656e+36, 5.961939652059689e+36, 6.033865684468139e+36, 6.07838891654262e+36, 6.110853304354673e+36, 6.151512087390794e+36, 6.8105032215591325e+37]\n",
      "T Values: [-49.276290649754635, -7.724408171579033, 18.71707363147503, -2.000232757332045, -1.5821482018501438, -0.8893980547746626, 1.4253723193417152, -0.9591105263509541, -0.2926539007855835, 0.5488587664403202, -0.036904040986433476, -0.6369216706726183, 0.8230071191356194, 0.6774188057792411, 0.6920863177232215, -0.07921525715315483, -0.518220567985634, -0.5565235811738682, -0.4839980283668423, -0.6547361030233204, -0.29600531041920936, 0.4687491481867006, -0.34751456293968974, 0.10931167759878285, 0.23527913744696144, 0.20950150169062626, 0.12473457551696547, 0.14519131709784966, 1.3231358471749182]\n",
      "P Values: [0.0, 1.5765166949677223e-14, 0.0, 0.045577548704052395, 0.11373570853437709, 0.373870347019031, 0.15416800032789313, 0.3375910286634314, 0.7698097430097546, 0.583148862233738, 0.9705643120707692, 0.5242311739065457, 0.41057839100855364, 0.49819971790658224, 0.48894407964900544, 0.9368674220753181, 0.604347878585948, 0.5779002191001614, 0.6284274743074745, 0.5126948004784024, 0.7672493423752482, 0.6392877133928447, 0.7282325242371877, 0.9129636051187653, 0.814010362333029, 0.8340729523970847, 0.9007431948718918, 0.8845709215977045, 0.18590496287811265]\n",
      "Dispersion: 3.169664478167721e+44\n",
      "Null Deviance: 8677.211261863666\n",
      "Residual Degree Of Freedom Null: 2664\n",
      "Deviance: 3.3254293671964074e+25\n",
      "Residual Degree Of Freedom: 2636\n",
      "AIC: 336351.1814847828\n",
      "Deviance Residuals: \n",
      "+--------------------+\n",
      "|   devianceResiduals|\n",
      "+--------------------+\n",
      "| 3.741901478945994E9|\n",
      "|4.0363982826038165E9|\n",
      "|2.8376090545145783E9|\n",
      "|  8.07608033274177E9|\n",
      "|1.752788683390577...|\n",
      "|2.655011951159562E10|\n",
      "|1.591264103877512E10|\n",
      "|1.125167224287617...|\n",
      "|1.7120903662632241E9|\n",
      "|1.595656132908191...|\n",
      "|1.733060360248316E10|\n",
      "| 7.711712136694216E9|\n",
      "| 8.328379104540604E9|\n",
      "|1.307846639166327...|\n",
      "|   8.0707634707169E9|\n",
      "|1.352244817261679...|\n",
      "| 8.105121489408768E9|\n",
      "|2.132919870453697E10|\n",
      "| 5.186153149242023E9|\n",
      "|3.789659995546487...|\n",
      "+--------------------+\n",
      "only showing top 20 rows\n",
      "\n"
     ]
    }
   ],
   "source": [
    "print(\"Coefficient Standard Errors: \" + str(summary.coefficientStandardErrors))\n",
    "print(\"T Values: \" + str(summary.tValues))\n",
    "print(\"P Values: \" + str(summary.pValues))\n",
    "print(\"Dispersion: \" + str(summary.dispersion))\n",
    "print(\"Null Deviance: \" + str(summary.nullDeviance))\n",
    "print(\"Residual Degree Of Freedom Null: \" + str(summary.residualDegreeOfFreedomNull))\n",
    "print(\"Deviance: \" + str(summary.deviance))\n",
    "print(\"Residual Degree Of Freedom: \" + str(summary.residualDegreeOfFreedom))\n",
    "print(\"AIC: \" + str(summary.aic))\n",
    "print(\"Deviance Residuals: \")\n",
    "summary.residuals().show()"
   ]
  },
  {
   "cell_type": "code",
   "execution_count": null,
   "metadata": {},
   "outputs": [],
   "source": []
  },
  {
   "cell_type": "markdown",
   "metadata": {},
   "source": [
    "#### Random Forest Regressor"
   ]
  },
  {
   "cell_type": "code",
   "execution_count": 101,
   "metadata": {},
   "outputs": [],
   "source": [
    "from pyspark.ml.regression import RandomForestRegressor\n",
    "from pyspark.ml.evaluation import RegressionEvaluator"
   ]
  },
  {
   "cell_type": "code",
   "execution_count": 102,
   "metadata": {},
   "outputs": [],
   "source": [
    "rf = RandomForestRegressor(numTrees = 10, maxDepth = 10, labelCol='next_total_revenue')"
   ]
  },
  {
   "cell_type": "code",
   "execution_count": 103,
   "metadata": {},
   "outputs": [],
   "source": [
    "model = rf.fit(train_df)\n",
    "result = model.transform(test_df)"
   ]
  },
  {
   "cell_type": "code",
   "execution_count": 104,
   "metadata": {},
   "outputs": [
    {
     "name": "stdout",
     "output_type": "stream",
     "text": [
      "+++++++++++++++++++++++++++++++++++++++++++\n",
      "Using Categorical feature: ['total_num_consumer', 'avg_dollar_value', 'total_num_transaction', 'mean_income', 'total_num_postcode', 'tagOHE']\n",
      "mae:305911.1848229039\n",
      "r2: 0.5990584247955485\n"
     ]
    }
   ],
   "source": [
    "rf_evaluator = RegressionEvaluator(labelCol='next_total_revenue', metricName=\"mae\", predictionCol='prediction')\n",
    "mae = rf_evaluator.evaluate(result)\n",
    "rf_evaluator = RegressionEvaluator(labelCol='next_total_revenue', metricName=\"r2\", predictionCol='prediction')\n",
    "r2 = rf_evaluator.evaluate(result)\n",
    "print('+++++++++++++++++++++++++++++++++++++++++++')\n",
    "print(f'Using Categorical feature: {features}')\n",
    "print('mae:{}'.format(mae))\n",
    "print('r2: {}'.format(r2))"
   ]
  },
  {
   "cell_type": "code",
   "execution_count": 105,
   "metadata": {},
   "outputs": [
    {
     "name": "stdout",
     "output_type": "stream",
     "text": [
      "+------------------+------------------+--------------------+\n",
      "|        prediction|next_total_revenue|            features|\n",
      "+------------------+------------------+--------------------+\n",
      "| 9853.891544733393| 5551.664760915629|(28,[0,1,2,3,4],[...|\n",
      "| 9232.881639069303| 7714.789567461943|(28,[0,1,2,3,4],[...|\n",
      "|40613.649820138045|39997.213284193116|(28,[0,1,2,3,4],[...|\n",
      "|139927.58291571058|21404.354662000824|(28,[0,1,2,3,4],[...|\n",
      "|27048.383025172265| 21214.30272082452|(28,[0,1,2,3,4,5]...|\n",
      "|23631.234895597558| 38692.67439389365|(28,[0,1,2,3,4,5]...|\n",
      "|27895.020971600858| 22074.99856066441|(28,[0,1,2,3,4,5]...|\n",
      "|28025.083524159854| 75683.95506697436|(28,[0,1,2,3,4,5]...|\n",
      "| 29028.92472391144|25826.219229145478|(28,[0,1,2,3,4,5]...|\n",
      "| 38457.01274226319|28967.859022303237|(28,[0,1,2,3,4,5]...|\n",
      "|59881.001715998085|18736.186917799685|(28,[0,1,2,3,4,5]...|\n",
      "|58545.640659440716|22537.278176372223|(28,[0,1,2,3,4,5]...|\n",
      "|65389.267248563505|32046.023857037744|(28,[0,1,2,3,4,5]...|\n",
      "| 38314.06821998696| 26369.07804945074|(28,[0,1,2,3,4,5]...|\n",
      "| 39318.27750219227| 26780.32215735651|(28,[0,1,2,3,4,5]...|\n",
      "|58545.640659440716|  44602.4207131351|(28,[0,1,2,3,4,5]...|\n",
      "| 39315.22562266178|24865.656336998953|(28,[0,1,2,3,4,5]...|\n",
      "|60278.276735790205| 44090.51736500314|(28,[0,1,2,3,4,5]...|\n",
      "|42307.597221394986|31467.761692638152|(28,[0,1,2,3,4,5]...|\n",
      "| 38959.98740598509| 125051.8443299404|(28,[0,1,2,3,4,5]...|\n",
      "+------------------+------------------+--------------------+\n",
      "only showing top 20 rows\n",
      "\n"
     ]
    }
   ],
   "source": [
    "result.select(\"prediction\",\"next_total_revenue\",\"features\").show(20)"
   ]
  },
  {
   "cell_type": "code",
   "execution_count": 19,
   "metadata": {},
   "outputs": [
    {
     "name": "stdout",
     "output_type": "stream",
     "text": [
      "+------------------+------------------+--------------------+\n",
      "|        prediction|next_total_revenue|            features|\n",
      "+------------------+------------------+--------------------+\n",
      "|19566.260698153033| 700.0913339069108|(28,[0,1,2,3,4],[...|\n",
      "| 46132.53320660531|20115.019410151996|(28,[0,1,2,3,4],[...|\n",
      "| 46132.53320660531|25665.858312655597|(28,[0,1,2,3,4],[...|\n",
      "|19566.260698153033|24217.897520994058|(28,[0,1,2,3,4,5]...|\n",
      "|34625.277661725544| 7335.947872319652|(28,[0,1,2,3,4,5]...|\n",
      "+------------------+------------------+--------------------+\n",
      "only showing top 5 rows\n",
      "\n"
     ]
    }
   ],
   "source": [
    "from pyspark.ml.regression import GBTRegressor\n",
    "gbt = GBTRegressor(featuresCol = 'features', labelCol = 'next_total_revenue', maxIter=10)\n",
    "gbt_model = gbt.fit(train_df)\n",
    "gbt_predictions = gbt_model.transform(test_df)\n",
    "gbt_predictions.select('prediction', 'next_total_revenue', 'features').show(5)"
   ]
  },
  {
   "cell_type": "code",
   "execution_count": 20,
   "metadata": {},
   "outputs": [
    {
     "name": "stdout",
     "output_type": "stream",
     "text": [
      "Root Mean Squared Error (RMSE) on test data = 932610\n"
     ]
    }
   ],
   "source": [
    "gbt_evaluator = RegressionEvaluator(\n",
    "    labelCol=\"next_total_revenue\", predictionCol=\"prediction\", metricName=\"rmse\")\n",
    "rmse = gbt_evaluator.evaluate(gbt_predictions)\n",
    "print(\"Root Mean Squared Error (RMSE) on test data = %g\" % rmse)"
   ]
  },
  {
   "cell_type": "code",
   "execution_count": null,
   "metadata": {},
   "outputs": [],
   "source": []
  },
  {
   "cell_type": "code",
   "execution_count": null,
   "metadata": {},
   "outputs": [],
   "source": []
  },
  {
   "cell_type": "code",
   "execution_count": 109,
   "metadata": {},
   "outputs": [
    {
     "data": {
      "text/html": [
       "<table border='1'>\n",
       "<tr><th>tag</th><th>merchant_abn</th><th>total_num_consumer</th><th>avg_dollar_value</th><th>total_num_transaction</th><th>mean_income</th><th>revenue_level</th><th>total_revenue</th><th>total_num_postcode</th><th>next_total_num_consumer</th><th>next_total_revenue</th><th>next_total_num_transaction</th><th>tag_labels</th></tr>\n",
       "<tr><td>jewelry</td><td>10596295795</td><td>8</td><td>10439.40181102842</td><td>8</td><td>61840.875</td><td>a</td><td>571244.0798428855</td><td>8</td><td>null</td><td>null</td><td>null</td><td>2</td></tr>\n",
       "<tr><td>watch</td><td>10187291046</td><td>87</td><td>111.08408713922158</td><td>87</td><td>61060.0459770115</td><td>b</td><td>31795.597893195016</td><td>87</td><td>99</td><td>41683.211213258364</td><td>100</td><td>0</td></tr>\n",
       "<tr><td>watch</td><td>10264435225</td><td>1238</td><td>114.10783402533235</td><td>1272</td><td>62006.311320754714</td><td>c</td><td>346896.9592900661</td><td>1018</td><td>1519</td><td>435003.6795629895</td><td>1566</td><td>0</td></tr>\n",
       "<tr><td>watch</td><td>10922217544</td><td>18</td><td>163.5626661571798</td><td>18</td><td>63804.22222222222</td><td>c</td><td>4946.134870167458</td><td>18</td><td>19</td><td>5880.61894060871</td><td>19</td><td>0</td></tr>\n",
       "<tr><td>shoe</td><td>10955677986</td><td>196</td><td>224.31663343377568</td><td>197</td><td>62081.20304568528</td><td>a</td><td>249233.71917554762</td><td>191</td><td>232</td><td>311007.83981679846</td><td>235</td><td>0</td></tr>\n",
       "<tr><td>tent</td><td>10651113986</td><td>17</td><td>537.592173774402</td><td>17</td><td>57981.94117647059</td><td>b</td><td>29701.967601035707</td><td>17</td><td>24</td><td>40997.390332967654</td><td>24</td><td>3</td></tr>\n",
       "<tr><td>stationery</td><td>10618089367</td><td>903</td><td>382.6779937277748</td><td>919</td><td>63214.549510337325</td><td>b</td><td>1410241.1961990686</td><td>783</td><td>994</td><td>1427868.1901742313</td><td>1011</td><td>0</td></tr>\n",
       "<tr><td>artist supply</td><td>10463252268</td><td>22</td><td>464.0964976850653</td><td>22</td><td>60070.77272727273</td><td>a</td><td>67488.91405656068</td><td>22</td><td>26</td><td>78474.65405470507</td><td>26</td><td>1</td></tr>\n",
       "<tr><td>florists</td><td>10545955006</td><td>108</td><td>475.27264003873785</td><td>108</td><td>63127.56481481482</td><td>a</td><td>316189.37413271976</td><td>106</td><td>133</td><td>359500.80479674053</td><td>133</td><td>1</td></tr>\n",
       "<tr><td>music</td><td>10364012396</td><td>4</td><td>276.08689369891994</td><td>4</td><td>81123.75</td><td>b</td><td>4008.7818228908673</td><td>4</td><td>16</td><td>19636.790814026932</td><td>16</td><td>0</td></tr>\n",
       "<tr><td>music</td><td>10746056613</td><td>67</td><td>75.14601085402924</td><td>67</td><td>65987.23880597015</td><td>a</td><td>34035.13238837724</td><td>67</td><td>72</td><td>35978.902452039714</td><td>72</td><td>0</td></tr>\n",
       "<tr><td>books</td><td>10530696903</td><td>174</td><td>429.6262128784364</td><td>175</td><td>61263.58857142857</td><td>a</td><td>485692.4365271367</td><td>167</td><td>225</td><td>599049.1086622305</td><td>225</td><td>1</td></tr>\n",
       "<tr><td>art dealer</td><td>10739268011</td><td>1</td><td>5275.474679026834</td><td>1</td><td>57933.0</td><td>a</td><td>32971.716743917714</td><td>1</td><td>null</td><td>null</td><td>null</td><td>2</td></tr>\n",
       "<tr><td>motor</td><td>10430380319</td><td>38</td><td>359.1108847340083</td><td>38</td><td>60029.76315789474</td><td>b</td><td>67821.67882777525</td><td>38</td><td>53</td><td>88318.04454751333</td><td>53</td><td>1</td></tr>\n",
       "<tr><td>motor</td><td>10441711491</td><td>1</td><td>9734.857620793187</td><td>1</td><td>57015.0</td><td>a</td><td>56170.12828629902</td><td>1</td><td>null</td><td>null</td><td>null</td><td>1</td></tr>\n",
       "<tr><td>computer</td><td>10255988167</td><td>218</td><td>389.5552654520502</td><td>218</td><td>63146.619266055044</td><td>b</td><td>366867.5813701302</td><td>211</td><td>235</td><td>378005.1467314967</td><td>236</td><td>1</td></tr>\n",
       "<tr><td>computer</td><td>10385250025</td><td>185</td><td>474.1675409676319</td><td>185</td><td>63441.41081081081</td><td>a</td><td>485974.30939143547</td><td>182</td><td>190</td><td>494288.86012436583</td><td>191</td><td>1</td></tr>\n",
       "<tr><td>computer</td><td>10854978569</td><td>17</td><td>286.9896314419789</td><td>17</td><td>68877.11764705883</td><td>b</td><td>20637.424490048885</td><td>17</td><td>28</td><td>32046.023857037744</td><td>28</td><td>1</td></tr>\n",
       "<tr><td>gift</td><td>10462560289</td><td>405</td><td>37.94568323793217</td><td>413</td><td>64556.179176755446</td><td>c</td><td>46231.12392021321</td><td>366</td><td>513</td><td>56043.0017308923</td><td>519</td><td>1</td></tr>\n",
       "<tr><td>gift</td><td>10702078694</td><td>118</td><td>84.5264917722531</td><td>118</td><td>66654.94067796611</td><td>a</td><td>59346.04797088534</td><td>117</td><td>126</td><td>75419.01577529583</td><td>127</td><td>1</td></tr>\n",
       "</table>\n",
       "only showing top 20 rows\n"
      ],
      "text/plain": [
       "DataFrame[tag: string, merchant_abn: bigint, total_num_consumer: bigint, avg_dollar_value: double, total_num_transaction: bigint, mean_income: double, revenue_level: string, total_revenue: double, total_num_postcode: bigint, next_total_num_consumer: bigint, next_total_revenue: double, next_total_num_transaction: bigint, tag_labels: bigint]"
      ]
     },
     "execution_count": 109,
     "metadata": {},
     "output_type": "execute_result"
    }
   ],
   "source": [
    "full"
   ]
  },
  {
   "cell_type": "code",
   "execution_count": null,
   "metadata": {},
   "outputs": [],
   "source": []
  },
  {
   "cell_type": "code",
   "execution_count": null,
   "metadata": {},
   "outputs": [],
   "source": []
  },
  {
   "cell_type": "code",
   "execution_count": null,
   "metadata": {},
   "outputs": [],
   "source": []
  }
 ],
 "metadata": {
  "kernelspec": {
   "display_name": "Python 3.8.10 64-bit",
   "language": "python",
   "name": "python3"
  },
  "language_info": {
   "codemirror_mode": {
    "name": "ipython",
    "version": 3
   },
   "file_extension": ".py",
   "mimetype": "text/x-python",
   "name": "python",
   "nbconvert_exporter": "python",
   "pygments_lexer": "ipython3",
   "version": "3.8.10"
  },
  "orig_nbformat": 4,
  "vscode": {
   "interpreter": {
    "hash": "916dbcbb3f70747c44a77c7bcd40155683ae19c65e1c03b4aa3499c5328201f1"
   }
  }
 },
 "nbformat": 4,
 "nbformat_minor": 2
}
