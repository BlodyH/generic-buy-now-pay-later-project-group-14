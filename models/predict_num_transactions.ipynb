{
 "cells": [
  {
   "cell_type": "code",
   "execution_count": 1,
   "metadata": {},
   "outputs": [],
   "source": [
    "from pyspark.sql import SparkSession\n",
    "from pyspark.sql import functions as F\n",
    "\n",
    "import pandas as pd\n",
    "from sklearn.cluster import KMeans\n",
    "import numpy as np\n",
    "import seaborn as sbs\n",
    "\n",
    "\n",
    "from pyspark.ml.regression import LinearRegression\n",
    "from pyspark.ml.regression import DecisionTreeRegressor\n",
    "from pyspark.ml import Pipeline\n",
    "from pyspark.ml.feature import StringIndexer\n",
    "from pyspark.ml.feature import OneHotEncoder\n",
    "from pyspark.ml.feature import VectorAssembler \n",
    "from pyspark.ml.evaluation import MulticlassClassificationEvaluator\n",
    "from pyspark.ml.evaluation import RegressionEvaluator\n",
    "from pyspark.sql.functions import *"
   ]
  },
  {
   "cell_type": "code",
   "execution_count": 2,
   "metadata": {},
   "outputs": [
    {
     "name": "stdout",
     "output_type": "stream",
     "text": [
      "22/09/27 15:39:52 WARN Utils: Your hostname, CLs-Laptop resolves to a loopback address: 127.0.1.1; using 172.30.186.150 instead (on interface eth0)\n",
      "22/09/27 15:39:52 WARN Utils: Set SPARK_LOCAL_IP if you need to bind to another address\n"
     ]
    },
    {
     "name": "stderr",
     "output_type": "stream",
     "text": [
      "Setting default log level to \"WARN\".\n",
      "To adjust logging level use sc.setLogLevel(newLevel). For SparkR, use setLogLevel(newLevel).\n"
     ]
    },
    {
     "name": "stdout",
     "output_type": "stream",
     "text": [
      "22/09/27 15:39:53 WARN NativeCodeLoader: Unable to load native-hadoop library for your platform... using builtin-java classes where applicable\n"
     ]
    }
   ],
   "source": [
    "# Create a spark session (which will run spark jobs)\n",
    "spark = (\n",
    "    SparkSession.builder.appName(\"MAST30034 Project 2\")\n",
    "    .config(\"spark.sql.repl.eagerEval.enabled\", True) \n",
    "    .config(\"spark.sql.parquet.cacheMetadata\", \"true\")\n",
    "    .config(\"spark.sql.session.timeZone\", \"Etc/UTC\")\n",
    "    .config(\"spark.driver.memory\", \"2g\")\n",
    "    .config(\"spark.executer.memory\", \"4g\")\n",
    "    .getOrCreate()\n",
    ")"
   ]
  },
  {
   "cell_type": "code",
   "execution_count": 3,
   "metadata": {},
   "outputs": [
    {
     "name": "stdout",
     "output_type": "stream",
     "text": [
      "root\n",
      " |-- merchant_abn: long (nullable = true)\n",
      " |-- total_num_consumer: long (nullable = true)\n",
      " |-- avg_dollar_value: double (nullable = true)\n",
      " |-- total_num_transaction: long (nullable = true)\n",
      " |-- mean_income: double (nullable = true)\n",
      " |-- revenue_level: string (nullable = true)\n",
      " |-- total_revenue: double (nullable = true)\n",
      " |-- total_num_postcode: long (nullable = true)\n",
      " |-- tag: string (nullable = true)\n",
      " |-- next_total_num_consumer: long (nullable = true)\n",
      " |-- next_total_revenue: double (nullable = true)\n",
      " |-- next_total_num_transaction: long (nullable = true)\n",
      "\n"
     ]
    }
   ],
   "source": [
    "full = spark.read.parquet('../data/curated/train_data/')\n",
    "full = full.withColumnRenamed('y_total_num_consumer', 'next_total_num_consumer').withColumnRenamed('y_total_revenue', 'next_total_revenue')\\\n",
    "    .withColumnRenamed('y_total_num_transaction', 'next_total_num_transaction')\n",
    "full.printSchema()"
   ]
  },
  {
   "cell_type": "code",
   "execution_count": 4,
   "metadata": {},
   "outputs": [],
   "source": [
    "tag_mean = full.groupBy('tag')\\\n",
    "      .agg(\n",
    "         F.mean(\"total_revenue\").alias(\"mean_revenue_of_tags\")\n",
    "      )"
   ]
  },
  {
   "cell_type": "code",
   "execution_count": 5,
   "metadata": {},
   "outputs": [],
   "source": [
    "tag_mean = tag_mean.toPandas()\n",
    "kmeans = KMeans(n_clusters=4, random_state=0).fit(np.array(tag_mean['mean_revenue_of_tags']).reshape(-1, 1))\n",
    "tag_mean['tag_labels'] = kmeans.labels_"
   ]
  },
  {
   "cell_type": "code",
   "execution_count": 6,
   "metadata": {},
   "outputs": [],
   "source": [
    "tag_mean_sdf = spark.createDataFrame(tag_mean[['tag', 'tag_labels']])"
   ]
  },
  {
   "cell_type": "code",
   "execution_count": 7,
   "metadata": {},
   "outputs": [
    {
     "name": "stderr",
     "output_type": "stream",
     "text": [
      "                                                                                \r"
     ]
    },
    {
     "data": {
      "text/html": [
       "<table border='1'>\n",
       "<tr><th>tag</th><th>merchant_abn</th><th>total_num_consumer</th><th>avg_dollar_value</th><th>total_num_transaction</th><th>mean_income</th><th>revenue_level</th><th>total_revenue</th><th>total_num_postcode</th><th>next_total_num_consumer</th><th>next_total_revenue</th><th>next_total_num_transaction</th><th>tag_labels</th></tr>\n",
       "<tr><td>cable</td><td>10142254217</td><td>731</td><td>41.119659381592804</td><td>750</td><td>62693.954666666665</td><td>b</td><td>130143.71547230528</td><td>642</td><td>918</td><td>154467.9209189612</td><td>925</td><td>0</td></tr>\n",
       "<tr><td>watch</td><td>10187291046</td><td>87</td><td>111.08408713922161</td><td>87</td><td>61060.0459770115</td><td>b</td><td>31795.59789319502</td><td>87</td><td>99</td><td>41683.211213258364</td><td>100</td><td>0</td></tr>\n",
       "<tr><td>watch</td><td>10264435225</td><td>1238</td><td>114.10783402533238</td><td>1272</td><td>62006.311320754714</td><td>c</td><td>346896.9592900661</td><td>1018</td><td>1519</td><td>435003.67956298945</td><td>1566</td><td>0</td></tr>\n",
       "<tr><td>artist supply</td><td>10385011947</td><td>6</td><td>526.8134669489664</td><td>6</td><td>55291.166666666664</td><td>b</td><td>10019.992382525408</td><td>6</td><td>9</td><td>18926.917288619916</td><td>9</td><td>1</td></tr>\n",
       "<tr><td>artist supply</td><td>10463252268</td><td>22</td><td>464.09649768506534</td><td>22</td><td>60070.77272727273</td><td>a</td><td>67488.91405656066</td><td>22</td><td>26</td><td>78474.65405470505</td><td>26</td><td>1</td></tr>\n",
       "<tr><td>artist supply</td><td>10487253336</td><td>629</td><td>449.0344083022497</td><td>635</td><td>63669.83464566929</td><td>b</td><td>1117736.4709001747</td><td>587</td><td>715</td><td>1206457.0200268542</td><td>733</td><td>1</td></tr>\n",
       "<tr><td>florists</td><td>10385163239</td><td>17</td><td>350.0866763834393</td><td>17</td><td>58553.117647058825</td><td>a</td><td>39339.24061981452</td><td>16</td><td>22</td><td>52838.18504617854</td><td>22</td><td>1</td></tr>\n",
       "<tr><td>music</td><td>10192359162</td><td>107</td><td>451.1432080236007</td><td>107</td><td>65637.3831775701</td><td>a</td><td>305563.80254357896</td><td>107</td><td>109</td><td>306970.12786372635</td><td>109</td><td>0</td></tr>\n",
       "<tr><td>music</td><td>10364012396</td><td>4</td><td>276.0868936989199</td><td>4</td><td>81123.75</td><td>b</td><td>4008.7818228908677</td><td>4</td><td>16</td><td>19636.79081402693</td><td>16</td><td>0</td></tr>\n",
       "<tr><td>books</td><td>10530696903</td><td>174</td><td>429.6262128784364</td><td>175</td><td>61263.58857142857</td><td>a</td><td>485692.4365271367</td><td>167</td><td>226</td><td>606552.0421588302</td><td>226</td><td>1</td></tr>\n",
       "<tr><td>furniture</td><td>10023283211</td><td>808</td><td>209.0251604007696</td><td>823</td><td>62506.642770352366</td><td>e</td><td>30964.988492208053</td><td>719</td><td>979</td><td>38867.81560628395</td><td>1001</td><td>1</td></tr>\n",
       "<tr><td>furniture</td><td>10323485998</td><td>2475</td><td>128.98933167858425</td><td>2621</td><td>62792.286913391836</td><td>a</td><td>2234715.7084971434</td><td>1730</td><td>2974</td><td>2765582.918877613</td><td>3191</td><td>1</td></tr>\n",
       "<tr><td>motor</td><td>10430380319</td><td>38</td><td>359.1108847340083</td><td>38</td><td>60029.76315789474</td><td>b</td><td>67821.67882777526</td><td>38</td><td>53</td><td>88318.04454751335</td><td>53</td><td>1</td></tr>\n",
       "<tr><td>motor</td><td>10441711491</td><td>1</td><td>9734.857620793187</td><td>1</td><td>57015.0</td><td>a</td><td>56170.12828629902</td><td>1</td><td>null</td><td>null</td><td>null</td><td>1</td></tr>\n",
       "<tr><td>computer</td><td>10255988167</td><td>218</td><td>389.55526545205026</td><td>218</td><td>63146.619266055044</td><td>b</td><td>366867.5813701301</td><td>211</td><td>235</td><td>378005.14673149673</td><td>236</td><td>1</td></tr>\n",
       "<tr><td>computer</td><td>10279061213</td><td>130</td><td>308.35150039873355</td><td>130</td><td>63676.28461538462</td><td>a</td><td>228889.32027512783</td><td>127</td><td>161</td><td>273146.77071188006</td><td>161</td><td>1</td></tr>\n",
       "<tr><td>computer</td><td>10342410215</td><td>238</td><td>378.01697139409276</td><td>238</td><td>61579.6512605042</td><td>a</td><td>570397.3822040078</td><td>227</td><td>272</td><td>654693.9778432945</td><td>274</td><td>1</td></tr>\n",
       "<tr><td>computer</td><td>10385250025</td><td>185</td><td>474.16754096763196</td><td>185</td><td>63441.41081081081</td><td>a</td><td>485974.3093914355</td><td>182</td><td>190</td><td>494288.8601243658</td><td>191</td><td>1</td></tr>\n",
       "<tr><td>equipment</td><td>10346855916</td><td>5</td><td>1331.0255719326199</td><td>5</td><td>61863.6</td><td>b</td><td>23758.806014719547</td><td>5</td><td>null</td><td>null</td><td>null</td><td>2</td></tr>\n",
       "<tr><td>gift</td><td>10206519221</td><td>2244</td><td>39.209216582035744</td><td>2370</td><td>62122.52278481013</td><td>a</td><td>589149.8606977111</td><td>1619</td><td>2662</td><td>666766.406705429</td><td>2811</td><td>1</td></tr>\n",
       "</table>\n",
       "only showing top 20 rows\n"
      ],
      "text/plain": [
       "+-------------+------------+------------------+------------------+---------------------+------------------+-------------+------------------+------------------+-----------------------+------------------+--------------------------+----------+\n",
       "|          tag|merchant_abn|total_num_consumer|  avg_dollar_value|total_num_transaction|       mean_income|revenue_level|     total_revenue|total_num_postcode|next_total_num_consumer|next_total_revenue|next_total_num_transaction|tag_labels|\n",
       "+-------------+------------+------------------+------------------+---------------------+------------------+-------------+------------------+------------------+-----------------------+------------------+--------------------------+----------+\n",
       "|        cable| 10142254217|               731|41.119659381592804|                  750|62693.954666666665|            b|130143.71547230528|               642|                    918| 154467.9209189612|                       925|         0|\n",
       "|        watch| 10187291046|                87|111.08408713922161|                   87|  61060.0459770115|            b| 31795.59789319502|                87|                     99|41683.211213258364|                       100|         0|\n",
       "|        watch| 10264435225|              1238|114.10783402533238|                 1272|62006.311320754714|            c| 346896.9592900661|              1018|                   1519|435003.67956298945|                      1566|         0|\n",
       "|artist supply| 10385011947|                 6| 526.8134669489664|                    6|55291.166666666664|            b|10019.992382525408|                 6|                      9|18926.917288619916|                         9|         1|\n",
       "|artist supply| 10463252268|                22|464.09649768506534|                   22| 60070.77272727273|            a| 67488.91405656066|                22|                     26| 78474.65405470505|                        26|         1|\n",
       "|artist supply| 10487253336|               629| 449.0344083022497|                  635| 63669.83464566929|            b|1117736.4709001747|               587|                    715|1206457.0200268542|                       733|         1|\n",
       "|     florists| 10385163239|                17| 350.0866763834393|                   17|58553.117647058825|            a| 39339.24061981452|                16|                     22| 52838.18504617854|                        22|         1|\n",
       "|        music| 10192359162|               107| 451.1432080236007|                  107|  65637.3831775701|            a|305563.80254357896|               107|                    109|306970.12786372635|                       109|         0|\n",
       "|        music| 10364012396|                 4| 276.0868936989199|                    4|          81123.75|            b|4008.7818228908677|                 4|                     16| 19636.79081402693|                        16|         0|\n",
       "|        books| 10530696903|               174| 429.6262128784364|                  175| 61263.58857142857|            a| 485692.4365271367|               167|                    226| 606552.0421588302|                       226|         1|\n",
       "|    furniture| 10023283211|               808| 209.0251604007696|                  823|62506.642770352366|            e|30964.988492208053|               719|                    979| 38867.81560628395|                      1001|         1|\n",
       "|    furniture| 10323485998|              2475|128.98933167858425|                 2621|62792.286913391836|            a|2234715.7084971434|              1730|                   2974| 2765582.918877613|                      3191|         1|\n",
       "|        motor| 10430380319|                38| 359.1108847340083|                   38| 60029.76315789474|            b| 67821.67882777526|                38|                     53| 88318.04454751335|                        53|         1|\n",
       "|        motor| 10441711491|                 1| 9734.857620793187|                    1|           57015.0|            a| 56170.12828629902|                 1|                   null|              null|                      null|         1|\n",
       "|     computer| 10255988167|               218|389.55526545205026|                  218|63146.619266055044|            b| 366867.5813701301|               211|                    235|378005.14673149673|                       236|         1|\n",
       "|     computer| 10279061213|               130|308.35150039873355|                  130| 63676.28461538462|            a|228889.32027512783|               127|                    161|273146.77071188006|                       161|         1|\n",
       "|     computer| 10342410215|               238|378.01697139409276|                  238|  61579.6512605042|            a| 570397.3822040078|               227|                    272| 654693.9778432945|                       274|         1|\n",
       "|     computer| 10385250025|               185|474.16754096763196|                  185| 63441.41081081081|            a| 485974.3093914355|               182|                    190| 494288.8601243658|                       191|         1|\n",
       "|    equipment| 10346855916|                 5|1331.0255719326199|                    5|           61863.6|            b|23758.806014719547|                 5|                   null|              null|                      null|         2|\n",
       "|         gift| 10206519221|              2244|39.209216582035744|                 2370| 62122.52278481013|            a| 589149.8606977111|              1619|                   2662|  666766.406705429|                      2811|         1|\n",
       "+-------------+------------+------------------+------------------+---------------------+------------------+-------------+------------------+------------------+-----------------------+------------------+--------------------------+----------+\n",
       "only showing top 20 rows"
      ]
     },
     "execution_count": 7,
     "metadata": {},
     "output_type": "execute_result"
    }
   ],
   "source": [
    "full = full.join(tag_mean_sdf, [\"tag\"], how=\"left\") \n",
    "full"
   ]
  },
  {
   "cell_type": "code",
   "execution_count": 8,
   "metadata": {},
   "outputs": [],
   "source": [
    "# change tags into numeric feature by one hot encoding\n",
    "indexer = StringIndexer(inputCol=\"tag\", outputCol=\"tagIndex\")\n",
    "full = indexer.fit(full).transform(full)\n",
    "ohe = OneHotEncoder(inputCol=\"tagIndex\", outputCol=\"tagOHE\")\n",
    "full = ohe.fit(full).transform(full)"
   ]
  },
  {
   "cell_type": "code",
   "execution_count": 9,
   "metadata": {},
   "outputs": [
    {
     "data": {
      "image/png": "[encoded data removed]",
      "text/plain": [
       "<Figure size 640x480 with 1 Axes>"
      ]
     },
     "metadata": {},
     "output_type": "display_data"
    }
   ],
   "source": [
    "\n",
    "import matplotlib.pyplot as plt\n",
    "\n",
    "full_df = full.toPandas()\n",
    "sbs.set(style=\"ticks\", color_codes=True)\n",
    "fig = sbs.histplot(full_df[\"next_total_num_transaction\"])\n",
    "fig.set_xlim(0, 3000)\n",
    "plt.show()\n"
   ]
  },
  {
   "cell_type": "code",
   "execution_count": 10,
   "metadata": {},
   "outputs": [
    {
     "data": {
      "image/png": "[encoded data removed]",
      "text/plain": [
       "<Figure size 640x480 with 1 Axes>"
      ]
     },
     "metadata": {},
     "output_type": "display_data"
    }
   ],
   "source": [
    "log_value=np.log(full_df[\"next_total_num_transaction\"])\n",
    "sbs.set(style=\"ticks\", color_codes=True)\n",
    "fig = sbs.histplot(log_value)\n",
    "plt.show()\n"
   ]
  },
  {
   "cell_type": "code",
   "execution_count": 11,
   "metadata": {},
   "outputs": [],
   "source": [
    "transaction_df = full.drop('merchant_abn', 'avg_dollar_value', 'mean_income', 'revenue_level', 'total_revenue', 'total_num_postcode', 'tag_labels', 'next_total_revenue', 'next_total_num_consumer')"
   ]
  },
  {
   "cell_type": "code",
   "execution_count": 12,
   "metadata": {},
   "outputs": [
    {
     "name": "stdout",
     "output_type": "stream",
     "text": [
      "Correlation to next_total_num_transaction for  total_num_consumer 0.9244448335517905\n",
      "Correlation to next_total_num_transaction for  total_num_transaction 0.9998751179400183\n",
      "Correlation to next_total_num_transaction for  next_total_num_transaction 1.0\n",
      "Correlation to next_total_num_transaction for  tagIndex -0.09320240325517762\n"
     ]
    }
   ],
   "source": [
    "import six\n",
    "for i in transaction_df.columns[:-1]:\n",
    "    if not( isinstance(transaction_df.select(i).take(1)[0][0], six.string_types)):\n",
    "        print( \"Correlation to next_total_num_transaction for \", i, transaction_df.stat.corr('next_total_num_transaction',i))"
   ]
  },
  {
   "cell_type": "code",
   "execution_count": 13,
   "metadata": {},
   "outputs": [
    {
     "data": {
      "text/html": [
       "<table border='1'>\n",
       "<tr><th>features</th><th>next_total_num_transaction</th></tr>\n",
       "<tr><td>[8.0,8.0]</td><td>null</td></tr>\n",
       "<tr><td>[12.0,12.0]</td><td>1</td></tr>\n",
       "<tr><td>[1.0,1.0]</td><td>null</td></tr>\n",
       "<tr><td>[2.0,2.0]</td><td>null</td></tr>\n",
       "<tr><td>[1.0,1.0]</td><td>null</td></tr>\n",
       "<tr><td>[33.0,33.0]</td><td>3</td></tr>\n",
       "<tr><td>[29.0,29.0]</td><td>null</td></tr>\n",
       "<tr><td>[3.0,3.0]</td><td>null</td></tr>\n",
       "<tr><td>[1.0,1.0]</td><td>null</td></tr>\n",
       "<tr><td>[1.0,1.0]</td><td>null</td></tr>\n",
       "<tr><td>[108.0,108.0]</td><td>10</td></tr>\n",
       "<tr><td>[5.0,5.0]</td><td>1</td></tr>\n",
       "<tr><td>[3.0,3.0]</td><td>null</td></tr>\n",
       "<tr><td>[17.0,17.0]</td><td>1</td></tr>\n",
       "<tr><td>[25.0,25.0]</td><td>3</td></tr>\n",
       "<tr><td>[16.0,16.0]</td><td>1</td></tr>\n",
       "<tr><td>[1.0,1.0]</td><td>null</td></tr>\n",
       "<tr><td>[1.0,1.0]</td><td>null</td></tr>\n",
       "<tr><td>[8.0,8.0]</td><td>null</td></tr>\n",
       "<tr><td>[22.0,22.0]</td><td>4</td></tr>\n",
       "</table>\n",
       "only showing top 20 rows\n"
      ],
      "text/plain": [
       "+-------------+--------------------------+\n",
       "|     features|next_total_num_transaction|\n",
       "+-------------+--------------------------+\n",
       "|    [8.0,8.0]|                      null|\n",
       "|  [12.0,12.0]|                         1|\n",
       "|    [1.0,1.0]|                      null|\n",
       "|    [2.0,2.0]|                      null|\n",
       "|    [1.0,1.0]|                      null|\n",
       "|  [33.0,33.0]|                         3|\n",
       "|  [29.0,29.0]|                      null|\n",
       "|    [3.0,3.0]|                      null|\n",
       "|    [1.0,1.0]|                      null|\n",
       "|    [1.0,1.0]|                      null|\n",
       "|[108.0,108.0]|                        10|\n",
       "|    [5.0,5.0]|                         1|\n",
       "|    [3.0,3.0]|                      null|\n",
       "|  [17.0,17.0]|                         1|\n",
       "|  [25.0,25.0]|                         3|\n",
       "|  [16.0,16.0]|                         1|\n",
       "|    [1.0,1.0]|                      null|\n",
       "|    [1.0,1.0]|                      null|\n",
       "|    [8.0,8.0]|                      null|\n",
       "|  [22.0,22.0]|                         4|\n",
       "+-------------+--------------------------+\n",
       "only showing top 20 rows"
      ]
     },
     "execution_count": 13,
     "metadata": {},
     "output_type": "execute_result"
    }
   ],
   "source": [
    "features = ['total_num_consumer', 'total_num_transaction']\n",
    "assembler = VectorAssembler(inputCols=features, outputCol='features')\n",
    "final_transaction_df = assembler.transform(transaction_df)\n",
    "final_transaction_df = final_transaction_df.select('features','next_total_num_transaction')\n",
    "final_transaction_df"
   ]
  },
  {
   "cell_type": "code",
   "execution_count": 14,
   "metadata": {},
   "outputs": [
    {
     "data": {
      "text/plain": [
       "(2646, 1134)"
      ]
     },
     "execution_count": 14,
     "metadata": {},
     "output_type": "execute_result"
    }
   ],
   "source": [
    "# missing values will not be included\n",
    "train_df, test_df = (final_transaction_df.drop('tag', 'tagIndex').filter(F.col('next_total_num_transaction').isNotNull())).randomSplit([0.7, 0.3])\n",
    "train_df.count(), test_df.count()"
   ]
  },
  {
   "cell_type": "markdown",
   "metadata": {},
   "source": [
    "#### Linear Regression"
   ]
  },
  {
   "cell_type": "code",
   "execution_count": 15,
   "metadata": {},
   "outputs": [
    {
     "name": "stdout",
     "output_type": "stream",
     "text": [
      "22/09/27 15:40:13 WARN InstanceBuilder$NativeBLAS: Failed to load implementation from:dev.ludovic.netlib.blas.JNIBLAS\n",
      "22/09/27 15:40:13 WARN InstanceBuilder$NativeBLAS: Failed to load implementation from:dev.ludovic.netlib.blas.ForeignLinkerBLAS\n"
     ]
    },
    {
     "data": {
      "text/plain": [
       "LinearRegressionModel: uid=LinearRegression_9e734dccb025, numFeatures=2"
      ]
     },
     "execution_count": 15,
     "metadata": {},
     "output_type": "execute_result"
    }
   ],
   "source": [
    "lr = LinearRegression(labelCol='next_total_num_transaction', maxIter=10, regParam=0.3, elasticNetParam=0.8)\n",
    "fitted_model = lr.fit(train_df)\n",
    "fitted_model.setFeaturesCol(\"features\")\n",
    "fitted_model.setPredictionCol(\"prediction\")"
   ]
  },
  {
   "cell_type": "code",
   "execution_count": 16,
   "metadata": {},
   "outputs": [
    {
     "name": "stdout",
     "output_type": "stream",
     "text": [
      "Coefficients: [-0.006087136442855128,1.2111219820819443]\n",
      "Intercept: -13.3325581904588\n"
     ]
    }
   ],
   "source": [
    "print(\"Coefficients: %s\" % str(fitted_model.coefficients))\n",
    "print(\"Intercept: %s\" % str(fitted_model.intercept))"
   ]
  },
  {
   "cell_type": "code",
   "execution_count": 17,
   "metadata": {},
   "outputs": [
    {
     "name": "stdout",
     "output_type": "stream",
     "text": [
      "numIterations: 10\n",
      "objectiveHistory: [0.5000000000000001, 0.3671917830174766, 0.1034877715514202, 0.014175804409476599, 0.010165647943693953, 0.00021824847175629133, 0.00019780701631382498, 0.00019608629080635978, 0.0001959484133032699, 0.00019589828370608094, 0.00019582027914477542]\n",
      "+------------------+\n",
      "|         residuals|\n",
      "+------------------+\n",
      "| 13.12752334481971|\n",
      "| 13.12752334481971|\n",
      "| 13.12752334481971|\n",
      "| 13.12752334481971|\n",
      "| 13.12752334481971|\n",
      "| 13.12752334481971|\n",
      "| 13.12752334481971|\n",
      "| 13.12752334481971|\n",
      "| 13.12752334481971|\n",
      "| 13.12752334481971|\n",
      "| 13.12752334481971|\n",
      "| 14.12752334481971|\n",
      "| 14.12752334481971|\n",
      "| 15.12752334481971|\n",
      "| 15.12752334481971|\n",
      "| 15.12752334481971|\n",
      "| 16.12752334481971|\n",
      "| 17.12752334481971|\n",
      "|11.922488499180622|\n",
      "|11.922488499180622|\n",
      "+------------------+\n",
      "only showing top 20 rows\n",
      "\n",
      "RMSE: 73.002726\n",
      "r2: 0.999730\n"
     ]
    }
   ],
   "source": [
    "trainingSummary = fitted_model.summary\n",
    "print(\"numIterations: %d\" % trainingSummary.totalIterations)\n",
    "print(\"objectiveHistory: %s\" % str(trainingSummary.objectiveHistory))\n",
    "trainingSummary.residuals.show()\n",
    "print(\"RMSE: %f\" % trainingSummary.rootMeanSquaredError)\n",
    "print(\"r2: %f\" % trainingSummary.r2)"
   ]
  },
  {
   "cell_type": "code",
   "execution_count": 18,
   "metadata": {},
   "outputs": [
    {
     "name": "stdout",
     "output_type": "stream",
     "text": [
      "+-------------------+--------------------------+---------+\n",
      "|         prediction|next_total_num_transaction| features|\n",
      "+-------------------+--------------------------+---------+\n",
      "| -12.12752334481971|                         1|[1.0,1.0]|\n",
      "| -12.12752334481971|                         1|[1.0,1.0]|\n",
      "| -12.12752334481971|                         1|[1.0,1.0]|\n",
      "| -12.12752334481971|                         1|[1.0,1.0]|\n",
      "| -12.12752334481971|                         4|[1.0,1.0]|\n",
      "|-10.922488499180622|                         1|[2.0,2.0]|\n",
      "|-10.922488499180622|                         1|[2.0,2.0]|\n",
      "|-10.922488499180622|                         2|[2.0,2.0]|\n",
      "|-10.922488499180622|                         3|[2.0,2.0]|\n",
      "|-10.922488499180622|                         3|[2.0,2.0]|\n",
      "+-------------------+--------------------------+---------+\n",
      "only showing top 10 rows\n",
      "\n",
      "R Squared (R2) on test data = 0.999803\n"
     ]
    }
   ],
   "source": [
    "lr_predictions = fitted_model.transform(test_df)\n",
    "lr_predictions.select(\"prediction\",\"next_total_num_transaction\",\"features\").show(10)\n",
    "lr_evaluator = RegressionEvaluator(predictionCol=\"prediction\", \\\n",
    "                 labelCol=\"next_total_num_transaction\",metricName=\"r2\")\n",
    "print(\"R Squared (R2) on test data = %g\" % lr_evaluator.evaluate(lr_predictions))"
   ]
  },
  {
   "cell_type": "markdown",
   "metadata": {},
   "source": [
    "#### deision tree"
   ]
  },
  {
   "cell_type": "code",
   "execution_count": 20,
   "metadata": {},
   "outputs": [
    {
     "name": "stdout",
     "output_type": "stream",
     "text": [
      "+++++++++++++++++++++++++++++++++++++++++++\n",
      "Using Categorical feature: ['total_num_consumer', 'total_num_transaction']\n",
      "mae:478.26458970811973\n",
      "r2: 0.440732119599042\n"
     ]
    }
   ],
   "source": [
    "dt = DecisionTreeRegressor(labelCol='next_total_num_transaction')\n",
    "model_dt = dt.fit(train_df)\n",
    "result_dt= model_dt.transform(test_df)\n",
    "dt_evaluator = RegressionEvaluator(labelCol='next_total_num_transaction', metricName=\"mae\", predictionCol='prediction')\n",
    "mae = dt_evaluator.evaluate(result_dt)\n",
    "dt_evaluator = RegressionEvaluator(labelCol='next_total_num_transaction', metricName=\"r2\", predictionCol='prediction')\n",
    "r2 = dt_evaluator.evaluate(result_dt)\n",
    "print('+++++++++++++++++++++++++++++++++++++++++++')\n",
    "print(f'Using Categorical feature: {features}')\n",
    "print('mae:{}'.format(mae))\n",
    "print('r2: {}'.format(r2))"
   ]
  },
  {
   "cell_type": "markdown",
   "metadata": {},
   "source": [
    "#### Random forest"
   ]
  },
  {
   "cell_type": "code",
   "execution_count": 21,
   "metadata": {},
   "outputs": [
    {
     "name": "stderr",
     "output_type": "stream",
     "text": [
      "WARNING: An illegal reflective access operation has occurred\n",
      "WARNING: Illegal reflective access by org.apache.spark.util.SizeEstimator$ (file:/home/celia/miniconda3/lib/python3.8/site-packages/pyspark/jars/spark-core_2.12-3.3.0.jar) to field java.nio.charset.Charset.name\n",
      "WARNING: Please consider reporting this to the maintainers of org.apache.spark.util.SizeEstimator$\n",
      "WARNING: Use --illegal-access=warn to enable warnings of further illegal reflective access operations\n",
      "WARNING: All illegal access operations will be denied in a future release\n"
     ]
    },
    {
     "name": "stdout",
     "output_type": "stream",
     "text": [
      "+++++++++++++++++++++++++++++++++++++++++++\n",
      "Using Categorical feature: ['total_num_consumer', 'total_num_transaction']\n",
      "mae:481.6055850066564\n",
      "r2: 0.4364590297748071\n"
     ]
    }
   ],
   "source": [
    "from pyspark.ml.regression import RandomForestRegressor\n",
    "from pyspark.ml.evaluation import RegressionEvaluator\n",
    "rf = RandomForestRegressor(numTrees = 10, maxDepth = 10, labelCol='next_total_num_transaction')\n",
    "model_rf = rf.fit(train_df)\n",
    "result_rf = model_rf.transform(test_df)\n",
    "rf_evaluator = RegressionEvaluator(labelCol='next_total_num_transaction', metricName=\"mae\", predictionCol='prediction')\n",
    "mae = rf_evaluator.evaluate(result_rf)\n",
    "rf_evaluator = RegressionEvaluator(labelCol='next_total_num_transaction', metricName=\"r2\", predictionCol='prediction')\n",
    "r2 = rf_evaluator.evaluate(result_rf)\n",
    "print('+++++++++++++++++++++++++++++++++++++++++++')\n",
    "print(f'Using Categorical feature: {features}')\n",
    "print('mae:{}'.format(mae))\n",
    "print('r2: {}'.format(r2))\n"
   ]
  },
  {
   "cell_type": "markdown",
   "metadata": {},
   "source": [
    "#### GBTRegressor"
   ]
  },
  {
   "cell_type": "code",
   "execution_count": 22,
   "metadata": {},
   "outputs": [
    {
     "name": "stdout",
     "output_type": "stream",
     "text": [
      "+++++++++++++++++++++++++++++++++++++++++++\n",
      "Using Categorical feature: ['total_num_consumer', 'total_num_transaction']\n",
      "mae:469.20339753850516\n",
      "r2: 0.4407583896723165\n"
     ]
    }
   ],
   "source": [
    "from pyspark.ml.regression import GBTRegressor\n",
    "gbt = GBTRegressor(featuresCol = 'features', labelCol = 'next_total_num_transaction', maxIter=10)\n",
    "model_gbt = gbt.fit(train_df)\n",
    "result_gbt= model_gbt.transform(test_df)\n",
    "gbt_evaluator = RegressionEvaluator(labelCol='next_total_num_transaction', metricName=\"mae\", predictionCol='prediction')\n",
    "mae = gbt_evaluator.evaluate(result_gbt)\n",
    "gbt_evaluator = RegressionEvaluator(labelCol='next_total_num_transaction', metricName=\"r2\", predictionCol='prediction')\n",
    "r2 = gbt_evaluator.evaluate(result_gbt)\n",
    "print('+++++++++++++++++++++++++++++++++++++++++++')\n",
    "print(f'Using Categorical feature: {features}')\n",
    "print('mae:{}'.format(mae))\n",
    "print('r2: {}'.format(r2))"
   ]
  },
  {
   "cell_type": "markdown",
   "metadata": {},
   "source": [
    "### Neural Network"
   ]
  },
  {
   "cell_type": "code",
   "execution_count": 23,
   "metadata": {},
   "outputs": [],
   "source": [
    "from sklearn.neural_network import MLPRegressor\n",
    "from sklearn.model_selection import train_test_split\n",
    "from sklearn.preprocessing import StandardScaler\n",
    "import sklearn.metrics as metrics\n",
    "from sklearn.model_selection import GridSearchCV"
   ]
  },
  {
   "cell_type": "code",
   "execution_count": 24,
   "metadata": {},
   "outputs": [
    {
     "data": {
      "text/html": [
       "<div>\n",
       "<style scoped>\n",
       "    .dataframe tbody tr th:only-of-type {\n",
       "        vertical-align: middle;\n",
       "    }\n",
       "\n",
       "    .dataframe tbody tr th {\n",
       "        vertical-align: top;\n",
       "    }\n",
       "\n",
       "    .dataframe thead th {\n",
       "        text-align: right;\n",
       "    }\n",
       "</style>\n",
       "<table border=\"1\" class=\"dataframe\">\n",
       "  <thead>\n",
       "    <tr style=\"text-align: right;\">\n",
       "      <th></th>\n",
       "      <th>tag</th>\n",
       "      <th>total_num_consumer</th>\n",
       "      <th>total_num_transaction</th>\n",
       "      <th>next_total_num_transaction</th>\n",
       "      <th>tagIndex</th>\n",
       "      <th>tagOHE</th>\n",
       "    </tr>\n",
       "  </thead>\n",
       "  <tbody>\n",
       "    <tr>\n",
       "      <th>1</th>\n",
       "      <td>jewelry</td>\n",
       "      <td>12</td>\n",
       "      <td>12</td>\n",
       "      <td>1.0</td>\n",
       "      <td>23.0</td>\n",
       "      <td>(0.0, 0.0, 0.0, 0.0, 0.0, 0.0, 0.0, 0.0, 0.0, ...</td>\n",
       "    </tr>\n",
       "    <tr>\n",
       "      <th>5</th>\n",
       "      <td>jewelry</td>\n",
       "      <td>33</td>\n",
       "      <td>33</td>\n",
       "      <td>3.0</td>\n",
       "      <td>23.0</td>\n",
       "      <td>(0.0, 0.0, 0.0, 0.0, 0.0, 0.0, 0.0, 0.0, 0.0, ...</td>\n",
       "    </tr>\n",
       "    <tr>\n",
       "      <th>10</th>\n",
       "      <td>jewelry</td>\n",
       "      <td>108</td>\n",
       "      <td>108</td>\n",
       "      <td>10.0</td>\n",
       "      <td>23.0</td>\n",
       "      <td>(0.0, 0.0, 0.0, 0.0, 0.0, 0.0, 0.0, 0.0, 0.0, ...</td>\n",
       "    </tr>\n",
       "    <tr>\n",
       "      <th>11</th>\n",
       "      <td>jewelry</td>\n",
       "      <td>5</td>\n",
       "      <td>5</td>\n",
       "      <td>1.0</td>\n",
       "      <td>23.0</td>\n",
       "      <td>(0.0, 0.0, 0.0, 0.0, 0.0, 0.0, 0.0, 0.0, 0.0, ...</td>\n",
       "    </tr>\n",
       "    <tr>\n",
       "      <th>13</th>\n",
       "      <td>jewelry</td>\n",
       "      <td>17</td>\n",
       "      <td>17</td>\n",
       "      <td>1.0</td>\n",
       "      <td>23.0</td>\n",
       "      <td>(0.0, 0.0, 0.0, 0.0, 0.0, 0.0, 0.0, 0.0, 0.0, ...</td>\n",
       "    </tr>\n",
       "    <tr>\n",
       "      <th>...</th>\n",
       "      <td>...</td>\n",
       "      <td>...</td>\n",
       "      <td>...</td>\n",
       "      <td>...</td>\n",
       "      <td>...</td>\n",
       "      <td>...</td>\n",
       "    </tr>\n",
       "    <tr>\n",
       "      <th>3948</th>\n",
       "      <td>bicycle</td>\n",
       "      <td>236</td>\n",
       "      <td>238</td>\n",
       "      <td>119.0</td>\n",
       "      <td>10.0</td>\n",
       "      <td>(0.0, 0.0, 0.0, 0.0, 0.0, 0.0, 0.0, 0.0, 0.0, ...</td>\n",
       "    </tr>\n",
       "    <tr>\n",
       "      <th>3949</th>\n",
       "      <td>bicycle</td>\n",
       "      <td>25</td>\n",
       "      <td>25</td>\n",
       "      <td>16.0</td>\n",
       "      <td>10.0</td>\n",
       "      <td>(0.0, 0.0, 0.0, 0.0, 0.0, 0.0, 0.0, 0.0, 0.0, ...</td>\n",
       "    </tr>\n",
       "    <tr>\n",
       "      <th>3950</th>\n",
       "      <td>bicycle</td>\n",
       "      <td>44</td>\n",
       "      <td>44</td>\n",
       "      <td>28.0</td>\n",
       "      <td>10.0</td>\n",
       "      <td>(0.0, 0.0, 0.0, 0.0, 0.0, 0.0, 0.0, 0.0, 0.0, ...</td>\n",
       "    </tr>\n",
       "    <tr>\n",
       "      <th>3951</th>\n",
       "      <td>bicycle</td>\n",
       "      <td>8</td>\n",
       "      <td>8</td>\n",
       "      <td>3.0</td>\n",
       "      <td>10.0</td>\n",
       "      <td>(0.0, 0.0, 0.0, 0.0, 0.0, 0.0, 0.0, 0.0, 0.0, ...</td>\n",
       "    </tr>\n",
       "    <tr>\n",
       "      <th>3952</th>\n",
       "      <td>bicycle</td>\n",
       "      <td>8</td>\n",
       "      <td>8</td>\n",
       "      <td>12.0</td>\n",
       "      <td>10.0</td>\n",
       "      <td>(0.0, 0.0, 0.0, 0.0, 0.0, 0.0, 0.0, 0.0, 0.0, ...</td>\n",
       "    </tr>\n",
       "  </tbody>\n",
       "</table>\n",
       "<p>3780 rows × 6 columns</p>\n",
       "</div>"
      ],
      "text/plain": [
       "          tag  total_num_consumer  total_num_transaction  \\\n",
       "1     jewelry                  12                     12   \n",
       "5     jewelry                  33                     33   \n",
       "10    jewelry                 108                    108   \n",
       "11    jewelry                   5                      5   \n",
       "13    jewelry                  17                     17   \n",
       "...       ...                 ...                    ...   \n",
       "3948  bicycle                 236                    238   \n",
       "3949  bicycle                  25                     25   \n",
       "3950  bicycle                  44                     44   \n",
       "3951  bicycle                   8                      8   \n",
       "3952  bicycle                   8                      8   \n",
       "\n",
       "      next_total_num_transaction  tagIndex  \\\n",
       "1                            1.0      23.0   \n",
       "5                            3.0      23.0   \n",
       "10                          10.0      23.0   \n",
       "11                           1.0      23.0   \n",
       "13                           1.0      23.0   \n",
       "...                          ...       ...   \n",
       "3948                       119.0      10.0   \n",
       "3949                        16.0      10.0   \n",
       "3950                        28.0      10.0   \n",
       "3951                         3.0      10.0   \n",
       "3952                        12.0      10.0   \n",
       "\n",
       "                                                 tagOHE  \n",
       "1     (0.0, 0.0, 0.0, 0.0, 0.0, 0.0, 0.0, 0.0, 0.0, ...  \n",
       "5     (0.0, 0.0, 0.0, 0.0, 0.0, 0.0, 0.0, 0.0, 0.0, ...  \n",
       "10    (0.0, 0.0, 0.0, 0.0, 0.0, 0.0, 0.0, 0.0, 0.0, ...  \n",
       "11    (0.0, 0.0, 0.0, 0.0, 0.0, 0.0, 0.0, 0.0, 0.0, ...  \n",
       "13    (0.0, 0.0, 0.0, 0.0, 0.0, 0.0, 0.0, 0.0, 0.0, ...  \n",
       "...                                                 ...  \n",
       "3948  (0.0, 0.0, 0.0, 0.0, 0.0, 0.0, 0.0, 0.0, 0.0, ...  \n",
       "3949  (0.0, 0.0, 0.0, 0.0, 0.0, 0.0, 0.0, 0.0, 0.0, ...  \n",
       "3950  (0.0, 0.0, 0.0, 0.0, 0.0, 0.0, 0.0, 0.0, 0.0, ...  \n",
       "3951  (0.0, 0.0, 0.0, 0.0, 0.0, 0.0, 0.0, 0.0, 0.0, ...  \n",
       "3952  (0.0, 0.0, 0.0, 0.0, 0.0, 0.0, 0.0, 0.0, 0.0, ...  \n",
       "\n",
       "[3780 rows x 6 columns]"
      ]
     },
     "execution_count": 24,
     "metadata": {},
     "output_type": "execute_result"
    }
   ],
   "source": [
    "transaction_pd = transaction_df.toPandas().dropna()\n",
    "transaction_pd"
   ]
  },
  {
   "cell_type": "code",
   "execution_count": 25,
   "metadata": {},
   "outputs": [],
   "source": [
    "features_pd = ['total_num_consumer', 'total_num_transaction']\n",
    "X = transaction_pd[features_pd]\n",
    "y = transaction_pd['next_total_num_transaction'].to_numpy()"
   ]
  },
  {
   "cell_type": "code",
   "execution_count": 26,
   "metadata": {},
   "outputs": [],
   "source": [
    "X_train, X_test, y_train, y_test = train_test_split(X, y,random_state=30034, test_size=0.3)"
   ]
  },
  {
   "cell_type": "code",
   "execution_count": 27,
   "metadata": {},
   "outputs": [
    {
     "data": {
      "text/plain": [
       "((2646, 2), (1134, 2))"
      ]
     },
     "execution_count": 27,
     "metadata": {},
     "output_type": "execute_result"
    }
   ],
   "source": [
    "# scale train and test dataset in order to be standard normally distributed with zero mean\n",
    "sc_X = StandardScaler()\n",
    "X_trainscaled=sc_X.fit_transform(X_train)\n",
    "X_testscaled=sc_X.transform(X_test)\n",
    "X_trainscaled.shape, X_testscaled.shape"
   ]
  },
  {
   "cell_type": "code",
   "execution_count": 28,
   "metadata": {},
   "outputs": [
    {
     "name": "stdout",
     "output_type": "stream",
     "text": [
      "The Score with  0.9996046081852894\n"
     ]
    }
   ],
   "source": [
    "mlp_reg = MLPRegressor(hidden_layer_sizes=(128,128,128, 128),activation=\"relu\" ,solver = 'adam', random_state=30034, max_iter=20000)\\\n",
    "    .fit(X_trainscaled, y_train)\n",
    "y_pred=mlp_reg.predict(X_testscaled)\n",
    "print(\"The Score with \", (metrics.r2_score(y_pred, y_test)))"
   ]
  },
  {
   "cell_type": "code",
   "execution_count": 29,
   "metadata": {},
   "outputs": [
    {
     "data": {
      "text/html": [
       "<div>\n",
       "<style scoped>\n",
       "    .dataframe tbody tr th:only-of-type {\n",
       "        vertical-align: middle;\n",
       "    }\n",
       "\n",
       "    .dataframe tbody tr th {\n",
       "        vertical-align: top;\n",
       "    }\n",
       "\n",
       "    .dataframe thead th {\n",
       "        text-align: right;\n",
       "    }\n",
       "</style>\n",
       "<table border=\"1\" class=\"dataframe\">\n",
       "  <thead>\n",
       "    <tr style=\"text-align: right;\">\n",
       "      <th></th>\n",
       "      <th>Actual</th>\n",
       "      <th>Predicted</th>\n",
       "    </tr>\n",
       "  </thead>\n",
       "  <tbody>\n",
       "    <tr>\n",
       "      <th>0</th>\n",
       "      <td>340.0</td>\n",
       "      <td>278.264425</td>\n",
       "    </tr>\n",
       "    <tr>\n",
       "      <th>1</th>\n",
       "      <td>121.0</td>\n",
       "      <td>118.378325</td>\n",
       "    </tr>\n",
       "    <tr>\n",
       "      <th>2</th>\n",
       "      <td>773.0</td>\n",
       "      <td>814.673399</td>\n",
       "    </tr>\n",
       "    <tr>\n",
       "      <th>3</th>\n",
       "      <td>24.0</td>\n",
       "      <td>23.664425</td>\n",
       "    </tr>\n",
       "    <tr>\n",
       "      <th>4</th>\n",
       "      <td>3113.0</td>\n",
       "      <td>3070.254108</td>\n",
       "    </tr>\n",
       "  </tbody>\n",
       "</table>\n",
       "</div>"
      ],
      "text/plain": [
       "   Actual    Predicted\n",
       "0   340.0   278.264425\n",
       "1   121.0   118.378325\n",
       "2   773.0   814.673399\n",
       "3    24.0    23.664425\n",
       "4  3113.0  3070.254108"
      ]
     },
     "execution_count": 29,
     "metadata": {},
     "output_type": "execute_result"
    }
   ],
   "source": [
    "df_result = pd.DataFrame({'Actual': y_test, 'Predicted': y_pred})\n",
    "df_result.head()"
   ]
  },
  {
   "cell_type": "code",
   "execution_count": 30,
   "metadata": {},
   "outputs": [
    {
     "name": "stdout",
     "output_type": "stream",
     "text": [
      "Mean Absolute Error: 33.74338813344207\n",
      "Mean Squared Error: 4414.489924813887\n",
      "Root Mean Squared Error: 66.44162795126175\n"
     ]
    }
   ],
   "source": [
    "print('Mean Absolute Error:', metrics.mean_absolute_error(y_test, y_pred))  \n",
    "print('Mean Squared Error:', metrics.mean_squared_error(y_test, y_pred))  \n",
    "print('Root Mean Squared Error:', np.sqrt(metrics.mean_squared_error(y_test, y_pred)))"
   ]
  }
 ],
 "metadata": {
  "kernelspec": {
   "display_name": "Python 3.8.13 ('base')",
   "language": "python",
   "name": "python3"
  },
  "language_info": {
   "codemirror_mode": {
    "name": "ipython",
    "version": 3
   },
   "file_extension": ".py",
   "mimetype": "text/x-python",
   "name": "python",
   "nbconvert_exporter": "python",
   "pygments_lexer": "ipython3",
   "version": "3.8.13"
  },
  "orig_nbformat": 4,
  "vscode": {
   "interpreter": {
    "hash": "728d3f405bc78f7f5770375e10a880977dd7a3cde6a30287efbf2ad167eaec80"
   }
  }
 },
 "nbformat": 4,
 "nbformat_minor": 2
}
